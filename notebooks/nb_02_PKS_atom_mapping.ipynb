{
 "cells": [
  {
   "cell_type": "markdown",
   "id": "95fedac7-2a07-48dc-9d8b-76e8f292f8b0",
   "metadata": {},
   "source": "In the previous notebook, we explored the basics of the `bcs` package which eventually, `retrotide` will call upon to build a chimeric PKS given a target molecule. Since PKSs tend to produce large, structurally complex molecules in an assembly-line fashion, it can often be quite helpful to track the actions of individual domains and modules as well as to connect the addition or transformation of specific carbons in a PKS substrate to specific modules."
  },
  {
   "cell_type": "code",
   "id": "77b88919-405d-4b28-94d5-fa096c2c36d4",
   "metadata": {
    "ExecuteTime": {
     "end_time": "2025-03-25T17:28:39.455718Z",
     "start_time": "2025-03-25T17:28:38.527579Z"
    }
   },
   "source": "from retrotide import retrotide, structureDB",
   "outputs": [
    {
     "name": "stdout",
     "output_type": "stream",
     "text": [
      "\n",
      "\n",
      "\n",
      "\n",
      "\n",
      "\n",
      "\n",
      "\n",
      "\n",
      "\n",
      "\n",
      "\n",
      "\n",
      "\n",
      "\n",
      "\n",
      "\n",
      "\n",
      "\n",
      "\n",
      "\n",
      "\n",
      "\n",
      "\n",
      "\n",
      "\n",
      "\n",
      "\n",
      "\n",
      "\n",
      "\n",
      "\n",
      "\n",
      "\n",
      "\n",
      "\n",
      "\n",
      "\n",
      "\n",
      "\n",
      "\n",
      "\n",
      "\n",
      "\n",
      "\n",
      "\n",
      "\n",
      "\n",
      "\n",
      "\n",
      "\n",
      "\n",
      "\n",
      "\n",
      "\n",
      "\n",
      "\n",
      "\n",
      "\n",
      "\n",
      "\n",
      "\n",
      "\n",
      "\n",
      "\n",
      "\n",
      "\n",
      "\n",
      "\n",
      "\n",
      "\n",
      "\n",
      "\n",
      "\n",
      "\n",
      "\n",
      "\n",
      "\n",
      "\n",
      "\n",
      "\n",
      "\n",
      "\n",
      "\n",
      "\n",
      "\n",
      "\n",
      "\n",
      "\n",
      "\n",
      "\n",
      "\n",
      "\n",
      "\n",
      "\n",
      "\n",
      "\n",
      "\n",
      "\n",
      "\n",
      "\n",
      "\n",
      "\n",
      "\n",
      "\n",
      "\n",
      "\n",
      "\n",
      "\n",
      "\n",
      "\n",
      "\n",
      "\n",
      "\n",
      "\n",
      "\n",
      "\n",
      "\n",
      "\n",
      "\n",
      "\n",
      "\n",
      "\n",
      "\n",
      "\n",
      "\n",
      "\n",
      "\n",
      "\n",
      "\n",
      "\n",
      "\n",
      "\n",
      "\n",
      "\n",
      "\n",
      "\n",
      "\n",
      "\n",
      "\n",
      "\n",
      "\n",
      "\n",
      "\n",
      "\n",
      "\n",
      "\n",
      "\n",
      "\n",
      "\n",
      "\n",
      "\n",
      "\n",
      "\n",
      "\n",
      "\n",
      "\n",
      "\n",
      "\n",
      "\n",
      "\n",
      "\n",
      "\n",
      "\n",
      "\n",
      "\n",
      "\n",
      "\n",
      "\n",
      "\n",
      "\n",
      "\n",
      "\n",
      "\n",
      "\n",
      "\n",
      "\n",
      "\n",
      "\n",
      "\n",
      "\n",
      "\n",
      "\n",
      "\n",
      "\n",
      "\n",
      "\n",
      "\n",
      "\n",
      "\n",
      "\n",
      "\n",
      "\n",
      "\n",
      "\n",
      "\n",
      "\n",
      "\n",
      "\n",
      "\n",
      "\n",
      "\n",
      "\n",
      "\n",
      "\n",
      "\n",
      "\n",
      "\n",
      "\n",
      "\n",
      "\n",
      "\n",
      "\n",
      "\n",
      "\n",
      "\n",
      "\n",
      "\n",
      "\n",
      "\n",
      "\n",
      "\n",
      "\n",
      "\n",
      "\n",
      "\n",
      "\n",
      "\n",
      "\n",
      "\n",
      "\n",
      "\n",
      "\n",
      "\n",
      "\n",
      "\n",
      "\n",
      "\n",
      "\n",
      "\n",
      "\n",
      "\n",
      "\n",
      "\n",
      "\n",
      "\n",
      "\n",
      "\n",
      "\n",
      "\n",
      "\n",
      "\n",
      "\n",
      "\n",
      "\n",
      "\n",
      "\n",
      "\n",
      "\n",
      "\n",
      "\n",
      "\n",
      "\n",
      "\n",
      "\n",
      "\n",
      "\n",
      "\n",
      "\n",
      "\n",
      "\n",
      "\n",
      "\n",
      "\n",
      "\n",
      "\n",
      "\n",
      "\n",
      "\n",
      "\n",
      "\n",
      "\n",
      "\n",
      "\n",
      "\n",
      "\n",
      "\n",
      "\n",
      "\n",
      "\n",
      "\n",
      "\n",
      "\n",
      "\n",
      "\n",
      "\n",
      "\n",
      "\n",
      "\n",
      "\n",
      "\n",
      "\n",
      "\n",
      "\n",
      "\n",
      "\n",
      "\n",
      "\n",
      "\n",
      "\n",
      "\n",
      "\n",
      "\n",
      "\n",
      "\n",
      "\n",
      "\n",
      "\n",
      "\n",
      "\n",
      "[\"AT{'substrate': 'DCP'}\", \"KR{'type': 'A2'}\", 'loading: False']\n",
      "[\"AT{'substrate': 'mxmal'}\", \"KR{'type': 'A1'}\", 'loading: False']\n",
      "[\"AT{'substrate': 'hexmal'}\", \"KR{'type': 'C1'}\", 'loading: False']\n",
      "[\"AT{'substrate': 'hmal'}\", \"KR{'type': 'B1'}\", 'DH{}', 'ER{}', 'loading: False']\n",
      "[\"AT{'substrate': 'isobutmal'}\", 'loading: False']\n",
      "[\"AT{'substrate': 'emal'}\", \"KR{'type': 'C1'}\", 'loading: False']\n",
      "[\"AT{'substrate': 'D-isobutmal'}\", \"KR{'type': 'B1'}\", 'DH{}', 'loading: False']\n",
      "[\"AT{'substrate': 'mxmal'}\", \"KR{'type': 'B1'}\", 'DH{}', 'loading: False']\n",
      "[\"AT{'substrate': 'Methylmalonyl-CoA'}\", \"KR{'type': 'B1'}\", 'DH{}', 'ER{}', 'loading: False']\n",
      "[\"AT{'substrate': 'butmal'}\", 'loading: False']\n",
      "[\"AT{'substrate': 'isobutmal'}\", \"KR{'type': 'A1'}\", 'loading: False']\n"
     ]
    },
    {
     "name": "stderr",
     "output_type": "stream",
     "text": [
      "[12:28:39] product atom-mapping number 10 not found in reactants.\n",
      "[12:28:39] product atom-mapping number 10 not found in reactants.\n",
      "[12:28:39] product atom-mapping number 10 not found in reactants.\n",
      "[12:28:39] product atom-mapping number 10 not found in reactants.\n",
      "[12:28:39] product atom-mapping number 10 not found in reactants.\n",
      "[12:28:39] product atom-mapping number 10 not found in reactants.\n",
      "[12:28:39] product atom-mapping number 10 not found in reactants.\n",
      "[12:28:39] product atom-mapping number 10 not found in reactants.\n",
      "[12:28:39] product atom-mapping number 10 not found in reactants.\n",
      "[12:28:39] product atom-mapping number 10 not found in reactants.\n",
      "[12:28:39] product atom-mapping number 10 not found in reactants.\n"
     ]
    }
   ],
   "execution_count": 1
  },
  {
   "cell_type": "code",
   "id": "6f98e1fb-90e7-49d8-aea2-687ff6c8ca91",
   "metadata": {
    "ExecuteTime": {
     "end_time": "2025-03-25T17:28:39.642474Z",
     "start_time": "2025-03-25T17:28:39.635163Z"
    }
   },
   "source": "import bcs",
   "outputs": [],
   "execution_count": 2
  },
  {
   "cell_type": "code",
   "id": "846e4a6a-4cb1-4661-b5cf-6efd7310ebc6",
   "metadata": {
    "ExecuteTime": {
     "end_time": "2025-03-25T17:29:07.770927Z",
     "start_time": "2025-03-25T17:29:07.765644Z"
    }
   },
   "source": [
    "from rdkit import Chem\n",
    "from rdkit.Chem import AllChem, rdFMCS, rdmolops\n",
    "from typing import Tuple\n",
    "from collections import OrderedDict"
   ],
   "outputs": [],
   "execution_count": 3
  },
  {
   "metadata": {},
   "cell_type": "markdown",
   "source": "### Attempting to atom-map PKS products generated from a single loading module",
   "id": "d61f5a197acecb21"
  },
  {
   "metadata": {},
   "cell_type": "markdown",
   "source": [
    "Trying to atom-map PKS products and pinpoint the carbon atoms added as well as transformed by each module can be tricky because PKS chains grow from the bottom to the top. This simply means that when a downstream AT domain picks up an extender unit, typically an acyl-CoA substrate, and the downstream KS adds this extender unit to the PKS substrate bound to the previous module's KS domain, the PKS substrate gets shifted downward. This direction of chain growth introduces the unique problem of aligning the PKS product generated by each module to the carbon atoms added by the loading module. Figure 1 in the following paper provides an excellent illustration of this problem by color-coding the carbons added by each module of the erythromycin-producing PKS: https://doi.org/10.1007/s10295-005-0038-3.\n",
    "\n",
    "Here, in order to align PKS products to the carbon atom that is farthest from the main PKS assembly (i.e., the first carbon atom within the loading module's product), we start by tracking all atoms in any PKS product with RDKit's internal atom indices. Subsequently, we write a function to select the carbon atom that is farthest from the sulfur radical within a given PKS product. Since the sulfur radical acts as a placeholder for the bond to the ACP domain, we want to align PKS products by selecting the carbon atom that is as far from the ACP domain as possible."
   ],
   "id": "c3307cad28f72752"
  },
  {
   "metadata": {
    "ExecuteTime": {
     "end_time": "2025-02-03T18:22:55.126457Z",
     "start_time": "2025-02-03T18:22:55.120621Z"
    }
   },
   "cell_type": "code",
   "source": [
    "loading_AT_domain = bcs.AT(active = True, substrate = \"Hydroxymalonyl-CoA\")\n",
    "LM_domains_dict = OrderedDict({bcs.AT: loading_AT_domain})\n",
    "loading_module = bcs.Module(domains = LM_domains_dict, loading = True)\n",
    "\n",
    "mod1_AT_domain = bcs.AT(active = True, substrate = \"Methylmalonyl-CoA\")\n",
    "mod1_domains_dict = OrderedDict({bcs.AT: mod1_AT_domain})\n",
    "module1 = bcs.Module(domains = mod1_domains_dict, loading = False)\n",
    "\n",
    "mod2_AT_domain = bcs.AT(active = True, substrate = \"Malonyl-CoA\")\n",
    "mod2_domains_dict = OrderedDict({bcs.AT: mod2_AT_domain})\n",
    "module2 = bcs.Module(domains = mod2_domains_dict, loading = False)\n",
    "\n",
    "cluster  = bcs.Cluster(modules = [loading_module, module1, module2])"
   ],
   "id": "d756309162a612e5",
   "outputs": [],
   "execution_count": 13
  },
  {
   "metadata": {
    "ExecuteTime": {
     "end_time": "2025-02-03T18:22:56.753056Z",
     "start_time": "2025-02-03T18:22:56.614020Z"
    }
   },
   "cell_type": "code",
   "source": [
    "PKS_product = cluster.computeProduct(structureDB)\n",
    "PKS_product"
   ],
   "id": "801aca28f9ba269c",
   "outputs": [
    {
     "data": {
      "text/plain": [
       "<rdkit.Chem.rdchem.Mol at 0x7f88b22f4350>"
      ],
      "image/png": "[encoded data removed]"
     },
     "execution_count": 14,
     "metadata": {},
     "output_type": "execute_result"
    }
   ],
   "execution_count": 14
  },
  {
   "metadata": {
    "ExecuteTime": {
     "end_time": "2025-02-03T18:22:58.050879Z",
     "start_time": "2025-02-03T18:22:58.036119Z"
    }
   },
   "cell_type": "code",
   "source": [
    "for atom in PKS_product.GetAtoms():\n",
    "    atom.SetProp(\"atomLabel\", str(atom.GetIdx()))\n",
    "    \n",
    "PKS_product"
   ],
   "id": "5d53e6e1a02c782c",
   "outputs": [
    {
     "data": {
      "text/plain": [
       "<rdkit.Chem.rdchem.Mol at 0x7f88b22f4350>"
      ],
      "image/png": "[encoded data removed]"
     },
     "execution_count": 15,
     "metadata": {},
     "output_type": "execute_result"
    }
   ],
   "execution_count": 15
  },
  {
   "metadata": {
    "ExecuteTime": {
     "end_time": "2025-02-03T18:22:59.592748Z",
     "start_time": "2025-02-03T18:22:59.576257Z"
    }
   },
   "cell_type": "code",
   "source": [
    "def find_farthest_carbon_from_sulfur(PKS_product: Chem.Mol) -> Tuple[int, int]:\n",
    "    \"\"\"\n",
    "    Takes a PKS product and finds the carbon atom farthest from the sulfur radical, which is a placeholder for bond to ACP protein domain.\n",
    "    \n",
    "    Args:\n",
    "        PKS_product(rdChem.Mol): a mol object representing the PKS product.\n",
    "    Returns:\n",
    "        Tuple[int, int]: the index of the carbon atom farthest from the PKS product as well as the corresponding bond distance\n",
    "    \"\"\"\n",
    "    # first, we identify the sulfur atom in the PKS product\n",
    "    sulfur_idx = None\n",
    "    for atom in PKS_product.GetAtoms():\n",
    "        if atom.GetSymbol() == \"S\":\n",
    "            sulfur_idx = atom.GetIdx()\n",
    "            break\n",
    "    \n",
    "    if sulfur_idx is None:\n",
    "        raise ValueError(\"No sulfur atom found in the molecule.\")\n",
    "    \n",
    "    # then, grab the atom indices of all carbon atoms in this PKS substrate\n",
    "    carbon_indices = [atom.GetIdx() for atom in PKS_product.GetAtoms() if atom.GetSymbol() == \"C\"]\n",
    "    \n",
    "    if not carbon_indices:\n",
    "        raise ValueError(\"No carbon atoms found in the molecule.\")\n",
    "    \n",
    "    # compute the shortest path distances from sulfur\n",
    "    distances = rdmolops.GetDistanceMatrix(PKS_product)\n",
    "    \n",
    "    # find the farthest carbon atom\n",
    "    farthest_carbon_idx = max(carbon_indices, key = lambda idx: distances[sulfur_idx, idx])\n",
    "    farthest_distance = distances[sulfur_idx, farthest_carbon_idx]\n",
    "    \n",
    "    return farthest_carbon_idx, farthest_distance"
   ],
   "id": "e68c6366c35f2dbd",
   "outputs": [],
   "execution_count": 16
  },
  {
   "metadata": {
    "ExecuteTime": {
     "end_time": "2025-02-03T18:23:00.810705Z",
     "start_time": "2025-02-03T18:23:00.799150Z"
    }
   },
   "cell_type": "code",
   "source": [
    "farthest_carbon_idx, farthest_distance = find_farthest_carbon_from_sulfur(PKS_product)\n",
    "print(f\"Farthest carbon atom index: {farthest_carbon_idx}, Distance: {farthest_distance}\")"
   ],
   "id": "d5feb1ce44968b5f",
   "outputs": [
    {
     "name": "stdout",
     "output_type": "stream",
     "text": [
      "Farthest carbon atom index: 5, Distance: 6.0\n"
     ]
    }
   ],
   "execution_count": 17
  },
  {
   "metadata": {},
   "cell_type": "markdown",
   "source": [
    "Feel free to try additional chimeric PKS designs above by varying either the number of extension modules, the domain architecture within each extension module, the identity of the starter unit, or the identity of the extender unit/s to convince yourself that our function `find_farthest_carbon_from_sulfur` is able to successfully identify the atom index of the carbon atom that is farthest from the sulfur radical (i.e., the ACP domain). RDKit's function `rdmolops.GetDistanceMatrix` plays a crucial role in helping to identify this carbon atom by generating a matrix of bond distances between each constituent atom within a `Chem.Mol` object.\n",
    "\n",
    "Our next step in the process of aligning PKS product molecules with each other is now going to be to replace one of the hydrogens on the carbon atom identified to be farthest from the sulfur radical with a fluorine. This newly attached fluorine atom will then be replaced again with a massive -CoA group but this intermediate step of attaching the fluorine atom first helps us distinguish this particular carbon atom from all others within a PKS product. SMARTS templates have been written with RDKit to replace the fluorine atom with -CoA, and then to finally detach the -CoA and reproduce the PKS product."
   ],
   "id": "77e6fcb15c3aa3c4"
  },
  {
   "metadata": {
    "ExecuteTime": {
     "end_time": "2025-02-03T18:23:02.800879Z",
     "start_time": "2025-02-03T18:23:02.789472Z"
    }
   },
   "cell_type": "code",
   "source": [
    "def add_fluorine_to_farthest_carbon(PKS_product: Chem.Mol, farthest_carbon_idx: int) -> Chem.Mol: \n",
    "    \"\"\"\n",
    "    Adds a fluorine atom to the carbon atom previously identified as farthest from the sulfur radical (which represents bond to ACP domain).\n",
    "    \n",
    "    Args:\n",
    "        PKS_product(rdChem.Mol): a mol object representing the PKS product.\n",
    "        farthest_carbon_idx(int): the internal RDKit atom index of the carbon that is the farthest away frm the sulfur radical.\n",
    "        \n",
    "    Returns:\n",
    "        rdChem.Mol: the updated molecule with the fluorine atom added to the specified carbon atom.\n",
    "    \"\"\"\n",
    "\n",
    "    editable_mol = Chem.EditableMol(PKS_product)\n",
    "    fluorine_idx = editable_mol.AddAtom(Chem.Atom(\"F\"))\n",
    "\n",
    "    # add a bond between the specific carbon atom (e.g., index 1) and fluorine\n",
    "    editable_mol.AddBond(farthest_carbon_idx, fluorine_idx, Chem.rdchem.BondType.SINGLE)\n",
    "\n",
    "    PKS_product_w_F = editable_mol.GetMol()\n",
    "    \n",
    "    return PKS_product_w_F"
   ],
   "id": "1860eea2102fe079",
   "outputs": [],
   "execution_count": 18
  },
  {
   "metadata": {
    "ExecuteTime": {
     "end_time": "2025-02-03T18:23:03.111290Z",
     "start_time": "2025-02-03T18:23:03.106270Z"
    }
   },
   "cell_type": "code",
   "source": [
    "def replace_fluorine_with_CoA(PKS_product_w_F: Chem.Mol) -> Chem.Mol:\n",
    "    \"\"\"\n",
    "    Replaces the fluorine atom with a -CoA group to help in aligning molecules for downstream maximum common substructure comparisons.\n",
    "    \n",
    "    Args:\n",
    "         PKS_product_w_F (rdChem.Mol): a mol object representing the PKS product with fluorine attached.\n",
    "        \n",
    "    Returns:\n",
    "        rdChem.Mol: a mol object representing the PKS product with -CoA attached instead of fluorine.\n",
    "    \"\"\"\n",
    "    \n",
    "    attach_CoA_rxn_pattern = '[C,c:1]-[F:2].[S:3]>>[C,c:1]-[S:3].[F:2]'\n",
    "    attach_CoA_rxn = AllChem.ReactionFromSmarts(attach_CoA_rxn_pattern)\n",
    "    \n",
    "    CoA_group = Chem.MolFromSmiles('CC(C)(COP(=O)(O)OP(=O)(O)OC[C@@H]1[C@H]([C@H]([C@@H](O1)N2C=NC3=C(N=CN=C32)N)O)OP(=O)(O)O)[C@H](C(=O)NCCC(=O)NCCS)O')\n",
    "    \n",
    "    for atom in CoA_group.GetAtoms():\n",
    "        atom.SetProp(\"atomLabel\",\"X\")\n",
    "        \n",
    "    PKS_product_w_CoA = attach_CoA_rxn.RunReactants((PKS_product_w_F, CoA_group))[0][0]\n",
    "    return PKS_product_w_CoA"
   ],
   "id": "48fd5c05b54a8001",
   "outputs": [],
   "execution_count": 19
  },
  {
   "metadata": {
    "ExecuteTime": {
     "end_time": "2025-02-03T18:23:03.610648Z",
     "start_time": "2025-02-03T18:23:03.606634Z"
    }
   },
   "cell_type": "code",
   "source": [
    "def detach_CoA_frm_labelled_PKS_product(PKS_product_w_CoA: Chem.Mol) -> Chem.Mol:\n",
    "    \"\"\"\n",
    "    Detaches the -CoA group from the carbon atom that is farthest from the sulfur radical to regenerate the original PKS product.\n",
    "    \n",
    "    Args:\n",
    "        PKS_product_w_CoA(rdChem.Mol): a mol object representing the PKS product with a -CoA group.\n",
    "        \n",
    "    Returns:\n",
    "        rdchem.Mol: a mol object representing the original PKS product without the -CoA group attached.\n",
    "    \"\"\"\n",
    "    \n",
    "    detach_CoA_rxn_pattern = '[C,c:1]-[S:3]-[C:4]-[C:5]-[N:6]>>[C,c:1].[S:3]-[C:4]-[C:5]-[N:6]'\n",
    "    detach_CoA_rxn = AllChem.ReactionFromSmarts(detach_CoA_rxn_pattern)\n",
    "    labelled_PKS_product = detach_CoA_rxn.RunReactants((PKS_product_w_CoA,))[0][0]\n",
    "    return labelled_PKS_product"
   ],
   "id": "35a87aabc69f92fa",
   "outputs": [],
   "execution_count": 20
  },
  {
   "metadata": {
    "ExecuteTime": {
     "end_time": "2025-02-03T18:23:05.175512Z",
     "start_time": "2025-02-03T18:23:05.167940Z"
    }
   },
   "cell_type": "code",
   "source": [
    "farthest_carbon_idx, farthest_distance = find_farthest_carbon_from_sulfur(PKS_product)\n",
    "PKS_product_w_F = add_fluorine_to_farthest_carbon(PKS_product, farthest_carbon_idx)\n",
    "PKS_product_w_CoA = replace_fluorine_with_CoA(PKS_product_w_F)"
   ],
   "id": "ea0802617b5fafbd",
   "outputs": [],
   "execution_count": 21
  },
  {
   "metadata": {},
   "cell_type": "markdown",
   "source": "The C-F bond formed with the carbon atom that is farthest from the sulfur radical helps distinguish this particular carbon atom from all others and later enables us to tack on a huge -CoA group to this carbon atom:",
   "id": "6b7a6b8458f20f8b"
  },
  {
   "metadata": {
    "ExecuteTime": {
     "end_time": "2025-02-03T18:23:05.610722Z",
     "start_time": "2025-02-03T18:23:05.595135Z"
    }
   },
   "cell_type": "code",
   "source": "PKS_product_w_F",
   "id": "3985d08a80a63716",
   "outputs": [
    {
     "data": {
      "text/plain": [
       "<rdkit.Chem.rdchem.Mol at 0x7f88b22f4f90>"
      ],
      "image/png": "[encoded data removed]"
     },
     "execution_count": 22,
     "metadata": {},
     "output_type": "execute_result"
    }
   ],
   "execution_count": 22
  },
  {
   "metadata": {
    "ExecuteTime": {
     "end_time": "2025-02-03T18:23:06.073649Z",
     "start_time": "2025-02-03T18:23:05.947543Z"
    }
   },
   "cell_type": "code",
   "source": "PKS_product_w_CoA",
   "id": "f99104bdefdb5bfb",
   "outputs": [
    {
     "data": {
      "text/plain": [
       "<rdkit.Chem.rdchem.Mol at 0x7f88b23080b0>"
      ],
      "image/png": "[encoded data removed]"
     },
     "execution_count": 23,
     "metadata": {},
     "output_type": "execute_result"
    }
   ],
   "execution_count": 23
  },
  {
   "metadata": {},
   "cell_type": "markdown",
   "source": "With another SMARTS template, this -CoA group can now be detached to regenerate the original PKS product: ",
   "id": "52e00703d49a565d"
  },
  {
   "metadata": {
    "ExecuteTime": {
     "end_time": "2025-02-03T18:23:08.304590Z",
     "start_time": "2025-02-03T18:23:08.291151Z"
    }
   },
   "cell_type": "code",
   "source": "detach_CoA_frm_labelled_PKS_product(PKS_product_w_CoA)",
   "id": "de70185b06c10c8f",
   "outputs": [
    {
     "data": {
      "text/plain": [
       "<rdkit.Chem.rdchem.Mol at 0x7f88b2308660>"
      ],
      "image/png": "[encoded data removed]"
     },
     "execution_count": 24,
     "metadata": {},
     "output_type": "execute_result"
    }
   ],
   "execution_count": 24
  },
  {
   "metadata": {},
   "cell_type": "markdown",
   "source": "Now that we have defined our steps for identifying the farthest carbon, attaching a fluorine to this carbon, and ultimately, swapping the fluorine out for a -CoA group, we are ready to start developing an algorithm for atom-mapping various PKS products. For the simplest PKS comprising only a loading module, this is trivial, and we can simply label all atoms generated with \"LM\", indicating that these atoms were placed by the loading module:",
   "id": "38c85e85fed7a8a2"
  },
  {
   "metadata": {
    "ExecuteTime": {
     "end_time": "2025-02-03T18:24:00.295965Z",
     "start_time": "2025-02-03T18:24:00.283218Z"
    }
   },
   "cell_type": "code",
   "source": [
    "# label all atoms in the PKS product generated by an initial loading module\n",
    "\n",
    "LM_AT_domain = bcs.AT(active = True, substrate = \"benz\")\n",
    "LM_domains_dict = OrderedDict({bcs.AT: LM_AT_domain})\n",
    "LM = bcs.Module(domains = LM_domains_dict, loading = True)\n",
    "\n",
    "LM_cluster  = bcs.Cluster(modules = [LM])\n",
    "LM_product = LM_cluster.computeProduct(structureDB)\n",
    "\n",
    "farthest_carbon_idx, _ = find_farthest_carbon_from_sulfur(LM_product)\n",
    "LM_product_w_F = add_fluorine_to_farthest_carbon(LM_product, farthest_carbon_idx)\n",
    "LM_product_w_CoA = replace_fluorine_with_CoA(LM_product_w_F)\n",
    "LM_product_wo_CoA = detach_CoA_frm_labelled_PKS_product(LM_product_w_CoA)\n",
    "\n",
    "for atom in LM_product_wo_CoA.GetAtoms():\n",
    "    if atom.HasProp(\"atomLabel\") == 0:\n",
    "        atom.SetProp(\"atomLabel\",\"LM\")"
   ],
   "id": "e9c9349de8b23418",
   "outputs": [],
   "execution_count": 25
  },
  {
   "metadata": {
    "ExecuteTime": {
     "end_time": "2025-02-03T18:24:00.831111Z",
     "start_time": "2025-02-03T18:24:00.816420Z"
    }
   },
   "cell_type": "code",
   "source": "LM_product_wo_CoA",
   "id": "969d40bec5d0f915",
   "outputs": [
    {
     "data": {
      "text/plain": [
       "<rdkit.Chem.rdchem.Mol at 0x7f88b23085f0>"
      ],
      "image/png": "[encoded data removed]"
     },
     "execution_count": 26,
     "metadata": {},
     "output_type": "execute_result"
    }
   ],
   "execution_count": 26
  },
  {
   "metadata": {},
   "cell_type": "markdown",
   "source": "When we tack on an extension module to this initial loading module, however, things get more complicated and this is where the utility of our operations to bring in the -CoA group really shines. The massive -CoA group helps us align both the PKS product from the loading module and that from the first extension module to each other. When performing a maximum common substructure search between both these products, the -CoA group will always be captured and any atoms that lie outside of this match, will therefore point to atoms that were either added by, or transformed by the first loading module:",
   "id": "2957b7f8ea88bb7"
  },
  {
   "metadata": {
    "ExecuteTime": {
     "end_time": "2025-02-03T18:25:57.918237Z",
     "start_time": "2025-02-03T18:25:57.883607Z"
    }
   },
   "cell_type": "code",
   "source": [
    "# label all atoms in the PKS product generated by the first extension module\n",
    "# we can do this by finding substructure matches between the module 1 product and loading module product\n",
    "\n",
    "### Define the loading module and label carbons\n",
    "LM_AT_domain = bcs.AT(active = True, substrate = \"Methylmalonyl-CoA\")\n",
    "LM_domains_dict = OrderedDict({bcs.AT: LM_AT_domain})\n",
    "LM = bcs.Module(domains = LM_domains_dict, loading = True)\n",
    "\n",
    "LM_cluster = bcs.Cluster(modules = [LM])\n",
    "LM_product = LM_cluster.computeProduct(structureDB)\n",
    "\n",
    "farthest_carbon_idx, _ = find_farthest_carbon_from_sulfur(LM_product)\n",
    "LM_product_w_F = add_fluorine_to_farthest_carbon(LM_product, farthest_carbon_idx)\n",
    "LM_product_w_CoA = replace_fluorine_with_CoA(LM_product_w_F)\n",
    "LM_product_wo_CoA = detach_CoA_frm_labelled_PKS_product(LM_product_w_CoA)\n",
    "\n",
    "for atom in LM_product_wo_CoA.GetAtoms():\n",
    "    if atom.HasProp(\"atomLabel\") == 0:\n",
    "        atom.SetProp(\"atomLabel\",\"LM\")\n",
    "\n",
    "### Define the first extension module\n",
    "Mod1_AT_domain = bcs.AT(active = True, substrate = \"Methylmalonyl-CoA\")\n",
    "Mod1_domains_dict = OrderedDict({bcs.AT: Mod1_AT_domain})\n",
    "Mod1 = bcs.Module(domains = Mod1_domains_dict, loading = False)\n",
    "\n",
    "Mod1_cluster = bcs.Cluster(modules = [LM ,Mod1])\n",
    "Mod1_product = Mod1_cluster.computeProduct(structureDB)\n",
    "\n",
    "farthest_carbon_idx, _ = find_farthest_carbon_from_sulfur(Mod1_product)\n",
    "Mod1_product_w_F = add_fluorine_to_farthest_carbon(Mod1_product, farthest_carbon_idx)\n",
    "Mod1_product_w_CoA = replace_fluorine_with_CoA(Mod1_product_w_F)"
   ],
   "id": "6dc0323ae9986c0",
   "outputs": [],
   "execution_count": 27
  },
  {
   "metadata": {
    "ExecuteTime": {
     "end_time": "2025-02-03T18:25:58.434658Z",
     "start_time": "2025-02-03T18:25:58.412110Z"
    }
   },
   "cell_type": "code",
   "source": [
    "# find substructure matches between the module 1 product and loading module product while both have a -CoA attached\n",
    "# the large -CoA group attached to the carbon farthest from the sulfur radical (i.e. ACP placeholder) helps align the various PKS products\n",
    "substruct_result = rdFMCS.FindMCS([LM_product_w_CoA, Mod1_product_w_CoA],\n",
    "                                  timeout = 1,\n",
    "                                  matchChiralTag = False,\n",
    "                                  bondCompare = Chem.rdFMCS.BondCompare.CompareOrderExact)\n",
    "\n",
    "match = Mod1_product_w_CoA.GetSubstructMatch(substruct_result.queryMol)\n",
    "\n",
    "# for each atom in the first extension module's product\n",
    "for atom in Mod1_product_w_CoA.GetAtoms():\n",
    "    \n",
    "    # any atoms not in the MCS match were added on by the first extension module\n",
    "    if atom.GetIdx() not in match:\n",
    "        if atom.HasProp(\"atomLabel\") == 0:\n",
    "            atom.SetProp(\"atomLabel\", \"M1\")\n",
    "            \n",
    "    # any atoms present in the MCS match were initialized by the loading module\n",
    "    if atom.GetIdx() in match:\n",
    "        if atom.HasProp(\"atomLabel\") == 0:\n",
    "            atom.SetProp(\"atomLabel\", \"LM\")\n",
    "            \n",
    "# finally, detach the -CoA group from the first extension module\n",
    "Mod1_product_wo_CoA = detach_CoA_frm_labelled_PKS_product(Mod1_product_w_CoA)\n",
    "\n",
    "# any unlabelled atoms in the final product were placed by the loading module\n",
    "for atom in Mod1_product_wo_CoA.GetAtoms():\n",
    "    if atom.HasProp(\"atomLabel\")==0:\n",
    "        atom.SetProp(\"atomLabel\", \"LM\")"
   ],
   "id": "ba5893a1e9c00aa4",
   "outputs": [],
   "execution_count": 28
  },
  {
   "metadata": {},
   "cell_type": "markdown",
   "source": "Here, we've now successfully identified which atoms were added by the loading module as well as which atoms were added and/ or transformed by the first extension module:",
   "id": "52de45613fa556a4"
  },
  {
   "metadata": {
    "ExecuteTime": {
     "end_time": "2025-02-03T18:26:00.695953Z",
     "start_time": "2025-02-03T18:26:00.674382Z"
    }
   },
   "cell_type": "code",
   "source": "Mod1_product_wo_CoA",
   "id": "798bd446e0d755bb",
   "outputs": [
    {
     "data": {
      "text/plain": [
       "<rdkit.Chem.rdchem.Mol at 0x7f88b23083c0>"
      ],
      "image/png": "[encoded data removed]"
     },
     "execution_count": 29,
     "metadata": {},
     "output_type": "execute_result"
    }
   ],
   "execution_count": 29
  },
  {
   "metadata": {},
   "cell_type": "markdown",
   "source": "### Putting the full atom mapping algorithm together",
   "id": "dd94a1d1270c408b"
  },
  {
   "metadata": {},
   "cell_type": "markdown",
   "source": "Now, we can put all our individual steps together to create a generalized atom mapping algorithm. Broadly, this atom-mapping algorithm takes a chimeric PKS design in the form of a `bcs.Cluster` object as an input and then rebuilds PKS designs module by module in reverse order. This means that the entire PKS design is rebuilt first, then the PKS design that is missing the final extension module is built, then the PKS design that is missing the last two extension modules is built, and so on until the loading module of the input PKS design is built last. With the products generated by each of these smaller, partial PKSs, maximum common substructure matches are generated to identify which carbon atoms were added and/ or transformed by the various PKS modules.",
   "id": "84cf2c7202deb7bc"
  },
  {
   "metadata": {
    "ExecuteTime": {
     "end_time": "2025-02-03T18:26:17.948169Z",
     "start_time": "2025-02-03T18:26:17.923571Z"
    }
   },
   "cell_type": "code",
   "source": [
    "def create_atom_maps(cluster: bcs.Cluster) -> Chem.Mol:\n",
    "    \n",
    "    modules_list = cluster.modules\n",
    "    atom_labels_list = [f\"LM\" if i == 0 else f\"M{i}\" for i in range(len(modules_list))]\n",
    "    labelled_mols_list = []\n",
    "    \n",
    "    for module_num in range(0,len(modules_list)):\n",
    "        \n",
    "        # for the loading module specifically\n",
    "        if module_num == 0:\n",
    "            \n",
    "            # generate the loading module product\n",
    "            cluster = bcs.Cluster(modules = [ modules_list[0] ]) # input to bcs.Cluster is list of modules\n",
    "            LM_product = cluster.computeProduct(structureDB)\n",
    "            \n",
    "            # attach a florine atom to the farthest carbon from the sulfur radical (ACP placeholder)\n",
    "            farthest_carbon_idx, _ = find_farthest_carbon_from_sulfur(LM_product)\n",
    "            LM_product_w_F = add_fluorine_to_farthest_carbon(LM_product, farthest_carbon_idx)\n",
    "            \n",
    "            # then swap the florine for a -CoA group so all PKS products can be easily aligned\n",
    "            LM_product_w_CoA = replace_fluorine_with_CoA(LM_product_w_F)\n",
    "            \n",
    "            for atom in LM_product_w_CoA.GetAtoms():\n",
    "                if atom.HasProp(\"atomLabel\") == 0:\n",
    "                    atom.SetProp(\"atomLabel\",\"LM\")\n",
    "                    \n",
    "            labelled_mols_list.append(LM_product_w_CoA)\n",
    "            \n",
    "        else:\n",
    "            \n",
    "            current_modules_sublist = modules_list[0:(module_num+1)]\n",
    "            atom_labels_sublist = atom_labels_list[0:(module_num+1)]\n",
    "            current_cluster = bcs.Cluster(modules = current_modules_sublist)\n",
    "            current_product = current_cluster.computeProduct(structureDB)\n",
    "            \n",
    "            # similar to the loading module, attach a fluorine to the farthest carbon atom from ACP\n",
    "            farthest_carbon_idx, _ = find_farthest_carbon_from_sulfur(current_product)\n",
    "            current_product_w_F = add_fluorine_to_farthest_carbon(current_product, farthest_carbon_idx)\n",
    "            current_product_w_CoA = replace_fluorine_with_CoA(current_product_w_F)\n",
    "            \n",
    "            # for each previous_product starting from up until the previous module\n",
    "            for i, previous_product_w_CoA in enumerate(labelled_mols_list[::-1]):\n",
    "                \n",
    "                MCS_result = rdFMCS.FindMCS([current_product_w_CoA, previous_product_w_CoA], \n",
    "                                            timeout = 1,\n",
    "                                            matchChiralTag = False,\n",
    "                                            bondCompare = Chem.rdFMCS.BondCompare.CompareOrderExact)\n",
    "                \n",
    "                match = current_product_w_CoA.GetSubstructMatch(MCS_result.queryMol)\n",
    "                \n",
    "                label = atom_labels_sublist[::-1][i]\n",
    "                \n",
    "                for atom in current_product_w_CoA.GetAtoms():\n",
    "                    if atom.GetIdx() not in match:\n",
    "                        if atom.HasProp(\"atomLabel\") == 0:\n",
    "                            atom.SetProp(\"atomLabel\", label)\n",
    "                            \n",
    "            labelled_mols_list.append(current_product_w_CoA)\n",
    "            \n",
    "    # for all the labelled PKS substrates, detach the -CoA group\n",
    "    final_mols_list = [detach_CoA_frm_labelled_PKS_product(mol) for mol in labelled_mols_list]\n",
    "    \n",
    "    # finally, label atoms that were previously attached to the -CoA group with \"LM\"\n",
    "    for mol in final_mols_list:\n",
    "        for atom in mol.GetAtoms():\n",
    "            if atom.HasProp(\"atomLabel\")==0:\n",
    "                atom.SetProp(\"atomLabel\",\"LM\")\n",
    "                \n",
    "    return final_mols_list"
   ],
   "id": "29aa0f855c893d59",
   "outputs": [],
   "execution_count": 30
  },
  {
   "metadata": {
    "ExecuteTime": {
     "end_time": "2025-02-03T18:28:41.223282Z",
     "start_time": "2025-02-03T18:28:41.200763Z"
    }
   },
   "cell_type": "code",
   "source": [
    "LM_AT_domain = bcs.AT(active = True, substrate = \"Methylmalonyl-CoA\")\n",
    "LM_domains_dict = OrderedDict({bcs.AT: LM_AT_domain})\n",
    "LM = bcs.Module(domains = LM_domains_dict, loading = True)\n",
    "\n",
    "M1_AT_domain = bcs.AT(active = True, substrate = \"Methylmalonyl-CoA\")\n",
    "M1_KR_domain = bcs.KR(active = True, type = \"B1\")\n",
    "M1_domains_dict = OrderedDict({bcs.AT: M1_AT_domain,\n",
    "                               bcs.KR: M1_KR_domain})\n",
    "\n",
    "M1 = bcs.Module(domains = M1_domains_dict, loading = False)\n",
    "\n",
    "M2_AT_domain = bcs.AT(active = True, substrate = \"Methylmalonyl-CoA\")\n",
    "M2_KR_domain = bcs.KR(active = True, type = \"B1\")\n",
    "M2_domains_dict = OrderedDict({bcs.AT: M2_AT_domain,\n",
    "                               bcs.KR: M2_KR_domain})\n",
    "\n",
    "M2 = bcs.Module(domains = M2_domains_dict, loading = False)\n",
    "\n",
    "PKS_cluster = bcs.Cluster(modules = [LM, M1, M2])"
   ],
   "id": "b25b100f989c3fb5",
   "outputs": [],
   "execution_count": 31
  },
  {
   "metadata": {
    "ExecuteTime": {
     "end_time": "2025-02-03T18:28:41.605241Z",
     "start_time": "2025-02-03T18:28:41.572599Z"
    }
   },
   "cell_type": "code",
   "source": "create_atom_maps(PKS_cluster)",
   "id": "1308cab9a903d255",
   "outputs": [
    {
     "data": {
      "text/plain": [
       "[<rdkit.Chem.rdchem.Mol at 0x7f88b2321580>,\n",
       " <rdkit.Chem.rdchem.Mol at 0x7f88b2321970>,\n",
       " <rdkit.Chem.rdchem.Mol at 0x7f88b23365f0>]"
      ]
     },
     "execution_count": 32,
     "metadata": {},
     "output_type": "execute_result"
    }
   ],
   "execution_count": 32
  },
  {
   "metadata": {
    "ExecuteTime": {
     "end_time": "2025-02-03T18:28:43.736372Z",
     "start_time": "2025-02-03T18:28:43.707877Z"
    }
   },
   "cell_type": "code",
   "source": "create_atom_maps(PKS_cluster)[2]",
   "id": "d002f54d99439f63",
   "outputs": [
    {
     "data": {
      "text/plain": [
       "<rdkit.Chem.rdchem.Mol at 0x7f88b23367b0>"
      ],
      "image/png": "[encoded data removed]"
     },
     "execution_count": 33,
     "metadata": {},
     "output_type": "execute_result"
    }
   ],
   "execution_count": 33
  },
  {
   "metadata": {},
   "cell_type": "code",
   "outputs": [],
   "execution_count": null,
   "source": "",
   "id": "2e649e1bea957045"
  }
 ],
 "metadata": {
  "kernelspec": {
   "display_name": "Python 3 (ipykernel)",
   "language": "python",
   "name": "python3"
  },
  "language_info": {
   "codemirror_mode": {
    "name": "ipython",
    "version": 3
   },
   "file_extension": ".py",
   "mimetype": "text/x-python",
   "name": "python",
   "nbconvert_exporter": "python",
   "pygments_lexer": "ipython3",
   "version": "3.8.19"
  }
 },
 "nbformat": 4,
 "nbformat_minor": 5
}
