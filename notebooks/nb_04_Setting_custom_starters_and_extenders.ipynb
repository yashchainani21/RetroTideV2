{
 "cells": [
  {
   "cell_type": "markdown",
   "id": "bb155c139721ee3",
   "metadata": {},
   "source": [
    "Up until this point, we have used the `bcs` package extensively to design chimeric type I PKSs with varying numbers of modules and diverse domain architectures within each module. We have also experimented with building PKSs using different starter and extender units. Recall that `RetroTide` and also, `structureDB` within `RetroTide`, both rely on the `bcs` package for molecule design. Our objective is always to give users as much flexibility as they would need and there would certainly be some users who when using `RetroTide` to build a target, may not actually wish to use the full suite of starter and extender units available in `bcs`.\n",
    "\n",
    "Consequently, in this notebook, we will explore how to select only a list of starters and extenders that users may be interested in and to discard the rest."
   ]
  },
  {
   "cell_type": "code",
   "execution_count": 4,
   "id": "5be7b29928dc1670",
   "metadata": {
    "ExecuteTime": {
     "end_time": "2025-02-03T17:55:55.384931Z",
     "start_time": "2025-02-03T17:55:55.380823Z"
    }
   },
   "outputs": [],
   "source": [
    "import bcs\n",
    "from typing import Optional, List"
   ]
  },
  {
   "cell_type": "markdown",
   "id": "302061841d5c9de1",
   "metadata": {},
   "source": [
    "When the `bcs` package is imported, there is a function within `bcs`, which is `set_starters_extenders`, that creates a dictionary of `starters` and a dictionary of `extenders`. These are global dictionaries and can also be accessed outside the `bcs` package from this script via `bcs.starters` and `bcs.extenders`"
   ]
  },
  {
   "cell_type": "code",
   "execution_count": 5,
   "id": "1dde7470116f3a8",
   "metadata": {
    "ExecuteTime": {
     "end_time": "2025-02-03T17:55:55.680631Z",
     "start_time": "2025-02-03T17:55:55.673080Z"
    }
   },
   "outputs": [
    {
     "data": {
      "text/plain": [
       "{'Methylmalonyl-CoA': <rdkit.Chem.rdchem.Mol at 0x7fd1c71d5040>,\n",
       " 'Malonyl-CoA': <rdkit.Chem.rdchem.Mol at 0x7fd1c71d5120>,\n",
       " 'Hydroxymalonyl-CoA': <rdkit.Chem.rdchem.Mol at 0x7fd1c71d50b0>,\n",
       " 'butmal': <rdkit.Chem.rdchem.Mol at 0x7fd1c71d5190>,\n",
       " 'mxmal': <rdkit.Chem.rdchem.Mol at 0x7fd1c71d5200>,\n",
       " 'cemal': <rdkit.Chem.rdchem.Mol at 0x7fd1c71d5270>,\n",
       " 'Acetyl-CoA': <rdkit.Chem.rdchem.Mol at 0x7fd1c71d52e0>,\n",
       " 'prop': <rdkit.Chem.rdchem.Mol at 0x7fd1c71d5350>,\n",
       " 'isobut': <rdkit.Chem.rdchem.Mol at 0x7fd1c71d53c0>,\n",
       " '2metbut': <rdkit.Chem.rdchem.Mol at 0x7fd1c71d5430>,\n",
       " 'CHC-CoA': <rdkit.Chem.rdchem.Mol at 0x7fd1c71d54a0>,\n",
       " 'trans-1,2-CPDA': <rdkit.Chem.rdchem.Mol at 0x7fd1c71d5510>,\n",
       " 'cyclopentene': <rdkit.Chem.rdchem.Mol at 0x7fd1c71d5580>,\n",
       " 'pyr': <rdkit.Chem.rdchem.Mol at 0x7fd1c71d55f0>,\n",
       " 'cin': <rdkit.Chem.rdchem.Mol at 0x7fd1c71d5660>,\n",
       " 'AHBA': <rdkit.Chem.rdchem.Mol at 0x7fd1c71d56d0>,\n",
       " 'isoval': <rdkit.Chem.rdchem.Mol at 0x7fd1c71d5740>,\n",
       " 'PABA': <rdkit.Chem.rdchem.Mol at 0x7fd1c71d57b0>,\n",
       " 'DCP': <rdkit.Chem.rdchem.Mol at 0x7fd1c71d5820>,\n",
       " 'guan': <rdkit.Chem.rdchem.Mol at 0x7fd1c71d5890>,\n",
       " 'mthz': <rdkit.Chem.rdchem.Mol at 0x7fd1c71d5900>,\n",
       " 'DHCH': <rdkit.Chem.rdchem.Mol at 0x7fd1c71d5970>,\n",
       " 'DHCHene': <rdkit.Chem.rdchem.Mol at 0x7fd1c71d59e0>,\n",
       " 'plac': <rdkit.Chem.rdchem.Mol at 0x7fd1c71d5a50>,\n",
       " 'benz': <rdkit.Chem.rdchem.Mol at 0x7fd1c71d5ac0>,\n",
       " 'PNBA': <rdkit.Chem.rdchem.Mol at 0x7fd1c71d5b30>,\n",
       " 'ema': <rdkit.Chem.rdchem.Mol at 0x7fd1c71d5ba0>,\n",
       " '3measp': <rdkit.Chem.rdchem.Mol at 0x7fd1c71d5c10>}"
      ]
     },
     "execution_count": 5,
     "metadata": {},
     "output_type": "execute_result"
    }
   ],
   "source": [
    "bcs.starters"
   ]
  },
  {
   "cell_type": "code",
   "execution_count": 6,
   "id": "c66817e0fa840c7e",
   "metadata": {
    "ExecuteTime": {
     "end_time": "2025-02-03T17:55:56.297761Z",
     "start_time": "2025-02-03T17:55:56.290024Z"
    }
   },
   "outputs": [
    {
     "data": {
      "text/plain": [
       "{'Malonyl-CoA': <rdkit.Chem.rdchem.Mol at 0x7fd1c71d5dd0>,\n",
       " 'Methylmalonyl-CoA': <rdkit.Chem.rdchem.Mol at 0x7fd1c71d5d60>,\n",
       " 'mxmal': <rdkit.Chem.rdchem.Mol at 0x7fd1c71d5c80>,\n",
       " 'emal': <rdkit.Chem.rdchem.Mol at 0x7fd1c71d5e40>,\n",
       " 'allylmal': <rdkit.Chem.rdchem.Mol at 0x7fd1c71d5eb0>,\n",
       " 'butmal': <rdkit.Chem.rdchem.Mol at 0x7fd1c71d5f20>,\n",
       " 'hmal': <rdkit.Chem.rdchem.Mol at 0x7fd1c71d5f90>,\n",
       " 'isobutmal': <rdkit.Chem.rdchem.Mol at 0x7fd1c71d6040>,\n",
       " 'D-isobutmal': <rdkit.Chem.rdchem.Mol at 0x7fd1c71d60b0>,\n",
       " 'DCP': <rdkit.Chem.rdchem.Mol at 0x7fd1c71d6120>,\n",
       " 'hexmal': <rdkit.Chem.rdchem.Mol at 0x7fd1c71d6190>}"
      ]
     },
     "execution_count": 6,
     "metadata": {},
     "output_type": "execute_result"
    }
   ],
   "source": [
    "bcs.extenders"
   ]
  },
  {
   "cell_type": "markdown",
   "id": "428fc18eee749f01",
   "metadata": {},
   "source": [
    "In order to modify the list of starters and extenders available globally to the `bcs` state within this script, we can simply remove key-value pairs corresponding to starters and extenders that we don't want from the `bcs.starters` and `bcs.extenders` dictionary. We can write a custom function to do this as follows:"
   ]
  },
  {
   "cell_type": "code",
   "execution_count": 7,
   "id": "2dd4fad9d999d2f6",
   "metadata": {
    "ExecuteTime": {
     "end_time": "2025-02-03T17:55:57.838768Z",
     "start_time": "2025-02-03T17:55:57.833856Z"
    }
   },
   "outputs": [],
   "source": [
    "def modify_bcs_starters_extenders(starter_codes: Optional[List[str]] = None, extender_codes: Optional[List[str]] = None):\n",
    "    \n",
    "    for key in list(bcs.starters.keys()):\n",
    "        if key not in starter_codes:\n",
    "            bcs.starters.pop(key, None) # removes key corresponding to the starter code that was not specified\n",
    "            \n",
    "    for key in list(bcs.extenders.keys()):\n",
    "        if key not in extender_codes:\n",
    "            bcs.extenders.pop(key, None) # same as above but for extenders"
   ]
  },
  {
   "cell_type": "markdown",
   "id": "f93a785828ec8264",
   "metadata": {},
   "source": [
    "As a bit of an extreme example, let's remove all starters and extenders other than malonyl-CoA and methylmalonyl-CoA"
   ]
  },
  {
   "cell_type": "code",
   "execution_count": 8,
   "id": "f8446a873bc0f345",
   "metadata": {
    "ExecuteTime": {
     "end_time": "2025-02-03T17:55:58.488141Z",
     "start_time": "2025-02-03T17:55:58.484365Z"
    }
   },
   "outputs": [],
   "source": [
    "modify_bcs_starters_extenders(starter_codes = [\"Malonyl-CoA\", \"Methylmalonyl-CoA\"], \n",
    "                              extender_codes = [\"Malonyl-CoA\", \"Methylmalonyl-CoA\"])"
   ]
  },
  {
   "cell_type": "code",
   "execution_count": 9,
   "id": "2eab8cfabb0ef4e8",
   "metadata": {
    "ExecuteTime": {
     "end_time": "2025-02-03T17:55:59.017274Z",
     "start_time": "2025-02-03T17:55:59.011407Z"
    }
   },
   "outputs": [
    {
     "data": {
      "text/plain": [
       "{'Methylmalonyl-CoA': <rdkit.Chem.rdchem.Mol at 0x7fd1c71d5040>,\n",
       " 'Malonyl-CoA': <rdkit.Chem.rdchem.Mol at 0x7fd1c71d5120>}"
      ]
     },
     "execution_count": 9,
     "metadata": {},
     "output_type": "execute_result"
    }
   ],
   "source": [
    "bcs.starters"
   ]
  },
  {
   "cell_type": "code",
   "execution_count": 10,
   "id": "32825863ed1c6172",
   "metadata": {
    "ExecuteTime": {
     "end_time": "2025-02-03T17:55:59.966779Z",
     "start_time": "2025-02-03T17:55:59.961370Z"
    }
   },
   "outputs": [
    {
     "data": {
      "text/plain": [
       "{'Malonyl-CoA': <rdkit.Chem.rdchem.Mol at 0x7fd1c71d5dd0>,\n",
       " 'Methylmalonyl-CoA': <rdkit.Chem.rdchem.Mol at 0x7fd1c71d5d60>}"
      ]
     },
     "execution_count": 10,
     "metadata": {},
     "output_type": "execute_result"
    }
   ],
   "source": [
    "bcs.extenders"
   ]
  },
  {
   "cell_type": "markdown",
   "id": "d1bbe930176d3719",
   "metadata": {},
   "source": [
    "Once the starter and extender units available have been modified, **we do not need to reimport the `bcs` package**. This is because when a user mutates the global dictionaries `bcs.starters` and `bcs.extenders`, this also modifies the global state of the module during runtime. The only reason we might want to reimport `bcs` would be if we accidentally removed more starter and extender units then intended. In this scenario, it might be best to just restart kernel. \n",
    "\n",
    "As for `structureDB` and `retrotide`, however, **these should only be imported AFTER `bcs.starters` and `bcs.extenders` have been modified. Upon running the cell below, notice that `structureDB` has a lot fewer key-value pairs than we might have observed in previous notebooks and that these only comprise Malonyl-CoA and Methylmalonyl-CoA."
   ]
  },
  {
   "cell_type": "code",
   "execution_count": 11,
   "id": "cfc709c852d57c6e",
   "metadata": {
    "ExecuteTime": {
     "end_time": "2025-02-03T17:56:01.854987Z",
     "start_time": "2025-02-03T17:56:01.784056Z"
    }
   },
   "outputs": [
    {
     "name": "stdout",
     "output_type": "stream",
     "text": [
      "\n",
      "\n",
      "\n",
      "\n",
      "\n",
      "\n",
      "\n",
      "\n",
      "\n",
      "\n",
      "\n",
      "\n",
      "\n",
      "\n",
      "\n",
      "\n",
      "\n",
      "\n",
      "\n",
      "\n",
      "\n",
      "\n",
      "\n",
      "\n",
      "\n",
      "\n",
      "\n",
      "\n",
      "\n",
      "\n",
      "\n",
      "\n",
      "[\"AT{'substrate': 'Methylmalonyl-CoA'}\", \"KR{'type': 'A2'}\", 'loading: False']\n",
      "[\"AT{'substrate': 'Methylmalonyl-CoA'}\", \"KR{'type': 'B1'}\", 'DH{}', 'ER{}', 'loading: False']\n",
      "[\"AT{'substrate': 'Methylmalonyl-CoA'}\", \"KR{'type': 'B1'}\", 'loading: False']\n",
      "[\"AT{'substrate': 'Methylmalonyl-CoA'}\", \"KR{'type': 'C2'}\", 'loading: False']\n",
      "[\"AT{'substrate': 'Methylmalonyl-CoA'}\", 'loading: False']\n",
      "[\"AT{'substrate': 'Malonyl-CoA'}\", \"KR{'type': 'B'}\", 'DH{}', 'loading: False']\n",
      "[\"AT{'substrate': 'Methylmalonyl-CoA'}\", \"KR{'type': 'A1'}\", 'loading: False']\n",
      "[\"AT{'substrate': 'Malonyl-CoA'}\", \"KR{'type': 'A'}\", 'loading: False']\n",
      "[\"AT{'substrate': 'Methylmalonyl-CoA'}\", \"KR{'type': 'B1'}\", 'DH{}', 'loading: False']\n",
      "[\"AT{'substrate': 'Malonyl-CoA'}\", \"KR{'type': 'B'}\", 'loading: False']\n",
      "[\"AT{'substrate': 'Malonyl-CoA'}\", 'loading: False']\n"
     ]
    }
   ],
   "source": [
    "from retrotide import retrotide, structureDB"
   ]
  },
  {
   "cell_type": "markdown",
   "id": "2516407daff8f3a5",
   "metadata": {},
   "source": [
    "And sure enough, if we now try to build a bcs cluster with a starter unit that is not Malonyl-CoA or Methylmalonyl-CoA, we will run into an error:"
   ]
  },
  {
   "cell_type": "code",
   "execution_count": 12,
   "id": "aa8c5e7f037e9a6d",
   "metadata": {
    "ExecuteTime": {
     "end_time": "2025-02-03T17:56:04.844673Z",
     "start_time": "2025-02-03T17:56:04.547825Z"
    }
   },
   "outputs": [
    {
     "ename": "KeyError",
     "evalue": "'Hydroxymalonyl-CoA'",
     "output_type": "error",
     "traceback": [
      "\u001b[0;31m---------------------------------------------------------------------------\u001b[0m",
      "\u001b[0;31mKeyError\u001b[0m                                  Traceback (most recent call last)",
      "Cell \u001b[0;32mIn[12], line 8\u001b[0m\n\u001b[1;32m      5\u001b[0m module1 \u001b[38;5;241m=\u001b[39m bcs\u001b[38;5;241m.\u001b[39mModule(domains \u001b[38;5;241m=\u001b[39m {bcs\u001b[38;5;241m.\u001b[39mAT: mod1_AT_domain}, loading \u001b[38;5;241m=\u001b[39m \u001b[38;5;28;01mFalse\u001b[39;00m)\n\u001b[1;32m      7\u001b[0m cluster \u001b[38;5;241m=\u001b[39m bcs\u001b[38;5;241m.\u001b[39mCluster(modules \u001b[38;5;241m=\u001b[39m [loading_module, module1])\n\u001b[0;32m----> 8\u001b[0m \u001b[43mcluster\u001b[49m\u001b[38;5;241;43m.\u001b[39;49m\u001b[43mcomputeProduct\u001b[49m\u001b[43m(\u001b[49m\u001b[43mstructureDB\u001b[49m\u001b[43m)\u001b[49m\n",
      "File \u001b[0;32m~/PycharmProjects/RetroTideV2/bcs/bcs.py:192\u001b[0m, in \u001b[0;36mCluster.computeProduct\u001b[0;34m(self, structureDB, chain)\u001b[0m\n\u001b[1;32m    188\u001b[0m         Chem\u001b[38;5;241m.\u001b[39mSanitizeMol(prod)\n\u001b[1;32m    190\u001b[0m     \u001b[38;5;28;01melse\u001b[39;00m:\n\u001b[1;32m    191\u001b[0m         \u001b[38;5;66;03m# starter module\u001b[39;00m\n\u001b[0;32m--> 192\u001b[0m         prod \u001b[38;5;241m=\u001b[39m \u001b[43mstarters\u001b[49m\u001b[43m[\u001b[49m\u001b[43mmodule\u001b[49m\u001b[38;5;241;43m.\u001b[39;49m\u001b[43mdomains\u001b[49m\u001b[43m[\u001b[49m\u001b[43mAT\u001b[49m\u001b[43m]\u001b[49m\u001b[38;5;241;43m.\u001b[39;49m\u001b[43msubstrate\u001b[49m\u001b[43m]\u001b[49m\n\u001b[1;32m    194\u001b[0m \u001b[38;5;28;01mreturn\u001b[39;00m prod\n",
      "\u001b[0;31mKeyError\u001b[0m: 'Hydroxymalonyl-CoA'"
     ]
    }
   ],
   "source": [
    "loading_AT_domain = bcs.AT(active = True, substrate = \"Hydroxymalonyl-CoA\")\n",
    "loading_module = bcs.Module(domains = {bcs.AT: loading_AT_domain}, loading = True)\n",
    "\n",
    "mod1_AT_domain = bcs.AT(active = True, substrate = \"Methylmalonyl-CoA\")\n",
    "module1 = bcs.Module(domains = {bcs.AT: mod1_AT_domain}, loading = False)\n",
    "\n",
    "cluster = bcs.Cluster(modules = [loading_module, module1])\n",
    "cluster.computeProduct(structureDB)"
   ]
  },
  {
   "cell_type": "markdown",
   "id": "566860d121acec4b",
   "metadata": {},
   "source": [
    "Meanwhile, building bcs clusters with starters and extenders that are either Malonyl-CoA or Methylmalonyl-CoA still works!"
   ]
  },
  {
   "cell_type": "code",
   "execution_count": 13,
   "id": "5641463b02809a3",
   "metadata": {
    "ExecuteTime": {
     "end_time": "2025-02-03T17:56:06.782428Z",
     "start_time": "2025-02-03T17:56:06.768501Z"
    }
   },
   "outputs": [
    {
     "data": {
      "image/png": "[encoded data removed]",
      "text/plain": [
       "<rdkit.Chem.rdchem.Mol at 0x7fd1cd316120>"
      ]
     },
     "execution_count": 13,
     "metadata": {},
     "output_type": "execute_result"
    }
   ],
   "source": [
    "loading_AT_domain = bcs.AT(active = True, substrate = \"Methylmalonyl-CoA\")\n",
    "loading_module = bcs.Module(domains = {bcs.AT: loading_AT_domain}, loading = True)\n",
    "\n",
    "mod1_AT_domain = bcs.AT(active = True, substrate = \"Methylmalonyl-CoA\")\n",
    "module1 = bcs.Module(domains = {bcs.AT: mod1_AT_domain}, loading = False)\n",
    "\n",
    "cluster = bcs.Cluster(modules = [loading_module, module1])\n",
    "cluster.computeProduct(structureDB)"
   ]
  },
  {
   "cell_type": "code",
   "execution_count": null,
   "id": "7e6efe47ab2967fe",
   "metadata": {},
   "outputs": [],
   "source": []
  }
 ],
 "metadata": {
  "kernelspec": {
   "display_name": "Python krobhome-py310",
   "language": "python",
   "name": "krobhome-py310"
  },
  "language_info": {
   "codemirror_mode": {
    "name": "ipython",
    "version": 3
   },
   "file_extension": ".py",
   "mimetype": "text/x-python",
   "name": "python",
   "nbconvert_exporter": "python",
   "pygments_lexer": "ipython3",
   "version": "3.10.16"
  }
 },
 "nbformat": 4,
 "nbformat_minor": 5
}
