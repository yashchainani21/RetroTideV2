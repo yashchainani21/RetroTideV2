{
 "cells": [
  {
   "cell_type": "code",
   "id": "initial_id",
   "metadata": {
    "collapsed": true,
    "ExecuteTime": {
     "end_time": "2025-02-05T03:48:25.193814Z",
     "start_time": "2025-02-05T03:48:25.188610Z"
    }
   },
   "source": [
    "from retrotide import retrotide, structureDB\n",
    "from rdkit import Chem"
   ],
   "outputs": [],
   "execution_count": 31
  },
  {
   "metadata": {
    "ExecuteTime": {
     "end_time": "2025-02-05T03:48:28.177332Z",
     "start_time": "2025-02-05T03:48:25.709919Z"
    }
   },
   "cell_type": "code",
   "source": [
    "target = (Chem.MolFromSmiles('CCCCCCCCC(=O)O'))\n",
    "\n",
    "LM_designs = retrotide.designPKS_onestep(targetMol = target,\n",
    "                                             maxDesignsPerRound = 1000,\n",
    "                                             similarity = 'mcs_without_stereo')"
   ],
   "id": "72ee3eb4cf4ffa28",
   "outputs": [
    {
     "name": "stdout",
     "output_type": "stream",
     "text": [
      "computing module 1\n",
      "   testing 2755 designs\n"
     ]
    }
   ],
   "execution_count": 32
  },
  {
   "metadata": {
    "ExecuteTime": {
     "end_time": "2025-02-05T03:49:25.305909Z",
     "start_time": "2025-02-05T03:49:25.297593Z"
    }
   },
   "cell_type": "code",
   "source": "LM_designs[900][0].modules",
   "id": "6163d5f79d71c1d1",
   "outputs": [
    {
     "data": {
      "text/plain": [
       "[[\"AT{'substrate': 'prop'}\", 'loading: True'],\n",
       " [\"AT{'substrate': 'emal'}\", 'loading: False']]"
      ]
     },
     "execution_count": 39,
     "metadata": {},
     "output_type": "execute_result"
    }
   ],
   "execution_count": 39
  },
  {
   "metadata": {
    "ExecuteTime": {
     "end_time": "2025-02-05T01:13:00.959226Z",
     "start_time": "2025-02-05T01:12:59.276803Z"
    }
   },
   "cell_type": "code",
   "source": [
    "M1_designs = retrotide.designPKS_onestep(targetMol = target,\n",
    "                                             maxDesignsPerRound = 15,\n",
    "                                             previousDesigns = LM_designs,\n",
    "                                             similarity = 'mcs_without_stereo')"
   ],
   "id": "29b9b31fbd72f1cf",
   "outputs": [
    {
     "name": "stdout",
     "output_type": "stream",
     "text": [
      "computing module 3\n",
      "   testing 1425 designs\n"
     ]
    }
   ],
   "execution_count": 8
  },
  {
   "metadata": {
    "ExecuteTime": {
     "end_time": "2025-02-05T01:13:26.117032Z",
     "start_time": "2025-02-05T01:13:26.108955Z"
    }
   },
   "cell_type": "code",
   "source": "M1_designs[2][0].modules",
   "id": "1c2d601768f95a70",
   "outputs": [
    {
     "data": {
      "text/plain": [
       "[[\"AT{'substrate': 'trans-1,2-CPDA'}\", 'loading: True'],\n",
       " [\"AT{'substrate': 'Malonyl-CoA'}\", \"KR{'type': 'B'}\", 'DH{}', 'ER{}', 'loading: False'],\n",
       " [\"AT{'substrate': 'Malonyl-CoA'}\", \"KR{'type': 'B'}\", 'loading: False']]"
      ]
     },
     "execution_count": 12,
     "metadata": {},
     "output_type": "execute_result"
    }
   ],
   "execution_count": 12
  },
  {
   "metadata": {
    "ExecuteTime": {
     "end_time": "2025-02-05T01:13:41.634204Z",
     "start_time": "2025-02-05T01:13:39.915590Z"
    }
   },
   "cell_type": "code",
   "source": [
    "M2_designs = retrotide.designPKS_onestep(targetMol = target,\n",
    "                                             maxDesignsPerRound = 15,\n",
    "                                             previousDesigns = M1_designs,\n",
    "                                             similarity = 'mcs_without_stereo')"
   ],
   "id": "7107d0b01d294aa8",
   "outputs": [
    {
     "name": "stdout",
     "output_type": "stream",
     "text": [
      "computing module 4\n",
      "   testing 1425 designs\n"
     ]
    }
   ],
   "execution_count": 13
  },
  {
   "metadata": {
    "ExecuteTime": {
     "end_time": "2025-02-05T01:13:58.413831Z",
     "start_time": "2025-02-05T01:13:58.408657Z"
    }
   },
   "cell_type": "code",
   "source": "M2_designs[0][0].modules",
   "id": "6945957d87e170f",
   "outputs": [
    {
     "data": {
      "text/plain": [
       "[[\"AT{'substrate': 'trans-1,2-CPDA'}\", 'loading: True'],\n",
       " [\"AT{'substrate': 'Malonyl-CoA'}\", \"KR{'type': 'B'}\", 'DH{}', 'ER{}', 'loading: False'],\n",
       " [\"AT{'substrate': 'Malonyl-CoA'}\", \"KR{'type': 'B'}\", 'DH{}', 'loading: False'],\n",
       " [\"AT{'substrate': 'Malonyl-CoA'}\", \"KR{'type': 'B'}\", 'DH{}', 'loading: False']]"
      ]
     },
     "execution_count": 15,
     "metadata": {},
     "output_type": "execute_result"
    }
   ],
   "execution_count": 15
  },
  {
   "metadata": {},
   "cell_type": "code",
   "outputs": [],
   "execution_count": null,
   "source": "",
   "id": "65e14ff22addeab1"
  }
 ],
 "metadata": {
  "kernelspec": {
   "display_name": "Python 3",
   "language": "python",
   "name": "python3"
  },
  "language_info": {
   "codemirror_mode": {
    "name": "ipython",
    "version": 2
   },
   "file_extension": ".py",
   "mimetype": "text/x-python",
   "name": "python",
   "nbconvert_exporter": "python",
   "pygments_lexer": "ipython2",
   "version": "2.7.6"
  }
 },
 "nbformat": 4,
 "nbformat_minor": 5
}
