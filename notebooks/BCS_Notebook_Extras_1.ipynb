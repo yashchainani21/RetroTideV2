{
 "cells": [
  {
   "cell_type": "markdown",
   "metadata": {},
   "source": [
    "# RetroTide - Extras (1)\n",
    "\n",
    "Vincent Blay, Tyler W. H. Backman - Jan 2022"
   ]
  },
  {
   "cell_type": "markdown",
   "metadata": {},
   "source": [
    "In this notebook we describe the capabilities of RetroTide to 1) generate random polyketides and 2) classify molecules as PKSable or not."
   ]
  },
  {
   "cell_type": "code",
   "execution_count": 1,
   "metadata": {},
   "outputs": [],
   "source": [
    "\n",
    "import pandas as pd\n",
    "import seaborn as sns\n",
    "from rdkit import Chem\n",
    "from rdkit.Chem.Draw import IPythonConsole"
   ]
  },
  {
   "cell_type": "code",
   "execution_count": 2,
   "metadata": {},
   "outputs": [],
   "source": [
    "import matplotlib.pyplot as plt"
   ]
  },
  {
   "cell_type": "code",
   "execution_count": 3,
   "metadata": {},
   "outputs": [],
   "source": [
    "%matplotlib inline"
   ]
  },
  {
   "cell_type": "code",
   "execution_count": 4,
   "metadata": {},
   "outputs": [
    {
     "data": {
      "text/plain": [
       "'0.1'"
      ]
     },
     "execution_count": 4,
     "metadata": {},
     "output_type": "execute_result"
    }
   ],
   "source": [
    "from retrotide import *\n",
    "import retrotide\n",
    "retrotide.__version__"
   ]
  },
  {
   "cell_type": "markdown",
   "metadata": {},
   "source": [
    "## Enumerating random polyketides"
   ]
  },
  {
   "cell_type": "code",
   "execution_count": 5,
   "metadata": {},
   "outputs": [
    {
     "name": "stdout",
     "output_type": "stream",
     "text": [
      "5 unique polyketides generated.\n"
     ]
    },
    {
     "data": {
      "text/plain": [
       "['C=CCC1=C[C@@H](CCCCCC)CC(=C[C@@H](CC=C)CC=C[C@H](CCCC)C(=O)c2ccc[nH]2)OC(=O)[C@H](CC=C)C(=O)[C@H](C(C)C)[C@@H]1O',\n",
       " 'C=CC[C@H](C=C(C)C(=O)[C@H](OC)C(=O)[C@@H](C=C(CC)C(=O)O)CC=C)CC(=C[C@H](CC(C)C)C(C)C)CCCCc1c[nH]c(Cl)c1Cl',\n",
       " 'CCCCC(=C[C@@H](C(=O)[C@@H](C(=O)[C@H](C(=O)c1csc(C)n1)C(C)C)C(C)C)C(C)C)C=C(OC)[C@@H](O)CC(=O)[C@H](C=C(CCCC)C(=O)O)C(C)C',\n",
       " 'CCCCC(C=CC[C@H](CCCCc1c[nH]c(Cl)c1Cl)C(=O)[C@@H](O)C=C(C(C)C)[C@H]1OC(=O)[C@@H]1CCCCc1c[nH]c(Cl)c1Cl)=CC(=CC(=CCc1ccccc1)OC)C(C)C',\n",
       " 'CCCCCC[C@@H](C(=O)[C@H](CCCCc1c[nH]c(Cl)c1Cl)C(=O)[C@@H](O)C[C@H](C)[C@H](O)[C@H](CCCC)[C@H](O)C=C[C@H](CCCCc1c[nH]c(Cl)c1Cl)C(=O)CC(C)C)[C@H]1OC(=O)[C@@H]1CCCCc1c[nH]c(Cl)c1Cl']"
      ]
     },
     "execution_count": 5,
     "metadata": {},
     "output_type": "execute_result"
    }
   ],
   "source": [
    "random_PK_library_maker(5, random_state=42)"
   ]
  },
  {
   "cell_type": "code",
   "execution_count": 6,
   "metadata": {
    "scrolled": true
   },
   "outputs": [
    {
     "name": "stdout",
     "output_type": "stream",
     "text": [
      "100 unique polyketides generated.\n"
     ]
    }
   ],
   "source": [
    "smiles_lib, modules_lib = random_PK_library_maker(100, max_modules=7, return_modules=True, random_state=42)"
   ]
  },
  {
   "cell_type": "code",
   "execution_count": 7,
   "metadata": {},
   "outputs": [
    {
     "data": {
      "text/plain": [
       "[[[\"AT{'substrate': 'mthz'}\", 'loading: True'],\n",
       "  [\"AT{'substrate': 'butmal'}\", \"KR{'type': 'C1'}\", 'loading: False'],\n",
       "  [\"AT{'substrate': 'D-isobutmal'}\", \"KR{'type': 'B1'}\", 'loading: False'],\n",
       "  [\"AT{'substrate': 'isobutmal'}\", \"KR{'type': 'B1'}\", 'DH{}', 'loading: False'],\n",
       "  [\"AT{'substrate': 'allylmal'}\", \"KR{'type': 'B1'}\", 'DH{}', 'loading: False'],\n",
       "  [\"AT{'substrate': 'Malonyl-CoA'}\", 'loading: False'],\n",
       "  [\"AT{'substrate': 'mxmal'}\", \"KR{'type': 'B1'}\", 'DH{}', 'loading: False'],\n",
       "  [\"AT{'substrate': 'butmal'}\", 'loading: False']],\n",
       " [[\"AT{'substrate': 'cin'}\", 'loading: True'],\n",
       "  [\"AT{'substrate': 'isobutmal'}\", \"KR{'type': 'C1'}\", 'loading: False'],\n",
       "  [\"AT{'substrate': 'allylmal'}\", \"KR{'type': 'B1'}\", 'DH{}', 'loading: False'],\n",
       "  [\"AT{'substrate': 'allylmal'}\", 'loading: False'],\n",
       "  [\"AT{'substrate': 'mxmal'}\", 'loading: False'],\n",
       "  [\"AT{'substrate': 'hexmal'}\", \"KR{'type': 'B1'}\", 'DH{}', 'ER{}', 'loading: False'],\n",
       "  [\"AT{'substrate': 'isobutmal'}\", \"KR{'type': 'B1'}\", 'DH{}', 'loading: False'],\n",
       "  [\"AT{'substrate': 'Methylmalonyl-CoA'}\", 'loading: False']],\n",
       " [[\"AT{'substrate': 'Methylmalonyl-CoA'}\", 'loading: True'],\n",
       "  [\"AT{'substrate': 'Methylmalonyl-CoA'}\", \"KR{'type': 'B1'}\", 'loading: False'],\n",
       "  [\"AT{'substrate': 'D-isobutmal'}\", \"KR{'type': 'B1'}\", 'DH{}', 'ER{}', 'loading: False'],\n",
       "  [\"AT{'substrate': 'allylmal'}\", \"KR{'type': 'B1'}\", 'DH{}', 'ER{}', 'loading: False'],\n",
       "  [\"AT{'substrate': 'allylmal'}\", \"KR{'type': 'B1'}\", 'DH{}', 'loading: False'],\n",
       "  [\"AT{'substrate': 'emal'}\", \"KR{'type': 'C1'}\", 'loading: False'],\n",
       "  [\"AT{'substrate': 'Malonyl-CoA'}\", \"KR{'type': 'B'}\", 'DH{}', 'ER{}', 'loading: False'],\n",
       "  [\"AT{'substrate': 'Methylmalonyl-CoA'}\", \"KR{'type': 'B1'}\", 'loading: False']],\n",
       " [[\"AT{'substrate': 'cyclopentene'}\", 'loading: True'],\n",
       "  [\"AT{'substrate': 'Malonyl-CoA'}\", \"KR{'type': 'B'}\", 'DH{}', 'ER{}', 'loading: False'],\n",
       "  [\"AT{'substrate': 'hexmal'}\", \"KR{'type': 'B1'}\", 'DH{}', 'loading: False'],\n",
       "  [\"AT{'substrate': 'mxmal'}\", \"KR{'type': 'B1'}\", 'loading: False'],\n",
       "  [\"AT{'substrate': 'Methylmalonyl-CoA'}\", \"KR{'type': 'C1'}\", 'loading: False'],\n",
       "  [\"AT{'substrate': 'allylmal'}\", \"KR{'type': 'B1'}\", 'DH{}', 'loading: False'],\n",
       "  [\"AT{'substrate': 'emal'}\", \"KR{'type': 'B1'}\", 'DH{}', 'loading: False'],\n",
       "  [\"AT{'substrate': 'hexmal'}\", \"KR{'type': 'B1'}\", 'loading: False']],\n",
       " [[\"AT{'substrate': 'ema'}\", 'loading: True'],\n",
       "  [\"AT{'substrate': 'mxmal'}\", \"KR{'type': 'B1'}\", 'loading: False'],\n",
       "  [\"AT{'substrate': 'Malonyl-CoA'}\", 'loading: False'],\n",
       "  [\"AT{'substrate': 'mxmal'}\", \"KR{'type': 'B1'}\", 'DH{}', 'loading: False'],\n",
       "  [\"AT{'substrate': 'allylmal'}\", \"KR{'type': 'B1'}\", 'DH{}', 'loading: False'],\n",
       "  [\"AT{'substrate': 'mxmal'}\", \"KR{'type': 'B1'}\", 'loading: False'],\n",
       "  [\"AT{'substrate': 'Methylmalonyl-CoA'}\", \"KR{'type': 'B1'}\", 'DH{}', 'loading: False']],\n",
       " [[\"AT{'substrate': '3measp'}\", 'loading: True'],\n",
       "  [\"AT{'substrate': 'butmal'}\", \"KR{'type': 'C1'}\", 'loading: False'],\n",
       "  [\"AT{'substrate': 'hmal'}\", \"KR{'type': 'B1'}\", 'DH{}', 'loading: False'],\n",
       "  [\"AT{'substrate': 'butmal'}\", \"KR{'type': 'B1'}\", 'loading: False'],\n",
       "  [\"AT{'substrate': 'allylmal'}\", \"KR{'type': 'B1'}\", 'DH{}', 'loading: False'],\n",
       "  [\"AT{'substrate': 'butmal'}\", 'loading: False']],\n",
       " [[\"AT{'substrate': 'Acetyl-CoA'}\", 'loading: True'],\n",
       "  [\"AT{'substrate': 'hmal'}\", \"KR{'type': 'B1'}\", 'loading: False'],\n",
       "  [\"AT{'substrate': 'Methylmalonyl-CoA'}\", \"KR{'type': 'B1'}\", 'loading: False'],\n",
       "  [\"AT{'substrate': 'hmal'}\", 'loading: False'],\n",
       "  [\"AT{'substrate': 'emal'}\", 'loading: False'],\n",
       "  [\"AT{'substrate': 'isobutmal'}\", \"KR{'type': 'C1'}\", 'loading: False'],\n",
       "  [\"AT{'substrate': 'emal'}\", \"KR{'type': 'B1'}\", 'loading: False'],\n",
       "  [\"AT{'substrate': 'allylmal'}\", \"KR{'type': 'B1'}\", 'loading: False']],\n",
       " [[\"AT{'substrate': 'benz'}\", 'loading: True'],\n",
       "  [\"AT{'substrate': 'isobutmal'}\", \"KR{'type': 'C1'}\", 'loading: False'],\n",
       "  [\"AT{'substrate': 'butmal'}\", \"KR{'type': 'B1'}\", 'loading: False'],\n",
       "  [\"AT{'substrate': 'allylmal'}\", \"KR{'type': 'C1'}\", 'loading: False'],\n",
       "  [\"AT{'substrate': 'hexmal'}\", \"KR{'type': 'C1'}\", 'loading: False'],\n",
       "  [\"AT{'substrate': 'mxmal'}\", 'loading: False']],\n",
       " [[\"AT{'substrate': 'pyr'}\", 'loading: True'],\n",
       "  [\"AT{'substrate': 'allylmal'}\", 'loading: False'],\n",
       "  [\"AT{'substrate': 'emal'}\", \"KR{'type': 'B1'}\", 'loading: False'],\n",
       "  [\"AT{'substrate': 'Malonyl-CoA'}\", \"KR{'type': 'B'}\", 'DH{}', 'loading: False'],\n",
       "  [\"AT{'substrate': 'isobutmal'}\", 'loading: False'],\n",
       "  [\"AT{'substrate': 'hmal'}\", \"KR{'type': 'C1'}\", 'loading: False'],\n",
       "  [\"AT{'substrate': 'hexmal'}\", 'loading: False']],\n",
       " [[\"AT{'substrate': 'AHBA'}\", 'loading: True'],\n",
       "  [\"AT{'substrate': 'allylmal'}\", \"KR{'type': 'C1'}\", 'loading: False'],\n",
       "  [\"AT{'substrate': 'Methylmalonyl-CoA'}\", \"KR{'type': 'B1'}\", 'DH{}', 'loading: False'],\n",
       "  [\"AT{'substrate': 'hmal'}\", \"KR{'type': 'B1'}\", 'loading: False'],\n",
       "  [\"AT{'substrate': 'DCP'}\", \"KR{'type': 'C1'}\", 'loading: False'],\n",
       "  [\"AT{'substrate': 'D-isobutmal'}\", 'loading: False'],\n",
       "  [\"AT{'substrate': 'isobutmal'}\", \"KR{'type': 'B1'}\", 'loading: False'],\n",
       "  [\"AT{'substrate': 'D-isobutmal'}\", \"KR{'type': 'B1'}\", 'loading: False']],\n",
       " [[\"AT{'substrate': 'DHCH'}\", 'loading: True'],\n",
       "  [\"AT{'substrate': 'Methylmalonyl-CoA'}\", 'loading: False'],\n",
       "  [\"AT{'substrate': 'hmal'}\", \"KR{'type': 'B1'}\", 'loading: False'],\n",
       "  [\"AT{'substrate': 'allylmal'}\", \"KR{'type': 'C1'}\", 'loading: False'],\n",
       "  [\"AT{'substrate': 'emal'}\", \"KR{'type': 'B1'}\", 'DH{}', 'loading: False'],\n",
       "  [\"AT{'substrate': 'emal'}\", \"KR{'type': 'B1'}\", 'DH{}', 'loading: False'],\n",
       "  [\"AT{'substrate': 'hexmal'}\", \"KR{'type': 'B1'}\", 'DH{}', 'loading: False'],\n",
       "  [\"AT{'substrate': 'DCP'}\", \"KR{'type': 'B1'}\", 'loading: False']],\n",
       " [[\"AT{'substrate': 'trans-1,2-CPDA'}\", 'loading: True'],\n",
       "  [\"AT{'substrate': 'hexmal'}\", \"KR{'type': 'B1'}\", 'loading: False'],\n",
       "  [\"AT{'substrate': 'hexmal'}\", 'loading: False'],\n",
       "  [\"AT{'substrate': 'allylmal'}\", \"KR{'type': 'C1'}\", 'loading: False'],\n",
       "  [\"AT{'substrate': 'emal'}\", \"KR{'type': 'B1'}\", 'DH{}', 'loading: False'],\n",
       "  [\"AT{'substrate': 'hexmal'}\", \"KR{'type': 'B1'}\", 'DH{}', 'loading: False'],\n",
       "  [\"AT{'substrate': 'butmal'}\", \"KR{'type': 'B1'}\", 'loading: False']],\n",
       " [[\"AT{'substrate': 'Acetyl-CoA'}\", 'loading: True'],\n",
       "  [\"AT{'substrate': 'Malonyl-CoA'}\", 'loading: False'],\n",
       "  [\"AT{'substrate': 'DCP'}\", \"KR{'type': 'B1'}\", 'DH{}', 'loading: False'],\n",
       "  [\"AT{'substrate': 'allylmal'}\", \"KR{'type': 'C1'}\", 'loading: False'],\n",
       "  [\"AT{'substrate': 'butmal'}\", \"KR{'type': 'B1'}\", 'DH{}', 'loading: False'],\n",
       "  [\"AT{'substrate': 'allylmal'}\", \"KR{'type': 'C1'}\", 'loading: False'],\n",
       "  [\"AT{'substrate': 'isobutmal'}\", \"KR{'type': 'B1'}\", 'DH{}', 'loading: False'],\n",
       "  [\"AT{'substrate': 'hmal'}\", \"KR{'type': 'B1'}\", 'DH{}', 'loading: False']],\n",
       " [[\"AT{'substrate': '3measp'}\", 'loading: True'],\n",
       "  [\"AT{'substrate': 'hmal'}\", 'loading: False'],\n",
       "  [\"AT{'substrate': 'D-isobutmal'}\", \"KR{'type': 'B1'}\", 'DH{}', 'loading: False'],\n",
       "  [\"AT{'substrate': 'DCP'}\", 'loading: False'],\n",
       "  [\"AT{'substrate': 'mxmal'}\", \"KR{'type': 'B1'}\", 'DH{}', 'ER{}', 'loading: False'],\n",
       "  [\"AT{'substrate': 'Malonyl-CoA'}\", \"KR{'type': 'B'}\", 'DH{}', 'ER{}', 'loading: False'],\n",
       "  [\"AT{'substrate': 'hexmal'}\", \"KR{'type': 'B1'}\", 'DH{}', 'loading: False'],\n",
       "  [\"AT{'substrate': 'allylmal'}\", \"KR{'type': 'B1'}\", 'DH{}', 'ER{}', 'loading: False']],\n",
       " [[\"AT{'substrate': 'cemal'}\", 'loading: True'],\n",
       "  [\"AT{'substrate': 'hmal'}\", \"KR{'type': 'C1'}\", 'loading: False'],\n",
       "  [\"AT{'substrate': 'isobutmal'}\", \"KR{'type': 'C1'}\", 'loading: False'],\n",
       "  [\"AT{'substrate': 'isobutmal'}\", \"KR{'type': 'B1'}\", 'DH{}', 'ER{}', 'loading: False'],\n",
       "  [\"AT{'substrate': 'hexmal'}\", \"KR{'type': 'B1'}\", 'loading: False'],\n",
       "  [\"AT{'substrate': 'hexmal'}\", \"KR{'type': 'B1'}\", 'DH{}', 'loading: False'],\n",
       "  [\"AT{'substrate': 'allylmal'}\", \"KR{'type': 'B1'}\", 'DH{}', 'ER{}', 'loading: False'],\n",
       "  [\"AT{'substrate': 'hexmal'}\", \"KR{'type': 'B1'}\", 'loading: False']],\n",
       " [[\"AT{'substrate': 'cin'}\", 'loading: True'],\n",
       "  [\"AT{'substrate': 'D-isobutmal'}\", \"KR{'type': 'B1'}\", 'loading: False'],\n",
       "  [\"AT{'substrate': 'hmal'}\", \"KR{'type': 'B1'}\", 'DH{}', 'loading: False'],\n",
       "  [\"AT{'substrate': 'allylmal'}\", \"KR{'type': 'B1'}\", 'DH{}', 'ER{}', 'loading: False'],\n",
       "  [\"AT{'substrate': 'emal'}\", 'loading: False'],\n",
       "  [\"AT{'substrate': 'hmal'}\", \"KR{'type': 'C1'}\", 'loading: False'],\n",
       "  [\"AT{'substrate': 'mxmal'}\", \"KR{'type': 'B1'}\", 'DH{}', 'loading: False'],\n",
       "  [\"AT{'substrate': 'butmal'}\", 'loading: False']],\n",
       " [[\"AT{'substrate': 'cemal'}\", 'loading: True'],\n",
       "  [\"AT{'substrate': 'allylmal'}\", \"KR{'type': 'B1'}\", 'DH{}', 'ER{}', 'loading: False'],\n",
       "  [\"AT{'substrate': 'DCP'}\", \"KR{'type': 'B1'}\", 'loading: False'],\n",
       "  [\"AT{'substrate': 'Malonyl-CoA'}\", \"KR{'type': 'B'}\", 'loading: False'],\n",
       "  [\"AT{'substrate': 'emal'}\", \"KR{'type': 'B1'}\", 'loading: False'],\n",
       "  [\"AT{'substrate': 'hmal'}\", \"KR{'type': 'B1'}\", 'DH{}', 'ER{}', 'loading: False']],\n",
       " [[\"AT{'substrate': 'cemal'}\", 'loading: True'],\n",
       "  [\"AT{'substrate': 'allylmal'}\", \"KR{'type': 'B1'}\", 'DH{}', 'ER{}', 'loading: False'],\n",
       "  [\"AT{'substrate': 'Methylmalonyl-CoA'}\", \"KR{'type': 'B1'}\", 'loading: False'],\n",
       "  [\"AT{'substrate': 'mxmal'}\", \"KR{'type': 'B1'}\", 'DH{}', 'ER{}', 'loading: False'],\n",
       "  [\"AT{'substrate': 'Methylmalonyl-CoA'}\", \"KR{'type': 'B1'}\", 'loading: False'],\n",
       "  [\"AT{'substrate': 'hexmal'}\", \"KR{'type': 'B1'}\", 'DH{}', 'ER{}', 'loading: False']],\n",
       " [[\"AT{'substrate': 'pyr'}\", 'loading: True'],\n",
       "  [\"AT{'substrate': 'Malonyl-CoA'}\", 'loading: False'],\n",
       "  [\"AT{'substrate': 'mxmal'}\", \"KR{'type': 'B1'}\", 'DH{}', 'ER{}', 'loading: False'],\n",
       "  [\"AT{'substrate': 'Malonyl-CoA'}\", 'loading: False'],\n",
       "  [\"AT{'substrate': 'D-isobutmal'}\", \"KR{'type': 'B1'}\", 'DH{}', 'loading: False'],\n",
       "  [\"AT{'substrate': 'DCP'}\", \"KR{'type': 'B1'}\", 'loading: False'],\n",
       "  [\"AT{'substrate': 'allylmal'}\", \"KR{'type': 'C1'}\", 'loading: False'],\n",
       "  [\"AT{'substrate': 'Malonyl-CoA'}\", \"KR{'type': 'B'}\", 'DH{}', 'ER{}', 'loading: False']],\n",
       " [[\"AT{'substrate': 'plac'}\", 'loading: True'],\n",
       "  [\"AT{'substrate': 'butmal'}\", \"KR{'type': 'B1'}\", 'loading: False'],\n",
       "  [\"AT{'substrate': 'isobutmal'}\", 'loading: False'],\n",
       "  [\"AT{'substrate': 'hexmal'}\", 'loading: False'],\n",
       "  [\"AT{'substrate': 'allylmal'}\", \"KR{'type': 'B1'}\", 'DH{}', 'ER{}', 'loading: False'],\n",
       "  [\"AT{'substrate': 'Malonyl-CoA'}\", 'loading: False'],\n",
       "  [\"AT{'substrate': 'DCP'}\", \"KR{'type': 'B1'}\", 'DH{}', 'loading: False'],\n",
       "  [\"AT{'substrate': 'Malonyl-CoA'}\", \"KR{'type': 'B'}\", 'loading: False']],\n",
       " [[\"AT{'substrate': 'pyr'}\", 'loading: True'],\n",
       "  [\"AT{'substrate': 'hmal'}\", \"KR{'type': 'B1'}\", 'DH{}', 'loading: False'],\n",
       "  [\"AT{'substrate': 'hexmal'}\", \"KR{'type': 'C1'}\", 'loading: False'],\n",
       "  [\"AT{'substrate': 'D-isobutmal'}\", 'loading: False'],\n",
       "  [\"AT{'substrate': 'allylmal'}\", \"KR{'type': 'B1'}\", 'DH{}', 'ER{}', 'loading: False'],\n",
       "  [\"AT{'substrate': 'hexmal'}\", \"KR{'type': 'B1'}\", 'loading: False'],\n",
       "  [\"AT{'substrate': 'Methylmalonyl-CoA'}\", \"KR{'type': 'B1'}\", 'DH{}', 'ER{}', 'loading: False']],\n",
       " [[\"AT{'substrate': 'pyr'}\", 'loading: True'],\n",
       "  [\"AT{'substrate': 'Malonyl-CoA'}\", \"KR{'type': 'B'}\", 'DH{}', 'loading: False'],\n",
       "  [\"AT{'substrate': 'isobutmal'}\", \"KR{'type': 'B1'}\", 'DH{}', 'ER{}', 'loading: False'],\n",
       "  [\"AT{'substrate': 'DCP'}\", \"KR{'type': 'B1'}\", 'DH{}', 'ER{}', 'loading: False'],\n",
       "  [\"AT{'substrate': 'D-isobutmal'}\", \"KR{'type': 'C1'}\", 'loading: False'],\n",
       "  [\"AT{'substrate': 'D-isobutmal'}\", \"KR{'type': 'B1'}\", 'loading: False'],\n",
       "  [\"AT{'substrate': 'allylmal'}\", \"KR{'type': 'B1'}\", 'DH{}', 'ER{}', 'loading: False'],\n",
       "  [\"AT{'substrate': 'mxmal'}\", \"KR{'type': 'B1'}\", 'loading: False']],\n",
       " [[\"AT{'substrate': 'Methylmalonyl-CoA'}\", 'loading: True'],\n",
       "  [\"AT{'substrate': 'D-isobutmal'}\", \"KR{'type': 'C1'}\", 'loading: False'],\n",
       "  [\"AT{'substrate': 'D-isobutmal'}\", \"KR{'type': 'B1'}\", 'loading: False'],\n",
       "  [\"AT{'substrate': 'allylmal'}\", \"KR{'type': 'B1'}\", 'DH{}', 'ER{}', 'loading: False'],\n",
       "  [\"AT{'substrate': 'mxmal'}\", 'loading: False'],\n",
       "  [\"AT{'substrate': 'D-isobutmal'}\", 'loading: False'],\n",
       "  [\"AT{'substrate': 'emal'}\", \"KR{'type': 'C1'}\", 'loading: False']],\n",
       " [[\"AT{'substrate': 'butmal'}\", 'loading: True'],\n",
       "  [\"AT{'substrate': 'mxmal'}\", \"KR{'type': 'B1'}\", 'DH{}', 'ER{}', 'loading: False'],\n",
       "  [\"AT{'substrate': 'D-isobutmal'}\", 'loading: False'],\n",
       "  [\"AT{'substrate': 'butmal'}\", \"KR{'type': 'C1'}\", 'loading: False'],\n",
       "  [\"AT{'substrate': 'DCP'}\", \"KR{'type': 'C1'}\", 'loading: False'],\n",
       "  [\"AT{'substrate': 'allylmal'}\", \"KR{'type': 'B1'}\", 'DH{}', 'ER{}', 'loading: False'],\n",
       "  [\"AT{'substrate': 'butmal'}\", \"KR{'type': 'C1'}\", 'loading: False']],\n",
       " [[\"AT{'substrate': 'pyr'}\", 'loading: True'],\n",
       "  [\"AT{'substrate': 'allylmal'}\", \"KR{'type': 'B1'}\", 'DH{}', 'ER{}', 'loading: False'],\n",
       "  [\"AT{'substrate': 'butmal'}\", \"KR{'type': 'B1'}\", 'loading: False'],\n",
       "  [\"AT{'substrate': 'DCP'}\", \"KR{'type': 'B1'}\", 'loading: False'],\n",
       "  [\"AT{'substrate': 'Malonyl-CoA'}\", \"KR{'type': 'B'}\", 'loading: False'],\n",
       "  [\"AT{'substrate': 'mxmal'}\", \"KR{'type': 'B1'}\", 'DH{}', 'loading: False'],\n",
       "  [\"AT{'substrate': 'D-isobutmal'}\", 'loading: False']],\n",
       " [[\"AT{'substrate': 'benz'}\", 'loading: True'],\n",
       "  [\"AT{'substrate': 'Methylmalonyl-CoA'}\", \"KR{'type': 'B1'}\", 'loading: False'],\n",
       "  [\"AT{'substrate': 'hmal'}\", \"KR{'type': 'B1'}\", 'loading: False'],\n",
       "  [\"AT{'substrate': 'emal'}\", \"KR{'type': 'B1'}\", 'DH{}', 'loading: False'],\n",
       "  [\"AT{'substrate': 'allylmal'}\", \"KR{'type': 'C1'}\", 'loading: False'],\n",
       "  [\"AT{'substrate': 'DCP'}\", \"KR{'type': 'C1'}\", 'loading: False'],\n",
       "  [\"AT{'substrate': 'hmal'}\", \"KR{'type': 'B1'}\", 'DH{}', 'ER{}', 'loading: False'],\n",
       "  [\"AT{'substrate': 'butmal'}\", \"KR{'type': 'C1'}\", 'loading: False']],\n",
       " [[\"AT{'substrate': 'guan'}\", 'loading: True'],\n",
       "  [\"AT{'substrate': 'emal'}\", \"KR{'type': 'B1'}\", 'DH{}', 'ER{}', 'loading: False'],\n",
       "  [\"AT{'substrate': 'D-isobutmal'}\", \"KR{'type': 'B1'}\", 'DH{}', 'ER{}', 'loading: False'],\n",
       "  [\"AT{'substrate': 'isobutmal'}\", \"KR{'type': 'B1'}\", 'DH{}', 'loading: False'],\n",
       "  [\"AT{'substrate': 'Malonyl-CoA'}\", \"KR{'type': 'B'}\", 'DH{}', 'ER{}', 'loading: False'],\n",
       "  [\"AT{'substrate': 'hexmal'}\", \"KR{'type': 'B1'}\", 'loading: False'],\n",
       "  [\"AT{'substrate': 'allylmal'}\", \"KR{'type': 'C1'}\", 'loading: False']],\n",
       " [[\"AT{'substrate': 'cyclopentene'}\", 'loading: True'],\n",
       "  [\"AT{'substrate': 'hexmal'}\", \"KR{'type': 'B1'}\", 'DH{}', 'loading: False'],\n",
       "  [\"AT{'substrate': 'allylmal'}\", \"KR{'type': 'C1'}\", 'loading: False'],\n",
       "  [\"AT{'substrate': 'emal'}\", 'loading: False'],\n",
       "  [\"AT{'substrate': 'allylmal'}\", 'loading: False'],\n",
       "  [\"AT{'substrate': 'butmal'}\", 'loading: False'],\n",
       "  [\"AT{'substrate': 'allylmal'}\", \"KR{'type': 'C1'}\", 'loading: False'],\n",
       "  [\"AT{'substrate': 'Methylmalonyl-CoA'}\", \"KR{'type': 'C1'}\", 'loading: False']],\n",
       " [[\"AT{'substrate': 'benz'}\", 'loading: True'],\n",
       "  [\"AT{'substrate': 'allylmal'}\", 'loading: False'],\n",
       "  [\"AT{'substrate': 'Methylmalonyl-CoA'}\", \"KR{'type': 'B1'}\", 'DH{}', 'ER{}', 'loading: False'],\n",
       "  [\"AT{'substrate': 'hexmal'}\", \"KR{'type': 'B1'}\", 'loading: False'],\n",
       "  [\"AT{'substrate': 'butmal'}\", \"KR{'type': 'B1'}\", 'DH{}', 'ER{}', 'loading: False'],\n",
       "  [\"AT{'substrate': 'hexmal'}\", \"KR{'type': 'B1'}\", 'DH{}', 'loading: False'],\n",
       "  [\"AT{'substrate': 'allylmal'}\", \"KR{'type': 'C1'}\", 'loading: False'],\n",
       "  [\"AT{'substrate': 'Methylmalonyl-CoA'}\", \"KR{'type': 'B1'}\", 'loading: False']],\n",
       " [[\"AT{'substrate': 'cin'}\", 'loading: True'],\n",
       "  [\"AT{'substrate': 'mxmal'}\", \"KR{'type': 'B1'}\", 'DH{}', 'loading: False'],\n",
       "  [\"AT{'substrate': 'hmal'}\", 'loading: False'],\n",
       "  [\"AT{'substrate': 'allylmal'}\", \"KR{'type': 'C1'}\", 'loading: False'],\n",
       "  [\"AT{'substrate': 'mxmal'}\", \"KR{'type': 'B1'}\", 'loading: False'],\n",
       "  [\"AT{'substrate': 'Methylmalonyl-CoA'}\", 'loading: False'],\n",
       "  [\"AT{'substrate': 'butmal'}\", \"KR{'type': 'C1'}\", 'loading: False']],\n",
       " [[\"AT{'substrate': 'cyclopentene'}\", 'loading: True'],\n",
       "  [\"AT{'substrate': 'Malonyl-CoA'}\", \"KR{'type': 'B'}\", 'DH{}', 'ER{}', 'loading: False'],\n",
       "  [\"AT{'substrate': 'allylmal'}\", \"KR{'type': 'C1'}\", 'loading: False'],\n",
       "  [\"AT{'substrate': 'mxmal'}\", \"KR{'type': 'C1'}\", 'loading: False'],\n",
       "  [\"AT{'substrate': 'DCP'}\", \"KR{'type': 'B1'}\", 'DH{}', 'loading: False']],\n",
       " [[\"AT{'substrate': 'CHC-CoA'}\", 'loading: True'],\n",
       "  [\"AT{'substrate': 'Malonyl-CoA'}\", \"KR{'type': 'B'}\", 'loading: False'],\n",
       "  [\"AT{'substrate': 'hexmal'}\", \"KR{'type': 'B1'}\", 'DH{}', 'ER{}', 'loading: False'],\n",
       "  [\"AT{'substrate': 'Malonyl-CoA'}\", \"KR{'type': 'B'}\", 'DH{}', 'ER{}', 'loading: False'],\n",
       "  [\"AT{'substrate': 'isobutmal'}\", 'loading: False'],\n",
       "  [\"AT{'substrate': 'allylmal'}\", 'loading: False'],\n",
       "  [\"AT{'substrate': 'emal'}\", 'loading: False'],\n",
       "  [\"AT{'substrate': 'mxmal'}\", \"KR{'type': 'B1'}\", 'DH{}', 'loading: False']],\n",
       " [[\"AT{'substrate': 'cemal'}\", 'loading: True'],\n",
       "  [\"AT{'substrate': 'hmal'}\", \"KR{'type': 'B1'}\", 'loading: False'],\n",
       "  [\"AT{'substrate': 'Methylmalonyl-CoA'}\", \"KR{'type': 'B1'}\", 'DH{}', 'ER{}', 'loading: False'],\n",
       "  [\"AT{'substrate': 'butmal'}\", \"KR{'type': 'B1'}\", 'DH{}', 'ER{}', 'loading: False'],\n",
       "  [\"AT{'substrate': 'hmal'}\", \"KR{'type': 'B1'}\", 'loading: False'],\n",
       "  [\"AT{'substrate': 'allylmal'}\", 'loading: False'],\n",
       "  [\"AT{'substrate': 'hexmal'}\", 'loading: False']],\n",
       " [[\"AT{'substrate': 'mthz'}\", 'loading: True'],\n",
       "  [\"AT{'substrate': 'Methylmalonyl-CoA'}\", 'loading: False'],\n",
       "  [\"AT{'substrate': 'D-isobutmal'}\", \"KR{'type': 'B1'}\", 'DH{}', 'loading: False'],\n",
       "  [\"AT{'substrate': 'allylmal'}\", \"KR{'type': 'B1'}\", 'DH{}', 'ER{}', 'loading: False'],\n",
       "  [\"AT{'substrate': 'isobutmal'}\", \"KR{'type': 'B1'}\", 'DH{}', 'loading: False'],\n",
       "  [\"AT{'substrate': 'emal'}\", \"KR{'type': 'B1'}\", 'loading: False'],\n",
       "  [\"AT{'substrate': 'DCP'}\", \"KR{'type': 'B1'}\", 'DH{}', 'ER{}', 'loading: False']],\n",
       " [[\"AT{'substrate': 'DHCHene'}\", 'loading: True'],\n",
       "  [\"AT{'substrate': 'Methylmalonyl-CoA'}\", \"KR{'type': 'B1'}\", 'DH{}', 'loading: False'],\n",
       "  [\"AT{'substrate': 'allylmal'}\", 'loading: False'],\n",
       "  [\"AT{'substrate': 'emal'}\", \"KR{'type': 'B1'}\", 'DH{}', 'ER{}', 'loading: False'],\n",
       "  [\"AT{'substrate': 'hmal'}\", 'loading: False'],\n",
       "  [\"AT{'substrate': 'DCP'}\", \"KR{'type': 'C1'}\", 'loading: False'],\n",
       "  [\"AT{'substrate': 'Malonyl-CoA'}\", 'loading: False'],\n",
       "  [\"AT{'substrate': 'hexmal'}\", \"KR{'type': 'C1'}\", 'loading: False']],\n",
       " [[\"AT{'substrate': 'prop'}\", 'loading: True'],\n",
       "  [\"AT{'substrate': 'mxmal'}\", \"KR{'type': 'C1'}\", 'loading: False'],\n",
       "  [\"AT{'substrate': 'hexmal'}\", \"KR{'type': 'B1'}\", 'DH{}', 'ER{}', 'loading: False'],\n",
       "  [\"AT{'substrate': 'allylmal'}\", 'loading: False'],\n",
       "  [\"AT{'substrate': 'hmal'}\", \"KR{'type': 'B1'}\", 'DH{}', 'ER{}', 'loading: False'],\n",
       "  [\"AT{'substrate': 'emal'}\", 'loading: False'],\n",
       "  [\"AT{'substrate': 'DCP'}\", \"KR{'type': 'C1'}\", 'loading: False']],\n",
       " [[\"AT{'substrate': 'DHCHene'}\", 'loading: True'],\n",
       "  [\"AT{'substrate': 'D-isobutmal'}\", 'loading: False'],\n",
       "  [\"AT{'substrate': 'allylmal'}\", 'loading: False'],\n",
       "  [\"AT{'substrate': 'hmal'}\", \"KR{'type': 'B1'}\", 'loading: False'],\n",
       "  [\"AT{'substrate': 'mxmal'}\", \"KR{'type': 'B1'}\", 'DH{}', 'loading: False']],\n",
       " [[\"AT{'substrate': '3measp'}\", 'loading: True'],\n",
       "  [\"AT{'substrate': 'Methylmalonyl-CoA'}\", 'loading: False'],\n",
       "  [\"AT{'substrate': 'hexmal'}\", \"KR{'type': 'B1'}\", 'loading: False'],\n",
       "  [\"AT{'substrate': 'D-isobutmal'}\", 'loading: False'],\n",
       "  [\"AT{'substrate': 'Methylmalonyl-CoA'}\", \"KR{'type': 'C1'}\", 'loading: False'],\n",
       "  [\"AT{'substrate': 'allylmal'}\", \"KR{'type': 'B1'}\", 'loading: False'],\n",
       "  [\"AT{'substrate': 'D-isobutmal'}\", \"KR{'type': 'C1'}\", 'loading: False'],\n",
       "  [\"AT{'substrate': 'D-isobutmal'}\", \"KR{'type': 'B1'}\", 'DH{}', 'ER{}', 'loading: False']],\n",
       " [[\"AT{'substrate': 'cin'}\", 'loading: True'],\n",
       "  [\"AT{'substrate': 'isobutmal'}\", \"KR{'type': 'B1'}\", 'loading: False'],\n",
       "  [\"AT{'substrate': 'allylmal'}\", \"KR{'type': 'B1'}\", 'loading: False'],\n",
       "  [\"AT{'substrate': 'Methylmalonyl-CoA'}\", \"KR{'type': 'C1'}\", 'loading: False'],\n",
       "  [\"AT{'substrate': 'Malonyl-CoA'}\", \"KR{'type': 'B'}\", 'loading: False'],\n",
       "  [\"AT{'substrate': 'hexmal'}\", \"KR{'type': 'C1'}\", 'loading: False'],\n",
       "  [\"AT{'substrate': 'mxmal'}\", \"KR{'type': 'B1'}\", 'DH{}', 'ER{}', 'loading: False'],\n",
       "  [\"AT{'substrate': 'hexmal'}\", 'loading: False']],\n",
       " [[\"AT{'substrate': 'cyclopentene'}\", 'loading: True'],\n",
       "  [\"AT{'substrate': 'allylmal'}\", \"KR{'type': 'B1'}\", 'loading: False'],\n",
       "  [\"AT{'substrate': 'hexmal'}\", \"KR{'type': 'B1'}\", 'DH{}', 'loading: False'],\n",
       "  [\"AT{'substrate': 'D-isobutmal'}\", \"KR{'type': 'C1'}\", 'loading: False'],\n",
       "  [\"AT{'substrate': 'DCP'}\", \"KR{'type': 'C1'}\", 'loading: False'],\n",
       "  [\"AT{'substrate': 'D-isobutmal'}\", \"KR{'type': 'B1'}\", 'DH{}', 'loading: False'],\n",
       "  [\"AT{'substrate': 'D-isobutmal'}\", 'loading: False'],\n",
       "  [\"AT{'substrate': 'allylmal'}\", \"KR{'type': 'C1'}\", 'loading: False']],\n",
       " [[\"AT{'substrate': 'AHBA'}\", 'loading: True'],\n",
       "  [\"AT{'substrate': 'emal'}\", \"KR{'type': 'C1'}\", 'loading: False'],\n",
       "  [\"AT{'substrate': 'butmal'}\", \"KR{'type': 'B1'}\", 'loading: False'],\n",
       "  [\"AT{'substrate': 'butmal'}\", \"KR{'type': 'B1'}\", 'DH{}', 'ER{}', 'loading: False'],\n",
       "  [\"AT{'substrate': 'D-isobutmal'}\", \"KR{'type': 'B1'}\", 'DH{}', 'loading: False'],\n",
       "  [\"AT{'substrate': 'allylmal'}\", \"KR{'type': 'C1'}\", 'loading: False'],\n",
       "  [\"AT{'substrate': 'mxmal'}\", \"KR{'type': 'B1'}\", 'DH{}', 'loading: False'],\n",
       "  [\"AT{'substrate': 'Methylmalonyl-CoA'}\", 'loading: False']],\n",
       " [[\"AT{'substrate': 'isoval'}\", 'loading: True'],\n",
       "  [\"AT{'substrate': 'hmal'}\", \"KR{'type': 'B1'}\", 'DH{}', 'loading: False'],\n",
       "  [\"AT{'substrate': 'D-isobutmal'}\", \"KR{'type': 'C1'}\", 'loading: False'],\n",
       "  [\"AT{'substrate': 'DCP'}\", \"KR{'type': 'B1'}\", 'loading: False'],\n",
       "  [\"AT{'substrate': 'emal'}\", \"KR{'type': 'B1'}\", 'DH{}', 'loading: False'],\n",
       "  [\"AT{'substrate': 'allylmal'}\", \"KR{'type': 'B1'}\", 'DH{}', 'ER{}', 'loading: False'],\n",
       "  [\"AT{'substrate': 'butmal'}\", \"KR{'type': 'C1'}\", 'loading: False']],\n",
       " [[\"AT{'substrate': 'DCP'}\", 'loading: True'],\n",
       "  [\"AT{'substrate': 'hmal'}\", \"KR{'type': 'B1'}\", 'DH{}', 'loading: False'],\n",
       "  [\"AT{'substrate': 'isobutmal'}\", \"KR{'type': 'B1'}\", 'DH{}', 'ER{}', 'loading: False'],\n",
       "  [\"AT{'substrate': 'hexmal'}\", \"KR{'type': 'B1'}\", 'DH{}', 'loading: False'],\n",
       "  [\"AT{'substrate': 'allylmal'}\", \"KR{'type': 'B1'}\", 'DH{}', 'ER{}', 'loading: False'],\n",
       "  [\"AT{'substrate': 'butmal'}\", \"KR{'type': 'C1'}\", 'loading: False'],\n",
       "  [\"AT{'substrate': 'hexmal'}\", \"KR{'type': 'C1'}\", 'loading: False'],\n",
       "  [\"AT{'substrate': 'butmal'}\", \"KR{'type': 'B1'}\", 'DH{}', 'ER{}', 'loading: False']],\n",
       " [[\"AT{'substrate': 'plac'}\", 'loading: True'],\n",
       "  [\"AT{'substrate': 'allylmal'}\", \"KR{'type': 'B1'}\", 'loading: False'],\n",
       "  [\"AT{'substrate': 'hmal'}\", \"KR{'type': 'B1'}\", 'DH{}', 'ER{}', 'loading: False'],\n",
       "  [\"AT{'substrate': 'emal'}\", 'loading: False'],\n",
       "  [\"AT{'substrate': 'mxmal'}\", \"KR{'type': 'C1'}\", 'loading: False'],\n",
       "  [\"AT{'substrate': 'mxmal'}\", \"KR{'type': 'B1'}\", 'DH{}', 'loading: False'],\n",
       "  [\"AT{'substrate': 'Malonyl-CoA'}\", \"KR{'type': 'B'}\", 'DH{}', 'loading: False'],\n",
       "  [\"AT{'substrate': 'Malonyl-CoA'}\", \"KR{'type': 'B'}\", 'DH{}', 'loading: False']],\n",
       " [[\"AT{'substrate': 'DCP'}\", 'loading: True'],\n",
       "  [\"AT{'substrate': 'hmal'}\", \"KR{'type': 'B1'}\", 'DH{}', 'ER{}', 'loading: False'],\n",
       "  [\"AT{'substrate': 'hmal'}\", \"KR{'type': 'B1'}\", 'DH{}', 'loading: False'],\n",
       "  [\"AT{'substrate': 'isobutmal'}\", 'loading: False'],\n",
       "  [\"AT{'substrate': 'hmal'}\", \"KR{'type': 'B1'}\", 'DH{}', 'loading: False'],\n",
       "  [\"AT{'substrate': 'isobutmal'}\", \"KR{'type': 'B1'}\", 'DH{}', 'loading: False'],\n",
       "  [\"AT{'substrate': 'isobutmal'}\", \"KR{'type': 'B1'}\", 'DH{}', 'loading: False'],\n",
       "  [\"AT{'substrate': 'D-isobutmal'}\", \"KR{'type': 'B1'}\", 'loading: False']],\n",
       " [[\"AT{'substrate': 'isoval'}\", 'loading: True'],\n",
       "  [\"AT{'substrate': 'D-isobutmal'}\", 'loading: False'],\n",
       "  [\"AT{'substrate': 'isobutmal'}\", \"KR{'type': 'B1'}\", 'loading: False'],\n",
       "  [\"AT{'substrate': 'hmal'}\", \"KR{'type': 'B1'}\", 'DH{}', 'ER{}', 'loading: False'],\n",
       "  [\"AT{'substrate': 'DCP'}\", \"KR{'type': 'B1'}\", 'loading: False'],\n",
       "  [\"AT{'substrate': 'Methylmalonyl-CoA'}\", \"KR{'type': 'B1'}\", 'DH{}', 'loading: False'],\n",
       "  [\"AT{'substrate': 'isobutmal'}\", \"KR{'type': 'B1'}\", 'DH{}', 'loading: False'],\n",
       "  [\"AT{'substrate': 'D-isobutmal'}\", \"KR{'type': 'C1'}\", 'loading: False']],\n",
       " [[\"AT{'substrate': 'cemal'}\", 'loading: True'],\n",
       "  [\"AT{'substrate': 'emal'}\", \"KR{'type': 'B1'}\", 'DH{}', 'loading: False'],\n",
       "  [\"AT{'substrate': 'mxmal'}\", \"KR{'type': 'C1'}\", 'loading: False'],\n",
       "  [\"AT{'substrate': 'mxmal'}\", 'loading: False'],\n",
       "  [\"AT{'substrate': 'D-isobutmal'}\", \"KR{'type': 'B1'}\", 'loading: False'],\n",
       "  [\"AT{'substrate': 'D-isobutmal'}\", \"KR{'type': 'B1'}\", 'loading: False']],\n",
       " [[\"AT{'substrate': 'Methylmalonyl-CoA'}\", 'loading: True'],\n",
       "  [\"AT{'substrate': 'hmal'}\", \"KR{'type': 'B1'}\", 'DH{}', 'loading: False'],\n",
       "  [\"AT{'substrate': 'isobutmal'}\", \"KR{'type': 'C1'}\", 'loading: False'],\n",
       "  [\"AT{'substrate': 'mxmal'}\", \"KR{'type': 'B1'}\", 'DH{}', 'ER{}', 'loading: False'],\n",
       "  [\"AT{'substrate': 'DCP'}\", 'loading: False'],\n",
       "  [\"AT{'substrate': 'D-isobutmal'}\", \"KR{'type': 'B1'}\", 'loading: False'],\n",
       "  [\"AT{'substrate': 'emal'}\", \"KR{'type': 'C1'}\", 'loading: False'],\n",
       "  [\"AT{'substrate': 'mxmal'}\", \"KR{'type': 'C1'}\", 'loading: False']],\n",
       " [[\"AT{'substrate': 'DCP'}\", 'loading: True'],\n",
       "  [\"AT{'substrate': 'emal'}\", \"KR{'type': 'B1'}\", 'DH{}', 'loading: False'],\n",
       "  [\"AT{'substrate': 'mxmal'}\", \"KR{'type': 'C1'}\", 'loading: False'],\n",
       "  [\"AT{'substrate': 'Methylmalonyl-CoA'}\", \"KR{'type': 'C1'}\", 'loading: False'],\n",
       "  [\"AT{'substrate': 'emal'}\", \"KR{'type': 'B1'}\", 'DH{}', 'loading: False'],\n",
       "  [\"AT{'substrate': 'emal'}\", \"KR{'type': 'B1'}\", 'loading: False'],\n",
       "  [\"AT{'substrate': 'emal'}\", \"KR{'type': 'B1'}\", 'DH{}', 'loading: False'],\n",
       "  [\"AT{'substrate': 'DCP'}\", 'loading: False']],\n",
       " [[\"AT{'substrate': 'trans-1,2-CPDA'}\", 'loading: True'],\n",
       "  [\"AT{'substrate': 'isobutmal'}\", \"KR{'type': 'B1'}\", 'DH{}', 'loading: False'],\n",
       "  [\"AT{'substrate': 'emal'}\", \"KR{'type': 'B1'}\", 'DH{}', 'loading: False'],\n",
       "  [\"AT{'substrate': 'isobutmal'}\", 'loading: False'],\n",
       "  [\"AT{'substrate': 'isobutmal'}\", \"KR{'type': 'C1'}\", 'loading: False'],\n",
       "  [\"AT{'substrate': 'emal'}\", 'loading: False']],\n",
       " [[\"AT{'substrate': 'Methylmalonyl-CoA'}\", 'loading: True'],\n",
       "  [\"AT{'substrate': 'Malonyl-CoA'}\", \"KR{'type': 'B'}\", 'DH{}', 'ER{}', 'loading: False'],\n",
       "  [\"AT{'substrate': 'Malonyl-CoA'}\", \"KR{'type': 'B'}\", 'DH{}', 'loading: False'],\n",
       "  [\"AT{'substrate': 'Methylmalonyl-CoA'}\", 'loading: False'],\n",
       "  [\"AT{'substrate': 'DCP'}\", \"KR{'type': 'B1'}\", 'DH{}', 'ER{}', 'loading: False'],\n",
       "  [\"AT{'substrate': 'DCP'}\", \"KR{'type': 'B1'}\", 'DH{}', 'ER{}', 'loading: False'],\n",
       "  [\"AT{'substrate': 'isobutmal'}\", 'loading: False'],\n",
       "  [\"AT{'substrate': 'hexmal'}\", \"KR{'type': 'B1'}\", 'DH{}', 'loading: False']],\n",
       " [[\"AT{'substrate': 'PNBA'}\", 'loading: True'],\n",
       "  [\"AT{'substrate': 'Malonyl-CoA'}\", \"KR{'type': 'B'}\", 'DH{}', 'ER{}', 'loading: False'],\n",
       "  [\"AT{'substrate': 'emal'}\", 'loading: False'],\n",
       "  [\"AT{'substrate': 'butmal'}\", \"KR{'type': 'B1'}\", 'DH{}', 'loading: False'],\n",
       "  [\"AT{'substrate': 'butmal'}\", \"KR{'type': 'B1'}\", 'loading: False'],\n",
       "  [\"AT{'substrate': 'D-isobutmal'}\", \"KR{'type': 'C1'}\", 'loading: False'],\n",
       "  [\"AT{'substrate': 'hmal'}\", \"KR{'type': 'B1'}\", 'DH{}', 'loading: False']],\n",
       " [[\"AT{'substrate': 'mxmal'}\", 'loading: True'],\n",
       "  [\"AT{'substrate': 'Methylmalonyl-CoA'}\", \"KR{'type': 'B1'}\", 'DH{}', 'ER{}', 'loading: False'],\n",
       "  [\"AT{'substrate': 'hmal'}\", \"KR{'type': 'B1'}\", 'DH{}', 'ER{}', 'loading: False'],\n",
       "  [\"AT{'substrate': 'butmal'}\", \"KR{'type': 'B1'}\", 'DH{}', 'loading: False'],\n",
       "  [\"AT{'substrate': 'Methylmalonyl-CoA'}\", \"KR{'type': 'C1'}\", 'loading: False'],\n",
       "  [\"AT{'substrate': 'hmal'}\", \"KR{'type': 'B1'}\", 'DH{}', 'loading: False'],\n",
       "  [\"AT{'substrate': 'emal'}\", \"KR{'type': 'B1'}\", 'DH{}', 'ER{}', 'loading: False'],\n",
       "  [\"AT{'substrate': 'mxmal'}\", \"KR{'type': 'B1'}\", 'DH{}', 'loading: False']],\n",
       " [[\"AT{'substrate': 'isobut'}\", 'loading: True'],\n",
       "  [\"AT{'substrate': 'mxmal'}\", \"KR{'type': 'B1'}\", 'DH{}', 'ER{}', 'loading: False'],\n",
       "  [\"AT{'substrate': 'butmal'}\", \"KR{'type': 'B1'}\", 'DH{}', 'loading: False'],\n",
       "  [\"AT{'substrate': 'D-isobutmal'}\", 'loading: False'],\n",
       "  [\"AT{'substrate': 'mxmal'}\", \"KR{'type': 'B1'}\", 'DH{}', 'ER{}', 'loading: False']],\n",
       " [[\"AT{'substrate': 'DCP'}\", 'loading: True'],\n",
       "  [\"AT{'substrate': 'isobutmal'}\", \"KR{'type': 'B1'}\", 'DH{}', 'ER{}', 'loading: False'],\n",
       "  [\"AT{'substrate': 'butmal'}\", \"KR{'type': 'B1'}\", 'DH{}', 'loading: False'],\n",
       "  [\"AT{'substrate': 'Methylmalonyl-CoA'}\", 'loading: False'],\n",
       "  [\"AT{'substrate': 'DCP'}\", 'loading: False'],\n",
       "  [\"AT{'substrate': 'butmal'}\", 'loading: False'],\n",
       "  [\"AT{'substrate': 'mxmal'}\", \"KR{'type': 'B1'}\", 'DH{}', 'loading: False'],\n",
       "  [\"AT{'substrate': 'isobutmal'}\", \"KR{'type': 'B1'}\", 'DH{}', 'loading: False']],\n",
       " [[\"AT{'substrate': 'cyclopentene'}\", 'loading: True'],\n",
       "  [\"AT{'substrate': 'isobutmal'}\", 'loading: False'],\n",
       "  [\"AT{'substrate': 'hmal'}\", \"KR{'type': 'C1'}\", 'loading: False'],\n",
       "  [\"AT{'substrate': 'butmal'}\", \"KR{'type': 'B1'}\", 'DH{}', 'loading: False'],\n",
       "  [\"AT{'substrate': 'Methylmalonyl-CoA'}\", 'loading: False'],\n",
       "  [\"AT{'substrate': 'butmal'}\", \"KR{'type': 'B1'}\", 'loading: False'],\n",
       "  [\"AT{'substrate': 'DCP'}\", 'loading: False'],\n",
       "  [\"AT{'substrate': 'butmal'}\", 'loading: False']],\n",
       " [[\"AT{'substrate': '2metbut'}\", 'loading: True'],\n",
       "  [\"AT{'substrate': 'hmal'}\", \"KR{'type': 'C1'}\", 'loading: False'],\n",
       "  [\"AT{'substrate': 'hmal'}\", \"KR{'type': 'B1'}\", 'loading: False'],\n",
       "  [\"AT{'substrate': 'butmal'}\", \"KR{'type': 'B1'}\", 'DH{}', 'loading: False'],\n",
       "  [\"AT{'substrate': 'D-isobutmal'}\", \"KR{'type': 'B1'}\", 'loading: False'],\n",
       "  [\"AT{'substrate': 'mxmal'}\", \"KR{'type': 'B1'}\", 'DH{}', 'loading: False'],\n",
       "  [\"AT{'substrate': 'mxmal'}\", \"KR{'type': 'C1'}\", 'loading: False']],\n",
       " [[\"AT{'substrate': 'AHBA'}\", 'loading: True'],\n",
       "  [\"AT{'substrate': 'butmal'}\", \"KR{'type': 'B1'}\", 'DH{}', 'loading: False'],\n",
       "  [\"AT{'substrate': 'mxmal'}\", 'loading: False'],\n",
       "  [\"AT{'substrate': 'mxmal'}\", \"KR{'type': 'B1'}\", 'DH{}', 'ER{}', 'loading: False'],\n",
       "  [\"AT{'substrate': 'D-isobutmal'}\", \"KR{'type': 'B1'}\", 'DH{}', 'loading: False'],\n",
       "  [\"AT{'substrate': 'butmal'}\", \"KR{'type': 'C1'}\", 'loading: False'],\n",
       "  [\"AT{'substrate': 'D-isobutmal'}\", 'loading: False']],\n",
       " [[\"AT{'substrate': 'pyr'}\", 'loading: True'],\n",
       "  [\"AT{'substrate': 'butmal'}\", \"KR{'type': 'B1'}\", 'DH{}', 'loading: False'],\n",
       "  [\"AT{'substrate': 'isobutmal'}\", \"KR{'type': 'B1'}\", 'loading: False'],\n",
       "  [\"AT{'substrate': 'Malonyl-CoA'}\", \"KR{'type': 'B'}\", 'DH{}', 'ER{}', 'loading: False'],\n",
       "  [\"AT{'substrate': 'mxmal'}\", \"KR{'type': 'B1'}\", 'DH{}', 'ER{}', 'loading: False'],\n",
       "  [\"AT{'substrate': 'mxmal'}\", \"KR{'type': 'B1'}\", 'DH{}', 'ER{}', 'loading: False']],\n",
       " [[\"AT{'substrate': 'mthz'}\", 'loading: True'],\n",
       "  [\"AT{'substrate': 'DCP'}\", 'loading: False'],\n",
       "  [\"AT{'substrate': 'butmal'}\", \"KR{'type': 'B1'}\", 'loading: False'],\n",
       "  [\"AT{'substrate': 'hmal'}\", \"KR{'type': 'C1'}\", 'loading: False'],\n",
       "  [\"AT{'substrate': 'emal'}\", 'loading: False'],\n",
       "  [\"AT{'substrate': 'butmal'}\", \"KR{'type': 'B1'}\", 'DH{}', 'loading: False'],\n",
       "  [\"AT{'substrate': 'isobutmal'}\", \"KR{'type': 'B1'}\", 'loading: False'],\n",
       "  [\"AT{'substrate': 'DCP'}\", \"KR{'type': 'B1'}\", 'DH{}', 'ER{}', 'loading: False']],\n",
       " [[\"AT{'substrate': 'DCP'}\", 'loading: True'],\n",
       "  [\"AT{'substrate': 'isobutmal'}\", \"KR{'type': 'B1'}\", 'DH{}', 'loading: False'],\n",
       "  [\"AT{'substrate': 'hmal'}\", 'loading: False'],\n",
       "  [\"AT{'substrate': 'hexmal'}\", \"KR{'type': 'B1'}\", 'DH{}', 'loading: False'],\n",
       "  [\"AT{'substrate': 'hmal'}\", \"KR{'type': 'B1'}\", 'loading: False'],\n",
       "  [\"AT{'substrate': 'Methylmalonyl-CoA'}\", 'loading: False'],\n",
       "  [\"AT{'substrate': 'hmal'}\", \"KR{'type': 'B1'}\", 'DH{}', 'ER{}', 'loading: False'],\n",
       "  [\"AT{'substrate': 'mxmal'}\", \"KR{'type': 'B1'}\", 'DH{}', 'ER{}', 'loading: False']],\n",
       " [[\"AT{'substrate': 'isoval'}\", 'loading: True'],\n",
       "  [\"AT{'substrate': 'emal'}\", 'loading: False'],\n",
       "  [\"AT{'substrate': 'Methylmalonyl-CoA'}\", 'loading: False'],\n",
       "  [\"AT{'substrate': 'hexmal'}\", \"KR{'type': 'B1'}\", 'DH{}', 'loading: False'],\n",
       "  [\"AT{'substrate': 'butmal'}\", \"KR{'type': 'B1'}\", 'DH{}', 'ER{}', 'loading: False'],\n",
       "  [\"AT{'substrate': 'DCP'}\", \"KR{'type': 'B1'}\", 'DH{}', 'loading: False'],\n",
       "  [\"AT{'substrate': 'hexmal'}\", \"KR{'type': 'B1'}\", 'loading: False']],\n",
       " [[\"AT{'substrate': 'DHCH'}\", 'loading: True'],\n",
       "  [\"AT{'substrate': 'mxmal'}\", \"KR{'type': 'C1'}\", 'loading: False'],\n",
       "  [\"AT{'substrate': 'hexmal'}\", 'loading: False'],\n",
       "  [\"AT{'substrate': 'Methylmalonyl-CoA'}\", \"KR{'type': 'B1'}\", 'loading: False'],\n",
       "  [\"AT{'substrate': 'isobutmal'}\", 'loading: False'],\n",
       "  [\"AT{'substrate': 'emal'}\", 'loading: False'],\n",
       "  [\"AT{'substrate': 'hexmal'}\", \"KR{'type': 'B1'}\", 'DH{}', 'loading: False']],\n",
       " [[\"AT{'substrate': 'cin'}\", 'loading: True'],\n",
       "  [\"AT{'substrate': 'D-isobutmal'}\", \"KR{'type': 'B1'}\", 'loading: False'],\n",
       "  [\"AT{'substrate': 'hexmal'}\", \"KR{'type': 'B1'}\", 'DH{}', 'loading: False'],\n",
       "  [\"AT{'substrate': 'Methylmalonyl-CoA'}\", \"KR{'type': 'C1'}\", 'loading: False'],\n",
       "  [\"AT{'substrate': 'hexmal'}\", \"KR{'type': 'C1'}\", 'loading: False'],\n",
       "  [\"AT{'substrate': 'emal'}\", \"KR{'type': 'B1'}\", 'DH{}', 'ER{}', 'loading: False'],\n",
       "  [\"AT{'substrate': 'hexmal'}\", \"KR{'type': 'B1'}\", 'loading: False'],\n",
       "  [\"AT{'substrate': 'butmal'}\", 'loading: False']],\n",
       " [[\"AT{'substrate': 'PNBA'}\", 'loading: True'],\n",
       "  [\"AT{'substrate': 'hexmal'}\", \"KR{'type': 'B1'}\", 'loading: False'],\n",
       "  [\"AT{'substrate': 'hmal'}\", \"KR{'type': 'B1'}\", 'DH{}', 'loading: False'],\n",
       "  [\"AT{'substrate': 'hexmal'}\", \"KR{'type': 'B1'}\", 'loading: False'],\n",
       "  [\"AT{'substrate': 'hexmal'}\", \"KR{'type': 'B1'}\", 'DH{}', 'loading: False'],\n",
       "  [\"AT{'substrate': 'Malonyl-CoA'}\", \"KR{'type': 'B'}\", 'loading: False'],\n",
       "  [\"AT{'substrate': 'D-isobutmal'}\", \"KR{'type': 'B1'}\", 'DH{}', 'ER{}', 'loading: False']],\n",
       " [[\"AT{'substrate': 'Acetyl-CoA'}\", 'loading: True'],\n",
       "  [\"AT{'substrate': 'hmal'}\", \"KR{'type': 'C1'}\", 'loading: False'],\n",
       "  [\"AT{'substrate': 'butmal'}\", \"KR{'type': 'B1'}\", 'DH{}', 'ER{}', 'loading: False'],\n",
       "  [\"AT{'substrate': 'mxmal'}\", \"KR{'type': 'C1'}\", 'loading: False'],\n",
       "  [\"AT{'substrate': 'hexmal'}\", \"KR{'type': 'B1'}\", 'DH{}', 'loading: False'],\n",
       "  [\"AT{'substrate': 'Malonyl-CoA'}\", 'loading: False']],\n",
       " [[\"AT{'substrate': 'plac'}\", 'loading: True'],\n",
       "  [\"AT{'substrate': 'mxmal'}\", \"KR{'type': 'C1'}\", 'loading: False'],\n",
       "  [\"AT{'substrate': 'hexmal'}\", \"KR{'type': 'B1'}\", 'DH{}', 'ER{}', 'loading: False'],\n",
       "  [\"AT{'substrate': 'hexmal'}\", \"KR{'type': 'B1'}\", 'DH{}', 'ER{}', 'loading: False'],\n",
       "  [\"AT{'substrate': 'DCP'}\", 'loading: False'],\n",
       "  [\"AT{'substrate': 'DCP'}\", \"KR{'type': 'B1'}\", 'loading: False'],\n",
       "  [\"AT{'substrate': 'DCP'}\", \"KR{'type': 'B1'}\", 'DH{}', 'ER{}', 'loading: False'],\n",
       "  [\"AT{'substrate': 'emal'}\", 'loading: False']],\n",
       " [[\"AT{'substrate': 'Methylmalonyl-CoA'}\", 'loading: True'],\n",
       "  [\"AT{'substrate': 'hmal'}\", 'loading: False'],\n",
       "  [\"AT{'substrate': 'hexmal'}\", \"KR{'type': 'B1'}\", 'DH{}', 'ER{}', 'loading: False'],\n",
       "  [\"AT{'substrate': 'butmal'}\", \"KR{'type': 'B1'}\", 'loading: False'],\n",
       "  [\"AT{'substrate': 'hexmal'}\", \"KR{'type': 'C1'}\", 'loading: False'],\n",
       "  [\"AT{'substrate': 'Methylmalonyl-CoA'}\", \"KR{'type': 'B1'}\", 'DH{}', 'ER{}', 'loading: False'],\n",
       "  [\"AT{'substrate': 'Methylmalonyl-CoA'}\", \"KR{'type': 'B1'}\", 'loading: False']],\n",
       " [[\"AT{'substrate': 'ema'}\", 'loading: True'],\n",
       "  [\"AT{'substrate': 'butmal'}\", \"KR{'type': 'B1'}\", 'DH{}', 'loading: False'],\n",
       "  [\"AT{'substrate': 'hexmal'}\", \"KR{'type': 'C1'}\", 'loading: False'],\n",
       "  [\"AT{'substrate': 'hexmal'}\", 'loading: False'],\n",
       "  [\"AT{'substrate': 'Malonyl-CoA'}\", \"KR{'type': 'B'}\", 'loading: False'],\n",
       "  [\"AT{'substrate': 'Malonyl-CoA'}\", 'loading: False'],\n",
       "  [\"AT{'substrate': 'isobutmal'}\", \"KR{'type': 'B1'}\", 'DH{}', 'ER{}', 'loading: False'],\n",
       "  [\"AT{'substrate': 'hmal'}\", 'loading: False']],\n",
       " [[\"AT{'substrate': 'mxmal'}\", 'loading: True'],\n",
       "  [\"AT{'substrate': 'Malonyl-CoA'}\", 'loading: False'],\n",
       "  [\"AT{'substrate': 'hexmal'}\", \"KR{'type': 'C1'}\", 'loading: False'],\n",
       "  [\"AT{'substrate': 'mxmal'}\", 'loading: False'],\n",
       "  [\"AT{'substrate': 'D-isobutmal'}\", \"KR{'type': 'B1'}\", 'loading: False'],\n",
       "  [\"AT{'substrate': 'isobutmal'}\", \"KR{'type': 'B1'}\", 'DH{}', 'ER{}', 'loading: False'],\n",
       "  [\"AT{'substrate': 'D-isobutmal'}\", \"KR{'type': 'B1'}\", 'loading: False']],\n",
       " [[\"AT{'substrate': 'DCP'}\", 'loading: True'],\n",
       "  [\"AT{'substrate': 'hexmal'}\", \"KR{'type': 'C1'}\", 'loading: False'],\n",
       "  [\"AT{'substrate': 'emal'}\", 'loading: False'],\n",
       "  [\"AT{'substrate': 'DCP'}\", 'loading: False'],\n",
       "  [\"AT{'substrate': 'Methylmalonyl-CoA'}\", \"KR{'type': 'B1'}\", 'DH{}', 'ER{}', 'loading: False'],\n",
       "  [\"AT{'substrate': 'hexmal'}\", \"KR{'type': 'B1'}\", 'loading: False'],\n",
       "  [\"AT{'substrate': 'hmal'}\", 'loading: False']],\n",
       " [[\"AT{'substrate': 'CHC-CoA'}\", 'loading: True'],\n",
       "  [\"AT{'substrate': 'hexmal'}\", 'loading: False'],\n",
       "  [\"AT{'substrate': 'DCP'}\", \"KR{'type': 'B1'}\", 'DH{}', 'loading: False'],\n",
       "  [\"AT{'substrate': 'mxmal'}\", \"KR{'type': 'B1'}\", 'DH{}', 'loading: False'],\n",
       "  [\"AT{'substrate': 'mxmal'}\", 'loading: False'],\n",
       "  [\"AT{'substrate': 'Malonyl-CoA'}\", 'loading: False'],\n",
       "  [\"AT{'substrate': 'D-isobutmal'}\", \"KR{'type': 'C1'}\", 'loading: False'],\n",
       "  [\"AT{'substrate': 'Methylmalonyl-CoA'}\", \"KR{'type': 'C1'}\", 'loading: False']],\n",
       " [[\"AT{'substrate': 'cin'}\", 'loading: True'],\n",
       "  [\"AT{'substrate': 'hmal'}\", \"KR{'type': 'B1'}\", 'loading: False'],\n",
       "  [\"AT{'substrate': 'emal'}\", \"KR{'type': 'C1'}\", 'loading: False'],\n",
       "  [\"AT{'substrate': 'emal'}\", \"KR{'type': 'B1'}\", 'DH{}', 'ER{}', 'loading: False'],\n",
       "  [\"AT{'substrate': 'isobutmal'}\", \"KR{'type': 'B1'}\", 'DH{}', 'loading: False'],\n",
       "  [\"AT{'substrate': 'DCP'}\", \"KR{'type': 'C1'}\", 'loading: False'],\n",
       "  [\"AT{'substrate': 'mxmal'}\", 'loading: False'],\n",
       "  [\"AT{'substrate': 'hexmal'}\", \"KR{'type': 'B1'}\", 'loading: False']],\n",
       " [[\"AT{'substrate': 'DHCH'}\", 'loading: True'],\n",
       "  [\"AT{'substrate': 'butmal'}\", \"KR{'type': 'B1'}\", 'DH{}', 'loading: False'],\n",
       "  [\"AT{'substrate': 'hmal'}\", \"KR{'type': 'B1'}\", 'loading: False'],\n",
       "  [\"AT{'substrate': 'mxmal'}\", 'loading: False'],\n",
       "  [\"AT{'substrate': 'hexmal'}\", \"KR{'type': 'B1'}\", 'loading: False'],\n",
       "  [\"AT{'substrate': 'emal'}\", 'loading: False'],\n",
       "  [\"AT{'substrate': 'emal'}\", 'loading: False'],\n",
       "  [\"AT{'substrate': 'DCP'}\", \"KR{'type': 'C1'}\", 'loading: False']],\n",
       " [[\"AT{'substrate': 'cyclopentene'}\", 'loading: True'],\n",
       "  [\"AT{'substrate': 'hmal'}\", \"KR{'type': 'B1'}\", 'DH{}', 'ER{}', 'loading: False'],\n",
       "  [\"AT{'substrate': 'Malonyl-CoA'}\", \"KR{'type': 'B'}\", 'loading: False'],\n",
       "  [\"AT{'substrate': 'hexmal'}\", \"KR{'type': 'B1'}\", 'loading: False'],\n",
       "  [\"AT{'substrate': 'butmal'}\", \"KR{'type': 'B1'}\", 'DH{}', 'ER{}', 'loading: False'],\n",
       "  [\"AT{'substrate': 'isobutmal'}\", \"KR{'type': 'B1'}\", 'DH{}', 'ER{}', 'loading: False'],\n",
       "  [\"AT{'substrate': 'D-isobutmal'}\", \"KR{'type': 'B1'}\", 'DH{}', 'ER{}', 'loading: False'],\n",
       "  [\"AT{'substrate': 'D-isobutmal'}\", \"KR{'type': 'B1'}\", 'DH{}', 'loading: False']],\n",
       " [[\"AT{'substrate': 'mthz'}\", 'loading: True'],\n",
       "  [\"AT{'substrate': 'Malonyl-CoA'}\", \"KR{'type': 'B'}\", 'DH{}', 'loading: False'],\n",
       "  [\"AT{'substrate': 'Malonyl-CoA'}\", \"KR{'type': 'B'}\", 'DH{}', 'ER{}', 'loading: False'],\n",
       "  [\"AT{'substrate': 'mxmal'}\", \"KR{'type': 'B1'}\", 'loading: False'],\n",
       "  [\"AT{'substrate': 'hexmal'}\", \"KR{'type': 'B1'}\", 'DH{}', 'ER{}', 'loading: False'],\n",
       "  [\"AT{'substrate': 'emal'}\", \"KR{'type': 'B1'}\", 'loading: False'],\n",
       "  [\"AT{'substrate': 'emal'}\", \"KR{'type': 'B1'}\", 'DH{}', 'loading: False'],\n",
       "  [\"AT{'substrate': 'butmal'}\", \"KR{'type': 'B1'}\", 'DH{}', 'ER{}', 'loading: False']],\n",
       " [[\"AT{'substrate': 'PABA'}\", 'loading: True'],\n",
       "  [\"AT{'substrate': 'butmal'}\", 'loading: False'],\n",
       "  [\"AT{'substrate': 'D-isobutmal'}\", \"KR{'type': 'B1'}\", 'loading: False'],\n",
       "  [\"AT{'substrate': 'isobutmal'}\", 'loading: False'],\n",
       "  [\"AT{'substrate': 'Methylmalonyl-CoA'}\", 'loading: False'],\n",
       "  [\"AT{'substrate': 'emal'}\", \"KR{'type': 'C1'}\", 'loading: False'],\n",
       "  [\"AT{'substrate': 'Methylmalonyl-CoA'}\", 'loading: False'],\n",
       "  [\"AT{'substrate': 'hmal'}\", \"KR{'type': 'C1'}\", 'loading: False']],\n",
       " [[\"AT{'substrate': 'isobut'}\", 'loading: True'],\n",
       "  [\"AT{'substrate': 'DCP'}\", \"KR{'type': 'B1'}\", 'DH{}', 'loading: False'],\n",
       "  [\"AT{'substrate': 'butmal'}\", 'loading: False'],\n",
       "  [\"AT{'substrate': 'Malonyl-CoA'}\", 'loading: False'],\n",
       "  [\"AT{'substrate': 'mxmal'}\", \"KR{'type': 'B1'}\", 'DH{}', 'ER{}', 'loading: False'],\n",
       "  [\"AT{'substrate': 'butmal'}\", \"KR{'type': 'B1'}\", 'loading: False'],\n",
       "  [\"AT{'substrate': 'DCP'}\", \"KR{'type': 'B1'}\", 'DH{}', 'ER{}', 'loading: False'],\n",
       "  [\"AT{'substrate': 'D-isobutmal'}\", \"KR{'type': 'B1'}\", 'DH{}', 'loading: False']],\n",
       " [[\"AT{'substrate': 'trans-1,2-CPDA'}\", 'loading: True'],\n",
       "  [\"AT{'substrate': 'DCP'}\", \"KR{'type': 'B1'}\", 'DH{}', 'ER{}', 'loading: False'],\n",
       "  [\"AT{'substrate': 'butmal'}\", \"KR{'type': 'B1'}\", 'DH{}', 'ER{}', 'loading: False'],\n",
       "  [\"AT{'substrate': 'isobutmal'}\", 'loading: False'],\n",
       "  [\"AT{'substrate': 'butmal'}\", \"KR{'type': 'B1'}\", 'DH{}', 'ER{}', 'loading: False'],\n",
       "  [\"AT{'substrate': 'D-isobutmal'}\", \"KR{'type': 'B1'}\", 'loading: False'],\n",
       "  [\"AT{'substrate': 'emal'}\", \"KR{'type': 'B1'}\", 'DH{}', 'loading: False'],\n",
       "  [\"AT{'substrate': 'hmal'}\", \"KR{'type': 'B1'}\", 'DH{}', 'ER{}', 'loading: False']],\n",
       " [[\"AT{'substrate': 'isobut'}\", 'loading: True'],\n",
       "  [\"AT{'substrate': 'butmal'}\", \"KR{'type': 'B1'}\", 'loading: False'],\n",
       "  [\"AT{'substrate': 'Methylmalonyl-CoA'}\", \"KR{'type': 'B1'}\", 'DH{}', 'ER{}', 'loading: False'],\n",
       "  [\"AT{'substrate': 'emal'}\", 'loading: False'],\n",
       "  [\"AT{'substrate': 'isobutmal'}\", \"KR{'type': 'C1'}\", 'loading: False'],\n",
       "  [\"AT{'substrate': 'mxmal'}\", \"KR{'type': 'B1'}\", 'loading: False'],\n",
       "  [\"AT{'substrate': 'D-isobutmal'}\", \"KR{'type': 'B1'}\", 'DH{}', 'ER{}', 'loading: False']],\n",
       " [[\"AT{'substrate': 'mthz'}\", 'loading: True'],\n",
       "  [\"AT{'substrate': 'butmal'}\", \"KR{'type': 'C1'}\", 'loading: False'],\n",
       "  [\"AT{'substrate': 'butmal'}\", \"KR{'type': 'C1'}\", 'loading: False'],\n",
       "  [\"AT{'substrate': 'emal'}\", \"KR{'type': 'B1'}\", 'DH{}', 'ER{}', 'loading: False'],\n",
       "  [\"AT{'substrate': 'DCP'}\", \"KR{'type': 'B1'}\", 'DH{}', 'ER{}', 'loading: False'],\n",
       "  [\"AT{'substrate': 'hmal'}\", \"KR{'type': 'C1'}\", 'loading: False'],\n",
       "  [\"AT{'substrate': 'hmal'}\", \"KR{'type': 'C1'}\", 'loading: False'],\n",
       "  [\"AT{'substrate': 'Malonyl-CoA'}\", 'loading: False']],\n",
       " [[\"AT{'substrate': 'mxmal'}\", 'loading: True'],\n",
       "  [\"AT{'substrate': 'emal'}\", 'loading: False'],\n",
       "  [\"AT{'substrate': 'butmal'}\", \"KR{'type': 'B1'}\", 'loading: False'],\n",
       "  [\"AT{'substrate': 'DCP'}\", \"KR{'type': 'B1'}\", 'loading: False'],\n",
       "  [\"AT{'substrate': 'mxmal'}\", \"KR{'type': 'B1'}\", 'DH{}', 'ER{}', 'loading: False']],\n",
       " [[\"AT{'substrate': '3measp'}\", 'loading: True'],\n",
       "  [\"AT{'substrate': 'mxmal'}\", \"KR{'type': 'B1'}\", 'DH{}', 'ER{}', 'loading: False'],\n",
       "  [\"AT{'substrate': 'butmal'}\", 'loading: False'],\n",
       "  [\"AT{'substrate': 'mxmal'}\", \"KR{'type': 'B1'}\", 'DH{}', 'ER{}', 'loading: False'],\n",
       "  [\"AT{'substrate': 'DCP'}\", \"KR{'type': 'B1'}\", 'DH{}', 'loading: False']],\n",
       " [[\"AT{'substrate': 'benz'}\", 'loading: True'],\n",
       "  [\"AT{'substrate': 'hmal'}\", \"KR{'type': 'B1'}\", 'DH{}', 'ER{}', 'loading: False'],\n",
       "  [\"AT{'substrate': 'mxmal'}\", \"KR{'type': 'B1'}\", 'DH{}', 'ER{}', 'loading: False'],\n",
       "  [\"AT{'substrate': 'emal'}\", 'loading: False'],\n",
       "  [\"AT{'substrate': 'hmal'}\", 'loading: False'],\n",
       "  [\"AT{'substrate': 'butmal'}\", \"KR{'type': 'B1'}\", 'DH{}', 'ER{}', 'loading: False'],\n",
       "  [\"AT{'substrate': 'isobutmal'}\", \"KR{'type': 'B1'}\", 'DH{}', 'loading: False'],\n",
       "  [\"AT{'substrate': 'mxmal'}\", \"KR{'type': 'B1'}\", 'DH{}', 'loading: False']],\n",
       " [[\"AT{'substrate': 'DHCH'}\", 'loading: True'],\n",
       "  [\"AT{'substrate': 'Malonyl-CoA'}\", \"KR{'type': 'B'}\", 'loading: False'],\n",
       "  [\"AT{'substrate': 'butmal'}\", \"KR{'type': 'B1'}\", 'DH{}', 'ER{}', 'loading: False'],\n",
       "  [\"AT{'substrate': 'emal'}\", \"KR{'type': 'B1'}\", 'DH{}', 'loading: False'],\n",
       "  [\"AT{'substrate': 'Methylmalonyl-CoA'}\", \"KR{'type': 'B1'}\", 'loading: False'],\n",
       "  [\"AT{'substrate': 'butmal'}\", \"KR{'type': 'B1'}\", 'DH{}', 'ER{}', 'loading: False'],\n",
       "  [\"AT{'substrate': 'isobutmal'}\", \"KR{'type': 'B1'}\", 'DH{}', 'ER{}', 'loading: False']],\n",
       " [[\"AT{'substrate': 'butmal'}\", 'loading: True'],\n",
       "  [\"AT{'substrate': 'butmal'}\", \"KR{'type': 'B1'}\", 'loading: False'],\n",
       "  [\"AT{'substrate': 'emal'}\", \"KR{'type': 'C1'}\", 'loading: False'],\n",
       "  [\"AT{'substrate': 'emal'}\", \"KR{'type': 'B1'}\", 'loading: False'],\n",
       "  [\"AT{'substrate': 'butmal'}\", \"KR{'type': 'B1'}\", 'DH{}', 'ER{}', 'loading: False'],\n",
       "  [\"AT{'substrate': 'mxmal'}\", \"KR{'type': 'B1'}\", 'DH{}', 'ER{}', 'loading: False'],\n",
       "  [\"AT{'substrate': 'hmal'}\", 'loading: False']],\n",
       " [[\"AT{'substrate': 'CHC-CoA'}\", 'loading: True'],\n",
       "  [\"AT{'substrate': 'butmal'}\", \"KR{'type': 'B1'}\", 'loading: False'],\n",
       "  [\"AT{'substrate': 'hmal'}\", \"KR{'type': 'B1'}\", 'DH{}', 'loading: False'],\n",
       "  [\"AT{'substrate': 'hmal'}\", \"KR{'type': 'B1'}\", 'DH{}', 'loading: False'],\n",
       "  [\"AT{'substrate': 'butmal'}\", \"KR{'type': 'B1'}\", 'loading: False'],\n",
       "  [\"AT{'substrate': 'hmal'}\", \"KR{'type': 'B1'}\", 'loading: False'],\n",
       "  [\"AT{'substrate': 'mxmal'}\", \"KR{'type': 'B1'}\", 'loading: False'],\n",
       "  [\"AT{'substrate': 'isobutmal'}\", \"KR{'type': 'B1'}\", 'DH{}', 'loading: False']],\n",
       " [[\"AT{'substrate': 'DHCHene'}\", 'loading: True'],\n",
       "  [\"AT{'substrate': 'D-isobutmal'}\", 'loading: False'],\n",
       "  [\"AT{'substrate': 'hmal'}\", \"KR{'type': 'B1'}\", 'DH{}', 'ER{}', 'loading: False'],\n",
       "  [\"AT{'substrate': 'mxmal'}\", \"KR{'type': 'B1'}\", 'DH{}', 'loading: False'],\n",
       "  [\"AT{'substrate': 'hmal'}\", \"KR{'type': 'B1'}\", 'DH{}', 'ER{}', 'loading: False'],\n",
       "  [\"AT{'substrate': 'emal'}\", \"KR{'type': 'B1'}\", 'loading: False'],\n",
       "  [\"AT{'substrate': 'emal'}\", \"KR{'type': 'B1'}\", 'loading: False'],\n",
       "  [\"AT{'substrate': 'butmal'}\", \"KR{'type': 'B1'}\", 'DH{}', 'ER{}', 'loading: False']],\n",
       " [[\"AT{'substrate': 'isobut'}\", 'loading: True'],\n",
       "  [\"AT{'substrate': 'hmal'}\", \"KR{'type': 'B1'}\", 'DH{}', 'loading: False'],\n",
       "  [\"AT{'substrate': 'butmal'}\", \"KR{'type': 'B1'}\", 'loading: False'],\n",
       "  [\"AT{'substrate': 'mxmal'}\", \"KR{'type': 'B1'}\", 'DH{}', 'ER{}', 'loading: False'],\n",
       "  [\"AT{'substrate': 'DCP'}\", \"KR{'type': 'B1'}\", 'DH{}', 'loading: False'],\n",
       "  [\"AT{'substrate': 'DCP'}\", \"KR{'type': 'B1'}\", 'DH{}', 'ER{}', 'loading: False'],\n",
       "  [\"AT{'substrate': 'hmal'}\", \"KR{'type': 'B1'}\", 'DH{}', 'ER{}', 'loading: False'],\n",
       "  [\"AT{'substrate': 'D-isobutmal'}\", 'loading: False']],\n",
       " [[\"AT{'substrate': 'trans-1,2-CPDA'}\", 'loading: True'],\n",
       "  [\"AT{'substrate': 'DCP'}\", \"KR{'type': 'C1'}\", 'loading: False'],\n",
       "  [\"AT{'substrate': 'isobutmal'}\", 'loading: False'],\n",
       "  [\"AT{'substrate': 'Methylmalonyl-CoA'}\", 'loading: False'],\n",
       "  [\"AT{'substrate': 'Methylmalonyl-CoA'}\", \"KR{'type': 'C1'}\", 'loading: False'],\n",
       "  [\"AT{'substrate': 'DCP'}\", \"KR{'type': 'B1'}\", 'DH{}', 'loading: False'],\n",
       "  [\"AT{'substrate': 'emal'}\", \"KR{'type': 'B1'}\", 'loading: False'],\n",
       "  [\"AT{'substrate': 'isobutmal'}\", 'loading: False']],\n",
       " [[\"AT{'substrate': 'cemal'}\", 'loading: True'],\n",
       "  [\"AT{'substrate': 'emal'}\", 'loading: False'],\n",
       "  [\"AT{'substrate': 'DCP'}\", \"KR{'type': 'B1'}\", 'DH{}', 'ER{}', 'loading: False'],\n",
       "  [\"AT{'substrate': 'hmal'}\", \"KR{'type': 'B1'}\", 'DH{}', 'ER{}', 'loading: False'],\n",
       "  [\"AT{'substrate': 'D-isobutmal'}\", 'loading: False'],\n",
       "  [\"AT{'substrate': 'emal'}\", \"KR{'type': 'B1'}\", 'loading: False'],\n",
       "  [\"AT{'substrate': 'Malonyl-CoA'}\", \"KR{'type': 'B'}\", 'DH{}', 'ER{}', 'loading: False'],\n",
       "  [\"AT{'substrate': 'Methylmalonyl-CoA'}\", 'loading: False']],\n",
       " [[\"AT{'substrate': 'AHBA'}\", 'loading: True'],\n",
       "  [\"AT{'substrate': 'D-isobutmal'}\", \"KR{'type': 'B1'}\", 'loading: False'],\n",
       "  [\"AT{'substrate': 'Methylmalonyl-CoA'}\", 'loading: False'],\n",
       "  [\"AT{'substrate': 'D-isobutmal'}\", \"KR{'type': 'B1'}\", 'DH{}', 'loading: False'],\n",
       "  [\"AT{'substrate': 'hmal'}\", \"KR{'type': 'B1'}\", 'DH{}', 'loading: False'],\n",
       "  [\"AT{'substrate': 'DCP'}\", \"KR{'type': 'B1'}\", 'DH{}', 'ER{}', 'loading: False'],\n",
       "  [\"AT{'substrate': 'emal'}\", \"KR{'type': 'B1'}\", 'DH{}', 'ER{}', 'loading: False']],\n",
       " [[\"AT{'substrate': 'PABA'}\", 'loading: True'],\n",
       "  [\"AT{'substrate': 'D-isobutmal'}\", 'loading: False'],\n",
       "  [\"AT{'substrate': 'D-isobutmal'}\", \"KR{'type': 'C1'}\", 'loading: False'],\n",
       "  [\"AT{'substrate': 'hmal'}\", \"KR{'type': 'B1'}\", 'loading: False'],\n",
       "  [\"AT{'substrate': 'emal'}\", \"KR{'type': 'B1'}\", 'loading: False'],\n",
       "  [\"AT{'substrate': 'mxmal'}\", \"KR{'type': 'B1'}\", 'DH{}', 'ER{}', 'loading: False']],\n",
       " [[\"AT{'substrate': 'CHC-CoA'}\", 'loading: True'],\n",
       "  [\"AT{'substrate': 'Malonyl-CoA'}\", \"KR{'type': 'B'}\", 'loading: False'],\n",
       "  [\"AT{'substrate': 'emal'}\", 'loading: False'],\n",
       "  [\"AT{'substrate': 'DCP'}\", \"KR{'type': 'B1'}\", 'DH{}', 'loading: False'],\n",
       "  [\"AT{'substrate': 'emal'}\", 'loading: False'],\n",
       "  [\"AT{'substrate': 'Methylmalonyl-CoA'}\", \"KR{'type': 'B1'}\", 'DH{}', 'loading: False'],\n",
       "  [\"AT{'substrate': 'DCP'}\", \"KR{'type': 'B1'}\", 'loading: False']],\n",
       " [[\"AT{'substrate': 'DCP'}\", 'loading: True'],\n",
       "  [\"AT{'substrate': 'isobutmal'}\", 'loading: False'],\n",
       "  [\"AT{'substrate': 'Malonyl-CoA'}\", \"KR{'type': 'B'}\", 'DH{}', 'loading: False'],\n",
       "  [\"AT{'substrate': 'D-isobutmal'}\", \"KR{'type': 'B1'}\", 'loading: False'],\n",
       "  [\"AT{'substrate': 'DCP'}\", \"KR{'type': 'B1'}\", 'DH{}', 'ER{}', 'loading: False'],\n",
       "  [\"AT{'substrate': 'Methylmalonyl-CoA'}\", \"KR{'type': 'C1'}\", 'loading: False'],\n",
       "  [\"AT{'substrate': 'emal'}\", \"KR{'type': 'B1'}\", 'DH{}', 'ER{}', 'loading: False'],\n",
       "  [\"AT{'substrate': 'mxmal'}\", \"KR{'type': 'B1'}\", 'DH{}', 'loading: False']],\n",
       " [[\"AT{'substrate': 'cin'}\", 'loading: True'],\n",
       "  [\"AT{'substrate': 'Methylmalonyl-CoA'}\", 'loading: False'],\n",
       "  [\"AT{'substrate': 'emal'}\", 'loading: False'],\n",
       "  [\"AT{'substrate': 'Malonyl-CoA'}\", \"KR{'type': 'B'}\", 'DH{}', 'ER{}', 'loading: False'],\n",
       "  [\"AT{'substrate': 'hmal'}\", 'loading: False'],\n",
       "  [\"AT{'substrate': 'D-isobutmal'}\", \"KR{'type': 'B1'}\", 'DH{}', 'ER{}', 'loading: False']],\n",
       " [[\"AT{'substrate': 'DCP'}\", 'loading: True'],\n",
       "  [\"AT{'substrate': 'Methylmalonyl-CoA'}\", \"KR{'type': 'B1'}\", 'DH{}', 'loading: False'],\n",
       "  [\"AT{'substrate': 'isobutmal'}\", \"KR{'type': 'B1'}\", 'loading: False'],\n",
       "  [\"AT{'substrate': 'emal'}\", \"KR{'type': 'C1'}\", 'loading: False'],\n",
       "  [\"AT{'substrate': 'hmal'}\", 'loading: False'],\n",
       "  [\"AT{'substrate': 'mxmal'}\", \"KR{'type': 'B1'}\", 'DH{}', 'loading: False'],\n",
       "  [\"AT{'substrate': 'Malonyl-CoA'}\", \"KR{'type': 'B'}\", 'DH{}', 'ER{}', 'loading: False'],\n",
       "  [\"AT{'substrate': 'Malonyl-CoA'}\", \"KR{'type': 'B'}\", 'DH{}', 'ER{}', 'loading: False']],\n",
       " [[\"AT{'substrate': 'CHC-CoA'}\", 'loading: True'],\n",
       "  [\"AT{'substrate': 'mxmal'}\", \"KR{'type': 'B1'}\", 'loading: False'],\n",
       "  [\"AT{'substrate': 'hmal'}\", 'loading: False']],\n",
       " [[\"AT{'substrate': 'isobut'}\", 'loading: True'],\n",
       "  [\"AT{'substrate': 'hmal'}\", \"KR{'type': 'C1'}\", 'loading: False'],\n",
       "  [\"AT{'substrate': 'DCP'}\", 'loading: False'],\n",
       "  [\"AT{'substrate': 'hmal'}\", \"KR{'type': 'C1'}\", 'loading: False'],\n",
       "  [\"AT{'substrate': 'mxmal'}\", 'loading: False'],\n",
       "  [\"AT{'substrate': 'DCP'}\", 'loading: False'],\n",
       "  [\"AT{'substrate': 'D-isobutmal'}\", \"KR{'type': 'B1'}\", 'DH{}', 'ER{}', 'loading: False'],\n",
       "  [\"AT{'substrate': 'DCP'}\", \"KR{'type': 'B1'}\", 'DH{}', 'ER{}', 'loading: False']],\n",
       " [[\"AT{'substrate': '3measp'}\", 'loading: True'],\n",
       "  [\"AT{'substrate': 'DCP'}\", 'loading: False'],\n",
       "  [\"AT{'substrate': 'Malonyl-CoA'}\", \"KR{'type': 'B'}\", 'DH{}', 'ER{}', 'loading: False'],\n",
       "  [\"AT{'substrate': 'Malonyl-CoA'}\", \"KR{'type': 'B'}\", 'DH{}', 'ER{}', 'loading: False'],\n",
       "  [\"AT{'substrate': 'Methylmalonyl-CoA'}\", \"KR{'type': 'B1'}\", 'loading: False'],\n",
       "  [\"AT{'substrate': 'mxmal'}\", 'loading: False']]]"
      ]
     },
     "execution_count": 7,
     "metadata": {},
     "output_type": "execute_result"
    }
   ],
   "source": [
    "modules_lib"
   ]
  },
  {
   "cell_type": "code",
   "execution_count": 8,
   "metadata": {},
   "outputs": [
    {
     "name": "stdout",
     "output_type": "stream",
     "text": [
      "5000\n",
      "10000\n",
      "10000 unique polyketides generated.\n"
     ]
    }
   ],
   "source": [
    "PKSable_library = random_PK_library_maker(10000, max_modules=10, random_state=42)"
   ]
  },
  {
   "cell_type": "code",
   "execution_count": 9,
   "metadata": {},
   "outputs": [],
   "source": [
    "#pd.DataFrame(PKSable_library).to_csv('./data/PKSable_library.csv', header=False)"
   ]
  },
  {
   "cell_type": "markdown",
   "metadata": {},
   "source": [
    "##  PKSable Fragment-based classifier"
   ]
  },
  {
   "cell_type": "code",
   "execution_count": 10,
   "metadata": {},
   "outputs": [],
   "source": [
    "cutoff = 0.98"
   ]
  },
  {
   "cell_type": "markdown",
   "metadata": {},
   "source": [
    "### PKSability of polyketides"
   ]
  },
  {
   "cell_type": "code",
   "execution_count": 11,
   "metadata": {},
   "outputs": [],
   "source": [
    "df_pk = pd.read_csv('data/PKSable_library.csv', header=None)\n",
    "pk_lib = list(df_pk.iloc[:,1])"
   ]
  },
  {
   "cell_type": "code",
   "execution_count": 12,
   "metadata": {},
   "outputs": [
    {
     "name": "stdout",
     "output_type": "stream",
     "text": [
      "5000\n",
      "10000\n"
     ]
    }
   ],
   "source": [
    "pred_score_pk = PKSable_fragment_classifier(pk_lib)"
   ]
  },
  {
   "cell_type": "code",
   "execution_count": 13,
   "metadata": {},
   "outputs": [],
   "source": [
    "pred_class_pk = (pred_score_pk >= cutoff) * 1"
   ]
  },
  {
   "cell_type": "code",
   "execution_count": 14,
   "metadata": {},
   "outputs": [
    {
     "data": {
      "text/plain": [
       "10000"
      ]
     },
     "execution_count": 14,
     "metadata": {},
     "output_type": "execute_result"
    }
   ],
   "source": [
    "len(pred_class_pk)"
   ]
  },
  {
   "cell_type": "code",
   "execution_count": 15,
   "metadata": {},
   "outputs": [
    {
     "data": {
      "text/plain": [
       "10000"
      ]
     },
     "execution_count": 15,
     "metadata": {},
     "output_type": "execute_result"
    }
   ],
   "source": [
    "sum(pred_class_pk)"
   ]
  },
  {
   "cell_type": "code",
   "execution_count": 16,
   "metadata": {},
   "outputs": [
    {
     "data": {
      "text/plain": [
       "1.0"
      ]
     },
     "execution_count": 16,
     "metadata": {},
     "output_type": "execute_result"
    }
   ],
   "source": [
    "np.mean(pred_score_pk)"
   ]
  },
  {
   "cell_type": "markdown",
   "metadata": {},
   "source": [
    "### PKSability of DrugBank"
   ]
  },
  {
   "cell_type": "markdown",
   "metadata": {},
   "source": [
    "Let us prepare the test library:"
   ]
  },
  {
   "cell_type": "code",
   "execution_count": 17,
   "metadata": {},
   "outputs": [],
   "source": [
    "df_db = pd.read_csv('data/DrugBank_clean.csv')\n",
    "db_lib = list(df_db.SMILES)"
   ]
  },
  {
   "cell_type": "code",
   "execution_count": 18,
   "metadata": {},
   "outputs": [
    {
     "name": "stdout",
     "output_type": "stream",
     "text": [
      "5000\n",
      "10000\n"
     ]
    }
   ],
   "source": [
    "pred_score_db = PKSable_fragment_classifier(db_lib)"
   ]
  },
  {
   "cell_type": "code",
   "execution_count": 19,
   "metadata": {},
   "outputs": [],
   "source": [
    "pred_class_db = (pred_score_db >= cutoff) * 1"
   ]
  },
  {
   "cell_type": "code",
   "execution_count": 20,
   "metadata": {},
   "outputs": [
    {
     "data": {
      "text/plain": [
       "11150"
      ]
     },
     "execution_count": 20,
     "metadata": {},
     "output_type": "execute_result"
    }
   ],
   "source": [
    "len(pred_class_db)"
   ]
  },
  {
   "cell_type": "code",
   "execution_count": 21,
   "metadata": {},
   "outputs": [
    {
     "data": {
      "text/plain": [
       "54"
      ]
     },
     "execution_count": 21,
     "metadata": {},
     "output_type": "execute_result"
    }
   ],
   "source": [
    "sum(pred_class_db)"
   ]
  },
  {
   "cell_type": "code",
   "execution_count": 22,
   "metadata": {},
   "outputs": [
    {
     "data": {
      "text/plain": [
       "0.43135481677610543"
      ]
     },
     "execution_count": 22,
     "metadata": {},
     "output_type": "execute_result"
    }
   ],
   "source": [
    "np.mean(pred_score_db)"
   ]
  },
  {
   "cell_type": "markdown",
   "metadata": {},
   "source": [
    "### PKSability of GDB-13 database (random sample of 1 M molecules)"
   ]
  },
  {
   "cell_type": "code",
   "execution_count": 23,
   "metadata": {},
   "outputs": [],
   "source": [
    "gdb_lib = pd.read_csv('data/gdb13.1M.freq.ll.smi', sep='\\t', header=None, usecols=[0])\n",
    "gdb_lib = list(gdb_lib.iloc[:,0])"
   ]
  },
  {
   "cell_type": "code",
   "execution_count": 24,
   "metadata": {},
   "outputs": [
    {
     "name": "stdout",
     "output_type": "stream",
     "text": [
      "5000\n",
      "10000\n",
      "15000\n",
      "20000\n",
      "25000\n",
      "30000\n",
      "35000\n",
      "40000\n",
      "45000\n",
      "50000\n",
      "55000\n",
      "60000\n",
      "65000\n",
      "70000\n",
      "75000\n",
      "80000\n",
      "85000\n",
      "90000\n",
      "95000\n",
      "100000\n",
      "105000\n",
      "110000\n",
      "115000\n",
      "120000\n",
      "125000\n",
      "130000\n",
      "135000\n",
      "140000\n",
      "145000\n",
      "150000\n",
      "155000\n",
      "160000\n",
      "165000\n",
      "170000\n",
      "175000\n",
      "180000\n",
      "185000\n",
      "190000\n",
      "195000\n",
      "200000\n",
      "205000\n",
      "210000\n",
      "215000\n",
      "220000\n",
      "225000\n",
      "230000\n",
      "235000\n",
      "240000\n",
      "245000\n",
      "250000\n",
      "255000\n",
      "260000\n",
      "265000\n",
      "270000\n",
      "275000\n",
      "280000\n",
      "285000\n",
      "290000\n",
      "295000\n",
      "300000\n",
      "305000\n",
      "310000\n",
      "315000\n",
      "320000\n",
      "325000\n",
      "330000\n",
      "335000\n",
      "340000\n",
      "345000\n",
      "350000\n",
      "355000\n",
      "360000\n",
      "365000\n",
      "370000\n",
      "375000\n",
      "380000\n",
      "385000\n",
      "390000\n",
      "395000\n",
      "400000\n",
      "405000\n",
      "410000\n",
      "415000\n",
      "420000\n",
      "425000\n",
      "430000\n",
      "435000\n",
      "440000\n",
      "445000\n",
      "450000\n",
      "455000\n",
      "460000\n",
      "465000\n",
      "470000\n",
      "475000\n",
      "480000\n",
      "485000\n",
      "490000\n",
      "495000\n",
      "500000\n",
      "505000\n",
      "510000\n",
      "515000\n",
      "520000\n",
      "525000\n",
      "530000\n",
      "535000\n",
      "540000\n",
      "545000\n",
      "550000\n",
      "555000\n",
      "560000\n",
      "565000\n",
      "570000\n",
      "575000\n",
      "580000\n",
      "585000\n",
      "590000\n",
      "595000\n",
      "600000\n",
      "605000\n",
      "610000\n",
      "615000\n",
      "620000\n",
      "625000\n",
      "630000\n",
      "635000\n",
      "640000\n",
      "645000\n",
      "650000\n",
      "655000\n",
      "660000\n",
      "665000\n",
      "670000\n",
      "675000\n",
      "680000\n",
      "685000\n",
      "690000\n",
      "695000\n",
      "700000\n",
      "705000\n",
      "710000\n",
      "715000\n",
      "720000\n",
      "725000\n",
      "730000\n",
      "735000\n",
      "740000\n",
      "745000\n",
      "750000\n",
      "755000\n",
      "760000\n",
      "765000\n",
      "770000\n",
      "775000\n",
      "780000\n",
      "785000\n",
      "790000\n",
      "795000\n",
      "800000\n",
      "805000\n",
      "810000\n",
      "815000\n",
      "820000\n",
      "825000\n",
      "830000\n",
      "835000\n",
      "840000\n",
      "845000\n",
      "850000\n",
      "855000\n",
      "860000\n",
      "865000\n",
      "870000\n",
      "875000\n",
      "880000\n",
      "885000\n",
      "890000\n",
      "895000\n",
      "900000\n",
      "905000\n",
      "910000\n",
      "915000\n",
      "920000\n",
      "925000\n",
      "930000\n",
      "935000\n",
      "940000\n",
      "945000\n",
      "950000\n",
      "955000\n",
      "960000\n",
      "965000\n",
      "970000\n",
      "975000\n",
      "980000\n",
      "985000\n",
      "990000\n",
      "995000\n",
      "1000000\n"
     ]
    }
   ],
   "source": [
    "pred_score_gdb = PKSable_fragment_classifier(gdb_lib)"
   ]
  },
  {
   "cell_type": "code",
   "execution_count": 25,
   "metadata": {},
   "outputs": [],
   "source": [
    "pred_class_gdb = (pred_score_gdb >= cutoff) * 1"
   ]
  },
  {
   "cell_type": "code",
   "execution_count": 26,
   "metadata": {},
   "outputs": [
    {
     "data": {
      "text/plain": [
       "1000000"
      ]
     },
     "execution_count": 26,
     "metadata": {},
     "output_type": "execute_result"
    }
   ],
   "source": [
    "len(pred_class_gdb)"
   ]
  },
  {
   "cell_type": "code",
   "execution_count": 27,
   "metadata": {},
   "outputs": [
    {
     "data": {
      "text/plain": [
       "71"
      ]
     },
     "execution_count": 27,
     "metadata": {},
     "output_type": "execute_result"
    }
   ],
   "source": [
    "sum(pred_class_gdb)"
   ]
  },
  {
   "cell_type": "code",
   "execution_count": 28,
   "metadata": {},
   "outputs": [
    {
     "data": {
      "text/plain": [
       "0.37844512512602746"
      ]
     },
     "execution_count": 28,
     "metadata": {},
     "output_type": "execute_result"
    }
   ],
   "source": [
    "np.mean(pred_score_gdb)"
   ]
  },
  {
   "cell_type": "markdown",
   "metadata": {},
   "source": [
    "### PKSability of food natural products"
   ]
  },
  {
   "cell_type": "markdown",
   "metadata": {},
   "source": [
    "A [work in bioRxiv](https://www.biorxiv.org/content/10.1101/2020.11.06.371112v2) has predicted that a variety of natural products present in food may have medicinal activity against known drug targets. In this section, we evaluate which of such compounds may be PKSable using our fragment-based classifier."
   ]
  },
  {
   "cell_type": "code",
   "execution_count": 29,
   "metadata": {},
   "outputs": [],
   "source": "df_food = pd.read_csv('data/food_compounds_clean.csv')"
  },
  {
   "cell_type": "code",
   "execution_count": 30,
   "metadata": {},
   "outputs": [],
   "source": [
    "food_lib = list(df_food['SMILES'])"
   ]
  },
  {
   "cell_type": "code",
   "execution_count": 31,
   "metadata": {},
   "outputs": [
    {
     "name": "stdout",
     "output_type": "stream",
     "text": [
      "5000\n",
      "10000\n"
     ]
    }
   ],
   "source": [
    "pred_score_food = PKSable_fragment_classifier(food_lib)"
   ]
  },
  {
   "cell_type": "code",
   "execution_count": 32,
   "metadata": {},
   "outputs": [],
   "source": [
    "pred_class_food = (pred_score_food >= cutoff) * 1"
   ]
  },
  {
   "cell_type": "code",
   "execution_count": 33,
   "metadata": {},
   "outputs": [
    {
     "data": {
      "text/plain": [
       "11780"
      ]
     },
     "execution_count": 33,
     "metadata": {},
     "output_type": "execute_result"
    }
   ],
   "source": [
    "len(pred_class_food)"
   ]
  },
  {
   "cell_type": "code",
   "execution_count": 34,
   "metadata": {},
   "outputs": [
    {
     "data": {
      "text/plain": [
       "405"
      ]
     },
     "execution_count": 34,
     "metadata": {},
     "output_type": "execute_result"
    }
   ],
   "source": [
    "sum(pred_class_food)"
   ]
  },
  {
   "cell_type": "code",
   "execution_count": 35,
   "metadata": {},
   "outputs": [
    {
     "data": {
      "text/plain": [
       "0.4827181202118736"
      ]
     },
     "execution_count": 35,
     "metadata": {},
     "output_type": "execute_result"
    }
   ],
   "source": [
    "np.mean(pred_score_food)"
   ]
  },
  {
   "cell_type": "markdown",
   "metadata": {},
   "source": [
    "### PKSability of MIBiG secondary metabolites database"
   ]
  },
  {
   "cell_type": "code",
   "execution_count": 36,
   "metadata": {},
   "outputs": [],
   "source": "mibig_df = pd.read_csv('data/mibig_compounds.csv')"
  },
  {
   "cell_type": "code",
   "execution_count": 37,
   "metadata": {},
   "outputs": [],
   "source": [
    "mibig_lib = list(mibig_df['SMILES'])\n",
    "pred_score_mibig = PKSable_fragment_classifier(mibig_lib)\n",
    "pred_class_mibig = (pred_score_mibig >= cutoff) * 1"
   ]
  },
  {
   "cell_type": "code",
   "execution_count": 38,
   "metadata": {},
   "outputs": [
    {
     "data": {
      "text/plain": [
       "1925"
      ]
     },
     "execution_count": 38,
     "metadata": {},
     "output_type": "execute_result"
    }
   ],
   "source": [
    "len(mibig_df)"
   ]
  },
  {
   "cell_type": "code",
   "execution_count": 39,
   "metadata": {},
   "outputs": [
    {
     "data": {
      "text/plain": [
       "4"
      ]
     },
     "execution_count": 39,
     "metadata": {},
     "output_type": "execute_result"
    }
   ],
   "source": [
    "sum(pred_class_mibig)"
   ]
  },
  {
   "cell_type": "code",
   "execution_count": 40,
   "metadata": {},
   "outputs": [
    {
     "data": {
      "text/plain": [
       "0.4754641538833171"
      ]
     },
     "execution_count": 40,
     "metadata": {},
     "output_type": "execute_result"
    }
   ],
   "source": [
    "np.mean(pred_score_mibig)"
   ]
  },
  {
   "cell_type": "markdown",
   "metadata": {},
   "source": [
    "### Plots"
   ]
  },
  {
   "cell_type": "code",
   "execution_count": 50,
   "metadata": {},
   "outputs": [
    {
     "data": {
      "text/html": [
       "<div>\n",
       "<style scoped>\n",
       "    .dataframe tbody tr th:only-of-type {\n",
       "        vertical-align: middle;\n",
       "    }\n",
       "\n",
       "    .dataframe tbody tr th {\n",
       "        vertical-align: top;\n",
       "    }\n",
       "\n",
       "    .dataframe thead th {\n",
       "        text-align: right;\n",
       "    }\n",
       "</style>\n",
       "<table border=\"1\" class=\"dataframe\">\n",
       "  <thead>\n",
       "    <tr style=\"text-align: right;\">\n",
       "      <th></th>\n",
       "      <th>SMILES</th>\n",
       "      <th>Predicted_score</th>\n",
       "      <th>Dataset</th>\n",
       "    </tr>\n",
       "  </thead>\n",
       "  <tbody>\n",
       "    <tr>\n",
       "      <th>0</th>\n",
       "      <td>C=CCC(=CC(=CC(=CC(=C[C@H](CC)OC)CCCC)OC)CCCCCC...</td>\n",
       "      <td>1.0</td>\n",
       "      <td>Polyketides</td>\n",
       "    </tr>\n",
       "    <tr>\n",
       "      <th>1</th>\n",
       "      <td>C=CCC(=CC(=CC(=CC(=C[C@H](CCC)CCCC)CCCCc1c[nH]...</td>\n",
       "      <td>1.0</td>\n",
       "      <td>Polyketides</td>\n",
       "    </tr>\n",
       "    <tr>\n",
       "      <th>2</th>\n",
       "      <td>C=CCC(=CC(=CC(=CC(O)C(=O)c1ccccc1)OC)OC)C[C@H]...</td>\n",
       "      <td>1.0</td>\n",
       "      <td>Polyketides</td>\n",
       "    </tr>\n",
       "    <tr>\n",
       "      <th>3</th>\n",
       "      <td>C=CCC(=CC(=CC(=C[C@@H](CC)Cc1ccc[nH]1)CC)C(C)C...</td>\n",
       "      <td>1.0</td>\n",
       "      <td>Polyketides</td>\n",
       "    </tr>\n",
       "    <tr>\n",
       "      <th>4</th>\n",
       "      <td>C=CCC(=CC(=CC(=C[C@@H](CC=C)C(=O)[C@H](CCCCc1c...</td>\n",
       "      <td>1.0</td>\n",
       "      <td>Polyketides</td>\n",
       "    </tr>\n",
       "    <tr>\n",
       "      <th>...</th>\n",
       "      <td>...</td>\n",
       "      <td>...</td>\n",
       "      <td>...</td>\n",
       "    </tr>\n",
       "    <tr>\n",
       "      <th>1034850</th>\n",
       "      <td>CC(C1C(C2=C(C(=C3C(=O)C=C(C4=C5C(=CC(=O)C6=C(C...</td>\n",
       "      <td>0.459459</td>\n",
       "      <td>MIBiG</td>\n",
       "    </tr>\n",
       "    <tr>\n",
       "      <th>1034851</th>\n",
       "      <td>COC1=C(C2=CC3=C(C(=C2C(=C1)O)O)C(=O)O[C@@H](C3...</td>\n",
       "      <td>0.510204</td>\n",
       "      <td>MIBiG</td>\n",
       "    </tr>\n",
       "    <tr>\n",
       "      <th>1034852</th>\n",
       "      <td>NCCC(O)CCCCCCCC(N)CCCCCCCC(N)CCCCCCCC(N)CCCCCC...</td>\n",
       "      <td>0.6</td>\n",
       "      <td>MIBiG</td>\n",
       "    </tr>\n",
       "    <tr>\n",
       "      <th>1034853</th>\n",
       "      <td>O=C1C=C(NC(=O)CCCCC)N2CCCC12</td>\n",
       "      <td>0.625</td>\n",
       "      <td>MIBiG</td>\n",
       "    </tr>\n",
       "    <tr>\n",
       "      <th>1034854</th>\n",
       "      <td>CCC(OC1CC(C)(O)C(OC2CCC(OC(=O)C(C)C(O)C3=CC4=C...</td>\n",
       "      <td>0.587786</td>\n",
       "      <td>MIBiG</td>\n",
       "    </tr>\n",
       "  </tbody>\n",
       "</table>\n",
       "<p>1034855 rows × 3 columns</p>\n",
       "</div>"
      ],
      "text/plain": [
       "                                                    SMILES Predicted_score  \\\n",
       "0        C=CCC(=CC(=CC(=CC(=C[C@H](CC)OC)CCCC)OC)CCCCCC...             1.0   \n",
       "1        C=CCC(=CC(=CC(=CC(=C[C@H](CCC)CCCC)CCCCc1c[nH]...             1.0   \n",
       "2        C=CCC(=CC(=CC(=CC(O)C(=O)c1ccccc1)OC)OC)C[C@H]...             1.0   \n",
       "3        C=CCC(=CC(=CC(=C[C@@H](CC)Cc1ccc[nH]1)CC)C(C)C...             1.0   \n",
       "4        C=CCC(=CC(=CC(=C[C@@H](CC=C)C(=O)[C@H](CCCCc1c...             1.0   \n",
       "...                                                    ...             ...   \n",
       "1034850  CC(C1C(C2=C(C(=C3C(=O)C=C(C4=C5C(=CC(=O)C6=C(C...        0.459459   \n",
       "1034851  COC1=C(C2=CC3=C(C(=C2C(=C1)O)O)C(=O)O[C@@H](C3...        0.510204   \n",
       "1034852  NCCC(O)CCCCCCCC(N)CCCCCCCC(N)CCCCCCCC(N)CCCCCC...             0.6   \n",
       "1034853                       O=C1C=C(NC(=O)CCCCC)N2CCCC12           0.625   \n",
       "1034854  CCC(OC1CC(C)(O)C(OC2CCC(OC(=O)C(C)C(O)C3=CC4=C...        0.587786   \n",
       "\n",
       "             Dataset  \n",
       "0        Polyketides  \n",
       "1        Polyketides  \n",
       "2        Polyketides  \n",
       "3        Polyketides  \n",
       "4        Polyketides  \n",
       "...              ...  \n",
       "1034850        MIBiG  \n",
       "1034851        MIBiG  \n",
       "1034852        MIBiG  \n",
       "1034853        MIBiG  \n",
       "1034854        MIBiG  \n",
       "\n",
       "[1034855 rows x 3 columns]"
      ]
     },
     "execution_count": 50,
     "metadata": {},
     "output_type": "execute_result"
    }
   ],
   "source": [
    "df = pd.DataFrame(columns=['SMILES','Predicted_score', 'Dataset'])\n",
    "\n",
    "a = pd.DataFrame(zip(PKSable_library, pred_score_pk), columns=['SMILES','Predicted_score'])\n",
    "a['Dataset'] = \"Polyketides\"\n",
    "df = pd.concat([df,a], ignore_index=True)\n",
    "\n",
    "a = pd.DataFrame(zip(gdb_lib, pred_score_gdb), columns=['SMILES','Predicted_score'])\n",
    "a['Dataset'] = \"GDB-13\"\n",
    "df = pd.concat([df,a], ignore_index=True)\n",
    "\n",
    "a = pd.DataFrame(zip(db_lib, pred_score_db), columns=['SMILES','Predicted_score'])\n",
    "a['Dataset'] = \"DrugBank\"\n",
    "df = pd.concat([df,a], ignore_index=True)\n",
    "\n",
    "a = pd.DataFrame(zip(food_lib, pred_score_food), columns=['SMILES','Predicted_score'])\n",
    "a['Dataset'] = \"Food compounds\"\n",
    "df = pd.concat([df,a], ignore_index=True)\n",
    "\n",
    "a = pd.DataFrame(zip(mibig_lib, pred_score_mibig), columns=['SMILES','Predicted_score'])\n",
    "a['Dataset'] = \"MIBiG\"\n",
    "df = pd.concat([df,a], ignore_index=True)\n",
    "\n",
    "df"
   ]
  },
  {
   "cell_type": "code",
   "execution_count": 51,
   "metadata": {},
   "outputs": [],
   "source": [
    "df.to_csv(\"./data/results_PKSability.csv\", index=False)"
   ]
  },
  {
   "cell_type": "code",
   "execution_count": 52,
   "metadata": {},
   "outputs": [
    {
     "data": {
      "image/png": "[encoded data removed]",
      "text/plain": [
       "<Figure size 632.375x360 with 1 Axes>"
      ]
     },
     "metadata": {
      "needs_background": "light"
     },
     "output_type": "display_data"
    }
   ],
   "source": [
    "chart = sns.displot(data=df[df[\"Dataset\"]==\"Polyketides\"], x='Predicted_score', hue='Dataset', kind=\"hist\", \n",
    "                    stat=\"density\",bins=20, height=5, aspect=1.5)"
   ]
  },
  {
   "cell_type": "code",
   "execution_count": 53,
   "metadata": {},
   "outputs": [
    {
     "data": {
      "image/png": "[encoded data removed]",
      "text/plain": [
       "<Figure size 614.75x360 with 1 Axes>"
      ]
     },
     "metadata": {
      "needs_background": "light"
     },
     "output_type": "display_data"
    }
   ],
   "source": [
    "chart = sns.displot(data=df[df[\"Dataset\"]==\"GDB-13\"], x='Predicted_score', hue='Dataset', kind=\"hist\", \n",
    "                    stat=\"density\",bins=20, height=5, aspect=1.5)"
   ]
  },
  {
   "cell_type": "code",
   "execution_count": 54,
   "metadata": {},
   "outputs": [
    {
     "data": {
      "image/png": "[encoded data removed]",
      "text/plain": [
       "<Figure size 660.625x360 with 1 Axes>"
      ]
     },
     "metadata": {
      "needs_background": "light"
     },
     "output_type": "display_data"
    }
   ],
   "source": [
    "chart = sns.displot(data=df[df[\"Dataset\"]==\"Food compounds\"], x='Predicted_score', hue='Dataset', kind=\"hist\", \n",
    "                    stat=\"density\",bins=20, height=5, aspect=1.5)"
   ]
  },
  {
   "cell_type": "code",
   "execution_count": 55,
   "metadata": {},
   "outputs": [
    {
     "data": {
      "image/png": "[encoded data removed]",
      "text/plain": [
       "<Figure size 625.75x360 with 1 Axes>"
      ]
     },
     "metadata": {
      "needs_background": "light"
     },
     "output_type": "display_data"
    }
   ],
   "source": [
    "chart = sns.displot(data=df[df[\"Dataset\"]==\"DrugBank\"], x='Predicted_score', hue='Dataset', kind=\"hist\", \n",
    "                    stat=\"density\",bins=20, height=5, aspect=1.5)"
   ]
  },
  {
   "cell_type": "code",
   "execution_count": 56,
   "metadata": {},
   "outputs": [
    {
     "data": {
      "image/png": "[encoded data removed]",
      "text/plain": [
       "<Figure size 605x360 with 1 Axes>"
      ]
     },
     "metadata": {
      "needs_background": "light"
     },
     "output_type": "display_data"
    }
   ],
   "source": [
    "chart = sns.displot(data=df[df[\"Dataset\"]==\"MIBiG\"], x='Predicted_score', hue='Dataset', kind=\"hist\", \n",
    "                    stat=\"density\",bins=20, height=5, aspect=1.5)"
   ]
  },
  {
   "cell_type": "code",
   "execution_count": null,
   "metadata": {},
   "outputs": [],
   "source": []
  }
 ],
 "metadata": {
  "kernelspec": {
   "display_name": "Python 3 (ipykernel)",
   "language": "python",
   "name": "python3"
  },
  "language_info": {
   "codemirror_mode": {
    "name": "ipython",
    "version": 3
   },
   "file_extension": ".py",
   "mimetype": "text/x-python",
   "name": "python",
   "nbconvert_exporter": "python",
   "pygments_lexer": "ipython3",
   "version": "3.9.7"
  }
 },
 "nbformat": 4,
 "nbformat_minor": 2
}
