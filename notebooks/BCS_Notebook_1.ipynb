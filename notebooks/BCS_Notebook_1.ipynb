{
 "cells": [
  {
   "cell_type": "markdown",
   "metadata": {},
   "source": [
    "# Biosynthetic Cluster Simulator (BCS) prototype\n",
    "\n",
    "Tyler W. H. Backman, Vincent Blay - Jan 2022"
   ]
  },
  {
   "cell_type": "code",
   "execution_count": 1,
   "metadata": {
    "ExecuteTime": {
     "end_time": "2025-03-25T16:58:45.686085Z",
     "start_time": "2025-03-25T16:58:45.655639Z"
    }
   },
   "outputs": [],
   "source": [
    "%matplotlib inline"
   ]
  },
  {
   "cell_type": "code",
   "execution_count": 2,
   "metadata": {
    "ExecuteTime": {
     "end_time": "2025-03-25T16:58:50.762968Z",
     "start_time": "2025-03-25T16:58:49.143153Z"
    }
   },
   "outputs": [],
   "source": [
    "import cobra"
   ]
  },
  {
   "cell_type": "code",
   "execution_count": 3,
   "metadata": {
    "ExecuteTime": {
     "end_time": "2025-03-25T16:58:52.457348Z",
     "start_time": "2025-03-25T16:58:51.859984Z"
    }
   },
   "outputs": [],
   "source": [
    "import numpy as np\n",
    "from rdkit import Chem"
   ]
  },
  {
   "cell_type": "code",
   "execution_count": 4,
   "metadata": {
    "ExecuteTime": {
     "end_time": "2025-03-25T16:58:53.286577Z",
     "start_time": "2025-03-25T16:58:53.281002Z"
    }
   },
   "outputs": [],
   "source": [
    "import matplotlib.pyplot as plt"
   ]
  },
  {
   "cell_type": "code",
   "execution_count": 5,
   "metadata": {
    "ExecuteTime": {
     "end_time": "2025-03-25T16:58:54.621018Z",
     "start_time": "2025-03-25T16:58:54.390921Z"
    }
   },
   "outputs": [],
   "source": [
    "import os, sys, glob, re, pickle\n",
    "import pandas as pd\n",
    "import seaborn as sns\n",
    "from rdkit import Chem\n",
    "from rdkit.Chem import AllChem, Draw, rdFMCS, CHI_UNSPECIFIED, BondType, BondDir, AddHs\n",
    "from rdkit.Chem.Draw import IPythonConsole\n",
    "from collections import namedtuple, OrderedDict\n",
    "from itertools import product\n",
    "from copy import copy\n",
    "from json import dumps"
   ]
  },
  {
   "cell_type": "code",
   "execution_count": 6,
   "metadata": {
    "ExecuteTime": {
     "end_time": "2025-03-25T16:58:55.844446Z",
     "start_time": "2025-03-25T16:58:55.838942Z"
    }
   },
   "outputs": [],
   "source": [
    "def plotMol(mol, legend='', size=600):\n",
    "    display(Draw.MolsToGridImage([mol], legends=[legend], molsPerRow=1, useSVG=True, subImgSize=(size, size)))"
   ]
  },
  {
   "cell_type": "markdown",
   "metadata": {},
   "source": [
    "# Database of PKS starter substrates"
   ]
  },
  {
   "cell_type": "code",
   "execution_count": 7,
   "metadata": {
    "ExecuteTime": {
     "end_time": "2025-03-25T16:59:10.115630Z",
     "start_time": "2025-03-25T16:59:10.107824Z"
    }
   },
   "outputs": [],
   "source": [
    "suppl = Chem.rdmolfiles.SmilesMolSupplier(\n",
    "    '../bcs/data/starters.smi',\n",
    "    delimiter='\\t',\n",
    "    titleLine=True,\n",
    "    sanitize=True,\n",
    ")"
   ]
  },
  {
   "cell_type": "code",
   "execution_count": 8,
   "metadata": {
    "ExecuteTime": {
     "end_time": "2025-03-25T16:59:32.527015Z",
     "start_time": "2025-03-25T16:59:32.508068Z"
    }
   },
   "outputs": [
    {
     "name": "stderr",
     "output_type": "stream",
     "text": [
      "[16:28:35] SMILES Parse Error: syntax error while parsing: CCCCCCCC(=O)O   Octanoic Acid   octacid\n",
      "[16:28:35] SMILES Parse Error: Failed parsing SMILES 'CCCCCCCC(=O)O   Octanoic Acid   octacid' for input: 'CCCCCCCC(=O)O   Octanoic Acid   octacid'\n",
      "[16:28:35] ERROR: Smiles parse error on line 30\n",
      "[16:28:35] ERROR: Cannot create molecule from : 'CCCCCCCC(=O)O   Octanoic Acid   octacid'\n"
     ]
    },
    {
     "ename": "ArgumentError",
     "evalue": "Python argument types in\n    rdkit.Chem.rdmolops.SanitizeMol(NoneType)\ndid not match C++ signature:\n    SanitizeMol(RDKit::ROMol {lvalue} mol, unsigned long sanitizeOps=rdkit.Chem.rdmolops.SanitizeFlags.SANITIZE_ALL, bool catchErrors=False)",
     "output_type": "error",
     "traceback": [
      "\u001b[0;31m---------------------------------------------------------------------------\u001b[0m",
      "\u001b[0;31mArgumentError\u001b[0m                             Traceback (most recent call last)",
      "Cell \u001b[0;32mIn[8], line 5\u001b[0m\n\u001b[1;32m      2\u001b[0m starters \u001b[38;5;241m=\u001b[39m {}\n\u001b[1;32m      4\u001b[0m \u001b[38;5;28;01mfor\u001b[39;00m m \u001b[38;5;129;01min\u001b[39;00m suppl:\n\u001b[0;32m----> 5\u001b[0m     \u001b[43mChem\u001b[49m\u001b[38;5;241;43m.\u001b[39;49m\u001b[43mSanitizeMol\u001b[49m\u001b[43m(\u001b[49m\u001b[43mm\u001b[49m\u001b[43m)\u001b[49m\n\u001b[1;32m      6\u001b[0m     starters[m\u001b[38;5;241m.\u001b[39mGetProp(\u001b[38;5;124m'\u001b[39m\u001b[38;5;124m_Name\u001b[39m\u001b[38;5;124m'\u001b[39m)] \u001b[38;5;241m=\u001b[39m m\n",
      "\u001b[0;31mArgumentError\u001b[0m: Python argument types in\n    rdkit.Chem.rdmolops.SanitizeMol(NoneType)\ndid not match C++ signature:\n    SanitizeMol(RDKit::ROMol {lvalue} mol, unsigned long sanitizeOps=rdkit.Chem.rdmolops.SanitizeFlags.SANITIZE_ALL, bool catchErrors=False)"
     ]
    }
   ],
   "source": [
    "# now let's process these into a dict, and 'virtually attach to the ACP' by removal of the CoA\n",
    "starters = {}\n",
    "\n",
    "for m in suppl:\n",
    "    Chem.SanitizeMol(m)\n",
    "    starters[m.GetProp('_Name')] = m"
   ]
  },
  {
   "cell_type": "code",
   "execution_count": null,
   "metadata": {
    "ExecuteTime": {
     "end_time": "2025-03-25T16:59:40.145555Z",
     "start_time": "2025-03-25T16:59:40.130982Z"
    }
   },
   "outputs": [
    {
     "data": {
      "text/plain": [
       "{'Methylmalonyl-CoA': 'CCC(=O)[S]',\n",
       " 'Malonyl-CoA': 'CC(=O)[S]',\n",
       " 'Hydroxymalonyl-CoA': 'O=C([S])CO',\n",
       " 'Allylmalonyl-CoA': 'C=CCCC(=O)[S]',\n",
       " 'butmal': 'CCCC(=O)[S]',\n",
       " 'mxmal': 'COCC(=O)[S]',\n",
       " 'cemal': 'CC(=O)[S]',\n",
       " 'Acetyl-CoA': 'CC(=O)[S]',\n",
       " 'prop': 'CCC(=O)[S]',\n",
       " 'isobut': 'CC(C)C(=O)[S]',\n",
       " '2metbut': 'CCC(C)C(=O)[S]',\n",
       " 'CHC-CoA': 'O=C([S])C1CCCCC1',\n",
       " 'trans-1,2-CPDA': 'O=C(O)[C@@H]1CCC[C@H]1C(=O)[S]',\n",
       " 'cyclopentene': 'O=C([S])C1=CCCC1=O',\n",
       " 'pyr': 'O=C([S])c1ccc[nH]1',\n",
       " 'cin': 'O=C([S])/C=C/c1ccccc1',\n",
       " 'AHBA': 'Nc1cc(O)cc(C(=O)[S])c1',\n",
       " 'isoval': 'CC(C)CC(=O)[S]',\n",
       " 'PABA': 'Nc1ccc(C(=O)[S])cc1',\n",
       " 'DCP': 'O=C([S])c1c[nH]c(Cl)c1Cl',\n",
       " 'guan': 'NC(=[NH2+])NCC(=O)[S]',\n",
       " 'mthz': 'Cc1nc(C(=O)[S])cs1',\n",
       " 'DHCH': 'O=C([S])C1CC[C@@H](O)[C@H](O)C1',\n",
       " 'DHCHene': 'O=C([S])C1=CC[C@@H](O)[C@H](O)C1',\n",
       " 'plac': 'O=C([S])Cc1ccccc1',\n",
       " 'benz': 'O=C([S])c1ccccc1',\n",
       " 'PNBA': 'O=C([S])c1ccc([N+](=O)[O-])cc1',\n",
       " 'ema': 'CC[C@@H](C(N)=O)C(=O)[S]',\n",
       " '3measp': 'C[C@H](N)C(=O)NC[C@H](C)C(=O)[S]'}"
      ]
     },
     "execution_count": 9,
     "metadata": {},
     "output_type": "execute_result"
    }
   ],
   "source": [
    "{name: Chem.MolToSmiles(mol, canonical=True, isomericSmiles=True) for name, mol in starters.items()}"
   ]
  },
  {
   "cell_type": "code",
   "execution_count": null,
   "metadata": {
    "ExecuteTime": {
     "end_time": "2025-03-25T17:00:08.156807Z",
     "start_time": "2025-03-25T17:00:07.922725Z"
    }
   },
   "outputs": [
    {
     "data": {
      "image/svg+xml": [
       "<svg xmlns=\"http://www.w3.org/2000/svg\" xmlns:rdkit=\"http://www.rdkit.org/xml\" xmlns:xlink=\"http://www.w3.org/1999/xlink\" version=\"1.1\" baseProfile=\"full\" xml:space=\"preserve\" width=\"300px\" height=\"300px\" viewBox=\"0 0 300 300\">\n",
       "<!-- END OF HEADER -->\n",
       "<rect style=\"opacity:1.0;fill:#FFFFFF;stroke:none\" width=\"300.0\" height=\"300.0\" x=\"0.0\" y=\"0.0\"> </rect>\n",
       "<path class=\"bond-0 atom-0 atom-1\" d=\"M 15.0,111.5 L 100.7,62.0\" style=\"fill:none;fill-rule:evenodd;stroke:#000000;stroke-width:2.0px;stroke-linecap:butt;stroke-linejoin:miter;stroke-opacity:1\"/>\n",
       "<path class=\"bond-1 atom-1 atom-2\" d=\"M 100.7,62.0 L 186.4,111.5\" style=\"fill:none;fill-rule:evenodd;stroke:#000000;stroke-width:2.0px;stroke-linecap:butt;stroke-linejoin:miter;stroke-opacity:1\"/>\n",
       "<path class=\"bond-2 atom-2 atom-3\" d=\"M 186.4,120.1 L 223.1,98.9\" style=\"fill:none;fill-rule:evenodd;stroke:#000000;stroke-width:2.0px;stroke-linecap:butt;stroke-linejoin:miter;stroke-opacity:1\"/>\n",
       "<path class=\"bond-2 atom-2 atom-3\" d=\"M 223.1,98.9 L 259.7,77.7\" style=\"fill:none;fill-rule:evenodd;stroke:#FF0000;stroke-width:2.0px;stroke-linecap:butt;stroke-linejoin:miter;stroke-opacity:1\"/>\n",
       "<path class=\"bond-2 atom-2 atom-3\" d=\"M 179.0,107.2 L 215.6,86.0\" style=\"fill:none;fill-rule:evenodd;stroke:#000000;stroke-width:2.0px;stroke-linecap:butt;stroke-linejoin:miter;stroke-opacity:1\"/>\n",
       "<path class=\"bond-2 atom-2 atom-3\" d=\"M 215.6,86.0 L 252.3,64.9\" style=\"fill:none;fill-rule:evenodd;stroke:#FF0000;stroke-width:2.0px;stroke-linecap:butt;stroke-linejoin:miter;stroke-opacity:1\"/>\n",
       "<path class=\"bond-3 atom-2 atom-4\" d=\"M 186.4,111.5 L 186.4,152.3\" style=\"fill:none;fill-rule:evenodd;stroke:#000000;stroke-width:2.0px;stroke-linecap:butt;stroke-linejoin:miter;stroke-opacity:1\"/>\n",
       "<path class=\"bond-3 atom-2 atom-4\" d=\"M 186.4,152.3 L 186.4,193.2\" style=\"fill:none;fill-rule:evenodd;stroke:#CCCC00;stroke-width:2.0px;stroke-linecap:butt;stroke-linejoin:miter;stroke-opacity:1\"/>\n",
       "<path d=\"M 96.4,64.5 L 100.7,62.0 L 105.0,64.5\" style=\"fill:none;stroke:#000000;stroke-width:2.0px;stroke-linecap:butt;stroke-linejoin:miter;stroke-opacity:1;\"/>\n",
       "<path d=\"M 182.1,109.0 L 186.4,111.5 L 186.4,113.5\" style=\"fill:none;stroke:#000000;stroke-width:2.0px;stroke-linecap:butt;stroke-linejoin:miter;stroke-opacity:1;\"/>\n",
       "<path class=\"atom-3\" d=\"M 259.3 62.1 Q 259.3 55.3, 262.6 51.6 Q 265.9 47.8, 272.1 47.8 Q 278.3 47.8, 281.7 51.6 Q 285.0 55.3, 285.0 62.1 Q 285.0 68.9, 281.6 72.8 Q 278.3 76.6, 272.1 76.6 Q 266.0 76.6, 262.6 72.8 Q 259.3 68.9, 259.3 62.1 M 272.1 73.4 Q 276.4 73.4, 278.7 70.6 Q 281.0 67.7, 281.0 62.1 Q 281.0 56.6, 278.7 53.8 Q 276.4 51.0, 272.1 51.0 Q 267.9 51.0, 265.5 53.8 Q 263.2 56.5, 263.2 62.1 Q 263.2 67.7, 265.5 70.6 Q 267.9 73.4, 272.1 73.4 \" fill=\"#FF0000\"/>\n",
       "<path class=\"atom-4\" d=\"M 178.5 220.1 Q 178.8 220.2, 180.1 220.7 Q 181.4 221.3, 182.9 221.7 Q 184.3 222.0, 185.7 222.0 Q 188.4 222.0, 189.9 220.7 Q 191.5 219.4, 191.5 217.1 Q 191.5 215.6, 190.7 214.6 Q 189.9 213.7, 188.8 213.2 Q 187.6 212.7, 185.6 212.1 Q 183.1 211.3, 181.6 210.6 Q 180.1 209.9, 179.1 208.4 Q 178.0 206.9, 178.0 204.4 Q 178.0 200.8, 180.4 198.7 Q 182.8 196.5, 187.6 196.5 Q 190.8 196.5, 194.5 198.0 L 193.6 201.1 Q 190.2 199.7, 187.7 199.7 Q 185.0 199.7, 183.5 200.8 Q 181.9 201.9, 182.0 203.9 Q 182.0 205.4, 182.7 206.3 Q 183.5 207.2, 184.6 207.7 Q 185.8 208.2, 187.7 208.8 Q 190.2 209.6, 191.7 210.4 Q 193.2 211.2, 194.3 212.8 Q 195.4 214.4, 195.4 217.1 Q 195.4 221.0, 192.8 223.1 Q 190.2 225.2, 185.9 225.2 Q 183.4 225.2, 181.5 224.6 Q 179.7 224.1, 177.4 223.2 L 178.5 220.1 \" fill=\"#CCCC00\"/>\n",
       "<path class=\"atom-4\" d=\"M 203.3,210.5 L 203.3,210.6 L 203.3,210.8 L 203.3,211.0 L 203.2,211.1 L 203.1,211.3 L 203.1,211.4 L 203.0,211.6 L 202.9,211.7 L 202.8,211.8 L 202.6,212.0 L 202.5,212.1 L 202.4,212.2 L 202.2,212.2 L 202.1,212.3 L 201.9,212.4 L 201.7,212.4 L 201.6,212.4 L 201.4,212.4 L 201.2,212.4 L 201.1,212.4 L 200.9,212.4 L 200.7,212.3 L 200.6,212.3 L 200.4,212.2 L 200.3,212.1 L 200.1,212.0 L 200.0,211.9 L 199.9,211.8 L 199.8,211.6 L 199.7,211.5 L 199.6,211.4 L 199.5,211.2 L 199.5,211.0 L 199.4,210.9 L 199.4,210.7 L 199.4,210.5 L 199.4,210.4 L 199.4,210.2 L 199.4,210.0 L 199.5,209.9 L 199.5,209.7 L 199.6,209.5 L 199.7,209.4 L 199.8,209.3 L 199.9,209.1 L 200.0,209.0 L 200.1,208.9 L 200.3,208.8 L 200.4,208.7 L 200.6,208.6 L 200.7,208.6 L 200.9,208.5 L 201.1,208.5 L 201.2,208.5 L 201.4,208.5 L 201.6,208.5 L 201.7,208.5 L 201.9,208.5 L 202.1,208.6 L 202.2,208.7 L 202.4,208.8 L 202.5,208.8 L 202.6,209.0 L 202.8,209.1 L 202.9,209.2 L 203.0,209.3 L 203.1,209.5 L 203.1,209.6 L 203.2,209.8 L 203.3,209.9 L 203.3,210.1 L 203.3,210.3 L 203.3,210.5 L 201.3,210.5 Z\" style=\"fill:#000000;fill-rule:evenodd;fill-opacity:1;stroke:#000000;stroke-width:0.0px;stroke-linecap:butt;stroke-linejoin:miter;stroke-opacity:1;\"/>\n",
       "<path class=\"legend\" d=\"M 90.7 281.1 L 89.3 281.1 L 88.1 271.8 L 85.0 281.1 L 83.5 281.1 L 80.4 271.8 L 79.2 281.1 L 77.8 281.1 L 79.2 269.7 L 81.1 269.7 L 84.3 278.9 L 87.4 269.7 L 89.3 269.7 L 90.7 281.1 \" fill=\"#000000\"/>\n",
       "<path class=\"legend\" d=\"M 92.5 276.9 Q 92.5 274.9, 93.5 273.8 Q 94.5 272.7, 96.3 272.7 Q 98.1 272.7, 98.9 273.8 Q 99.7 274.9, 99.7 276.9 L 99.7 277.1 L 94.0 277.1 Q 94.0 278.5, 94.6 279.3 Q 95.3 280.0, 96.4 280.0 Q 97.1 280.0, 97.7 279.9 Q 98.3 279.7, 99.0 279.4 L 99.4 280.4 Q 98.6 280.8, 97.9 281.0 Q 97.1 281.2, 96.4 281.2 Q 94.5 281.2, 93.5 280.1 Q 92.5 279.0, 92.5 276.9 M 96.3 273.9 Q 95.4 273.9, 94.8 274.4 Q 94.2 275.0, 94.1 276.0 L 98.2 276.0 Q 98.0 274.9, 97.6 274.4 Q 97.1 273.9, 96.3 273.9 \" fill=\"#000000\"/>\n",
       "<path class=\"legend\" d=\"M 101.0 274.0 L 101.0 272.8 L 102.6 272.8 L 102.9 270.4 L 104.0 270.4 L 104.0 272.8 L 106.5 272.8 L 106.5 274.0 L 104.0 274.0 L 104.0 278.5 Q 104.0 280.0, 105.2 280.0 Q 105.7 280.0, 106.4 279.7 L 106.6 280.8 Q 105.7 281.2, 104.9 281.2 Q 103.8 281.2, 103.2 280.5 Q 102.5 279.9, 102.5 278.6 L 102.5 274.0 L 101.0 274.0 \" fill=\"#000000\"/>\n",
       "<path class=\"legend\" d=\"M 112.0 272.7 Q 113.3 272.7, 114.0 273.4 Q 114.7 274.2, 114.7 275.6 L 114.7 281.1 L 113.2 281.1 L 113.2 275.7 Q 113.2 274.8, 112.8 274.3 Q 112.5 273.9, 111.6 273.9 Q 110.9 273.9, 110.3 274.2 Q 109.6 274.6, 109.2 275.2 L 109.2 281.1 L 107.7 281.1 L 107.7 268.9 L 109.2 268.9 L 109.2 273.9 Q 110.3 272.7, 112.0 272.7 \" fill=\"#000000\"/>\n",
       "<path class=\"legend\" d=\"M 123.0 272.8 L 124.4 272.8 L 120.2 285.0 L 118.8 285.0 L 120.2 281.1 L 119.6 281.1 L 116.6 272.8 L 118.2 272.8 L 120.6 279.8 L 123.0 272.8 \" fill=\"#000000\"/>\n",
       "<path class=\"legend\" d=\"M 125.3 268.9 L 126.8 268.9 L 126.8 281.1 L 125.3 281.1 L 125.3 268.9 \" fill=\"#000000\"/>\n",
       "<path class=\"legend\" d=\"M 138.4 272.7 Q 139.7 272.7, 140.4 273.4 Q 141.2 274.2, 141.2 275.6 L 141.2 281.1 L 139.6 281.1 L 139.6 275.7 Q 139.6 274.8, 139.3 274.3 Q 138.9 273.9, 138.1 273.9 Q 137.3 273.9, 136.7 274.2 Q 136.1 274.6, 135.7 275.2 Q 135.8 275.3, 135.8 275.6 L 135.8 281.1 L 134.3 281.1 L 134.3 275.7 Q 134.3 274.8, 133.9 274.3 Q 133.5 273.9, 132.7 273.9 Q 132.0 273.9, 131.3 274.2 Q 130.7 274.6, 130.4 275.2 L 130.4 281.1 L 128.8 281.1 L 128.8 272.8 L 130.1 272.8 L 130.2 274.0 Q 131.3 272.7, 133.0 272.7 Q 134.9 272.7, 135.5 274.1 Q 136.6 272.7, 138.4 272.7 \" fill=\"#000000\"/>\n",
       "<path class=\"legend\" d=\"M 143.1 278.8 Q 143.1 277.5, 144.1 276.8 Q 145.2 276.1, 147.1 276.1 L 148.3 276.1 L 148.3 275.8 Q 148.3 274.7, 147.9 274.3 Q 147.5 273.9, 146.5 273.9 Q 145.8 273.9, 145.3 274.0 Q 144.8 274.1, 144.0 274.5 L 143.5 273.4 Q 145.1 272.7, 146.5 272.7 Q 148.3 272.7, 149.1 273.4 Q 149.9 274.2, 149.9 275.8 L 149.9 281.1 L 148.7 281.1 Q 148.7 281.0, 148.6 280.8 Q 148.6 280.5, 148.5 280.1 Q 147.3 281.3, 145.8 281.3 Q 144.6 281.3, 143.8 280.6 Q 143.1 279.9, 143.1 278.8 M 144.6 278.8 Q 144.6 279.4, 145.0 279.8 Q 145.4 280.1, 146.1 280.1 Q 146.7 280.1, 147.3 279.8 Q 147.9 279.5, 148.3 279.0 L 148.3 277.2 L 147.2 277.2 Q 145.9 277.2, 145.2 277.6 Q 144.6 278.0, 144.6 278.8 \" fill=\"#000000\"/>\n",
       "<path class=\"legend\" d=\"M 151.8 268.9 L 153.3 268.9 L 153.3 281.1 L 151.8 281.1 L 151.8 268.9 \" fill=\"#000000\"/>\n",
       "<path class=\"legend\" d=\"M 155.3 276.9 Q 155.3 274.9, 156.3 273.8 Q 157.4 272.7, 159.2 272.7 Q 161.1 272.7, 162.1 273.8 Q 163.1 274.9, 163.1 276.9 Q 163.1 278.9, 162.1 280.1 Q 161.1 281.2, 159.2 281.2 Q 157.4 281.2, 156.3 280.1 Q 155.3 278.9, 155.3 276.9 M 156.9 276.9 Q 156.9 278.4, 157.5 279.2 Q 158.1 280.0, 159.2 280.0 Q 160.4 280.0, 161.0 279.2 Q 161.6 278.4, 161.6 276.9 Q 161.6 275.4, 161.0 274.7 Q 160.4 273.9, 159.2 273.9 Q 158.1 273.9, 157.5 274.7 Q 156.9 275.4, 156.9 276.9 \" fill=\"#000000\"/>\n",
       "<path class=\"legend\" d=\"M 168.9 272.7 Q 170.2 272.7, 170.9 273.4 Q 171.6 274.2, 171.6 275.6 L 171.6 281.1 L 170.1 281.1 L 170.1 275.7 Q 170.1 274.8, 169.7 274.3 Q 169.3 273.9, 168.5 273.9 Q 167.7 273.9, 167.1 274.2 Q 166.5 274.6, 166.1 275.2 L 166.1 281.1 L 164.6 281.1 L 164.6 272.8 L 165.8 272.8 L 166.0 274.0 Q 167.1 272.7, 168.9 272.7 \" fill=\"#000000\"/>\n",
       "<path class=\"legend\" d=\"M 179.8 272.8 L 181.3 272.8 L 177.1 285.0 L 175.7 285.0 L 177.0 281.1 L 176.4 281.1 L 173.5 272.8 L 175.1 272.8 L 177.5 279.8 L 179.8 272.8 \" fill=\"#000000\"/>\n",
       "<path class=\"legend\" d=\"M 182.2 268.9 L 183.6 268.9 L 183.6 281.1 L 182.2 281.1 L 182.2 268.9 \" fill=\"#000000\"/>\n",
       "<path class=\"legend\" d=\"M 185.7 275.3 L 191.6 275.3 L 191.6 276.6 L 185.7 276.6 L 185.7 275.3 \" fill=\"#000000\"/>\n",
       "<path class=\"legend\" d=\"M 193.1 275.4 Q 193.1 272.6, 194.4 271.1 Q 195.7 269.6, 198.2 269.6 Q 200.6 269.6, 201.8 271.3 L 200.7 272.1 Q 199.8 270.9, 198.2 270.9 Q 196.5 270.9, 195.6 272.1 Q 194.7 273.2, 194.7 275.4 Q 194.7 277.6, 195.6 278.8 Q 196.6 279.9, 198.4 279.9 Q 199.6 279.9, 201.1 279.2 L 201.5 280.4 Q 201.0 280.8, 200.1 281.0 Q 199.2 281.2, 198.2 281.2 Q 195.7 281.2, 194.4 279.7 Q 193.1 278.2, 193.1 275.4 \" fill=\"#000000\"/>\n",
       "<path class=\"legend\" d=\"M 203.1 276.9 Q 203.1 274.9, 204.2 273.8 Q 205.2 272.7, 207.0 272.7 Q 208.9 272.7, 209.9 273.8 Q 211.0 274.9, 211.0 276.9 Q 211.0 278.9, 209.9 280.1 Q 208.9 281.2, 207.0 281.2 Q 205.2 281.2, 204.2 280.1 Q 203.1 278.9, 203.1 276.9 M 204.7 276.9 Q 204.7 278.4, 205.3 279.2 Q 205.9 280.0, 207.0 280.0 Q 208.2 280.0, 208.8 279.2 Q 209.4 278.4, 209.4 276.9 Q 209.4 275.4, 208.8 274.7 Q 208.2 273.9, 207.0 273.9 Q 205.9 273.9, 205.3 274.7 Q 204.7 275.4, 204.7 276.9 \" fill=\"#000000\"/>\n",
       "<path class=\"legend\" d=\"M 220.7 281.1 L 219.6 277.7 L 215.1 277.7 L 213.9 281.1 L 212.4 281.1 L 216.3 269.7 L 218.2 269.7 L 222.2 281.1 L 220.7 281.1 M 215.5 276.5 L 219.1 276.5 L 217.3 271.3 L 215.5 276.5 \" fill=\"#000000\"/>\n",
       "</svg>"
      ],
      "text/plain": [
       "<IPython.core.display.SVG object>"
      ]
     },
     "metadata": {},
     "output_type": "display_data"
    },
    {
     "data": {
      "text/plain": [
       "'CCC(=O)[S]'"
      ]
     },
     "metadata": {},
     "output_type": "display_data"
    },
    {
     "data": {
      "image/svg+xml": [
       "<svg xmlns=\"http://www.w3.org/2000/svg\" xmlns:rdkit=\"http://www.rdkit.org/xml\" xmlns:xlink=\"http://www.w3.org/1999/xlink\" version=\"1.1\" baseProfile=\"full\" xml:space=\"preserve\" width=\"300px\" height=\"300px\" viewBox=\"0 0 300 300\">\n",
       "<!-- END OF HEADER -->\n",
       "<rect style=\"opacity:1.0;fill:#FFFFFF;stroke:none\" width=\"300.0\" height=\"300.0\" x=\"0.0\" y=\"0.0\"> </rect>\n",
       "<path class=\"bond-0 atom-0 atom-1\" d=\"M 25.9,238.1 L 143.5,170.1\" style=\"fill:none;fill-rule:evenodd;stroke:#000000;stroke-width:2.0px;stroke-linecap:butt;stroke-linejoin:miter;stroke-opacity:1\"/>\n",
       "<path class=\"bond-1 atom-1 atom-2\" d=\"M 133.3,176.0 L 185.9,206.4\" style=\"fill:none;fill-rule:evenodd;stroke:#000000;stroke-width:2.0px;stroke-linecap:butt;stroke-linejoin:miter;stroke-opacity:1\"/>\n",
       "<path class=\"bond-1 atom-1 atom-2\" d=\"M 185.9,206.4 L 238.6,236.8\" style=\"fill:none;fill-rule:evenodd;stroke:#FF0000;stroke-width:2.0px;stroke-linecap:butt;stroke-linejoin:miter;stroke-opacity:1\"/>\n",
       "<path class=\"bond-1 atom-1 atom-2\" d=\"M 143.5,158.4 L 196.1,188.8\" style=\"fill:none;fill-rule:evenodd;stroke:#000000;stroke-width:2.0px;stroke-linecap:butt;stroke-linejoin:miter;stroke-opacity:1\"/>\n",
       "<path class=\"bond-1 atom-1 atom-2\" d=\"M 196.1,188.8 L 248.8,219.1\" style=\"fill:none;fill-rule:evenodd;stroke:#FF0000;stroke-width:2.0px;stroke-linecap:butt;stroke-linejoin:miter;stroke-opacity:1\"/>\n",
       "<path class=\"bond-2 atom-1 atom-3\" d=\"M 143.5,170.1 L 143.5,111.9\" style=\"fill:none;fill-rule:evenodd;stroke:#000000;stroke-width:2.0px;stroke-linecap:butt;stroke-linejoin:miter;stroke-opacity:1\"/>\n",
       "<path class=\"bond-2 atom-1 atom-3\" d=\"M 143.5,111.9 L 143.5,53.7\" style=\"fill:none;fill-rule:evenodd;stroke:#CCCC00;stroke-width:2.0px;stroke-linecap:butt;stroke-linejoin:miter;stroke-opacity:1\"/>\n",
       "<path d=\"M 137.6,173.5 L 143.5,170.1 L 143.5,167.2\" style=\"fill:none;stroke:#000000;stroke-width:2.0px;stroke-linecap:butt;stroke-linejoin:miter;stroke-opacity:1;\"/>\n",
       "<path class=\"atom-2\" d=\"M 248.1 238.1 Q 248.1 231.3, 251.5 227.5 Q 254.9 223.7, 261.1 223.7 Q 267.4 223.7, 270.8 227.5 Q 274.1 231.3, 274.1 238.1 Q 274.1 245.0, 270.7 248.9 Q 267.3 252.8, 261.1 252.8 Q 254.9 252.8, 251.5 248.9 Q 248.1 245.1, 248.1 238.1 M 261.1 249.6 Q 265.5 249.6, 267.8 246.7 Q 270.1 243.8, 270.1 238.1 Q 270.1 232.6, 267.8 229.8 Q 265.5 226.9, 261.1 226.9 Q 256.8 226.9, 254.5 229.7 Q 252.1 232.5, 252.1 238.1 Q 252.1 243.9, 254.5 246.7 Q 256.8 249.6, 261.1 249.6 \" fill=\"#FF0000\"/>\n",
       "<path class=\"atom-3\" d=\"M 135.5 44.0 Q 135.8 44.1, 137.1 44.7 Q 138.5 45.3, 139.9 45.6 Q 141.4 45.9, 142.8 45.9 Q 145.5 45.9, 147.1 44.7 Q 148.6 43.3, 148.6 41.1 Q 148.6 39.5, 147.8 38.5 Q 147.1 37.6, 145.9 37.1 Q 144.7 36.5, 142.7 35.9 Q 140.1 35.2, 138.6 34.5 Q 137.1 33.7, 136.1 32.2 Q 135.0 30.7, 135.0 28.1 Q 135.0 24.6, 137.4 22.4 Q 139.9 20.2, 144.7 20.2 Q 147.9 20.2, 151.7 21.7 L 150.7 24.8 Q 147.3 23.4, 144.8 23.4 Q 142.0 23.4, 140.5 24.6 Q 139.0 25.7, 139.0 27.7 Q 139.0 29.2, 139.8 30.1 Q 140.6 31.0, 141.7 31.5 Q 142.9 32.1, 144.8 32.7 Q 147.3 33.5, 148.9 34.3 Q 150.4 35.1, 151.5 36.7 Q 152.6 38.3, 152.6 41.1 Q 152.6 45.0, 149.9 47.1 Q 147.3 49.2, 143.0 49.2 Q 140.5 49.2, 138.5 48.6 Q 136.7 48.1, 134.4 47.2 L 135.5 44.0 \" fill=\"#CCCC00\"/>\n",
       "<path class=\"atom-3\" d=\"M 160.6,34.3 L 160.6,34.5 L 160.6,34.6 L 160.5,34.8 L 160.5,35.0 L 160.4,35.1 L 160.3,35.3 L 160.2,35.4 L 160.1,35.6 L 160.0,35.7 L 159.9,35.8 L 159.7,35.9 L 159.6,36.0 L 159.5,36.1 L 159.3,36.2 L 159.1,36.2 L 159.0,36.3 L 158.8,36.3 L 158.6,36.3 L 158.5,36.3 L 158.3,36.3 L 158.1,36.2 L 157.9,36.2 L 157.8,36.1 L 157.6,36.1 L 157.5,36.0 L 157.3,35.9 L 157.2,35.8 L 157.1,35.6 L 157.0,35.5 L 156.9,35.4 L 156.8,35.2 L 156.7,35.1 L 156.7,34.9 L 156.6,34.7 L 156.6,34.6 L 156.6,34.4 L 156.6,34.2 L 156.6,34.0 L 156.6,33.9 L 156.7,33.7 L 156.7,33.5 L 156.8,33.4 L 156.9,33.2 L 157.0,33.1 L 157.1,33.0 L 157.2,32.8 L 157.3,32.7 L 157.5,32.6 L 157.6,32.5 L 157.8,32.5 L 157.9,32.4 L 158.1,32.4 L 158.3,32.3 L 158.5,32.3 L 158.6,32.3 L 158.8,32.3 L 159.0,32.3 L 159.1,32.4 L 159.3,32.4 L 159.5,32.5 L 159.6,32.6 L 159.7,32.7 L 159.9,32.8 L 160.0,32.9 L 160.1,33.0 L 160.2,33.2 L 160.3,33.3 L 160.4,33.5 L 160.5,33.6 L 160.5,33.8 L 160.6,34.0 L 160.6,34.1 L 160.6,34.3 L 158.6,34.3 Z\" style=\"fill:#000000;fill-rule:evenodd;fill-opacity:1;stroke:#000000;stroke-width:0.0px;stroke-linecap:butt;stroke-linejoin:miter;stroke-opacity:1;\"/>\n",
       "<path class=\"legend\" d=\"M 116.0 281.1 L 114.5 281.1 L 113.4 271.8 L 110.3 281.1 L 108.8 281.1 L 105.7 271.8 L 104.5 281.1 L 103.1 281.1 L 104.5 269.7 L 106.4 269.7 L 109.5 278.9 L 112.7 269.7 L 114.6 269.7 L 116.0 281.1 \" fill=\"#000000\"/>\n",
       "<path class=\"legend\" d=\"M 117.7 278.8 Q 117.7 277.5, 118.8 276.8 Q 119.9 276.1, 121.8 276.1 L 123.0 276.1 L 123.0 275.8 Q 123.0 274.7, 122.6 274.3 Q 122.2 273.9, 121.1 273.9 Q 120.5 273.9, 120.0 274.0 Q 119.5 274.1, 118.7 274.5 L 118.2 273.4 Q 119.7 272.7, 121.2 272.7 Q 122.9 272.7, 123.7 273.4 Q 124.5 274.2, 124.5 275.8 L 124.5 281.1 L 123.3 281.1 Q 123.3 281.0, 123.3 280.8 Q 123.2 280.5, 123.1 280.1 Q 122.0 281.3, 120.5 281.3 Q 119.2 281.3, 118.5 280.6 Q 117.7 279.9, 117.7 278.8 M 119.3 278.8 Q 119.3 279.4, 119.6 279.8 Q 120.0 280.1, 120.7 280.1 Q 121.4 280.1, 122.0 279.8 Q 122.6 279.5, 123.0 279.0 L 123.0 277.2 L 121.9 277.2 Q 120.6 277.2, 119.9 277.6 Q 119.3 278.0, 119.3 278.8 \" fill=\"#000000\"/>\n",
       "<path class=\"legend\" d=\"M 126.5 268.9 L 127.9 268.9 L 127.9 281.1 L 126.5 281.1 L 126.5 268.9 \" fill=\"#000000\"/>\n",
       "<path class=\"legend\" d=\"M 130.0 276.9 Q 130.0 274.9, 131.0 273.8 Q 132.0 272.7, 133.9 272.7 Q 135.8 272.7, 136.8 273.8 Q 137.8 274.9, 137.8 276.9 Q 137.8 278.9, 136.8 280.1 Q 135.8 281.2, 133.9 281.2 Q 132.0 281.2, 131.0 280.1 Q 130.0 278.9, 130.0 276.9 M 131.5 276.9 Q 131.5 278.4, 132.2 279.2 Q 132.8 280.0, 133.9 280.0 Q 135.0 280.0, 135.7 279.2 Q 136.3 278.4, 136.3 276.9 Q 136.3 275.4, 135.7 274.7 Q 135.0 273.9, 133.9 273.9 Q 132.8 273.9, 132.2 274.7 Q 131.5 275.4, 131.5 276.9 \" fill=\"#000000\"/>\n",
       "<path class=\"legend\" d=\"M 143.5 272.7 Q 144.9 272.7, 145.5 273.4 Q 146.2 274.2, 146.2 275.6 L 146.2 281.1 L 144.7 281.1 L 144.7 275.7 Q 144.7 274.8, 144.4 274.3 Q 144.0 273.9, 143.2 273.9 Q 142.4 273.9, 141.8 274.2 Q 141.2 274.6, 140.8 275.2 L 140.8 281.1 L 139.3 281.1 L 139.3 272.8 L 140.5 272.8 L 140.7 274.0 Q 141.8 272.7, 143.5 272.7 \" fill=\"#000000\"/>\n",
       "<path class=\"legend\" d=\"M 154.5 272.8 L 156.0 272.8 L 151.7 285.0 L 150.4 285.0 L 151.7 281.1 L 151.1 281.1 L 148.2 272.8 L 149.7 272.8 L 152.2 279.8 L 154.5 272.8 \" fill=\"#000000\"/>\n",
       "<path class=\"legend\" d=\"M 156.8 268.9 L 158.3 268.9 L 158.3 281.1 L 156.8 281.1 L 156.8 268.9 \" fill=\"#000000\"/>\n",
       "<path class=\"legend\" d=\"M 160.4 275.3 L 166.3 275.3 L 166.3 276.6 L 160.4 276.6 L 160.4 275.3 \" fill=\"#000000\"/>\n",
       "<path class=\"legend\" d=\"M 167.8 275.4 Q 167.8 272.6, 169.1 271.1 Q 170.4 269.6, 172.9 269.6 Q 175.3 269.6, 176.5 271.3 L 175.4 272.1 Q 174.5 270.9, 172.9 270.9 Q 171.2 270.9, 170.3 272.1 Q 169.4 273.2, 169.4 275.4 Q 169.4 277.6, 170.3 278.8 Q 171.3 279.9, 173.1 279.9 Q 174.3 279.9, 175.8 279.2 L 176.2 280.4 Q 175.7 280.8, 174.8 281.0 Q 173.9 281.2, 172.9 281.2 Q 170.4 281.2, 169.1 279.7 Q 167.8 278.2, 167.8 275.4 \" fill=\"#000000\"/>\n",
       "<path class=\"legend\" d=\"M 177.9 276.9 Q 177.9 274.9, 178.9 273.8 Q 179.9 272.7, 181.8 272.7 Q 183.6 272.7, 184.6 273.8 Q 185.7 274.9, 185.7 276.9 Q 185.7 278.9, 184.6 280.1 Q 183.6 281.2, 181.8 281.2 Q 179.9 281.2, 178.9 280.1 Q 177.9 278.9, 177.9 276.9 M 179.4 276.9 Q 179.4 278.4, 180.0 279.2 Q 180.6 280.0, 181.8 280.0 Q 182.9 280.0, 183.5 279.2 Q 184.1 278.4, 184.1 276.9 Q 184.1 275.4, 183.5 274.7 Q 182.9 273.9, 181.8 273.9 Q 180.6 273.9, 180.0 274.7 Q 179.4 275.4, 179.4 276.9 \" fill=\"#000000\"/>\n",
       "<path class=\"legend\" d=\"M 195.5 281.1 L 194.3 277.7 L 189.8 277.7 L 188.6 281.1 L 187.1 281.1 L 191.0 269.7 L 192.9 269.7 L 196.9 281.1 L 195.5 281.1 M 190.2 276.5 L 193.8 276.5 L 192.0 271.3 L 190.2 276.5 \" fill=\"#000000\"/>\n",
       "</svg>"
      ],
      "text/plain": [
       "<IPython.core.display.SVG object>"
      ]
     },
     "metadata": {},
     "output_type": "display_data"
    },
    {
     "data": {
      "text/plain": [
       "'CC(=O)[S]'"
      ]
     },
     "metadata": {},
     "output_type": "display_data"
    },
    {
     "data": {
      "image/svg+xml": [
       "<svg xmlns=\"http://www.w3.org/2000/svg\" xmlns:rdkit=\"http://www.rdkit.org/xml\" xmlns:xlink=\"http://www.w3.org/1999/xlink\" version=\"1.1\" baseProfile=\"full\" xml:space=\"preserve\" width=\"300px\" height=\"300px\" viewBox=\"0 0 300 300\">\n",
       "<!-- END OF HEADER -->\n",
       "<rect style=\"opacity:1.0;fill:#FFFFFF;stroke:none\" width=\"300.0\" height=\"300.0\" x=\"0.0\" y=\"0.0\"> </rect>\n",
       "<path class=\"bond-0 atom-0 atom-1\" d=\"M 199.3,87.3 L 199.3,122.5\" style=\"fill:none;fill-rule:evenodd;stroke:#CCCC00;stroke-width:2.0px;stroke-linecap:butt;stroke-linejoin:miter;stroke-opacity:1\"/>\n",
       "<path class=\"bond-0 atom-0 atom-1\" d=\"M 199.3,122.5 L 199.3,157.7\" style=\"fill:none;fill-rule:evenodd;stroke:#000000;stroke-width:2.0px;stroke-linecap:butt;stroke-linejoin:miter;stroke-opacity:1\"/>\n",
       "<path class=\"bond-1 atom-1 atom-2\" d=\"M 199.3,157.7 L 124.8,200.8\" style=\"fill:none;fill-rule:evenodd;stroke:#000000;stroke-width:2.0px;stroke-linecap:butt;stroke-linejoin:miter;stroke-opacity:1\"/>\n",
       "<path class=\"bond-2 atom-2 atom-3\" d=\"M 124.8,200.8 L 94.5,183.3\" style=\"fill:none;fill-rule:evenodd;stroke:#000000;stroke-width:2.0px;stroke-linecap:butt;stroke-linejoin:miter;stroke-opacity:1\"/>\n",
       "<path class=\"bond-2 atom-2 atom-3\" d=\"M 94.5,183.3 L 64.3,165.8\" style=\"fill:none;fill-rule:evenodd;stroke:#FF0000;stroke-width:2.0px;stroke-linecap:butt;stroke-linejoin:miter;stroke-opacity:1\"/>\n",
       "<path class=\"bond-3 atom-1 atom-4\" d=\"M 192.8,161.5 L 224.7,179.9\" style=\"fill:none;fill-rule:evenodd;stroke:#000000;stroke-width:2.0px;stroke-linecap:butt;stroke-linejoin:miter;stroke-opacity:1\"/>\n",
       "<path class=\"bond-3 atom-1 atom-4\" d=\"M 224.7,179.9 L 256.6,198.3\" style=\"fill:none;fill-rule:evenodd;stroke:#FF0000;stroke-width:2.0px;stroke-linecap:butt;stroke-linejoin:miter;stroke-opacity:1\"/>\n",
       "<path class=\"bond-3 atom-1 atom-4\" d=\"M 199.3,150.3 L 231.2,168.7\" style=\"fill:none;fill-rule:evenodd;stroke:#000000;stroke-width:2.0px;stroke-linecap:butt;stroke-linejoin:miter;stroke-opacity:1\"/>\n",
       "<path class=\"bond-3 atom-1 atom-4\" d=\"M 231.2,168.7 L 263.0,187.1\" style=\"fill:none;fill-rule:evenodd;stroke:#FF0000;stroke-width:2.0px;stroke-linecap:butt;stroke-linejoin:miter;stroke-opacity:1\"/>\n",
       "<path d=\"M 199.3,156.0 L 199.3,157.7 L 195.6,159.9\" style=\"fill:none;stroke:#000000;stroke-width:2.0px;stroke-linecap:butt;stroke-linejoin:miter;stroke-opacity:1;\"/>\n",
       "<path d=\"M 128.5,198.6 L 124.8,200.8 L 123.3,199.9\" style=\"fill:none;stroke:#000000;stroke-width:2.0px;stroke-linecap:butt;stroke-linejoin:miter;stroke-opacity:1;\"/>\n",
       "<path class=\"atom-0\" d=\"M 192.4 80.1 Q 192.7 80.2, 193.8 80.6 Q 195.0 81.1, 196.2 81.4 Q 197.5 81.7, 198.7 81.7 Q 201.0 81.7, 202.4 80.6 Q 203.7 79.5, 203.7 77.5 Q 203.7 76.2, 203.0 75.3 Q 202.4 74.5, 201.3 74.1 Q 200.3 73.6, 198.6 73.1 Q 196.4 72.4, 195.1 71.8 Q 193.8 71.2, 192.9 69.9 Q 192.0 68.6, 192.0 66.4 Q 192.0 63.3, 194.1 61.4 Q 196.2 59.5, 200.3 59.5 Q 203.1 59.5, 206.3 60.9 L 205.5 63.5 Q 202.6 62.3, 200.4 62.3 Q 198.0 62.3, 196.7 63.3 Q 195.4 64.3, 195.4 66.0 Q 195.4 67.3, 196.1 68.1 Q 196.8 68.9, 197.7 69.3 Q 198.7 69.8, 200.4 70.3 Q 202.6 71.0, 203.9 71.7 Q 205.2 72.3, 206.1 73.8 Q 207.1 75.1, 207.1 77.5 Q 207.1 80.9, 204.8 82.7 Q 202.6 84.5, 198.8 84.5 Q 196.7 84.5, 195.0 84.0 Q 193.4 83.6, 191.5 82.8 L 192.4 80.1 \" fill=\"#CCCC00\"/>\n",
       "<path class=\"atom-3\" d=\"M 15.0 145.7 L 18.3 145.7 L 18.3 156.1 L 30.8 156.1 L 30.8 145.7 L 34.1 145.7 L 34.1 170.1 L 30.8 170.1 L 30.8 158.8 L 18.3 158.8 L 18.3 170.1 L 15.0 170.1 L 15.0 145.7 \" fill=\"#FF0000\"/>\n",
       "<path class=\"atom-3\" d=\"M 39.1 157.8 Q 39.1 152.0, 42.0 148.7 Q 44.8 145.4, 50.3 145.4 Q 55.7 145.4, 58.5 148.7 Q 61.4 152.0, 61.4 157.8 Q 61.4 163.7, 58.5 167.1 Q 55.6 170.4, 50.3 170.4 Q 44.9 170.4, 42.0 167.1 Q 39.1 163.8, 39.1 157.8 M 50.3 167.7 Q 54.0 167.7, 56.0 165.2 Q 58.0 162.7, 58.0 157.8 Q 58.0 153.0, 56.0 150.6 Q 54.0 148.2, 50.3 148.2 Q 46.5 148.2, 44.5 150.6 Q 42.5 153.0, 42.5 157.8 Q 42.5 162.7, 44.5 165.2 Q 46.5 167.7, 50.3 167.7 \" fill=\"#FF0000\"/>\n",
       "<path class=\"atom-4\" d=\"M 262.6 200.8 Q 262.6 195.0, 265.5 191.7 Q 268.4 188.4, 273.8 188.4 Q 279.2 188.4, 282.1 191.7 Q 285.0 195.0, 285.0 200.8 Q 285.0 206.8, 282.1 210.1 Q 279.1 213.5, 273.8 213.5 Q 268.4 213.5, 265.5 210.1 Q 262.6 206.8, 262.6 200.8 M 273.8 210.7 Q 277.5 210.7, 279.5 208.2 Q 281.6 205.7, 281.6 200.8 Q 281.6 196.0, 279.5 193.6 Q 277.5 191.2, 273.8 191.2 Q 270.1 191.2, 268.1 193.6 Q 266.1 196.0, 266.1 200.8 Q 266.1 205.8, 268.1 208.2 Q 270.1 210.7, 273.8 210.7 \" fill=\"#FF0000\"/>\n",
       "<path class=\"atom-0\" d=\"M 214.0,71.7 L 214.0,71.8 L 214.0,72.0 L 213.9,72.1 L 213.9,72.3 L 213.8,72.4 L 213.8,72.5 L 213.7,72.7 L 213.6,72.8 L 213.5,72.9 L 213.4,73.0 L 213.3,73.1 L 213.2,73.2 L 213.0,73.2 L 212.9,73.3 L 212.7,73.3 L 212.6,73.4 L 212.5,73.4 L 212.3,73.4 L 212.2,73.4 L 212.0,73.4 L 211.9,73.4 L 211.7,73.3 L 211.6,73.3 L 211.5,73.2 L 211.3,73.1 L 211.2,73.0 L 211.1,72.9 L 211.0,72.8 L 210.9,72.7 L 210.8,72.6 L 210.7,72.5 L 210.7,72.3 L 210.6,72.2 L 210.6,72.1 L 210.6,71.9 L 210.6,71.8 L 210.6,71.6 L 210.6,71.5 L 210.6,71.3 L 210.6,71.2 L 210.7,71.0 L 210.7,70.9 L 210.8,70.8 L 210.9,70.7 L 211.0,70.5 L 211.1,70.4 L 211.2,70.3 L 211.3,70.2 L 211.5,70.2 L 211.6,70.1 L 211.7,70.1 L 211.9,70.0 L 212.0,70.0 L 212.2,70.0 L 212.3,70.0 L 212.5,70.0 L 212.6,70.0 L 212.7,70.0 L 212.9,70.1 L 213.0,70.1 L 213.2,70.2 L 213.3,70.3 L 213.4,70.4 L 213.5,70.5 L 213.6,70.6 L 213.7,70.7 L 213.8,70.8 L 213.8,71.0 L 213.9,71.1 L 213.9,71.2 L 214.0,71.4 L 214.0,71.5 L 214.0,71.7 L 212.3,71.7 Z\" style=\"fill:#000000;fill-rule:evenodd;fill-opacity:1;stroke:#000000;stroke-width:0.0px;stroke-linecap:butt;stroke-linejoin:miter;stroke-opacity:1;\"/>\n",
       "<path class=\"legend\" d=\"M 72.6 269.7 L 74.1 269.7 L 74.1 274.6 L 79.9 274.6 L 79.9 269.7 L 81.4 269.7 L 81.4 281.1 L 79.9 281.1 L 79.9 275.8 L 74.1 275.8 L 74.1 281.1 L 72.6 281.1 L 72.6 269.7 \" fill=\"#000000\"/>\n",
       "<path class=\"legend\" d=\"M 89.8 272.8 L 91.3 272.8 L 87.1 285.0 L 85.7 285.0 L 87.0 281.1 L 86.4 281.1 L 83.5 272.8 L 85.1 272.8 L 87.5 279.8 L 89.8 272.8 \" fill=\"#000000\"/>\n",
       "<path class=\"legend\" d=\"M 99.7 268.9 L 99.7 281.0 L 98.4 281.0 L 98.2 280.0 Q 97.3 281.2, 95.8 281.2 Q 94.1 281.2, 93.1 280.1 Q 92.2 279.1, 92.2 277.1 Q 92.2 275.0, 93.3 273.9 Q 94.4 272.7, 96.4 272.7 Q 97.3 272.7, 98.1 272.9 L 98.1 268.9 L 99.7 268.9 M 95.9 280.0 Q 96.7 280.0, 97.3 279.6 Q 97.9 279.1, 98.1 278.3 L 98.1 274.1 Q 97.3 273.9, 96.4 273.9 Q 95.2 273.9, 94.4 274.7 Q 93.7 275.6, 93.7 277.1 Q 93.7 278.5, 94.3 279.3 Q 94.9 280.0, 95.9 280.0 \" fill=\"#000000\"/>\n",
       "<path class=\"legend\" d=\"M 102.9 272.8 L 103.0 274.0 Q 103.9 272.7, 105.3 272.7 Q 105.8 272.7, 106.4 272.9 L 106.1 274.2 Q 105.4 274.0, 105.1 274.0 Q 104.4 274.0, 103.9 274.3 Q 103.5 274.6, 103.2 275.2 L 103.2 281.1 L 101.6 281.1 L 101.6 272.8 L 102.9 272.8 \" fill=\"#000000\"/>\n",
       "<path class=\"legend\" d=\"M 107.3 276.9 Q 107.3 274.9, 108.3 273.8 Q 109.4 272.7, 111.2 272.7 Q 113.1 272.7, 114.1 273.8 Q 115.1 274.9, 115.1 276.9 Q 115.1 278.9, 114.1 280.1 Q 113.1 281.2, 111.2 281.2 Q 109.4 281.2, 108.3 280.1 Q 107.3 278.9, 107.3 276.9 M 108.9 276.9 Q 108.9 278.4, 109.5 279.2 Q 110.1 280.0, 111.2 280.0 Q 112.4 280.0, 113.0 279.2 Q 113.6 278.4, 113.6 276.9 Q 113.6 275.4, 113.0 274.7 Q 112.4 273.9, 111.2 273.9 Q 110.1 273.9, 109.5 274.7 Q 108.9 275.4, 108.9 276.9 \" fill=\"#000000\"/>\n",
       "<path class=\"legend\" d=\"M 119.6 276.8 L 116.8 272.8 L 118.5 272.8 L 120.5 275.6 L 122.5 272.8 L 124.1 272.8 L 121.3 276.8 L 124.3 281.1 L 122.6 281.1 L 120.4 278.0 L 118.2 281.1 L 116.6 281.1 L 119.6 276.8 \" fill=\"#000000\"/>\n",
       "<path class=\"legend\" d=\"M 131.5 272.8 L 133.0 272.8 L 128.8 285.0 L 127.4 285.0 L 128.7 281.1 L 128.1 281.1 L 125.2 272.8 L 126.8 272.8 L 129.2 279.8 L 131.5 272.8 \" fill=\"#000000\"/>\n",
       "<path class=\"legend\" d=\"M 143.4 272.7 Q 144.8 272.7, 145.5 273.4 Q 146.2 274.2, 146.2 275.6 L 146.2 281.1 L 144.7 281.1 L 144.7 275.7 Q 144.7 274.8, 144.3 274.3 Q 143.9 273.9, 143.1 273.9 Q 142.4 273.9, 141.7 274.2 Q 141.1 274.6, 140.8 275.2 Q 140.8 275.3, 140.8 275.6 L 140.8 281.1 L 139.3 281.1 L 139.3 275.7 Q 139.3 274.8, 138.9 274.3 Q 138.5 273.9, 137.7 273.9 Q 137.0 273.9, 136.4 274.2 Q 135.8 274.6, 135.4 275.2 L 135.4 281.1 L 133.9 281.1 L 133.9 272.8 L 135.1 272.8 L 135.3 274.0 Q 136.3 272.7, 138.0 272.7 Q 139.9 272.7, 140.5 274.1 Q 141.6 272.7, 143.4 272.7 \" fill=\"#000000\"/>\n",
       "<path class=\"legend\" d=\"M 148.1 278.8 Q 148.1 277.5, 149.2 276.8 Q 150.2 276.1, 152.2 276.1 L 153.4 276.1 L 153.4 275.8 Q 153.4 274.7, 153.0 274.3 Q 152.5 273.9, 151.5 273.9 Q 150.9 273.9, 150.4 274.0 Q 149.8 274.1, 149.0 274.5 L 148.6 273.4 Q 150.1 272.7, 151.6 272.7 Q 153.3 272.7, 154.1 273.4 Q 154.9 274.2, 154.9 275.8 L 154.9 281.1 L 153.7 281.1 Q 153.7 281.0, 153.7 280.8 Q 153.6 280.5, 153.5 280.1 Q 152.4 281.3, 150.8 281.3 Q 149.6 281.3, 148.9 280.6 Q 148.1 279.9, 148.1 278.8 M 149.6 278.8 Q 149.6 279.4, 150.0 279.8 Q 150.4 280.1, 151.1 280.1 Q 151.8 280.1, 152.4 279.8 Q 153.0 279.5, 153.4 279.0 L 153.4 277.2 L 152.3 277.2 Q 151.0 277.2, 150.3 277.6 Q 149.6 278.0, 149.6 278.8 \" fill=\"#000000\"/>\n",
       "<path class=\"legend\" d=\"M 156.8 268.9 L 158.3 268.9 L 158.3 281.1 L 156.8 281.1 L 156.8 268.9 \" fill=\"#000000\"/>\n",
       "<path class=\"legend\" d=\"M 160.4 276.9 Q 160.4 274.9, 161.4 273.8 Q 162.4 272.7, 164.3 272.7 Q 166.2 272.7, 167.2 273.8 Q 168.2 274.9, 168.2 276.9 Q 168.2 278.9, 167.2 280.1 Q 166.2 281.2, 164.3 281.2 Q 162.4 281.2, 161.4 280.1 Q 160.4 278.9, 160.4 276.9 M 161.9 276.9 Q 161.9 278.4, 162.6 279.2 Q 163.2 280.0, 164.3 280.0 Q 165.5 280.0, 166.1 279.2 Q 166.7 278.4, 166.7 276.9 Q 166.7 275.4, 166.1 274.7 Q 165.5 273.9, 164.3 273.9 Q 163.2 273.9, 162.6 274.7 Q 161.9 275.4, 161.9 276.9 \" fill=\"#000000\"/>\n",
       "<path class=\"legend\" d=\"M 174.0 272.7 Q 175.3 272.7, 176.0 273.4 Q 176.7 274.2, 176.7 275.6 L 176.7 281.1 L 175.2 281.1 L 175.2 275.7 Q 175.2 274.8, 174.8 274.3 Q 174.4 273.9, 173.6 273.9 Q 172.8 273.9, 172.2 274.2 Q 171.6 274.6, 171.2 275.2 L 171.2 281.1 L 169.7 281.1 L 169.7 272.8 L 170.9 272.8 L 171.1 274.0 Q 172.2 272.7, 174.0 272.7 \" fill=\"#000000\"/>\n",
       "<path class=\"legend\" d=\"M 184.9 272.8 L 186.4 272.8 L 182.2 285.0 L 180.8 285.0 L 182.1 281.1 L 181.5 281.1 L 178.6 272.8 L 180.2 272.8 L 182.6 279.8 L 184.9 272.8 \" fill=\"#000000\"/>\n",
       "<path class=\"legend\" d=\"M 187.3 268.9 L 188.8 268.9 L 188.8 281.1 L 187.3 281.1 L 187.3 268.9 \" fill=\"#000000\"/>\n",
       "<path class=\"legend\" d=\"M 190.8 275.3 L 196.7 275.3 L 196.7 276.6 L 190.8 276.6 L 190.8 275.3 \" fill=\"#000000\"/>\n",
       "<path class=\"legend\" d=\"M 198.2 275.4 Q 198.2 272.6, 199.5 271.1 Q 200.9 269.6, 203.4 269.6 Q 205.7 269.6, 207.0 271.3 L 205.9 272.1 Q 205.0 270.9, 203.4 270.9 Q 201.7 270.9, 200.8 272.1 Q 199.9 273.2, 199.9 275.4 Q 199.9 277.6, 200.8 278.8 Q 201.7 279.9, 203.6 279.9 Q 204.8 279.9, 206.3 279.2 L 206.7 280.4 Q 206.1 280.8, 205.2 281.0 Q 204.3 281.2, 203.3 281.2 Q 200.9 281.2, 199.5 279.7 Q 198.2 278.2, 198.2 275.4 \" fill=\"#000000\"/>\n",
       "<path class=\"legend\" d=\"M 208.3 276.9 Q 208.3 274.9, 209.3 273.8 Q 210.4 272.7, 212.2 272.7 Q 214.1 272.7, 215.1 273.8 Q 216.1 274.9, 216.1 276.9 Q 216.1 278.9, 215.1 280.1 Q 214.1 281.2, 212.2 281.2 Q 210.4 281.2, 209.3 280.1 Q 208.3 278.9, 208.3 276.9 M 209.9 276.9 Q 209.9 278.4, 210.5 279.2 Q 211.1 280.0, 212.2 280.0 Q 213.4 280.0, 214.0 279.2 Q 214.6 278.4, 214.6 276.9 Q 214.6 275.4, 214.0 274.7 Q 213.4 273.9, 212.2 273.9 Q 211.1 273.9, 210.5 274.7 Q 209.9 275.4, 209.9 276.9 \" fill=\"#000000\"/>\n",
       "<path class=\"legend\" d=\"M 225.9 281.1 L 224.8 277.7 L 220.3 277.7 L 219.1 281.1 L 217.6 281.1 L 221.5 269.7 L 223.4 269.7 L 227.4 281.1 L 225.9 281.1 M 220.7 276.5 L 224.3 276.5 L 222.5 271.3 L 220.7 276.5 \" fill=\"#000000\"/>\n",
       "</svg>"
      ],
      "text/plain": [
       "<IPython.core.display.SVG object>"
      ]
     },
     "metadata": {},
     "output_type": "display_data"
    },
    {
     "data": {
      "text/plain": [
       "'O=C([S])CO'"
      ]
     },
     "metadata": {},
     "output_type": "display_data"
    },
    {
     "data": {
      "image/svg+xml": [
       "<svg xmlns=\"http://www.w3.org/2000/svg\" xmlns:rdkit=\"http://www.rdkit.org/xml\" xmlns:xlink=\"http://www.w3.org/1999/xlink\" version=\"1.1\" baseProfile=\"full\" xml:space=\"preserve\" width=\"300px\" height=\"300px\" viewBox=\"0 0 300 300\">\n",
       "<!-- END OF HEADER -->\n",
       "<rect style=\"opacity:1.0;fill:#FFFFFF;stroke:none\" width=\"300.0\" height=\"300.0\" x=\"0.0\" y=\"0.0\"> </rect>\n",
       "<path class=\"bond-0 atom-0 atom-1\" d=\"M 285.0,137.9 L 234.0,171.4\" style=\"fill:none;fill-rule:evenodd;stroke:#000000;stroke-width:2.0px;stroke-linecap:butt;stroke-linejoin:miter;stroke-opacity:1\"/>\n",
       "<path class=\"bond-0 atom-0 atom-1\" d=\"M 280.0,130.2 L 233.4,160.8\" style=\"fill:none;fill-rule:evenodd;stroke:#000000;stroke-width:2.0px;stroke-linecap:butt;stroke-linejoin:miter;stroke-opacity:1\"/>\n",
       "<path class=\"bond-1 atom-1 atom-2\" d=\"M 234.0,171.4 L 179.5,143.9\" style=\"fill:none;fill-rule:evenodd;stroke:#000000;stroke-width:2.0px;stroke-linecap:butt;stroke-linejoin:miter;stroke-opacity:1\"/>\n",
       "<path class=\"bond-2 atom-2 atom-3\" d=\"M 179.5,143.9 L 128.5,177.4\" style=\"fill:none;fill-rule:evenodd;stroke:#000000;stroke-width:2.0px;stroke-linecap:butt;stroke-linejoin:miter;stroke-opacity:1\"/>\n",
       "<path class=\"bond-3 atom-3 atom-4\" d=\"M 128.5,177.4 L 73.9,150.0\" style=\"fill:none;fill-rule:evenodd;stroke:#000000;stroke-width:2.0px;stroke-linecap:butt;stroke-linejoin:miter;stroke-opacity:1\"/>\n",
       "<path class=\"bond-4 atom-4 atom-5\" d=\"M 73.9,150.0 L 72.5,125.1\" style=\"fill:none;fill-rule:evenodd;stroke:#000000;stroke-width:2.0px;stroke-linecap:butt;stroke-linejoin:miter;stroke-opacity:1\"/>\n",
       "<path class=\"bond-4 atom-4 atom-5\" d=\"M 72.5,125.1 L 71.1,100.2\" style=\"fill:none;fill-rule:evenodd;stroke:#CCCC00;stroke-width:2.0px;stroke-linecap:butt;stroke-linejoin:miter;stroke-opacity:1\"/>\n",
       "<path class=\"bond-5 atom-4 atom-6\" d=\"M 73.6,144.7 L 52.0,159.0\" style=\"fill:none;fill-rule:evenodd;stroke:#000000;stroke-width:2.0px;stroke-linecap:butt;stroke-linejoin:miter;stroke-opacity:1\"/>\n",
       "<path class=\"bond-5 atom-4 atom-6\" d=\"M 52.0,159.0 L 30.4,173.2\" style=\"fill:none;fill-rule:evenodd;stroke:#FF0000;stroke-width:2.0px;stroke-linecap:butt;stroke-linejoin:miter;stroke-opacity:1\"/>\n",
       "<path class=\"bond-5 atom-4 atom-6\" d=\"M 78.7,152.4 L 57.0,166.6\" style=\"fill:none;fill-rule:evenodd;stroke:#000000;stroke-width:2.0px;stroke-linecap:butt;stroke-linejoin:miter;stroke-opacity:1\"/>\n",
       "<path class=\"bond-5 atom-4 atom-6\" d=\"M 57.0,166.6 L 35.4,180.8\" style=\"fill:none;fill-rule:evenodd;stroke:#FF0000;stroke-width:2.0px;stroke-linecap:butt;stroke-linejoin:miter;stroke-opacity:1\"/>\n",
       "<path d=\"M 236.5,169.7 L 234.0,171.4 L 231.3,170.0\" style=\"fill:none;stroke:#000000;stroke-width:2.0px;stroke-linecap:butt;stroke-linejoin:miter;stroke-opacity:1;\"/>\n",
       "<path d=\"M 182.2,145.3 L 179.5,143.9 L 176.9,145.6\" style=\"fill:none;stroke:#000000;stroke-width:2.0px;stroke-linecap:butt;stroke-linejoin:miter;stroke-opacity:1;\"/>\n",
       "<path d=\"M 131.0,175.8 L 128.5,177.4 L 125.7,176.1\" style=\"fill:none;stroke:#000000;stroke-width:2.0px;stroke-linecap:butt;stroke-linejoin:miter;stroke-opacity:1;\"/>\n",
       "<path d=\"M 76.7,151.4 L 73.9,150.0 L 73.9,148.8\" style=\"fill:none;stroke:#000000;stroke-width:2.0px;stroke-linecap:butt;stroke-linejoin:miter;stroke-opacity:1;\"/>\n",
       "<path class=\"atom-5\" d=\"M 65.6 95.0 Q 65.8 95.1, 66.6 95.4 Q 67.4 95.8, 68.2 96.0 Q 69.1 96.2, 70.0 96.2 Q 71.7 96.2, 72.6 95.4 Q 73.6 94.6, 73.6 93.2 Q 73.6 92.3, 73.1 91.7 Q 72.6 91.1, 71.9 90.8 Q 71.1 90.5, 69.9 90.1 Q 68.4 89.6, 67.5 89.2 Q 66.6 88.7, 65.9 87.8 Q 65.3 86.9, 65.3 85.3 Q 65.3 83.2, 66.7 81.8 Q 68.2 80.5, 71.1 80.5 Q 73.1 80.5, 75.4 81.4 L 74.9 83.3 Q 72.8 82.5, 71.2 82.5 Q 69.5 82.5, 68.6 83.2 Q 67.7 83.8, 67.7 85.0 Q 67.7 86.0, 68.2 86.5 Q 68.7 87.1, 69.3 87.4 Q 70.0 87.7, 71.2 88.1 Q 72.8 88.6, 73.7 89.1 Q 74.6 89.6, 75.3 90.6 Q 76.0 91.5, 76.0 93.2 Q 76.0 95.6, 74.4 96.9 Q 72.8 98.2, 70.1 98.2 Q 68.6 98.2, 67.4 97.8 Q 66.3 97.5, 64.9 97.0 L 65.6 95.0 \" fill=\"#CCCC00\"/>\n",
       "<path class=\"atom-6\" d=\"M 15.0 183.6 Q 15.0 179.4, 17.1 177.1 Q 19.1 174.8, 22.9 174.8 Q 26.8 174.8, 28.8 177.1 Q 30.9 179.4, 30.9 183.6 Q 30.9 187.8, 28.8 190.2 Q 26.7 192.5, 22.9 192.5 Q 19.1 192.5, 17.1 190.2 Q 15.0 187.8, 15.0 183.6 M 22.9 190.6 Q 25.6 190.6, 27.0 188.8 Q 28.4 187.0, 28.4 183.6 Q 28.4 180.2, 27.0 178.5 Q 25.6 176.7, 22.9 176.7 Q 20.3 176.7, 18.9 178.4 Q 17.4 180.1, 17.4 183.6 Q 17.4 187.1, 18.9 188.8 Q 20.3 190.6, 22.9 190.6 \" fill=\"#FF0000\"/>\n",
       "<path class=\"atom-5\" d=\"M 80.9,89.1 L 80.9,89.2 L 80.8,89.3 L 80.8,89.4 L 80.8,89.5 L 80.8,89.6 L 80.7,89.7 L 80.6,89.8 L 80.6,89.9 L 80.5,89.9 L 80.4,90.0 L 80.4,90.1 L 80.3,90.1 L 80.2,90.2 L 80.1,90.2 L 80.0,90.3 L 79.9,90.3 L 79.8,90.3 L 79.7,90.3 L 79.6,90.3 L 79.5,90.3 L 79.4,90.3 L 79.3,90.2 L 79.2,90.2 L 79.1,90.2 L 79.0,90.1 L 78.9,90.1 L 78.8,90.0 L 78.7,89.9 L 78.7,89.8 L 78.6,89.7 L 78.6,89.6 L 78.5,89.6 L 78.5,89.5 L 78.4,89.4 L 78.4,89.2 L 78.4,89.1 L 78.4,89.0 L 78.4,88.9 L 78.4,88.8 L 78.5,88.7 L 78.5,88.6 L 78.6,88.5 L 78.6,88.4 L 78.7,88.4 L 78.7,88.3 L 78.8,88.2 L 78.9,88.1 L 79.0,88.1 L 79.1,88.0 L 79.2,88.0 L 79.3,87.9 L 79.4,87.9 L 79.5,87.9 L 79.6,87.9 L 79.7,87.9 L 79.8,87.9 L 79.9,87.9 L 80.0,87.9 L 80.1,88.0 L 80.2,88.0 L 80.3,88.0 L 80.4,88.1 L 80.4,88.2 L 80.5,88.2 L 80.6,88.3 L 80.6,88.4 L 80.7,88.5 L 80.8,88.6 L 80.8,88.7 L 80.8,88.8 L 80.8,88.9 L 80.9,89.0 L 80.9,89.1 L 79.6,89.1 Z\" style=\"fill:#000000;fill-rule:evenodd;fill-opacity:1;stroke:#000000;stroke-width:0.0px;stroke-linecap:butt;stroke-linejoin:miter;stroke-opacity:1;\"/>\n",
       "<path class=\"legend\" d=\"M 97.3 281.1 L 96.1 277.7 L 91.6 277.7 L 90.4 281.1 L 88.9 281.1 L 92.8 269.7 L 94.7 269.7 L 98.7 281.1 L 97.3 281.1 M 92.0 276.5 L 95.6 276.5 L 93.8 271.3 L 92.0 276.5 \" fill=\"#000000\"/>\n",
       "<path class=\"legend\" d=\"M 99.6 268.9 L 101.0 268.9 L 101.0 281.1 L 99.6 281.1 L 99.6 268.9 \" fill=\"#000000\"/>\n",
       "<path class=\"legend\" d=\"M 103.0 268.9 L 104.5 268.9 L 104.5 281.1 L 103.0 281.1 L 103.0 268.9 \" fill=\"#000000\"/>\n",
       "<path class=\"legend\" d=\"M 112.8 272.8 L 114.3 272.8 L 110.0 285.0 L 108.7 285.0 L 110.0 281.1 L 109.4 281.1 L 106.5 272.8 L 108.0 272.8 L 110.5 279.8 L 112.8 272.8 \" fill=\"#000000\"/>\n",
       "<path class=\"legend\" d=\"M 115.1 268.9 L 116.5 268.9 L 116.5 281.1 L 115.1 281.1 L 115.1 268.9 \" fill=\"#000000\"/>\n",
       "<path class=\"legend\" d=\"M 128.0 272.7 Q 129.4 272.7, 130.1 273.4 Q 130.8 274.2, 130.8 275.6 L 130.8 281.1 L 129.3 281.1 L 129.3 275.7 Q 129.3 274.8, 128.9 274.3 Q 128.6 273.9, 127.7 273.9 Q 127.0 273.9, 126.4 274.2 Q 125.8 274.6, 125.4 275.2 Q 125.4 275.3, 125.4 275.6 L 125.4 281.1 L 123.9 281.1 L 123.9 275.7 Q 123.9 274.8, 123.6 274.3 Q 123.2 273.9, 122.4 273.9 Q 121.6 273.9, 121.0 274.2 Q 120.4 274.6, 120.0 275.2 L 120.0 281.1 L 118.5 281.1 L 118.5 272.8 L 119.8 272.8 L 119.9 274.0 Q 121.0 272.7, 122.6 272.7 Q 124.6 272.7, 125.2 274.1 Q 126.3 272.7, 128.0 272.7 \" fill=\"#000000\"/>\n",
       "<path class=\"legend\" d=\"M 132.7 278.8 Q 132.7 277.5, 133.7 276.8 Q 134.8 276.1, 136.7 276.1 L 137.9 276.1 L 137.9 275.8 Q 137.9 274.7, 137.5 274.3 Q 137.1 273.9, 136.1 273.9 Q 135.4 273.9, 134.9 274.0 Q 134.4 274.1, 133.6 274.5 L 133.1 273.4 Q 134.6 272.7, 136.1 272.7 Q 137.8 272.7, 138.6 273.4 Q 139.4 274.2, 139.4 275.8 L 139.4 281.1 L 138.3 281.1 Q 138.3 281.0, 138.2 280.8 Q 138.2 280.5, 138.1 280.1 Q 136.9 281.3, 135.4 281.3 Q 134.2 281.3, 133.4 280.6 Q 132.7 279.9, 132.7 278.8 M 134.2 278.8 Q 134.2 279.4, 134.6 279.8 Q 135.0 280.1, 135.7 280.1 Q 136.3 280.1, 136.9 279.8 Q 137.5 279.5, 137.9 279.0 L 137.9 277.2 L 136.8 277.2 Q 135.5 277.2, 134.8 277.6 Q 134.2 278.0, 134.2 278.8 \" fill=\"#000000\"/>\n",
       "<path class=\"legend\" d=\"M 141.3 268.9 L 142.8 268.9 L 142.8 281.1 L 141.3 281.1 L 141.3 268.9 \" fill=\"#000000\"/>\n",
       "<path class=\"legend\" d=\"M 144.8 276.9 Q 144.8 274.9, 145.8 273.8 Q 146.8 272.7, 148.7 272.7 Q 150.5 272.7, 151.5 273.8 Q 152.6 274.9, 152.6 276.9 Q 152.6 278.9, 151.5 280.1 Q 150.5 281.2, 148.7 281.2 Q 146.8 281.2, 145.8 280.1 Q 144.8 278.9, 144.8 276.9 M 146.3 276.9 Q 146.3 278.4, 146.9 279.2 Q 147.5 280.0, 148.7 280.0 Q 149.8 280.0, 150.4 279.2 Q 151.0 278.4, 151.0 276.9 Q 151.0 275.4, 150.4 274.7 Q 149.8 273.9, 148.7 273.9 Q 147.5 273.9, 146.9 274.7 Q 146.3 275.4, 146.3 276.9 \" fill=\"#000000\"/>\n",
       "<path class=\"legend\" d=\"M 158.2 272.7 Q 159.5 272.7, 160.2 273.4 Q 160.9 274.2, 160.9 275.6 L 160.9 281.1 L 159.4 281.1 L 159.4 275.7 Q 159.4 274.8, 159.0 274.3 Q 158.7 273.9, 157.8 273.9 Q 157.1 273.9, 156.5 274.2 Q 155.8 274.6, 155.4 275.2 L 155.4 281.1 L 153.9 281.1 L 153.9 272.8 L 155.2 272.8 L 155.3 274.0 Q 156.4 272.7, 158.2 272.7 \" fill=\"#000000\"/>\n",
       "<path class=\"legend\" d=\"M 169.1 272.8 L 170.6 272.8 L 166.3 285.0 L 165.0 285.0 L 166.3 281.1 L 165.7 281.1 L 162.8 272.8 L 164.3 272.8 L 166.7 279.8 L 169.1 272.8 \" fill=\"#000000\"/>\n",
       "<path class=\"legend\" d=\"M 171.3 268.9 L 172.8 268.9 L 172.8 281.1 L 171.3 281.1 L 171.3 268.9 \" fill=\"#000000\"/>\n",
       "<path class=\"legend\" d=\"M 174.8 275.3 L 180.7 275.3 L 180.7 276.6 L 174.8 276.6 L 174.8 275.3 \" fill=\"#000000\"/>\n",
       "<path class=\"legend\" d=\"M 182.1 275.4 Q 182.1 272.6, 183.4 271.1 Q 184.7 269.6, 187.2 269.6 Q 189.6 269.6, 190.8 271.3 L 189.8 272.1 Q 188.9 270.9, 187.2 270.9 Q 185.5 270.9, 184.6 272.1 Q 183.7 273.2, 183.7 275.4 Q 183.7 277.6, 184.7 278.8 Q 185.6 279.9, 187.4 279.9 Q 188.7 279.9, 190.1 279.2 L 190.6 280.4 Q 190.0 280.8, 189.1 281.0 Q 188.2 281.2, 187.2 281.2 Q 184.7 281.2, 183.4 279.7 Q 182.1 278.2, 182.1 275.4 \" fill=\"#000000\"/>\n",
       "<path class=\"legend\" d=\"M 192.1 276.9 Q 192.1 274.9, 193.1 273.8 Q 194.1 272.7, 196.0 272.7 Q 197.9 272.7, 198.9 273.8 Q 199.9 274.9, 199.9 276.9 Q 199.9 278.9, 198.9 280.1 Q 197.9 281.2, 196.0 281.2 Q 194.1 281.2, 193.1 280.1 Q 192.1 278.9, 192.1 276.9 M 193.6 276.9 Q 193.6 278.4, 194.2 279.2 Q 194.9 280.0, 196.0 280.0 Q 197.1 280.0, 197.7 279.2 Q 198.4 278.4, 198.4 276.9 Q 198.4 275.4, 197.7 274.7 Q 197.1 273.9, 196.0 273.9 Q 194.9 273.9, 194.2 274.7 Q 193.6 275.4, 193.6 276.9 \" fill=\"#000000\"/>\n",
       "<path class=\"legend\" d=\"M 209.6 281.1 L 208.4 277.7 L 203.9 277.7 L 202.8 281.1 L 201.3 281.1 L 205.2 269.7 L 207.0 269.7 L 211.1 281.1 L 209.6 281.1 M 204.4 276.5 L 208.0 276.5 L 206.1 271.3 L 204.4 276.5 \" fill=\"#000000\"/>\n",
       "</svg>"
      ],
      "text/plain": [
       "<IPython.core.display.SVG object>"
      ]
     },
     "metadata": {},
     "output_type": "display_data"
    },
    {
     "data": {
      "text/plain": [
       "'C=CCCC(=O)[S]'"
      ]
     },
     "metadata": {},
     "output_type": "display_data"
    },
    {
     "data": {
      "image/svg+xml": [
       "<svg xmlns=\"http://www.w3.org/2000/svg\" xmlns:rdkit=\"http://www.rdkit.org/xml\" xmlns:xlink=\"http://www.w3.org/1999/xlink\" version=\"1.1\" baseProfile=\"full\" xml:space=\"preserve\" width=\"300px\" height=\"300px\" viewBox=\"0 0 300 300\">\n",
       "<!-- END OF HEADER -->\n",
       "<rect style=\"opacity:1.0;fill:#FFFFFF;stroke:none\" width=\"300.0\" height=\"300.0\" x=\"0.0\" y=\"0.0\"> </rect>\n",
       "<path class=\"bond-0 atom-0 atom-1\" d=\"M 15.0,160.0 L 85.4,131.7\" style=\"fill:none;fill-rule:evenodd;stroke:#000000;stroke-width:2.0px;stroke-linecap:butt;stroke-linejoin:miter;stroke-opacity:1\"/>\n",
       "<path class=\"bond-1 atom-1 atom-2\" d=\"M 85.4,131.7 L 145.1,178.6\" style=\"fill:none;fill-rule:evenodd;stroke:#000000;stroke-width:2.0px;stroke-linecap:butt;stroke-linejoin:miter;stroke-opacity:1\"/>\n",
       "<path class=\"bond-2 atom-2 atom-3\" d=\"M 145.1,178.6 L 215.5,150.4\" style=\"fill:none;fill-rule:evenodd;stroke:#000000;stroke-width:2.0px;stroke-linecap:butt;stroke-linejoin:miter;stroke-opacity:1\"/>\n",
       "<path class=\"bond-3 atom-3 atom-4\" d=\"M 209.4,152.8 L 234.3,172.4\" style=\"fill:none;fill-rule:evenodd;stroke:#000000;stroke-width:2.0px;stroke-linecap:butt;stroke-linejoin:miter;stroke-opacity:1\"/>\n",
       "<path class=\"bond-3 atom-3 atom-4\" d=\"M 234.3,172.4 L 259.3,192.0\" style=\"fill:none;fill-rule:evenodd;stroke:#FF0000;stroke-width:2.0px;stroke-linecap:butt;stroke-linejoin:miter;stroke-opacity:1\"/>\n",
       "<path class=\"bond-3 atom-3 atom-4\" d=\"M 216.4,143.9 L 241.3,163.5\" style=\"fill:none;fill-rule:evenodd;stroke:#000000;stroke-width:2.0px;stroke-linecap:butt;stroke-linejoin:miter;stroke-opacity:1\"/>\n",
       "<path class=\"bond-3 atom-3 atom-4\" d=\"M 241.3,163.5 L 266.3,183.0\" style=\"fill:none;fill-rule:evenodd;stroke:#FF0000;stroke-width:2.0px;stroke-linecap:butt;stroke-linejoin:miter;stroke-opacity:1\"/>\n",
       "<path class=\"bond-4 atom-3 atom-5\" d=\"M 215.5,150.4 L 219.9,119.7\" style=\"fill:none;fill-rule:evenodd;stroke:#000000;stroke-width:2.0px;stroke-linecap:butt;stroke-linejoin:miter;stroke-opacity:1\"/>\n",
       "<path class=\"bond-4 atom-3 atom-5\" d=\"M 219.9,119.7 L 224.3,89.1\" style=\"fill:none;fill-rule:evenodd;stroke:#CCCC00;stroke-width:2.0px;stroke-linecap:butt;stroke-linejoin:miter;stroke-opacity:1\"/>\n",
       "<path d=\"M 81.9,133.2 L 85.4,131.7 L 88.4,134.1\" style=\"fill:none;stroke:#000000;stroke-width:2.0px;stroke-linecap:butt;stroke-linejoin:miter;stroke-opacity:1;\"/>\n",
       "<path d=\"M 142.1,176.3 L 145.1,178.6 L 148.6,177.2\" style=\"fill:none;stroke:#000000;stroke-width:2.0px;stroke-linecap:butt;stroke-linejoin:miter;stroke-opacity:1;\"/>\n",
       "<path d=\"M 212.0,151.8 L 215.5,150.4 L 215.7,148.8\" style=\"fill:none;stroke:#000000;stroke-width:2.0px;stroke-linecap:butt;stroke-linejoin:miter;stroke-opacity:1;\"/>\n",
       "<path class=\"atom-4\" d=\"M 265.3 197.3 Q 265.3 192.1, 267.8 189.3 Q 270.4 186.4, 275.1 186.4 Q 279.9 186.4, 282.5 189.3 Q 285.0 192.1, 285.0 197.3 Q 285.0 202.5, 282.4 205.5 Q 279.8 208.4, 275.1 208.4 Q 270.4 208.4, 267.8 205.5 Q 265.3 202.5, 265.3 197.3 M 275.1 206.0 Q 278.4 206.0, 280.2 203.8 Q 282.0 201.6, 282.0 197.3 Q 282.0 193.1, 280.2 191.0 Q 278.4 188.8, 275.1 188.8 Q 271.9 188.8, 270.1 190.9 Q 268.3 193.0, 268.3 197.3 Q 268.3 201.6, 270.1 203.8 Q 271.9 206.0, 275.1 206.0 \" fill=\"#FF0000\"/>\n",
       "<path class=\"atom-5\" d=\"M 220.2 82.7 Q 220.4 82.7, 221.4 83.2 Q 222.4 83.6, 223.5 83.9 Q 224.6 84.1, 225.7 84.1 Q 227.8 84.1, 228.9 83.1 Q 230.1 82.1, 230.1 80.4 Q 230.1 79.2, 229.5 78.5 Q 228.9 77.8, 228.0 77.4 Q 227.1 77.0, 225.6 76.5 Q 223.7 75.9, 222.5 75.4 Q 221.4 74.9, 220.6 73.7 Q 219.8 72.5, 219.8 70.6 Q 219.8 67.9, 221.6 66.2 Q 223.5 64.6, 227.1 64.6 Q 229.6 64.6, 232.4 65.8 L 231.7 68.1 Q 229.1 67.0, 227.2 67.0 Q 225.1 67.0, 224.0 67.9 Q 222.8 68.8, 222.8 70.2 Q 222.8 71.4, 223.4 72.1 Q 224.0 72.8, 224.9 73.2 Q 225.7 73.6, 227.2 74.0 Q 229.1 74.6, 230.3 75.2 Q 231.5 75.9, 232.3 77.1 Q 233.1 78.3, 233.1 80.4 Q 233.1 83.4, 231.1 85.0 Q 229.1 86.6, 225.8 86.6 Q 223.9 86.6, 222.5 86.1 Q 221.0 85.7, 219.3 85.0 L 220.2 82.7 \" fill=\"#CCCC00\"/>\n",
       "<path class=\"atom-5\" d=\"M 239.2,75.3 L 239.2,75.4 L 239.2,75.5 L 239.1,75.7 L 239.1,75.8 L 239.1,75.9 L 239.0,76.0 L 238.9,76.1 L 238.8,76.2 L 238.8,76.3 L 238.7,76.4 L 238.6,76.5 L 238.5,76.6 L 238.3,76.6 L 238.2,76.7 L 238.1,76.7 L 238.0,76.8 L 237.8,76.8 L 237.7,76.8 L 237.6,76.8 L 237.4,76.8 L 237.3,76.8 L 237.2,76.7 L 237.1,76.7 L 237.0,76.6 L 236.8,76.5 L 236.7,76.5 L 236.6,76.4 L 236.5,76.3 L 236.5,76.2 L 236.4,76.1 L 236.3,76.0 L 236.3,75.9 L 236.2,75.7 L 236.2,75.6 L 236.2,75.5 L 236.2,75.3 L 236.2,75.2 L 236.2,75.1 L 236.2,75.0 L 236.2,74.8 L 236.3,74.7 L 236.3,74.6 L 236.4,74.5 L 236.5,74.4 L 236.5,74.3 L 236.6,74.2 L 236.7,74.1 L 236.8,74.0 L 237.0,73.9 L 237.1,73.9 L 237.2,73.8 L 237.3,73.8 L 237.4,73.8 L 237.6,73.8 L 237.7,73.8 L 237.8,73.8 L 238.0,73.8 L 238.1,73.8 L 238.2,73.9 L 238.3,73.9 L 238.5,74.0 L 238.6,74.0 L 238.7,74.1 L 238.8,74.2 L 238.8,74.3 L 238.9,74.4 L 239.0,74.5 L 239.1,74.6 L 239.1,74.8 L 239.1,74.9 L 239.2,75.0 L 239.2,75.1 L 239.2,75.3 L 237.7,75.3 Z\" style=\"fill:#000000;fill-rule:evenodd;fill-opacity:1;stroke:#000000;stroke-width:0.0px;stroke-linecap:butt;stroke-linejoin:miter;stroke-opacity:1;\"/>\n",
       "<path class=\"legend\" d=\"M 129.4 276.4 Q 131.1 276.4, 132.1 277.5 Q 133.0 278.6, 133.0 280.6 Q 133.0 282.6, 131.9 283.8 Q 130.8 284.9, 128.8 284.9 Q 127.5 284.9, 126.3 284.5 L 125.6 284.3 L 125.6 272.7 L 127.1 272.7 L 127.1 277.5 Q 127.9 276.4, 129.4 276.4 M 128.8 283.8 Q 130.0 283.8, 130.8 282.9 Q 131.5 282.1, 131.5 280.6 Q 131.5 279.1, 130.9 278.4 Q 130.3 277.6, 129.3 277.6 Q 128.5 277.6, 127.9 278.1 Q 127.3 278.5, 127.1 279.3 L 127.1 283.5 Q 127.9 283.8, 128.8 283.8 \" fill=\"#000000\"/>\n",
       "<path class=\"legend\" d=\"M 141.4 276.6 L 141.4 284.8 L 140.2 284.8 L 140.0 283.7 Q 138.9 285.0, 137.2 285.0 Q 135.8 285.0, 135.1 284.2 Q 134.4 283.5, 134.4 282.0 L 134.4 276.6 L 135.9 276.6 L 135.9 281.9 Q 135.9 282.9, 136.3 283.3 Q 136.7 283.8, 137.5 283.8 Q 138.3 283.8, 138.9 283.4 Q 139.5 283.1, 139.9 282.5 L 139.9 276.6 L 141.4 276.6 \" fill=\"#000000\"/>\n",
       "<path class=\"legend\" d=\"M 143.4 277.7 L 143.4 276.6 L 145.0 276.6 L 145.2 274.2 L 146.4 274.2 L 146.4 276.6 L 148.9 276.6 L 148.9 277.7 L 146.4 277.7 L 146.4 282.3 Q 146.4 283.7, 147.6 283.7 Q 148.0 283.7, 148.7 283.5 L 149.0 284.5 Q 148.1 284.9, 147.3 284.9 Q 146.2 284.9, 145.5 284.3 Q 144.9 283.6, 144.9 282.4 L 144.9 277.7 L 143.4 277.7 \" fill=\"#000000\"/>\n",
       "<path class=\"legend\" d=\"M 159.6 276.4 Q 161.0 276.4, 161.7 277.2 Q 162.4 277.9, 162.4 279.4 L 162.4 284.8 L 160.9 284.8 L 160.9 279.5 Q 160.9 278.5, 160.5 278.1 Q 160.1 277.6, 159.3 277.6 Q 158.6 277.6, 157.9 278.0 Q 157.3 278.3, 157.0 278.9 Q 157.0 279.1, 157.0 279.4 L 157.0 284.8 L 155.5 284.8 L 155.5 279.5 Q 155.5 278.5, 155.1 278.1 Q 154.7 277.6, 153.9 277.6 Q 153.2 277.6, 152.6 278.0 Q 152.0 278.3, 151.6 278.9 L 151.6 284.8 L 150.1 284.8 L 150.1 276.6 L 151.3 276.6 L 151.5 277.7 Q 152.5 276.4, 154.2 276.4 Q 156.1 276.4, 156.7 277.9 Q 157.8 276.4, 159.6 276.4 \" fill=\"#000000\"/>\n",
       "<path class=\"legend\" d=\"M 164.3 282.6 Q 164.3 281.3, 165.3 280.6 Q 166.4 279.8, 168.3 279.8 L 169.6 279.8 L 169.6 279.5 Q 169.6 278.5, 169.1 278.1 Q 168.7 277.6, 167.7 277.6 Q 167.0 277.6, 166.5 277.8 Q 166.0 277.9, 165.2 278.2 L 164.8 277.2 Q 166.3 276.4, 167.7 276.4 Q 169.5 276.4, 170.3 277.2 Q 171.1 277.9, 171.1 279.5 L 171.1 284.8 L 169.9 284.8 Q 169.9 284.7, 169.8 284.5 Q 169.8 284.2, 169.7 283.8 Q 168.5 285.0, 167.0 285.0 Q 165.8 285.0, 165.0 284.3 Q 164.3 283.7, 164.3 282.6 M 165.8 282.6 Q 165.8 283.2, 166.2 283.5 Q 166.6 283.8, 167.3 283.8 Q 167.9 283.8, 168.5 283.5 Q 169.1 283.2, 169.6 282.7 L 169.6 281.0 L 168.4 281.0 Q 167.1 281.0, 166.4 281.4 Q 165.8 281.8, 165.8 282.6 \" fill=\"#000000\"/>\n",
       "<path class=\"legend\" d=\"M 173.0 272.7 L 174.4 272.7 L 174.4 284.8 L 173.0 284.8 L 173.0 272.7 \" fill=\"#000000\"/>\n",
       "</svg>"
      ],
      "text/plain": [
       "<IPython.core.display.SVG object>"
      ]
     },
     "metadata": {},
     "output_type": "display_data"
    },
    {
     "data": {
      "text/plain": [
       "'CCCC(=O)[S]'"
      ]
     },
     "metadata": {},
     "output_type": "display_data"
    },
    {
     "data": {
      "image/svg+xml": [
       "<svg xmlns=\"http://www.w3.org/2000/svg\" xmlns:rdkit=\"http://www.rdkit.org/xml\" xmlns:xlink=\"http://www.w3.org/1999/xlink\" version=\"1.1\" baseProfile=\"full\" xml:space=\"preserve\" width=\"300px\" height=\"300px\" viewBox=\"0 0 300 300\">\n",
       "<!-- END OF HEADER -->\n",
       "<rect style=\"opacity:1.0;fill:#FFFFFF;stroke:none\" width=\"300.0\" height=\"300.0\" x=\"0.0\" y=\"0.0\"> </rect>\n",
       "<path class=\"bond-0 atom-0 atom-1\" d=\"M 15.0,160.0 L 44.0,148.3\" style=\"fill:none;fill-rule:evenodd;stroke:#000000;stroke-width:2.0px;stroke-linecap:butt;stroke-linejoin:miter;stroke-opacity:1\"/>\n",
       "<path class=\"bond-0 atom-0 atom-1\" d=\"M 44.0,148.3 L 73.0,136.7\" style=\"fill:none;fill-rule:evenodd;stroke:#FF0000;stroke-width:2.0px;stroke-linecap:butt;stroke-linejoin:miter;stroke-opacity:1\"/>\n",
       "<path class=\"bond-1 atom-1 atom-2\" d=\"M 97.8,141.5 L 121.4,160.0\" style=\"fill:none;fill-rule:evenodd;stroke:#FF0000;stroke-width:2.0px;stroke-linecap:butt;stroke-linejoin:miter;stroke-opacity:1\"/>\n",
       "<path class=\"bond-1 atom-1 atom-2\" d=\"M 121.4,160.0 L 145.1,178.6\" style=\"fill:none;fill-rule:evenodd;stroke:#000000;stroke-width:2.0px;stroke-linecap:butt;stroke-linejoin:miter;stroke-opacity:1\"/>\n",
       "<path class=\"bond-2 atom-2 atom-3\" d=\"M 145.1,178.6 L 215.5,150.4\" style=\"fill:none;fill-rule:evenodd;stroke:#000000;stroke-width:2.0px;stroke-linecap:butt;stroke-linejoin:miter;stroke-opacity:1\"/>\n",
       "<path class=\"bond-3 atom-3 atom-4\" d=\"M 209.4,152.8 L 234.3,172.4\" style=\"fill:none;fill-rule:evenodd;stroke:#000000;stroke-width:2.0px;stroke-linecap:butt;stroke-linejoin:miter;stroke-opacity:1\"/>\n",
       "<path class=\"bond-3 atom-3 atom-4\" d=\"M 234.3,172.4 L 259.3,192.0\" style=\"fill:none;fill-rule:evenodd;stroke:#FF0000;stroke-width:2.0px;stroke-linecap:butt;stroke-linejoin:miter;stroke-opacity:1\"/>\n",
       "<path class=\"bond-3 atom-3 atom-4\" d=\"M 216.4,143.9 L 241.3,163.5\" style=\"fill:none;fill-rule:evenodd;stroke:#000000;stroke-width:2.0px;stroke-linecap:butt;stroke-linejoin:miter;stroke-opacity:1\"/>\n",
       "<path class=\"bond-3 atom-3 atom-4\" d=\"M 241.3,163.5 L 266.3,183.0\" style=\"fill:none;fill-rule:evenodd;stroke:#FF0000;stroke-width:2.0px;stroke-linecap:butt;stroke-linejoin:miter;stroke-opacity:1\"/>\n",
       "<path class=\"bond-4 atom-3 atom-5\" d=\"M 215.5,150.4 L 219.9,119.7\" style=\"fill:none;fill-rule:evenodd;stroke:#000000;stroke-width:2.0px;stroke-linecap:butt;stroke-linejoin:miter;stroke-opacity:1\"/>\n",
       "<path class=\"bond-4 atom-3 atom-5\" d=\"M 219.9,119.7 L 224.3,89.1\" style=\"fill:none;fill-rule:evenodd;stroke:#CCCC00;stroke-width:2.0px;stroke-linecap:butt;stroke-linejoin:miter;stroke-opacity:1\"/>\n",
       "<path d=\"M 143.9,177.7 L 145.1,178.6 L 148.6,177.2\" style=\"fill:none;stroke:#000000;stroke-width:2.0px;stroke-linecap:butt;stroke-linejoin:miter;stroke-opacity:1;\"/>\n",
       "<path d=\"M 212.0,151.8 L 215.5,150.4 L 215.7,148.8\" style=\"fill:none;stroke:#000000;stroke-width:2.0px;stroke-linecap:butt;stroke-linejoin:miter;stroke-opacity:1;\"/>\n",
       "<path class=\"atom-1\" d=\"M 75.5 131.8 Q 75.5 126.6, 78.1 123.8 Q 80.6 120.9, 85.4 120.9 Q 90.2 120.9, 92.7 123.8 Q 95.3 126.6, 95.3 131.8 Q 95.3 137.0, 92.7 140.0 Q 90.1 142.9, 85.4 142.9 Q 80.7 142.9, 78.1 140.0 Q 75.5 137.1, 75.5 131.8 M 85.4 140.5 Q 88.7 140.5, 90.4 138.3 Q 92.2 136.1, 92.2 131.8 Q 92.2 127.6, 90.4 125.5 Q 88.7 123.3, 85.4 123.3 Q 82.1 123.3, 80.3 125.4 Q 78.6 127.6, 78.6 131.8 Q 78.6 136.1, 80.3 138.3 Q 82.1 140.5, 85.4 140.5 \" fill=\"#FF0000\"/>\n",
       "<path class=\"atom-4\" d=\"M 265.3 197.3 Q 265.3 192.1, 267.8 189.3 Q 270.4 186.4, 275.1 186.4 Q 279.9 186.4, 282.5 189.3 Q 285.0 192.1, 285.0 197.3 Q 285.0 202.5, 282.4 205.5 Q 279.8 208.4, 275.1 208.4 Q 270.4 208.4, 267.8 205.5 Q 265.3 202.5, 265.3 197.3 M 275.1 206.0 Q 278.4 206.0, 280.2 203.8 Q 282.0 201.6, 282.0 197.3 Q 282.0 193.1, 280.2 191.0 Q 278.4 188.8, 275.1 188.8 Q 271.9 188.8, 270.1 190.9 Q 268.3 193.0, 268.3 197.3 Q 268.3 201.6, 270.1 203.8 Q 271.9 206.0, 275.1 206.0 \" fill=\"#FF0000\"/>\n",
       "<path class=\"atom-5\" d=\"M 220.2 82.7 Q 220.4 82.7, 221.4 83.2 Q 222.4 83.6, 223.5 83.9 Q 224.6 84.1, 225.7 84.1 Q 227.8 84.1, 228.9 83.1 Q 230.1 82.1, 230.1 80.4 Q 230.1 79.2, 229.5 78.5 Q 228.9 77.8, 228.0 77.4 Q 227.1 77.0, 225.6 76.5 Q 223.7 75.9, 222.5 75.4 Q 221.4 74.9, 220.6 73.7 Q 219.8 72.5, 219.8 70.6 Q 219.8 67.9, 221.6 66.2 Q 223.5 64.6, 227.1 64.6 Q 229.6 64.6, 232.4 65.8 L 231.7 68.1 Q 229.1 67.0, 227.2 67.0 Q 225.1 67.0, 224.0 67.9 Q 222.8 68.8, 222.8 70.2 Q 222.8 71.4, 223.4 72.1 Q 224.0 72.8, 224.9 73.2 Q 225.7 73.6, 227.2 74.0 Q 229.1 74.6, 230.3 75.2 Q 231.5 75.9, 232.3 77.1 Q 233.1 78.3, 233.1 80.4 Q 233.1 83.4, 231.1 85.0 Q 229.1 86.6, 225.8 86.6 Q 223.9 86.6, 222.5 86.1 Q 221.0 85.7, 219.3 85.0 L 220.2 82.7 \" fill=\"#CCCC00\"/>\n",
       "<path class=\"atom-5\" d=\"M 239.2,75.3 L 239.2,75.4 L 239.2,75.5 L 239.1,75.7 L 239.1,75.8 L 239.1,75.9 L 239.0,76.0 L 238.9,76.1 L 238.8,76.2 L 238.8,76.3 L 238.7,76.4 L 238.6,76.5 L 238.5,76.6 L 238.3,76.6 L 238.2,76.7 L 238.1,76.7 L 238.0,76.8 L 237.8,76.8 L 237.7,76.8 L 237.6,76.8 L 237.4,76.8 L 237.3,76.8 L 237.2,76.7 L 237.1,76.7 L 237.0,76.6 L 236.8,76.5 L 236.7,76.5 L 236.6,76.4 L 236.5,76.3 L 236.5,76.2 L 236.4,76.1 L 236.3,76.0 L 236.3,75.9 L 236.2,75.7 L 236.2,75.6 L 236.2,75.5 L 236.2,75.3 L 236.2,75.2 L 236.2,75.1 L 236.2,75.0 L 236.2,74.8 L 236.3,74.7 L 236.3,74.6 L 236.4,74.5 L 236.5,74.4 L 236.5,74.3 L 236.6,74.2 L 236.7,74.1 L 236.8,74.0 L 237.0,73.9 L 237.1,73.9 L 237.2,73.8 L 237.3,73.8 L 237.4,73.8 L 237.6,73.8 L 237.7,73.8 L 237.8,73.8 L 238.0,73.8 L 238.1,73.8 L 238.2,73.9 L 238.3,73.9 L 238.5,74.0 L 238.6,74.0 L 238.7,74.1 L 238.8,74.2 L 238.8,74.3 L 238.9,74.4 L 239.0,74.5 L 239.1,74.6 L 239.1,74.8 L 239.1,74.9 L 239.2,75.0 L 239.2,75.1 L 239.2,75.3 L 237.7,75.3 Z\" style=\"fill:#000000;fill-rule:evenodd;fill-opacity:1;stroke:#000000;stroke-width:0.0px;stroke-linecap:butt;stroke-linejoin:miter;stroke-opacity:1;\"/>\n",
       "<path class=\"legend\" d=\"M 135.7 276.4 Q 137.0 276.4, 137.8 277.2 Q 138.5 277.9, 138.5 279.4 L 138.5 284.8 L 137.0 284.8 L 137.0 279.5 Q 137.0 278.5, 136.6 278.1 Q 136.2 277.6, 135.4 277.6 Q 134.6 277.6, 134.0 278.0 Q 133.4 278.3, 133.0 278.9 Q 133.1 279.1, 133.1 279.4 L 133.1 284.8 L 131.6 284.8 L 131.6 279.5 Q 131.6 278.5, 131.2 278.1 Q 130.8 277.6, 130.0 277.6 Q 129.3 277.6, 128.6 278.0 Q 128.0 278.3, 127.7 278.9 L 127.7 284.8 L 126.2 284.8 L 126.2 276.6 L 127.4 276.6 L 127.5 277.7 Q 128.6 276.4, 130.3 276.4 Q 132.2 276.4, 132.8 277.9 Q 133.9 276.4, 135.7 276.4 \" fill=\"#000000\"/>\n",
       "<path class=\"legend\" d=\"M 143.5 280.6 L 140.7 276.6 L 142.5 276.6 L 144.4 279.4 L 146.4 276.6 L 148.0 276.6 L 145.2 280.5 L 148.3 284.8 L 146.5 284.8 L 144.3 281.7 L 142.1 284.8 L 140.5 284.8 L 143.5 280.6 \" fill=\"#000000\"/>\n",
       "<path class=\"legend\" d=\"M 158.7 276.4 Q 160.1 276.4, 160.8 277.2 Q 161.5 277.9, 161.5 279.4 L 161.5 284.8 L 160.0 284.8 L 160.0 279.5 Q 160.0 278.5, 159.6 278.1 Q 159.3 277.6, 158.4 277.6 Q 157.7 277.6, 157.1 278.0 Q 156.5 278.3, 156.1 278.9 Q 156.1 279.1, 156.1 279.4 L 156.1 284.8 L 154.6 284.8 L 154.6 279.5 Q 154.6 278.5, 154.2 278.1 Q 153.9 277.6, 153.0 277.6 Q 152.3 277.6, 151.7 278.0 Q 151.1 278.3, 150.7 278.9 L 150.7 284.8 L 149.2 284.8 L 149.2 276.6 L 150.4 276.6 L 150.6 277.7 Q 151.7 276.4, 153.3 276.4 Q 155.3 276.4, 155.9 277.9 Q 157.0 276.4, 158.7 276.4 \" fill=\"#000000\"/>\n",
       "<path class=\"legend\" d=\"M 163.6 282.6 Q 163.6 281.3, 164.6 280.6 Q 165.7 279.8, 167.6 279.8 L 168.8 279.8 L 168.8 279.5 Q 168.8 278.5, 168.4 278.1 Q 168.0 277.6, 167.0 277.6 Q 166.3 277.6, 165.8 277.8 Q 165.3 277.9, 164.5 278.2 L 164.0 277.2 Q 165.5 276.4, 167.0 276.4 Q 168.7 276.4, 169.5 277.2 Q 170.3 277.9, 170.3 279.5 L 170.3 284.8 L 169.2 284.8 Q 169.1 284.7, 169.1 284.5 Q 169.1 284.2, 169.0 283.8 Q 167.8 285.0, 166.3 285.0 Q 165.0 285.0, 164.3 284.3 Q 163.6 283.7, 163.6 282.6 M 165.1 282.6 Q 165.1 283.2, 165.5 283.5 Q 165.8 283.8, 166.6 283.8 Q 167.2 283.8, 167.8 283.5 Q 168.4 283.2, 168.8 282.7 L 168.8 281.0 L 167.7 281.0 Q 166.4 281.0, 165.7 281.4 Q 165.1 281.8, 165.1 282.6 \" fill=\"#000000\"/>\n",
       "<path class=\"legend\" d=\"M 172.4 272.7 L 173.8 272.7 L 173.8 284.8 L 172.4 284.8 L 172.4 272.7 \" fill=\"#000000\"/>\n",
       "</svg>"
      ],
      "text/plain": [
       "<IPython.core.display.SVG object>"
      ]
     },
     "metadata": {},
     "output_type": "display_data"
    },
    {
     "data": {
      "text/plain": [
       "'COCC(=O)[S]'"
      ]
     },
     "metadata": {},
     "output_type": "display_data"
    },
    {
     "data": {
      "image/svg+xml": [
       "<svg xmlns=\"http://www.w3.org/2000/svg\" xmlns:rdkit=\"http://www.rdkit.org/xml\" xmlns:xlink=\"http://www.w3.org/1999/xlink\" version=\"1.1\" baseProfile=\"full\" xml:space=\"preserve\" width=\"300px\" height=\"300px\" viewBox=\"0 0 300 300\">\n",
       "<!-- END OF HEADER -->\n",
       "<rect style=\"opacity:1.0;fill:#FFFFFF;stroke:none\" width=\"300.0\" height=\"300.0\" x=\"0.0\" y=\"0.0\"> </rect>\n",
       "<path class=\"bond-0 atom-0 atom-1\" d=\"M 25.9,238.1 L 143.5,170.1\" style=\"fill:none;fill-rule:evenodd;stroke:#000000;stroke-width:2.0px;stroke-linecap:butt;stroke-linejoin:miter;stroke-opacity:1\"/>\n",
       "<path class=\"bond-1 atom-1 atom-2\" d=\"M 133.3,176.0 L 185.9,206.4\" style=\"fill:none;fill-rule:evenodd;stroke:#000000;stroke-width:2.0px;stroke-linecap:butt;stroke-linejoin:miter;stroke-opacity:1\"/>\n",
       "<path class=\"bond-1 atom-1 atom-2\" d=\"M 185.9,206.4 L 238.6,236.8\" style=\"fill:none;fill-rule:evenodd;stroke:#FF0000;stroke-width:2.0px;stroke-linecap:butt;stroke-linejoin:miter;stroke-opacity:1\"/>\n",
       "<path class=\"bond-1 atom-1 atom-2\" d=\"M 143.5,158.4 L 196.1,188.8\" style=\"fill:none;fill-rule:evenodd;stroke:#000000;stroke-width:2.0px;stroke-linecap:butt;stroke-linejoin:miter;stroke-opacity:1\"/>\n",
       "<path class=\"bond-1 atom-1 atom-2\" d=\"M 196.1,188.8 L 248.8,219.1\" style=\"fill:none;fill-rule:evenodd;stroke:#FF0000;stroke-width:2.0px;stroke-linecap:butt;stroke-linejoin:miter;stroke-opacity:1\"/>\n",
       "<path class=\"bond-2 atom-1 atom-3\" d=\"M 143.5,170.1 L 143.5,111.9\" style=\"fill:none;fill-rule:evenodd;stroke:#000000;stroke-width:2.0px;stroke-linecap:butt;stroke-linejoin:miter;stroke-opacity:1\"/>\n",
       "<path class=\"bond-2 atom-1 atom-3\" d=\"M 143.5,111.9 L 143.5,53.7\" style=\"fill:none;fill-rule:evenodd;stroke:#CCCC00;stroke-width:2.0px;stroke-linecap:butt;stroke-linejoin:miter;stroke-opacity:1\"/>\n",
       "<path d=\"M 137.6,173.5 L 143.5,170.1 L 143.5,167.2\" style=\"fill:none;stroke:#000000;stroke-width:2.0px;stroke-linecap:butt;stroke-linejoin:miter;stroke-opacity:1;\"/>\n",
       "<path class=\"atom-2\" d=\"M 248.1 238.1 Q 248.1 231.3, 251.5 227.5 Q 254.9 223.7, 261.1 223.7 Q 267.4 223.7, 270.8 227.5 Q 274.1 231.3, 274.1 238.1 Q 274.1 245.0, 270.7 248.9 Q 267.3 252.8, 261.1 252.8 Q 254.9 252.8, 251.5 248.9 Q 248.1 245.1, 248.1 238.1 M 261.1 249.6 Q 265.5 249.6, 267.8 246.7 Q 270.1 243.8, 270.1 238.1 Q 270.1 232.6, 267.8 229.8 Q 265.5 226.9, 261.1 226.9 Q 256.8 226.9, 254.5 229.7 Q 252.1 232.5, 252.1 238.1 Q 252.1 243.9, 254.5 246.7 Q 256.8 249.6, 261.1 249.6 \" fill=\"#FF0000\"/>\n",
       "<path class=\"atom-3\" d=\"M 135.5 44.0 Q 135.8 44.1, 137.1 44.7 Q 138.5 45.3, 139.9 45.6 Q 141.4 45.9, 142.8 45.9 Q 145.5 45.9, 147.1 44.7 Q 148.6 43.3, 148.6 41.1 Q 148.6 39.5, 147.8 38.5 Q 147.1 37.6, 145.9 37.1 Q 144.7 36.5, 142.7 35.9 Q 140.1 35.2, 138.6 34.5 Q 137.1 33.7, 136.1 32.2 Q 135.0 30.7, 135.0 28.1 Q 135.0 24.6, 137.4 22.4 Q 139.9 20.2, 144.7 20.2 Q 147.9 20.2, 151.7 21.7 L 150.7 24.8 Q 147.3 23.4, 144.8 23.4 Q 142.0 23.4, 140.5 24.6 Q 139.0 25.7, 139.0 27.7 Q 139.0 29.2, 139.8 30.1 Q 140.6 31.0, 141.7 31.5 Q 142.9 32.1, 144.8 32.7 Q 147.3 33.5, 148.9 34.3 Q 150.4 35.1, 151.5 36.7 Q 152.6 38.3, 152.6 41.1 Q 152.6 45.0, 149.9 47.1 Q 147.3 49.2, 143.0 49.2 Q 140.5 49.2, 138.5 48.6 Q 136.7 48.1, 134.4 47.2 L 135.5 44.0 \" fill=\"#CCCC00\"/>\n",
       "<path class=\"atom-3\" d=\"M 160.6,34.3 L 160.6,34.5 L 160.6,34.6 L 160.5,34.8 L 160.5,35.0 L 160.4,35.1 L 160.3,35.3 L 160.2,35.4 L 160.1,35.6 L 160.0,35.7 L 159.9,35.8 L 159.7,35.9 L 159.6,36.0 L 159.5,36.1 L 159.3,36.2 L 159.1,36.2 L 159.0,36.3 L 158.8,36.3 L 158.6,36.3 L 158.5,36.3 L 158.3,36.3 L 158.1,36.2 L 157.9,36.2 L 157.8,36.1 L 157.6,36.1 L 157.5,36.0 L 157.3,35.9 L 157.2,35.8 L 157.1,35.6 L 157.0,35.5 L 156.9,35.4 L 156.8,35.2 L 156.7,35.1 L 156.7,34.9 L 156.6,34.7 L 156.6,34.6 L 156.6,34.4 L 156.6,34.2 L 156.6,34.0 L 156.6,33.9 L 156.7,33.7 L 156.7,33.5 L 156.8,33.4 L 156.9,33.2 L 157.0,33.1 L 157.1,33.0 L 157.2,32.8 L 157.3,32.7 L 157.5,32.6 L 157.6,32.5 L 157.8,32.5 L 157.9,32.4 L 158.1,32.4 L 158.3,32.3 L 158.5,32.3 L 158.6,32.3 L 158.8,32.3 L 159.0,32.3 L 159.1,32.4 L 159.3,32.4 L 159.5,32.5 L 159.6,32.6 L 159.7,32.7 L 159.9,32.8 L 160.0,32.9 L 160.1,33.0 L 160.2,33.2 L 160.3,33.3 L 160.4,33.5 L 160.5,33.6 L 160.5,33.8 L 160.6,34.0 L 160.6,34.1 L 160.6,34.3 L 158.6,34.3 Z\" style=\"fill:#000000;fill-rule:evenodd;fill-opacity:1;stroke:#000000;stroke-width:0.0px;stroke-linecap:butt;stroke-linejoin:miter;stroke-opacity:1;\"/>\n",
       "<path class=\"legend\" d=\"M 129.6 280.7 Q 129.6 278.7, 130.6 277.6 Q 131.6 276.4, 133.5 276.4 Q 135.4 276.4, 136.4 277.8 L 135.4 278.6 Q 135.0 278.1, 134.5 277.9 Q 134.1 277.6, 133.5 277.6 Q 132.4 277.6, 131.7 278.4 Q 131.1 279.2, 131.1 280.7 Q 131.1 282.2, 131.8 283.0 Q 132.4 283.8, 133.6 283.8 Q 134.3 283.8, 134.8 283.6 Q 135.2 283.4, 135.8 283.2 L 136.2 284.2 Q 135.0 284.9, 133.5 284.9 Q 131.6 284.9, 130.6 283.8 Q 129.6 282.7, 129.6 280.7 \" fill=\"#000000\"/>\n",
       "<path class=\"legend\" d=\"M 137.4 280.7 Q 137.4 278.7, 138.5 277.6 Q 139.5 276.4, 141.3 276.4 Q 143.1 276.4, 143.9 277.5 Q 144.7 278.6, 144.7 280.6 L 144.7 280.9 L 139.0 280.9 Q 139.0 282.3, 139.6 283.0 Q 140.3 283.8, 141.4 283.8 Q 142.1 283.8, 142.7 283.6 Q 143.3 283.4, 144.0 283.1 L 144.4 284.2 Q 143.6 284.6, 142.9 284.8 Q 142.1 284.9, 141.3 284.9 Q 139.5 284.9, 138.5 283.8 Q 137.4 282.7, 137.4 280.7 M 141.3 277.6 Q 140.4 277.6, 139.8 278.2 Q 139.2 278.7, 139.0 279.8 L 143.1 279.8 Q 143.0 278.7, 142.6 278.2 Q 142.1 277.6, 141.3 277.6 \" fill=\"#000000\"/>\n",
       "<path class=\"legend\" d=\"M 155.5 276.4 Q 156.9 276.4, 157.6 277.2 Q 158.3 277.9, 158.3 279.4 L 158.3 284.8 L 156.8 284.8 L 156.8 279.5 Q 156.8 278.5, 156.4 278.1 Q 156.1 277.6, 155.2 277.6 Q 154.5 277.6, 153.9 278.0 Q 153.3 278.3, 152.9 278.9 Q 152.9 279.1, 152.9 279.4 L 152.9 284.8 L 151.4 284.8 L 151.4 279.5 Q 151.4 278.5, 151.0 278.1 Q 150.7 277.6, 149.8 277.6 Q 149.1 277.6, 148.5 278.0 Q 147.9 278.3, 147.5 278.9 L 147.5 284.8 L 146.0 284.8 L 146.0 276.6 L 147.3 276.6 L 147.4 277.7 Q 148.5 276.4, 150.1 276.4 Q 152.1 276.4, 152.7 277.9 Q 153.8 276.4, 155.5 276.4 \" fill=\"#000000\"/>\n",
       "<path class=\"legend\" d=\"M 160.3 282.6 Q 160.3 281.3, 161.3 280.6 Q 162.4 279.8, 164.3 279.8 L 165.5 279.8 L 165.5 279.5 Q 165.5 278.5, 165.1 278.1 Q 164.7 277.6, 163.6 277.6 Q 163.0 277.6, 162.5 277.8 Q 162.0 277.9, 161.2 278.2 L 160.7 277.2 Q 162.2 276.4, 163.7 276.4 Q 165.4 276.4, 166.2 277.2 Q 167.0 277.9, 167.0 279.5 L 167.0 284.8 L 165.9 284.8 Q 165.8 284.7, 165.8 284.5 Q 165.7 284.2, 165.6 283.8 Q 164.5 285.0, 163.0 285.0 Q 161.7 285.0, 161.0 284.3 Q 160.3 283.7, 160.3 282.6 M 161.8 282.6 Q 161.8 283.2, 162.1 283.5 Q 162.5 283.8, 163.2 283.8 Q 163.9 283.8, 164.5 283.5 Q 165.1 283.2, 165.5 282.7 L 165.5 281.0 L 164.4 281.0 Q 163.1 281.0, 162.4 281.4 Q 161.8 281.8, 161.8 282.6 \" fill=\"#000000\"/>\n",
       "<path class=\"legend\" d=\"M 168.9 272.7 L 170.4 272.7 L 170.4 284.8 L 168.9 284.8 L 168.9 272.7 \" fill=\"#000000\"/>\n",
       "</svg>"
      ],
      "text/plain": [
       "<IPython.core.display.SVG object>"
      ]
     },
     "metadata": {},
     "output_type": "display_data"
    },
    {
     "data": {
      "text/plain": [
       "'CC(=O)[S]'"
      ]
     },
     "metadata": {},
     "output_type": "display_data"
    },
    {
     "data": {
      "image/svg+xml": [
       "<svg xmlns=\"http://www.w3.org/2000/svg\" xmlns:rdkit=\"http://www.rdkit.org/xml\" xmlns:xlink=\"http://www.w3.org/1999/xlink\" version=\"1.1\" baseProfile=\"full\" xml:space=\"preserve\" width=\"300px\" height=\"300px\" viewBox=\"0 0 300 300\">\n",
       "<!-- END OF HEADER -->\n",
       "<rect style=\"opacity:1.0;fill:#FFFFFF;stroke:none\" width=\"300.0\" height=\"300.0\" x=\"0.0\" y=\"0.0\"> </rect>\n",
       "<path class=\"bond-0 atom-0 atom-1\" d=\"M 25.9,238.1 L 143.5,170.1\" style=\"fill:none;fill-rule:evenodd;stroke:#000000;stroke-width:2.0px;stroke-linecap:butt;stroke-linejoin:miter;stroke-opacity:1\"/>\n",
       "<path class=\"bond-1 atom-1 atom-2\" d=\"M 133.3,176.0 L 185.9,206.4\" style=\"fill:none;fill-rule:evenodd;stroke:#000000;stroke-width:2.0px;stroke-linecap:butt;stroke-linejoin:miter;stroke-opacity:1\"/>\n",
       "<path class=\"bond-1 atom-1 atom-2\" d=\"M 185.9,206.4 L 238.6,236.8\" style=\"fill:none;fill-rule:evenodd;stroke:#FF0000;stroke-width:2.0px;stroke-linecap:butt;stroke-linejoin:miter;stroke-opacity:1\"/>\n",
       "<path class=\"bond-1 atom-1 atom-2\" d=\"M 143.5,158.4 L 196.1,188.8\" style=\"fill:none;fill-rule:evenodd;stroke:#000000;stroke-width:2.0px;stroke-linecap:butt;stroke-linejoin:miter;stroke-opacity:1\"/>\n",
       "<path class=\"bond-1 atom-1 atom-2\" d=\"M 196.1,188.8 L 248.8,219.1\" style=\"fill:none;fill-rule:evenodd;stroke:#FF0000;stroke-width:2.0px;stroke-linecap:butt;stroke-linejoin:miter;stroke-opacity:1\"/>\n",
       "<path class=\"bond-2 atom-1 atom-3\" d=\"M 143.5,170.1 L 143.5,111.9\" style=\"fill:none;fill-rule:evenodd;stroke:#000000;stroke-width:2.0px;stroke-linecap:butt;stroke-linejoin:miter;stroke-opacity:1\"/>\n",
       "<path class=\"bond-2 atom-1 atom-3\" d=\"M 143.5,111.9 L 143.5,53.7\" style=\"fill:none;fill-rule:evenodd;stroke:#CCCC00;stroke-width:2.0px;stroke-linecap:butt;stroke-linejoin:miter;stroke-opacity:1\"/>\n",
       "<path d=\"M 137.6,173.5 L 143.5,170.1 L 143.5,167.2\" style=\"fill:none;stroke:#000000;stroke-width:2.0px;stroke-linecap:butt;stroke-linejoin:miter;stroke-opacity:1;\"/>\n",
       "<path class=\"atom-2\" d=\"M 248.1 238.1 Q 248.1 231.3, 251.5 227.5 Q 254.9 223.7, 261.1 223.7 Q 267.4 223.7, 270.8 227.5 Q 274.1 231.3, 274.1 238.1 Q 274.1 245.0, 270.7 248.9 Q 267.3 252.8, 261.1 252.8 Q 254.9 252.8, 251.5 248.9 Q 248.1 245.1, 248.1 238.1 M 261.1 249.6 Q 265.5 249.6, 267.8 246.7 Q 270.1 243.8, 270.1 238.1 Q 270.1 232.6, 267.8 229.8 Q 265.5 226.9, 261.1 226.9 Q 256.8 226.9, 254.5 229.7 Q 252.1 232.5, 252.1 238.1 Q 252.1 243.9, 254.5 246.7 Q 256.8 249.6, 261.1 249.6 \" fill=\"#FF0000\"/>\n",
       "<path class=\"atom-3\" d=\"M 135.5 44.0 Q 135.8 44.1, 137.1 44.7 Q 138.5 45.3, 139.9 45.6 Q 141.4 45.9, 142.8 45.9 Q 145.5 45.9, 147.1 44.7 Q 148.6 43.3, 148.6 41.1 Q 148.6 39.5, 147.8 38.5 Q 147.1 37.6, 145.9 37.1 Q 144.7 36.5, 142.7 35.9 Q 140.1 35.2, 138.6 34.5 Q 137.1 33.7, 136.1 32.2 Q 135.0 30.7, 135.0 28.1 Q 135.0 24.6, 137.4 22.4 Q 139.9 20.2, 144.7 20.2 Q 147.9 20.2, 151.7 21.7 L 150.7 24.8 Q 147.3 23.4, 144.8 23.4 Q 142.0 23.4, 140.5 24.6 Q 139.0 25.7, 139.0 27.7 Q 139.0 29.2, 139.8 30.1 Q 140.6 31.0, 141.7 31.5 Q 142.9 32.1, 144.8 32.7 Q 147.3 33.5, 148.9 34.3 Q 150.4 35.1, 151.5 36.7 Q 152.6 38.3, 152.6 41.1 Q 152.6 45.0, 149.9 47.1 Q 147.3 49.2, 143.0 49.2 Q 140.5 49.2, 138.5 48.6 Q 136.7 48.1, 134.4 47.2 L 135.5 44.0 \" fill=\"#CCCC00\"/>\n",
       "<path class=\"atom-3\" d=\"M 160.6,34.3 L 160.6,34.5 L 160.6,34.6 L 160.5,34.8 L 160.5,35.0 L 160.4,35.1 L 160.3,35.3 L 160.2,35.4 L 160.1,35.6 L 160.0,35.7 L 159.9,35.8 L 159.7,35.9 L 159.6,36.0 L 159.5,36.1 L 159.3,36.2 L 159.1,36.2 L 159.0,36.3 L 158.8,36.3 L 158.6,36.3 L 158.5,36.3 L 158.3,36.3 L 158.1,36.2 L 157.9,36.2 L 157.8,36.1 L 157.6,36.1 L 157.5,36.0 L 157.3,35.9 L 157.2,35.8 L 157.1,35.6 L 157.0,35.5 L 156.9,35.4 L 156.8,35.2 L 156.7,35.1 L 156.7,34.9 L 156.6,34.7 L 156.6,34.6 L 156.6,34.4 L 156.6,34.2 L 156.6,34.0 L 156.6,33.9 L 156.7,33.7 L 156.7,33.5 L 156.8,33.4 L 156.9,33.2 L 157.0,33.1 L 157.1,33.0 L 157.2,32.8 L 157.3,32.7 L 157.5,32.6 L 157.6,32.5 L 157.8,32.5 L 157.9,32.4 L 158.1,32.4 L 158.3,32.3 L 158.5,32.3 L 158.6,32.3 L 158.8,32.3 L 159.0,32.3 L 159.1,32.4 L 159.3,32.4 L 159.5,32.5 L 159.6,32.6 L 159.7,32.7 L 159.9,32.8 L 160.0,32.9 L 160.1,33.0 L 160.2,33.2 L 160.3,33.3 L 160.4,33.5 L 160.5,33.6 L 160.5,33.8 L 160.6,34.0 L 160.6,34.1 L 160.6,34.3 L 158.6,34.3 Z\" style=\"fill:#000000;fill-rule:evenodd;fill-opacity:1;stroke:#000000;stroke-width:0.0px;stroke-linecap:butt;stroke-linejoin:miter;stroke-opacity:1;\"/>\n",
       "<path class=\"legend\" d=\"M 117.0 281.1 L 115.8 277.7 L 111.3 277.7 L 110.2 281.1 L 108.7 281.1 L 112.6 269.7 L 114.4 269.7 L 118.5 281.1 L 117.0 281.1 M 111.8 276.5 L 115.4 276.5 L 113.5 271.3 L 111.8 276.5 \" fill=\"#000000\"/>\n",
       "<path class=\"legend\" d=\"M 119.4 276.9 Q 119.4 275.0, 120.4 273.8 Q 121.4 272.7, 123.3 272.7 Q 125.2 272.7, 126.2 274.1 L 125.2 274.8 Q 124.8 274.3, 124.3 274.1 Q 123.9 273.9, 123.3 273.9 Q 122.2 273.9, 121.6 274.7 Q 120.9 275.4, 120.9 276.9 Q 120.9 278.5, 121.6 279.2 Q 122.2 280.0, 123.4 280.0 Q 124.1 280.0, 124.6 279.9 Q 125.0 279.7, 125.6 279.4 L 126.0 280.5 Q 124.8 281.2, 123.3 281.2 Q 121.4 281.2, 120.4 280.0 Q 119.4 278.9, 119.4 276.9 \" fill=\"#000000\"/>\n",
       "<path class=\"legend\" d=\"M 127.3 276.9 Q 127.3 274.9, 128.3 273.8 Q 129.3 272.7, 131.1 272.7 Q 132.9 272.7, 133.7 273.8 Q 134.6 274.9, 134.6 276.9 L 134.6 277.1 L 128.8 277.1 Q 128.8 278.5, 129.5 279.3 Q 130.1 280.0, 131.3 280.0 Q 131.9 280.0, 132.5 279.9 Q 133.1 279.7, 133.8 279.4 L 134.2 280.4 Q 133.4 280.8, 132.7 281.0 Q 131.9 281.2, 131.2 281.2 Q 129.3 281.2, 128.3 280.1 Q 127.3 279.0, 127.3 276.9 M 131.1 273.9 Q 130.2 273.9, 129.6 274.4 Q 129.0 275.0, 128.9 276.0 L 133.0 276.0 Q 132.9 274.9, 132.4 274.4 Q 132.0 273.9, 131.1 273.9 \" fill=\"#000000\"/>\n",
       "<path class=\"legend\" d=\"M 135.9 274.0 L 135.9 272.8 L 137.4 272.8 L 137.7 270.4 L 138.8 270.4 L 138.8 272.8 L 141.3 272.8 L 141.3 274.0 L 138.8 274.0 L 138.8 278.5 Q 138.8 280.0, 140.0 280.0 Q 140.5 280.0, 141.2 279.7 L 141.5 280.8 Q 140.6 281.2, 139.7 281.2 Q 138.7 281.2, 138.0 280.5 Q 137.3 279.9, 137.3 278.6 L 137.3 274.0 L 135.9 274.0 \" fill=\"#000000\"/>\n",
       "<path class=\"legend\" d=\"M 148.9 272.8 L 150.4 272.8 L 146.1 285.0 L 144.8 285.0 L 146.1 281.1 L 145.5 281.1 L 142.6 272.8 L 144.1 272.8 L 146.5 279.8 L 148.9 272.8 \" fill=\"#000000\"/>\n",
       "<path class=\"legend\" d=\"M 151.2 268.9 L 152.7 268.9 L 152.7 281.1 L 151.2 281.1 L 151.2 268.9 \" fill=\"#000000\"/>\n",
       "<path class=\"legend\" d=\"M 154.8 275.3 L 160.7 275.3 L 160.7 276.6 L 154.8 276.6 L 154.8 275.3 \" fill=\"#000000\"/>\n",
       "<path class=\"legend\" d=\"M 162.2 275.4 Q 162.2 272.6, 163.5 271.1 Q 164.8 269.6, 167.3 269.6 Q 169.7 269.6, 170.9 271.3 L 169.8 272.1 Q 168.9 270.9, 167.3 270.9 Q 165.6 270.9, 164.7 272.1 Q 163.8 273.2, 163.8 275.4 Q 163.8 277.6, 164.7 278.8 Q 165.7 279.9, 167.5 279.9 Q 168.7 279.9, 170.2 279.2 L 170.6 280.4 Q 170.1 280.8, 169.2 281.0 Q 168.3 281.2, 167.3 281.2 Q 164.8 281.2, 163.5 279.7 Q 162.2 278.2, 162.2 275.4 \" fill=\"#000000\"/>\n",
       "<path class=\"legend\" d=\"M 172.3 276.9 Q 172.3 274.9, 173.3 273.8 Q 174.3 272.7, 176.2 272.7 Q 178.0 272.7, 179.0 273.8 Q 180.1 274.9, 180.1 276.9 Q 180.1 278.9, 179.0 280.1 Q 178.0 281.2, 176.2 281.2 Q 174.3 281.2, 173.3 280.1 Q 172.3 278.9, 172.3 276.9 M 173.8 276.9 Q 173.8 278.4, 174.4 279.2 Q 175.0 280.0, 176.2 280.0 Q 177.3 280.0, 177.9 279.2 Q 178.5 278.4, 178.5 276.9 Q 178.5 275.4, 177.9 274.7 Q 177.3 273.9, 176.2 273.9 Q 175.0 273.9, 174.4 274.7 Q 173.8 275.4, 173.8 276.9 \" fill=\"#000000\"/>\n",
       "<path class=\"legend\" d=\"M 189.9 281.1 L 188.7 277.7 L 184.2 277.7 L 183.0 281.1 L 181.5 281.1 L 185.4 269.7 L 187.3 269.7 L 191.3 281.1 L 189.9 281.1 M 184.6 276.5 L 188.2 276.5 L 186.4 271.3 L 184.6 276.5 \" fill=\"#000000\"/>\n",
       "</svg>"
      ],
      "text/plain": [
       "<IPython.core.display.SVG object>"
      ]
     },
     "metadata": {},
     "output_type": "display_data"
    },
    {
     "data": {
      "text/plain": [
       "'CC(=O)[S]'"
      ]
     },
     "metadata": {},
     "output_type": "display_data"
    },
    {
     "data": {
      "image/svg+xml": [
       "<svg xmlns=\"http://www.w3.org/2000/svg\" xmlns:rdkit=\"http://www.rdkit.org/xml\" xmlns:xlink=\"http://www.w3.org/1999/xlink\" version=\"1.1\" baseProfile=\"full\" xml:space=\"preserve\" width=\"300px\" height=\"300px\" viewBox=\"0 0 300 300\">\n",
       "<!-- END OF HEADER -->\n",
       "<rect style=\"opacity:1.0;fill:#FFFFFF;stroke:none\" width=\"300.0\" height=\"300.0\" x=\"0.0\" y=\"0.0\"> </rect>\n",
       "<path class=\"bond-0 atom-0 atom-1\" d=\"M 15.0,111.5 L 100.7,62.0\" style=\"fill:none;fill-rule:evenodd;stroke:#000000;stroke-width:2.0px;stroke-linecap:butt;stroke-linejoin:miter;stroke-opacity:1\"/>\n",
       "<path class=\"bond-1 atom-1 atom-2\" d=\"M 100.7,62.0 L 186.4,111.5\" style=\"fill:none;fill-rule:evenodd;stroke:#000000;stroke-width:2.0px;stroke-linecap:butt;stroke-linejoin:miter;stroke-opacity:1\"/>\n",
       "<path class=\"bond-2 atom-2 atom-3\" d=\"M 186.4,120.1 L 223.1,98.9\" style=\"fill:none;fill-rule:evenodd;stroke:#000000;stroke-width:2.0px;stroke-linecap:butt;stroke-linejoin:miter;stroke-opacity:1\"/>\n",
       "<path class=\"bond-2 atom-2 atom-3\" d=\"M 223.1,98.9 L 259.7,77.7\" style=\"fill:none;fill-rule:evenodd;stroke:#FF0000;stroke-width:2.0px;stroke-linecap:butt;stroke-linejoin:miter;stroke-opacity:1\"/>\n",
       "<path class=\"bond-2 atom-2 atom-3\" d=\"M 179.0,107.2 L 215.6,86.0\" style=\"fill:none;fill-rule:evenodd;stroke:#000000;stroke-width:2.0px;stroke-linecap:butt;stroke-linejoin:miter;stroke-opacity:1\"/>\n",
       "<path class=\"bond-2 atom-2 atom-3\" d=\"M 215.6,86.0 L 252.3,64.9\" style=\"fill:none;fill-rule:evenodd;stroke:#FF0000;stroke-width:2.0px;stroke-linecap:butt;stroke-linejoin:miter;stroke-opacity:1\"/>\n",
       "<path class=\"bond-3 atom-2 atom-4\" d=\"M 186.4,111.5 L 186.4,152.3\" style=\"fill:none;fill-rule:evenodd;stroke:#000000;stroke-width:2.0px;stroke-linecap:butt;stroke-linejoin:miter;stroke-opacity:1\"/>\n",
       "<path class=\"bond-3 atom-2 atom-4\" d=\"M 186.4,152.3 L 186.4,193.2\" style=\"fill:none;fill-rule:evenodd;stroke:#CCCC00;stroke-width:2.0px;stroke-linecap:butt;stroke-linejoin:miter;stroke-opacity:1\"/>\n",
       "<path d=\"M 96.4,64.5 L 100.7,62.0 L 105.0,64.5\" style=\"fill:none;stroke:#000000;stroke-width:2.0px;stroke-linecap:butt;stroke-linejoin:miter;stroke-opacity:1;\"/>\n",
       "<path d=\"M 182.1,109.0 L 186.4,111.5 L 186.4,113.5\" style=\"fill:none;stroke:#000000;stroke-width:2.0px;stroke-linecap:butt;stroke-linejoin:miter;stroke-opacity:1;\"/>\n",
       "<path class=\"atom-3\" d=\"M 259.3 62.1 Q 259.3 55.3, 262.6 51.6 Q 265.9 47.8, 272.1 47.8 Q 278.3 47.8, 281.7 51.6 Q 285.0 55.3, 285.0 62.1 Q 285.0 68.9, 281.6 72.8 Q 278.3 76.6, 272.1 76.6 Q 266.0 76.6, 262.6 72.8 Q 259.3 68.9, 259.3 62.1 M 272.1 73.4 Q 276.4 73.4, 278.7 70.6 Q 281.0 67.7, 281.0 62.1 Q 281.0 56.6, 278.7 53.8 Q 276.4 51.0, 272.1 51.0 Q 267.9 51.0, 265.5 53.8 Q 263.2 56.5, 263.2 62.1 Q 263.2 67.7, 265.5 70.6 Q 267.9 73.4, 272.1 73.4 \" fill=\"#FF0000\"/>\n",
       "<path class=\"atom-4\" d=\"M 178.5 220.1 Q 178.8 220.2, 180.1 220.7 Q 181.4 221.3, 182.9 221.7 Q 184.3 222.0, 185.7 222.0 Q 188.4 222.0, 189.9 220.7 Q 191.5 219.4, 191.5 217.1 Q 191.5 215.6, 190.7 214.6 Q 189.9 213.7, 188.8 213.2 Q 187.6 212.7, 185.6 212.1 Q 183.1 211.3, 181.6 210.6 Q 180.1 209.9, 179.1 208.4 Q 178.0 206.9, 178.0 204.4 Q 178.0 200.8, 180.4 198.7 Q 182.8 196.5, 187.6 196.5 Q 190.8 196.5, 194.5 198.0 L 193.6 201.1 Q 190.2 199.7, 187.7 199.7 Q 185.0 199.7, 183.5 200.8 Q 181.9 201.9, 182.0 203.9 Q 182.0 205.4, 182.7 206.3 Q 183.5 207.2, 184.6 207.7 Q 185.8 208.2, 187.7 208.8 Q 190.2 209.6, 191.7 210.4 Q 193.2 211.2, 194.3 212.8 Q 195.4 214.4, 195.4 217.1 Q 195.4 221.0, 192.8 223.1 Q 190.2 225.2, 185.9 225.2 Q 183.4 225.2, 181.5 224.6 Q 179.7 224.1, 177.4 223.2 L 178.5 220.1 \" fill=\"#CCCC00\"/>\n",
       "<path class=\"atom-4\" d=\"M 203.3,210.5 L 203.3,210.6 L 203.3,210.8 L 203.3,211.0 L 203.2,211.1 L 203.1,211.3 L 203.1,211.4 L 203.0,211.6 L 202.9,211.7 L 202.8,211.8 L 202.6,212.0 L 202.5,212.1 L 202.4,212.2 L 202.2,212.2 L 202.1,212.3 L 201.9,212.4 L 201.7,212.4 L 201.6,212.4 L 201.4,212.4 L 201.2,212.4 L 201.1,212.4 L 200.9,212.4 L 200.7,212.3 L 200.6,212.3 L 200.4,212.2 L 200.3,212.1 L 200.1,212.0 L 200.0,211.9 L 199.9,211.8 L 199.8,211.6 L 199.7,211.5 L 199.6,211.4 L 199.5,211.2 L 199.5,211.0 L 199.4,210.9 L 199.4,210.7 L 199.4,210.5 L 199.4,210.4 L 199.4,210.2 L 199.4,210.0 L 199.5,209.9 L 199.5,209.7 L 199.6,209.5 L 199.7,209.4 L 199.8,209.3 L 199.9,209.1 L 200.0,209.0 L 200.1,208.9 L 200.3,208.8 L 200.4,208.7 L 200.6,208.6 L 200.7,208.6 L 200.9,208.5 L 201.1,208.5 L 201.2,208.5 L 201.4,208.5 L 201.6,208.5 L 201.7,208.5 L 201.9,208.5 L 202.1,208.6 L 202.2,208.7 L 202.4,208.8 L 202.5,208.8 L 202.6,209.0 L 202.8,209.1 L 202.9,209.2 L 203.0,209.3 L 203.1,209.5 L 203.1,209.6 L 203.2,209.8 L 203.3,209.9 L 203.3,210.1 L 203.3,210.3 L 203.3,210.5 L 201.3,210.5 Z\" style=\"fill:#000000;fill-rule:evenodd;fill-opacity:1;stroke:#000000;stroke-width:0.0px;stroke-linecap:butt;stroke-linejoin:miter;stroke-opacity:1;\"/>\n",
       "<path class=\"legend\" d=\"M 138.2 272.7 Q 140.0 272.7, 140.9 273.8 Q 141.9 274.8, 141.9 276.8 Q 141.9 278.9, 140.7 280.1 Q 139.6 281.2, 137.6 281.2 Q 136.7 281.2, 135.9 281.0 L 135.9 285.0 L 134.4 285.0 L 134.4 272.9 L 135.6 272.9 L 135.8 273.8 Q 136.3 273.3, 136.9 273.0 Q 137.5 272.7, 138.2 272.7 M 137.6 280.0 Q 138.9 280.0, 139.6 279.2 Q 140.3 278.3, 140.3 276.8 Q 140.3 275.4, 139.7 274.7 Q 139.2 273.9, 138.1 273.9 Q 137.3 273.9, 136.7 274.3 Q 136.2 274.8, 135.9 275.5 L 135.9 279.8 Q 136.7 280.0, 137.6 280.0 \" fill=\"#000000\"/>\n",
       "<path class=\"legend\" d=\"M 144.5 272.9 L 144.7 274.0 Q 145.5 272.7, 146.9 272.7 Q 147.4 272.7, 148.0 272.9 L 147.7 274.2 Q 147.1 274.1, 146.7 274.1 Q 146.0 274.1, 145.6 274.3 Q 145.1 274.6, 144.8 275.2 L 144.8 281.1 L 143.3 281.1 L 143.3 272.9 L 144.5 272.9 \" fill=\"#000000\"/>\n",
       "<path class=\"legend\" d=\"M 148.9 277.0 Q 148.9 275.0, 149.9 273.8 Q 150.9 272.7, 152.8 272.7 Q 154.7 272.7, 155.7 273.8 Q 156.7 275.0, 156.7 277.0 Q 156.7 279.0, 155.7 280.1 Q 154.7 281.2, 152.8 281.2 Q 150.9 281.2, 149.9 280.1 Q 148.9 279.0, 148.9 277.0 M 150.4 277.0 Q 150.4 278.5, 151.1 279.2 Q 151.7 280.0, 152.8 280.0 Q 154.0 280.0, 154.6 279.2 Q 155.2 278.5, 155.2 277.0 Q 155.2 275.4, 154.6 274.7 Q 154.0 273.9, 152.8 273.9 Q 151.7 273.9, 151.1 274.7 Q 150.4 275.4, 150.4 277.0 \" fill=\"#000000\"/>\n",
       "<path class=\"legend\" d=\"M 162.0 272.7 Q 163.7 272.7, 164.6 273.8 Q 165.6 274.8, 165.6 276.8 Q 165.6 278.9, 164.4 280.1 Q 163.3 281.2, 161.4 281.2 Q 160.4 281.2, 159.6 281.0 L 159.6 285.0 L 158.1 285.0 L 158.1 272.9 L 159.4 272.9 L 159.5 273.8 Q 160.0 273.3, 160.6 273.0 Q 161.2 272.7, 162.0 272.7 M 161.3 280.0 Q 162.6 280.0, 163.3 279.2 Q 164.0 278.3, 164.0 276.8 Q 164.0 275.4, 163.5 274.7 Q 162.9 273.9, 161.9 273.9 Q 161.1 273.9, 160.5 274.3 Q 159.9 274.8, 159.6 275.5 L 159.6 279.8 Q 160.5 280.0, 161.3 280.0 \" fill=\"#000000\"/>\n",
       "</svg>"
      ],
      "text/plain": [
       "<IPython.core.display.SVG object>"
      ]
     },
     "metadata": {},
     "output_type": "display_data"
    },
    {
     "data": {
      "text/plain": [
       "'CCC(=O)[S]'"
      ]
     },
     "metadata": {},
     "output_type": "display_data"
    },
    {
     "data": {
      "image/svg+xml": [
       "<svg xmlns=\"http://www.w3.org/2000/svg\" xmlns:rdkit=\"http://www.rdkit.org/xml\" xmlns:xlink=\"http://www.w3.org/1999/xlink\" version=\"1.1\" baseProfile=\"full\" xml:space=\"preserve\" width=\"300px\" height=\"300px\" viewBox=\"0 0 300 300\">\n",
       "<!-- END OF HEADER -->\n",
       "<rect style=\"opacity:1.0;fill:#FFFFFF;stroke:none\" width=\"300.0\" height=\"300.0\" x=\"0.0\" y=\"0.0\"> </rect>\n",
       "<path class=\"bond-0 atom-0 atom-1\" d=\"M 21.5,32.0 L 81.6,136.2\" style=\"fill:none;fill-rule:evenodd;stroke:#000000;stroke-width:2.0px;stroke-linecap:butt;stroke-linejoin:miter;stroke-opacity:1\"/>\n",
       "<path class=\"bond-1 atom-1 atom-2\" d=\"M 81.6,136.2 L 21.5,240.3\" style=\"fill:none;fill-rule:evenodd;stroke:#000000;stroke-width:2.0px;stroke-linecap:butt;stroke-linejoin:miter;stroke-opacity:1\"/>\n",
       "<path class=\"bond-2 atom-1 atom-3\" d=\"M 81.6,136.2 L 201.8,136.2\" style=\"fill:none;fill-rule:evenodd;stroke:#000000;stroke-width:2.0px;stroke-linecap:butt;stroke-linejoin:miter;stroke-opacity:1\"/>\n",
       "<path class=\"bond-3 atom-3 atom-4\" d=\"M 191.4,136.2 L 217.5,181.4\" style=\"fill:none;fill-rule:evenodd;stroke:#000000;stroke-width:2.0px;stroke-linecap:butt;stroke-linejoin:miter;stroke-opacity:1\"/>\n",
       "<path class=\"bond-3 atom-3 atom-4\" d=\"M 217.5,181.4 L 243.6,226.5\" style=\"fill:none;fill-rule:evenodd;stroke:#FF0000;stroke-width:2.0px;stroke-linecap:butt;stroke-linejoin:miter;stroke-opacity:1\"/>\n",
       "<path class=\"bond-3 atom-3 atom-4\" d=\"M 207.0,127.2 L 233.1,172.3\" style=\"fill:none;fill-rule:evenodd;stroke:#000000;stroke-width:2.0px;stroke-linecap:butt;stroke-linejoin:miter;stroke-opacity:1\"/>\n",
       "<path class=\"bond-3 atom-3 atom-4\" d=\"M 233.1,172.3 L 259.2,217.5\" style=\"fill:none;fill-rule:evenodd;stroke:#FF0000;stroke-width:2.0px;stroke-linecap:butt;stroke-linejoin:miter;stroke-opacity:1\"/>\n",
       "<path class=\"bond-4 atom-3 atom-5\" d=\"M 201.8,136.2 L 226.5,93.5\" style=\"fill:none;fill-rule:evenodd;stroke:#000000;stroke-width:2.0px;stroke-linecap:butt;stroke-linejoin:miter;stroke-opacity:1\"/>\n",
       "<path class=\"bond-4 atom-3 atom-5\" d=\"M 226.5,93.5 L 251.1,50.9\" style=\"fill:none;fill-rule:evenodd;stroke:#CCCC00;stroke-width:2.0px;stroke-linecap:butt;stroke-linejoin:miter;stroke-opacity:1\"/>\n",
       "<path d=\"M 195.8,136.2 L 201.8,136.2 L 203.1,134.0\" style=\"fill:none;stroke:#000000;stroke-width:2.0px;stroke-linecap:butt;stroke-linejoin:miter;stroke-opacity:1;\"/>\n",
       "<path class=\"atom-4\" d=\"M 249.0 240.4 Q 249.0 233.6, 252.3 229.8 Q 255.7 226.0, 262.0 226.0 Q 268.2 226.0, 271.6 229.8 Q 275.0 233.6, 275.0 240.4 Q 275.0 247.3, 271.6 251.2 Q 268.2 255.1, 262.0 255.1 Q 255.7 255.1, 252.3 251.2 Q 249.0 247.3, 249.0 240.4 M 262.0 251.9 Q 266.3 251.9, 268.6 249.0 Q 271.0 246.1, 271.0 240.4 Q 271.0 234.8, 268.6 232.0 Q 266.3 229.2, 262.0 229.2 Q 257.6 229.2, 255.3 232.0 Q 253.0 234.8, 253.0 240.4 Q 253.0 246.1, 255.3 249.0 Q 257.6 251.9, 262.0 251.9 \" fill=\"#FF0000\"/>\n",
       "<path class=\"atom-5\" d=\"M 254.0 41.8 Q 254.3 41.9, 255.6 42.4 Q 256.9 43.0, 258.4 43.4 Q 259.8 43.7, 261.3 43.7 Q 264.0 43.7, 265.5 42.4 Q 267.1 41.1, 267.1 38.8 Q 267.1 37.2, 266.3 36.3 Q 265.5 35.3, 264.3 34.8 Q 263.1 34.3, 261.1 33.7 Q 258.6 32.9, 257.1 32.2 Q 255.6 31.5, 254.5 30.0 Q 253.5 28.4, 253.5 25.9 Q 253.5 22.3, 255.9 20.1 Q 258.3 17.9, 263.1 17.9 Q 266.4 17.9, 270.1 19.5 L 269.2 22.6 Q 265.8 21.2, 263.2 21.2 Q 260.5 21.2, 259.0 22.3 Q 257.4 23.4, 257.5 25.4 Q 257.5 26.9, 258.2 27.8 Q 259.0 28.8, 260.2 29.3 Q 261.3 29.8, 263.2 30.4 Q 265.8 31.2, 267.3 32.0 Q 268.8 32.8, 269.9 34.4 Q 271.0 36.0, 271.0 38.8 Q 271.0 42.7, 268.4 44.8 Q 265.8 46.9, 261.4 46.9 Q 258.9 46.9, 257.0 46.4 Q 255.1 45.8, 252.9 44.9 L 254.0 41.8 \" fill=\"#CCCC00\"/>\n",
       "<path class=\"atom-5\" d=\"M 279.0,32.0 L 279.0,32.2 L 279.0,32.4 L 279.0,32.6 L 278.9,32.7 L 278.9,32.9 L 278.8,33.0 L 278.7,33.2 L 278.6,33.3 L 278.5,33.4 L 278.3,33.6 L 278.2,33.7 L 278.1,33.8 L 277.9,33.8 L 277.8,33.9 L 277.6,34.0 L 277.4,34.0 L 277.3,34.0 L 277.1,34.0 L 276.9,34.0 L 276.7,34.0 L 276.6,34.0 L 276.4,33.9 L 276.2,33.9 L 276.1,33.8 L 275.9,33.7 L 275.8,33.6 L 275.7,33.5 L 275.5,33.4 L 275.4,33.2 L 275.3,33.1 L 275.3,33.0 L 275.2,32.8 L 275.1,32.6 L 275.1,32.5 L 275.1,32.3 L 275.0,32.1 L 275.0,32.0 L 275.1,31.8 L 275.1,31.6 L 275.1,31.5 L 275.2,31.3 L 275.3,31.1 L 275.3,31.0 L 275.4,30.8 L 275.5,30.7 L 275.7,30.6 L 275.8,30.5 L 275.9,30.4 L 276.1,30.3 L 276.2,30.2 L 276.4,30.1 L 276.6,30.1 L 276.7,30.1 L 276.9,30.0 L 277.1,30.0 L 277.3,30.1 L 277.4,30.1 L 277.6,30.1 L 277.8,30.2 L 277.9,30.2 L 278.1,30.3 L 278.2,30.4 L 278.3,30.5 L 278.5,30.6 L 278.6,30.8 L 278.7,30.9 L 278.8,31.1 L 278.9,31.2 L 278.9,31.4 L 279.0,31.5 L 279.0,31.7 L 279.0,31.9 L 279.0,32.0 L 277.0,32.0 Z\" style=\"fill:#000000;fill-rule:evenodd;fill-opacity:1;stroke:#000000;stroke-width:0.0px;stroke-linecap:butt;stroke-linejoin:miter;stroke-opacity:1;\"/>\n",
       "<path class=\"legend\" d=\"M 128.5 273.5 L 129.9 273.5 L 129.9 274.9 L 128.5 274.9 L 128.5 273.5 M 128.5 276.6 L 129.9 276.6 L 129.9 284.9 L 128.5 284.9 L 128.5 276.6 \" fill=\"#000000\"/>\n",
       "<path class=\"legend\" d=\"M 132.4 283.2 Q 133.1 283.5, 133.6 283.6 Q 134.1 283.8, 134.7 283.8 Q 135.4 283.8, 135.8 283.4 Q 136.2 283.1, 136.2 282.6 Q 136.2 282.2, 136.0 282.0 Q 135.8 281.7, 135.5 281.6 Q 135.3 281.5, 134.5 281.3 Q 134.4 281.2, 133.7 281.0 Q 133.0 280.7, 132.6 280.2 Q 132.2 279.6, 132.2 278.8 Q 132.2 277.8, 132.9 277.2 Q 133.7 276.5, 135.2 276.5 Q 135.8 276.5, 136.4 276.6 Q 136.9 276.8, 137.5 277.0 L 137.1 278.2 Q 136.6 278.0, 136.1 277.9 Q 135.7 277.7, 135.2 277.7 Q 134.4 277.7, 134.1 278.0 Q 133.7 278.3, 133.7 278.8 Q 133.7 279.3, 134.0 279.5 Q 134.3 279.7, 135.0 279.9 Q 135.1 280.0, 135.3 280.0 L 135.7 280.2 Q 136.3 280.4, 136.7 280.6 Q 137.1 280.9, 137.4 281.3 Q 137.7 281.8, 137.7 282.5 Q 137.7 283.7, 136.9 284.4 Q 136.0 285.0, 134.7 285.0 Q 133.9 285.0, 133.2 284.8 Q 132.6 284.7, 131.9 284.4 L 132.4 283.2 \" fill=\"#000000\"/>\n",
       "<path class=\"legend\" d=\"M 139.2 280.7 Q 139.2 278.7, 140.2 277.6 Q 141.2 276.5, 143.1 276.5 Q 144.9 276.5, 145.9 277.6 Q 147.0 278.7, 147.0 280.7 Q 147.0 282.7, 145.9 283.9 Q 144.9 285.0, 143.1 285.0 Q 141.2 285.0, 140.2 283.9 Q 139.2 282.7, 139.2 280.7 M 140.7 280.7 Q 140.7 282.2, 141.3 283.0 Q 141.9 283.8, 143.1 283.8 Q 144.2 283.8, 144.8 283.0 Q 145.4 282.2, 145.4 280.7 Q 145.4 279.2, 144.8 278.5 Q 144.2 277.7, 143.1 277.7 Q 141.9 277.7, 141.3 278.5 Q 140.7 279.2, 140.7 280.7 \" fill=\"#000000\"/>\n",
       "<path class=\"legend\" d=\"M 152.1 276.5 Q 153.8 276.5, 154.8 277.6 Q 155.7 278.6, 155.7 280.6 Q 155.7 282.7, 154.6 283.8 Q 153.5 285.0, 151.5 285.0 Q 150.2 285.0, 149.0 284.5 L 148.3 284.3 L 148.3 272.7 L 149.8 272.7 L 149.8 277.5 Q 150.7 276.5, 152.1 276.5 M 151.5 283.8 Q 152.8 283.8, 153.5 283.0 Q 154.2 282.1, 154.2 280.6 Q 154.2 279.2, 153.6 278.4 Q 153.1 277.7, 152.0 277.7 Q 151.2 277.7, 150.6 278.1 Q 150.0 278.6, 149.8 279.4 L 149.8 283.6 Q 150.6 283.8, 151.5 283.8 \" fill=\"#000000\"/>\n",
       "<path class=\"legend\" d=\"M 164.1 276.6 L 164.1 284.9 L 162.8 284.9 L 162.6 283.7 Q 161.6 285.0, 159.9 285.0 Q 158.5 285.0, 157.8 284.3 Q 157.1 283.5, 157.1 282.1 L 157.1 276.6 L 158.6 276.6 L 158.6 282.0 Q 158.6 282.9, 158.9 283.4 Q 159.3 283.8, 160.2 283.8 Q 160.9 283.8, 161.5 283.5 Q 162.2 283.1, 162.6 282.5 L 162.6 276.6 L 164.1 276.6 \" fill=\"#000000\"/>\n",
       "<path class=\"legend\" d=\"M 166.0 277.8 L 166.0 276.6 L 167.5 276.6 L 167.8 274.2 L 168.9 274.2 L 168.9 276.6 L 171.4 276.6 L 171.4 277.8 L 168.9 277.8 L 168.9 282.3 Q 168.9 283.8, 170.1 283.8 Q 170.6 283.8, 171.3 283.5 L 171.5 284.6 Q 170.7 285.0, 169.8 285.0 Q 168.8 285.0, 168.1 284.3 Q 167.4 283.7, 167.4 282.4 L 167.4 277.8 L 166.0 277.8 \" fill=\"#000000\"/>\n",
       "</svg>"
      ],
      "text/plain": [
       "<IPython.core.display.SVG object>"
      ]
     },
     "metadata": {},
     "output_type": "display_data"
    },
    {
     "data": {
      "text/plain": [
       "'CC(C)C(=O)[S]'"
      ]
     },
     "metadata": {},
     "output_type": "display_data"
    },
    {
     "data": {
      "image/svg+xml": [
       "<svg xmlns=\"http://www.w3.org/2000/svg\" xmlns:rdkit=\"http://www.rdkit.org/xml\" xmlns:xlink=\"http://www.w3.org/1999/xlink\" version=\"1.1\" baseProfile=\"full\" xml:space=\"preserve\" width=\"300px\" height=\"300px\" viewBox=\"0 0 300 300\">\n",
       "<!-- END OF HEADER -->\n",
       "<rect style=\"opacity:1.0;fill:#FFFFFF;stroke:none\" width=\"300.0\" height=\"300.0\" x=\"0.0\" y=\"0.0\"> </rect>\n",
       "<path class=\"bond-0 atom-0 atom-1\" d=\"M 285.0,105.2 L 241.9,179.9\" style=\"fill:none;fill-rule:evenodd;stroke:#000000;stroke-width:2.0px;stroke-linecap:butt;stroke-linejoin:miter;stroke-opacity:1\"/>\n",
       "<path class=\"bond-1 atom-1 atom-2\" d=\"M 241.9,179.9 L 155.6,179.9\" style=\"fill:none;fill-rule:evenodd;stroke:#000000;stroke-width:2.0px;stroke-linecap:butt;stroke-linejoin:miter;stroke-opacity:1\"/>\n",
       "<path class=\"bond-2 atom-2 atom-3\" d=\"M 155.6,179.9 L 112.5,254.6\" style=\"fill:none;fill-rule:evenodd;stroke:#000000;stroke-width:2.0px;stroke-linecap:butt;stroke-linejoin:miter;stroke-opacity:1\"/>\n",
       "<path class=\"bond-3 atom-2 atom-4\" d=\"M 155.6,179.9 L 112.5,105.2\" style=\"fill:none;fill-rule:evenodd;stroke:#000000;stroke-width:2.0px;stroke-linecap:butt;stroke-linejoin:miter;stroke-opacity:1\"/>\n",
       "<path class=\"bond-4 atom-4 atom-5\" d=\"M 116.2,98.8 L 78.2,98.8\" style=\"fill:none;fill-rule:evenodd;stroke:#000000;stroke-width:2.0px;stroke-linecap:butt;stroke-linejoin:miter;stroke-opacity:1\"/>\n",
       "<path class=\"bond-4 atom-4 atom-5\" d=\"M 78.2,98.8 L 40.3,98.8\" style=\"fill:none;fill-rule:evenodd;stroke:#FF0000;stroke-width:2.0px;stroke-linecap:butt;stroke-linejoin:miter;stroke-opacity:1\"/>\n",
       "<path class=\"bond-4 atom-4 atom-5\" d=\"M 116.2,111.7 L 78.2,111.7\" style=\"fill:none;fill-rule:evenodd;stroke:#000000;stroke-width:2.0px;stroke-linecap:butt;stroke-linejoin:miter;stroke-opacity:1\"/>\n",
       "<path class=\"bond-4 atom-4 atom-5\" d=\"M 78.2,111.7 L 40.3,111.7\" style=\"fill:none;fill-rule:evenodd;stroke:#FF0000;stroke-width:2.0px;stroke-linecap:butt;stroke-linejoin:miter;stroke-opacity:1\"/>\n",
       "<path class=\"bond-5 atom-4 atom-6\" d=\"M 112.5,105.2 L 129.5,75.7\" style=\"fill:none;fill-rule:evenodd;stroke:#000000;stroke-width:2.0px;stroke-linecap:butt;stroke-linejoin:miter;stroke-opacity:1\"/>\n",
       "<path class=\"bond-5 atom-4 atom-6\" d=\"M 129.5,75.7 L 146.6,46.2\" style=\"fill:none;fill-rule:evenodd;stroke:#CCCC00;stroke-width:2.0px;stroke-linecap:butt;stroke-linejoin:miter;stroke-opacity:1\"/>\n",
       "<path d=\"M 244.0,176.2 L 241.9,179.9 L 237.6,179.9\" style=\"fill:none;stroke:#000000;stroke-width:2.0px;stroke-linecap:butt;stroke-linejoin:miter;stroke-opacity:1;\"/>\n",
       "<path d=\"M 114.6,109.0 L 112.5,105.2 L 113.3,103.8\" style=\"fill:none;stroke:#000000;stroke-width:2.0px;stroke-linecap:butt;stroke-linejoin:miter;stroke-opacity:1;\"/>\n",
       "<path class=\"atom-5\" d=\"M 15.0 105.3 Q 15.0 99.4, 17.9 96.2 Q 20.8 92.9, 26.2 92.9 Q 31.6 92.9, 34.5 96.2 Q 37.4 99.4, 37.4 105.3 Q 37.4 111.2, 34.5 114.6 Q 31.6 118.0, 26.2 118.0 Q 20.8 118.0, 17.9 114.6 Q 15.0 111.3, 15.0 105.3 M 26.2 115.2 Q 29.9 115.2, 31.9 112.7 Q 34.0 110.2, 34.0 105.3 Q 34.0 100.5, 31.9 98.1 Q 29.9 95.6, 26.2 95.6 Q 22.5 95.6, 20.5 98.1 Q 18.5 100.5, 18.5 105.3 Q 18.5 110.2, 20.5 112.7 Q 22.5 115.2, 26.2 115.2 \" fill=\"#FF0000\"/>\n",
       "<path class=\"atom-6\" d=\"M 148.7 38.9 Q 149.0 39.0, 150.1 39.5 Q 151.3 40.0, 152.5 40.3 Q 153.8 40.6, 155.0 40.6 Q 157.3 40.6, 158.7 39.5 Q 160.0 38.3, 160.0 36.4 Q 160.0 35.0, 159.3 34.2 Q 158.7 33.4, 157.6 32.9 Q 156.6 32.5, 154.9 31.9 Q 152.7 31.3, 151.4 30.7 Q 150.1 30.0, 149.2 28.7 Q 148.3 27.4, 148.3 25.2 Q 148.3 22.1, 150.4 20.3 Q 152.5 18.4, 156.6 18.4 Q 159.4 18.4, 162.6 19.7 L 161.9 22.4 Q 158.9 21.1, 156.7 21.1 Q 154.3 21.1, 153.0 22.1 Q 151.7 23.1, 151.7 24.8 Q 151.7 26.1, 152.4 26.9 Q 153.1 27.7, 154.1 28.2 Q 155.1 28.6, 156.7 29.1 Q 158.9 29.8, 160.2 30.5 Q 161.5 31.2, 162.5 32.6 Q 163.4 34.0, 163.4 36.4 Q 163.4 39.7, 161.2 41.6 Q 158.9 43.4, 155.2 43.4 Q 153.0 43.4, 151.3 42.9 Q 149.7 42.4, 147.8 41.6 L 148.7 38.9 \" fill=\"#CCCC00\"/>\n",
       "<path class=\"atom-6\" d=\"M 170.3,30.5 L 170.3,30.7 L 170.3,30.8 L 170.3,31.0 L 170.2,31.1 L 170.2,31.3 L 170.1,31.4 L 170.0,31.5 L 169.9,31.6 L 169.8,31.7 L 169.7,31.8 L 169.6,31.9 L 169.5,32.0 L 169.4,32.1 L 169.2,32.1 L 169.1,32.2 L 168.9,32.2 L 168.8,32.2 L 168.7,32.3 L 168.5,32.3 L 168.4,32.2 L 168.2,32.2 L 168.1,32.2 L 167.9,32.1 L 167.8,32.1 L 167.7,32.0 L 167.5,31.9 L 167.4,31.8 L 167.3,31.7 L 167.2,31.6 L 167.2,31.4 L 167.1,31.3 L 167.0,31.2 L 167.0,31.0 L 166.9,30.9 L 166.9,30.8 L 166.9,30.6 L 166.9,30.5 L 166.9,30.3 L 166.9,30.2 L 167.0,30.0 L 167.0,29.9 L 167.1,29.7 L 167.2,29.6 L 167.2,29.5 L 167.3,29.4 L 167.4,29.3 L 167.5,29.2 L 167.7,29.1 L 167.8,29.0 L 167.9,28.9 L 168.1,28.9 L 168.2,28.9 L 168.4,28.8 L 168.5,28.8 L 168.7,28.8 L 168.8,28.8 L 168.9,28.8 L 169.1,28.9 L 169.2,28.9 L 169.4,29.0 L 169.5,29.1 L 169.6,29.1 L 169.7,29.2 L 169.8,29.3 L 169.9,29.4 L 170.0,29.6 L 170.1,29.7 L 170.2,29.8 L 170.2,30.0 L 170.3,30.1 L 170.3,30.2 L 170.3,30.4 L 170.3,30.5 L 168.6,30.5 Z\" style=\"fill:#000000;fill-rule:evenodd;fill-opacity:1;stroke:#000000;stroke-width:0.0px;stroke-linecap:butt;stroke-linejoin:miter;stroke-opacity:1;\"/>\n",
       "<path class=\"legend\" d=\"M 118.7 275.7 Q 119.1 274.6, 120.1 274.0 Q 121.1 273.4, 122.5 273.4 Q 124.2 273.4, 125.2 274.3 Q 126.1 275.3, 126.1 276.9 Q 126.1 278.6, 124.9 280.2 Q 123.7 281.7, 121.1 283.6 L 126.3 283.6 L 126.3 284.9 L 118.7 284.9 L 118.7 283.8 Q 120.8 282.3, 122.1 281.2 Q 123.3 280.0, 123.9 279.0 Q 124.5 278.0, 124.5 277.0 Q 124.5 275.9, 124.0 275.3 Q 123.4 274.7, 122.5 274.7 Q 121.6 274.7, 121.0 275.0 Q 120.4 275.4, 119.9 276.2 L 118.7 275.7 \" fill=\"#000000\"/>\n",
       "<path class=\"legend\" d=\"M 137.5 276.5 Q 138.9 276.5, 139.6 277.2 Q 140.3 278.0, 140.3 279.4 L 140.3 284.9 L 138.8 284.9 L 138.8 279.5 Q 138.8 278.6, 138.5 278.1 Q 138.1 277.7, 137.3 277.7 Q 136.5 277.7, 135.9 278.0 Q 135.3 278.4, 134.9 279.0 Q 135.0 279.1, 135.0 279.4 L 135.0 284.9 L 133.5 284.9 L 133.5 279.5 Q 133.5 278.6, 133.1 278.1 Q 132.7 277.7, 131.9 277.7 Q 131.1 277.7, 130.5 278.0 Q 129.9 278.4, 129.5 279.0 L 129.5 284.9 L 128.0 284.9 L 128.0 276.6 L 129.3 276.6 L 129.4 277.8 Q 130.5 276.5, 132.2 276.5 Q 134.1 276.5, 134.7 277.9 Q 135.8 276.5, 137.5 276.5 \" fill=\"#000000\"/>\n",
       "<path class=\"legend\" d=\"M 142.3 280.7 Q 142.3 278.7, 143.3 277.6 Q 144.3 276.5, 146.2 276.5 Q 148.0 276.5, 148.8 277.6 Q 149.6 278.6, 149.6 280.7 L 149.6 280.9 L 143.9 280.9 Q 143.9 282.3, 144.5 283.1 Q 145.1 283.8, 146.3 283.8 Q 147.0 283.8, 147.5 283.7 Q 148.1 283.5, 148.9 283.2 L 149.3 284.2 Q 148.5 284.6, 147.7 284.8 Q 147.0 285.0, 146.2 285.0 Q 144.4 285.0, 143.4 283.9 Q 142.3 282.7, 142.3 280.7 M 146.2 277.7 Q 145.2 277.7, 144.7 278.2 Q 144.1 278.8, 143.9 279.8 L 148.0 279.8 Q 147.9 278.7, 147.5 278.2 Q 147.0 277.7, 146.2 277.7 \" fill=\"#000000\"/>\n",
       "<path class=\"legend\" d=\"M 151.0 277.8 L 151.0 276.6 L 152.5 276.6 L 152.8 274.2 L 153.9 274.2 L 153.9 276.6 L 156.4 276.6 L 156.4 277.8 L 153.9 277.8 L 153.9 282.3 Q 153.9 283.8, 155.1 283.8 Q 155.6 283.8, 156.3 283.5 L 156.6 284.6 Q 155.7 285.0, 154.8 285.0 Q 153.8 285.0, 153.1 284.3 Q 152.4 283.7, 152.4 282.4 L 152.4 277.8 L 151.0 277.8 \" fill=\"#000000\"/>\n",
       "<path class=\"legend\" d=\"M 161.6 276.5 Q 163.3 276.5, 164.2 277.6 Q 165.2 278.6, 165.2 280.6 Q 165.2 282.7, 164.0 283.8 Q 162.9 285.0, 160.9 285.0 Q 159.7 285.0, 158.4 284.5 L 157.7 284.3 L 157.7 272.7 L 159.2 272.7 L 159.2 277.5 Q 160.1 276.5, 161.6 276.5 M 160.9 283.8 Q 162.2 283.8, 162.9 283.0 Q 163.6 282.1, 163.6 280.6 Q 163.6 279.2, 163.1 278.4 Q 162.5 277.7, 161.5 277.7 Q 160.6 277.7, 160.0 278.1 Q 159.4 278.6, 159.2 279.4 L 159.2 283.6 Q 160.0 283.8, 160.9 283.8 \" fill=\"#000000\"/>\n",
       "<path class=\"legend\" d=\"M 173.7 276.6 L 173.7 284.9 L 172.4 284.9 L 172.2 283.7 Q 171.2 285.0, 169.5 285.0 Q 168.1 285.0, 167.4 284.3 Q 166.7 283.5, 166.7 282.1 L 166.7 276.6 L 168.2 276.6 L 168.2 282.0 Q 168.2 282.9, 168.5 283.4 Q 168.9 283.8, 169.7 283.8 Q 170.5 283.8, 171.1 283.5 Q 171.7 283.1, 172.1 282.5 L 172.1 276.6 L 173.7 276.6 \" fill=\"#000000\"/>\n",
       "<path class=\"legend\" d=\"M 175.7 277.8 L 175.7 276.6 L 177.3 276.6 L 177.5 274.2 L 178.7 274.2 L 178.7 276.6 L 181.2 276.6 L 181.2 277.8 L 178.7 277.8 L 178.7 282.3 Q 178.7 283.8, 179.9 283.8 Q 180.3 283.8, 181.0 283.5 L 181.3 284.6 Q 180.4 285.0, 179.6 285.0 Q 178.5 285.0, 177.8 284.3 Q 177.2 283.7, 177.2 282.4 L 177.2 277.8 L 175.7 277.8 \" fill=\"#000000\"/>\n",
       "</svg>"
      ],
      "text/plain": [
       "<IPython.core.display.SVG object>"
      ]
     },
     "metadata": {},
     "output_type": "display_data"
    },
    {
     "data": {
      "text/plain": [
       "'CCC(C)C(=O)[S]'"
      ]
     },
     "metadata": {},
     "output_type": "display_data"
    },
    {
     "data": {
      "image/svg+xml": [
       "<svg xmlns=\"http://www.w3.org/2000/svg\" xmlns:rdkit=\"http://www.rdkit.org/xml\" xmlns:xlink=\"http://www.w3.org/1999/xlink\" version=\"1.1\" baseProfile=\"full\" xml:space=\"preserve\" width=\"300px\" height=\"300px\" viewBox=\"0 0 300 300\">\n",
       "<!-- END OF HEADER -->\n",
       "<rect style=\"opacity:1.0;fill:#FFFFFF;stroke:none\" width=\"300.0\" height=\"300.0\" x=\"0.0\" y=\"0.0\"> </rect>\n",
       "<path class=\"bond-0 atom-0 atom-1\" d=\"M 125.5,200.1 L 51.8,200.1\" style=\"fill:none;fill-rule:evenodd;stroke:#000000;stroke-width:2.0px;stroke-linecap:butt;stroke-linejoin:miter;stroke-opacity:1\"/>\n",
       "<path class=\"bond-1 atom-1 atom-2\" d=\"M 51.8,200.1 L 15.0,136.3\" style=\"fill:none;fill-rule:evenodd;stroke:#000000;stroke-width:2.0px;stroke-linecap:butt;stroke-linejoin:miter;stroke-opacity:1\"/>\n",
       "<path class=\"bond-2 atom-2 atom-3\" d=\"M 15.0,136.3 L 51.8,72.5\" style=\"fill:none;fill-rule:evenodd;stroke:#000000;stroke-width:2.0px;stroke-linecap:butt;stroke-linejoin:miter;stroke-opacity:1\"/>\n",
       "<path class=\"bond-3 atom-3 atom-4\" d=\"M 51.8,72.5 L 125.5,72.5\" style=\"fill:none;fill-rule:evenodd;stroke:#000000;stroke-width:2.0px;stroke-linecap:butt;stroke-linejoin:miter;stroke-opacity:1\"/>\n",
       "<path class=\"bond-4 atom-4 atom-5\" d=\"M 125.5,72.5 L 162.3,136.3\" style=\"fill:none;fill-rule:evenodd;stroke:#000000;stroke-width:2.0px;stroke-linecap:butt;stroke-linejoin:miter;stroke-opacity:1\"/>\n",
       "<path class=\"bond-5 atom-5 atom-6\" d=\"M 162.3,136.3 L 236.0,136.3\" style=\"fill:none;fill-rule:evenodd;stroke:#000000;stroke-width:2.0px;stroke-linecap:butt;stroke-linejoin:miter;stroke-opacity:1\"/>\n",
       "<path class=\"bond-6 atom-6 atom-7\" d=\"M 229.6,136.3 L 245.0,163.0\" style=\"fill:none;fill-rule:evenodd;stroke:#000000;stroke-width:2.0px;stroke-linecap:butt;stroke-linejoin:miter;stroke-opacity:1\"/>\n",
       "<path class=\"bond-6 atom-6 atom-7\" d=\"M 245.0,163.0 L 260.5,189.8\" style=\"fill:none;fill-rule:evenodd;stroke:#FF0000;stroke-width:2.0px;stroke-linecap:butt;stroke-linejoin:miter;stroke-opacity:1\"/>\n",
       "<path class=\"bond-6 atom-6 atom-7\" d=\"M 239.2,130.7 L 254.6,157.5\" style=\"fill:none;fill-rule:evenodd;stroke:#000000;stroke-width:2.0px;stroke-linecap:butt;stroke-linejoin:miter;stroke-opacity:1\"/>\n",
       "<path class=\"bond-6 atom-6 atom-7\" d=\"M 254.6,157.5 L 270.1,184.3\" style=\"fill:none;fill-rule:evenodd;stroke:#FF0000;stroke-width:2.0px;stroke-linecap:butt;stroke-linejoin:miter;stroke-opacity:1\"/>\n",
       "<path class=\"bond-7 atom-6 atom-8\" d=\"M 236.0,136.3 L 250.5,111.1\" style=\"fill:none;fill-rule:evenodd;stroke:#000000;stroke-width:2.0px;stroke-linecap:butt;stroke-linejoin:miter;stroke-opacity:1\"/>\n",
       "<path class=\"bond-7 atom-6 atom-8\" d=\"M 250.5,111.1 L 265.1,85.9\" style=\"fill:none;fill-rule:evenodd;stroke:#CCCC00;stroke-width:2.0px;stroke-linecap:butt;stroke-linejoin:miter;stroke-opacity:1\"/>\n",
       "<path class=\"bond-8 atom-5 atom-0\" d=\"M 162.3,136.3 L 125.5,200.1\" style=\"fill:none;fill-rule:evenodd;stroke:#000000;stroke-width:2.0px;stroke-linecap:butt;stroke-linejoin:miter;stroke-opacity:1\"/>\n",
       "<path d=\"M 121.8,200.1 L 125.5,200.1 L 127.3,196.9\" style=\"fill:none;stroke:#000000;stroke-width:2.0px;stroke-linecap:butt;stroke-linejoin:miter;stroke-opacity:1;\"/>\n",
       "<path d=\"M 55.5,200.1 L 51.8,200.1 L 50.0,196.9\" style=\"fill:none;stroke:#000000;stroke-width:2.0px;stroke-linecap:butt;stroke-linejoin:miter;stroke-opacity:1;\"/>\n",
       "<path d=\"M 16.8,139.5 L 15.0,136.3 L 16.8,133.1\" style=\"fill:none;stroke:#000000;stroke-width:2.0px;stroke-linecap:butt;stroke-linejoin:miter;stroke-opacity:1;\"/>\n",
       "<path d=\"M 50.0,75.7 L 51.8,72.5 L 55.5,72.5\" style=\"fill:none;stroke:#000000;stroke-width:2.0px;stroke-linecap:butt;stroke-linejoin:miter;stroke-opacity:1;\"/>\n",
       "<path d=\"M 121.8,72.5 L 125.5,72.5 L 127.3,75.7\" style=\"fill:none;stroke:#000000;stroke-width:2.0px;stroke-linecap:butt;stroke-linejoin:miter;stroke-opacity:1;\"/>\n",
       "<path d=\"M 232.3,136.3 L 236.0,136.3 L 236.7,135.0\" style=\"fill:none;stroke:#000000;stroke-width:2.0px;stroke-linecap:butt;stroke-linejoin:miter;stroke-opacity:1;\"/>\n",
       "<path class=\"atom-7\" d=\"M 263.2 200.1 Q 263.2 195.1, 265.7 192.3 Q 268.2 189.5, 272.8 189.5 Q 277.4 189.5, 279.9 192.3 Q 282.4 195.1, 282.4 200.1 Q 282.4 205.2, 279.9 208.1 Q 277.4 210.9, 272.8 210.9 Q 268.2 210.9, 265.7 208.1 Q 263.2 205.2, 263.2 200.1 M 272.8 208.6 Q 276.0 208.6, 277.7 206.4 Q 279.4 204.3, 279.4 200.1 Q 279.4 196.0, 277.7 194.0 Q 276.0 191.9, 272.8 191.9 Q 269.6 191.9, 267.9 193.9 Q 266.2 196.0, 266.2 200.1 Q 266.2 204.3, 267.9 206.4 Q 269.6 208.6, 272.8 208.6 \" fill=\"#FF0000\"/>\n",
       "<path class=\"atom-8\" d=\"M 266.9 79.6 Q 267.1 79.7, 268.1 80.1 Q 269.1 80.6, 270.1 80.8 Q 271.2 81.1, 272.3 81.1 Q 274.3 81.1, 275.4 80.1 Q 276.6 79.1, 276.6 77.5 Q 276.6 76.3, 276.0 75.6 Q 275.4 74.9, 274.5 74.5 Q 273.6 74.1, 272.2 73.7 Q 270.3 73.1, 269.2 72.6 Q 268.1 72.1, 267.3 70.9 Q 266.5 69.8, 266.5 67.9 Q 266.5 65.3, 268.3 63.7 Q 270.1 62.1, 273.6 62.1 Q 276.1 62.1, 278.8 63.2 L 278.1 65.5 Q 275.6 64.5, 273.7 64.5 Q 271.7 64.5, 270.6 65.3 Q 269.5 66.1, 269.5 67.6 Q 269.5 68.7, 270.0 69.4 Q 270.6 70.1, 271.5 70.4 Q 272.3 70.8, 273.7 71.3 Q 275.6 71.9, 276.7 72.4 Q 277.9 73.0, 278.7 74.2 Q 279.5 75.4, 279.5 77.5 Q 279.5 80.3, 277.5 81.9 Q 275.6 83.4, 272.4 83.4 Q 270.5 83.4, 269.1 83.0 Q 267.8 82.6, 266.1 82.0 L 266.9 79.6 \" fill=\"#CCCC00\"/>\n",
       "<path class=\"atom-8\" d=\"M 285.4,72.5 L 285.4,72.6 L 285.3,72.7 L 285.3,72.9 L 285.3,73.0 L 285.2,73.1 L 285.2,73.2 L 285.1,73.3 L 285.0,73.4 L 284.9,73.5 L 284.9,73.6 L 284.8,73.7 L 284.6,73.7 L 284.5,73.8 L 284.4,73.9 L 284.3,73.9 L 284.2,73.9 L 284.1,73.9 L 283.9,74.0 L 283.8,73.9 L 283.7,73.9 L 283.5,73.9 L 283.4,73.9 L 283.3,73.8 L 283.2,73.8 L 283.1,73.7 L 283.0,73.6 L 282.9,73.6 L 282.8,73.5 L 282.7,73.4 L 282.6,73.3 L 282.6,73.1 L 282.5,73.0 L 282.5,72.9 L 282.5,72.8 L 282.4,72.7 L 282.4,72.5 L 282.4,72.4 L 282.4,72.3 L 282.5,72.2 L 282.5,72.0 L 282.5,71.9 L 282.6,71.8 L 282.6,71.7 L 282.7,71.6 L 282.8,71.5 L 282.9,71.4 L 283.0,71.3 L 283.1,71.2 L 283.2,71.2 L 283.3,71.1 L 283.4,71.1 L 283.5,71.0 L 283.7,71.0 L 283.8,71.0 L 283.9,71.0 L 284.1,71.0 L 284.2,71.0 L 284.3,71.1 L 284.4,71.1 L 284.5,71.2 L 284.6,71.2 L 284.8,71.3 L 284.9,71.4 L 284.9,71.4 L 285.0,71.5 L 285.1,71.6 L 285.2,71.8 L 285.2,71.9 L 285.3,72.0 L 285.3,72.1 L 285.3,72.2 L 285.4,72.4 L 285.4,72.5 L 283.9,72.5 Z\" style=\"fill:#000000;fill-rule:evenodd;fill-opacity:1;stroke:#000000;stroke-width:0.0px;stroke-linecap:butt;stroke-linejoin:miter;stroke-opacity:1;\"/>\n",
       "<path class=\"legend\" d=\"M 115.8 279.2 Q 115.8 276.4, 117.1 274.9 Q 118.4 273.4, 120.9 273.4 Q 123.3 273.4, 124.5 275.0 L 123.5 275.9 Q 122.6 274.7, 120.9 274.7 Q 119.2 274.7, 118.3 275.9 Q 117.4 277.0, 117.4 279.2 Q 117.4 281.4, 118.3 282.6 Q 119.3 283.7, 121.1 283.7 Q 122.4 283.7, 123.8 283.0 L 124.3 284.2 Q 123.7 284.6, 122.8 284.8 Q 121.9 285.0, 120.9 285.0 Q 118.4 285.0, 117.1 283.5 Q 115.8 282.0, 115.8 279.2 \" fill=\"#000000\"/>\n",
       "<path class=\"legend\" d=\"M 126.0 273.5 L 127.5 273.5 L 127.5 278.3 L 133.3 278.3 L 133.3 273.5 L 134.9 273.5 L 134.9 284.9 L 133.3 284.9 L 133.3 279.6 L 127.5 279.6 L 127.5 284.9 L 126.0 284.9 L 126.0 273.5 \" fill=\"#000000\"/>\n",
       "<path class=\"legend\" d=\"M 137.1 279.2 Q 137.1 276.4, 138.4 274.9 Q 139.7 273.4, 142.2 273.4 Q 144.5 273.4, 145.8 275.0 L 144.7 275.9 Q 143.8 274.7, 142.2 274.7 Q 140.5 274.7, 139.6 275.9 Q 138.7 277.0, 138.7 279.2 Q 138.7 281.4, 139.6 282.6 Q 140.6 283.7, 142.4 283.7 Q 143.6 283.7, 145.1 283.0 L 145.5 284.2 Q 144.9 284.6, 144.1 284.8 Q 143.2 285.0, 142.2 285.0 Q 139.7 285.0, 138.4 283.5 Q 137.1 282.0, 137.1 279.2 \" fill=\"#000000\"/>\n",
       "<path class=\"legend\" d=\"M 147.3 279.1 L 153.1 279.1 L 153.1 280.4 L 147.3 280.4 L 147.3 279.1 \" fill=\"#000000\"/>\n",
       "<path class=\"legend\" d=\"M 154.8 279.2 Q 154.8 276.4, 156.1 274.9 Q 157.4 273.4, 159.9 273.4 Q 162.3 273.4, 163.5 275.0 L 162.5 275.9 Q 161.5 274.7, 159.9 274.7 Q 158.2 274.7, 157.3 275.9 Q 156.4 277.0, 156.4 279.2 Q 156.4 281.4, 157.3 282.6 Q 158.3 283.7, 160.1 283.7 Q 161.4 283.7, 162.8 283.0 L 163.3 284.2 Q 162.7 284.6, 161.8 284.8 Q 160.9 285.0, 159.9 285.0 Q 157.4 285.0, 156.1 283.5 Q 154.8 282.0, 154.8 279.2 \" fill=\"#000000\"/>\n",
       "<path class=\"legend\" d=\"M 165.0 280.7 Q 165.0 278.7, 166.0 277.6 Q 167.0 276.5, 168.9 276.5 Q 170.8 276.5, 171.8 277.6 Q 172.8 278.7, 172.8 280.7 Q 172.8 282.7, 171.8 283.9 Q 170.8 285.0, 168.9 285.0 Q 167.0 285.0, 166.0 283.9 Q 165.0 282.7, 165.0 280.7 M 166.5 280.7 Q 166.5 282.2, 167.1 283.0 Q 167.8 283.8, 168.9 283.8 Q 170.0 283.8, 170.6 283.0 Q 171.3 282.2, 171.3 280.7 Q 171.3 279.2, 170.6 278.5 Q 170.0 277.7, 168.9 277.7 Q 167.8 277.7, 167.1 278.5 Q 166.5 279.2, 166.5 280.7 \" fill=\"#000000\"/>\n",
       "<path class=\"legend\" d=\"M 182.7 284.9 L 181.5 281.5 L 177.0 281.5 L 175.9 284.9 L 174.4 284.9 L 178.3 273.5 L 180.2 273.5 L 184.2 284.9 L 182.7 284.9 M 177.5 280.2 L 181.1 280.2 L 179.3 275.1 L 177.5 280.2 \" fill=\"#000000\"/>\n",
       "</svg>"
      ],
      "text/plain": [
       "<IPython.core.display.SVG object>"
      ]
     },
     "metadata": {},
     "output_type": "display_data"
    },
    {
     "data": {
      "text/plain": [
       "'O=C([S])C1CCCCC1'"
      ]
     },
     "metadata": {},
     "output_type": "display_data"
    },
    {
     "data": {
      "image/svg+xml": [
       "<svg xmlns=\"http://www.w3.org/2000/svg\" xmlns:rdkit=\"http://www.rdkit.org/xml\" xmlns:xlink=\"http://www.w3.org/1999/xlink\" version=\"1.1\" baseProfile=\"full\" xml:space=\"preserve\" width=\"300px\" height=\"300px\" viewBox=\"0 0 300 300\">\n",
       "<!-- END OF HEADER -->\n",
       "<rect style=\"opacity:1.0;fill:#FFFFFF;stroke:none\" width=\"300.0\" height=\"300.0\" x=\"0.0\" y=\"0.0\"> </rect>\n",
       "<path class=\"bond-0 atom-0 atom-1\" d=\"M 100.6,204.5 L 150.0,240.4\" style=\"fill:none;fill-rule:evenodd;stroke:#000000;stroke-width:2.0px;stroke-linecap:butt;stroke-linejoin:miter;stroke-opacity:1\"/>\n",
       "<path class=\"bond-1 atom-1 atom-2\" d=\"M 150.0,240.4 L 199.4,204.5\" style=\"fill:none;fill-rule:evenodd;stroke:#000000;stroke-width:2.0px;stroke-linecap:butt;stroke-linejoin:miter;stroke-opacity:1\"/>\n",
       "<path class=\"bond-2 atom-2 atom-3\" d=\"M 199.4,204.5 L 180.5,146.5\" style=\"fill:none;fill-rule:evenodd;stroke:#000000;stroke-width:2.0px;stroke-linecap:butt;stroke-linejoin:miter;stroke-opacity:1\"/>\n",
       "<path class=\"bond-3 atom-3 atom-4\" d=\"M 182.9,143.7 L 182.4,143.4\" style=\"fill:none;fill-rule:evenodd;stroke:#000000;stroke-width:1.0px;stroke-linecap:butt;stroke-linejoin:miter;stroke-opacity:1\"/>\n",
       "<path class=\"bond-3 atom-3 atom-4\" d=\"M 185.2,141.0 L 184.3,140.3\" style=\"fill:none;fill-rule:evenodd;stroke:#000000;stroke-width:1.0px;stroke-linecap:butt;stroke-linejoin:miter;stroke-opacity:1\"/>\n",
       "<path class=\"bond-3 atom-3 atom-4\" d=\"M 187.5,138.3 L 186.1,137.3\" style=\"fill:none;fill-rule:evenodd;stroke:#000000;stroke-width:1.0px;stroke-linecap:butt;stroke-linejoin:miter;stroke-opacity:1\"/>\n",
       "<path class=\"bond-3 atom-3 atom-4\" d=\"M 189.9,135.5 L 188.0,134.2\" style=\"fill:none;fill-rule:evenodd;stroke:#000000;stroke-width:1.0px;stroke-linecap:butt;stroke-linejoin:miter;stroke-opacity:1\"/>\n",
       "<path class=\"bond-3 atom-3 atom-4\" d=\"M 192.2,132.8 L 189.9,131.1\" style=\"fill:none;fill-rule:evenodd;stroke:#000000;stroke-width:1.0px;stroke-linecap:butt;stroke-linejoin:miter;stroke-opacity:1\"/>\n",
       "<path class=\"bond-3 atom-3 atom-4\" d=\"M 194.6,130.1 L 191.8,128.0\" style=\"fill:none;fill-rule:evenodd;stroke:#000000;stroke-width:1.0px;stroke-linecap:butt;stroke-linejoin:miter;stroke-opacity:1\"/>\n",
       "<path class=\"bond-3 atom-3 atom-4\" d=\"M 196.9,127.3 L 193.7,125.0\" style=\"fill:none;fill-rule:evenodd;stroke:#000000;stroke-width:1.0px;stroke-linecap:butt;stroke-linejoin:miter;stroke-opacity:1\"/>\n",
       "<path class=\"bond-3 atom-3 atom-4\" d=\"M 199.2,124.6 L 195.5,121.9\" style=\"fill:none;fill-rule:evenodd;stroke:#000000;stroke-width:1.0px;stroke-linecap:butt;stroke-linejoin:miter;stroke-opacity:1\"/>\n",
       "<path class=\"bond-3 atom-3 atom-4\" d=\"M 201.6,121.9 L 197.4,118.8\" style=\"fill:none;fill-rule:evenodd;stroke:#000000;stroke-width:1.0px;stroke-linecap:butt;stroke-linejoin:miter;stroke-opacity:1\"/>\n",
       "<path class=\"bond-3 atom-3 atom-4\" d=\"M 203.9,119.1 L 199.3,115.8\" style=\"fill:none;fill-rule:evenodd;stroke:#000000;stroke-width:1.0px;stroke-linecap:butt;stroke-linejoin:miter;stroke-opacity:1\"/>\n",
       "<path class=\"bond-3 atom-3 atom-4\" d=\"M 206.3,116.4 L 201.2,112.7\" style=\"fill:none;fill-rule:evenodd;stroke:#000000;stroke-width:1.0px;stroke-linecap:butt;stroke-linejoin:miter;stroke-opacity:1\"/>\n",
       "<path class=\"bond-3 atom-3 atom-4\" d=\"M 208.6,113.7 L 203.0,109.6\" style=\"fill:none;fill-rule:evenodd;stroke:#000000;stroke-width:1.0px;stroke-linecap:butt;stroke-linejoin:miter;stroke-opacity:1\"/>\n",
       "<path class=\"bond-3 atom-3 atom-4\" d=\"M 210.9,110.9 L 204.9,106.6\" style=\"fill:none;fill-rule:evenodd;stroke:#000000;stroke-width:1.0px;stroke-linecap:butt;stroke-linejoin:miter;stroke-opacity:1\"/>\n",
       "<path class=\"bond-3 atom-3 atom-4\" d=\"M 213.3,108.2 L 206.8,103.5\" style=\"fill:none;fill-rule:evenodd;stroke:#000000;stroke-width:1.0px;stroke-linecap:butt;stroke-linejoin:miter;stroke-opacity:1\"/>\n",
       "<path class=\"bond-3 atom-3 atom-4\" d=\"M 215.6,105.5 L 208.7,100.4\" style=\"fill:none;fill-rule:evenodd;stroke:#000000;stroke-width:1.0px;stroke-linecap:butt;stroke-linejoin:miter;stroke-opacity:1\"/>\n",
       "<path class=\"bond-3 atom-3 atom-4\" d=\"M 218.0,102.7 L 210.6,97.3\" style=\"fill:none;fill-rule:evenodd;stroke:#000000;stroke-width:1.0px;stroke-linecap:butt;stroke-linejoin:miter;stroke-opacity:1\"/>\n",
       "<path class=\"bond-4 atom-4 atom-5\" d=\"M 213.3,101.4 L 240.0,104.2\" style=\"fill:none;fill-rule:evenodd;stroke:#000000;stroke-width:2.0px;stroke-linecap:butt;stroke-linejoin:miter;stroke-opacity:1\"/>\n",
       "<path class=\"bond-4 atom-4 atom-5\" d=\"M 240.0,104.2 L 266.6,107.0\" style=\"fill:none;fill-rule:evenodd;stroke:#FF0000;stroke-width:2.0px;stroke-linecap:butt;stroke-linejoin:miter;stroke-opacity:1\"/>\n",
       "<path class=\"bond-4 atom-4 atom-5\" d=\"M 214.2,92.3 L 240.9,95.1\" style=\"fill:none;fill-rule:evenodd;stroke:#000000;stroke-width:2.0px;stroke-linecap:butt;stroke-linejoin:miter;stroke-opacity:1\"/>\n",
       "<path class=\"bond-4 atom-4 atom-5\" d=\"M 240.9,95.1 L 267.6,97.9\" style=\"fill:none;fill-rule:evenodd;stroke:#FF0000;stroke-width:2.0px;stroke-linecap:butt;stroke-linejoin:miter;stroke-opacity:1\"/>\n",
       "<path class=\"bond-5 atom-4 atom-6\" d=\"M 216.4,97.1 L 206.4,74.7\" style=\"fill:none;fill-rule:evenodd;stroke:#000000;stroke-width:2.0px;stroke-linecap:butt;stroke-linejoin:miter;stroke-opacity:1\"/>\n",
       "<path class=\"bond-5 atom-4 atom-6\" d=\"M 206.4,74.7 L 196.5,52.4\" style=\"fill:none;fill-rule:evenodd;stroke:#FF0000;stroke-width:2.0px;stroke-linecap:butt;stroke-linejoin:miter;stroke-opacity:1\"/>\n",
       "<path class=\"bond-6 atom-3 atom-7\" d=\"M 180.5,146.5 L 119.5,146.5\" style=\"fill:none;fill-rule:evenodd;stroke:#000000;stroke-width:2.0px;stroke-linecap:butt;stroke-linejoin:miter;stroke-opacity:1\"/>\n",
       "<path class=\"bond-7 atom-7 atom-8\" d=\"M 119.5,146.5 L 78.1,97.7 L 83.6,97.1 Z\" style=\"fill:#000000;fill-rule:evenodd;fill-opacity:1;stroke:#000000;stroke-width:0.5px;stroke-linecap:butt;stroke-linejoin:miter;stroke-opacity:1;\"/>\n",
       "<path class=\"bond-7 atom-7 atom-8\" d=\"M 119.5,146.5 L 83.6,97.1 L 85.9,92.1 Z\" style=\"fill:#000000;fill-rule:evenodd;fill-opacity:1;stroke:#000000;stroke-width:0.5px;stroke-linecap:butt;stroke-linejoin:miter;stroke-opacity:1;\"/>\n",
       "<path class=\"bond-8 atom-8 atom-9\" d=\"M 85.8,92.3 L 59.1,95.1\" style=\"fill:none;fill-rule:evenodd;stroke:#000000;stroke-width:2.0px;stroke-linecap:butt;stroke-linejoin:miter;stroke-opacity:1\"/>\n",
       "<path class=\"bond-8 atom-8 atom-9\" d=\"M 59.1,95.1 L 32.4,97.9\" style=\"fill:none;fill-rule:evenodd;stroke:#FF0000;stroke-width:2.0px;stroke-linecap:butt;stroke-linejoin:miter;stroke-opacity:1\"/>\n",
       "<path class=\"bond-8 atom-8 atom-9\" d=\"M 86.7,101.4 L 60.0,104.2\" style=\"fill:none;fill-rule:evenodd;stroke:#000000;stroke-width:2.0px;stroke-linecap:butt;stroke-linejoin:miter;stroke-opacity:1\"/>\n",
       "<path class=\"bond-8 atom-8 atom-9\" d=\"M 60.0,104.2 L 33.4,107.0\" style=\"fill:none;fill-rule:evenodd;stroke:#FF0000;stroke-width:2.0px;stroke-linecap:butt;stroke-linejoin:miter;stroke-opacity:1\"/>\n",
       "<path class=\"bond-9 atom-8 atom-10\" d=\"M 83.6,97.1 L 93.6,74.8\" style=\"fill:none;fill-rule:evenodd;stroke:#000000;stroke-width:2.0px;stroke-linecap:butt;stroke-linejoin:miter;stroke-opacity:1\"/>\n",
       "<path class=\"bond-9 atom-8 atom-10\" d=\"M 93.6,74.8 L 103.5,52.5\" style=\"fill:none;fill-rule:evenodd;stroke:#CCCC00;stroke-width:2.0px;stroke-linecap:butt;stroke-linejoin:miter;stroke-opacity:1\"/>\n",
       "<path class=\"bond-10 atom-7 atom-0\" d=\"M 119.5,146.5 L 100.6,204.5\" style=\"fill:none;fill-rule:evenodd;stroke:#000000;stroke-width:2.0px;stroke-linecap:butt;stroke-linejoin:miter;stroke-opacity:1\"/>\n",
       "<path d=\"M 103.1,206.3 L 100.6,204.5 L 101.6,201.6\" style=\"fill:none;stroke:#000000;stroke-width:2.0px;stroke-linecap:butt;stroke-linejoin:miter;stroke-opacity:1;\"/>\n",
       "<path d=\"M 147.5,238.6 L 150.0,240.4 L 152.5,238.6\" style=\"fill:none;stroke:#000000;stroke-width:2.0px;stroke-linecap:butt;stroke-linejoin:miter;stroke-opacity:1;\"/>\n",
       "<path d=\"M 196.9,206.3 L 199.4,204.5 L 198.4,201.6\" style=\"fill:none;stroke:#000000;stroke-width:2.0px;stroke-linecap:butt;stroke-linejoin:miter;stroke-opacity:1;\"/>\n",
       "<path d=\"M 181.5,149.4 L 180.5,146.5 L 177.5,146.5\" style=\"fill:none;stroke:#000000;stroke-width:2.0px;stroke-linecap:butt;stroke-linejoin:miter;stroke-opacity:1;\"/>\n",
       "<path d=\"M 122.5,146.5 L 119.5,146.5 L 118.5,149.4\" style=\"fill:none;stroke:#000000;stroke-width:2.0px;stroke-linecap:butt;stroke-linejoin:miter;stroke-opacity:1;\"/>\n",
       "<path class=\"atom-5\" d=\"M 269.1 103.5 Q 269.1 99.4, 271.2 97.1 Q 273.2 94.7, 277.1 94.7 Q 280.9 94.7, 282.9 97.1 Q 285.0 99.4, 285.0 103.5 Q 285.0 107.7, 282.9 110.1 Q 280.9 112.5, 277.1 112.5 Q 273.3 112.5, 271.2 110.1 Q 269.1 107.8, 269.1 103.5 M 277.1 110.5 Q 279.7 110.5, 281.1 108.8 Q 282.6 107.0, 282.6 103.5 Q 282.6 100.1, 281.1 98.4 Q 279.7 96.7, 277.1 96.7 Q 274.4 96.7, 273.0 98.4 Q 271.6 100.1, 271.6 103.5 Q 271.6 107.0, 273.0 108.8 Q 274.4 110.5, 277.1 110.5 \" fill=\"#FF0000\"/>\n",
       "<path class=\"atom-6\" d=\"M 166.6 32.8 L 168.9 32.8 L 168.9 40.2 L 177.7 40.2 L 177.7 32.8 L 180.1 32.8 L 180.1 50.1 L 177.7 50.1 L 177.7 42.1 L 168.9 42.1 L 168.9 50.1 L 166.6 50.1 L 166.6 32.8 \" fill=\"#FF0000\"/>\n",
       "<path class=\"atom-6\" d=\"M 183.6 41.4 Q 183.6 37.3, 185.7 34.9 Q 187.7 32.6, 191.6 32.6 Q 195.4 32.6, 197.4 34.9 Q 199.5 37.3, 199.5 41.4 Q 199.5 45.6, 197.4 48.0 Q 195.3 50.4, 191.6 50.4 Q 187.8 50.4, 185.7 48.0 Q 183.6 45.6, 183.6 41.4 M 191.6 48.4 Q 194.2 48.4, 195.6 46.7 Q 197.1 44.9, 197.1 41.4 Q 197.1 38.0, 195.6 36.3 Q 194.2 34.6, 191.6 34.6 Q 188.9 34.6, 187.5 36.3 Q 186.1 38.0, 186.1 41.4 Q 186.1 44.9, 187.5 46.7 Q 188.9 48.4, 191.6 48.4 \" fill=\"#FF0000\"/>\n",
       "<path class=\"atom-9\" d=\"M 15.0 103.5 Q 15.0 99.4, 17.1 97.1 Q 19.1 94.7, 22.9 94.7 Q 26.8 94.7, 28.8 97.1 Q 30.9 99.4, 30.9 103.5 Q 30.9 107.7, 28.8 110.1 Q 26.7 112.5, 22.9 112.5 Q 19.1 112.5, 17.1 110.1 Q 15.0 107.8, 15.0 103.5 M 22.9 110.5 Q 25.6 110.5, 27.0 108.8 Q 28.4 107.0, 28.4 103.5 Q 28.4 100.1, 27.0 98.4 Q 25.6 96.7, 22.9 96.7 Q 20.3 96.7, 18.9 98.4 Q 17.4 100.1, 17.4 103.5 Q 17.4 107.0, 18.9 108.8 Q 20.3 110.5, 22.9 110.5 \" fill=\"#FF0000\"/>\n",
       "<path class=\"atom-10\" d=\"M 103.6 47.3 Q 103.8 47.4, 104.6 47.7 Q 105.4 48.0, 106.2 48.3 Q 107.1 48.5, 108.0 48.5 Q 109.7 48.5, 110.6 47.7 Q 111.6 46.9, 111.6 45.5 Q 111.6 44.5, 111.1 43.9 Q 110.6 43.4, 109.9 43.0 Q 109.1 42.7, 107.9 42.4 Q 106.4 41.9, 105.5 41.5 Q 104.6 41.0, 103.9 40.1 Q 103.3 39.2, 103.3 37.6 Q 103.3 35.4, 104.7 34.1 Q 106.2 32.7, 109.1 32.7 Q 111.2 32.7, 113.4 33.7 L 112.9 35.6 Q 110.8 34.7, 109.2 34.7 Q 107.5 34.7, 106.6 35.4 Q 105.7 36.1, 105.7 37.3 Q 105.7 38.2, 106.2 38.8 Q 106.7 39.4, 107.3 39.7 Q 108.1 40.0, 109.2 40.4 Q 110.8 40.8, 111.7 41.3 Q 112.6 41.8, 113.3 42.8 Q 114.0 43.8, 114.0 45.5 Q 114.0 47.9, 112.4 49.2 Q 110.8 50.4, 108.1 50.4 Q 106.6 50.4, 105.4 50.1 Q 104.3 49.8, 102.9 49.2 L 103.6 47.3 \" fill=\"#CCCC00\"/>\n",
       "<path class=\"atom-10\" d=\"M 118.9,41.4 L 118.9,41.5 L 118.8,41.6 L 118.8,41.7 L 118.8,41.8 L 118.8,41.9 L 118.7,42.0 L 118.6,42.1 L 118.6,42.1 L 118.5,42.2 L 118.4,42.3 L 118.4,42.4 L 118.3,42.4 L 118.2,42.5 L 118.1,42.5 L 118.0,42.5 L 117.9,42.6 L 117.8,42.6 L 117.7,42.6 L 117.6,42.6 L 117.5,42.6 L 117.4,42.5 L 117.3,42.5 L 117.2,42.5 L 117.1,42.4 L 117.0,42.4 L 116.9,42.3 L 116.8,42.3 L 116.7,42.2 L 116.7,42.1 L 116.6,42.0 L 116.6,41.9 L 116.5,41.8 L 116.5,41.7 L 116.5,41.6 L 116.4,41.5 L 116.4,41.4 L 116.4,41.3 L 116.4,41.2 L 116.5,41.1 L 116.5,41.0 L 116.5,40.9 L 116.6,40.8 L 116.6,40.7 L 116.7,40.6 L 116.7,40.5 L 116.8,40.5 L 116.9,40.4 L 117.0,40.3 L 117.1,40.3 L 117.2,40.2 L 117.3,40.2 L 117.4,40.2 L 117.5,40.2 L 117.6,40.1 L 117.7,40.1 L 117.8,40.1 L 117.9,40.2 L 118.0,40.2 L 118.1,40.2 L 118.2,40.3 L 118.3,40.3 L 118.4,40.4 L 118.4,40.4 L 118.5,40.5 L 118.6,40.6 L 118.6,40.7 L 118.7,40.8 L 118.8,40.9 L 118.8,40.9 L 118.8,41.0 L 118.8,41.2 L 118.9,41.3 L 118.9,41.4 L 117.6,41.4 Z\" style=\"fill:#000000;fill-rule:evenodd;fill-opacity:1;stroke:#000000;stroke-width:0.0px;stroke-linecap:butt;stroke-linejoin:miter;stroke-opacity:1;\"/>\n",
       "<path class=\"legend\" d=\"M 94.4 276.0 L 94.4 274.9 L 95.9 274.9 L 96.2 272.5 L 97.3 272.5 L 97.3 274.9 L 99.8 274.9 L 99.8 276.0 L 97.3 276.0 L 97.3 280.6 Q 97.3 282.0, 98.5 282.0 Q 99.0 282.0, 99.7 281.8 L 99.9 282.8 Q 99.1 283.2, 98.2 283.2 Q 97.2 283.2, 96.5 282.6 Q 95.8 281.9, 95.8 280.7 L 95.8 276.0 L 94.4 276.0 \" fill=\"#000000\"/>\n",
       "<path class=\"legend\" d=\"M 102.2 274.9 L 102.4 276.0 Q 103.3 274.7, 104.7 274.7 Q 105.1 274.7, 105.7 274.9 L 105.5 276.2 Q 104.8 276.1, 104.4 276.1 Q 103.7 276.1, 103.3 276.4 Q 102.9 276.6, 102.5 277.2 L 102.5 283.1 L 101.0 283.1 L 101.0 274.9 L 102.2 274.9 \" fill=\"#000000\"/>\n",
       "<path class=\"legend\" d=\"M 106.6 280.9 Q 106.6 279.6, 107.7 278.9 Q 108.7 278.1, 110.7 278.1 L 111.9 278.1 L 111.9 277.8 Q 111.9 276.8, 111.5 276.4 Q 111.0 275.9, 110.0 275.9 Q 109.4 275.9, 108.8 276.1 Q 108.3 276.2, 107.5 276.5 L 107.1 275.5 Q 108.6 274.7, 110.0 274.7 Q 111.8 274.7, 112.6 275.5 Q 113.4 276.2, 113.4 277.8 L 113.4 283.1 L 112.2 283.1 Q 112.2 283.0, 112.2 282.8 Q 112.1 282.6, 112.0 282.2 Q 110.9 283.3, 109.3 283.3 Q 108.1 283.3, 107.4 282.6 Q 106.6 282.0, 106.6 280.9 M 108.1 280.9 Q 108.1 281.5, 108.5 281.8 Q 108.9 282.1, 109.6 282.1 Q 110.3 282.1, 110.9 281.8 Q 111.5 281.5, 111.9 281.0 L 111.9 279.3 L 110.8 279.3 Q 109.5 279.3, 108.8 279.7 Q 108.1 280.1, 108.1 280.9 \" fill=\"#000000\"/>\n",
       "<path class=\"legend\" d=\"M 119.6 274.7 Q 120.9 274.7, 121.6 275.5 Q 122.3 276.2, 122.3 277.7 L 122.3 283.1 L 120.8 283.1 L 120.8 277.8 Q 120.8 276.8, 120.4 276.4 Q 120.0 275.9, 119.2 275.9 Q 118.4 275.9, 117.8 276.3 Q 117.2 276.6, 116.8 277.2 L 116.8 283.1 L 115.3 283.1 L 115.3 274.9 L 116.5 274.9 L 116.7 276.0 Q 117.8 274.7, 119.6 274.7 \" fill=\"#000000\"/>\n",
       "<path class=\"legend\" d=\"M 124.6 281.4 Q 125.4 281.7, 125.9 281.9 Q 126.4 282.0, 127.0 282.0 Q 127.7 282.0, 128.1 281.7 Q 128.5 281.4, 128.5 280.8 Q 128.5 280.4, 128.3 280.2 Q 128.1 280.0, 127.8 279.9 Q 127.5 279.8, 126.8 279.5 Q 126.7 279.5, 126.0 279.2 Q 125.2 279.0, 124.8 278.4 Q 124.4 277.9, 124.4 277.1 Q 124.4 276.1, 125.2 275.4 Q 126.0 274.7, 127.5 274.7 Q 128.1 274.7, 128.6 274.9 Q 129.2 275.0, 129.8 275.3 L 129.4 276.5 Q 128.9 276.2, 128.4 276.1 Q 128.0 276.0, 127.5 276.0 Q 126.7 276.0, 126.3 276.3 Q 125.9 276.6, 125.9 277.1 Q 125.9 277.5, 126.2 277.7 Q 126.6 277.9, 127.2 278.2 Q 127.4 278.2, 127.5 278.3 L 127.9 278.4 Q 128.6 278.7, 129.0 278.9 Q 129.4 279.1, 129.7 279.6 Q 130.0 280.0, 130.0 280.8 Q 130.0 282.0, 129.1 282.6 Q 128.3 283.3, 127.0 283.3 Q 126.2 283.3, 125.5 283.1 Q 124.8 282.9, 124.2 282.6 L 124.6 281.4 \" fill=\"#000000\"/>\n",
       "<path class=\"legend\" d=\"M 131.5 277.4 L 137.4 277.4 L 137.4 278.6 L 131.5 278.6 L 131.5 277.4 \" fill=\"#000000\"/>\n",
       "<path class=\"legend\" d=\"M 139.5 281.8 L 141.9 281.8 L 141.9 273.4 L 139.2 274.2 L 138.8 273.3 L 142.3 271.7 L 143.4 271.9 L 143.4 281.8 L 145.7 281.8 L 145.7 283.1 L 139.5 283.1 L 139.5 281.8 \" fill=\"#000000\"/>\n",
       "<path class=\"legend\" d=\"M 147.0 281.5 L 148.6 281.5 L 148.6 282.8 L 148.3 285.0 L 147.7 285.0 L 147.7 283.1 L 147.0 283.1 L 147.0 281.5 \" fill=\"#000000\"/>\n",
       "<path class=\"legend\" d=\"M 150.3 273.9 Q 150.7 272.9, 151.7 272.3 Q 152.7 271.7, 154.1 271.7 Q 155.8 271.7, 156.8 272.6 Q 157.7 273.5, 157.7 275.2 Q 157.7 276.8, 156.5 278.4 Q 155.3 280.0, 152.7 281.8 L 157.9 281.8 L 157.9 283.1 L 150.3 283.1 L 150.3 282.0 Q 152.4 280.5, 153.7 279.4 Q 154.9 278.3, 155.5 277.3 Q 156.1 276.3, 156.1 275.2 Q 156.1 274.2, 155.6 273.5 Q 155.0 272.9, 154.1 272.9 Q 153.2 272.9, 152.6 273.3 Q 152.0 273.7, 151.5 274.5 L 150.3 273.9 \" fill=\"#000000\"/>\n",
       "<path class=\"legend\" d=\"M 159.5 277.4 L 165.4 277.4 L 165.4 278.6 L 159.5 278.6 L 159.5 277.4 \" fill=\"#000000\"/>\n",
       "<path class=\"legend\" d=\"M 166.9 277.4 Q 166.9 274.6, 168.2 273.1 Q 169.5 271.7, 172.0 271.7 Q 174.4 271.7, 175.6 273.3 L 174.6 274.2 Q 173.6 273.0, 172.0 273.0 Q 170.3 273.0, 169.4 274.1 Q 168.5 275.3, 168.5 277.4 Q 168.5 279.7, 169.4 280.8 Q 170.4 282.0, 172.2 282.0 Q 173.5 282.0, 174.9 281.2 L 175.4 282.4 Q 174.8 282.8, 173.9 283.0 Q 173.0 283.3, 172.0 283.3 Q 169.5 283.3, 168.2 281.8 Q 166.9 280.2, 166.9 277.4 \" fill=\"#000000\"/>\n",
       "<path class=\"legend\" d=\"M 180.3 271.8 Q 182.2 271.8, 183.2 272.7 Q 184.1 273.5, 184.1 275.1 Q 184.1 276.7, 183.1 277.6 Q 182.1 278.5, 180.3 278.5 L 178.4 278.5 L 178.4 283.1 L 176.9 283.1 L 176.9 271.8 L 180.3 271.8 M 180.3 277.2 Q 181.4 277.2, 182.0 276.6 Q 182.5 276.1, 182.5 275.1 Q 182.5 274.1, 182.0 273.6 Q 181.4 273.1, 180.3 273.1 L 178.4 273.1 L 178.4 277.2 L 180.3 277.2 \" fill=\"#000000\"/>\n",
       "<path class=\"legend\" d=\"M 189.2 271.8 Q 191.7 271.8, 193.1 273.3 Q 194.4 274.7, 194.4 277.4 Q 194.4 280.1, 193.1 281.6 Q 191.7 283.1, 189.2 283.1 L 185.6 283.1 L 185.6 271.8 L 189.2 271.8 M 189.2 281.8 Q 190.9 281.8, 191.9 280.7 Q 192.8 279.6, 192.8 277.4 Q 192.8 275.2, 191.9 274.2 Q 190.9 273.1, 189.2 273.1 L 187.1 273.1 L 187.1 281.8 L 189.2 281.8 \" fill=\"#000000\"/>\n",
       "<path class=\"legend\" d=\"M 204.2 283.1 L 203.0 279.8 L 198.5 279.8 L 197.3 283.1 L 195.8 283.1 L 199.7 271.8 L 201.6 271.8 L 205.6 283.1 L 204.2 283.1 M 198.9 278.5 L 202.5 278.5 L 200.7 273.4 L 198.9 278.5 \" fill=\"#000000\"/>\n",
       "</svg>"
      ],
      "text/plain": [
       "<IPython.core.display.SVG object>"
      ]
     },
     "metadata": {},
     "output_type": "display_data"
    },
    {
     "data": {
      "text/plain": [
       "'O=C(O)[C@@H]1CCC[C@H]1C(=O)[S]'"
      ]
     },
     "metadata": {},
     "output_type": "display_data"
    },
    {
     "data": {
      "image/svg+xml": [
       "<svg xmlns=\"http://www.w3.org/2000/svg\" xmlns:rdkit=\"http://www.rdkit.org/xml\" xmlns:xlink=\"http://www.w3.org/1999/xlink\" version=\"1.1\" baseProfile=\"full\" xml:space=\"preserve\" width=\"300px\" height=\"300px\" viewBox=\"0 0 300 300\">\n",
       "<!-- END OF HEADER -->\n",
       "<rect style=\"opacity:1.0;fill:#FFFFFF;stroke:none\" width=\"300.0\" height=\"300.0\" x=\"0.0\" y=\"0.0\"> </rect>\n",
       "<path class=\"bond-0 atom-0 atom-1\" d=\"M 84.3,155.5 L 92.7,190.6\" style=\"fill:none;fill-rule:evenodd;stroke:#000000;stroke-width:2.0px;stroke-linecap:butt;stroke-linejoin:miter;stroke-opacity:1\"/>\n",
       "<path class=\"bond-0 atom-0 atom-1\" d=\"M 92.7,190.6 L 101.2,225.7\" style=\"fill:none;fill-rule:evenodd;stroke:#FF0000;stroke-width:2.0px;stroke-linecap:butt;stroke-linejoin:miter;stroke-opacity:1\"/>\n",
       "<path class=\"bond-0 atom-0 atom-1\" d=\"M 96.4,152.6 L 104.8,187.7\" style=\"fill:none;fill-rule:evenodd;stroke:#000000;stroke-width:2.0px;stroke-linecap:butt;stroke-linejoin:miter;stroke-opacity:1\"/>\n",
       "<path class=\"bond-0 atom-0 atom-1\" d=\"M 104.8,187.7 L 113.2,222.8\" style=\"fill:none;fill-rule:evenodd;stroke:#FF0000;stroke-width:2.0px;stroke-linecap:butt;stroke-linejoin:miter;stroke-opacity:1\"/>\n",
       "<path class=\"bond-1 atom-0 atom-2\" d=\"M 91.4,158.4 L 145.0,95.5\" style=\"fill:none;fill-rule:evenodd;stroke:#000000;stroke-width:2.0px;stroke-linecap:butt;stroke-linejoin:miter;stroke-opacity:1\"/>\n",
       "<path class=\"bond-2 atom-2 atom-3\" d=\"M 145.0,95.5 L 101.8,25.1\" style=\"fill:none;fill-rule:evenodd;stroke:#000000;stroke-width:2.0px;stroke-linecap:butt;stroke-linejoin:miter;stroke-opacity:1\"/>\n",
       "<path class=\"bond-2 atom-2 atom-3\" d=\"M 129.8,94.3 L 96.0,39.2\" style=\"fill:none;fill-rule:evenodd;stroke:#000000;stroke-width:2.0px;stroke-linecap:butt;stroke-linejoin:miter;stroke-opacity:1\"/>\n",
       "<path class=\"bond-3 atom-3 atom-4\" d=\"M 101.8,25.1 L 21.4,44.4\" style=\"fill:none;fill-rule:evenodd;stroke:#000000;stroke-width:2.0px;stroke-linecap:butt;stroke-linejoin:miter;stroke-opacity:1\"/>\n",
       "<path class=\"bond-4 atom-4 atom-5\" d=\"M 21.4,44.4 L 15.0,126.8\" style=\"fill:none;fill-rule:evenodd;stroke:#000000;stroke-width:2.0px;stroke-linecap:butt;stroke-linejoin:miter;stroke-opacity:1\"/>\n",
       "<path class=\"bond-5 atom-2 atom-6\" d=\"M 145.0,95.5 L 227.5,102.0\" style=\"fill:none;fill-rule:evenodd;stroke:#000000;stroke-width:2.0px;stroke-linecap:butt;stroke-linejoin:miter;stroke-opacity:1\"/>\n",
       "<path class=\"bond-6 atom-6 atom-7\" d=\"M 230.5,108.4 L 249.8,80.4\" style=\"fill:none;fill-rule:evenodd;stroke:#000000;stroke-width:2.0px;stroke-linecap:butt;stroke-linejoin:miter;stroke-opacity:1\"/>\n",
       "<path class=\"bond-6 atom-6 atom-7\" d=\"M 249.8,80.4 L 269.1,52.3\" style=\"fill:none;fill-rule:evenodd;stroke:#FF0000;stroke-width:2.0px;stroke-linecap:butt;stroke-linejoin:miter;stroke-opacity:1\"/>\n",
       "<path class=\"bond-6 atom-6 atom-7\" d=\"M 220.3,101.4 L 239.6,73.3\" style=\"fill:none;fill-rule:evenodd;stroke:#000000;stroke-width:2.0px;stroke-linecap:butt;stroke-linejoin:miter;stroke-opacity:1\"/>\n",
       "<path class=\"bond-6 atom-6 atom-7\" d=\"M 239.6,73.3 L 258.9,45.3\" style=\"fill:none;fill-rule:evenodd;stroke:#FF0000;stroke-width:2.0px;stroke-linecap:butt;stroke-linejoin:miter;stroke-opacity:1\"/>\n",
       "<path class=\"bond-7 atom-6 atom-8\" d=\"M 227.5,102.0 L 241.8,132.1\" style=\"fill:none;fill-rule:evenodd;stroke:#000000;stroke-width:2.0px;stroke-linecap:butt;stroke-linejoin:miter;stroke-opacity:1\"/>\n",
       "<path class=\"bond-7 atom-6 atom-8\" d=\"M 241.8,132.1 L 256.2,162.2\" style=\"fill:none;fill-rule:evenodd;stroke:#CCCC00;stroke-width:2.0px;stroke-linecap:butt;stroke-linejoin:miter;stroke-opacity:1\"/>\n",
       "<path class=\"bond-8 atom-5 atom-0\" d=\"M 15.0,126.8 L 91.4,158.4\" style=\"fill:none;fill-rule:evenodd;stroke:#000000;stroke-width:2.0px;stroke-linecap:butt;stroke-linejoin:miter;stroke-opacity:1\"/>\n",
       "<path d=\"M 94.1,155.3 L 91.4,158.4 L 87.6,156.8\" style=\"fill:none;stroke:#000000;stroke-width:2.0px;stroke-linecap:butt;stroke-linejoin:miter;stroke-opacity:1;\"/>\n",
       "<path d=\"M 104.0,28.6 L 101.8,25.1 L 97.8,26.0\" style=\"fill:none;stroke:#000000;stroke-width:2.0px;stroke-linecap:butt;stroke-linejoin:miter;stroke-opacity:1;\"/>\n",
       "<path d=\"M 25.5,43.4 L 21.4,44.4 L 21.1,48.5\" style=\"fill:none;stroke:#000000;stroke-width:2.0px;stroke-linecap:butt;stroke-linejoin:miter;stroke-opacity:1;\"/>\n",
       "<path d=\"M 15.3,122.7 L 15.0,126.8 L 18.8,128.4\" style=\"fill:none;stroke:#000000;stroke-width:2.0px;stroke-linecap:butt;stroke-linejoin:miter;stroke-opacity:1;\"/>\n",
       "<path d=\"M 223.3,101.7 L 227.5,102.0 L 228.2,103.5\" style=\"fill:none;stroke:#000000;stroke-width:2.0px;stroke-linecap:butt;stroke-linejoin:miter;stroke-opacity:1;\"/>\n",
       "<path class=\"atom-1\" d=\"M 100.0 238.9 Q 100.0 233.2, 102.8 230.1 Q 105.5 227.0, 110.7 227.0 Q 115.9 227.0, 118.7 230.1 Q 121.5 233.2, 121.5 238.9 Q 121.5 244.6, 118.7 247.8 Q 115.8 251.0, 110.7 251.0 Q 105.6 251.0, 102.8 247.8 Q 100.0 244.6, 100.0 238.9 M 110.7 248.4 Q 114.3 248.4, 116.2 246.0 Q 118.2 243.6, 118.2 238.9 Q 118.2 234.3, 116.2 232.0 Q 114.3 229.6, 110.7 229.6 Q 107.2 229.6, 105.2 231.9 Q 103.3 234.2, 103.3 238.9 Q 103.3 243.6, 105.2 246.0 Q 107.2 248.4, 110.7 248.4 \" fill=\"#FF0000\"/>\n",
       "<path class=\"atom-7\" d=\"M 263.5 33.9 Q 263.5 28.3, 266.3 25.1 Q 269.1 22.0, 274.3 22.0 Q 279.4 22.0, 282.2 25.1 Q 285.0 28.3, 285.0 33.9 Q 285.0 39.6, 282.2 42.8 Q 279.4 46.0, 274.3 46.0 Q 269.1 46.0, 266.3 42.8 Q 263.5 39.6, 263.5 33.9 M 274.3 43.4 Q 277.8 43.4, 279.7 41.0 Q 281.7 38.6, 281.7 33.9 Q 281.7 29.3, 279.7 27.0 Q 277.8 24.6, 274.3 24.6 Q 270.7 24.6, 268.7 27.0 Q 266.8 29.3, 266.8 33.9 Q 266.8 38.6, 268.7 41.0 Q 270.7 43.4, 274.3 43.4 \" fill=\"#FF0000\"/>\n",
       "<path class=\"atom-8\" d=\"M 256.5 184.6 Q 256.7 184.7, 257.8 185.2 Q 258.9 185.6, 260.1 185.9 Q 261.3 186.2, 262.5 186.2 Q 264.7 186.2, 266.0 185.1 Q 267.3 184.1, 267.3 182.2 Q 267.3 180.9, 266.7 180.1 Q 266.0 179.3, 265.0 178.9 Q 264.0 178.4, 262.4 177.9 Q 260.3 177.3, 259.0 176.7 Q 257.8 176.1, 256.9 174.9 Q 256.1 173.6, 256.1 171.5 Q 256.1 168.6, 258.1 166.7 Q 260.1 164.9, 264.0 164.9 Q 266.8 164.9, 269.8 166.2 L 269.1 168.7 Q 266.3 167.6, 264.1 167.6 Q 261.9 167.6, 260.6 168.6 Q 259.3 169.5, 259.4 171.1 Q 259.4 172.4, 260.0 173.1 Q 260.7 173.9, 261.6 174.3 Q 262.6 174.7, 264.1 175.2 Q 266.3 175.9, 267.5 176.6 Q 268.8 177.2, 269.7 178.6 Q 270.6 179.9, 270.6 182.2 Q 270.6 185.4, 268.4 187.2 Q 266.3 188.9, 262.7 188.9 Q 260.6 188.9, 259.0 188.4 Q 257.4 188.0, 255.6 187.2 L 256.5 184.6 \" fill=\"#CCCC00\"/>\n",
       "<path class=\"atom-8\" d=\"M 277.2,176.6 L 277.2,176.7 L 277.2,176.9 L 277.1,177.0 L 277.1,177.1 L 277.1,177.3 L 277.0,177.4 L 276.9,177.5 L 276.8,177.6 L 276.7,177.7 L 276.6,177.8 L 276.5,177.9 L 276.4,178.0 L 276.3,178.1 L 276.1,178.1 L 276.0,178.2 L 275.9,178.2 L 275.7,178.2 L 275.6,178.2 L 275.4,178.2 L 275.3,178.2 L 275.2,178.2 L 275.0,178.2 L 274.9,178.1 L 274.8,178.0 L 274.6,178.0 L 274.5,177.9 L 274.4,177.8 L 274.3,177.7 L 274.2,177.6 L 274.1,177.5 L 274.1,177.3 L 274.0,177.2 L 274.0,177.1 L 273.9,176.9 L 273.9,176.8 L 273.9,176.7 L 273.9,176.5 L 273.9,176.4 L 273.9,176.2 L 274.0,176.1 L 274.0,176.0 L 274.1,175.8 L 274.1,175.7 L 274.2,175.6 L 274.3,175.5 L 274.4,175.4 L 274.5,175.3 L 274.6,175.2 L 274.8,175.1 L 274.9,175.1 L 275.0,175.0 L 275.2,175.0 L 275.3,175.0 L 275.4,174.9 L 275.6,174.9 L 275.7,174.9 L 275.9,175.0 L 276.0,175.0 L 276.1,175.0 L 276.3,175.1 L 276.4,175.2 L 276.5,175.2 L 276.6,175.3 L 276.7,175.4 L 276.8,175.5 L 276.9,175.6 L 277.0,175.8 L 277.1,175.9 L 277.1,176.0 L 277.1,176.2 L 277.2,176.3 L 277.2,176.4 L 277.2,176.6 L 275.6,176.6 Z\" style=\"fill:#000000;fill-rule:evenodd;fill-opacity:1;stroke:#000000;stroke-width:0.0px;stroke-linecap:butt;stroke-linejoin:miter;stroke-opacity:1;\"/>\n",
       "<path class=\"legend\" d=\"M 102.7 276.9 Q 102.7 275.0, 103.7 273.8 Q 104.7 272.7, 106.6 272.7 Q 108.5 272.7, 109.5 274.1 L 108.5 274.8 Q 108.1 274.3, 107.6 274.1 Q 107.2 273.9, 106.6 273.9 Q 105.5 273.9, 104.9 274.7 Q 104.2 275.4, 104.2 276.9 Q 104.2 278.5, 104.9 279.2 Q 105.5 280.0, 106.7 280.0 Q 107.4 280.0, 107.9 279.9 Q 108.3 279.7, 108.9 279.4 L 109.3 280.5 Q 108.1 281.2, 106.6 281.2 Q 104.7 281.2, 103.7 280.0 Q 102.7 278.9, 102.7 276.9 \" fill=\"#000000\"/>\n",
       "<path class=\"legend\" d=\"M 116.9 272.8 L 118.3 272.8 L 114.1 285.0 L 112.7 285.0 L 114.1 281.1 L 113.4 281.1 L 110.5 272.8 L 112.1 272.8 L 114.5 279.8 L 116.9 272.8 \" fill=\"#000000\"/>\n",
       "<path class=\"legend\" d=\"M 119.1 276.9 Q 119.1 275.0, 120.1 273.8 Q 121.1 272.7, 123.1 272.7 Q 124.9 272.7, 125.9 274.1 L 124.9 274.8 Q 124.5 274.3, 124.1 274.1 Q 123.6 273.9, 123.1 273.9 Q 121.9 273.9, 121.3 274.7 Q 120.7 275.4, 120.7 276.9 Q 120.7 278.5, 121.3 279.2 Q 122.0 280.0, 123.2 280.0 Q 123.8 280.0, 124.3 279.9 Q 124.8 279.7, 125.3 279.4 L 125.8 280.5 Q 124.6 281.2, 123.1 281.2 Q 121.1 281.2, 120.1 280.0 Q 119.1 278.9, 119.1 276.9 \" fill=\"#000000\"/>\n",
       "<path class=\"legend\" d=\"M 127.0 268.9 L 128.4 268.9 L 128.4 281.1 L 127.0 281.1 L 127.0 268.9 \" fill=\"#000000\"/>\n",
       "<path class=\"legend\" d=\"M 130.5 276.9 Q 130.5 274.9, 131.5 273.8 Q 132.5 272.7, 134.4 272.7 Q 136.3 272.7, 137.3 273.8 Q 138.3 274.9, 138.3 276.9 Q 138.3 278.9, 137.3 280.1 Q 136.3 281.2, 134.4 281.2 Q 132.5 281.2, 131.5 280.1 Q 130.5 278.9, 130.5 276.9 M 132.0 276.9 Q 132.0 278.4, 132.6 279.2 Q 133.2 280.0, 134.4 280.0 Q 135.5 280.0, 136.1 279.2 Q 136.8 278.4, 136.8 276.9 Q 136.8 275.4, 136.1 274.7 Q 135.5 273.9, 134.4 273.9 Q 133.2 273.9, 132.6 274.7 Q 132.0 275.4, 132.0 276.9 \" fill=\"#000000\"/>\n",
       "<path class=\"legend\" d=\"M 143.5 272.7 Q 145.2 272.7, 146.2 273.8 Q 147.1 274.8, 147.1 276.8 Q 147.1 278.9, 146.0 280.0 Q 144.9 281.2, 142.9 281.2 Q 142.0 281.2, 141.2 281.0 L 141.2 285.0 L 139.7 285.0 L 139.7 272.8 L 140.9 272.8 L 141.1 273.8 Q 141.5 273.3, 142.1 273.0 Q 142.8 272.7, 143.5 272.7 M 142.9 280.0 Q 144.1 280.0, 144.9 279.2 Q 145.6 278.3, 145.6 276.8 Q 145.6 275.4, 145.0 274.6 Q 144.5 273.9, 143.4 273.9 Q 142.6 273.9, 142.0 274.3 Q 141.4 274.7, 141.2 275.5 L 141.2 279.8 Q 142.0 280.0, 142.9 280.0 \" fill=\"#000000\"/>\n",
       "<path class=\"legend\" d=\"M 148.5 276.9 Q 148.5 274.9, 149.5 273.8 Q 150.5 272.7, 152.4 272.7 Q 154.2 272.7, 155.0 273.8 Q 155.8 274.9, 155.8 276.9 L 155.8 277.1 L 150.0 277.1 Q 150.1 278.5, 150.7 279.3 Q 151.3 280.0, 152.5 280.0 Q 153.1 280.0, 153.7 279.9 Q 154.3 279.7, 155.0 279.4 L 155.5 280.4 Q 154.7 280.8, 153.9 281.0 Q 153.2 281.2, 152.4 281.2 Q 150.6 281.2, 149.5 280.1 Q 148.5 279.0, 148.5 276.9 M 152.4 273.9 Q 151.4 273.9, 150.8 274.4 Q 150.3 275.0, 150.1 276.0 L 154.2 276.0 Q 154.1 274.9, 153.6 274.4 Q 153.2 273.9, 152.4 273.9 \" fill=\"#000000\"/>\n",
       "<path class=\"legend\" d=\"M 161.3 272.7 Q 162.7 272.7, 163.3 273.4 Q 164.0 274.2, 164.0 275.6 L 164.0 281.1 L 162.5 281.1 L 162.5 275.7 Q 162.5 274.8, 162.2 274.3 Q 161.8 273.9, 161.0 273.9 Q 160.2 273.9, 159.6 274.2 Q 159.0 274.6, 158.6 275.2 L 158.6 281.1 L 157.1 281.1 L 157.1 272.8 L 158.3 272.8 L 158.5 274.0 Q 159.6 272.7, 161.3 272.7 \" fill=\"#000000\"/>\n",
       "<path class=\"legend\" d=\"M 165.9 274.0 L 165.9 272.8 L 167.5 272.8 L 167.8 270.4 L 168.9 270.4 L 168.9 272.8 L 171.4 272.8 L 171.4 274.0 L 168.9 274.0 L 168.9 278.5 Q 168.9 280.0, 170.1 280.0 Q 170.6 280.0, 171.3 279.7 L 171.5 280.8 Q 170.6 281.2, 169.8 281.2 Q 168.7 281.2, 168.1 280.5 Q 167.4 279.9, 167.4 278.6 L 167.4 274.0 L 165.9 274.0 \" fill=\"#000000\"/>\n",
       "<path class=\"legend\" d=\"M 172.6 276.9 Q 172.6 274.9, 173.6 273.8 Q 174.6 272.7, 176.4 272.7 Q 178.3 272.7, 179.1 273.8 Q 179.9 274.9, 179.9 276.9 L 179.9 277.1 L 174.1 277.1 Q 174.2 278.5, 174.8 279.3 Q 175.4 280.0, 176.6 280.0 Q 177.2 280.0, 177.8 279.9 Q 178.4 279.7, 179.1 279.4 L 179.6 280.4 Q 178.7 280.8, 178.0 281.0 Q 177.3 281.2, 176.5 281.2 Q 174.6 281.2, 173.6 280.1 Q 172.6 279.0, 172.6 276.9 M 176.4 273.9 Q 175.5 273.9, 174.9 274.4 Q 174.4 275.0, 174.2 276.0 L 178.3 276.0 Q 178.2 274.9, 177.7 274.4 Q 177.3 273.9, 176.4 273.9 \" fill=\"#000000\"/>\n",
       "<path class=\"legend\" d=\"M 185.4 272.7 Q 186.7 272.7, 187.4 273.4 Q 188.1 274.2, 188.1 275.6 L 188.1 281.1 L 186.6 281.1 L 186.6 275.7 Q 186.6 274.8, 186.2 274.3 Q 185.9 273.9, 185.0 273.9 Q 184.3 273.9, 183.7 274.2 Q 183.0 274.6, 182.6 275.2 L 182.6 281.1 L 181.1 281.1 L 181.1 272.8 L 182.4 272.8 L 182.5 274.0 Q 183.7 272.7, 185.4 272.7 \" fill=\"#000000\"/>\n",
       "<path class=\"legend\" d=\"M 190.0 276.9 Q 190.0 274.9, 191.0 273.8 Q 192.0 272.7, 193.9 272.7 Q 195.7 272.7, 196.5 273.8 Q 197.3 274.9, 197.3 276.9 L 197.3 277.1 L 191.6 277.1 Q 191.6 278.5, 192.2 279.3 Q 192.8 280.0, 194.0 280.0 Q 194.7 280.0, 195.2 279.9 Q 195.8 279.7, 196.6 279.4 L 197.0 280.4 Q 196.2 280.8, 195.4 281.0 Q 194.7 281.2, 193.9 281.2 Q 192.1 281.2, 191.1 280.1 Q 190.0 279.0, 190.0 276.9 M 193.9 273.9 Q 192.9 273.9, 192.4 274.4 Q 191.8 275.0, 191.6 276.0 L 195.7 276.0 Q 195.6 274.9, 195.2 274.4 Q 194.7 273.9, 193.9 273.9 \" fill=\"#000000\"/>\n",
       "</svg>"
      ],
      "text/plain": [
       "<IPython.core.display.SVG object>"
      ]
     },
     "metadata": {},
     "output_type": "display_data"
    },
    {
     "data": {
      "text/plain": [
       "'O=C([S])C1=CCCC1=O'"
      ]
     },
     "metadata": {},
     "output_type": "display_data"
    },
    {
     "data": {
      "image/svg+xml": [
       "<svg xmlns=\"http://www.w3.org/2000/svg\" xmlns:rdkit=\"http://www.rdkit.org/xml\" xmlns:xlink=\"http://www.w3.org/1999/xlink\" version=\"1.1\" baseProfile=\"full\" xml:space=\"preserve\" width=\"300px\" height=\"300px\" viewBox=\"0 0 300 300\">\n",
       "<!-- END OF HEADER -->\n",
       "<rect style=\"opacity:1.0;fill:#FFFFFF;stroke:none\" width=\"300.0\" height=\"300.0\" x=\"0.0\" y=\"0.0\"> </rect>\n",
       "<path class=\"bond-0 atom-0 atom-1\" d=\"M 262.2,68.1 L 245.5,96.9\" style=\"fill:none;fill-rule:evenodd;stroke:#CCCC00;stroke-width:2.0px;stroke-linecap:butt;stroke-linejoin:miter;stroke-opacity:1\"/>\n",
       "<path class=\"bond-0 atom-0 atom-1\" d=\"M 245.5,96.9 L 228.9,125.8\" style=\"fill:none;fill-rule:evenodd;stroke:#000000;stroke-width:2.0px;stroke-linecap:butt;stroke-linejoin:miter;stroke-opacity:1\"/>\n",
       "<path class=\"bond-1 atom-1 atom-2\" d=\"M 228.9,125.8 L 144.7,125.8\" style=\"fill:none;fill-rule:evenodd;stroke:#000000;stroke-width:2.0px;stroke-linecap:butt;stroke-linejoin:miter;stroke-opacity:1\"/>\n",
       "<path class=\"bond-2 atom-2 atom-3\" d=\"M 144.7,125.8 L 95.1,57.6\" style=\"fill:none;fill-rule:evenodd;stroke:#000000;stroke-width:2.0px;stroke-linecap:butt;stroke-linejoin:miter;stroke-opacity:1\"/>\n",
       "<path class=\"bond-2 atom-2 atom-3\" d=\"M 129.0,125.8 L 90.3,72.5\" style=\"fill:none;fill-rule:evenodd;stroke:#000000;stroke-width:2.0px;stroke-linecap:butt;stroke-linejoin:miter;stroke-opacity:1\"/>\n",
       "<path class=\"bond-3 atom-3 atom-4\" d=\"M 95.1,57.6 L 15.0,83.6\" style=\"fill:none;fill-rule:evenodd;stroke:#000000;stroke-width:2.0px;stroke-linecap:butt;stroke-linejoin:miter;stroke-opacity:1\"/>\n",
       "<path class=\"bond-4 atom-4 atom-5\" d=\"M 15.0,83.6 L 15.0,167.9\" style=\"fill:none;fill-rule:evenodd;stroke:#000000;stroke-width:2.0px;stroke-linecap:butt;stroke-linejoin:miter;stroke-opacity:1\"/>\n",
       "<path class=\"bond-4 atom-4 atom-5\" d=\"M 27.6,92.8 L 27.6,158.7\" style=\"fill:none;fill-rule:evenodd;stroke:#000000;stroke-width:2.0px;stroke-linecap:butt;stroke-linejoin:miter;stroke-opacity:1\"/>\n",
       "<path class=\"bond-5 atom-5 atom-6\" d=\"M 15.0,167.9 L 49.2,179.0\" style=\"fill:none;fill-rule:evenodd;stroke:#000000;stroke-width:2.0px;stroke-linecap:butt;stroke-linejoin:miter;stroke-opacity:1\"/>\n",
       "<path class=\"bond-5 atom-5 atom-6\" d=\"M 49.2,179.0 L 83.3,190.1\" style=\"fill:none;fill-rule:evenodd;stroke:#0000FF;stroke-width:2.0px;stroke-linecap:butt;stroke-linejoin:miter;stroke-opacity:1\"/>\n",
       "<path class=\"bond-6 atom-1 atom-7\" d=\"M 221.6,125.8 L 239.3,156.4\" style=\"fill:none;fill-rule:evenodd;stroke:#000000;stroke-width:2.0px;stroke-linecap:butt;stroke-linejoin:miter;stroke-opacity:1\"/>\n",
       "<path class=\"bond-6 atom-1 atom-7\" d=\"M 239.3,156.4 L 257.0,187.0\" style=\"fill:none;fill-rule:evenodd;stroke:#FF0000;stroke-width:2.0px;stroke-linecap:butt;stroke-linejoin:miter;stroke-opacity:1\"/>\n",
       "<path class=\"bond-6 atom-1 atom-7\" d=\"M 232.6,119.4 L 250.2,150.1\" style=\"fill:none;fill-rule:evenodd;stroke:#000000;stroke-width:2.0px;stroke-linecap:butt;stroke-linejoin:miter;stroke-opacity:1\"/>\n",
       "<path class=\"bond-6 atom-1 atom-7\" d=\"M 250.2,150.1 L 267.9,180.7\" style=\"fill:none;fill-rule:evenodd;stroke:#FF0000;stroke-width:2.0px;stroke-linecap:butt;stroke-linejoin:miter;stroke-opacity:1\"/>\n",
       "<path class=\"bond-7 atom-6 atom-2\" d=\"M 105.8,179.2 L 125.2,152.5\" style=\"fill:none;fill-rule:evenodd;stroke:#0000FF;stroke-width:2.0px;stroke-linecap:butt;stroke-linejoin:miter;stroke-opacity:1\"/>\n",
       "<path class=\"bond-7 atom-6 atom-2\" d=\"M 125.2,152.5 L 144.7,125.8\" style=\"fill:none;fill-rule:evenodd;stroke:#000000;stroke-width:2.0px;stroke-linecap:butt;stroke-linejoin:miter;stroke-opacity:1\"/>\n",
       "<path d=\"M 229.7,124.3 L 228.9,125.8 L 224.7,125.8\" style=\"fill:none;stroke:#000000;stroke-width:2.0px;stroke-linecap:butt;stroke-linejoin:miter;stroke-opacity:1;\"/>\n",
       "<path d=\"M 97.6,61.0 L 95.1,57.6 L 91.1,58.9\" style=\"fill:none;stroke:#000000;stroke-width:2.0px;stroke-linecap:butt;stroke-linejoin:miter;stroke-opacity:1;\"/>\n",
       "<path d=\"M 19.0,82.3 L 15.0,83.6 L 15.0,87.8\" style=\"fill:none;stroke:#000000;stroke-width:2.0px;stroke-linecap:butt;stroke-linejoin:miter;stroke-opacity:1;\"/>\n",
       "<path d=\"M 15.0,163.7 L 15.0,167.9 L 16.7,168.4\" style=\"fill:none;stroke:#000000;stroke-width:2.0px;stroke-linecap:butt;stroke-linejoin:miter;stroke-opacity:1;\"/>\n",
       "<path class=\"atom-0\" d=\"M 264.3 61.0 Q 264.6 61.1, 265.7 61.6 Q 266.8 62.0, 268.0 62.3 Q 269.2 62.6, 270.5 62.6 Q 272.7 62.6, 274.0 61.5 Q 275.3 60.4, 275.3 58.5 Q 275.3 57.2, 274.7 56.4 Q 274.0 55.6, 273.0 55.1 Q 272.0 54.7, 270.3 54.2 Q 268.2 53.5, 266.9 52.9 Q 265.7 52.3, 264.8 51.0 Q 263.9 49.8, 263.9 47.6 Q 263.9 44.6, 265.9 42.8 Q 268.0 40.9, 272.0 40.9 Q 274.8 40.9, 277.9 42.2 L 277.1 44.8 Q 274.3 43.6, 272.1 43.6 Q 269.8 43.6, 268.5 44.6 Q 267.2 45.6, 267.3 47.2 Q 267.3 48.5, 267.9 49.3 Q 268.6 50.0, 269.5 50.5 Q 270.5 50.9, 272.1 51.4 Q 274.3 52.1, 275.5 52.8 Q 276.8 53.4, 277.7 54.8 Q 278.7 56.2, 278.7 58.5 Q 278.7 61.8, 276.5 63.6 Q 274.3 65.3, 270.6 65.3 Q 268.5 65.3, 266.9 64.9 Q 265.3 64.4, 263.4 63.6 L 264.3 61.0 \" fill=\"#CCCC00\"/>\n",
       "<path class=\"atom-6\" d=\"M 89.9 182.0 L 97.7 194.6 Q 98.4 195.9, 99.7 198.1 Q 100.9 200.4, 101.0 200.5 L 101.0 182.0 L 104.2 182.0 L 104.2 205.9 L 100.9 205.9 L 92.5 192.0 Q 91.5 190.4, 90.5 188.6 Q 89.5 186.7, 89.2 186.1 L 89.2 205.9 L 86.1 205.9 L 86.1 182.0 L 89.9 182.0 \" fill=\"#0000FF\"/>\n",
       "<path class=\"atom-6\" d=\"M 85.8 208.2 L 89.0 208.2 L 89.0 218.4 L 101.2 218.4 L 101.2 208.2 L 104.5 208.2 L 104.5 232.1 L 101.2 232.1 L 101.2 221.1 L 89.0 221.1 L 89.0 232.1 L 85.8 232.1 L 85.8 208.2 \" fill=\"#0000FF\"/>\n",
       "<path class=\"atom-7\" d=\"M 260.1 198.8 Q 260.1 193.1, 262.9 189.9 Q 265.7 186.7, 271.0 186.7 Q 276.3 186.7, 279.2 189.9 Q 282.0 193.1, 282.0 198.8 Q 282.0 204.6, 279.1 207.9 Q 276.3 211.2, 271.0 211.2 Q 265.8 211.2, 262.9 207.9 Q 260.1 204.6, 260.1 198.8 M 271.0 208.5 Q 274.7 208.5, 276.6 206.0 Q 278.6 203.6, 278.6 198.8 Q 278.6 194.1, 276.6 191.8 Q 274.7 189.4, 271.0 189.4 Q 267.4 189.4, 265.4 191.7 Q 263.4 194.1, 263.4 198.8 Q 263.4 203.6, 265.4 206.0 Q 267.4 208.5, 271.0 208.5 \" fill=\"#FF0000\"/>\n",
       "<path class=\"atom-0\" d=\"M 285.4,52.8 L 285.4,52.9 L 285.4,53.1 L 285.4,53.2 L 285.3,53.4 L 285.3,53.5 L 285.2,53.6 L 285.1,53.8 L 285.0,53.9 L 284.9,54.0 L 284.8,54.1 L 284.7,54.2 L 284.6,54.2 L 284.5,54.3 L 284.3,54.4 L 284.2,54.4 L 284.1,54.4 L 283.9,54.5 L 283.8,54.5 L 283.6,54.5 L 283.5,54.5 L 283.3,54.4 L 283.2,54.4 L 283.1,54.3 L 282.9,54.3 L 282.8,54.2 L 282.7,54.1 L 282.6,54.0 L 282.5,53.9 L 282.4,53.8 L 282.3,53.7 L 282.2,53.6 L 282.2,53.4 L 282.1,53.3 L 282.1,53.2 L 282.1,53.0 L 282.1,52.9 L 282.1,52.7 L 282.1,52.6 L 282.1,52.4 L 282.1,52.3 L 282.2,52.2 L 282.2,52.0 L 282.3,51.9 L 282.4,51.8 L 282.5,51.7 L 282.6,51.6 L 282.7,51.5 L 282.8,51.4 L 282.9,51.3 L 283.1,51.3 L 283.2,51.2 L 283.3,51.2 L 283.5,51.1 L 283.6,51.1 L 283.8,51.1 L 283.9,51.1 L 284.1,51.1 L 284.2,51.2 L 284.3,51.2 L 284.5,51.3 L 284.6,51.3 L 284.7,51.4 L 284.8,51.5 L 284.9,51.6 L 285.0,51.7 L 285.1,51.8 L 285.2,52.0 L 285.3,52.1 L 285.3,52.2 L 285.4,52.4 L 285.4,52.5 L 285.4,52.7 L 285.4,52.8 L 283.7,52.8 Z\" style=\"fill:#000000;fill-rule:evenodd;fill-opacity:1;stroke:#000000;stroke-width:0.0px;stroke-linecap:butt;stroke-linejoin:miter;stroke-opacity:1;\"/>\n",
       "<path class=\"legend\" d=\"M 142.7 272.7 Q 144.5 272.7, 145.4 273.8 Q 146.4 274.8, 146.4 276.8 Q 146.4 278.9, 145.2 280.0 Q 144.1 281.2, 142.1 281.2 Q 141.2 281.2, 140.4 281.0 L 140.4 285.0 L 138.9 285.0 L 138.9 272.8 L 140.1 272.8 L 140.3 273.8 Q 140.8 273.3, 141.4 273.0 Q 142.0 272.7, 142.7 272.7 M 142.1 280.0 Q 143.4 280.0, 144.1 279.2 Q 144.8 278.3, 144.8 276.8 Q 144.8 275.4, 144.2 274.6 Q 143.7 273.9, 142.6 273.9 Q 141.8 273.9, 141.2 274.3 Q 140.7 274.7, 140.4 275.5 L 140.4 279.8 Q 141.2 280.0, 142.1 280.0 \" fill=\"#000000\"/>\n",
       "<path class=\"legend\" d=\"M 154.1 272.8 L 155.5 272.8 L 151.3 285.0 L 149.9 285.0 L 151.3 281.1 L 150.7 281.1 L 147.7 272.8 L 149.3 272.8 L 151.7 279.8 L 154.1 272.8 \" fill=\"#000000\"/>\n",
       "<path class=\"legend\" d=\"M 157.6 272.8 L 157.8 274.0 Q 158.6 272.7, 160.0 272.7 Q 160.5 272.7, 161.1 272.9 L 160.8 274.2 Q 160.2 274.0, 159.8 274.0 Q 159.1 274.0, 158.6 274.3 Q 158.2 274.6, 157.9 275.2 L 157.9 281.1 L 156.4 281.1 L 156.4 272.8 L 157.6 272.8 \" fill=\"#000000\"/>\n",
       "</svg>"
      ],
      "text/plain": [
       "<IPython.core.display.SVG object>"
      ]
     },
     "metadata": {},
     "output_type": "display_data"
    },
    {
     "data": {
      "text/plain": [
       "'O=C([S])c1ccc[nH]1'"
      ]
     },
     "metadata": {},
     "output_type": "display_data"
    },
    {
     "data": {
      "image/svg+xml": [
       "<svg xmlns=\"http://www.w3.org/2000/svg\" xmlns:rdkit=\"http://www.rdkit.org/xml\" xmlns:xlink=\"http://www.w3.org/1999/xlink\" version=\"1.1\" baseProfile=\"full\" xml:space=\"preserve\" width=\"300px\" height=\"300px\" viewBox=\"0 0 300 300\">\n",
       "<!-- END OF HEADER -->\n",
       "<rect style=\"opacity:1.0;fill:#FFFFFF;stroke:none\" width=\"300.0\" height=\"300.0\" x=\"0.0\" y=\"0.0\"> </rect>\n",
       "<path class=\"bond-0 atom-0 atom-1\" d=\"M 32.4,101.9 L 46.3,116.5\" style=\"fill:none;fill-rule:evenodd;stroke:#FF0000;stroke-width:2.0px;stroke-linecap:butt;stroke-linejoin:miter;stroke-opacity:1\"/>\n",
       "<path class=\"bond-0 atom-0 atom-1\" d=\"M 46.3,116.5 L 60.2,131.1\" style=\"fill:none;fill-rule:evenodd;stroke:#000000;stroke-width:2.0px;stroke-linecap:butt;stroke-linejoin:miter;stroke-opacity:1\"/>\n",
       "<path class=\"bond-0 atom-0 atom-1\" d=\"M 26.9,107.0 L 40.8,121.7\" style=\"fill:none;fill-rule:evenodd;stroke:#FF0000;stroke-width:2.0px;stroke-linecap:butt;stroke-linejoin:miter;stroke-opacity:1\"/>\n",
       "<path class=\"bond-0 atom-0 atom-1\" d=\"M 40.8,121.7 L 54.7,136.3\" style=\"fill:none;fill-rule:evenodd;stroke:#000000;stroke-width:2.0px;stroke-linecap:butt;stroke-linejoin:miter;stroke-opacity:1\"/>\n",
       "<path class=\"bond-1 atom-1 atom-2\" d=\"M 55.9,132.1 L 50.1,151.8\" style=\"fill:none;fill-rule:evenodd;stroke:#000000;stroke-width:2.0px;stroke-linecap:butt;stroke-linejoin:miter;stroke-opacity:1\"/>\n",
       "<path class=\"bond-1 atom-1 atom-2\" d=\"M 50.1,151.8 L 44.3,171.4\" style=\"fill:none;fill-rule:evenodd;stroke:#CCCC00;stroke-width:2.0px;stroke-linecap:butt;stroke-linejoin:miter;stroke-opacity:1\"/>\n",
       "<path class=\"bond-2 atom-1 atom-3\" d=\"M 55.9,132.1 L 104.6,120.5\" style=\"fill:none;fill-rule:evenodd;stroke:#000000;stroke-width:2.0px;stroke-linecap:butt;stroke-linejoin:miter;stroke-opacity:1\"/>\n",
       "<path class=\"bond-3 atom-3 atom-4\" d=\"M 104.6,120.5 L 139.0,156.8\" style=\"fill:none;fill-rule:evenodd;stroke:#000000;stroke-width:2.0px;stroke-linecap:butt;stroke-linejoin:miter;stroke-opacity:1\"/>\n",
       "<path class=\"bond-3 atom-3 atom-4\" d=\"M 102.1,128.8 L 133.6,161.9\" style=\"fill:none;fill-rule:evenodd;stroke:#000000;stroke-width:2.0px;stroke-linecap:butt;stroke-linejoin:miter;stroke-opacity:1\"/>\n",
       "<path class=\"bond-4 atom-4 atom-5\" d=\"M 139.0,156.8 L 187.7,145.1\" style=\"fill:none;fill-rule:evenodd;stroke:#000000;stroke-width:2.0px;stroke-linecap:butt;stroke-linejoin:miter;stroke-opacity:1\"/>\n",
       "<path class=\"bond-5 atom-5 atom-6\" d=\"M 187.7,145.1 L 201.9,97.1\" style=\"fill:none;fill-rule:evenodd;stroke:#000000;stroke-width:2.0px;stroke-linecap:butt;stroke-linejoin:miter;stroke-opacity:1\"/>\n",
       "<path class=\"bond-5 atom-5 atom-6\" d=\"M 196.1,143.1 L 207.9,103.4\" style=\"fill:none;fill-rule:evenodd;stroke:#000000;stroke-width:2.0px;stroke-linecap:butt;stroke-linejoin:miter;stroke-opacity:1\"/>\n",
       "<path class=\"bond-6 atom-6 atom-7\" d=\"M 201.9,97.1 L 250.6,85.4\" style=\"fill:none;fill-rule:evenodd;stroke:#000000;stroke-width:2.0px;stroke-linecap:butt;stroke-linejoin:miter;stroke-opacity:1\"/>\n",
       "<path class=\"bond-7 atom-7 atom-8\" d=\"M 250.6,85.4 L 285.0,121.7\" style=\"fill:none;fill-rule:evenodd;stroke:#000000;stroke-width:2.0px;stroke-linecap:butt;stroke-linejoin:miter;stroke-opacity:1\"/>\n",
       "<path class=\"bond-7 atom-7 atom-8\" d=\"M 248.1,93.7 L 276.6,123.8\" style=\"fill:none;fill-rule:evenodd;stroke:#000000;stroke-width:2.0px;stroke-linecap:butt;stroke-linejoin:miter;stroke-opacity:1\"/>\n",
       "<path class=\"bond-8 atom-8 atom-9\" d=\"M 285.0,121.7 L 270.8,169.7\" style=\"fill:none;fill-rule:evenodd;stroke:#000000;stroke-width:2.0px;stroke-linecap:butt;stroke-linejoin:miter;stroke-opacity:1\"/>\n",
       "<path class=\"bond-9 atom-9 atom-10\" d=\"M 270.8,169.7 L 222.1,181.4\" style=\"fill:none;fill-rule:evenodd;stroke:#000000;stroke-width:2.0px;stroke-linecap:butt;stroke-linejoin:miter;stroke-opacity:1\"/>\n",
       "<path class=\"bond-9 atom-9 atom-10\" d=\"M 264.8,163.4 L 224.6,173.1\" style=\"fill:none;fill-rule:evenodd;stroke:#000000;stroke-width:2.0px;stroke-linecap:butt;stroke-linejoin:miter;stroke-opacity:1\"/>\n",
       "<path class=\"bond-10 atom-10 atom-5\" d=\"M 222.1,181.4 L 187.7,145.1\" style=\"fill:none;fill-rule:evenodd;stroke:#000000;stroke-width:2.0px;stroke-linecap:butt;stroke-linejoin:miter;stroke-opacity:1\"/>\n",
       "<path d=\"M 55.7,133.1 L 55.9,132.1 L 58.4,131.6\" style=\"fill:none;stroke:#000000;stroke-width:2.0px;stroke-linecap:butt;stroke-linejoin:miter;stroke-opacity:1;\"/>\n",
       "<path d=\"M 102.2,121.1 L 104.6,120.5 L 106.3,122.3\" style=\"fill:none;stroke:#000000;stroke-width:2.0px;stroke-linecap:butt;stroke-linejoin:miter;stroke-opacity:1;\"/>\n",
       "<path d=\"M 137.3,154.9 L 139.0,156.8 L 141.5,156.2\" style=\"fill:none;stroke:#000000;stroke-width:2.0px;stroke-linecap:butt;stroke-linejoin:miter;stroke-opacity:1;\"/>\n",
       "<path d=\"M 201.2,99.5 L 201.9,97.1 L 204.3,96.5\" style=\"fill:none;stroke:#000000;stroke-width:2.0px;stroke-linecap:butt;stroke-linejoin:miter;stroke-opacity:1;\"/>\n",
       "<path d=\"M 248.1,86.0 L 250.6,85.4 L 252.3,87.2\" style=\"fill:none;stroke:#000000;stroke-width:2.0px;stroke-linecap:butt;stroke-linejoin:miter;stroke-opacity:1;\"/>\n",
       "<path d=\"M 283.3,119.9 L 285.0,121.7 L 284.3,124.1\" style=\"fill:none;stroke:#000000;stroke-width:2.0px;stroke-linecap:butt;stroke-linejoin:miter;stroke-opacity:1;\"/>\n",
       "<path d=\"M 271.5,167.3 L 270.8,169.7 L 268.4,170.3\" style=\"fill:none;stroke:#000000;stroke-width:2.0px;stroke-linecap:butt;stroke-linejoin:miter;stroke-opacity:1;\"/>\n",
       "<path d=\"M 224.6,180.8 L 222.1,181.4 L 220.4,179.6\" style=\"fill:none;stroke:#000000;stroke-width:2.0px;stroke-linecap:butt;stroke-linejoin:miter;stroke-opacity:1;\"/>\n",
       "<path class=\"atom-0\" d=\"M 15.0 95.9 Q 15.0 92.5, 16.7 90.6 Q 18.4 88.7, 21.5 88.7 Q 24.6 88.7, 26.3 90.6 Q 28.0 92.5, 28.0 95.9 Q 28.0 99.3, 26.3 101.3 Q 24.6 103.2, 21.5 103.2 Q 18.4 103.2, 16.7 101.3 Q 15.0 99.4, 15.0 95.9 M 21.5 101.6 Q 23.7 101.6, 24.8 100.2 Q 26.0 98.7, 26.0 95.9 Q 26.0 93.1, 24.8 91.7 Q 23.7 90.3, 21.5 90.3 Q 19.3 90.3, 18.2 91.7 Q 17.0 93.1, 17.0 95.9 Q 17.0 98.8, 18.2 100.2 Q 19.3 101.6, 21.5 101.6 \" fill=\"#FF0000\"/>\n",
       "<path class=\"atom-2\" d=\"M 37.7 185.0 Q 37.9 185.0, 38.6 185.3 Q 39.2 185.6, 39.9 185.8 Q 40.7 185.9, 41.4 185.9 Q 42.7 185.9, 43.5 185.3 Q 44.3 184.6, 44.3 183.5 Q 44.3 182.7, 43.9 182.2 Q 43.5 181.8, 42.9 181.5 Q 42.3 181.2, 41.3 180.9 Q 40.1 180.6, 39.3 180.2 Q 38.6 179.8, 38.0 179.1 Q 37.5 178.3, 37.5 177.0 Q 37.5 175.3, 38.7 174.2 Q 39.9 173.1, 42.3 173.1 Q 44.0 173.1, 45.8 173.8 L 45.4 175.4 Q 43.7 174.7, 42.4 174.7 Q 41.0 174.7, 40.2 175.3 Q 39.5 175.8, 39.5 176.8 Q 39.5 177.6, 39.9 178.0 Q 40.3 178.5, 40.8 178.7 Q 41.4 179.0, 42.4 179.3 Q 43.7 179.7, 44.4 180.1 Q 45.2 180.5, 45.7 181.3 Q 46.3 182.1, 46.3 183.5 Q 46.3 185.5, 45.0 186.5 Q 43.7 187.6, 41.5 187.6 Q 40.2 187.6, 39.3 187.3 Q 38.3 187.0, 37.2 186.6 L 37.7 185.0 \" fill=\"#CCCC00\"/>\n",
       "<path class=\"atom-2\" d=\"M 50.3,180.1 L 50.3,180.2 L 50.3,180.3 L 50.2,180.4 L 50.2,180.5 L 50.2,180.5 L 50.1,180.6 L 50.1,180.7 L 50.1,180.8 L 50.0,180.8 L 49.9,180.9 L 49.9,180.9 L 49.8,181.0 L 49.7,181.0 L 49.6,181.1 L 49.6,181.1 L 49.5,181.1 L 49.4,181.1 L 49.3,181.1 L 49.2,181.1 L 49.1,181.1 L 49.0,181.1 L 49.0,181.1 L 48.9,181.0 L 48.8,181.0 L 48.7,181.0 L 48.7,180.9 L 48.6,180.9 L 48.5,180.8 L 48.5,180.7 L 48.4,180.7 L 48.4,180.6 L 48.4,180.5 L 48.3,180.4 L 48.3,180.3 L 48.3,180.3 L 48.3,180.2 L 48.3,180.1 L 48.3,180.0 L 48.3,179.9 L 48.3,179.8 L 48.4,179.7 L 48.4,179.7 L 48.4,179.6 L 48.5,179.5 L 48.5,179.5 L 48.6,179.4 L 48.7,179.3 L 48.7,179.3 L 48.8,179.2 L 48.9,179.2 L 49.0,179.2 L 49.0,179.1 L 49.1,179.1 L 49.2,179.1 L 49.3,179.1 L 49.4,179.1 L 49.5,179.1 L 49.6,179.2 L 49.6,179.2 L 49.7,179.2 L 49.8,179.3 L 49.9,179.3 L 49.9,179.4 L 50.0,179.4 L 50.1,179.5 L 50.1,179.6 L 50.1,179.6 L 50.2,179.7 L 50.2,179.8 L 50.2,179.9 L 50.3,180.0 L 50.3,180.0 L 50.3,180.1 L 49.3,180.1 Z\" style=\"fill:#000000;fill-rule:evenodd;fill-opacity:1;stroke:#000000;stroke-width:0.0px;stroke-linecap:butt;stroke-linejoin:miter;stroke-opacity:1;\"/>\n",
       "<path class=\"legend\" d=\"M 141.0 280.8 Q 141.0 278.8, 142.0 277.7 Q 143.0 276.5, 144.9 276.5 Q 146.8 276.5, 147.8 277.9 L 146.8 278.6 Q 146.4 278.2, 145.9 278.0 Q 145.5 277.7, 144.9 277.7 Q 143.8 277.7, 143.1 278.5 Q 142.5 279.3, 142.5 280.8 Q 142.5 282.3, 143.2 283.1 Q 143.8 283.8, 145.0 283.8 Q 145.7 283.8, 146.2 283.7 Q 146.6 283.5, 147.2 283.3 L 147.6 284.3 Q 146.4 285.0, 144.9 285.0 Q 143.0 285.0, 142.0 283.9 Q 141.0 282.8, 141.0 280.8 \" fill=\"#000000\"/>\n",
       "<path class=\"legend\" d=\"M 148.7 273.6 L 150.1 273.6 L 150.1 275.0 L 148.7 275.0 L 148.7 273.6 M 148.7 276.7 L 150.1 276.7 L 150.1 284.9 L 148.7 284.9 L 148.7 276.7 \" fill=\"#000000\"/>\n",
       "<path class=\"legend\" d=\"M 156.3 276.5 Q 157.6 276.5, 158.3 277.3 Q 159.0 278.0, 159.0 279.5 L 159.0 284.9 L 157.5 284.9 L 157.5 279.6 Q 157.5 278.6, 157.1 278.2 Q 156.8 277.7, 155.9 277.7 Q 155.2 277.7, 154.5 278.1 Q 153.9 278.4, 153.5 279.0 L 153.5 284.9 L 152.0 284.9 L 152.0 276.7 L 153.3 276.7 L 153.4 277.8 Q 154.5 276.5, 156.3 276.5 \" fill=\"#000000\"/>\n",
       "</svg>"
      ],
      "text/plain": [
       "<IPython.core.display.SVG object>"
      ]
     },
     "metadata": {},
     "output_type": "display_data"
    },
    {
     "data": {
      "text/plain": [
       "'O=C([S])/C=C/c1ccccc1'"
      ]
     },
     "metadata": {},
     "output_type": "display_data"
    },
    {
     "data": {
      "image/svg+xml": [
       "<svg xmlns=\"http://www.w3.org/2000/svg\" xmlns:rdkit=\"http://www.rdkit.org/xml\" xmlns:xlink=\"http://www.w3.org/1999/xlink\" version=\"1.1\" baseProfile=\"full\" xml:space=\"preserve\" width=\"300px\" height=\"300px\" viewBox=\"0 0 300 300\">\n",
       "<!-- END OF HEADER -->\n",
       "<rect style=\"opacity:1.0;fill:#FFFFFF;stroke:none\" width=\"300.0\" height=\"300.0\" x=\"0.0\" y=\"0.0\"> </rect>\n",
       "<path class=\"bond-0 atom-0 atom-1\" d=\"M 267.6,92.5 L 255.0,114.4\" style=\"fill:none;fill-rule:evenodd;stroke:#CCCC00;stroke-width:2.0px;stroke-linecap:butt;stroke-linejoin:miter;stroke-opacity:1\"/>\n",
       "<path class=\"bond-0 atom-0 atom-1\" d=\"M 255.0,114.4 L 242.3,136.3\" style=\"fill:none;fill-rule:evenodd;stroke:#000000;stroke-width:2.0px;stroke-linecap:butt;stroke-linejoin:miter;stroke-opacity:1\"/>\n",
       "<path class=\"bond-1 atom-1 atom-2\" d=\"M 242.3,136.3 L 178.2,136.3\" style=\"fill:none;fill-rule:evenodd;stroke:#000000;stroke-width:2.0px;stroke-linecap:butt;stroke-linejoin:miter;stroke-opacity:1\"/>\n",
       "<path class=\"bond-2 atom-2 atom-3\" d=\"M 178.2,136.3 L 146.2,191.8\" style=\"fill:none;fill-rule:evenodd;stroke:#000000;stroke-width:2.0px;stroke-linecap:butt;stroke-linejoin:miter;stroke-opacity:1\"/>\n",
       "<path class=\"bond-2 atom-2 atom-3\" d=\"M 167.1,136.3 L 140.6,182.2\" style=\"fill:none;fill-rule:evenodd;stroke:#000000;stroke-width:2.0px;stroke-linecap:butt;stroke-linejoin:miter;stroke-opacity:1\"/>\n",
       "<path class=\"bond-3 atom-3 atom-4\" d=\"M 146.2,191.8 L 82.1,191.8\" style=\"fill:none;fill-rule:evenodd;stroke:#000000;stroke-width:2.0px;stroke-linecap:butt;stroke-linejoin:miter;stroke-opacity:1\"/>\n",
       "<path class=\"bond-4 atom-4 atom-5\" d=\"M 82.1,191.8 L 69.3,213.9\" style=\"fill:none;fill-rule:evenodd;stroke:#000000;stroke-width:2.0px;stroke-linecap:butt;stroke-linejoin:miter;stroke-opacity:1\"/>\n",
       "<path class=\"bond-4 atom-4 atom-5\" d=\"M 69.3,213.9 L 56.6,236.0\" style=\"fill:none;fill-rule:evenodd;stroke:#FF0000;stroke-width:2.0px;stroke-linecap:butt;stroke-linejoin:miter;stroke-opacity:1\"/>\n",
       "<path class=\"bond-5 atom-4 atom-6\" d=\"M 82.1,191.8 L 50.0,136.3\" style=\"fill:none;fill-rule:evenodd;stroke:#000000;stroke-width:2.0px;stroke-linecap:butt;stroke-linejoin:miter;stroke-opacity:1\"/>\n",
       "<path class=\"bond-5 atom-4 atom-6\" d=\"M 87.6,182.2 L 61.1,136.3\" style=\"fill:none;fill-rule:evenodd;stroke:#000000;stroke-width:2.0px;stroke-linecap:butt;stroke-linejoin:miter;stroke-opacity:1\"/>\n",
       "<path class=\"bond-6 atom-6 atom-7\" d=\"M 50.0,136.3 L 82.1,80.8\" style=\"fill:none;fill-rule:evenodd;stroke:#000000;stroke-width:2.0px;stroke-linecap:butt;stroke-linejoin:miter;stroke-opacity:1\"/>\n",
       "<path class=\"bond-7 atom-7 atom-8\" d=\"M 82.1,80.8 L 69.3,58.6\" style=\"fill:none;fill-rule:evenodd;stroke:#000000;stroke-width:2.0px;stroke-linecap:butt;stroke-linejoin:miter;stroke-opacity:1\"/>\n",
       "<path class=\"bond-7 atom-7 atom-8\" d=\"M 69.3,58.6 L 56.5,36.5\" style=\"fill:none;fill-rule:evenodd;stroke:#0000FF;stroke-width:2.0px;stroke-linecap:butt;stroke-linejoin:miter;stroke-opacity:1\"/>\n",
       "<path class=\"bond-8 atom-7 atom-9\" d=\"M 82.1,80.8 L 146.2,80.8\" style=\"fill:none;fill-rule:evenodd;stroke:#000000;stroke-width:2.0px;stroke-linecap:butt;stroke-linejoin:miter;stroke-opacity:1\"/>\n",
       "<path class=\"bond-8 atom-7 atom-9\" d=\"M 87.6,90.4 L 140.6,90.4\" style=\"fill:none;fill-rule:evenodd;stroke:#000000;stroke-width:2.0px;stroke-linecap:butt;stroke-linejoin:miter;stroke-opacity:1\"/>\n",
       "<path class=\"bond-9 atom-1 atom-10\" d=\"M 236.8,136.3 L 250.2,159.6\" style=\"fill:none;fill-rule:evenodd;stroke:#000000;stroke-width:2.0px;stroke-linecap:butt;stroke-linejoin:miter;stroke-opacity:1\"/>\n",
       "<path class=\"bond-9 atom-1 atom-10\" d=\"M 250.2,159.6 L 263.7,182.9\" style=\"fill:none;fill-rule:evenodd;stroke:#FF0000;stroke-width:2.0px;stroke-linecap:butt;stroke-linejoin:miter;stroke-opacity:1\"/>\n",
       "<path class=\"bond-9 atom-1 atom-10\" d=\"M 245.1,131.5 L 258.6,154.8\" style=\"fill:none;fill-rule:evenodd;stroke:#000000;stroke-width:2.0px;stroke-linecap:butt;stroke-linejoin:miter;stroke-opacity:1\"/>\n",
       "<path class=\"bond-9 atom-1 atom-10\" d=\"M 258.6,154.8 L 272.0,178.1\" style=\"fill:none;fill-rule:evenodd;stroke:#FF0000;stroke-width:2.0px;stroke-linecap:butt;stroke-linejoin:miter;stroke-opacity:1\"/>\n",
       "<path class=\"bond-10 atom-9 atom-2\" d=\"M 146.2,80.8 L 178.2,136.3\" style=\"fill:none;fill-rule:evenodd;stroke:#000000;stroke-width:2.0px;stroke-linecap:butt;stroke-linejoin:miter;stroke-opacity:1\"/>\n",
       "<path d=\"M 243.0,135.2 L 242.3,136.3 L 239.1,136.3\" style=\"fill:none;stroke:#000000;stroke-width:2.0px;stroke-linecap:butt;stroke-linejoin:miter;stroke-opacity:1;\"/>\n",
       "<path d=\"M 147.8,189.0 L 146.2,191.8 L 143.0,191.8\" style=\"fill:none;stroke:#000000;stroke-width:2.0px;stroke-linecap:butt;stroke-linejoin:miter;stroke-opacity:1;\"/>\n",
       "<path d=\"M 51.6,139.1 L 50.0,136.3 L 51.6,133.5\" style=\"fill:none;stroke:#000000;stroke-width:2.0px;stroke-linecap:butt;stroke-linejoin:miter;stroke-opacity:1;\"/>\n",
       "<path d=\"M 143.0,80.8 L 146.2,80.8 L 147.8,83.6\" style=\"fill:none;stroke:#000000;stroke-width:2.0px;stroke-linecap:butt;stroke-linejoin:miter;stroke-opacity:1;\"/>\n",
       "<path class=\"atom-0\" d=\"M 269.2 87.0 Q 269.5 87.1, 270.3 87.5 Q 271.1 87.8, 272.1 88.1 Q 273.0 88.3, 273.9 88.3 Q 275.7 88.3, 276.7 87.4 Q 277.7 86.6, 277.7 85.1 Q 277.7 84.1, 277.1 83.5 Q 276.7 82.9, 275.9 82.6 Q 275.1 82.2, 273.8 81.8 Q 272.2 81.4, 271.2 80.9 Q 270.3 80.4, 269.6 79.5 Q 268.9 78.5, 268.9 76.8 Q 268.9 74.6, 270.5 73.2 Q 272.0 71.7, 275.1 71.7 Q 277.2 71.7, 279.6 72.7 L 279.0 74.7 Q 276.8 73.8, 275.2 73.8 Q 273.4 73.8, 272.4 74.6 Q 271.5 75.3, 271.5 76.5 Q 271.5 77.5, 272.0 78.1 Q 272.5 78.7, 273.2 79.0 Q 274.0 79.4, 275.2 79.7 Q 276.8 80.3, 277.8 80.8 Q 278.8 81.3, 279.5 82.3 Q 280.2 83.4, 280.2 85.1 Q 280.2 87.6, 278.5 89.0 Q 276.8 90.3, 274.0 90.3 Q 272.4 90.3, 271.2 90.0 Q 270.0 89.6, 268.6 89.1 L 269.2 87.0 \" fill=\"#CCCC00\"/>\n",
       "<path class=\"atom-5\" d=\"M 23.8 238.4 L 26.2 238.4 L 26.2 246.1 L 35.5 246.1 L 35.5 238.4 L 38.0 238.4 L 38.0 256.5 L 35.5 256.5 L 35.5 248.1 L 26.2 248.1 L 26.2 256.5 L 23.8 256.5 L 23.8 238.4 \" fill=\"#FF0000\"/>\n",
       "<path class=\"atom-5\" d=\"M 41.7 247.4 Q 41.7 243.0, 43.9 240.6 Q 46.0 238.1, 50.0 238.1 Q 54.1 238.1, 56.2 240.6 Q 58.4 243.0, 58.4 247.4 Q 58.4 251.8, 56.2 254.3 Q 54.0 256.8, 50.0 256.8 Q 46.0 256.8, 43.9 254.3 Q 41.7 251.8, 41.7 247.4 M 50.0 254.7 Q 52.8 254.7, 54.3 252.9 Q 55.8 251.0, 55.8 247.4 Q 55.8 243.8, 54.3 242.0 Q 52.8 240.2, 50.0 240.2 Q 47.3 240.2, 45.8 242.0 Q 44.3 243.8, 44.3 247.4 Q 44.3 251.0, 45.8 252.9 Q 47.3 254.7, 50.0 254.7 \" fill=\"#FF0000\"/>\n",
       "<path class=\"atom-8\" d=\"M 15.0 16.2 L 17.5 16.2 L 17.5 23.9 L 26.7 23.9 L 26.7 16.2 L 29.2 16.2 L 29.2 34.4 L 26.7 34.4 L 26.7 26.0 L 17.5 26.0 L 17.5 34.4 L 15.0 34.4 L 15.0 16.2 \" fill=\"#0000FF\"/>\n",
       "<path class=\"atom-8\" d=\"M 32.8 33.7 Q 33.2 32.6, 34.2 32.0 Q 35.3 31.3, 36.8 31.3 Q 38.6 31.3, 39.6 32.3 Q 40.6 33.3, 40.6 35.0 Q 40.6 36.8, 39.3 38.5 Q 38.0 40.1, 35.3 42.1 L 40.8 42.1 L 40.8 43.4 L 32.7 43.4 L 32.7 42.3 Q 35.0 40.7, 36.3 39.5 Q 37.6 38.3, 38.3 37.3 Q 38.9 36.2, 38.9 35.1 Q 38.9 34.0, 38.3 33.3 Q 37.7 32.7, 36.8 32.7 Q 35.8 32.7, 35.1 33.1 Q 34.5 33.5, 34.0 34.3 L 32.8 33.7 \" fill=\"#0000FF\"/>\n",
       "<path class=\"atom-8\" d=\"M 46.0 16.2 L 52.0 25.8 Q 52.6 26.8, 53.5 28.5 Q 54.5 30.2, 54.5 30.3 L 54.5 16.2 L 56.9 16.2 L 56.9 34.4 L 54.4 34.4 L 48.0 23.9 Q 47.3 22.6, 46.5 21.2 Q 45.7 19.8, 45.5 19.4 L 45.5 34.4 L 43.2 34.4 L 43.2 16.2 L 46.0 16.2 \" fill=\"#0000FF\"/>\n",
       "<path class=\"atom-10\" d=\"M 266.0 191.9 Q 266.0 187.5, 268.2 185.1 Q 270.3 182.6, 274.4 182.6 Q 278.4 182.6, 280.6 185.1 Q 282.7 187.5, 282.7 191.9 Q 282.7 196.3, 280.5 198.8 Q 278.3 201.3, 274.4 201.3 Q 270.4 201.3, 268.2 198.8 Q 266.0 196.3, 266.0 191.9 M 274.4 199.2 Q 277.1 199.2, 278.6 197.4 Q 280.1 195.5, 280.1 191.9 Q 280.1 188.3, 278.6 186.5 Q 277.1 184.7, 274.4 184.7 Q 271.6 184.7, 270.1 186.5 Q 268.6 188.3, 268.6 191.9 Q 268.6 195.5, 270.1 197.4 Q 271.6 199.2, 274.4 199.2 \" fill=\"#FF0000\"/>\n",
       "<path class=\"atom-0\" d=\"M 285.3,80.8 L 285.3,80.9 L 285.3,81.0 L 285.3,81.1 L 285.2,81.2 L 285.2,81.3 L 285.2,81.4 L 285.1,81.5 L 285.0,81.6 L 285.0,81.7 L 284.9,81.8 L 284.8,81.8 L 284.7,81.9 L 284.6,82.0 L 284.5,82.0 L 284.4,82.0 L 284.3,82.1 L 284.2,82.1 L 284.1,82.1 L 284.0,82.1 L 283.8,82.1 L 283.7,82.0 L 283.6,82.0 L 283.5,82.0 L 283.4,81.9 L 283.3,81.9 L 283.2,81.8 L 283.2,81.7 L 283.1,81.7 L 283.0,81.6 L 283.0,81.5 L 282.9,81.4 L 282.9,81.3 L 282.8,81.2 L 282.8,81.1 L 282.8,81.0 L 282.8,80.9 L 282.8,80.7 L 282.8,80.6 L 282.8,80.5 L 282.8,80.4 L 282.9,80.3 L 282.9,80.2 L 283.0,80.1 L 283.0,80.0 L 283.1,79.9 L 283.2,79.9 L 283.2,79.8 L 283.3,79.7 L 283.4,79.7 L 283.5,79.6 L 283.6,79.6 L 283.7,79.6 L 283.8,79.5 L 284.0,79.5 L 284.1,79.5 L 284.2,79.5 L 284.3,79.5 L 284.4,79.6 L 284.5,79.6 L 284.6,79.6 L 284.7,79.7 L 284.8,79.8 L 284.9,79.8 L 285.0,79.9 L 285.0,80.0 L 285.1,80.1 L 285.2,80.2 L 285.2,80.3 L 285.2,80.4 L 285.3,80.5 L 285.3,80.6 L 285.3,80.7 L 285.3,80.8 L 284.0,80.8 Z\" style=\"fill:#000000;fill-rule:evenodd;fill-opacity:1;stroke:#000000;stroke-width:0.0px;stroke-linecap:butt;stroke-linejoin:miter;stroke-opacity:1;\"/>\n",
       "<path class=\"legend\" d=\"M 137.7 285.0 L 136.5 281.7 L 132.0 281.7 L 130.9 285.0 L 129.4 285.0 L 133.3 273.7 L 135.2 273.7 L 139.2 285.0 L 137.7 285.0 M 132.5 280.4 L 136.1 280.4 L 134.3 275.3 L 132.5 280.4 \" fill=\"#000000\"/>\n",
       "<path class=\"legend\" d=\"M 140.3 273.7 L 141.9 273.7 L 141.9 278.5 L 147.6 278.5 L 147.6 273.7 L 149.2 273.7 L 149.2 285.0 L 147.6 285.0 L 147.6 279.8 L 141.9 279.8 L 141.9 285.0 L 140.3 285.0 L 140.3 273.7 \" fill=\"#000000\"/>\n",
       "<path class=\"legend\" d=\"M 156.9 279.0 Q 158.0 279.4, 158.6 280.0 Q 159.1 280.7, 159.1 281.7 Q 159.1 283.2, 158.1 284.1 Q 157.1 285.0, 155.3 285.0 L 151.4 285.0 L 151.4 273.7 L 154.8 273.7 Q 156.7 273.7, 157.7 274.5 Q 158.7 275.2, 158.7 276.7 Q 158.7 278.4, 156.9 279.0 M 153.0 275.0 L 153.0 278.5 L 154.8 278.5 Q 155.9 278.5, 156.5 278.1 Q 157.1 277.6, 157.1 276.7 Q 157.1 275.0, 154.8 275.0 L 153.0 275.0 M 155.3 283.7 Q 156.4 283.7, 156.9 283.2 Q 157.5 282.7, 157.5 281.7 Q 157.5 280.7, 156.9 280.3 Q 156.2 279.8, 155.0 279.8 L 153.0 279.8 L 153.0 283.7 L 155.3 283.7 \" fill=\"#000000\"/>\n",
       "<path class=\"legend\" d=\"M 169.1 285.0 L 168.0 281.7 L 163.5 281.7 L 162.3 285.0 L 160.8 285.0 L 164.7 273.7 L 166.6 273.7 L 170.6 285.0 L 169.1 285.0 M 163.9 280.4 L 167.5 280.4 L 165.7 275.3 L 163.9 280.4 \" fill=\"#000000\"/>\n",
       "</svg>"
      ],
      "text/plain": [
       "<IPython.core.display.SVG object>"
      ]
     },
     "metadata": {},
     "output_type": "display_data"
    },
    {
     "data": {
      "text/plain": [
       "'Nc1cc(O)cc(C(=O)[S])c1'"
      ]
     },
     "metadata": {},
     "output_type": "display_data"
    },
    {
     "data": {
      "image/svg+xml": [
       "<svg xmlns=\"http://www.w3.org/2000/svg\" xmlns:rdkit=\"http://www.rdkit.org/xml\" xmlns:xlink=\"http://www.w3.org/1999/xlink\" version=\"1.1\" baseProfile=\"full\" xml:space=\"preserve\" width=\"300px\" height=\"300px\" viewBox=\"0 0 300 300\">\n",
       "<!-- END OF HEADER -->\n",
       "<rect style=\"opacity:1.0;fill:#FFFFFF;stroke:none\" width=\"300.0\" height=\"300.0\" x=\"0.0\" y=\"0.0\"> </rect>\n",
       "<path class=\"bond-0 atom-0 atom-1\" d=\"M 15.0,79.9 L 80.1,117.5\" style=\"fill:none;fill-rule:evenodd;stroke:#000000;stroke-width:2.0px;stroke-linecap:butt;stroke-linejoin:miter;stroke-opacity:1\"/>\n",
       "<path class=\"bond-1 atom-1 atom-2\" d=\"M 80.1,117.5 L 145.1,79.9\" style=\"fill:none;fill-rule:evenodd;stroke:#000000;stroke-width:2.0px;stroke-linecap:butt;stroke-linejoin:miter;stroke-opacity:1\"/>\n",
       "<path class=\"bond-2 atom-2 atom-3\" d=\"M 145.1,79.9 L 210.2,117.5\" style=\"fill:none;fill-rule:evenodd;stroke:#000000;stroke-width:2.0px;stroke-linecap:butt;stroke-linejoin:miter;stroke-opacity:1\"/>\n",
       "<path class=\"bond-3 atom-3 atom-4\" d=\"M 210.2,117.5 L 210.2,148.5\" style=\"fill:none;fill-rule:evenodd;stroke:#000000;stroke-width:2.0px;stroke-linecap:butt;stroke-linejoin:miter;stroke-opacity:1\"/>\n",
       "<path class=\"bond-3 atom-3 atom-4\" d=\"M 210.2,148.5 L 210.2,179.5\" style=\"fill:none;fill-rule:evenodd;stroke:#CCCC00;stroke-width:2.0px;stroke-linecap:butt;stroke-linejoin:miter;stroke-opacity:1\"/>\n",
       "<path class=\"bond-4 atom-3 atom-5\" d=\"M 210.2,124.0 L 238.0,108.0\" style=\"fill:none;fill-rule:evenodd;stroke:#000000;stroke-width:2.0px;stroke-linecap:butt;stroke-linejoin:miter;stroke-opacity:1\"/>\n",
       "<path class=\"bond-4 atom-3 atom-5\" d=\"M 238.0,108.0 L 265.8,91.9\" style=\"fill:none;fill-rule:evenodd;stroke:#FF0000;stroke-width:2.0px;stroke-linecap:butt;stroke-linejoin:miter;stroke-opacity:1\"/>\n",
       "<path class=\"bond-4 atom-3 atom-5\" d=\"M 204.5,114.3 L 232.4,98.2\" style=\"fill:none;fill-rule:evenodd;stroke:#000000;stroke-width:2.0px;stroke-linecap:butt;stroke-linejoin:miter;stroke-opacity:1\"/>\n",
       "<path class=\"bond-4 atom-3 atom-5\" d=\"M 232.4,98.2 L 260.2,82.1\" style=\"fill:none;fill-rule:evenodd;stroke:#FF0000;stroke-width:2.0px;stroke-linecap:butt;stroke-linejoin:miter;stroke-opacity:1\"/>\n",
       "<path class=\"bond-5 atom-1 atom-6\" d=\"M 80.1,117.5 L 80.1,192.6\" style=\"fill:none;fill-rule:evenodd;stroke:#000000;stroke-width:2.0px;stroke-linecap:butt;stroke-linejoin:miter;stroke-opacity:1\"/>\n",
       "<path d=\"M 141.9,81.8 L 145.1,79.9 L 148.4,81.8\" style=\"fill:none;stroke:#000000;stroke-width:2.0px;stroke-linecap:butt;stroke-linejoin:miter;stroke-opacity:1;\"/>\n",
       "<path d=\"M 206.9,115.6 L 210.2,117.5 L 210.2,119.1\" style=\"fill:none;stroke:#000000;stroke-width:2.0px;stroke-linecap:butt;stroke-linejoin:miter;stroke-opacity:1;\"/>\n",
       "<path class=\"atom-4\" d=\"M 204.2 199.9 Q 204.4 200.0, 205.4 200.4 Q 206.4 200.9, 207.5 201.1 Q 208.6 201.4, 209.7 201.4 Q 211.7 201.4, 212.8 200.4 Q 214.0 199.4, 214.0 197.7 Q 214.0 196.5, 213.4 195.8 Q 212.8 195.1, 211.9 194.7 Q 211.0 194.3, 209.5 193.9 Q 207.7 193.3, 206.5 192.8 Q 205.4 192.2, 204.6 191.1 Q 203.8 189.9, 203.8 188.0 Q 203.8 185.3, 205.6 183.7 Q 207.4 182.0, 211.0 182.0 Q 213.5 182.0, 216.3 183.2 L 215.6 185.5 Q 213.1 184.5, 211.1 184.5 Q 209.1 184.5, 207.9 185.3 Q 206.8 186.2, 206.8 187.6 Q 206.8 188.8, 207.4 189.5 Q 208.0 190.2, 208.8 190.6 Q 209.7 190.9, 211.1 191.4 Q 213.1 192.0, 214.2 192.6 Q 215.3 193.2, 216.2 194.4 Q 217.0 195.6, 217.0 197.7 Q 217.0 200.7, 215.0 202.2 Q 213.1 203.8, 209.8 203.8 Q 207.9 203.8, 206.4 203.4 Q 205.0 203.0, 203.4 202.3 L 204.2 199.9 \" fill=\"#CCCC00\"/>\n",
       "<path class=\"atom-5\" d=\"M 265.5 80.0 Q 265.5 74.9, 268.0 72.0 Q 270.5 69.2, 275.2 69.2 Q 280.0 69.2, 282.5 72.0 Q 285.0 74.9, 285.0 80.0 Q 285.0 85.2, 282.4 88.1 Q 279.9 91.0, 275.2 91.0 Q 270.5 91.0, 268.0 88.1 Q 265.5 85.2, 265.5 80.0 M 275.2 88.6 Q 278.5 88.6, 280.2 86.5 Q 282.0 84.3, 282.0 80.0 Q 282.0 75.8, 280.2 73.7 Q 278.5 71.6, 275.2 71.6 Q 272.0 71.6, 270.2 73.7 Q 268.5 75.8, 268.5 80.0 Q 268.5 84.3, 270.2 86.5 Q 272.0 88.6, 275.2 88.6 \" fill=\"#FF0000\"/>\n",
       "<path class=\"atom-4\" d=\"M 223.0,192.6 L 223.0,192.8 L 223.0,192.9 L 223.0,193.0 L 222.9,193.1 L 222.9,193.3 L 222.8,193.4 L 222.7,193.5 L 222.7,193.6 L 222.6,193.7 L 222.5,193.8 L 222.4,193.9 L 222.3,193.9 L 222.2,194.0 L 222.0,194.0 L 221.9,194.1 L 221.8,194.1 L 221.7,194.1 L 221.5,194.1 L 221.4,194.1 L 221.3,194.1 L 221.2,194.1 L 221.0,194.1 L 220.9,194.0 L 220.8,194.0 L 220.7,193.9 L 220.6,193.8 L 220.5,193.7 L 220.4,193.6 L 220.3,193.5 L 220.2,193.4 L 220.2,193.3 L 220.1,193.2 L 220.1,193.1 L 220.0,193.0 L 220.0,192.8 L 220.0,192.7 L 220.0,192.6 L 220.0,192.4 L 220.0,192.3 L 220.1,192.2 L 220.1,192.1 L 220.2,191.9 L 220.2,191.8 L 220.3,191.7 L 220.4,191.6 L 220.5,191.5 L 220.6,191.5 L 220.7,191.4 L 220.8,191.3 L 220.9,191.3 L 221.0,191.2 L 221.2,191.2 L 221.3,191.1 L 221.4,191.1 L 221.5,191.1 L 221.7,191.1 L 221.8,191.2 L 221.9,191.2 L 222.0,191.2 L 222.2,191.3 L 222.3,191.3 L 222.4,191.4 L 222.5,191.5 L 222.6,191.6 L 222.7,191.7 L 222.7,191.8 L 222.8,191.9 L 222.9,192.0 L 222.9,192.1 L 223.0,192.2 L 223.0,192.4 L 223.0,192.5 L 223.0,192.6 L 221.5,192.6 Z\" style=\"fill:#000000;fill-rule:evenodd;fill-opacity:1;stroke:#000000;stroke-width:0.0px;stroke-linecap:butt;stroke-linejoin:miter;stroke-opacity:1;\"/>\n",
       "<path class=\"legend\" d=\"M 131.0 273.5 L 132.5 273.5 L 132.5 274.9 L 131.0 274.9 L 131.0 273.5 M 131.0 276.6 L 132.5 276.6 L 132.5 284.8 L 131.0 284.8 L 131.0 276.6 \" fill=\"#000000\"/>\n",
       "<path class=\"legend\" d=\"M 134.8 283.1 Q 135.6 283.4, 136.1 283.6 Q 136.6 283.7, 137.2 283.7 Q 137.9 283.7, 138.3 283.4 Q 138.7 283.1, 138.7 282.5 Q 138.7 282.1, 138.5 281.9 Q 138.3 281.7, 138.0 281.6 Q 137.7 281.4, 137.0 281.2 Q 136.9 281.2, 136.2 280.9 Q 135.4 280.7, 135.0 280.1 Q 134.6 279.6, 134.6 278.8 Q 134.6 277.8, 135.4 277.1 Q 136.2 276.4, 137.7 276.4 Q 138.3 276.4, 138.8 276.6 Q 139.4 276.7, 140.0 277.0 L 139.6 278.2 Q 139.1 277.9, 138.6 277.8 Q 138.2 277.7, 137.7 277.7 Q 136.9 277.7, 136.5 278.0 Q 136.2 278.3, 136.2 278.8 Q 136.2 279.2, 136.5 279.4 Q 136.8 279.6, 137.4 279.9 Q 137.6 279.9, 137.8 280.0 L 138.1 280.1 Q 138.8 280.4, 139.2 280.6 Q 139.6 280.8, 139.9 281.3 Q 140.2 281.7, 140.2 282.5 Q 140.2 283.7, 139.4 284.3 Q 138.5 285.0, 137.2 285.0 Q 136.4 285.0, 135.7 284.8 Q 135.0 284.6, 134.4 284.3 L 134.8 283.1 \" fill=\"#000000\"/>\n",
       "<path class=\"legend\" d=\"M 141.6 280.7 Q 141.6 278.7, 142.6 277.6 Q 143.6 276.4, 145.5 276.4 Q 147.3 276.4, 148.3 277.6 Q 149.4 278.7, 149.4 280.7 Q 149.4 282.7, 148.3 283.8 Q 147.3 284.9, 145.5 284.9 Q 143.6 284.9, 142.6 283.8 Q 141.6 282.7, 141.6 280.7 M 143.1 280.7 Q 143.1 282.2, 143.7 283.0 Q 144.3 283.8, 145.5 283.8 Q 146.6 283.8, 147.2 283.0 Q 147.8 282.2, 147.8 280.7 Q 147.8 279.2, 147.2 278.4 Q 146.6 277.6, 145.5 277.6 Q 144.3 277.6, 143.7 278.4 Q 143.1 279.2, 143.1 280.7 \" fill=\"#000000\"/>\n",
       "<path class=\"legend\" d=\"M 156.9 276.6 L 158.3 276.6 L 155.4 284.8 L 153.5 284.8 L 150.6 276.6 L 152.2 276.6 L 154.5 283.5 L 156.9 276.6 \" fill=\"#000000\"/>\n",
       "<path class=\"legend\" d=\"M 159.0 282.6 Q 159.0 281.3, 160.1 280.6 Q 161.1 279.8, 163.0 279.8 L 164.3 279.8 L 164.3 279.5 Q 164.3 278.5, 163.8 278.1 Q 163.4 277.6, 162.4 277.6 Q 161.7 277.6, 161.2 277.8 Q 160.7 277.9, 159.9 278.2 L 159.5 277.2 Q 161.0 276.4, 162.4 276.4 Q 164.2 276.4, 165.0 277.2 Q 165.8 277.9, 165.8 279.5 L 165.8 284.8 L 164.6 284.8 Q 164.6 284.7, 164.5 284.5 Q 164.5 284.2, 164.4 283.8 Q 163.2 285.0, 161.7 285.0 Q 160.5 285.0, 159.7 284.3 Q 159.0 283.7, 159.0 282.6 M 160.5 282.6 Q 160.5 283.2, 160.9 283.5 Q 161.3 283.8, 162.0 283.8 Q 162.6 283.8, 163.2 283.5 Q 163.8 283.2, 164.3 282.7 L 164.3 281.0 L 163.1 281.0 Q 161.8 281.0, 161.2 281.4 Q 160.5 281.8, 160.5 282.6 \" fill=\"#000000\"/>\n",
       "<path class=\"legend\" d=\"M 167.5 272.7 L 169.0 272.7 L 169.0 284.8 L 167.5 284.8 L 167.5 272.7 \" fill=\"#000000\"/>\n",
       "</svg>"
      ],
      "text/plain": [
       "<IPython.core.display.SVG object>"
      ]
     },
     "metadata": {},
     "output_type": "display_data"
    },
    {
     "data": {
      "text/plain": [
       "'CC(C)CC(=O)[S]'"
      ]
     },
     "metadata": {},
     "output_type": "display_data"
    },
    {
     "data": {
      "image/svg+xml": [
       "<svg xmlns=\"http://www.w3.org/2000/svg\" xmlns:rdkit=\"http://www.rdkit.org/xml\" xmlns:xlink=\"http://www.w3.org/1999/xlink\" version=\"1.1\" baseProfile=\"full\" xml:space=\"preserve\" width=\"300px\" height=\"300px\" viewBox=\"0 0 300 300\">\n",
       "<!-- END OF HEADER -->\n",
       "<rect style=\"opacity:1.0;fill:#FFFFFF;stroke:none\" width=\"300.0\" height=\"300.0\" x=\"0.0\" y=\"0.0\"> </rect>\n",
       "<path class=\"bond-0 atom-0 atom-1\" d=\"M 248.6,136.4 L 226.4,136.4\" style=\"fill:none;fill-rule:evenodd;stroke:#0000FF;stroke-width:2.0px;stroke-linecap:butt;stroke-linejoin:miter;stroke-opacity:1\"/>\n",
       "<path class=\"bond-0 atom-0 atom-1\" d=\"M 226.4,136.4 L 204.3,136.4\" style=\"fill:none;fill-rule:evenodd;stroke:#000000;stroke-width:2.0px;stroke-linecap:butt;stroke-linejoin:miter;stroke-opacity:1\"/>\n",
       "<path class=\"bond-1 atom-1 atom-2\" d=\"M 204.3,136.4 L 178.4,181.1\" style=\"fill:none;fill-rule:evenodd;stroke:#000000;stroke-width:2.0px;stroke-linecap:butt;stroke-linejoin:miter;stroke-opacity:1\"/>\n",
       "<path class=\"bond-1 atom-1 atom-2\" d=\"M 195.3,136.4 L 174.0,173.3\" style=\"fill:none;fill-rule:evenodd;stroke:#000000;stroke-width:2.0px;stroke-linecap:butt;stroke-linejoin:miter;stroke-opacity:1\"/>\n",
       "<path class=\"bond-2 atom-2 atom-3\" d=\"M 178.4,181.1 L 126.8,181.1\" style=\"fill:none;fill-rule:evenodd;stroke:#000000;stroke-width:2.0px;stroke-linecap:butt;stroke-linejoin:miter;stroke-opacity:1\"/>\n",
       "<path class=\"bond-3 atom-3 atom-4\" d=\"M 126.8,181.1 L 101.0,136.4\" style=\"fill:none;fill-rule:evenodd;stroke:#000000;stroke-width:2.0px;stroke-linecap:butt;stroke-linejoin:miter;stroke-opacity:1\"/>\n",
       "<path class=\"bond-3 atom-3 atom-4\" d=\"M 131.3,173.3 L 109.9,136.4\" style=\"fill:none;fill-rule:evenodd;stroke:#000000;stroke-width:2.0px;stroke-linecap:butt;stroke-linejoin:miter;stroke-opacity:1\"/>\n",
       "<path class=\"bond-4 atom-4 atom-5\" d=\"M 101.0,136.4 L 49.4,136.4\" style=\"fill:none;fill-rule:evenodd;stroke:#000000;stroke-width:2.0px;stroke-linecap:butt;stroke-linejoin:miter;stroke-opacity:1\"/>\n",
       "<path class=\"bond-5 atom-5 atom-6\" d=\"M 49.4,136.4 L 39.1,154.2\" style=\"fill:none;fill-rule:evenodd;stroke:#000000;stroke-width:2.0px;stroke-linecap:butt;stroke-linejoin:miter;stroke-opacity:1\"/>\n",
       "<path class=\"bond-5 atom-5 atom-6\" d=\"M 39.1,154.2 L 28.8,172.1\" style=\"fill:none;fill-rule:evenodd;stroke:#CCCC00;stroke-width:2.0px;stroke-linecap:butt;stroke-linejoin:miter;stroke-opacity:1\"/>\n",
       "<path class=\"bond-6 atom-5 atom-7\" d=\"M 53.8,136.4 L 43.1,117.7\" style=\"fill:none;fill-rule:evenodd;stroke:#000000;stroke-width:2.0px;stroke-linecap:butt;stroke-linejoin:miter;stroke-opacity:1\"/>\n",
       "<path class=\"bond-6 atom-5 atom-7\" d=\"M 43.1,117.7 L 32.3,99.0\" style=\"fill:none;fill-rule:evenodd;stroke:#FF0000;stroke-width:2.0px;stroke-linecap:butt;stroke-linejoin:miter;stroke-opacity:1\"/>\n",
       "<path class=\"bond-6 atom-5 atom-7\" d=\"M 47.1,140.2 L 36.4,121.6\" style=\"fill:none;fill-rule:evenodd;stroke:#000000;stroke-width:2.0px;stroke-linecap:butt;stroke-linejoin:miter;stroke-opacity:1\"/>\n",
       "<path class=\"bond-6 atom-5 atom-7\" d=\"M 36.4,121.6 L 25.6,102.9\" style=\"fill:none;fill-rule:evenodd;stroke:#FF0000;stroke-width:2.0px;stroke-linecap:butt;stroke-linejoin:miter;stroke-opacity:1\"/>\n",
       "<path class=\"bond-7 atom-4 atom-8\" d=\"M 101.0,136.4 L 126.8,91.6\" style=\"fill:none;fill-rule:evenodd;stroke:#000000;stroke-width:2.0px;stroke-linecap:butt;stroke-linejoin:miter;stroke-opacity:1\"/>\n",
       "<path class=\"bond-8 atom-8 atom-9\" d=\"M 126.8,91.6 L 178.4,91.6\" style=\"fill:none;fill-rule:evenodd;stroke:#000000;stroke-width:2.0px;stroke-linecap:butt;stroke-linejoin:miter;stroke-opacity:1\"/>\n",
       "<path class=\"bond-8 atom-8 atom-9\" d=\"M 131.3,99.4 L 174.0,99.4\" style=\"fill:none;fill-rule:evenodd;stroke:#000000;stroke-width:2.0px;stroke-linecap:butt;stroke-linejoin:miter;stroke-opacity:1\"/>\n",
       "<path class=\"bond-9 atom-9 atom-1\" d=\"M 178.4,91.6 L 204.3,136.4\" style=\"fill:none;fill-rule:evenodd;stroke:#000000;stroke-width:2.0px;stroke-linecap:butt;stroke-linejoin:miter;stroke-opacity:1\"/>\n",
       "<path d=\"M 179.7,178.8 L 178.4,181.1 L 175.9,181.1\" style=\"fill:none;stroke:#000000;stroke-width:2.0px;stroke-linecap:butt;stroke-linejoin:miter;stroke-opacity:1;\"/>\n",
       "<path d=\"M 129.4,181.1 L 126.8,181.1 L 125.5,178.8\" style=\"fill:none;stroke:#000000;stroke-width:2.0px;stroke-linecap:butt;stroke-linejoin:miter;stroke-opacity:1;\"/>\n",
       "<path d=\"M 52.0,136.4 L 49.4,136.4 L 48.9,137.2\" style=\"fill:none;stroke:#000000;stroke-width:2.0px;stroke-linecap:butt;stroke-linejoin:miter;stroke-opacity:1;\"/>\n",
       "<path d=\"M 125.5,93.9 L 126.8,91.6 L 129.4,91.6\" style=\"fill:none;stroke:#000000;stroke-width:2.0px;stroke-linecap:butt;stroke-linejoin:miter;stroke-opacity:1;\"/>\n",
       "<path d=\"M 175.9,91.6 L 178.4,91.6 L 179.7,93.9\" style=\"fill:none;stroke:#000000;stroke-width:2.0px;stroke-linecap:butt;stroke-linejoin:miter;stroke-opacity:1;\"/>\n",
       "<path class=\"atom-0\" d=\"M 252.7 129.0 L 257.4 136.8 Q 257.9 137.6, 258.7 138.9 Q 259.4 140.3, 259.5 140.4 L 259.5 129.0 L 261.4 129.0 L 261.4 143.7 L 259.4 143.7 L 254.3 135.2 Q 253.7 134.2, 253.0 133.1 Q 252.4 131.9, 252.2 131.6 L 252.2 143.7 L 250.3 143.7 L 250.3 129.0 L 252.7 129.0 \" fill=\"#0000FF\"/>\n",
       "<path class=\"atom-0\" d=\"M 264.2 129.0 L 266.2 129.0 L 266.2 135.3 L 273.7 135.3 L 273.7 129.0 L 275.7 129.0 L 275.7 143.7 L 273.7 143.7 L 273.7 136.9 L 266.2 136.9 L 266.2 143.7 L 264.2 143.7 L 264.2 129.0 \" fill=\"#0000FF\"/>\n",
       "<path class=\"atom-0\" d=\"M 278.5 143.2 Q 278.9 142.2, 279.7 141.7 Q 280.6 141.2, 281.7 141.2 Q 283.2 141.2, 284.0 142.0 Q 284.8 142.8, 284.8 144.2 Q 284.8 145.6, 283.8 147.0 Q 282.7 148.3, 280.5 149.9 L 285.0 149.9 L 285.0 151.0 L 278.5 151.0 L 278.5 150.1 Q 280.3 148.8, 281.4 147.8 Q 282.4 146.9, 283.0 146.0 Q 283.5 145.2, 283.5 144.3 Q 283.5 143.3, 283.0 142.8 Q 282.5 142.3, 281.7 142.3 Q 281.0 142.3, 280.4 142.6 Q 279.9 142.9, 279.6 143.6 L 278.5 143.2 \" fill=\"#0000FF\"/>\n",
       "<path class=\"atom-6\" d=\"M 19.4 186.1 Q 19.6 186.1, 20.3 186.4 Q 21.0 186.7, 21.7 186.9 Q 22.5 187.1, 23.2 187.1 Q 24.6 187.1, 25.4 186.4 Q 26.2 185.7, 26.2 184.6 Q 26.2 183.8, 25.8 183.3 Q 25.4 182.8, 24.8 182.5 Q 24.2 182.2, 23.1 181.9 Q 21.8 181.5, 21.0 181.1 Q 20.3 180.8, 19.7 180.0 Q 19.2 179.2, 19.2 177.9 Q 19.2 176.0, 20.4 174.9 Q 21.7 173.8, 24.2 173.8 Q 25.9 173.8, 27.8 174.6 L 27.3 176.2 Q 25.5 175.4, 24.2 175.4 Q 22.8 175.4, 22.0 176.0 Q 21.2 176.6, 21.2 177.6 Q 21.2 178.4, 21.6 178.9 Q 22.1 179.4, 22.6 179.6 Q 23.2 179.9, 24.2 180.2 Q 25.5 180.6, 26.3 181.0 Q 27.1 181.5, 27.7 182.3 Q 28.2 183.1, 28.2 184.6 Q 28.2 186.6, 26.9 187.7 Q 25.5 188.7, 23.3 188.7 Q 22.0 188.7, 21.0 188.5 Q 20.0 188.2, 18.9 187.7 L 19.4 186.1 \" fill=\"#CCCC00\"/>\n",
       "<path class=\"atom-7\" d=\"M 16.8 91.7 Q 16.8 88.2, 18.6 86.2 Q 20.3 84.3, 23.6 84.3 Q 26.8 84.3, 28.5 86.2 Q 30.3 88.2, 30.3 91.7 Q 30.3 95.2, 28.5 97.3 Q 26.8 99.3, 23.6 99.3 Q 20.3 99.3, 18.6 97.3 Q 16.8 95.3, 16.8 91.7 M 23.6 97.6 Q 25.8 97.6, 27.0 96.1 Q 28.2 94.6, 28.2 91.7 Q 28.2 88.8, 27.0 87.4 Q 25.8 85.9, 23.6 85.9 Q 21.3 85.9, 20.1 87.3 Q 18.9 88.8, 18.9 91.7 Q 18.9 94.6, 20.1 96.1 Q 21.3 97.6, 23.6 97.6 \" fill=\"#FF0000\"/>\n",
       "<path class=\"atom-6\" d=\"M 16.8,181.1 L 16.8,181.2 L 16.8,181.2 L 16.8,181.3 L 16.7,181.4 L 16.7,181.5 L 16.7,181.6 L 16.6,181.7 L 16.6,181.7 L 16.5,181.8 L 16.4,181.8 L 16.4,181.9 L 16.3,182.0 L 16.2,182.0 L 16.1,182.0 L 16.1,182.1 L 16.0,182.1 L 15.9,182.1 L 15.8,182.1 L 15.7,182.1 L 15.6,182.1 L 15.5,182.1 L 15.4,182.0 L 15.4,182.0 L 15.3,182.0 L 15.2,181.9 L 15.1,181.9 L 15.1,181.8 L 15.0,181.8 L 14.9,181.7 L 14.9,181.6 L 14.9,181.5 L 14.8,181.5 L 14.8,181.4 L 14.8,181.3 L 14.8,181.2 L 14.7,181.1 L 14.7,181.0 L 14.8,180.9 L 14.8,180.8 L 14.8,180.8 L 14.8,180.7 L 14.9,180.6 L 14.9,180.5 L 14.9,180.4 L 15.0,180.4 L 15.1,180.3 L 15.1,180.3 L 15.2,180.2 L 15.3,180.2 L 15.4,180.1 L 15.4,180.1 L 15.5,180.1 L 15.6,180.0 L 15.7,180.0 L 15.8,180.0 L 15.9,180.0 L 16.0,180.1 L 16.1,180.1 L 16.1,180.1 L 16.2,180.1 L 16.3,180.2 L 16.4,180.2 L 16.4,180.3 L 16.5,180.3 L 16.6,180.4 L 16.6,180.5 L 16.7,180.6 L 16.7,180.6 L 16.7,180.7 L 16.8,180.8 L 16.8,180.9 L 16.8,181.0 L 16.8,181.1 L 15.8,181.1 Z\" style=\"fill:#000000;fill-rule:evenodd;fill-opacity:1;stroke:#000000;stroke-width:0.0px;stroke-linecap:butt;stroke-linejoin:miter;stroke-opacity:1;\"/>\n",
       "<path class=\"legend\" d=\"M 133.9 273.7 Q 135.8 273.7, 136.8 274.6 Q 137.8 275.4, 137.8 277.0 Q 137.8 278.6, 136.8 279.5 Q 135.8 280.3, 133.9 280.3 L 132.1 280.3 L 132.1 285.0 L 130.6 285.0 L 130.6 273.7 L 133.9 273.7 M 133.9 279.1 Q 135.0 279.1, 135.6 278.5 Q 136.2 278.0, 136.2 277.0 Q 136.2 276.0, 135.6 275.5 Q 135.0 275.0, 133.9 275.0 L 132.1 275.0 L 132.1 279.1 L 133.9 279.1 \" fill=\"#000000\"/>\n",
       "<path class=\"legend\" d=\"M 147.8 285.0 L 146.6 281.7 L 142.1 281.7 L 140.9 285.0 L 139.4 285.0 L 143.3 273.7 L 145.2 273.7 L 149.2 285.0 L 147.8 285.0 M 142.5 280.4 L 146.1 280.4 L 144.3 275.3 L 142.5 280.4 \" fill=\"#000000\"/>\n",
       "<path class=\"legend\" d=\"M 155.8 279.0 Q 156.9 279.4, 157.4 280.0 Q 158.0 280.7, 158.0 281.7 Q 158.0 283.2, 157.0 284.1 Q 156.0 285.0, 154.1 285.0 L 150.3 285.0 L 150.3 273.7 L 153.6 273.7 Q 155.6 273.7, 156.6 274.5 Q 157.5 275.2, 157.5 276.7 Q 157.5 278.4, 155.8 279.0 M 151.8 275.0 L 151.8 278.5 L 153.6 278.5 Q 154.8 278.5, 155.3 278.1 Q 155.9 277.6, 155.9 276.7 Q 155.9 275.0, 153.6 275.0 L 151.8 275.0 M 154.1 283.7 Q 155.2 283.7, 155.8 283.2 Q 156.4 282.7, 156.4 281.7 Q 156.4 280.7, 155.7 280.3 Q 155.1 279.8, 153.9 279.8 L 151.8 279.8 L 151.8 283.7 L 154.1 283.7 \" fill=\"#000000\"/>\n",
       "<path class=\"legend\" d=\"M 168.0 285.0 L 166.8 281.7 L 162.3 281.7 L 161.1 285.0 L 159.6 285.0 L 163.5 273.7 L 165.4 273.7 L 169.4 285.0 L 168.0 285.0 M 162.7 280.4 L 166.3 280.4 L 164.5 275.3 L 162.7 280.4 \" fill=\"#000000\"/>\n",
       "</svg>"
      ],
      "text/plain": [
       "<IPython.core.display.SVG object>"
      ]
     },
     "metadata": {},
     "output_type": "display_data"
    },
    {
     "data": {
      "text/plain": [
       "'Nc1ccc(C(=O)[S])cc1'"
      ]
     },
     "metadata": {},
     "output_type": "display_data"
    },
    {
     "data": {
      "image/svg+xml": [
       "<svg xmlns=\"http://www.w3.org/2000/svg\" xmlns:rdkit=\"http://www.rdkit.org/xml\" xmlns:xlink=\"http://www.w3.org/1999/xlink\" version=\"1.1\" baseProfile=\"full\" xml:space=\"preserve\" width=\"300px\" height=\"300px\" viewBox=\"0 0 300 300\">\n",
       "<!-- END OF HEADER -->\n",
       "<rect style=\"opacity:1.0;fill:#FFFFFF;stroke:none\" width=\"300.0\" height=\"300.0\" x=\"0.0\" y=\"0.0\"> </rect>\n",
       "<path class=\"bond-0 atom-0 atom-1\" d=\"M 268.1,91.0 L 251.7,108.5\" style=\"fill:none;fill-rule:evenodd;stroke:#CCCC00;stroke-width:2.0px;stroke-linecap:butt;stroke-linejoin:miter;stroke-opacity:1\"/>\n",
       "<path class=\"bond-0 atom-0 atom-1\" d=\"M 251.7,108.5 L 235.3,125.9\" style=\"fill:none;fill-rule:evenodd;stroke:#000000;stroke-width:2.0px;stroke-linecap:butt;stroke-linejoin:miter;stroke-opacity:1\"/>\n",
       "<path class=\"bond-1 atom-1 atom-2\" d=\"M 235.3,125.9 L 178.5,112.5\" style=\"fill:none;fill-rule:evenodd;stroke:#000000;stroke-width:2.0px;stroke-linecap:butt;stroke-linejoin:miter;stroke-opacity:1\"/>\n",
       "<path class=\"bond-2 atom-2 atom-3\" d=\"M 178.5,112.5 L 155.9,58.6\" style=\"fill:none;fill-rule:evenodd;stroke:#000000;stroke-width:2.0px;stroke-linecap:butt;stroke-linejoin:miter;stroke-opacity:1\"/>\n",
       "<path class=\"bond-2 atom-2 atom-3\" d=\"M 168.0,110.0 L 150.3,67.9\" style=\"fill:none;fill-rule:evenodd;stroke:#000000;stroke-width:2.0px;stroke-linecap:butt;stroke-linejoin:miter;stroke-opacity:1\"/>\n",
       "<path class=\"bond-3 atom-3 atom-4\" d=\"M 155.9,58.6 L 130.9,60.7\" style=\"fill:none;fill-rule:evenodd;stroke:#000000;stroke-width:2.0px;stroke-linecap:butt;stroke-linejoin:miter;stroke-opacity:1\"/>\n",
       "<path class=\"bond-3 atom-3 atom-4\" d=\"M 130.9,60.7 L 105.9,62.8\" style=\"fill:none;fill-rule:evenodd;stroke:#0000FF;stroke-width:2.0px;stroke-linecap:butt;stroke-linejoin:miter;stroke-opacity:1\"/>\n",
       "<path class=\"bond-4 atom-4 atom-5\" d=\"M 95.3,73.6 L 89.8,97.0\" style=\"fill:none;fill-rule:evenodd;stroke:#0000FF;stroke-width:2.0px;stroke-linecap:butt;stroke-linejoin:miter;stroke-opacity:1\"/>\n",
       "<path class=\"bond-4 atom-4 atom-5\" d=\"M 89.8,97.0 L 84.3,120.3\" style=\"fill:none;fill-rule:evenodd;stroke:#000000;stroke-width:2.0px;stroke-linecap:butt;stroke-linejoin:miter;stroke-opacity:1\"/>\n",
       "<path class=\"bond-5 atom-5 atom-6\" d=\"M 84.3,120.3 L 58.9,130.9\" style=\"fill:none;fill-rule:evenodd;stroke:#000000;stroke-width:2.0px;stroke-linecap:butt;stroke-linejoin:miter;stroke-opacity:1\"/>\n",
       "<path class=\"bond-5 atom-5 atom-6\" d=\"M 58.9,130.9 L 33.5,141.6\" style=\"fill:none;fill-rule:evenodd;stroke:#00CC00;stroke-width:2.0px;stroke-linecap:butt;stroke-linejoin:miter;stroke-opacity:1\"/>\n",
       "<path class=\"bond-6 atom-5 atom-7\" d=\"M 84.3,120.3 L 134.2,150.6\" style=\"fill:none;fill-rule:evenodd;stroke:#000000;stroke-width:2.0px;stroke-linecap:butt;stroke-linejoin:miter;stroke-opacity:1\"/>\n",
       "<path class=\"bond-6 atom-5 atom-7\" d=\"M 94.3,116.1 L 133.4,139.8\" style=\"fill:none;fill-rule:evenodd;stroke:#000000;stroke-width:2.0px;stroke-linecap:butt;stroke-linejoin:miter;stroke-opacity:1\"/>\n",
       "<path class=\"bond-7 atom-7 atom-8\" d=\"M 134.2,150.6 L 136.2,174.8\" style=\"fill:none;fill-rule:evenodd;stroke:#000000;stroke-width:2.0px;stroke-linecap:butt;stroke-linejoin:miter;stroke-opacity:1\"/>\n",
       "<path class=\"bond-7 atom-7 atom-8\" d=\"M 136.2,174.8 L 138.3,199.0\" style=\"fill:none;fill-rule:evenodd;stroke:#00CC00;stroke-width:2.0px;stroke-linecap:butt;stroke-linejoin:miter;stroke-opacity:1\"/>\n",
       "<path class=\"bond-8 atom-1 atom-9\" d=\"M 230.4,124.7 L 237.6,148.7\" style=\"fill:none;fill-rule:evenodd;stroke:#000000;stroke-width:2.0px;stroke-linecap:butt;stroke-linejoin:miter;stroke-opacity:1\"/>\n",
       "<path class=\"bond-8 atom-1 atom-9\" d=\"M 237.6,148.7 L 244.8,172.8\" style=\"fill:none;fill-rule:evenodd;stroke:#FF0000;stroke-width:2.0px;stroke-linecap:butt;stroke-linejoin:miter;stroke-opacity:1\"/>\n",
       "<path class=\"bond-8 atom-1 atom-9\" d=\"M 238.8,122.2 L 246.0,146.2\" style=\"fill:none;fill-rule:evenodd;stroke:#000000;stroke-width:2.0px;stroke-linecap:butt;stroke-linejoin:miter;stroke-opacity:1\"/>\n",
       "<path class=\"bond-8 atom-1 atom-9\" d=\"M 246.0,146.2 L 253.2,170.2\" style=\"fill:none;fill-rule:evenodd;stroke:#FF0000;stroke-width:2.0px;stroke-linecap:butt;stroke-linejoin:miter;stroke-opacity:1\"/>\n",
       "<path class=\"bond-9 atom-7 atom-2\" d=\"M 134.2,150.6 L 178.5,112.5\" style=\"fill:none;fill-rule:evenodd;stroke:#000000;stroke-width:2.0px;stroke-linecap:butt;stroke-linejoin:miter;stroke-opacity:1\"/>\n",
       "<path d=\"M 236.1,125.0 L 235.3,125.9 L 232.5,125.2\" style=\"fill:none;stroke:#000000;stroke-width:2.0px;stroke-linecap:butt;stroke-linejoin:miter;stroke-opacity:1;\"/>\n",
       "<path d=\"M 157.1,61.3 L 155.9,58.6 L 154.7,58.7\" style=\"fill:none;stroke:#000000;stroke-width:2.0px;stroke-linecap:butt;stroke-linejoin:miter;stroke-opacity:1;\"/>\n",
       "<path class=\"atom-0\" d=\"M 270.7 89.0 Q 270.8 89.1, 271.6 89.4 Q 272.4 89.8, 273.2 90.0 Q 274.1 90.2, 274.9 90.2 Q 276.5 90.2, 277.4 89.4 Q 278.3 88.6, 278.3 87.3 Q 278.3 86.4, 277.8 85.8 Q 277.4 85.3, 276.7 85.0 Q 276.0 84.7, 274.8 84.3 Q 273.4 83.9, 272.5 83.5 Q 271.6 83.0, 271.0 82.2 Q 270.4 81.3, 270.4 79.8 Q 270.4 77.7, 271.8 76.4 Q 273.2 75.1, 276.0 75.1 Q 277.9 75.1, 280.1 76.0 L 279.5 77.8 Q 277.6 77.0, 276.1 77.0 Q 274.5 77.0, 273.6 77.7 Q 272.7 78.3, 272.7 79.5 Q 272.7 80.4, 273.1 80.9 Q 273.6 81.5, 274.3 81.8 Q 274.9 82.1, 276.1 82.4 Q 277.6 82.9, 278.4 83.3 Q 279.3 83.8, 280.0 84.8 Q 280.6 85.7, 280.6 87.3 Q 280.6 89.6, 279.1 90.8 Q 277.6 92.1, 275.0 92.1 Q 273.5 92.1, 272.4 91.7 Q 271.3 91.4, 270.0 90.9 L 270.7 89.0 \" fill=\"#CCCC00\"/>\n",
       "<path class=\"atom-4\" d=\"M 75.3 55.2 L 77.5 55.2 L 77.5 62.2 L 86.0 62.2 L 86.0 55.2 L 88.2 55.2 L 88.2 71.7 L 86.0 71.7 L 86.0 64.1 L 77.5 64.1 L 77.5 71.7 L 75.3 71.7 L 75.3 55.2 \" fill=\"#0000FF\"/>\n",
       "<path class=\"atom-4\" d=\"M 94.1 55.2 L 99.5 63.9 Q 100.0 64.8, 100.9 66.4 Q 101.8 67.9, 101.8 68.0 L 101.8 55.2 L 104.0 55.2 L 104.0 71.7 L 101.8 71.7 L 95.9 62.1 Q 95.3 61.0, 94.5 59.7 Q 93.8 58.4, 93.6 58.1 L 93.6 71.7 L 91.5 71.7 L 91.5 55.2 L 94.1 55.2 \" fill=\"#0000FF\"/>\n",
       "<path class=\"atom-6\" d=\"M 15.0 143.4 Q 15.0 139.3, 16.9 137.1 Q 18.9 135.0, 22.5 135.0 Q 25.9 135.0, 27.8 137.4 L 26.2 138.6 Q 24.9 136.9, 22.5 136.9 Q 20.0 136.9, 18.7 138.6 Q 17.4 140.2, 17.4 143.4 Q 17.4 146.7, 18.7 148.3 Q 20.1 150.0, 22.8 150.0 Q 24.6 150.0, 26.7 148.9 L 27.4 150.7 Q 26.5 151.2, 25.2 151.6 Q 23.9 151.9, 22.4 151.9 Q 18.9 151.9, 16.9 149.7 Q 15.0 147.5, 15.0 143.4 \" fill=\"#00CC00\"/>\n",
       "<path class=\"atom-6\" d=\"M 29.4 134.0 L 31.6 134.0 L 31.6 151.7 L 29.4 151.7 L 29.4 134.0 \" fill=\"#00CC00\"/>\n",
       "<path class=\"atom-8\" d=\"M 132.7 209.3 Q 132.7 205.2, 134.6 203.1 Q 136.5 200.9, 140.2 200.9 Q 143.6 200.9, 145.4 203.3 L 143.9 204.6 Q 142.6 202.8, 140.2 202.8 Q 137.7 202.8, 136.4 204.5 Q 135.1 206.1, 135.1 209.3 Q 135.1 212.6, 136.4 214.3 Q 137.8 216.0, 140.5 216.0 Q 142.3 216.0, 144.4 214.9 L 145.1 216.6 Q 144.2 217.2, 142.9 217.5 Q 141.6 217.8, 140.1 217.8 Q 136.5 217.8, 134.6 215.6 Q 132.7 213.4, 132.7 209.3 \" fill=\"#00CC00\"/>\n",
       "<path class=\"atom-8\" d=\"M 147.1 199.9 L 149.3 199.9 L 149.3 217.6 L 147.1 217.6 L 147.1 199.9 \" fill=\"#00CC00\"/>\n",
       "<path class=\"atom-9\" d=\"M 244.5 181.8 Q 244.5 177.9, 246.5 175.6 Q 248.4 173.4, 252.1 173.4 Q 255.8 173.4, 257.7 175.6 Q 259.7 177.9, 259.7 181.8 Q 259.7 185.8, 257.7 188.1 Q 255.7 190.4, 252.1 190.4 Q 248.5 190.4, 246.5 188.1 Q 244.5 185.9, 244.5 181.8 M 252.1 188.5 Q 254.6 188.5, 256.0 186.8 Q 257.4 185.1, 257.4 181.8 Q 257.4 178.6, 256.0 176.9 Q 254.6 175.3, 252.1 175.3 Q 249.6 175.3, 248.2 176.9 Q 246.9 178.6, 246.9 181.8 Q 246.9 185.2, 248.2 186.8 Q 249.6 188.5, 252.1 188.5 \" fill=\"#FF0000\"/>\n",
       "<path class=\"atom-0\" d=\"M 285.3,83.4 L 285.3,83.5 L 285.3,83.6 L 285.3,83.7 L 285.2,83.8 L 285.2,83.9 L 285.1,83.9 L 285.1,84.0 L 285.0,84.1 L 285.0,84.2 L 284.9,84.3 L 284.8,84.3 L 284.7,84.4 L 284.6,84.4 L 284.5,84.5 L 284.4,84.5 L 284.3,84.5 L 284.2,84.5 L 284.1,84.5 L 284.0,84.5 L 283.9,84.5 L 283.9,84.5 L 283.8,84.5 L 283.7,84.4 L 283.6,84.4 L 283.5,84.3 L 283.4,84.3 L 283.3,84.2 L 283.3,84.1 L 283.2,84.1 L 283.1,84.0 L 283.1,83.9 L 283.0,83.8 L 283.0,83.7 L 283.0,83.6 L 283.0,83.5 L 283.0,83.4 L 283.0,83.3 L 283.0,83.2 L 283.0,83.1 L 283.0,83.0 L 283.0,82.9 L 283.1,82.8 L 283.1,82.7 L 283.2,82.7 L 283.3,82.6 L 283.3,82.5 L 283.4,82.4 L 283.5,82.4 L 283.6,82.3 L 283.7,82.3 L 283.8,82.3 L 283.9,82.2 L 283.9,82.2 L 284.0,82.2 L 284.1,82.2 L 284.2,82.2 L 284.3,82.2 L 284.4,82.2 L 284.5,82.3 L 284.6,82.3 L 284.7,82.4 L 284.8,82.4 L 284.9,82.5 L 285.0,82.5 L 285.0,82.6 L 285.1,82.7 L 285.1,82.8 L 285.2,82.9 L 285.2,83.0 L 285.3,83.1 L 285.3,83.2 L 285.3,83.3 L 285.3,83.4 L 284.1,83.4 Z\" style=\"fill:#000000;fill-rule:evenodd;fill-opacity:1;stroke:#000000;stroke-width:0.0px;stroke-linecap:butt;stroke-linejoin:miter;stroke-opacity:1;\"/>\n",
       "<path class=\"legend\" d=\"M 139.7 273.5 Q 142.3 273.5, 143.6 275.0 Q 144.9 276.5, 144.9 279.2 Q 144.9 281.8, 143.6 283.4 Q 142.2 284.9, 139.7 284.9 L 136.1 284.9 L 136.1 273.5 L 139.7 273.5 M 139.7 283.6 Q 141.5 283.6, 142.4 282.5 Q 143.3 281.4, 143.3 279.2 Q 143.3 277.0, 142.4 275.9 Q 141.5 274.8, 139.7 274.8 L 137.6 274.8 L 137.6 283.6 L 139.7 283.6 \" fill=\"#000000\"/>\n",
       "<path class=\"legend\" d=\"M 146.5 279.2 Q 146.5 276.4, 147.8 274.9 Q 149.1 273.4, 151.6 273.4 Q 154.0 273.4, 155.2 275.0 L 154.2 275.9 Q 153.3 274.7, 151.6 274.7 Q 149.9 274.7, 149.0 275.9 Q 148.1 277.0, 148.1 279.2 Q 148.1 281.4, 149.0 282.6 Q 150.0 283.7, 151.8 283.7 Q 153.1 283.7, 154.5 283.0 L 155.0 284.2 Q 154.4 284.6, 153.5 284.8 Q 152.6 285.0, 151.6 285.0 Q 149.1 285.0, 147.8 283.5 Q 146.5 282.0, 146.5 279.2 \" fill=\"#000000\"/>\n",
       "<path class=\"legend\" d=\"M 160.0 273.5 Q 162.0 273.5, 162.9 274.4 Q 163.9 275.3, 163.9 276.9 Q 163.9 278.4, 162.9 279.3 Q 161.9 280.2, 160.0 280.2 L 158.2 280.2 L 158.2 284.9 L 156.7 284.9 L 156.7 273.5 L 160.0 273.5 M 160.0 278.9 Q 161.1 278.9, 161.7 278.4 Q 162.3 277.9, 162.3 276.9 Q 162.3 275.8, 161.7 275.3 Q 161.2 274.8, 160.0 274.8 L 158.2 274.8 L 158.2 278.9 L 160.0 278.9 \" fill=\"#000000\"/>\n",
       "</svg>"
      ],
      "text/plain": [
       "<IPython.core.display.SVG object>"
      ]
     },
     "metadata": {},
     "output_type": "display_data"
    },
    {
     "data": {
      "text/plain": [
       "'O=C([S])c1c[nH]c(Cl)c1Cl'"
      ]
     },
     "metadata": {},
     "output_type": "display_data"
    },
    {
     "data": {
      "image/svg+xml": [
       "<svg xmlns=\"http://www.w3.org/2000/svg\" xmlns:rdkit=\"http://www.rdkit.org/xml\" xmlns:xlink=\"http://www.w3.org/1999/xlink\" version=\"1.1\" baseProfile=\"full\" xml:space=\"preserve\" width=\"300px\" height=\"300px\" viewBox=\"0 0 300 300\">\n",
       "<!-- END OF HEADER -->\n",
       "<rect style=\"opacity:1.0;fill:#FFFFFF;stroke:none\" width=\"300.0\" height=\"300.0\" x=\"0.0\" y=\"0.0\"> </rect>\n",
       "<path class=\"bond-0 atom-0 atom-1\" d=\"M 53.4,102.8 L 70.6,117.6\" style=\"fill:none;fill-rule:evenodd;stroke:#0000FF;stroke-width:2.0px;stroke-linecap:butt;stroke-linejoin:miter;stroke-opacity:1\"/>\n",
       "<path class=\"bond-0 atom-0 atom-1\" d=\"M 70.6,117.6 L 87.7,132.5\" style=\"fill:none;fill-rule:evenodd;stroke:#000000;stroke-width:2.0px;stroke-linecap:butt;stroke-linejoin:miter;stroke-opacity:1\"/>\n",
       "<path class=\"bond-1 atom-1 atom-2\" d=\"M 87.7,132.5 L 110.2,124.8\" style=\"fill:none;fill-rule:evenodd;stroke:#000000;stroke-width:2.0px;stroke-linecap:butt;stroke-linejoin:miter;stroke-opacity:1\"/>\n",
       "<path class=\"bond-1 atom-1 atom-2\" d=\"M 110.2,124.8 L 132.7,117.0\" style=\"fill:none;fill-rule:evenodd;stroke:#0000FF;stroke-width:2.0px;stroke-linecap:butt;stroke-linejoin:miter;stroke-opacity:1\"/>\n",
       "<path class=\"bond-2 atom-2 atom-3\" d=\"M 148.4,121.0 L 165.6,135.9\" style=\"fill:none;fill-rule:evenodd;stroke:#0000FF;stroke-width:2.0px;stroke-linecap:butt;stroke-linejoin:miter;stroke-opacity:1\"/>\n",
       "<path class=\"bond-2 atom-2 atom-3\" d=\"M 165.6,135.9 L 182.7,150.8\" style=\"fill:none;fill-rule:evenodd;stroke:#000000;stroke-width:2.0px;stroke-linecap:butt;stroke-linejoin:miter;stroke-opacity:1\"/>\n",
       "<path class=\"bond-3 atom-3 atom-4\" d=\"M 182.7,150.8 L 235.5,132.5\" style=\"fill:none;fill-rule:evenodd;stroke:#000000;stroke-width:2.0px;stroke-linecap:butt;stroke-linejoin:miter;stroke-opacity:1\"/>\n",
       "<path class=\"bond-4 atom-4 atom-5\" d=\"M 235.5,132.5 L 239.8,110.2\" style=\"fill:none;fill-rule:evenodd;stroke:#000000;stroke-width:2.0px;stroke-linecap:butt;stroke-linejoin:miter;stroke-opacity:1\"/>\n",
       "<path class=\"bond-4 atom-4 atom-5\" d=\"M 239.8,110.2 L 244.1,87.8\" style=\"fill:none;fill-rule:evenodd;stroke:#CCCC00;stroke-width:2.0px;stroke-linecap:butt;stroke-linejoin:miter;stroke-opacity:1\"/>\n",
       "<path class=\"bond-5 atom-4 atom-6\" d=\"M 230.9,134.1 L 248.4,149.2\" style=\"fill:none;fill-rule:evenodd;stroke:#000000;stroke-width:2.0px;stroke-linecap:butt;stroke-linejoin:miter;stroke-opacity:1\"/>\n",
       "<path class=\"bond-5 atom-4 atom-6\" d=\"M 248.4,149.2 L 265.9,164.4\" style=\"fill:none;fill-rule:evenodd;stroke:#FF0000;stroke-width:2.0px;stroke-linecap:butt;stroke-linejoin:miter;stroke-opacity:1\"/>\n",
       "<path class=\"bond-5 atom-4 atom-6\" d=\"M 236.4,127.8 L 253.9,142.9\" style=\"fill:none;fill-rule:evenodd;stroke:#000000;stroke-width:2.0px;stroke-linecap:butt;stroke-linejoin:miter;stroke-opacity:1\"/>\n",
       "<path class=\"bond-5 atom-4 atom-6\" d=\"M 253.9,142.9 L 271.4,158.0\" style=\"fill:none;fill-rule:evenodd;stroke:#FF0000;stroke-width:2.0px;stroke-linecap:butt;stroke-linejoin:miter;stroke-opacity:1\"/>\n",
       "<path class=\"bond-6 atom-1 atom-7\" d=\"M 84.1,129.4 L 79.5,153.1\" style=\"fill:none;fill-rule:evenodd;stroke:#000000;stroke-width:2.0px;stroke-linecap:butt;stroke-linejoin:miter;stroke-opacity:1\"/>\n",
       "<path class=\"bond-6 atom-1 atom-7\" d=\"M 79.5,153.1 L 75.0,176.8\" style=\"fill:none;fill-rule:evenodd;stroke:#0000FF;stroke-width:2.0px;stroke-linecap:butt;stroke-linejoin:miter;stroke-opacity:1\"/>\n",
       "<path class=\"bond-6 atom-1 atom-7\" d=\"M 92.3,131.0 L 87.8,154.7\" style=\"fill:none;fill-rule:evenodd;stroke:#000000;stroke-width:2.0px;stroke-linecap:butt;stroke-linejoin:miter;stroke-opacity:1\"/>\n",
       "<path class=\"bond-6 atom-1 atom-7\" d=\"M 87.8,154.7 L 83.2,178.4\" style=\"fill:none;fill-rule:evenodd;stroke:#0000FF;stroke-width:2.0px;stroke-linecap:butt;stroke-linejoin:miter;stroke-opacity:1\"/>\n",
       "<path d=\"M 86.9,131.8 L 87.7,132.5 L 88.9,132.1\" style=\"fill:none;stroke:#000000;stroke-width:2.0px;stroke-linecap:butt;stroke-linejoin:miter;stroke-opacity:1;\"/>\n",
       "<path d=\"M 181.9,150.1 L 182.7,150.8 L 185.4,149.9\" style=\"fill:none;stroke:#000000;stroke-width:2.0px;stroke-linecap:butt;stroke-linejoin:miter;stroke-opacity:1;\"/>\n",
       "<path d=\"M 232.9,133.4 L 235.5,132.5 L 235.7,131.4\" style=\"fill:none;stroke:#000000;stroke-width:2.0px;stroke-linecap:butt;stroke-linejoin:miter;stroke-opacity:1;\"/>\n",
       "<path class=\"atom-0\" d=\"M 15.0 88.1 L 17.1 88.1 L 17.1 94.8 L 25.2 94.8 L 25.2 88.1 L 27.4 88.1 L 27.4 103.9 L 25.2 103.9 L 25.2 96.6 L 17.1 96.6 L 17.1 103.9 L 15.0 103.9 L 15.0 88.1 \" fill=\"#0000FF\"/>\n",
       "<path class=\"atom-0\" d=\"M 30.5 103.3 Q 30.9 102.3, 31.8 101.8 Q 32.7 101.2, 34.0 101.2 Q 35.5 101.2, 36.4 102.1 Q 37.3 102.9, 37.3 104.5 Q 37.3 106.0, 36.1 107.5 Q 35.0 108.9, 32.7 110.6 L 37.5 110.6 L 37.5 111.8 L 30.4 111.8 L 30.4 110.8 Q 32.4 109.4, 33.5 108.4 Q 34.7 107.3, 35.3 106.4 Q 35.8 105.5, 35.8 104.5 Q 35.8 103.5, 35.3 103.0 Q 34.8 102.4, 34.0 102.4 Q 33.1 102.4, 32.6 102.7 Q 32.0 103.1, 31.6 103.8 L 30.5 103.3 \" fill=\"#0000FF\"/>\n",
       "<path class=\"atom-0\" d=\"M 42.0 88.1 L 47.2 96.4 Q 47.7 97.3, 48.6 98.8 Q 49.4 100.3, 49.4 100.3 L 49.4 88.1 L 51.5 88.1 L 51.5 103.9 L 49.4 103.9 L 43.8 94.7 Q 43.1 93.6, 42.5 92.4 Q 41.8 91.2, 41.6 90.8 L 41.6 103.9 L 39.5 103.9 L 39.5 88.1 L 42.0 88.1 \" fill=\"#0000FF\"/>\n",
       "<path class=\"atom-2\" d=\"M 137.0 106.3 L 142.2 114.7 Q 142.7 115.5, 143.6 117.0 Q 144.4 118.5, 144.4 118.6 L 144.4 106.3 L 146.5 106.3 L 146.5 122.2 L 144.4 122.2 L 138.8 113.0 Q 138.1 111.9, 137.5 110.7 Q 136.8 109.5, 136.6 109.1 L 136.6 122.2 L 134.5 122.2 L 134.5 106.3 L 137.0 106.3 \" fill=\"#0000FF\"/>\n",
       "<path class=\"atom-2\" d=\"M 134.3 88.9 L 136.5 88.9 L 136.5 95.7 L 144.6 95.7 L 144.6 88.9 L 146.7 88.9 L 146.7 104.8 L 144.6 104.8 L 144.6 97.5 L 136.5 97.5 L 136.5 104.8 L 134.3 104.8 L 134.3 88.9 \" fill=\"#0000FF\"/>\n",
       "<path class=\"atom-5\" d=\"M 241.6 83.1 Q 241.8 83.2, 242.5 83.5 Q 243.3 83.8, 244.1 84.0 Q 244.9 84.2, 245.7 84.2 Q 247.2 84.2, 248.1 83.5 Q 248.9 82.7, 248.9 81.5 Q 248.9 80.6, 248.5 80.1 Q 248.1 79.5, 247.4 79.2 Q 246.7 78.9, 245.6 78.6 Q 244.2 78.2, 243.3 77.8 Q 242.5 77.4, 241.9 76.5 Q 241.3 75.7, 241.3 74.2 Q 241.3 72.3, 242.7 71.0 Q 244.0 69.8, 246.7 69.8 Q 248.6 69.8, 250.6 70.7 L 250.1 72.4 Q 248.2 71.6, 246.8 71.6 Q 245.2 71.6, 244.4 72.3 Q 243.5 72.9, 243.6 74.0 Q 243.6 74.8, 244.0 75.3 Q 244.4 75.9, 245.1 76.1 Q 245.7 76.4, 246.8 76.8 Q 248.2 77.2, 249.1 77.7 Q 249.9 78.1, 250.5 79.0 Q 251.1 79.9, 251.1 81.5 Q 251.1 83.7, 249.7 84.8 Q 248.2 86.0, 245.8 86.0 Q 244.4 86.0, 243.3 85.7 Q 242.3 85.4, 241.0 84.9 L 241.6 83.1 \" fill=\"#CCCC00\"/>\n",
       "<path class=\"atom-6\" d=\"M 270.5 169.1 Q 270.5 165.3, 272.4 163.2 Q 274.2 161.1, 277.7 161.1 Q 281.2 161.1, 283.1 163.2 Q 285.0 165.3, 285.0 169.1 Q 285.0 173.0, 283.1 175.2 Q 281.2 177.3, 277.7 177.3 Q 274.3 177.3, 272.4 175.2 Q 270.5 173.0, 270.5 169.1 M 277.7 175.6 Q 280.2 175.6, 281.4 173.9 Q 282.8 172.3, 282.8 169.1 Q 282.8 166.0, 281.4 164.5 Q 280.2 162.9, 277.7 162.9 Q 275.3 162.9, 274.0 164.5 Q 272.7 166.0, 272.7 169.1 Q 272.7 172.3, 274.0 173.9 Q 275.3 175.6, 277.7 175.6 \" fill=\"#FF0000\"/>\n",
       "<path class=\"atom-7\" d=\"M 73.7 179.5 L 78.9 187.8 Q 79.4 188.7, 80.2 190.2 Q 81.0 191.7, 81.1 191.8 L 81.1 179.5 L 83.2 179.5 L 83.2 195.3 L 81.0 195.3 L 75.5 186.1 Q 74.8 185.1, 74.1 183.8 Q 73.5 182.6, 73.2 182.2 L 73.2 195.3 L 71.2 195.3 L 71.2 179.5 L 73.7 179.5 \" fill=\"#0000FF\"/>\n",
       "<path class=\"atom-7\" d=\"M 86.2 179.5 L 88.3 179.5 L 88.3 186.2 L 96.4 186.2 L 96.4 179.5 L 98.6 179.5 L 98.6 195.3 L 96.4 195.3 L 96.4 188.0 L 88.3 188.0 L 88.3 195.3 L 86.2 195.3 L 86.2 179.5 \" fill=\"#0000FF\"/>\n",
       "<path class=\"atom-7\" d=\"M 101.6 194.7 Q 102.0 193.7, 102.9 193.2 Q 103.8 192.6, 105.1 192.6 Q 106.7 192.6, 107.6 193.5 Q 108.5 194.4, 108.5 195.9 Q 108.5 197.4, 107.3 198.9 Q 106.2 200.3, 103.8 202.0 L 108.6 202.0 L 108.6 203.2 L 101.6 203.2 L 101.6 202.2 Q 103.5 200.8, 104.7 199.8 Q 105.9 198.8, 106.4 197.8 Q 107.0 196.9, 107.0 195.9 Q 107.0 194.9, 106.5 194.4 Q 106.0 193.8, 105.1 193.8 Q 104.3 193.8, 103.7 194.2 Q 103.1 194.5, 102.7 195.3 L 101.6 194.7 \" fill=\"#0000FF\"/>\n",
       "<path class=\"atom-7\" d=\"M 101.7 182.3 L 104.5 182.3 L 104.5 179.4 L 105.7 179.4 L 105.7 182.3 L 108.6 182.3 L 108.6 183.4 L 105.7 183.4 L 105.7 186.3 L 104.5 186.3 L 104.5 183.4 L 101.7 183.4 L 101.7 182.3 \" fill=\"#0000FF\"/>\n",
       "<path class=\"atom-5\" d=\"M 255.6,77.7 L 255.6,77.8 L 255.6,77.9 L 255.6,78.0 L 255.5,78.1 L 255.5,78.2 L 255.5,78.2 L 255.4,78.3 L 255.4,78.4 L 255.3,78.5 L 255.2,78.5 L 255.1,78.6 L 255.1,78.6 L 255.0,78.7 L 254.9,78.7 L 254.8,78.8 L 254.7,78.8 L 254.6,78.8 L 254.5,78.8 L 254.4,78.8 L 254.3,78.8 L 254.2,78.8 L 254.1,78.7 L 254.1,78.7 L 254.0,78.7 L 253.9,78.6 L 253.8,78.6 L 253.7,78.5 L 253.7,78.4 L 253.6,78.4 L 253.5,78.3 L 253.5,78.2 L 253.5,78.1 L 253.4,78.0 L 253.4,77.9 L 253.4,77.8 L 253.4,77.7 L 253.4,77.6 L 253.4,77.5 L 253.4,77.5 L 253.4,77.4 L 253.5,77.3 L 253.5,77.2 L 253.5,77.1 L 253.6,77.0 L 253.7,76.9 L 253.7,76.9 L 253.8,76.8 L 253.9,76.8 L 254.0,76.7 L 254.1,76.7 L 254.1,76.6 L 254.2,76.6 L 254.3,76.6 L 254.4,76.6 L 254.5,76.6 L 254.6,76.6 L 254.7,76.6 L 254.8,76.6 L 254.9,76.6 L 255.0,76.7 L 255.1,76.7 L 255.1,76.8 L 255.2,76.8 L 255.3,76.9 L 255.4,77.0 L 255.4,77.1 L 255.5,77.1 L 255.5,77.2 L 255.5,77.3 L 255.6,77.4 L 255.6,77.5 L 255.6,77.6 L 255.6,77.7 L 254.5,77.7 Z\" style=\"fill:#000000;fill-rule:evenodd;fill-opacity:1;stroke:#000000;stroke-width:0.0px;stroke-linecap:butt;stroke-linejoin:miter;stroke-opacity:1;\"/>\n",
       "<path class=\"legend\" d=\"M 140.4 272.7 L 140.4 281.5 Q 140.4 285.0, 136.6 285.0 Q 134.8 285.0, 133.2 284.2 L 133.7 283.1 Q 134.6 283.5, 135.2 283.7 Q 135.8 283.8, 136.6 283.8 Q 137.8 283.8, 138.3 283.3 Q 138.9 282.7, 138.9 281.5 L 138.9 280.1 Q 138.0 281.1, 136.5 281.1 Q 134.8 281.1, 133.8 280.1 Q 132.9 279.0, 132.9 277.0 Q 132.9 274.9, 134.0 273.8 Q 135.1 272.6, 137.1 272.6 Q 138.2 272.6, 139.1 272.9 L 139.2 272.7 L 140.4 272.7 M 136.6 279.9 Q 137.4 279.9, 138.0 279.5 Q 138.6 279.0, 138.9 278.2 L 138.9 274.0 Q 138.0 273.8, 137.1 273.8 Q 135.9 273.8, 135.1 274.6 Q 134.4 275.5, 134.4 277.0 Q 134.4 278.4, 135.0 279.2 Q 135.6 279.9, 136.6 279.9 \" fill=\"#000000\"/>\n",
       "<path class=\"legend\" d=\"M 149.4 272.8 L 149.4 281.0 L 148.2 281.0 L 148.0 279.8 Q 146.9 281.1, 145.2 281.1 Q 143.8 281.1, 143.1 280.4 Q 142.4 279.6, 142.4 278.2 L 142.4 272.8 L 143.9 272.8 L 143.9 278.1 Q 143.9 279.1, 144.3 279.5 Q 144.7 279.9, 145.5 279.9 Q 146.2 279.9, 146.9 279.6 Q 147.5 279.3, 147.9 278.6 L 147.9 272.8 L 149.4 272.8 \" fill=\"#000000\"/>\n",
       "<path class=\"legend\" d=\"M 151.4 278.8 Q 151.4 277.4, 152.5 276.7 Q 153.5 276.0, 155.5 276.0 L 156.7 276.0 L 156.7 275.7 Q 156.7 274.7, 156.2 274.2 Q 155.8 273.8, 154.8 273.8 Q 154.1 273.8, 153.6 273.9 Q 153.1 274.0, 152.3 274.4 L 151.9 273.4 Q 153.4 272.6, 154.8 272.6 Q 156.6 272.6, 157.4 273.4 Q 158.2 274.1, 158.2 275.7 L 158.2 281.0 L 157.0 281.0 Q 157.0 280.9, 156.9 280.7 Q 156.9 280.4, 156.8 280.0 Q 155.6 281.2, 154.1 281.2 Q 152.9 281.2, 152.1 280.5 Q 151.4 279.9, 151.4 278.8 M 152.9 278.7 Q 152.9 279.3, 153.3 279.7 Q 153.7 280.0, 154.4 280.0 Q 155.0 280.0, 155.6 279.7 Q 156.3 279.4, 156.7 278.9 L 156.7 277.1 L 155.6 277.1 Q 154.2 277.1, 153.6 277.5 Q 152.9 277.9, 152.9 278.7 \" fill=\"#000000\"/>\n",
       "<path class=\"legend\" d=\"M 164.4 272.6 Q 165.7 272.6, 166.4 273.4 Q 167.1 274.1, 167.1 275.5 L 167.1 281.0 L 165.6 281.0 L 165.6 275.7 Q 165.6 274.7, 165.2 274.2 Q 164.9 273.8, 164.0 273.8 Q 163.3 273.8, 162.6 274.2 Q 162.0 274.5, 161.6 275.1 L 161.6 281.0 L 160.1 281.0 L 160.1 272.8 L 161.3 272.8 L 161.5 273.9 Q 162.6 272.6, 164.4 272.6 \" fill=\"#000000\"/>\n",
       "</svg>"
      ],
      "text/plain": [
       "<IPython.core.display.SVG object>"
      ]
     },
     "metadata": {},
     "output_type": "display_data"
    },
    {
     "data": {
      "text/plain": [
       "'NC(=[NH2+])NCC(=O)[S]'"
      ]
     },
     "metadata": {},
     "output_type": "display_data"
    },
    {
     "data": {
      "image/svg+xml": [
       "<svg xmlns=\"http://www.w3.org/2000/svg\" xmlns:rdkit=\"http://www.rdkit.org/xml\" xmlns:xlink=\"http://www.w3.org/1999/xlink\" version=\"1.1\" baseProfile=\"full\" xml:space=\"preserve\" width=\"300px\" height=\"300px\" viewBox=\"0 0 300 300\">\n",
       "<!-- END OF HEADER -->\n",
       "<rect style=\"opacity:1.0;fill:#FFFFFF;stroke:none\" width=\"300.0\" height=\"300.0\" x=\"0.0\" y=\"0.0\"> </rect>\n",
       "<path class=\"bond-0 atom-0 atom-1\" d=\"M 15.0,164.7 L 71.7,138.0\" style=\"fill:none;fill-rule:evenodd;stroke:#000000;stroke-width:2.0px;stroke-linecap:butt;stroke-linejoin:miter;stroke-opacity:1\"/>\n",
       "<path class=\"bond-1 atom-1 atom-2\" d=\"M 71.7,138.0 L 94.7,150.7\" style=\"fill:none;fill-rule:evenodd;stroke:#000000;stroke-width:2.0px;stroke-linecap:butt;stroke-linejoin:miter;stroke-opacity:1\"/>\n",
       "<path class=\"bond-1 atom-1 atom-2\" d=\"M 94.7,150.7 L 117.8,163.3\" style=\"fill:none;fill-rule:evenodd;stroke:#0000FF;stroke-width:2.0px;stroke-linecap:butt;stroke-linejoin:miter;stroke-opacity:1\"/>\n",
       "<path class=\"bond-1 atom-1 atom-2\" d=\"M 82.2,133.0 L 102.2,144.1\" style=\"fill:none;fill-rule:evenodd;stroke:#000000;stroke-width:2.0px;stroke-linecap:butt;stroke-linejoin:miter;stroke-opacity:1\"/>\n",
       "<path class=\"bond-1 atom-1 atom-2\" d=\"M 102.2,144.1 L 122.3,155.1\" style=\"fill:none;fill-rule:evenodd;stroke:#0000FF;stroke-width:2.0px;stroke-linecap:butt;stroke-linejoin:miter;stroke-opacity:1\"/>\n",
       "<path class=\"bond-2 atom-2 atom-3\" d=\"M 135.3,159.9 L 153.8,142.6\" style=\"fill:none;fill-rule:evenodd;stroke:#0000FF;stroke-width:2.0px;stroke-linecap:butt;stroke-linejoin:miter;stroke-opacity:1\"/>\n",
       "<path class=\"bond-2 atom-2 atom-3\" d=\"M 153.8,142.6 L 172.2,125.3\" style=\"fill:none;fill-rule:evenodd;stroke:#000000;stroke-width:2.0px;stroke-linecap:butt;stroke-linejoin:miter;stroke-opacity:1\"/>\n",
       "<path class=\"bond-3 atom-3 atom-4\" d=\"M 172.2,125.3 L 233.7,137.0\" style=\"fill:none;fill-rule:evenodd;stroke:#000000;stroke-width:2.0px;stroke-linecap:butt;stroke-linejoin:miter;stroke-opacity:1\"/>\n",
       "<path class=\"bond-4 atom-4 atom-5\" d=\"M 233.7,137.0 L 250.3,117.8\" style=\"fill:none;fill-rule:evenodd;stroke:#000000;stroke-width:2.0px;stroke-linecap:butt;stroke-linejoin:miter;stroke-opacity:1\"/>\n",
       "<path class=\"bond-4 atom-4 atom-5\" d=\"M 250.3,117.8 L 266.9,98.6\" style=\"fill:none;fill-rule:evenodd;stroke:#CCCC00;stroke-width:2.0px;stroke-linecap:butt;stroke-linejoin:miter;stroke-opacity:1\"/>\n",
       "<path class=\"bond-5 atom-4 atom-6\" d=\"M 228.4,136.0 L 237.2,161.3\" style=\"fill:none;fill-rule:evenodd;stroke:#000000;stroke-width:2.0px;stroke-linecap:butt;stroke-linejoin:miter;stroke-opacity:1\"/>\n",
       "<path class=\"bond-5 atom-4 atom-6\" d=\"M 237.2,161.3 L 246.0,186.6\" style=\"fill:none;fill-rule:evenodd;stroke:#FF0000;stroke-width:2.0px;stroke-linecap:butt;stroke-linejoin:miter;stroke-opacity:1\"/>\n",
       "<path class=\"bond-5 atom-4 atom-6\" d=\"M 237.2,132.9 L 246.1,158.2\" style=\"fill:none;fill-rule:evenodd;stroke:#000000;stroke-width:2.0px;stroke-linecap:butt;stroke-linejoin:miter;stroke-opacity:1\"/>\n",
       "<path class=\"bond-5 atom-4 atom-6\" d=\"M 246.1,158.2 L 254.9,183.5\" style=\"fill:none;fill-rule:evenodd;stroke:#FF0000;stroke-width:2.0px;stroke-linecap:butt;stroke-linejoin:miter;stroke-opacity:1\"/>\n",
       "<path class=\"bond-6 atom-3 atom-7\" d=\"M 172.2,125.3 L 145.5,68.6\" style=\"fill:none;fill-rule:evenodd;stroke:#000000;stroke-width:2.0px;stroke-linecap:butt;stroke-linejoin:miter;stroke-opacity:1\"/>\n",
       "<path class=\"bond-6 atom-3 atom-7\" d=\"M 160.8,123.1 L 139.9,78.8\" style=\"fill:none;fill-rule:evenodd;stroke:#000000;stroke-width:2.0px;stroke-linecap:butt;stroke-linejoin:miter;stroke-opacity:1\"/>\n",
       "<path class=\"bond-7 atom-7 atom-8\" d=\"M 145.5,68.6 L 118.3,72.0\" style=\"fill:none;fill-rule:evenodd;stroke:#000000;stroke-width:2.0px;stroke-linecap:butt;stroke-linejoin:miter;stroke-opacity:1\"/>\n",
       "<path class=\"bond-7 atom-7 atom-8\" d=\"M 118.3,72.0 L 91.1,75.5\" style=\"fill:none;fill-rule:evenodd;stroke:#CCCC00;stroke-width:2.0px;stroke-linecap:butt;stroke-linejoin:miter;stroke-opacity:1\"/>\n",
       "<path class=\"bond-8 atom-8 atom-1\" d=\"M 81.2,87.9 L 76.4,112.9\" style=\"fill:none;fill-rule:evenodd;stroke:#CCCC00;stroke-width:2.0px;stroke-linecap:butt;stroke-linejoin:miter;stroke-opacity:1\"/>\n",
       "<path class=\"bond-8 atom-8 atom-1\" d=\"M 76.4,112.9 L 71.7,138.0\" style=\"fill:none;fill-rule:evenodd;stroke:#000000;stroke-width:2.0px;stroke-linecap:butt;stroke-linejoin:miter;stroke-opacity:1\"/>\n",
       "<path d=\"M 230.6,136.4 L 233.7,137.0 L 234.5,136.0\" style=\"fill:none;stroke:#000000;stroke-width:2.0px;stroke-linecap:butt;stroke-linejoin:miter;stroke-opacity:1;\"/>\n",
       "<path d=\"M 146.8,71.4 L 145.5,68.6 L 144.2,68.8\" style=\"fill:none;stroke:#000000;stroke-width:2.0px;stroke-linecap:butt;stroke-linejoin:miter;stroke-opacity:1;\"/>\n",
       "<path class=\"atom-2\" d=\"M 122.6 159.3 L 128.4 168.7 Q 129.0 169.6, 129.9 171.3 Q 130.9 173.0, 130.9 173.1 L 130.9 159.3 L 133.3 159.3 L 133.3 177.0 L 130.8 177.0 L 124.6 166.7 Q 123.9 165.5, 123.1 164.2 Q 122.3 162.8, 122.1 162.4 L 122.1 177.0 L 119.8 177.0 L 119.8 159.3 L 122.6 159.3 \" fill=\"#0000FF\"/>\n",
       "<path class=\"atom-5\" d=\"M 269.6 95.7 Q 269.8 95.7, 270.6 96.1 Q 271.5 96.4, 272.4 96.7 Q 273.3 96.9, 274.2 96.9 Q 275.9 96.9, 276.8 96.1 Q 277.8 95.2, 277.8 93.8 Q 277.8 92.8, 277.3 92.2 Q 276.8 91.6, 276.1 91.3 Q 275.3 91.0, 274.1 90.6 Q 272.5 90.1, 271.6 89.7 Q 270.6 89.2, 270.0 88.3 Q 269.3 87.3, 269.3 85.7 Q 269.3 83.5, 270.8 82.1 Q 272.3 80.7, 275.3 80.7 Q 277.4 80.7, 279.7 81.7 L 279.2 83.6 Q 277.0 82.8, 275.4 82.8 Q 273.7 82.8, 272.7 83.5 Q 271.8 84.2, 271.8 85.4 Q 271.8 86.4, 272.3 86.9 Q 272.8 87.5, 273.5 87.8 Q 274.2 88.2, 275.4 88.5 Q 277.0 89.0, 278.0 89.5 Q 278.9 90.1, 279.6 91.1 Q 280.3 92.1, 280.3 93.8 Q 280.3 96.3, 278.6 97.6 Q 277.0 98.9, 274.3 98.9 Q 272.7 98.9, 271.5 98.5 Q 270.3 98.2, 268.9 97.6 L 269.6 95.7 \" fill=\"#CCCC00\"/>\n",
       "<path class=\"atom-6\" d=\"M 246.2 196.2 Q 246.2 191.9, 248.3 189.5 Q 250.4 187.2, 254.3 187.2 Q 258.2 187.2, 260.4 189.5 Q 262.5 191.9, 262.5 196.2 Q 262.5 200.5, 260.3 202.9 Q 258.2 205.4, 254.3 205.4 Q 250.4 205.4, 248.3 202.9 Q 246.2 200.5, 246.2 196.2 M 254.3 203.4 Q 257.0 203.4, 258.5 201.6 Q 260.0 199.7, 260.0 196.2 Q 260.0 192.7, 258.5 190.9 Q 257.0 189.2, 254.3 189.2 Q 251.6 189.2, 250.1 190.9 Q 248.7 192.7, 248.7 196.2 Q 248.7 199.8, 250.1 201.6 Q 251.6 203.4, 254.3 203.4 \" fill=\"#FF0000\"/>\n",
       "<path class=\"atom-8\" d=\"M 78.4 82.6 Q 78.6 82.6, 79.4 83.0 Q 80.2 83.3, 81.1 83.6 Q 82.1 83.8, 83.0 83.8 Q 84.6 83.8, 85.6 83.0 Q 86.6 82.1, 86.6 80.7 Q 86.6 79.7, 86.1 79.1 Q 85.6 78.5, 84.9 78.2 Q 84.1 77.9, 82.9 77.5 Q 81.3 77.0, 80.3 76.6 Q 79.4 76.1, 78.7 75.2 Q 78.1 74.2, 78.1 72.6 Q 78.1 70.4, 79.6 69.0 Q 81.1 67.6, 84.1 67.6 Q 86.2 67.6, 88.5 68.6 L 87.9 70.5 Q 85.8 69.7, 84.2 69.7 Q 82.5 69.7, 81.5 70.4 Q 80.6 71.1, 80.6 72.3 Q 80.6 73.3, 81.1 73.8 Q 81.6 74.4, 82.3 74.7 Q 83.0 75.1, 84.2 75.4 Q 85.8 75.9, 86.7 76.4 Q 87.7 76.9, 88.4 78.0 Q 89.1 79.0, 89.1 80.7 Q 89.1 83.2, 87.4 84.5 Q 85.8 85.8, 83.1 85.8 Q 81.5 85.8, 80.3 85.4 Q 79.1 85.1, 77.7 84.5 L 78.4 82.6 \" fill=\"#CCCC00\"/>\n",
       "<path class=\"atom-5\" d=\"M 285.3,89.6 L 285.3,89.7 L 285.3,89.8 L 285.3,89.9 L 285.2,90.0 L 285.2,90.1 L 285.1,90.2 L 285.1,90.3 L 285.0,90.4 L 285.0,90.5 L 284.9,90.5 L 284.8,90.6 L 284.7,90.7 L 284.6,90.7 L 284.5,90.7 L 284.4,90.8 L 284.3,90.8 L 284.2,90.8 L 284.1,90.8 L 284.0,90.8 L 283.9,90.8 L 283.8,90.8 L 283.7,90.8 L 283.6,90.7 L 283.5,90.7 L 283.4,90.6 L 283.3,90.6 L 283.2,90.5 L 283.1,90.4 L 283.1,90.3 L 283.0,90.2 L 282.9,90.1 L 282.9,90.0 L 282.9,89.9 L 282.8,89.8 L 282.8,89.7 L 282.8,89.6 L 282.8,89.5 L 282.8,89.4 L 282.8,89.3 L 282.9,89.2 L 282.9,89.1 L 282.9,89.0 L 283.0,88.9 L 283.1,88.8 L 283.1,88.7 L 283.2,88.7 L 283.3,88.6 L 283.4,88.5 L 283.5,88.5 L 283.6,88.4 L 283.7,88.4 L 283.8,88.4 L 283.9,88.3 L 284.0,88.3 L 284.1,88.3 L 284.2,88.3 L 284.3,88.3 L 284.4,88.4 L 284.5,88.4 L 284.6,88.4 L 284.7,88.5 L 284.8,88.6 L 284.9,88.6 L 285.0,88.7 L 285.0,88.8 L 285.1,88.9 L 285.1,89.0 L 285.2,89.1 L 285.2,89.2 L 285.3,89.3 L 285.3,89.4 L 285.3,89.5 L 285.3,89.6 L 284.1,89.6 Z\" style=\"fill:#000000;fill-rule:evenodd;fill-opacity:1;stroke:#000000;stroke-width:0.0px;stroke-linecap:butt;stroke-linejoin:miter;stroke-opacity:1;\"/>\n",
       "<path class=\"legend\" d=\"M 141.3 276.5 Q 142.7 276.5, 143.4 277.3 Q 144.1 278.0, 144.1 279.5 L 144.1 284.9 L 142.6 284.9 L 142.6 279.6 Q 142.6 278.6, 142.2 278.2 Q 141.8 277.7, 141.0 277.7 Q 140.3 277.7, 139.7 278.1 Q 139.1 278.4, 138.7 279.0 Q 138.7 279.2, 138.7 279.5 L 138.7 284.9 L 137.2 284.9 L 137.2 279.6 Q 137.2 278.6, 136.8 278.2 Q 136.5 277.7, 135.6 277.7 Q 134.9 277.7, 134.3 278.1 Q 133.7 278.4, 133.3 279.0 L 133.3 284.9 L 131.8 284.9 L 131.8 276.7 L 133.0 276.7 L 133.2 277.8 Q 134.3 276.5, 135.9 276.5 Q 137.8 276.5, 138.5 278.0 Q 139.5 276.5, 141.3 276.5 \" fill=\"#000000\"/>\n",
       "<path class=\"legend\" d=\"M 146.1 277.8 L 146.1 276.7 L 147.7 276.7 L 147.9 274.3 L 149.1 274.3 L 149.1 276.7 L 151.6 276.7 L 151.6 277.8 L 149.1 277.8 L 149.1 282.4 Q 149.1 283.8, 150.3 283.8 Q 150.7 283.8, 151.4 283.6 L 151.7 284.6 Q 150.8 285.0, 150.0 285.0 Q 148.9 285.0, 148.2 284.4 Q 147.6 283.7, 147.6 282.5 L 147.6 277.8 L 146.1 277.8 \" fill=\"#000000\"/>\n",
       "<path class=\"legend\" d=\"M 157.2 276.5 Q 158.5 276.5, 159.2 277.3 Q 159.9 278.0, 159.9 279.5 L 159.9 284.9 L 158.4 284.9 L 158.4 279.6 Q 158.4 278.6, 158.0 278.2 Q 157.6 277.7, 156.8 277.7 Q 156.0 277.7, 155.4 278.1 Q 154.8 278.4, 154.4 279.0 L 154.4 284.9 L 152.9 284.9 L 152.9 272.8 L 154.4 272.8 L 154.4 277.7 Q 155.5 276.5, 157.2 276.5 \" fill=\"#000000\"/>\n",
       "<path class=\"legend\" d=\"M 163.7 283.7 L 168.2 283.7 L 168.2 284.9 L 161.9 284.9 L 161.9 283.9 L 166.2 277.9 L 162.1 277.9 L 162.1 276.7 L 168.0 276.7 L 168.0 277.6 L 163.7 283.7 \" fill=\"#000000\"/>\n",
       "</svg>"
      ],
      "text/plain": [
       "<IPython.core.display.SVG object>"
      ]
     },
     "metadata": {},
     "output_type": "display_data"
    },
    {
     "data": {
      "text/plain": [
       "'Cc1nc(C(=O)[S])cs1'"
      ]
     },
     "metadata": {},
     "output_type": "display_data"
    },
    {
     "data": {
      "image/svg+xml": [
       "<svg xmlns=\"http://www.w3.org/2000/svg\" xmlns:rdkit=\"http://www.rdkit.org/xml\" xmlns:xlink=\"http://www.w3.org/1999/xlink\" version=\"1.1\" baseProfile=\"full\" xml:space=\"preserve\" width=\"300px\" height=\"300px\" viewBox=\"0 0 300 300\">\n",
       "<!-- END OF HEADER -->\n",
       "<rect style=\"opacity:1.0;fill:#FFFFFF;stroke:none\" width=\"300.0\" height=\"300.0\" x=\"0.0\" y=\"0.0\"> </rect>\n",
       "<path class=\"bond-0 atom-1 atom-0\" d=\"M 107.7,157.0 L 97.3,173.3 L 94.2,170.8 Z\" style=\"fill:#000000;fill-rule:evenodd;fill-opacity:1;stroke:#000000;stroke-width:0.5px;stroke-linecap:butt;stroke-linejoin:miter;stroke-opacity:1;\"/>\n",
       "<path class=\"bond-0 atom-1 atom-0\" d=\"M 97.3,173.3 L 80.8,184.7 L 86.9,189.6 Z\" style=\"fill:#FF0000;fill-rule:evenodd;fill-opacity:1;stroke:#FF0000;stroke-width:0.5px;stroke-linecap:butt;stroke-linejoin:miter;stroke-opacity:1;\"/>\n",
       "<path class=\"bond-0 atom-1 atom-0\" d=\"M 97.3,173.3 L 94.2,170.8 L 80.8,184.7 Z\" style=\"fill:#FF0000;fill-rule:evenodd;fill-opacity:1;stroke:#FF0000;stroke-width:0.5px;stroke-linecap:butt;stroke-linejoin:miter;stroke-opacity:1;\"/>\n",
       "<path class=\"bond-1 atom-1 atom-2\" d=\"M 107.7,157.0 L 88.3,108.3\" style=\"fill:none;fill-rule:evenodd;stroke:#000000;stroke-width:2.0px;stroke-linecap:butt;stroke-linejoin:miter;stroke-opacity:1\"/>\n",
       "<path class=\"bond-2 atom-2 atom-3\" d=\"M 84.8,108.1 L 84.9,107.5\" style=\"fill:none;fill-rule:evenodd;stroke:#000000;stroke-width:1.0px;stroke-linecap:butt;stroke-linejoin:miter;stroke-opacity:1\"/>\n",
       "<path class=\"bond-2 atom-2 atom-3\" d=\"M 81.3,107.9 L 81.5,106.6\" style=\"fill:none;fill-rule:evenodd;stroke:#000000;stroke-width:1.0px;stroke-linecap:butt;stroke-linejoin:miter;stroke-opacity:1\"/>\n",
       "<path class=\"bond-2 atom-2 atom-3\" d=\"M 77.8,107.7 L 78.1,105.8\" style=\"fill:none;fill-rule:evenodd;stroke:#000000;stroke-width:1.0px;stroke-linecap:butt;stroke-linejoin:miter;stroke-opacity:1\"/>\n",
       "<path class=\"bond-2 atom-2 atom-3\" d=\"M 74.3,107.6 L 74.6,105.0\" style=\"fill:none;fill-rule:evenodd;stroke:#000000;stroke-width:1.0px;stroke-linecap:butt;stroke-linejoin:miter;stroke-opacity:1\"/>\n",
       "<path class=\"bond-2 atom-2 atom-3\" d=\"M 70.7,107.4 L 71.2,104.1\" style=\"fill:none;fill-rule:evenodd;stroke:#000000;stroke-width:1.0px;stroke-linecap:butt;stroke-linejoin:miter;stroke-opacity:1\"/>\n",
       "<path class=\"bond-2 atom-2 atom-3\" d=\"M 67.2,107.2 L 67.8,103.3\" style=\"fill:none;fill-rule:evenodd;stroke:#000000;stroke-width:1.0px;stroke-linecap:butt;stroke-linejoin:miter;stroke-opacity:1\"/>\n",
       "<path class=\"bond-2 atom-2 atom-3\" d=\"M 63.7,107.0 L 64.4,102.5\" style=\"fill:none;fill-rule:evenodd;stroke:#FF0000;stroke-width:1.0px;stroke-linecap:butt;stroke-linejoin:miter;stroke-opacity:1\"/>\n",
       "<path class=\"bond-2 atom-2 atom-3\" d=\"M 60.2,106.8 L 61.0,101.6\" style=\"fill:none;fill-rule:evenodd;stroke:#FF0000;stroke-width:1.0px;stroke-linecap:butt;stroke-linejoin:miter;stroke-opacity:1\"/>\n",
       "<path class=\"bond-2 atom-2 atom-3\" d=\"M 56.7,106.7 L 57.6,100.8\" style=\"fill:none;fill-rule:evenodd;stroke:#FF0000;stroke-width:1.0px;stroke-linecap:butt;stroke-linejoin:miter;stroke-opacity:1\"/>\n",
       "<path class=\"bond-2 atom-2 atom-3\" d=\"M 53.2,106.5 L 54.1,100.0\" style=\"fill:none;fill-rule:evenodd;stroke:#FF0000;stroke-width:1.0px;stroke-linecap:butt;stroke-linejoin:miter;stroke-opacity:1\"/>\n",
       "<path class=\"bond-2 atom-2 atom-3\" d=\"M 49.7,106.3 L 50.7,99.2\" style=\"fill:none;fill-rule:evenodd;stroke:#FF0000;stroke-width:1.0px;stroke-linecap:butt;stroke-linejoin:miter;stroke-opacity:1\"/>\n",
       "<path class=\"bond-2 atom-2 atom-3\" d=\"M 46.2,106.1 L 47.3,98.3\" style=\"fill:none;fill-rule:evenodd;stroke:#FF0000;stroke-width:1.0px;stroke-linecap:butt;stroke-linejoin:miter;stroke-opacity:1\"/>\n",
       "<path class=\"bond-3 atom-2 atom-4\" d=\"M 88.3,108.3 L 120.8,67.2\" style=\"fill:none;fill-rule:evenodd;stroke:#000000;stroke-width:2.0px;stroke-linecap:butt;stroke-linejoin:miter;stroke-opacity:1\"/>\n",
       "<path class=\"bond-4 atom-4 atom-5\" d=\"M 120.8,67.2 L 172.6,74.8\" style=\"fill:none;fill-rule:evenodd;stroke:#000000;stroke-width:2.0px;stroke-linecap:butt;stroke-linejoin:miter;stroke-opacity:1\"/>\n",
       "<path class=\"bond-5 atom-5 atom-6\" d=\"M 172.6,74.8 L 192.0,123.4\" style=\"fill:none;fill-rule:evenodd;stroke:#000000;stroke-width:2.0px;stroke-linecap:butt;stroke-linejoin:miter;stroke-opacity:1\"/>\n",
       "<path class=\"bond-6 atom-6 atom-7\" d=\"M 192.0,123.4 L 243.8,131.0\" style=\"fill:none;fill-rule:evenodd;stroke:#000000;stroke-width:2.0px;stroke-linecap:butt;stroke-linejoin:miter;stroke-opacity:1\"/>\n",
       "<path class=\"bond-7 atom-7 atom-8\" d=\"M 243.8,131.0 L 256.8,114.6\" style=\"fill:none;fill-rule:evenodd;stroke:#000000;stroke-width:2.0px;stroke-linecap:butt;stroke-linejoin:miter;stroke-opacity:1\"/>\n",
       "<path class=\"bond-7 atom-7 atom-8\" d=\"M 256.8,114.6 L 269.8,98.1\" style=\"fill:none;fill-rule:evenodd;stroke:#CCCC00;stroke-width:2.0px;stroke-linecap:butt;stroke-linejoin:miter;stroke-opacity:1\"/>\n",
       "<path class=\"bond-8 atom-7 atom-9\" d=\"M 239.3,130.4 L 247.6,151.1\" style=\"fill:none;fill-rule:evenodd;stroke:#000000;stroke-width:2.0px;stroke-linecap:butt;stroke-linejoin:miter;stroke-opacity:1\"/>\n",
       "<path class=\"bond-8 atom-7 atom-9\" d=\"M 247.6,151.1 L 255.9,171.9\" style=\"fill:none;fill-rule:evenodd;stroke:#FF0000;stroke-width:2.0px;stroke-linecap:butt;stroke-linejoin:miter;stroke-opacity:1\"/>\n",
       "<path class=\"bond-8 atom-7 atom-9\" d=\"M 246.6,127.5 L 254.9,148.2\" style=\"fill:none;fill-rule:evenodd;stroke:#000000;stroke-width:2.0px;stroke-linecap:butt;stroke-linejoin:miter;stroke-opacity:1\"/>\n",
       "<path class=\"bond-8 atom-7 atom-9\" d=\"M 254.9,148.2 L 263.2,169.0\" style=\"fill:none;fill-rule:evenodd;stroke:#FF0000;stroke-width:2.0px;stroke-linecap:butt;stroke-linejoin:miter;stroke-opacity:1\"/>\n",
       "<path class=\"bond-9 atom-6 atom-10\" d=\"M 192.0,123.4 L 159.5,164.6\" style=\"fill:none;fill-rule:evenodd;stroke:#000000;stroke-width:2.0px;stroke-linecap:butt;stroke-linejoin:miter;stroke-opacity:1\"/>\n",
       "<path class=\"bond-10 atom-10 atom-1\" d=\"M 159.5,164.6 L 107.7,157.0\" style=\"fill:none;fill-rule:evenodd;stroke:#000000;stroke-width:2.0px;stroke-linecap:butt;stroke-linejoin:miter;stroke-opacity:1\"/>\n",
       "<path d=\"M 106.7,154.5 L 107.7,157.0 L 110.3,157.4\" style=\"fill:none;stroke:#000000;stroke-width:2.0px;stroke-linecap:butt;stroke-linejoin:miter;stroke-opacity:1;\"/>\n",
       "<path d=\"M 89.3,110.7 L 88.3,108.3 L 89.9,106.2\" style=\"fill:none;stroke:#000000;stroke-width:2.0px;stroke-linecap:butt;stroke-linejoin:miter;stroke-opacity:1;\"/>\n",
       "<path d=\"M 119.2,69.2 L 120.8,67.2 L 123.4,67.6\" style=\"fill:none;stroke:#000000;stroke-width:2.0px;stroke-linecap:butt;stroke-linejoin:miter;stroke-opacity:1;\"/>\n",
       "<path d=\"M 170.0,74.4 L 172.6,74.8 L 173.6,77.2\" style=\"fill:none;stroke:#000000;stroke-width:2.0px;stroke-linecap:butt;stroke-linejoin:miter;stroke-opacity:1;\"/>\n",
       "<path d=\"M 241.2,130.6 L 243.8,131.0 L 244.5,130.2\" style=\"fill:none;stroke:#000000;stroke-width:2.0px;stroke-linecap:butt;stroke-linejoin:miter;stroke-opacity:1;\"/>\n",
       "<path d=\"M 161.1,162.5 L 159.5,164.6 L 156.9,164.2\" style=\"fill:none;stroke:#000000;stroke-width:2.0px;stroke-linecap:butt;stroke-linejoin:miter;stroke-opacity:1;\"/>\n",
       "<path class=\"atom-0\" d=\"M 53.7 190.7 L 55.7 190.7 L 55.7 197.1 L 63.3 197.1 L 63.3 190.7 L 65.3 190.7 L 65.3 205.6 L 63.3 205.6 L 63.3 198.7 L 55.7 198.7 L 55.7 205.6 L 53.7 205.6 L 53.7 190.7 \" fill=\"#FF0000\"/>\n",
       "<path class=\"atom-0\" d=\"M 68.4 198.1 Q 68.4 194.6, 70.1 192.6 Q 71.9 190.6, 75.2 190.6 Q 78.5 190.6, 80.2 192.6 Q 82.0 194.6, 82.0 198.1 Q 82.0 201.7, 80.2 203.8 Q 78.4 205.8, 75.2 205.8 Q 71.9 205.8, 70.1 203.8 Q 68.4 201.8, 68.4 198.1 M 75.2 204.1 Q 77.4 204.1, 78.7 202.6 Q 79.9 201.1, 79.9 198.1 Q 79.9 195.2, 78.7 193.7 Q 77.4 192.3, 75.2 192.3 Q 72.9 192.3, 71.7 193.7 Q 70.5 195.2, 70.5 198.1 Q 70.5 201.1, 71.7 202.6 Q 72.9 204.1, 75.2 204.1 \" fill=\"#FF0000\"/>\n",
       "<path class=\"atom-3\" d=\"M 15.0 93.4 L 17.0 93.4 L 17.0 99.7 L 24.6 99.7 L 24.6 93.4 L 26.6 93.4 L 26.6 108.2 L 24.6 108.2 L 24.6 101.4 L 17.0 101.4 L 17.0 108.2 L 15.0 108.2 L 15.0 93.4 \" fill=\"#FF0000\"/>\n",
       "<path class=\"atom-3\" d=\"M 29.7 100.8 Q 29.7 97.2, 31.4 95.2 Q 33.2 93.2, 36.5 93.2 Q 39.8 93.2, 41.5 95.2 Q 43.3 97.2, 43.3 100.8 Q 43.3 104.4, 41.5 106.4 Q 39.7 108.4, 36.5 108.4 Q 33.2 108.4, 31.4 106.4 Q 29.7 104.4, 29.7 100.8 M 36.5 106.8 Q 38.7 106.8, 39.9 105.3 Q 41.2 103.7, 41.2 100.8 Q 41.2 97.8, 39.9 96.4 Q 38.7 94.9, 36.5 94.9 Q 34.2 94.9, 33.0 96.4 Q 31.7 97.8, 31.7 100.8 Q 31.7 103.8, 33.0 105.3 Q 34.2 106.8, 36.5 106.8 \" fill=\"#FF0000\"/>\n",
       "<path class=\"atom-8\" d=\"M 272.1 95.0 Q 272.3 95.1, 273.0 95.4 Q 273.7 95.7, 274.4 95.8 Q 275.2 96.0, 276.0 96.0 Q 277.4 96.0, 278.2 95.3 Q 279.0 94.6, 279.0 93.5 Q 279.0 92.6, 278.6 92.1 Q 278.2 91.6, 277.5 91.4 Q 276.9 91.1, 275.9 90.8 Q 274.6 90.4, 273.8 90.0 Q 273.0 89.6, 272.4 88.8 Q 271.9 88.0, 271.9 86.7 Q 271.9 84.8, 273.1 83.7 Q 274.4 82.5, 276.9 82.5 Q 278.6 82.5, 280.6 83.3 L 280.1 84.9 Q 278.3 84.2, 277.0 84.2 Q 275.5 84.2, 274.7 84.8 Q 273.9 85.4, 274.0 86.4 Q 274.0 87.2, 274.4 87.7 Q 274.8 88.2, 275.4 88.5 Q 276.0 88.7, 277.0 89.0 Q 278.3 89.5, 279.1 89.9 Q 279.9 90.3, 280.5 91.2 Q 281.1 92.0, 281.1 93.5 Q 281.1 95.5, 279.7 96.6 Q 278.3 97.7, 276.0 97.7 Q 274.7 97.7, 273.7 97.4 Q 272.7 97.1, 271.6 96.7 L 272.1 95.0 \" fill=\"#CCCC00\"/>\n",
       "<path class=\"atom-9\" d=\"M 256.4 179.7 Q 256.4 176.2, 258.1 174.2 Q 259.9 172.2, 263.2 172.2 Q 266.5 172.2, 268.2 174.2 Q 270.0 176.2, 270.0 179.7 Q 270.0 183.3, 268.2 185.4 Q 266.4 187.4, 263.2 187.4 Q 259.9 187.4, 258.1 185.4 Q 256.4 183.4, 256.4 179.7 M 263.2 185.8 Q 265.5 185.8, 266.7 184.2 Q 267.9 182.7, 267.9 179.7 Q 267.9 176.8, 266.7 175.4 Q 265.5 173.9, 263.2 173.9 Q 260.9 173.9, 259.7 175.3 Q 258.5 176.8, 258.5 179.7 Q 258.5 182.7, 259.7 184.2 Q 260.9 185.8, 263.2 185.8 \" fill=\"#FF0000\"/>\n",
       "<path class=\"atom-8\" d=\"M 285.3,89.9 L 285.3,90.0 L 285.2,90.1 L 285.2,90.2 L 285.2,90.3 L 285.2,90.3 L 285.1,90.4 L 285.1,90.5 L 285.0,90.6 L 285.0,90.6 L 284.9,90.7 L 284.8,90.8 L 284.8,90.8 L 284.7,90.9 L 284.6,90.9 L 284.5,90.9 L 284.4,90.9 L 284.3,91.0 L 284.2,91.0 L 284.1,91.0 L 284.1,90.9 L 284.0,90.9 L 283.9,90.9 L 283.8,90.9 L 283.7,90.8 L 283.6,90.8 L 283.6,90.7 L 283.5,90.7 L 283.4,90.6 L 283.4,90.5 L 283.3,90.5 L 283.3,90.4 L 283.2,90.3 L 283.2,90.2 L 283.2,90.1 L 283.2,90.0 L 283.2,90.0 L 283.2,89.9 L 283.2,89.8 L 283.2,89.7 L 283.2,89.6 L 283.2,89.5 L 283.3,89.4 L 283.3,89.4 L 283.4,89.3 L 283.4,89.2 L 283.5,89.1 L 283.6,89.1 L 283.6,89.0 L 283.7,89.0 L 283.8,88.9 L 283.9,88.9 L 284.0,88.9 L 284.1,88.9 L 284.1,88.9 L 284.2,88.9 L 284.3,88.9 L 284.4,88.9 L 284.5,88.9 L 284.6,88.9 L 284.7,89.0 L 284.8,89.0 L 284.8,89.1 L 284.9,89.1 L 285.0,89.2 L 285.0,89.2 L 285.1,89.3 L 285.1,89.4 L 285.2,89.5 L 285.2,89.6 L 285.2,89.6 L 285.2,89.7 L 285.3,89.8 L 285.3,89.9 L 284.2,89.9 Z\" style=\"fill:#000000;fill-rule:evenodd;fill-opacity:1;stroke:#000000;stroke-width:0.0px;stroke-linecap:butt;stroke-linejoin:miter;stroke-opacity:1;\"/>\n",
       "<path class=\"legend\" d=\"M 133.3 273.5 Q 135.8 273.5, 137.2 275.0 Q 138.5 276.5, 138.5 279.2 Q 138.5 281.8, 137.2 283.4 Q 135.8 284.9, 133.3 284.9 L 129.7 284.9 L 129.7 273.5 L 133.3 273.5 M 133.3 283.6 Q 135.0 283.6, 136.0 282.5 Q 136.9 281.4, 136.9 279.2 Q 136.9 277.0, 136.0 275.9 Q 135.0 274.8, 133.3 274.8 L 131.2 274.8 L 131.2 283.6 L 133.3 283.6 \" fill=\"#000000\"/>\n",
       "<path class=\"legend\" d=\"M 140.1 273.5 L 141.7 273.5 L 141.7 278.3 L 147.4 278.3 L 147.4 273.5 L 149.0 273.5 L 149.0 284.9 L 147.4 284.9 L 147.4 279.6 L 141.7 279.6 L 141.7 284.9 L 140.1 284.9 L 140.1 273.5 \" fill=\"#000000\"/>\n",
       "<path class=\"legend\" d=\"M 151.2 279.2 Q 151.2 276.4, 152.5 274.9 Q 153.9 273.4, 156.4 273.4 Q 158.7 273.4, 160.0 275.0 L 158.9 275.9 Q 158.0 274.7, 156.4 274.7 Q 154.7 274.7, 153.8 275.9 Q 152.9 277.0, 152.9 279.2 Q 152.9 281.4, 153.8 282.6 Q 154.7 283.7, 156.6 283.7 Q 157.8 283.7, 159.3 283.0 L 159.7 284.2 Q 159.1 284.6, 158.2 284.8 Q 157.3 285.0, 156.3 285.0 Q 153.9 285.0, 152.5 283.5 Q 151.2 282.0, 151.2 279.2 \" fill=\"#000000\"/>\n",
       "<path class=\"legend\" d=\"M 161.5 273.5 L 163.0 273.5 L 163.0 278.3 L 168.8 278.3 L 168.8 273.5 L 170.3 273.5 L 170.3 284.9 L 168.8 284.9 L 168.8 279.6 L 163.0 279.6 L 163.0 284.9 L 161.5 284.9 L 161.5 273.5 \" fill=\"#000000\"/>\n",
       "</svg>"
      ],
      "text/plain": [
       "<IPython.core.display.SVG object>"
      ]
     },
     "metadata": {},
     "output_type": "display_data"
    },
    {
     "data": {
      "text/plain": [
       "'O=C([S])C1CC[C@@H](O)[C@H](O)C1'"
      ]
     },
     "metadata": {},
     "output_type": "display_data"
    },
    {
     "data": {
      "image/svg+xml": [
       "<svg xmlns=\"http://www.w3.org/2000/svg\" xmlns:rdkit=\"http://www.rdkit.org/xml\" xmlns:xlink=\"http://www.w3.org/1999/xlink\" version=\"1.1\" baseProfile=\"full\" xml:space=\"preserve\" width=\"300px\" height=\"300px\" viewBox=\"0 0 300 300\">\n",
       "<!-- END OF HEADER -->\n",
       "<rect style=\"opacity:1.0;fill:#FFFFFF;stroke:none\" width=\"300.0\" height=\"300.0\" x=\"0.0\" y=\"0.0\"> </rect>\n",
       "<path class=\"bond-0 atom-1 atom-0\" d=\"M 107.7,157.0 L 97.3,173.3 L 94.2,170.8 Z\" style=\"fill:#000000;fill-rule:evenodd;fill-opacity:1;stroke:#000000;stroke-width:0.5px;stroke-linecap:butt;stroke-linejoin:miter;stroke-opacity:1;\"/>\n",
       "<path class=\"bond-0 atom-1 atom-0\" d=\"M 97.3,173.3 L 80.8,184.7 L 86.9,189.6 Z\" style=\"fill:#FF0000;fill-rule:evenodd;fill-opacity:1;stroke:#FF0000;stroke-width:0.5px;stroke-linecap:butt;stroke-linejoin:miter;stroke-opacity:1;\"/>\n",
       "<path class=\"bond-0 atom-1 atom-0\" d=\"M 97.3,173.3 L 94.2,170.8 L 80.8,184.7 Z\" style=\"fill:#FF0000;fill-rule:evenodd;fill-opacity:1;stroke:#FF0000;stroke-width:0.5px;stroke-linecap:butt;stroke-linejoin:miter;stroke-opacity:1;\"/>\n",
       "<path class=\"bond-1 atom-1 atom-2\" d=\"M 107.7,157.0 L 88.3,108.3\" style=\"fill:none;fill-rule:evenodd;stroke:#000000;stroke-width:2.0px;stroke-linecap:butt;stroke-linejoin:miter;stroke-opacity:1\"/>\n",
       "<path class=\"bond-2 atom-2 atom-3\" d=\"M 84.8,108.1 L 84.9,107.5\" style=\"fill:none;fill-rule:evenodd;stroke:#000000;stroke-width:1.0px;stroke-linecap:butt;stroke-linejoin:miter;stroke-opacity:1\"/>\n",
       "<path class=\"bond-2 atom-2 atom-3\" d=\"M 81.3,107.9 L 81.5,106.6\" style=\"fill:none;fill-rule:evenodd;stroke:#000000;stroke-width:1.0px;stroke-linecap:butt;stroke-linejoin:miter;stroke-opacity:1\"/>\n",
       "<path class=\"bond-2 atom-2 atom-3\" d=\"M 77.8,107.7 L 78.1,105.8\" style=\"fill:none;fill-rule:evenodd;stroke:#000000;stroke-width:1.0px;stroke-linecap:butt;stroke-linejoin:miter;stroke-opacity:1\"/>\n",
       "<path class=\"bond-2 atom-2 atom-3\" d=\"M 74.3,107.6 L 74.6,105.0\" style=\"fill:none;fill-rule:evenodd;stroke:#000000;stroke-width:1.0px;stroke-linecap:butt;stroke-linejoin:miter;stroke-opacity:1\"/>\n",
       "<path class=\"bond-2 atom-2 atom-3\" d=\"M 70.7,107.4 L 71.2,104.1\" style=\"fill:none;fill-rule:evenodd;stroke:#000000;stroke-width:1.0px;stroke-linecap:butt;stroke-linejoin:miter;stroke-opacity:1\"/>\n",
       "<path class=\"bond-2 atom-2 atom-3\" d=\"M 67.2,107.2 L 67.8,103.3\" style=\"fill:none;fill-rule:evenodd;stroke:#000000;stroke-width:1.0px;stroke-linecap:butt;stroke-linejoin:miter;stroke-opacity:1\"/>\n",
       "<path class=\"bond-2 atom-2 atom-3\" d=\"M 63.7,107.0 L 64.4,102.5\" style=\"fill:none;fill-rule:evenodd;stroke:#FF0000;stroke-width:1.0px;stroke-linecap:butt;stroke-linejoin:miter;stroke-opacity:1\"/>\n",
       "<path class=\"bond-2 atom-2 atom-3\" d=\"M 60.2,106.8 L 61.0,101.6\" style=\"fill:none;fill-rule:evenodd;stroke:#FF0000;stroke-width:1.0px;stroke-linecap:butt;stroke-linejoin:miter;stroke-opacity:1\"/>\n",
       "<path class=\"bond-2 atom-2 atom-3\" d=\"M 56.7,106.7 L 57.6,100.8\" style=\"fill:none;fill-rule:evenodd;stroke:#FF0000;stroke-width:1.0px;stroke-linecap:butt;stroke-linejoin:miter;stroke-opacity:1\"/>\n",
       "<path class=\"bond-2 atom-2 atom-3\" d=\"M 53.2,106.5 L 54.1,100.0\" style=\"fill:none;fill-rule:evenodd;stroke:#FF0000;stroke-width:1.0px;stroke-linecap:butt;stroke-linejoin:miter;stroke-opacity:1\"/>\n",
       "<path class=\"bond-2 atom-2 atom-3\" d=\"M 49.7,106.3 L 50.7,99.2\" style=\"fill:none;fill-rule:evenodd;stroke:#FF0000;stroke-width:1.0px;stroke-linecap:butt;stroke-linejoin:miter;stroke-opacity:1\"/>\n",
       "<path class=\"bond-2 atom-2 atom-3\" d=\"M 46.2,106.1 L 47.3,98.3\" style=\"fill:none;fill-rule:evenodd;stroke:#FF0000;stroke-width:1.0px;stroke-linecap:butt;stroke-linejoin:miter;stroke-opacity:1\"/>\n",
       "<path class=\"bond-3 atom-2 atom-4\" d=\"M 88.3,108.3 L 120.8,67.2\" style=\"fill:none;fill-rule:evenodd;stroke:#000000;stroke-width:2.0px;stroke-linecap:butt;stroke-linejoin:miter;stroke-opacity:1\"/>\n",
       "<path class=\"bond-4 atom-4 atom-5\" d=\"M 120.8,67.2 L 172.6,74.8\" style=\"fill:none;fill-rule:evenodd;stroke:#000000;stroke-width:2.0px;stroke-linecap:butt;stroke-linejoin:miter;stroke-opacity:1\"/>\n",
       "<path class=\"bond-5 atom-5 atom-6\" d=\"M 172.6,74.8 L 192.0,123.4\" style=\"fill:none;fill-rule:evenodd;stroke:#000000;stroke-width:2.0px;stroke-linecap:butt;stroke-linejoin:miter;stroke-opacity:1\"/>\n",
       "<path class=\"bond-5 atom-5 atom-6\" d=\"M 167.0,81.9 L 183.0,122.1\" style=\"fill:none;fill-rule:evenodd;stroke:#000000;stroke-width:2.0px;stroke-linecap:butt;stroke-linejoin:miter;stroke-opacity:1\"/>\n",
       "<path class=\"bond-6 atom-6 atom-7\" d=\"M 192.0,123.4 L 243.8,131.0\" style=\"fill:none;fill-rule:evenodd;stroke:#000000;stroke-width:2.0px;stroke-linecap:butt;stroke-linejoin:miter;stroke-opacity:1\"/>\n",
       "<path class=\"bond-7 atom-7 atom-8\" d=\"M 243.8,131.0 L 256.8,114.6\" style=\"fill:none;fill-rule:evenodd;stroke:#000000;stroke-width:2.0px;stroke-linecap:butt;stroke-linejoin:miter;stroke-opacity:1\"/>\n",
       "<path class=\"bond-7 atom-7 atom-8\" d=\"M 256.8,114.6 L 269.8,98.1\" style=\"fill:none;fill-rule:evenodd;stroke:#CCCC00;stroke-width:2.0px;stroke-linecap:butt;stroke-linejoin:miter;stroke-opacity:1\"/>\n",
       "<path class=\"bond-8 atom-7 atom-9\" d=\"M 239.3,130.4 L 247.6,151.1\" style=\"fill:none;fill-rule:evenodd;stroke:#000000;stroke-width:2.0px;stroke-linecap:butt;stroke-linejoin:miter;stroke-opacity:1\"/>\n",
       "<path class=\"bond-8 atom-7 atom-9\" d=\"M 247.6,151.1 L 255.9,171.9\" style=\"fill:none;fill-rule:evenodd;stroke:#FF0000;stroke-width:2.0px;stroke-linecap:butt;stroke-linejoin:miter;stroke-opacity:1\"/>\n",
       "<path class=\"bond-8 atom-7 atom-9\" d=\"M 246.6,127.5 L 254.9,148.2\" style=\"fill:none;fill-rule:evenodd;stroke:#000000;stroke-width:2.0px;stroke-linecap:butt;stroke-linejoin:miter;stroke-opacity:1\"/>\n",
       "<path class=\"bond-8 atom-7 atom-9\" d=\"M 254.9,148.2 L 263.2,169.0\" style=\"fill:none;fill-rule:evenodd;stroke:#FF0000;stroke-width:2.0px;stroke-linecap:butt;stroke-linejoin:miter;stroke-opacity:1\"/>\n",
       "<path class=\"bond-9 atom-6 atom-10\" d=\"M 192.0,123.4 L 159.5,164.6\" style=\"fill:none;fill-rule:evenodd;stroke:#000000;stroke-width:2.0px;stroke-linecap:butt;stroke-linejoin:miter;stroke-opacity:1\"/>\n",
       "<path class=\"bond-10 atom-10 atom-1\" d=\"M 159.5,164.6 L 107.7,157.0\" style=\"fill:none;fill-rule:evenodd;stroke:#000000;stroke-width:2.0px;stroke-linecap:butt;stroke-linejoin:miter;stroke-opacity:1\"/>\n",
       "<path d=\"M 106.7,154.5 L 107.7,157.0 L 110.3,157.4\" style=\"fill:none;stroke:#000000;stroke-width:2.0px;stroke-linecap:butt;stroke-linejoin:miter;stroke-opacity:1;\"/>\n",
       "<path d=\"M 89.3,110.7 L 88.3,108.3 L 89.9,106.2\" style=\"fill:none;stroke:#000000;stroke-width:2.0px;stroke-linecap:butt;stroke-linejoin:miter;stroke-opacity:1;\"/>\n",
       "<path d=\"M 119.2,69.2 L 120.8,67.2 L 123.4,67.6\" style=\"fill:none;stroke:#000000;stroke-width:2.0px;stroke-linecap:butt;stroke-linejoin:miter;stroke-opacity:1;\"/>\n",
       "<path d=\"M 170.0,74.4 L 172.6,74.8 L 173.6,77.2\" style=\"fill:none;stroke:#000000;stroke-width:2.0px;stroke-linecap:butt;stroke-linejoin:miter;stroke-opacity:1;\"/>\n",
       "<path d=\"M 241.2,130.6 L 243.8,131.0 L 244.5,130.2\" style=\"fill:none;stroke:#000000;stroke-width:2.0px;stroke-linecap:butt;stroke-linejoin:miter;stroke-opacity:1;\"/>\n",
       "<path d=\"M 161.1,162.5 L 159.5,164.6 L 156.9,164.2\" style=\"fill:none;stroke:#000000;stroke-width:2.0px;stroke-linecap:butt;stroke-linejoin:miter;stroke-opacity:1;\"/>\n",
       "<path class=\"atom-0\" d=\"M 53.7 190.7 L 55.7 190.7 L 55.7 197.1 L 63.3 197.1 L 63.3 190.7 L 65.3 190.7 L 65.3 205.6 L 63.3 205.6 L 63.3 198.7 L 55.7 198.7 L 55.7 205.6 L 53.7 205.6 L 53.7 190.7 \" fill=\"#FF0000\"/>\n",
       "<path class=\"atom-0\" d=\"M 68.4 198.1 Q 68.4 194.6, 70.1 192.6 Q 71.9 190.6, 75.2 190.6 Q 78.5 190.6, 80.2 192.6 Q 82.0 194.6, 82.0 198.1 Q 82.0 201.7, 80.2 203.8 Q 78.4 205.8, 75.2 205.8 Q 71.9 205.8, 70.1 203.8 Q 68.4 201.8, 68.4 198.1 M 75.2 204.1 Q 77.4 204.1, 78.7 202.6 Q 79.9 201.1, 79.9 198.1 Q 79.9 195.2, 78.7 193.7 Q 77.4 192.3, 75.2 192.3 Q 72.9 192.3, 71.7 193.7 Q 70.5 195.2, 70.5 198.1 Q 70.5 201.1, 71.7 202.6 Q 72.9 204.1, 75.2 204.1 \" fill=\"#FF0000\"/>\n",
       "<path class=\"atom-3\" d=\"M 15.0 93.4 L 17.0 93.4 L 17.0 99.7 L 24.6 99.7 L 24.6 93.4 L 26.6 93.4 L 26.6 108.2 L 24.6 108.2 L 24.6 101.4 L 17.0 101.4 L 17.0 108.2 L 15.0 108.2 L 15.0 93.4 \" fill=\"#FF0000\"/>\n",
       "<path class=\"atom-3\" d=\"M 29.7 100.8 Q 29.7 97.2, 31.4 95.2 Q 33.2 93.2, 36.5 93.2 Q 39.8 93.2, 41.5 95.2 Q 43.3 97.2, 43.3 100.8 Q 43.3 104.4, 41.5 106.4 Q 39.7 108.4, 36.5 108.4 Q 33.2 108.4, 31.4 106.4 Q 29.7 104.4, 29.7 100.8 M 36.5 106.8 Q 38.7 106.8, 39.9 105.3 Q 41.2 103.7, 41.2 100.8 Q 41.2 97.8, 39.9 96.4 Q 38.7 94.9, 36.5 94.9 Q 34.2 94.9, 33.0 96.4 Q 31.7 97.8, 31.7 100.8 Q 31.7 103.8, 33.0 105.3 Q 34.2 106.8, 36.5 106.8 \" fill=\"#FF0000\"/>\n",
       "<path class=\"atom-8\" d=\"M 272.1 95.0 Q 272.3 95.1, 273.0 95.4 Q 273.7 95.7, 274.4 95.8 Q 275.2 96.0, 276.0 96.0 Q 277.4 96.0, 278.2 95.3 Q 279.0 94.6, 279.0 93.5 Q 279.0 92.6, 278.6 92.1 Q 278.2 91.6, 277.5 91.4 Q 276.9 91.1, 275.9 90.8 Q 274.6 90.4, 273.8 90.0 Q 273.0 89.6, 272.4 88.8 Q 271.9 88.0, 271.9 86.7 Q 271.9 84.8, 273.1 83.7 Q 274.4 82.5, 276.9 82.5 Q 278.6 82.5, 280.6 83.3 L 280.1 84.9 Q 278.3 84.2, 277.0 84.2 Q 275.5 84.2, 274.7 84.8 Q 273.9 85.4, 274.0 86.4 Q 274.0 87.2, 274.4 87.7 Q 274.8 88.2, 275.4 88.5 Q 276.0 88.7, 277.0 89.0 Q 278.3 89.5, 279.1 89.9 Q 279.9 90.3, 280.5 91.2 Q 281.1 92.0, 281.1 93.5 Q 281.1 95.5, 279.7 96.6 Q 278.3 97.7, 276.0 97.7 Q 274.7 97.7, 273.7 97.4 Q 272.7 97.1, 271.6 96.7 L 272.1 95.0 \" fill=\"#CCCC00\"/>\n",
       "<path class=\"atom-9\" d=\"M 256.4 179.7 Q 256.4 176.2, 258.1 174.2 Q 259.9 172.2, 263.2 172.2 Q 266.5 172.2, 268.2 174.2 Q 270.0 176.2, 270.0 179.7 Q 270.0 183.3, 268.2 185.4 Q 266.4 187.4, 263.2 187.4 Q 259.9 187.4, 258.1 185.4 Q 256.4 183.4, 256.4 179.7 M 263.2 185.8 Q 265.5 185.8, 266.7 184.2 Q 267.9 182.7, 267.9 179.7 Q 267.9 176.8, 266.7 175.4 Q 265.5 173.9, 263.2 173.9 Q 260.9 173.9, 259.7 175.3 Q 258.5 176.8, 258.5 179.7 Q 258.5 182.7, 259.7 184.2 Q 260.9 185.8, 263.2 185.8 \" fill=\"#FF0000\"/>\n",
       "<path class=\"atom-8\" d=\"M 285.3,89.9 L 285.3,90.0 L 285.2,90.1 L 285.2,90.2 L 285.2,90.3 L 285.2,90.3 L 285.1,90.4 L 285.1,90.5 L 285.0,90.6 L 285.0,90.6 L 284.9,90.7 L 284.8,90.8 L 284.8,90.8 L 284.7,90.9 L 284.6,90.9 L 284.5,90.9 L 284.4,90.9 L 284.3,91.0 L 284.2,91.0 L 284.1,91.0 L 284.1,90.9 L 284.0,90.9 L 283.9,90.9 L 283.8,90.9 L 283.7,90.8 L 283.6,90.8 L 283.6,90.7 L 283.5,90.7 L 283.4,90.6 L 283.4,90.5 L 283.3,90.5 L 283.3,90.4 L 283.2,90.3 L 283.2,90.2 L 283.2,90.1 L 283.2,90.0 L 283.2,90.0 L 283.2,89.9 L 283.2,89.8 L 283.2,89.7 L 283.2,89.6 L 283.2,89.5 L 283.3,89.4 L 283.3,89.4 L 283.4,89.3 L 283.4,89.2 L 283.5,89.1 L 283.6,89.1 L 283.6,89.0 L 283.7,89.0 L 283.8,88.9 L 283.9,88.9 L 284.0,88.9 L 284.1,88.9 L 284.1,88.9 L 284.2,88.9 L 284.3,88.9 L 284.4,88.9 L 284.5,88.9 L 284.6,88.9 L 284.7,89.0 L 284.8,89.0 L 284.8,89.1 L 284.9,89.1 L 285.0,89.2 L 285.0,89.2 L 285.1,89.3 L 285.1,89.4 L 285.2,89.5 L 285.2,89.6 L 285.2,89.6 L 285.2,89.7 L 285.3,89.8 L 285.3,89.9 L 284.2,89.9 Z\" style=\"fill:#000000;fill-rule:evenodd;fill-opacity:1;stroke:#000000;stroke-width:0.0px;stroke-linecap:butt;stroke-linejoin:miter;stroke-opacity:1;\"/>\n",
       "<path class=\"legend\" d=\"M 119.8 273.5 Q 122.3 273.5, 123.7 275.0 Q 125.0 276.5, 125.0 279.2 Q 125.0 281.8, 123.7 283.4 Q 122.3 284.9, 119.8 284.9 L 116.2 284.9 L 116.2 273.5 L 119.8 273.5 M 119.8 283.6 Q 121.6 283.6, 122.5 282.5 Q 123.4 281.4, 123.4 279.2 Q 123.4 277.0, 122.5 275.9 Q 121.6 274.8, 119.8 274.8 L 117.7 274.8 L 117.7 283.6 L 119.8 283.6 \" fill=\"#000000\"/>\n",
       "<path class=\"legend\" d=\"M 126.6 273.5 L 128.1 273.5 L 128.1 278.3 L 133.9 278.3 L 133.9 273.5 L 135.4 273.5 L 135.4 284.9 L 133.9 284.9 L 133.9 279.6 L 128.1 279.6 L 128.1 284.9 L 126.6 284.9 L 126.6 273.5 \" fill=\"#000000\"/>\n",
       "<path class=\"legend\" d=\"M 137.6 279.2 Q 137.6 276.4, 138.9 274.9 Q 140.2 273.4, 142.7 273.4 Q 145.1 273.4, 146.3 275.0 L 145.3 275.9 Q 144.4 274.7, 142.7 274.7 Q 141.0 274.7, 140.1 275.9 Q 139.2 277.0, 139.2 279.2 Q 139.2 281.4, 140.2 282.6 Q 141.1 283.7, 142.9 283.7 Q 144.2 283.7, 145.6 283.0 L 146.1 284.2 Q 145.5 284.6, 144.6 284.8 Q 143.7 285.0, 142.7 285.0 Q 140.2 285.0, 138.9 283.5 Q 137.6 282.0, 137.6 279.2 \" fill=\"#000000\"/>\n",
       "<path class=\"legend\" d=\"M 147.8 273.5 L 149.3 273.5 L 149.3 278.3 L 155.1 278.3 L 155.1 273.5 L 156.6 273.5 L 156.6 284.9 L 155.1 284.9 L 155.1 279.6 L 149.3 279.6 L 149.3 284.9 L 147.8 284.9 L 147.8 273.5 \" fill=\"#000000\"/>\n",
       "<path class=\"legend\" d=\"M 158.8 280.7 Q 158.8 278.7, 159.8 277.6 Q 160.8 276.5, 162.7 276.5 Q 164.5 276.5, 165.3 277.6 Q 166.1 278.6, 166.1 280.7 L 166.1 280.9 L 160.4 280.9 Q 160.4 282.3, 161.0 283.1 Q 161.6 283.8, 162.8 283.8 Q 163.4 283.8, 164.0 283.7 Q 164.6 283.5, 165.3 283.2 L 165.8 284.2 Q 165.0 284.6, 164.2 284.8 Q 163.5 285.0, 162.7 285.0 Q 160.9 285.0, 159.8 283.9 Q 158.8 282.7, 158.8 280.7 M 162.7 277.7 Q 161.7 277.7, 161.2 278.2 Q 160.6 278.8, 160.4 279.8 L 164.5 279.8 Q 164.4 278.7, 164.0 278.2 Q 163.5 277.7, 162.7 277.7 \" fill=\"#000000\"/>\n",
       "<path class=\"legend\" d=\"M 171.8 276.5 Q 173.1 276.5, 173.8 277.2 Q 174.5 278.0, 174.5 279.4 L 174.5 284.9 L 173.0 284.9 L 173.0 279.5 Q 173.0 278.6, 172.6 278.1 Q 172.3 277.7, 171.4 277.7 Q 170.7 277.7, 170.0 278.0 Q 169.4 278.4, 169.0 279.0 L 169.0 284.9 L 167.5 284.9 L 167.5 276.6 L 168.8 276.6 L 168.9 277.8 Q 170.0 276.5, 171.8 276.5 \" fill=\"#000000\"/>\n",
       "<path class=\"legend\" d=\"M 176.6 280.7 Q 176.6 278.7, 177.6 277.6 Q 178.6 276.5, 180.4 276.5 Q 182.2 276.5, 183.0 277.6 Q 183.8 278.6, 183.8 280.7 L 183.8 280.9 L 178.1 280.9 Q 178.1 282.3, 178.7 283.1 Q 179.4 283.8, 180.5 283.8 Q 181.2 283.8, 181.8 283.7 Q 182.4 283.5, 183.1 283.2 L 183.5 284.2 Q 182.7 284.6, 182.0 284.8 Q 181.2 285.0, 180.5 285.0 Q 178.6 285.0, 177.6 283.9 Q 176.6 282.7, 176.6 280.7 M 180.4 277.7 Q 179.5 277.7, 178.9 278.2 Q 178.3 278.8, 178.2 279.8 L 182.3 279.8 Q 182.1 278.7, 181.7 278.2 Q 181.2 277.7, 180.4 277.7 \" fill=\"#000000\"/>\n",
       "</svg>"
      ],
      "text/plain": [
       "<IPython.core.display.SVG object>"
      ]
     },
     "metadata": {},
     "output_type": "display_data"
    },
    {
     "data": {
      "text/plain": [
       "'O=C([S])C1=CC[C@@H](O)[C@H](O)C1'"
      ]
     },
     "metadata": {},
     "output_type": "display_data"
    },
    {
     "data": {
      "image/svg+xml": [
       "<svg xmlns=\"http://www.w3.org/2000/svg\" xmlns:rdkit=\"http://www.rdkit.org/xml\" xmlns:xlink=\"http://www.w3.org/1999/xlink\" version=\"1.1\" baseProfile=\"full\" xml:space=\"preserve\" width=\"300px\" height=\"300px\" viewBox=\"0 0 300 300\">\n",
       "<!-- END OF HEADER -->\n",
       "<rect style=\"opacity:1.0;fill:#FFFFFF;stroke:none\" width=\"300.0\" height=\"300.0\" x=\"0.0\" y=\"0.0\"> </rect>\n",
       "<path class=\"bond-0 atom-0 atom-1\" d=\"M 30.5,152.2 L 54.3,143.9\" style=\"fill:none;fill-rule:evenodd;stroke:#FF0000;stroke-width:2.0px;stroke-linecap:butt;stroke-linejoin:miter;stroke-opacity:1\"/>\n",
       "<path class=\"bond-0 atom-0 atom-1\" d=\"M 54.3,143.9 L 78.2,135.7\" style=\"fill:none;fill-rule:evenodd;stroke:#000000;stroke-width:2.0px;stroke-linecap:butt;stroke-linejoin:miter;stroke-opacity:1\"/>\n",
       "<path class=\"bond-0 atom-0 atom-1\" d=\"M 33.4,160.4 L 57.2,152.1\" style=\"fill:none;fill-rule:evenodd;stroke:#FF0000;stroke-width:2.0px;stroke-linecap:butt;stroke-linejoin:miter;stroke-opacity:1\"/>\n",
       "<path class=\"bond-0 atom-0 atom-1\" d=\"M 57.2,152.1 L 81.0,143.9\" style=\"fill:none;fill-rule:evenodd;stroke:#000000;stroke-width:2.0px;stroke-linecap:butt;stroke-linejoin:miter;stroke-opacity:1\"/>\n",
       "<path class=\"bond-1 atom-1 atom-2\" d=\"M 77.2,140.6 L 81.7,117.4\" style=\"fill:none;fill-rule:evenodd;stroke:#000000;stroke-width:2.0px;stroke-linecap:butt;stroke-linejoin:miter;stroke-opacity:1\"/>\n",
       "<path class=\"bond-1 atom-1 atom-2\" d=\"M 81.7,117.4 L 86.1,94.3\" style=\"fill:none;fill-rule:evenodd;stroke:#CCCC00;stroke-width:2.0px;stroke-linecap:butt;stroke-linejoin:miter;stroke-opacity:1\"/>\n",
       "<path class=\"bond-2 atom-1 atom-3\" d=\"M 77.2,140.6 L 121.0,178.5\" style=\"fill:none;fill-rule:evenodd;stroke:#000000;stroke-width:2.0px;stroke-linecap:butt;stroke-linejoin:miter;stroke-opacity:1\"/>\n",
       "<path class=\"bond-3 atom-3 atom-4\" d=\"M 121.0,178.5 L 175.6,159.5\" style=\"fill:none;fill-rule:evenodd;stroke:#000000;stroke-width:2.0px;stroke-linecap:butt;stroke-linejoin:miter;stroke-opacity:1\"/>\n",
       "<path class=\"bond-4 atom-4 atom-5\" d=\"M 175.6,159.5 L 186.6,102.7\" style=\"fill:none;fill-rule:evenodd;stroke:#000000;stroke-width:2.0px;stroke-linecap:butt;stroke-linejoin:miter;stroke-opacity:1\"/>\n",
       "<path class=\"bond-4 atom-4 atom-5\" d=\"M 185.1,156.2 L 194.1,109.3\" style=\"fill:none;fill-rule:evenodd;stroke:#000000;stroke-width:2.0px;stroke-linecap:butt;stroke-linejoin:miter;stroke-opacity:1\"/>\n",
       "<path class=\"bond-5 atom-5 atom-6\" d=\"M 186.6,102.7 L 241.3,83.8\" style=\"fill:none;fill-rule:evenodd;stroke:#000000;stroke-width:2.0px;stroke-linecap:butt;stroke-linejoin:miter;stroke-opacity:1\"/>\n",
       "<path class=\"bond-6 atom-6 atom-7\" d=\"M 241.3,83.8 L 285.0,121.6\" style=\"fill:none;fill-rule:evenodd;stroke:#000000;stroke-width:2.0px;stroke-linecap:butt;stroke-linejoin:miter;stroke-opacity:1\"/>\n",
       "<path class=\"bond-6 atom-6 atom-7\" d=\"M 239.4,93.6 L 275.5,124.9\" style=\"fill:none;fill-rule:evenodd;stroke:#000000;stroke-width:2.0px;stroke-linecap:butt;stroke-linejoin:miter;stroke-opacity:1\"/>\n",
       "<path class=\"bond-7 atom-7 atom-8\" d=\"M 285.0,121.6 L 274.1,178.5\" style=\"fill:none;fill-rule:evenodd;stroke:#000000;stroke-width:2.0px;stroke-linecap:butt;stroke-linejoin:miter;stroke-opacity:1\"/>\n",
       "<path class=\"bond-8 atom-8 atom-9\" d=\"M 274.1,178.5 L 219.4,197.4\" style=\"fill:none;fill-rule:evenodd;stroke:#000000;stroke-width:2.0px;stroke-linecap:butt;stroke-linejoin:miter;stroke-opacity:1\"/>\n",
       "<path class=\"bond-8 atom-8 atom-9\" d=\"M 266.5,171.9 L 221.3,187.6\" style=\"fill:none;fill-rule:evenodd;stroke:#000000;stroke-width:2.0px;stroke-linecap:butt;stroke-linejoin:miter;stroke-opacity:1\"/>\n",
       "<path class=\"bond-9 atom-9 atom-4\" d=\"M 219.4,197.4 L 175.6,159.5\" style=\"fill:none;fill-rule:evenodd;stroke:#000000;stroke-width:2.0px;stroke-linecap:butt;stroke-linejoin:miter;stroke-opacity:1\"/>\n",
       "<path d=\"M 77.4,139.4 L 77.2,140.6 L 79.4,142.5\" style=\"fill:none;stroke:#000000;stroke-width:2.0px;stroke-linecap:butt;stroke-linejoin:miter;stroke-opacity:1;\"/>\n",
       "<path d=\"M 118.8,176.6 L 121.0,178.5 L 123.7,177.5\" style=\"fill:none;stroke:#000000;stroke-width:2.0px;stroke-linecap:butt;stroke-linejoin:miter;stroke-opacity:1;\"/>\n",
       "<path d=\"M 186.0,105.5 L 186.6,102.7 L 189.3,101.8\" style=\"fill:none;stroke:#000000;stroke-width:2.0px;stroke-linecap:butt;stroke-linejoin:miter;stroke-opacity:1;\"/>\n",
       "<path d=\"M 238.5,84.7 L 241.3,83.8 L 243.4,85.7\" style=\"fill:none;stroke:#000000;stroke-width:2.0px;stroke-linecap:butt;stroke-linejoin:miter;stroke-opacity:1;\"/>\n",
       "<path d=\"M 282.8,119.7 L 285.0,121.6 L 284.5,124.5\" style=\"fill:none;stroke:#000000;stroke-width:2.0px;stroke-linecap:butt;stroke-linejoin:miter;stroke-opacity:1;\"/>\n",
       "<path d=\"M 274.6,175.6 L 274.1,178.5 L 271.3,179.4\" style=\"fill:none;stroke:#000000;stroke-width:2.0px;stroke-linecap:butt;stroke-linejoin:miter;stroke-opacity:1;\"/>\n",
       "<path d=\"M 222.1,196.5 L 219.4,197.4 L 217.2,195.5\" style=\"fill:none;stroke:#000000;stroke-width:2.0px;stroke-linecap:butt;stroke-linejoin:miter;stroke-opacity:1;\"/>\n",
       "<path class=\"atom-0\" d=\"M 15.0 159.6 Q 15.0 155.6, 16.9 153.4 Q 18.9 151.2, 22.5 151.2 Q 26.2 151.2, 28.1 153.4 Q 30.0 155.6, 30.0 159.6 Q 30.0 163.6, 28.1 165.8 Q 26.1 168.1, 22.5 168.1 Q 18.9 168.1, 16.9 165.8 Q 15.0 163.6, 15.0 159.6 M 22.5 166.2 Q 25.0 166.2, 26.4 164.6 Q 27.7 162.9, 27.7 159.6 Q 27.7 156.4, 26.4 154.7 Q 25.0 153.1, 22.5 153.1 Q 20.0 153.1, 18.7 154.7 Q 17.3 156.3, 17.3 159.6 Q 17.3 162.9, 18.7 164.6 Q 20.0 166.2, 22.5 166.2 \" fill=\"#FF0000\"/>\n",
       "<path class=\"atom-2\" d=\"M 83.5 89.4 Q 83.7 89.5, 84.5 89.8 Q 85.2 90.1, 86.1 90.3 Q 86.9 90.5, 87.7 90.5 Q 89.3 90.5, 90.2 89.8 Q 91.1 89.0, 91.1 87.7 Q 91.1 86.8, 90.6 86.2 Q 90.2 85.7, 89.5 85.4 Q 88.8 85.1, 87.7 84.7 Q 86.2 84.3, 85.3 83.9 Q 84.5 83.4, 83.8 82.6 Q 83.2 81.7, 83.2 80.2 Q 83.2 78.1, 84.6 76.9 Q 86.0 75.6, 88.8 75.6 Q 90.7 75.6, 92.9 76.5 L 92.3 78.3 Q 90.4 77.5, 88.9 77.5 Q 87.3 77.5, 86.4 78.1 Q 85.5 78.8, 85.5 79.9 Q 85.5 80.8, 86.0 81.3 Q 86.5 81.9, 87.1 82.2 Q 87.8 82.5, 88.9 82.8 Q 90.4 83.3, 91.2 83.7 Q 92.1 84.2, 92.7 85.1 Q 93.4 86.1, 93.4 87.7 Q 93.4 89.9, 91.9 91.2 Q 90.4 92.4, 87.8 92.4 Q 86.4 92.4, 85.3 92.0 Q 84.2 91.7, 82.9 91.2 L 83.5 89.4 \" fill=\"#CCCC00\"/>\n",
       "<path class=\"atom-2\" d=\"M 98.0,83.8 L 98.0,83.9 L 98.0,84.0 L 98.0,84.1 L 98.0,84.1 L 97.9,84.2 L 97.9,84.3 L 97.8,84.4 L 97.8,84.5 L 97.7,84.6 L 97.6,84.6 L 97.5,84.7 L 97.5,84.8 L 97.4,84.8 L 97.3,84.8 L 97.2,84.9 L 97.1,84.9 L 97.0,84.9 L 96.9,84.9 L 96.8,84.9 L 96.7,84.9 L 96.6,84.9 L 96.5,84.9 L 96.4,84.8 L 96.3,84.8 L 96.2,84.7 L 96.2,84.7 L 96.1,84.6 L 96.0,84.5 L 95.9,84.5 L 95.9,84.4 L 95.8,84.3 L 95.8,84.2 L 95.8,84.1 L 95.7,84.0 L 95.7,83.9 L 95.7,83.8 L 95.7,83.7 L 95.7,83.6 L 95.7,83.5 L 95.8,83.4 L 95.8,83.3 L 95.8,83.2 L 95.9,83.1 L 95.9,83.1 L 96.0,83.0 L 96.1,82.9 L 96.2,82.8 L 96.2,82.8 L 96.3,82.7 L 96.4,82.7 L 96.5,82.7 L 96.6,82.6 L 96.7,82.6 L 96.8,82.6 L 96.9,82.6 L 97.0,82.6 L 97.1,82.6 L 97.2,82.6 L 97.3,82.7 L 97.4,82.7 L 97.5,82.8 L 97.5,82.8 L 97.6,82.9 L 97.7,82.9 L 97.8,83.0 L 97.8,83.1 L 97.9,83.2 L 97.9,83.3 L 98.0,83.4 L 98.0,83.5 L 98.0,83.6 L 98.0,83.7 L 98.0,83.8 L 96.9,83.8 Z\" style=\"fill:#000000;fill-rule:evenodd;fill-opacity:1;stroke:#000000;stroke-width:0.0px;stroke-linecap:butt;stroke-linejoin:miter;stroke-opacity:1;\"/>\n",
       "<path class=\"legend\" d=\"M 140.1 272.7 Q 141.8 272.7, 142.7 273.8 Q 143.7 274.8, 143.7 276.8 Q 143.7 278.9, 142.6 280.1 Q 141.4 281.2, 139.5 281.2 Q 138.5 281.2, 137.8 281.0 L 137.8 285.0 L 136.3 285.0 L 136.3 272.9 L 137.5 272.9 L 137.7 273.8 Q 138.1 273.3, 138.7 273.0 Q 139.3 272.7, 140.1 272.7 M 139.5 280.0 Q 140.7 280.0, 141.4 279.2 Q 142.2 278.3, 142.2 276.8 Q 142.2 275.4, 141.6 274.7 Q 141.0 273.9, 140.0 273.9 Q 139.2 273.9, 138.6 274.3 Q 138.0 274.8, 137.8 275.5 L 137.8 279.8 Q 138.6 280.0, 139.5 280.0 \" fill=\"#000000\"/>\n",
       "<path class=\"legend\" d=\"M 145.0 268.9 L 146.5 268.9 L 146.5 281.1 L 145.0 281.1 L 145.0 268.9 \" fill=\"#000000\"/>\n",
       "<path class=\"legend\" d=\"M 148.4 278.9 Q 148.4 277.5, 149.4 276.8 Q 150.5 276.1, 152.4 276.1 L 153.7 276.1 L 153.7 275.8 Q 153.7 274.8, 153.2 274.3 Q 152.8 273.9, 151.8 273.9 Q 151.1 273.9, 150.6 274.0 Q 150.1 274.1, 149.3 274.5 L 148.9 273.4 Q 150.4 272.7, 151.8 272.7 Q 153.6 272.7, 154.4 273.5 Q 155.2 274.2, 155.2 275.8 L 155.2 281.1 L 154.0 281.1 Q 154.0 281.0, 153.9 280.8 Q 153.9 280.5, 153.8 280.1 Q 152.6 281.3, 151.1 281.3 Q 149.9 281.3, 149.1 280.6 Q 148.4 280.0, 148.4 278.9 M 149.9 278.8 Q 149.9 279.4, 150.3 279.8 Q 150.7 280.1, 151.4 280.1 Q 152.0 280.1, 152.6 279.8 Q 153.2 279.5, 153.7 279.0 L 153.7 277.2 L 152.5 277.2 Q 151.2 277.2, 150.6 277.6 Q 149.9 278.0, 149.9 278.8 \" fill=\"#000000\"/>\n",
       "<path class=\"legend\" d=\"M 157.0 277.0 Q 157.0 275.0, 157.9 273.8 Q 158.9 272.7, 160.9 272.7 Q 162.8 272.7, 163.7 274.1 L 162.7 274.8 Q 162.3 274.4, 161.9 274.1 Q 161.5 273.9, 160.9 273.9 Q 159.8 273.9, 159.1 274.7 Q 158.5 275.4, 158.5 277.0 Q 158.5 278.5, 159.1 279.3 Q 159.8 280.0, 161.0 280.0 Q 161.7 280.0, 162.1 279.9 Q 162.6 279.7, 163.2 279.5 L 163.6 280.5 Q 162.4 281.2, 160.9 281.2 Q 158.9 281.2, 157.9 280.1 Q 157.0 278.9, 157.0 277.0 \" fill=\"#000000\"/>\n",
       "</svg>"
      ],
      "text/plain": [
       "<IPython.core.display.SVG object>"
      ]
     },
     "metadata": {},
     "output_type": "display_data"
    },
    {
     "data": {
      "text/plain": [
       "'O=C([S])Cc1ccccc1'"
      ]
     },
     "metadata": {},
     "output_type": "display_data"
    },
    {
     "data": {
      "image/svg+xml": [
       "<svg xmlns=\"http://www.w3.org/2000/svg\" xmlns:rdkit=\"http://www.rdkit.org/xml\" xmlns:xlink=\"http://www.w3.org/1999/xlink\" version=\"1.1\" baseProfile=\"full\" xml:space=\"preserve\" width=\"300px\" height=\"300px\" viewBox=\"0 0 300 300\">\n",
       "<!-- END OF HEADER -->\n",
       "<rect style=\"opacity:1.0;fill:#FFFFFF;stroke:none\" width=\"300.0\" height=\"300.0\" x=\"0.0\" y=\"0.0\"> </rect>\n",
       "<path class=\"bond-0 atom-0 atom-1\" d=\"M 265.1,85.9 L 250.5,111.1\" style=\"fill:none;fill-rule:evenodd;stroke:#CCCC00;stroke-width:2.0px;stroke-linecap:butt;stroke-linejoin:miter;stroke-opacity:1\"/>\n",
       "<path class=\"bond-0 atom-0 atom-1\" d=\"M 250.5,111.1 L 236.0,136.3\" style=\"fill:none;fill-rule:evenodd;stroke:#000000;stroke-width:2.0px;stroke-linecap:butt;stroke-linejoin:miter;stroke-opacity:1\"/>\n",
       "<path class=\"bond-1 atom-1 atom-2\" d=\"M 236.0,136.3 L 162.3,136.3\" style=\"fill:none;fill-rule:evenodd;stroke:#000000;stroke-width:2.0px;stroke-linecap:butt;stroke-linejoin:miter;stroke-opacity:1\"/>\n",
       "<path class=\"bond-2 atom-2 atom-3\" d=\"M 162.3,136.3 L 125.5,200.1\" style=\"fill:none;fill-rule:evenodd;stroke:#000000;stroke-width:2.0px;stroke-linecap:butt;stroke-linejoin:miter;stroke-opacity:1\"/>\n",
       "<path class=\"bond-2 atom-2 atom-3\" d=\"M 149.6,136.3 L 119.1,189.0\" style=\"fill:none;fill-rule:evenodd;stroke:#000000;stroke-width:2.0px;stroke-linecap:butt;stroke-linejoin:miter;stroke-opacity:1\"/>\n",
       "<path class=\"bond-3 atom-3 atom-4\" d=\"M 125.5,200.1 L 51.8,200.1\" style=\"fill:none;fill-rule:evenodd;stroke:#000000;stroke-width:2.0px;stroke-linecap:butt;stroke-linejoin:miter;stroke-opacity:1\"/>\n",
       "<path class=\"bond-4 atom-4 atom-5\" d=\"M 51.8,200.1 L 15.0,136.3\" style=\"fill:none;fill-rule:evenodd;stroke:#000000;stroke-width:2.0px;stroke-linecap:butt;stroke-linejoin:miter;stroke-opacity:1\"/>\n",
       "<path class=\"bond-4 atom-4 atom-5\" d=\"M 58.2,189.0 L 27.8,136.3\" style=\"fill:none;fill-rule:evenodd;stroke:#000000;stroke-width:2.0px;stroke-linecap:butt;stroke-linejoin:miter;stroke-opacity:1\"/>\n",
       "<path class=\"bond-5 atom-5 atom-6\" d=\"M 15.0,136.3 L 51.8,72.5\" style=\"fill:none;fill-rule:evenodd;stroke:#000000;stroke-width:2.0px;stroke-linecap:butt;stroke-linejoin:miter;stroke-opacity:1\"/>\n",
       "<path class=\"bond-6 atom-6 atom-7\" d=\"M 51.8,72.5 L 125.5,72.5\" style=\"fill:none;fill-rule:evenodd;stroke:#000000;stroke-width:2.0px;stroke-linecap:butt;stroke-linejoin:miter;stroke-opacity:1\"/>\n",
       "<path class=\"bond-6 atom-6 atom-7\" d=\"M 58.2,83.5 L 119.1,83.5\" style=\"fill:none;fill-rule:evenodd;stroke:#000000;stroke-width:2.0px;stroke-linecap:butt;stroke-linejoin:miter;stroke-opacity:1\"/>\n",
       "<path class=\"bond-7 atom-1 atom-8\" d=\"M 229.6,136.3 L 245.0,163.0\" style=\"fill:none;fill-rule:evenodd;stroke:#000000;stroke-width:2.0px;stroke-linecap:butt;stroke-linejoin:miter;stroke-opacity:1\"/>\n",
       "<path class=\"bond-7 atom-1 atom-8\" d=\"M 245.0,163.0 L 260.5,189.8\" style=\"fill:none;fill-rule:evenodd;stroke:#FF0000;stroke-width:2.0px;stroke-linecap:butt;stroke-linejoin:miter;stroke-opacity:1\"/>\n",
       "<path class=\"bond-7 atom-1 atom-8\" d=\"M 239.2,130.7 L 254.6,157.5\" style=\"fill:none;fill-rule:evenodd;stroke:#000000;stroke-width:2.0px;stroke-linecap:butt;stroke-linejoin:miter;stroke-opacity:1\"/>\n",
       "<path class=\"bond-7 atom-1 atom-8\" d=\"M 254.6,157.5 L 270.1,184.3\" style=\"fill:none;fill-rule:evenodd;stroke:#FF0000;stroke-width:2.0px;stroke-linecap:butt;stroke-linejoin:miter;stroke-opacity:1\"/>\n",
       "<path class=\"bond-8 atom-7 atom-2\" d=\"M 125.5,72.5 L 162.3,136.3\" style=\"fill:none;fill-rule:evenodd;stroke:#000000;stroke-width:2.0px;stroke-linecap:butt;stroke-linejoin:miter;stroke-opacity:1\"/>\n",
       "<path d=\"M 236.7,135.0 L 236.0,136.3 L 232.3,136.3\" style=\"fill:none;stroke:#000000;stroke-width:2.0px;stroke-linecap:butt;stroke-linejoin:miter;stroke-opacity:1;\"/>\n",
       "<path d=\"M 127.3,196.9 L 125.5,200.1 L 121.8,200.1\" style=\"fill:none;stroke:#000000;stroke-width:2.0px;stroke-linecap:butt;stroke-linejoin:miter;stroke-opacity:1;\"/>\n",
       "<path d=\"M 55.5,200.1 L 51.8,200.1 L 50.0,196.9\" style=\"fill:none;stroke:#000000;stroke-width:2.0px;stroke-linecap:butt;stroke-linejoin:miter;stroke-opacity:1;\"/>\n",
       "<path d=\"M 16.8,139.5 L 15.0,136.3 L 16.8,133.1\" style=\"fill:none;stroke:#000000;stroke-width:2.0px;stroke-linecap:butt;stroke-linejoin:miter;stroke-opacity:1;\"/>\n",
       "<path d=\"M 50.0,75.7 L 51.8,72.5 L 55.5,72.5\" style=\"fill:none;stroke:#000000;stroke-width:2.0px;stroke-linecap:butt;stroke-linejoin:miter;stroke-opacity:1;\"/>\n",
       "<path d=\"M 121.8,72.5 L 125.5,72.5 L 127.3,75.7\" style=\"fill:none;stroke:#000000;stroke-width:2.0px;stroke-linecap:butt;stroke-linejoin:miter;stroke-opacity:1;\"/>\n",
       "<path class=\"atom-0\" d=\"M 266.9 79.6 Q 267.1 79.7, 268.1 80.1 Q 269.1 80.6, 270.1 80.8 Q 271.2 81.1, 272.3 81.1 Q 274.3 81.1, 275.4 80.1 Q 276.6 79.1, 276.6 77.5 Q 276.6 76.3, 276.0 75.6 Q 275.4 74.9, 274.5 74.5 Q 273.6 74.1, 272.2 73.7 Q 270.3 73.1, 269.2 72.6 Q 268.1 72.1, 267.3 70.9 Q 266.5 69.8, 266.5 67.9 Q 266.5 65.3, 268.3 63.7 Q 270.1 62.1, 273.6 62.1 Q 276.1 62.1, 278.8 63.2 L 278.1 65.5 Q 275.6 64.5, 273.7 64.5 Q 271.7 64.5, 270.6 65.3 Q 269.5 66.1, 269.5 67.6 Q 269.5 68.7, 270.0 69.4 Q 270.6 70.1, 271.5 70.4 Q 272.3 70.8, 273.7 71.3 Q 275.6 71.9, 276.7 72.4 Q 277.9 73.0, 278.7 74.2 Q 279.5 75.4, 279.5 77.5 Q 279.5 80.3, 277.5 81.9 Q 275.6 83.4, 272.4 83.4 Q 270.5 83.4, 269.1 83.0 Q 267.8 82.6, 266.1 82.0 L 266.9 79.6 \" fill=\"#CCCC00\"/>\n",
       "<path class=\"atom-8\" d=\"M 263.2 200.1 Q 263.2 195.1, 265.7 192.3 Q 268.2 189.5, 272.8 189.5 Q 277.4 189.5, 279.9 192.3 Q 282.4 195.1, 282.4 200.1 Q 282.4 205.2, 279.9 208.1 Q 277.4 210.9, 272.8 210.9 Q 268.2 210.9, 265.7 208.1 Q 263.2 205.2, 263.2 200.1 M 272.8 208.6 Q 276.0 208.6, 277.7 206.4 Q 279.4 204.3, 279.4 200.1 Q 279.4 196.0, 277.7 194.0 Q 276.0 191.9, 272.8 191.9 Q 269.6 191.9, 267.9 193.9 Q 266.2 196.0, 266.2 200.1 Q 266.2 204.3, 267.9 206.4 Q 269.6 208.6, 272.8 208.6 \" fill=\"#FF0000\"/>\n",
       "<path class=\"atom-0\" d=\"M 285.4,72.5 L 285.4,72.6 L 285.3,72.7 L 285.3,72.9 L 285.3,73.0 L 285.2,73.1 L 285.2,73.2 L 285.1,73.3 L 285.0,73.4 L 284.9,73.5 L 284.9,73.6 L 284.8,73.7 L 284.6,73.7 L 284.5,73.8 L 284.4,73.9 L 284.3,73.9 L 284.2,73.9 L 284.1,73.9 L 283.9,74.0 L 283.8,73.9 L 283.7,73.9 L 283.5,73.9 L 283.4,73.9 L 283.3,73.8 L 283.2,73.8 L 283.1,73.7 L 283.0,73.6 L 282.9,73.6 L 282.8,73.5 L 282.7,73.4 L 282.6,73.3 L 282.6,73.1 L 282.5,73.0 L 282.5,72.9 L 282.5,72.8 L 282.4,72.7 L 282.4,72.5 L 282.4,72.4 L 282.4,72.3 L 282.5,72.2 L 282.5,72.0 L 282.5,71.9 L 282.6,71.8 L 282.6,71.7 L 282.7,71.6 L 282.8,71.5 L 282.9,71.4 L 283.0,71.3 L 283.1,71.2 L 283.2,71.2 L 283.3,71.1 L 283.4,71.1 L 283.5,71.0 L 283.7,71.0 L 283.8,71.0 L 283.9,71.0 L 284.1,71.0 L 284.2,71.0 L 284.3,71.1 L 284.4,71.1 L 284.5,71.2 L 284.6,71.2 L 284.8,71.3 L 284.9,71.4 L 284.9,71.4 L 285.0,71.5 L 285.1,71.6 L 285.2,71.8 L 285.2,71.9 L 285.3,72.0 L 285.3,72.1 L 285.3,72.2 L 285.4,72.4 L 285.4,72.5 L 283.9,72.5 Z\" style=\"fill:#000000;fill-rule:evenodd;fill-opacity:1;stroke:#000000;stroke-width:0.0px;stroke-linecap:butt;stroke-linejoin:miter;stroke-opacity:1;\"/>\n",
       "<path class=\"legend\" d=\"M 137.5 276.5 Q 139.2 276.5, 140.1 277.6 Q 141.1 278.6, 141.1 280.6 Q 141.1 282.7, 140.0 283.8 Q 138.8 285.0, 136.9 285.0 Q 135.6 285.0, 134.4 284.5 L 133.6 284.3 L 133.6 272.7 L 135.1 272.7 L 135.1 277.5 Q 136.0 276.5, 137.5 276.5 M 136.9 283.8 Q 138.1 283.8, 138.8 283.0 Q 139.6 282.1, 139.6 280.6 Q 139.6 279.2, 139.0 278.5 Q 138.4 277.7, 137.4 277.7 Q 136.5 277.7, 136.0 278.1 Q 135.4 278.6, 135.1 279.4 L 135.1 283.6 Q 136.0 283.8, 136.9 283.8 \" fill=\"#000000\"/>\n",
       "<path class=\"legend\" d=\"M 142.5 280.7 Q 142.5 278.7, 143.5 277.6 Q 144.5 276.5, 146.4 276.5 Q 148.2 276.5, 149.0 277.6 Q 149.8 278.7, 149.8 280.7 L 149.8 281.0 L 144.1 281.0 Q 144.1 282.3, 144.7 283.1 Q 145.3 283.8, 146.5 283.8 Q 147.2 283.8, 147.7 283.7 Q 148.3 283.5, 149.1 283.2 L 149.5 284.2 Q 148.7 284.6, 147.9 284.8 Q 147.2 285.0, 146.4 285.0 Q 144.6 285.0, 143.6 283.9 Q 142.5 282.8, 142.5 280.7 M 146.4 277.7 Q 145.4 277.7, 144.9 278.2 Q 144.3 278.8, 144.1 279.8 L 148.2 279.8 Q 148.1 278.7, 147.7 278.2 Q 147.2 277.7, 146.4 277.7 \" fill=\"#000000\"/>\n",
       "<path class=\"legend\" d=\"M 155.4 276.5 Q 156.7 276.5, 157.4 277.3 Q 158.1 278.0, 158.1 279.4 L 158.1 284.9 L 156.6 284.9 L 156.6 279.5 Q 156.6 278.6, 156.2 278.1 Q 155.9 277.7, 155.0 277.7 Q 154.3 277.7, 153.6 278.0 Q 153.0 278.4, 152.6 279.0 L 152.6 284.9 L 151.1 284.9 L 151.1 276.6 L 152.4 276.6 L 152.5 277.8 Q 153.6 276.5, 155.4 276.5 \" fill=\"#000000\"/>\n",
       "<path class=\"legend\" d=\"M 161.8 283.7 L 166.4 283.7 L 166.4 284.9 L 160.0 284.9 L 160.0 283.9 L 164.4 277.8 L 160.3 277.8 L 160.3 276.6 L 166.2 276.6 L 166.2 277.6 L 161.8 283.7 \" fill=\"#000000\"/>\n",
       "</svg>"
      ],
      "text/plain": [
       "<IPython.core.display.SVG object>"
      ]
     },
     "metadata": {},
     "output_type": "display_data"
    },
    {
     "data": {
      "text/plain": [
       "'O=C([S])c1ccccc1'"
      ]
     },
     "metadata": {},
     "output_type": "display_data"
    },
    {
     "data": {
      "image/svg+xml": [
       "<svg xmlns=\"http://www.w3.org/2000/svg\" xmlns:rdkit=\"http://www.rdkit.org/xml\" xmlns:xlink=\"http://www.w3.org/1999/xlink\" version=\"1.1\" baseProfile=\"full\" xml:space=\"preserve\" width=\"300px\" height=\"300px\" viewBox=\"0 0 300 300\">\n",
       "<!-- END OF HEADER -->\n",
       "<rect style=\"opacity:1.0;fill:#FFFFFF;stroke:none\" width=\"300.0\" height=\"300.0\" x=\"0.0\" y=\"0.0\"> </rect>\n",
       "<path class=\"bond-0 atom-0 atom-1\" d=\"M 271.2,101.5 L 261.1,118.9\" style=\"fill:none;fill-rule:evenodd;stroke:#CCCC00;stroke-width:2.0px;stroke-linecap:butt;stroke-linejoin:miter;stroke-opacity:1\"/>\n",
       "<path class=\"bond-0 atom-0 atom-1\" d=\"M 261.1,118.9 L 251.1,136.4\" style=\"fill:none;fill-rule:evenodd;stroke:#000000;stroke-width:2.0px;stroke-linecap:butt;stroke-linejoin:miter;stroke-opacity:1\"/>\n",
       "<path class=\"bond-1 atom-1 atom-2\" d=\"M 251.1,136.4 L 200.1,136.4\" style=\"fill:none;fill-rule:evenodd;stroke:#000000;stroke-width:2.0px;stroke-linecap:butt;stroke-linejoin:miter;stroke-opacity:1\"/>\n",
       "<path class=\"bond-2 atom-2 atom-3\" d=\"M 200.1,136.4 L 174.6,180.5\" style=\"fill:none;fill-rule:evenodd;stroke:#000000;stroke-width:2.0px;stroke-linecap:butt;stroke-linejoin:miter;stroke-opacity:1\"/>\n",
       "<path class=\"bond-2 atom-2 atom-3\" d=\"M 191.2,136.4 L 170.2,172.9\" style=\"fill:none;fill-rule:evenodd;stroke:#000000;stroke-width:2.0px;stroke-linecap:butt;stroke-linejoin:miter;stroke-opacity:1\"/>\n",
       "<path class=\"bond-3 atom-3 atom-4\" d=\"M 174.6,180.5 L 123.6,180.5\" style=\"fill:none;fill-rule:evenodd;stroke:#000000;stroke-width:2.0px;stroke-linecap:butt;stroke-linejoin:miter;stroke-opacity:1\"/>\n",
       "<path class=\"bond-4 atom-4 atom-5\" d=\"M 123.6,180.5 L 98.1,136.4\" style=\"fill:none;fill-rule:evenodd;stroke:#000000;stroke-width:2.0px;stroke-linecap:butt;stroke-linejoin:miter;stroke-opacity:1\"/>\n",
       "<path class=\"bond-4 atom-4 atom-5\" d=\"M 128.0,172.9 L 106.9,136.4\" style=\"fill:none;fill-rule:evenodd;stroke:#000000;stroke-width:2.0px;stroke-linecap:butt;stroke-linejoin:miter;stroke-opacity:1\"/>\n",
       "<path class=\"bond-5 atom-5 atom-6\" d=\"M 98.1,136.4 L 80.7,136.4\" style=\"fill:none;fill-rule:evenodd;stroke:#000000;stroke-width:2.0px;stroke-linecap:butt;stroke-linejoin:miter;stroke-opacity:1\"/>\n",
       "<path class=\"bond-5 atom-5 atom-6\" d=\"M 80.7,136.4 L 63.3,136.4\" style=\"fill:none;fill-rule:evenodd;stroke:#0000FF;stroke-width:2.0px;stroke-linecap:butt;stroke-linejoin:miter;stroke-opacity:1\"/>\n",
       "<path class=\"bond-6 atom-6 atom-7\" d=\"M 42.0,127.5 L 34.5,114.5\" style=\"fill:none;fill-rule:evenodd;stroke:#0000FF;stroke-width:2.0px;stroke-linecap:butt;stroke-linejoin:miter;stroke-opacity:1\"/>\n",
       "<path class=\"bond-6 atom-6 atom-7\" d=\"M 34.5,114.5 L 26.9,101.4\" style=\"fill:none;fill-rule:evenodd;stroke:#FF0000;stroke-width:2.0px;stroke-linecap:butt;stroke-linejoin:miter;stroke-opacity:1\"/>\n",
       "<path class=\"bond-7 atom-6 atom-8\" d=\"M 38.7,143.4 L 31.1,156.5\" style=\"fill:none;fill-rule:evenodd;stroke:#0000FF;stroke-width:2.0px;stroke-linecap:butt;stroke-linejoin:miter;stroke-opacity:1\"/>\n",
       "<path class=\"bond-7 atom-6 atom-8\" d=\"M 31.1,156.5 L 23.5,169.6\" style=\"fill:none;fill-rule:evenodd;stroke:#FF0000;stroke-width:2.0px;stroke-linecap:butt;stroke-linejoin:miter;stroke-opacity:1\"/>\n",
       "<path class=\"bond-7 atom-6 atom-8\" d=\"M 45.3,147.2 L 37.7,160.3\" style=\"fill:none;fill-rule:evenodd;stroke:#0000FF;stroke-width:2.0px;stroke-linecap:butt;stroke-linejoin:miter;stroke-opacity:1\"/>\n",
       "<path class=\"bond-7 atom-6 atom-8\" d=\"M 37.7,160.3 L 30.1,173.5\" style=\"fill:none;fill-rule:evenodd;stroke:#FF0000;stroke-width:2.0px;stroke-linecap:butt;stroke-linejoin:miter;stroke-opacity:1\"/>\n",
       "<path class=\"bond-8 atom-5 atom-9\" d=\"M 98.1,136.4 L 123.6,92.2\" style=\"fill:none;fill-rule:evenodd;stroke:#000000;stroke-width:2.0px;stroke-linecap:butt;stroke-linejoin:miter;stroke-opacity:1\"/>\n",
       "<path class=\"bond-9 atom-9 atom-10\" d=\"M 123.6,92.2 L 174.6,92.2\" style=\"fill:none;fill-rule:evenodd;stroke:#000000;stroke-width:2.0px;stroke-linecap:butt;stroke-linejoin:miter;stroke-opacity:1\"/>\n",
       "<path class=\"bond-9 atom-9 atom-10\" d=\"M 128.0,99.9 L 170.2,99.9\" style=\"fill:none;fill-rule:evenodd;stroke:#000000;stroke-width:2.0px;stroke-linecap:butt;stroke-linejoin:miter;stroke-opacity:1\"/>\n",
       "<path class=\"bond-10 atom-1 atom-11\" d=\"M 246.6,136.4 L 257.3,154.9\" style=\"fill:none;fill-rule:evenodd;stroke:#000000;stroke-width:2.0px;stroke-linecap:butt;stroke-linejoin:miter;stroke-opacity:1\"/>\n",
       "<path class=\"bond-10 atom-1 atom-11\" d=\"M 257.3,154.9 L 268.0,173.5\" style=\"fill:none;fill-rule:evenodd;stroke:#FF0000;stroke-width:2.0px;stroke-linecap:butt;stroke-linejoin:miter;stroke-opacity:1\"/>\n",
       "<path class=\"bond-10 atom-1 atom-11\" d=\"M 253.3,132.6 L 264.0,151.1\" style=\"fill:none;fill-rule:evenodd;stroke:#000000;stroke-width:2.0px;stroke-linecap:butt;stroke-linejoin:miter;stroke-opacity:1\"/>\n",
       "<path class=\"bond-10 atom-1 atom-11\" d=\"M 264.0,151.1 L 274.7,169.6\" style=\"fill:none;fill-rule:evenodd;stroke:#FF0000;stroke-width:2.0px;stroke-linecap:butt;stroke-linejoin:miter;stroke-opacity:1\"/>\n",
       "<path class=\"bond-11 atom-10 atom-2\" d=\"M 174.6,92.2 L 200.1,136.4\" style=\"fill:none;fill-rule:evenodd;stroke:#000000;stroke-width:2.0px;stroke-linecap:butt;stroke-linejoin:miter;stroke-opacity:1\"/>\n",
       "<path d=\"M 251.6,135.5 L 251.1,136.4 L 248.5,136.4\" style=\"fill:none;stroke:#000000;stroke-width:2.0px;stroke-linecap:butt;stroke-linejoin:miter;stroke-opacity:1;\"/>\n",
       "<path d=\"M 175.9,178.3 L 174.6,180.5 L 172.0,180.5\" style=\"fill:none;stroke:#000000;stroke-width:2.0px;stroke-linecap:butt;stroke-linejoin:miter;stroke-opacity:1;\"/>\n",
       "<path d=\"M 126.1,180.5 L 123.6,180.5 L 122.3,178.3\" style=\"fill:none;stroke:#000000;stroke-width:2.0px;stroke-linecap:butt;stroke-linejoin:miter;stroke-opacity:1;\"/>\n",
       "<path d=\"M 122.3,94.4 L 123.6,92.2 L 126.1,92.2\" style=\"fill:none;stroke:#000000;stroke-width:2.0px;stroke-linecap:butt;stroke-linejoin:miter;stroke-opacity:1;\"/>\n",
       "<path d=\"M 172.0,92.2 L 174.6,92.2 L 175.9,94.4\" style=\"fill:none;stroke:#000000;stroke-width:2.0px;stroke-linecap:butt;stroke-linejoin:miter;stroke-opacity:1;\"/>\n",
       "<path class=\"atom-0\" d=\"M 272.5 97.2 Q 272.6 97.3, 273.3 97.5 Q 274.0 97.8, 274.7 98.0 Q 275.5 98.2, 276.2 98.2 Q 277.6 98.2, 278.4 97.5 Q 279.2 96.8, 279.2 95.7 Q 279.2 94.9, 278.7 94.4 Q 278.4 93.9, 277.8 93.6 Q 277.1 93.4, 276.1 93.1 Q 274.8 92.7, 274.1 92.3 Q 273.3 91.9, 272.8 91.2 Q 272.2 90.4, 272.2 89.1 Q 272.2 87.3, 273.4 86.2 Q 274.7 85.0, 277.1 85.0 Q 278.8 85.0, 280.7 85.8 L 280.2 87.4 Q 278.5 86.7, 277.2 86.7 Q 275.8 86.7, 275.0 87.3 Q 274.2 87.8, 274.3 88.8 Q 274.3 89.6, 274.7 90.1 Q 275.1 90.6, 275.6 90.8 Q 276.2 91.1, 277.2 91.4 Q 278.5 91.8, 279.3 92.2 Q 280.1 92.6, 280.6 93.5 Q 281.2 94.3, 281.2 95.7 Q 281.2 97.7, 279.8 98.8 Q 278.5 99.8, 276.3 99.8 Q 275.0 99.8, 274.0 99.5 Q 273.1 99.3, 271.9 98.8 L 272.5 97.2 \" fill=\"#CCCC00\"/>\n",
       "<path class=\"atom-6\" d=\"M 43.9 129.2 L 48.7 136.8 Q 49.1 137.6, 49.9 138.9 Q 50.6 140.3, 50.7 140.4 L 50.7 129.2 L 52.6 129.2 L 52.6 143.6 L 50.6 143.6 L 45.5 135.2 Q 44.9 134.3, 44.3 133.1 Q 43.7 132.0, 43.5 131.7 L 43.5 143.6 L 41.6 143.6 L 41.6 129.2 L 43.9 129.2 \" fill=\"#0000FF\"/>\n",
       "<path class=\"atom-6\" d=\"M 55.3 131.8 L 57.9 131.8 L 57.9 129.1 L 59.0 129.1 L 59.0 131.8 L 61.6 131.8 L 61.6 132.7 L 59.0 132.7 L 59.0 135.4 L 57.9 135.4 L 57.9 132.7 L 55.3 132.7 L 55.3 131.8 \" fill=\"#0000FF\"/>\n",
       "<path class=\"atom-7\" d=\"M 15.0 92.3 Q 15.0 88.8, 16.7 86.9 Q 18.4 84.9, 21.6 84.9 Q 24.8 84.9, 26.5 86.9 Q 28.3 88.8, 28.3 92.3 Q 28.3 95.8, 26.5 97.8 Q 24.8 99.8, 21.6 99.8 Q 18.4 99.8, 16.7 97.8 Q 15.0 95.8, 15.0 92.3 M 21.6 98.1 Q 23.8 98.1, 25.0 96.7 Q 26.2 95.2, 26.2 92.3 Q 26.2 89.4, 25.0 88.0 Q 23.8 86.6, 21.6 86.6 Q 19.4 86.6, 18.2 88.0 Q 17.0 89.4, 17.0 92.3 Q 17.0 95.2, 18.2 96.7 Q 19.4 98.1, 21.6 98.1 \" fill=\"#FF0000\"/>\n",
       "<path class=\"atom-7\" d=\"M 30.3 87.3 L 35.3 87.3 L 35.3 88.4 L 30.3 88.4 L 30.3 87.3 \" fill=\"#FF0000\"/>\n",
       "<path class=\"atom-8\" d=\"M 15.0 180.6 Q 15.0 177.1, 16.7 175.2 Q 18.4 173.2, 21.6 173.2 Q 24.8 173.2, 26.5 175.2 Q 28.3 177.1, 28.3 180.6 Q 28.3 184.1, 26.5 186.1 Q 24.8 188.1, 21.6 188.1 Q 18.4 188.1, 16.7 186.1 Q 15.0 184.1, 15.0 180.6 M 21.6 186.4 Q 23.8 186.4, 25.0 185.0 Q 26.2 183.5, 26.2 180.6 Q 26.2 177.7, 25.0 176.3 Q 23.8 174.9, 21.6 174.9 Q 19.4 174.9, 18.2 176.3 Q 17.0 177.7, 17.0 180.6 Q 17.0 183.5, 18.2 185.0 Q 19.4 186.4, 21.6 186.4 \" fill=\"#FF0000\"/>\n",
       "<path class=\"atom-11\" d=\"M 269.9 180.6 Q 269.9 177.1, 271.6 175.2 Q 273.3 173.2, 276.5 173.2 Q 279.7 173.2, 281.5 175.2 Q 283.2 177.1, 283.2 180.6 Q 283.2 184.1, 281.4 186.1 Q 279.7 188.1, 276.5 188.1 Q 273.4 188.1, 271.6 186.1 Q 269.9 184.1, 269.9 180.6 M 276.5 186.4 Q 278.7 186.4, 279.9 185.0 Q 281.1 183.5, 281.1 180.6 Q 281.1 177.7, 279.9 176.3 Q 278.7 174.9, 276.5 174.9 Q 274.3 174.9, 273.1 176.3 Q 272.0 177.7, 272.0 180.6 Q 272.0 183.5, 273.1 185.0 Q 274.3 186.4, 276.5 186.4 \" fill=\"#FF0000\"/>\n",
       "<path class=\"atom-0\" d=\"M 285.3,92.2 L 285.3,92.3 L 285.2,92.4 L 285.2,92.5 L 285.2,92.6 L 285.2,92.7 L 285.1,92.7 L 285.1,92.8 L 285.0,92.9 L 285.0,92.9 L 284.9,93.0 L 284.8,93.1 L 284.8,93.1 L 284.7,93.2 L 284.6,93.2 L 284.5,93.2 L 284.4,93.2 L 284.3,93.2 L 284.3,93.3 L 284.2,93.3 L 284.1,93.2 L 284.0,93.2 L 283.9,93.2 L 283.8,93.2 L 283.8,93.1 L 283.7,93.1 L 283.6,93.0 L 283.5,93.0 L 283.5,92.9 L 283.4,92.8 L 283.4,92.8 L 283.3,92.7 L 283.3,92.6 L 283.3,92.5 L 283.2,92.5 L 283.2,92.4 L 283.2,92.3 L 283.2,92.2 L 283.2,92.1 L 283.2,92.0 L 283.3,91.9 L 283.3,91.8 L 283.3,91.8 L 283.4,91.7 L 283.4,91.6 L 283.5,91.6 L 283.5,91.5 L 283.6,91.4 L 283.7,91.4 L 283.8,91.3 L 283.8,91.3 L 283.9,91.3 L 284.0,91.2 L 284.1,91.2 L 284.2,91.2 L 284.3,91.2 L 284.3,91.2 L 284.4,91.2 L 284.5,91.3 L 284.6,91.3 L 284.7,91.3 L 284.8,91.4 L 284.8,91.4 L 284.9,91.5 L 285.0,91.5 L 285.0,91.6 L 285.1,91.7 L 285.1,91.7 L 285.2,91.8 L 285.2,91.9 L 285.2,92.0 L 285.2,92.1 L 285.3,92.1 L 285.3,92.2 L 284.2,92.2 Z\" style=\"fill:#000000;fill-rule:evenodd;fill-opacity:1;stroke:#000000;stroke-width:0.0px;stroke-linecap:butt;stroke-linejoin:miter;stroke-opacity:1;\"/>\n",
       "<path class=\"legend\" d=\"M 134.0 273.7 Q 135.9 273.7, 136.9 274.6 Q 137.9 275.4, 137.9 277.0 Q 137.9 278.6, 136.9 279.5 Q 135.9 280.3, 134.0 280.3 L 132.2 280.3 L 132.2 285.0 L 130.7 285.0 L 130.7 273.7 L 134.0 273.7 M 134.0 279.1 Q 135.1 279.1, 135.7 278.5 Q 136.3 278.0, 136.3 277.0 Q 136.3 276.0, 135.7 275.5 Q 135.1 275.0, 134.0 275.0 L 132.2 275.0 L 132.2 279.1 L 134.0 279.1 \" fill=\"#000000\"/>\n",
       "<path class=\"legend\" d=\"M 141.3 273.7 L 145.0 279.7 Q 145.4 280.3, 145.9 281.3 Q 146.5 282.4, 146.6 282.5 L 146.6 273.7 L 148.1 273.7 L 148.1 285.0 L 146.5 285.0 L 142.5 278.4 Q 142.1 277.7, 141.6 276.8 Q 141.1 275.9, 141.0 275.6 L 141.0 285.0 L 139.5 285.0 L 139.5 273.7 L 141.3 273.7 \" fill=\"#000000\"/>\n",
       "<path class=\"legend\" d=\"M 155.7 279.0 Q 156.8 279.4, 157.4 280.0 Q 157.9 280.7, 157.9 281.7 Q 157.9 283.2, 156.9 284.1 Q 155.9 285.0, 154.0 285.0 L 150.2 285.0 L 150.2 273.7 L 153.6 273.7 Q 155.5 273.7, 156.5 274.5 Q 157.5 275.2, 157.5 276.7 Q 157.5 278.4, 155.7 279.0 M 151.8 275.0 L 151.8 278.5 L 153.6 278.5 Q 154.7 278.5, 155.3 278.1 Q 155.9 277.6, 155.9 276.7 Q 155.9 275.0, 153.6 275.0 L 151.8 275.0 M 154.0 283.7 Q 155.1 283.7, 155.7 283.2 Q 156.3 282.7, 156.3 281.7 Q 156.3 280.7, 155.7 280.3 Q 155.0 279.8, 153.8 279.8 L 151.8 279.8 L 151.8 283.7 L 154.0 283.7 \" fill=\"#000000\"/>\n",
       "<path class=\"legend\" d=\"M 167.9 285.0 L 166.7 281.7 L 162.2 281.7 L 161.0 285.0 L 159.5 285.0 L 163.4 273.7 L 165.3 273.7 L 169.3 285.0 L 167.9 285.0 M 162.6 280.4 L 166.2 280.4 L 164.4 275.3 L 162.6 280.4 \" fill=\"#000000\"/>\n",
       "</svg>"
      ],
      "text/plain": [
       "<IPython.core.display.SVG object>"
      ]
     },
     "metadata": {},
     "output_type": "display_data"
    },
    {
     "data": {
      "text/plain": [
       "'O=C([S])c1ccc([N+](=O)[O-])cc1'"
      ]
     },
     "metadata": {},
     "output_type": "display_data"
    },
    {
     "data": {
      "image/svg+xml": [
       "<svg xmlns=\"http://www.w3.org/2000/svg\" xmlns:rdkit=\"http://www.rdkit.org/xml\" xmlns:xlink=\"http://www.w3.org/1999/xlink\" version=\"1.1\" baseProfile=\"full\" xml:space=\"preserve\" width=\"300px\" height=\"300px\" viewBox=\"0 0 300 300\">\n",
       "<!-- END OF HEADER -->\n",
       "<rect style=\"opacity:1.0;fill:#FFFFFF;stroke:none\" width=\"300.0\" height=\"300.0\" x=\"0.0\" y=\"0.0\"> </rect>\n",
       "<path class=\"bond-0 atom-0 atom-1\" d=\"M 260.7,41.0 L 244.8,68.5\" style=\"fill:none;fill-rule:evenodd;stroke:#CCCC00;stroke-width:2.0px;stroke-linecap:butt;stroke-linejoin:miter;stroke-opacity:1\"/>\n",
       "<path class=\"bond-0 atom-0 atom-1\" d=\"M 244.8,68.5 L 229.0,96.0\" style=\"fill:none;fill-rule:evenodd;stroke:#000000;stroke-width:2.0px;stroke-linecap:butt;stroke-linejoin:miter;stroke-opacity:1\"/>\n",
       "<path class=\"bond-1 atom-1 atom-2\" d=\"M 229.0,96.0 L 148.6,96.0\" style=\"fill:none;fill-rule:evenodd;stroke:#000000;stroke-width:2.0px;stroke-linecap:butt;stroke-linejoin:miter;stroke-opacity:1\"/>\n",
       "<path class=\"bond-2 atom-2 atom-3\" d=\"M 147.1,92.8 L 146.6,93.1\" style=\"fill:none;fill-rule:evenodd;stroke:#000000;stroke-width:1.0px;stroke-linecap:butt;stroke-linejoin:miter;stroke-opacity:1\"/>\n",
       "<path class=\"bond-2 atom-2 atom-3\" d=\"M 145.5,89.7 L 144.6,90.2\" style=\"fill:none;fill-rule:evenodd;stroke:#000000;stroke-width:1.0px;stroke-linecap:butt;stroke-linejoin:miter;stroke-opacity:1\"/>\n",
       "<path class=\"bond-2 atom-2 atom-3\" d=\"M 144.0,86.5 L 142.6,87.3\" style=\"fill:none;fill-rule:evenodd;stroke:#000000;stroke-width:1.0px;stroke-linecap:butt;stroke-linejoin:miter;stroke-opacity:1\"/>\n",
       "<path class=\"bond-2 atom-2 atom-3\" d=\"M 142.5,83.3 L 140.6,84.4\" style=\"fill:none;fill-rule:evenodd;stroke:#000000;stroke-width:1.0px;stroke-linecap:butt;stroke-linejoin:miter;stroke-opacity:1\"/>\n",
       "<path class=\"bond-2 atom-2 atom-3\" d=\"M 141.0,80.2 L 138.6,81.5\" style=\"fill:none;fill-rule:evenodd;stroke:#000000;stroke-width:1.0px;stroke-linecap:butt;stroke-linejoin:miter;stroke-opacity:1\"/>\n",
       "<path class=\"bond-2 atom-2 atom-3\" d=\"M 139.5,77.0 L 136.7,78.6\" style=\"fill:none;fill-rule:evenodd;stroke:#000000;stroke-width:1.0px;stroke-linecap:butt;stroke-linejoin:miter;stroke-opacity:1\"/>\n",
       "<path class=\"bond-2 atom-2 atom-3\" d=\"M 138.0,73.8 L 134.7,75.8\" style=\"fill:none;fill-rule:evenodd;stroke:#000000;stroke-width:1.0px;stroke-linecap:butt;stroke-linejoin:miter;stroke-opacity:1\"/>\n",
       "<path class=\"bond-2 atom-2 atom-3\" d=\"M 136.5,70.7 L 132.7,72.9\" style=\"fill:none;fill-rule:evenodd;stroke:#000000;stroke-width:1.0px;stroke-linecap:butt;stroke-linejoin:miter;stroke-opacity:1\"/>\n",
       "<path class=\"bond-2 atom-2 atom-3\" d=\"M 135.0,67.5 L 130.7,70.0\" style=\"fill:none;fill-rule:evenodd;stroke:#000000;stroke-width:1.0px;stroke-linecap:butt;stroke-linejoin:miter;stroke-opacity:1\"/>\n",
       "<path class=\"bond-2 atom-2 atom-3\" d=\"M 133.5,64.3 L 128.7,67.1\" style=\"fill:none;fill-rule:evenodd;stroke:#000000;stroke-width:1.0px;stroke-linecap:butt;stroke-linejoin:miter;stroke-opacity:1\"/>\n",
       "<path class=\"bond-2 atom-2 atom-3\" d=\"M 132.0,61.2 L 126.7,64.2\" style=\"fill:none;fill-rule:evenodd;stroke:#000000;stroke-width:1.0px;stroke-linecap:butt;stroke-linejoin:miter;stroke-opacity:1\"/>\n",
       "<path class=\"bond-2 atom-2 atom-3\" d=\"M 130.4,58.0 L 124.7,61.3\" style=\"fill:none;fill-rule:evenodd;stroke:#000000;stroke-width:1.0px;stroke-linecap:butt;stroke-linejoin:miter;stroke-opacity:1\"/>\n",
       "<path class=\"bond-2 atom-2 atom-3\" d=\"M 128.9,54.9 L 122.8,58.4\" style=\"fill:none;fill-rule:evenodd;stroke:#000000;stroke-width:1.0px;stroke-linecap:butt;stroke-linejoin:miter;stroke-opacity:1\"/>\n",
       "<path class=\"bond-2 atom-2 atom-3\" d=\"M 127.4,51.7 L 120.8,55.5\" style=\"fill:none;fill-rule:evenodd;stroke:#000000;stroke-width:1.0px;stroke-linecap:butt;stroke-linejoin:miter;stroke-opacity:1\"/>\n",
       "<path class=\"bond-2 atom-2 atom-3\" d=\"M 125.9,48.5 L 118.8,52.6\" style=\"fill:none;fill-rule:evenodd;stroke:#000000;stroke-width:1.0px;stroke-linecap:butt;stroke-linejoin:miter;stroke-opacity:1\"/>\n",
       "<path class=\"bond-2 atom-2 atom-3\" d=\"M 124.4,45.4 L 116.8,49.7\" style=\"fill:none;fill-rule:evenodd;stroke:#000000;stroke-width:1.0px;stroke-linecap:butt;stroke-linejoin:miter;stroke-opacity:1\"/>\n",
       "<path class=\"bond-2 atom-2 atom-3\" d=\"M 122.9,42.2 L 114.8,46.9\" style=\"fill:none;fill-rule:evenodd;stroke:#000000;stroke-width:1.0px;stroke-linecap:butt;stroke-linejoin:miter;stroke-opacity:1\"/>\n",
       "<path class=\"bond-2 atom-2 atom-3\" d=\"M 121.4,39.0 L 112.8,44.0\" style=\"fill:none;fill-rule:evenodd;stroke:#000000;stroke-width:1.0px;stroke-linecap:butt;stroke-linejoin:miter;stroke-opacity:1\"/>\n",
       "<path class=\"bond-2 atom-2 atom-3\" d=\"M 119.9,35.9 L 110.9,41.1\" style=\"fill:none;fill-rule:evenodd;stroke:#000000;stroke-width:1.0px;stroke-linecap:butt;stroke-linejoin:miter;stroke-opacity:1\"/>\n",
       "<path class=\"bond-2 atom-2 atom-3\" d=\"M 118.4,32.7 L 108.9,38.2\" style=\"fill:none;fill-rule:evenodd;stroke:#000000;stroke-width:1.0px;stroke-linecap:butt;stroke-linejoin:miter;stroke-opacity:1\"/>\n",
       "<path class=\"bond-2 atom-2 atom-3\" d=\"M 116.9,29.5 L 106.9,35.3\" style=\"fill:none;fill-rule:evenodd;stroke:#000000;stroke-width:1.0px;stroke-linecap:butt;stroke-linejoin:miter;stroke-opacity:1\"/>\n",
       "<path class=\"bond-2 atom-2 atom-3\" d=\"M 115.3,26.4 L 104.9,32.4\" style=\"fill:none;fill-rule:evenodd;stroke:#000000;stroke-width:1.0px;stroke-linecap:butt;stroke-linejoin:miter;stroke-opacity:1\"/>\n",
       "<path class=\"bond-3 atom-3 atom-4\" d=\"M 108.4,26.4 L 28.0,26.4\" style=\"fill:none;fill-rule:evenodd;stroke:#000000;stroke-width:2.0px;stroke-linecap:butt;stroke-linejoin:miter;stroke-opacity:1\"/>\n",
       "<path class=\"bond-4 atom-2 atom-5\" d=\"M 148.6,96.0 L 108.4,165.6\" style=\"fill:none;fill-rule:evenodd;stroke:#000000;stroke-width:2.0px;stroke-linecap:butt;stroke-linejoin:miter;stroke-opacity:1\"/>\n",
       "<path class=\"bond-5 atom-5 atom-6\" d=\"M 108.4,165.6 L 124.4,193.4\" style=\"fill:none;fill-rule:evenodd;stroke:#000000;stroke-width:2.0px;stroke-linecap:butt;stroke-linejoin:miter;stroke-opacity:1\"/>\n",
       "<path class=\"bond-5 atom-5 atom-6\" d=\"M 124.4,193.4 L 140.5,221.2\" style=\"fill:none;fill-rule:evenodd;stroke:#0000FF;stroke-width:2.0px;stroke-linecap:butt;stroke-linejoin:miter;stroke-opacity:1\"/>\n",
       "<path class=\"bond-6 atom-5 atom-7\" d=\"M 111.8,159.6 L 76.5,159.6\" style=\"fill:none;fill-rule:evenodd;stroke:#000000;stroke-width:2.0px;stroke-linecap:butt;stroke-linejoin:miter;stroke-opacity:1\"/>\n",
       "<path class=\"bond-6 atom-5 atom-7\" d=\"M 76.5,159.6 L 41.1,159.6\" style=\"fill:none;fill-rule:evenodd;stroke:#FF0000;stroke-width:2.0px;stroke-linecap:butt;stroke-linejoin:miter;stroke-opacity:1\"/>\n",
       "<path class=\"bond-6 atom-5 atom-7\" d=\"M 111.8,171.6 L 76.5,171.6\" style=\"fill:none;fill-rule:evenodd;stroke:#000000;stroke-width:2.0px;stroke-linecap:butt;stroke-linejoin:miter;stroke-opacity:1\"/>\n",
       "<path class=\"bond-6 atom-5 atom-7\" d=\"M 76.5,171.6 L 41.1,171.6\" style=\"fill:none;fill-rule:evenodd;stroke:#FF0000;stroke-width:2.0px;stroke-linecap:butt;stroke-linejoin:miter;stroke-opacity:1\"/>\n",
       "<path class=\"bond-7 atom-1 atom-8\" d=\"M 222.0,96.0 L 238.9,125.2\" style=\"fill:none;fill-rule:evenodd;stroke:#000000;stroke-width:2.0px;stroke-linecap:butt;stroke-linejoin:miter;stroke-opacity:1\"/>\n",
       "<path class=\"bond-7 atom-1 atom-8\" d=\"M 238.9,125.2 L 255.8,154.5\" style=\"fill:none;fill-rule:evenodd;stroke:#FF0000;stroke-width:2.0px;stroke-linecap:butt;stroke-linejoin:miter;stroke-opacity:1\"/>\n",
       "<path class=\"bond-7 atom-1 atom-8\" d=\"M 232.4,89.9 L 249.3,119.2\" style=\"fill:none;fill-rule:evenodd;stroke:#000000;stroke-width:2.0px;stroke-linecap:butt;stroke-linejoin:miter;stroke-opacity:1\"/>\n",
       "<path class=\"bond-7 atom-1 atom-8\" d=\"M 249.3,119.2 L 266.2,148.4\" style=\"fill:none;fill-rule:evenodd;stroke:#FF0000;stroke-width:2.0px;stroke-linecap:butt;stroke-linejoin:miter;stroke-opacity:1\"/>\n",
       "<path d=\"M 229.8,94.6 L 229.0,96.0 L 224.9,96.0\" style=\"fill:none;stroke:#000000;stroke-width:2.0px;stroke-linecap:butt;stroke-linejoin:miter;stroke-opacity:1;\"/>\n",
       "<path d=\"M 152.6,96.0 L 148.6,96.0 L 146.6,99.5\" style=\"fill:none;stroke:#000000;stroke-width:2.0px;stroke-linecap:butt;stroke-linejoin:miter;stroke-opacity:1;\"/>\n",
       "<path d=\"M 110.4,162.1 L 108.4,165.6 L 109.2,167.0\" style=\"fill:none;stroke:#000000;stroke-width:2.0px;stroke-linecap:butt;stroke-linejoin:miter;stroke-opacity:1;\"/>\n",
       "<path class=\"atom-0\" d=\"M 262.7 34.2 Q 263.0 34.3, 264.0 34.7 Q 265.1 35.2, 266.3 35.5 Q 267.5 35.7, 268.6 35.7 Q 270.8 35.7, 272.0 34.7 Q 273.3 33.6, 273.3 31.8 Q 273.3 30.5, 272.6 29.8 Q 272.0 29.0, 271.1 28.6 Q 270.1 28.2, 268.5 27.7 Q 266.5 27.1, 265.2 26.5 Q 264.0 25.9, 263.2 24.7 Q 262.3 23.5, 262.3 21.4 Q 262.3 18.5, 264.3 16.8 Q 266.2 15.0, 270.1 15.0 Q 272.7 15.0, 275.7 16.3 L 275.0 18.7 Q 272.2 17.6, 270.2 17.6 Q 268.0 17.6, 266.7 18.5 Q 265.5 19.4, 265.6 21.0 Q 265.6 22.2, 266.2 23.0 Q 266.8 23.7, 267.7 24.1 Q 268.6 24.6, 270.2 25.0 Q 272.2 25.7, 273.5 26.3 Q 274.7 27.0, 275.6 28.3 Q 276.5 29.6, 276.5 31.8 Q 276.5 34.9, 274.3 36.6 Q 272.2 38.3, 268.7 38.3 Q 266.7 38.3, 265.2 37.9 Q 263.7 37.4, 261.9 36.7 L 262.7 34.2 \" fill=\"#CCCC00\"/>\n",
       "<path class=\"atom-6\" d=\"M 143.5 223.8 L 151.0 235.9 Q 151.7 237.1, 152.9 239.3 Q 154.1 241.4, 154.2 241.5 L 154.2 223.8 L 157.2 223.8 L 157.2 246.6 L 154.1 246.6 L 146.1 233.4 Q 145.1 231.9, 144.1 230.1 Q 143.2 228.3, 142.9 227.8 L 142.9 246.6 L 139.9 246.6 L 139.9 223.8 L 143.5 223.8 \" fill=\"#0000FF\"/>\n",
       "<path class=\"atom-6\" d=\"M 161.5 223.8 L 164.6 223.8 L 164.6 233.5 L 176.3 233.5 L 176.3 223.8 L 179.4 223.8 L 179.4 246.6 L 176.3 246.6 L 176.3 236.1 L 164.6 236.1 L 164.6 246.6 L 161.5 246.6 L 161.5 223.8 \" fill=\"#0000FF\"/>\n",
       "<path class=\"atom-6\" d=\"M 183.8 245.8 Q 184.4 244.4, 185.7 243.6 Q 187.0 242.8, 188.8 242.8 Q 191.1 242.8, 192.4 244.0 Q 193.6 245.3, 193.6 247.5 Q 193.6 249.7, 192.0 251.8 Q 190.4 253.8, 187.0 256.3 L 193.9 256.3 L 193.9 258.0 L 183.8 258.0 L 183.8 256.6 Q 186.6 254.6, 188.2 253.1 Q 189.9 251.6, 190.7 250.3 Q 191.5 248.9, 191.5 247.6 Q 191.5 246.1, 190.8 245.3 Q 190.1 244.5, 188.8 244.5 Q 187.6 244.5, 186.8 245.0 Q 186.0 245.5, 185.4 246.6 L 183.8 245.8 \" fill=\"#0000FF\"/>\n",
       "<path class=\"atom-7\" d=\"M 17.5 165.7 Q 17.5 160.2, 20.2 157.1 Q 22.9 154.1, 28.0 154.1 Q 33.0 154.1, 35.7 157.1 Q 38.4 160.2, 38.4 165.7 Q 38.4 171.2, 35.7 174.4 Q 32.9 177.5, 28.0 177.5 Q 22.9 177.5, 20.2 174.4 Q 17.5 171.2, 17.5 165.7 M 28.0 174.9 Q 31.4 174.9, 33.3 172.6 Q 35.2 170.2, 35.2 165.7 Q 35.2 161.2, 33.3 158.9 Q 31.4 156.7, 28.0 156.7 Q 24.5 156.7, 22.6 158.9 Q 20.7 161.2, 20.7 165.7 Q 20.7 170.3, 22.6 172.6 Q 24.5 174.9, 28.0 174.9 \" fill=\"#FF0000\"/>\n",
       "<path class=\"atom-8\" d=\"M 258.7 165.7 Q 258.7 160.2, 261.4 157.1 Q 264.1 154.1, 269.2 154.1 Q 274.2 154.1, 276.9 157.1 Q 279.6 160.2, 279.6 165.7 Q 279.6 171.2, 276.9 174.4 Q 274.1 177.5, 269.2 177.5 Q 264.1 177.5, 261.4 174.4 Q 258.7 171.2, 258.7 165.7 M 269.2 174.9 Q 272.6 174.9, 274.5 172.6 Q 276.4 170.2, 276.4 165.7 Q 276.4 161.2, 274.5 158.9 Q 272.6 156.7, 269.2 156.7 Q 265.7 156.7, 263.8 158.9 Q 261.9 161.2, 261.9 165.7 Q 261.9 170.3, 263.8 172.6 Q 265.7 174.9, 269.2 174.9 \" fill=\"#FF0000\"/>\n",
       "<path class=\"atom-0\" d=\"M 282.9,26.4 L 282.9,26.5 L 282.9,26.6 L 282.8,26.8 L 282.8,26.9 L 282.7,27.0 L 282.7,27.1 L 282.6,27.3 L 282.5,27.4 L 282.4,27.5 L 282.3,27.6 L 282.2,27.7 L 282.1,27.7 L 282.0,27.8 L 281.9,27.9 L 281.7,27.9 L 281.6,27.9 L 281.5,28.0 L 281.3,28.0 L 281.2,28.0 L 281.0,27.9 L 280.9,27.9 L 280.8,27.9 L 280.6,27.8 L 280.5,27.8 L 280.4,27.7 L 280.3,27.6 L 280.2,27.5 L 280.1,27.4 L 280.0,27.3 L 279.9,27.2 L 279.9,27.1 L 279.8,27.0 L 279.7,26.8 L 279.7,26.7 L 279.7,26.6 L 279.7,26.4 L 279.7,26.3 L 279.7,26.1 L 279.7,26.0 L 279.7,25.9 L 279.8,25.7 L 279.9,25.6 L 279.9,25.5 L 280.0,25.4 L 280.1,25.3 L 280.2,25.2 L 280.3,25.1 L 280.4,25.0 L 280.5,24.9 L 280.6,24.9 L 280.8,24.8 L 280.9,24.8 L 281.0,24.8 L 281.2,24.7 L 281.3,24.7 L 281.5,24.8 L 281.6,24.8 L 281.7,24.8 L 281.9,24.9 L 282.0,24.9 L 282.1,25.0 L 282.2,25.0 L 282.3,25.1 L 282.4,25.2 L 282.5,25.3 L 282.6,25.4 L 282.7,25.6 L 282.7,25.7 L 282.8,25.8 L 282.8,25.9 L 282.9,26.1 L 282.9,26.2 L 282.9,26.4 L 281.3,26.4 Z\" style=\"fill:#000000;fill-rule:evenodd;fill-opacity:1;stroke:#000000;stroke-width:0.0px;stroke-linecap:butt;stroke-linejoin:miter;stroke-opacity:1;\"/>\n",
       "<path class=\"legend\" d=\"M 135.0 280.7 Q 135.0 278.7, 136.0 277.6 Q 137.0 276.4, 138.9 276.4 Q 140.7 276.4, 141.5 277.5 Q 142.3 278.6, 142.3 280.6 L 142.3 280.9 L 136.6 280.9 Q 136.6 282.3, 137.2 283.0 Q 137.8 283.8, 139.0 283.8 Q 139.6 283.8, 140.2 283.6 Q 140.8 283.4, 141.6 283.1 L 142.0 284.2 Q 141.2 284.6, 140.4 284.8 Q 139.7 284.9, 138.9 284.9 Q 137.1 284.9, 136.0 283.8 Q 135.0 282.7, 135.0 280.7 M 138.9 277.6 Q 137.9 277.6, 137.4 278.2 Q 136.8 278.7, 136.6 279.8 L 140.7 279.8 Q 140.6 278.7, 140.2 278.2 Q 139.7 277.6, 138.9 277.6 \" fill=\"#000000\"/>\n",
       "<path class=\"legend\" d=\"M 153.3 276.4 Q 154.7 276.4, 155.4 277.2 Q 156.1 277.9, 156.1 279.4 L 156.1 284.8 L 154.6 284.8 L 154.6 279.5 Q 154.6 278.5, 154.2 278.1 Q 153.8 277.6, 153.0 277.6 Q 152.3 277.6, 151.7 278.0 Q 151.1 278.3, 150.7 278.9 Q 150.7 279.1, 150.7 279.4 L 150.7 284.8 L 149.2 284.8 L 149.2 279.5 Q 149.2 278.5, 148.8 278.1 Q 148.4 277.6, 147.6 277.6 Q 146.9 277.6, 146.3 278.0 Q 145.7 278.3, 145.3 278.9 L 145.3 284.8 L 143.8 284.8 L 143.8 276.6 L 145.0 276.6 L 145.2 277.7 Q 146.3 276.4, 147.9 276.4 Q 149.8 276.4, 150.4 277.9 Q 151.5 276.4, 153.3 276.4 \" fill=\"#000000\"/>\n",
       "<path class=\"legend\" d=\"M 158.2 282.6 Q 158.2 281.3, 159.3 280.6 Q 160.3 279.8, 162.3 279.8 L 163.5 279.8 L 163.5 279.5 Q 163.5 278.5, 163.0 278.1 Q 162.6 277.6, 161.6 277.6 Q 160.9 277.6, 160.4 277.8 Q 159.9 277.9, 159.1 278.2 L 158.7 277.2 Q 160.2 276.4, 161.6 276.4 Q 163.4 276.4, 164.2 277.2 Q 165.0 277.9, 165.0 279.5 L 165.0 284.8 L 163.8 284.8 Q 163.8 284.7, 163.7 284.5 Q 163.7 284.2, 163.6 283.8 Q 162.4 285.0, 160.9 285.0 Q 159.7 285.0, 158.9 284.3 Q 158.2 283.7, 158.2 282.6 M 159.7 282.6 Q 159.7 283.2, 160.1 283.5 Q 160.5 283.8, 161.2 283.8 Q 161.8 283.8, 162.4 283.5 Q 163.1 283.2, 163.5 282.7 L 163.5 281.0 L 162.4 281.0 Q 161.0 281.0, 160.4 281.4 Q 159.7 281.8, 159.7 282.6 \" fill=\"#000000\"/>\n",
       "</svg>"
      ],
      "text/plain": [
       "<IPython.core.display.SVG object>"
      ]
     },
     "metadata": {},
     "output_type": "display_data"
    },
    {
     "data": {
      "text/plain": [
       "'CC[C@@H](C(N)=O)C(=O)[S]'"
      ]
     },
     "metadata": {},
     "output_type": "display_data"
    },
    {
     "data": {
      "image/svg+xml": [
       "<svg xmlns=\"http://www.w3.org/2000/svg\" xmlns:rdkit=\"http://www.rdkit.org/xml\" xmlns:xlink=\"http://www.w3.org/1999/xlink\" version=\"1.1\" baseProfile=\"full\" xml:space=\"preserve\" width=\"300px\" height=\"300px\" viewBox=\"0 0 300 300\">\n",
       "<!-- END OF HEADER -->\n",
       "<rect style=\"opacity:1.0;fill:#FFFFFF;stroke:none\" width=\"300.0\" height=\"300.0\" x=\"0.0\" y=\"0.0\"> </rect>\n",
       "<path class=\"bond-0 atom-0 atom-1\" d=\"M 271.3,170.4 L 251.6,164.4\" style=\"fill:none;fill-rule:evenodd;stroke:#CCCC00;stroke-width:2.0px;stroke-linecap:butt;stroke-linejoin:miter;stroke-opacity:1\"/>\n",
       "<path class=\"bond-0 atom-0 atom-1\" d=\"M 251.6,164.4 L 231.8,158.4\" style=\"fill:none;fill-rule:evenodd;stroke:#000000;stroke-width:2.0px;stroke-linecap:butt;stroke-linejoin:miter;stroke-opacity:1\"/>\n",
       "<path class=\"bond-1 atom-1 atom-2\" d=\"M 231.8,158.4 L 221.1,112.2\" style=\"fill:none;fill-rule:evenodd;stroke:#000000;stroke-width:2.0px;stroke-linecap:butt;stroke-linejoin:miter;stroke-opacity:1\"/>\n",
       "<path class=\"bond-2 atom-2 atom-3\" d=\"M 223.4,109.7 L 223.8,110.1\" style=\"fill:none;fill-rule:evenodd;stroke:#000000;stroke-width:1.0px;stroke-linecap:butt;stroke-linejoin:miter;stroke-opacity:1\"/>\n",
       "<path class=\"bond-2 atom-2 atom-3\" d=\"M 225.7,107.2 L 226.4,108.0\" style=\"fill:none;fill-rule:evenodd;stroke:#000000;stroke-width:1.0px;stroke-linecap:butt;stroke-linejoin:miter;stroke-opacity:1\"/>\n",
       "<path class=\"bond-2 atom-2 atom-3\" d=\"M 228.0,104.7 L 229.1,105.9\" style=\"fill:none;fill-rule:evenodd;stroke:#000000;stroke-width:1.0px;stroke-linecap:butt;stroke-linejoin:miter;stroke-opacity:1\"/>\n",
       "<path class=\"bond-2 atom-2 atom-3\" d=\"M 230.3,102.3 L 231.7,103.7\" style=\"fill:none;fill-rule:evenodd;stroke:#000000;stroke-width:1.0px;stroke-linecap:butt;stroke-linejoin:miter;stroke-opacity:1\"/>\n",
       "<path class=\"bond-2 atom-2 atom-3\" d=\"M 232.6,99.8 L 234.3,101.6\" style=\"fill:none;fill-rule:evenodd;stroke:#000000;stroke-width:1.0px;stroke-linecap:butt;stroke-linejoin:miter;stroke-opacity:1\"/>\n",
       "<path class=\"bond-2 atom-2 atom-3\" d=\"M 234.9,97.3 L 237.0,99.5\" style=\"fill:none;fill-rule:evenodd;stroke:#000000;stroke-width:1.0px;stroke-linecap:butt;stroke-linejoin:miter;stroke-opacity:1\"/>\n",
       "<path class=\"bond-2 atom-2 atom-3\" d=\"M 237.2,94.8 L 239.6,97.4\" style=\"fill:none;fill-rule:evenodd;stroke:#000000;stroke-width:1.0px;stroke-linecap:butt;stroke-linejoin:miter;stroke-opacity:1\"/>\n",
       "<path class=\"bond-2 atom-2 atom-3\" d=\"M 239.5,92.3 L 242.3,95.2\" style=\"fill:none;fill-rule:evenodd;stroke:#000000;stroke-width:1.0px;stroke-linecap:butt;stroke-linejoin:miter;stroke-opacity:1\"/>\n",
       "<path class=\"bond-2 atom-2 atom-3\" d=\"M 241.8,89.8 L 244.9,93.1\" style=\"fill:none;fill-rule:evenodd;stroke:#000000;stroke-width:1.0px;stroke-linecap:butt;stroke-linejoin:miter;stroke-opacity:1\"/>\n",
       "<path class=\"bond-2 atom-2 atom-3\" d=\"M 244.1,87.3 L 247.6,91.0\" style=\"fill:none;fill-rule:evenodd;stroke:#000000;stroke-width:1.0px;stroke-linecap:butt;stroke-linejoin:miter;stroke-opacity:1\"/>\n",
       "<path class=\"bond-2 atom-2 atom-3\" d=\"M 246.4,84.8 L 250.2,88.9\" style=\"fill:none;fill-rule:evenodd;stroke:#000000;stroke-width:1.0px;stroke-linecap:butt;stroke-linejoin:miter;stroke-opacity:1\"/>\n",
       "<path class=\"bond-2 atom-2 atom-3\" d=\"M 248.7,82.3 L 252.9,86.7\" style=\"fill:none;fill-rule:evenodd;stroke:#000000;stroke-width:1.0px;stroke-linecap:butt;stroke-linejoin:miter;stroke-opacity:1\"/>\n",
       "<path class=\"bond-2 atom-2 atom-3\" d=\"M 251.0,79.8 L 255.5,84.6\" style=\"fill:none;fill-rule:evenodd;stroke:#000000;stroke-width:1.0px;stroke-linecap:butt;stroke-linejoin:miter;stroke-opacity:1\"/>\n",
       "<path class=\"bond-2 atom-2 atom-3\" d=\"M 253.3,77.3 L 258.1,82.5\" style=\"fill:none;fill-rule:evenodd;stroke:#000000;stroke-width:1.0px;stroke-linecap:butt;stroke-linejoin:miter;stroke-opacity:1\"/>\n",
       "<path class=\"bond-3 atom-2 atom-4\" d=\"M 221.1,112.2 L 175.8,98.5\" style=\"fill:none;fill-rule:evenodd;stroke:#000000;stroke-width:2.0px;stroke-linecap:butt;stroke-linejoin:miter;stroke-opacity:1\"/>\n",
       "<path class=\"bond-4 atom-4 atom-5\" d=\"M 175.8,98.5 L 161.9,111.5\" style=\"fill:none;fill-rule:evenodd;stroke:#000000;stroke-width:2.0px;stroke-linecap:butt;stroke-linejoin:miter;stroke-opacity:1\"/>\n",
       "<path class=\"bond-4 atom-4 atom-5\" d=\"M 161.9,111.5 L 147.9,124.6\" style=\"fill:none;fill-rule:evenodd;stroke:#0000FF;stroke-width:2.0px;stroke-linecap:butt;stroke-linejoin:miter;stroke-opacity:1\"/>\n",
       "<path class=\"bond-5 atom-5 atom-6\" d=\"M 134.6,128.8 L 115.3,122.9\" style=\"fill:none;fill-rule:evenodd;stroke:#0000FF;stroke-width:2.0px;stroke-linecap:butt;stroke-linejoin:miter;stroke-opacity:1\"/>\n",
       "<path class=\"bond-5 atom-5 atom-6\" d=\"M 115.3,122.9 L 95.9,117.0\" style=\"fill:none;fill-rule:evenodd;stroke:#000000;stroke-width:2.0px;stroke-linecap:butt;stroke-linejoin:miter;stroke-opacity:1\"/>\n",
       "<path class=\"bond-6 atom-6 atom-7\" d=\"M 95.9,117.0 L 61.3,149.4\" style=\"fill:none;fill-rule:evenodd;stroke:#000000;stroke-width:2.0px;stroke-linecap:butt;stroke-linejoin:miter;stroke-opacity:1\"/>\n",
       "<path class=\"bond-7 atom-7 atom-8\" d=\"M 61.3,149.4 L 65.7,168.3\" style=\"fill:none;fill-rule:evenodd;stroke:#000000;stroke-width:2.0px;stroke-linecap:butt;stroke-linejoin:miter;stroke-opacity:1\"/>\n",
       "<path class=\"bond-7 atom-7 atom-8\" d=\"M 65.7,168.3 L 70.1,187.2\" style=\"fill:none;fill-rule:evenodd;stroke:#0000FF;stroke-width:2.0px;stroke-linecap:butt;stroke-linejoin:miter;stroke-opacity:1\"/>\n",
       "<path class=\"bond-8 atom-7 atom-9\" d=\"M 61.3,149.4 L 15.0,139.0 L 17.1,132.2 Z\" style=\"fill:#000000;fill-rule:evenodd;fill-opacity:1;stroke:#000000;stroke-width:0.5px;stroke-linecap:butt;stroke-linejoin:miter;stroke-opacity:1;\"/>\n",
       "<path class=\"bond-9 atom-6 atom-10\" d=\"M 99.9,118.2 L 95.3,98.4\" style=\"fill:none;fill-rule:evenodd;stroke:#000000;stroke-width:2.0px;stroke-linecap:butt;stroke-linejoin:miter;stroke-opacity:1\"/>\n",
       "<path class=\"bond-9 atom-6 atom-10\" d=\"M 95.3,98.4 L 90.7,78.6\" style=\"fill:none;fill-rule:evenodd;stroke:#FF0000;stroke-width:2.0px;stroke-linecap:butt;stroke-linejoin:miter;stroke-opacity:1\"/>\n",
       "<path class=\"bond-9 atom-6 atom-10\" d=\"M 92.9,119.8 L 88.3,100.0\" style=\"fill:none;fill-rule:evenodd;stroke:#000000;stroke-width:2.0px;stroke-linecap:butt;stroke-linejoin:miter;stroke-opacity:1\"/>\n",
       "<path class=\"bond-9 atom-6 atom-10\" d=\"M 88.3,100.0 L 83.7,80.2\" style=\"fill:none;fill-rule:evenodd;stroke:#FF0000;stroke-width:2.0px;stroke-linecap:butt;stroke-linejoin:miter;stroke-opacity:1\"/>\n",
       "<path class=\"bond-10 atom-1 atom-11\" d=\"M 230.9,154.4 L 216.7,167.6\" style=\"fill:none;fill-rule:evenodd;stroke:#000000;stroke-width:2.0px;stroke-linecap:butt;stroke-linejoin:miter;stroke-opacity:1\"/>\n",
       "<path class=\"bond-10 atom-1 atom-11\" d=\"M 216.7,167.6 L 202.5,180.9\" style=\"fill:none;fill-rule:evenodd;stroke:#FF0000;stroke-width:2.0px;stroke-linecap:butt;stroke-linejoin:miter;stroke-opacity:1\"/>\n",
       "<path class=\"bond-10 atom-1 atom-11\" d=\"M 235.8,159.6 L 221.6,172.8\" style=\"fill:none;fill-rule:evenodd;stroke:#000000;stroke-width:2.0px;stroke-linecap:butt;stroke-linejoin:miter;stroke-opacity:1\"/>\n",
       "<path class=\"bond-10 atom-1 atom-11\" d=\"M 221.6,172.8 L 207.4,186.1\" style=\"fill:none;fill-rule:evenodd;stroke:#FF0000;stroke-width:2.0px;stroke-linecap:butt;stroke-linejoin:miter;stroke-opacity:1\"/>\n",
       "<path d=\"M 232.8,158.7 L 231.8,158.4 L 231.3,156.1\" style=\"fill:none;stroke:#000000;stroke-width:2.0px;stroke-linecap:butt;stroke-linejoin:miter;stroke-opacity:1;\"/>\n",
       "<path d=\"M 221.7,114.5 L 221.1,112.2 L 218.9,111.5\" style=\"fill:none;stroke:#000000;stroke-width:2.0px;stroke-linecap:butt;stroke-linejoin:miter;stroke-opacity:1;\"/>\n",
       "<path d=\"M 178.1,99.1 L 175.8,98.5 L 175.1,99.1\" style=\"fill:none;stroke:#000000;stroke-width:2.0px;stroke-linecap:butt;stroke-linejoin:miter;stroke-opacity:1;\"/>\n",
       "<path d=\"M 96.9,117.3 L 95.9,117.0 L 94.2,118.6\" style=\"fill:none;stroke:#000000;stroke-width:2.0px;stroke-linecap:butt;stroke-linejoin:miter;stroke-opacity:1;\"/>\n",
       "<path d=\"M 63.1,147.7 L 61.3,149.4 L 61.6,150.3\" style=\"fill:none;stroke:#000000;stroke-width:2.0px;stroke-linecap:butt;stroke-linejoin:miter;stroke-opacity:1;\"/>\n",
       "<path class=\"atom-0\" d=\"M 273.4 176.7 Q 273.5 176.8, 274.1 177.1 Q 274.8 177.3, 275.4 177.5 Q 276.1 177.7, 276.8 177.7 Q 278.1 177.7, 278.8 177.0 Q 279.6 176.4, 279.6 175.3 Q 279.6 174.6, 279.2 174.2 Q 278.8 173.7, 278.3 173.4 Q 277.7 173.2, 276.8 172.9 Q 275.6 172.6, 274.8 172.2 Q 274.1 171.9, 273.6 171.2 Q 273.1 170.4, 273.1 169.2 Q 273.1 167.5, 274.3 166.5 Q 275.4 165.5, 277.7 165.5 Q 279.3 165.5, 281.0 166.2 L 280.6 167.7 Q 279.0 167.0, 277.8 167.0 Q 276.4 167.0, 275.7 167.5 Q 275.0 168.1, 275.0 169.0 Q 275.0 169.7, 275.4 170.2 Q 275.8 170.6, 276.3 170.8 Q 276.8 171.1, 277.8 171.4 Q 279.0 171.7, 279.7 172.1 Q 280.4 172.5, 280.9 173.3 Q 281.4 174.0, 281.4 175.3 Q 281.4 177.2, 280.2 178.2 Q 279.0 179.2, 276.9 179.2 Q 275.7 179.2, 274.8 178.9 Q 273.9 178.7, 272.8 178.2 L 273.4 176.7 \" fill=\"#CCCC00\"/>\n",
       "<path class=\"atom-5\" d=\"M 138.3 124.1 L 142.7 131.2 Q 143.1 131.9, 143.8 133.2 Q 144.5 134.4, 144.5 134.5 L 144.5 124.1 L 146.3 124.1 L 146.3 137.5 L 144.5 137.5 L 139.8 129.7 Q 139.2 128.8, 138.6 127.8 Q 138.1 126.7, 137.9 126.4 L 137.9 137.5 L 136.1 137.5 L 136.1 124.1 L 138.3 124.1 \" fill=\"#0000FF\"/>\n",
       "<path class=\"atom-5\" d=\"M 136.0 138.8 L 137.8 138.8 L 137.8 144.5 L 144.7 144.5 L 144.7 138.8 L 146.5 138.8 L 146.5 152.3 L 144.7 152.3 L 144.7 146.1 L 137.8 146.1 L 137.8 152.3 L 136.0 152.3 L 136.0 138.8 \" fill=\"#0000FF\"/>\n",
       "<path class=\"atom-8\" d=\"M 69.1 188.8 L 73.5 195.9 Q 73.9 196.6, 74.6 197.9 Q 75.3 199.1, 75.4 199.2 L 75.4 188.8 L 77.1 188.8 L 77.1 202.2 L 75.3 202.2 L 70.6 194.4 Q 70.0 193.5, 69.5 192.5 Q 68.9 191.4, 68.7 191.1 L 68.7 202.2 L 67.0 202.2 L 67.0 188.8 L 69.1 188.8 \" fill=\"#0000FF\"/>\n",
       "<path class=\"atom-8\" d=\"M 79.7 188.8 L 81.5 188.8 L 81.5 194.5 L 88.4 194.5 L 88.4 188.8 L 90.2 188.8 L 90.2 202.2 L 88.4 202.2 L 88.4 196.0 L 81.5 196.0 L 81.5 202.2 L 79.7 202.2 L 79.7 188.8 \" fill=\"#0000FF\"/>\n",
       "<path class=\"atom-8\" d=\"M 92.8 201.7 Q 93.1 200.9, 93.9 200.4 Q 94.7 199.9, 95.8 199.9 Q 97.1 199.9, 97.9 200.7 Q 98.6 201.4, 98.6 202.7 Q 98.6 204.0, 97.6 205.2 Q 96.7 206.4, 94.7 207.9 L 98.8 207.9 L 98.8 208.9 L 92.8 208.9 L 92.8 208.1 Q 94.4 206.9, 95.4 206.0 Q 96.4 205.1, 96.9 204.3 Q 97.4 203.6, 97.4 202.7 Q 97.4 201.9, 96.9 201.4 Q 96.5 200.9, 95.8 200.9 Q 95.1 200.9, 94.6 201.2 Q 94.1 201.5, 93.8 202.2 L 92.8 201.7 \" fill=\"#0000FF\"/>\n",
       "<path class=\"atom-10\" d=\"M 79.1 70.9 Q 79.1 67.7, 80.6 65.9 Q 82.2 64.1, 85.2 64.1 Q 88.2 64.1, 89.8 65.9 Q 91.4 67.7, 91.4 70.9 Q 91.4 74.2, 89.8 76.0 Q 88.1 77.9, 85.2 77.9 Q 82.3 77.9, 80.6 76.0 Q 79.1 74.2, 79.1 70.9 M 85.2 76.4 Q 87.3 76.4, 88.4 75.0 Q 89.5 73.6, 89.5 70.9 Q 89.5 68.3, 88.4 67.0 Q 87.3 65.6, 85.2 65.6 Q 83.2 65.6, 82.0 66.9 Q 80.9 68.3, 80.9 70.9 Q 80.9 73.6, 82.0 75.0 Q 83.2 76.4, 85.2 76.4 \" fill=\"#FF0000\"/>\n",
       "<path class=\"atom-11\" d=\"M 191.1 190.7 Q 191.1 187.5, 192.7 185.7 Q 194.3 183.9, 197.3 183.9 Q 200.2 183.9, 201.8 185.7 Q 203.4 187.5, 203.4 190.7 Q 203.4 194.0, 201.8 195.9 Q 200.2 197.7, 197.3 197.7 Q 194.3 197.7, 192.7 195.9 Q 191.1 194.0, 191.1 190.7 M 197.3 196.2 Q 199.3 196.2, 200.4 194.8 Q 201.5 193.4, 201.5 190.7 Q 201.5 188.1, 200.4 186.8 Q 199.3 185.4, 197.3 185.4 Q 195.2 185.4, 194.1 186.8 Q 193.0 188.1, 193.0 190.7 Q 193.0 193.5, 194.1 194.8 Q 195.2 196.2, 197.3 196.2 \" fill=\"#FF0000\"/>\n",
       "<path class=\"atom-0\" d=\"M 285.2,172.1 L 285.2,172.2 L 285.2,172.3 L 285.2,172.4 L 285.2,172.5 L 285.2,172.5 L 285.1,172.6 L 285.1,172.7 L 285.0,172.7 L 285.0,172.8 L 284.9,172.9 L 284.8,172.9 L 284.8,173.0 L 284.7,173.0 L 284.6,173.0 L 284.6,173.1 L 284.5,173.1 L 284.4,173.1 L 284.3,173.1 L 284.2,173.1 L 284.1,173.1 L 284.1,173.1 L 284.0,173.0 L 283.9,173.0 L 283.8,173.0 L 283.8,172.9 L 283.7,172.9 L 283.6,172.8 L 283.6,172.8 L 283.5,172.7 L 283.5,172.6 L 283.4,172.6 L 283.4,172.5 L 283.4,172.4 L 283.4,172.3 L 283.4,172.3 L 283.3,172.2 L 283.3,172.1 L 283.4,172.0 L 283.4,171.9 L 283.4,171.9 L 283.4,171.8 L 283.4,171.7 L 283.5,171.6 L 283.5,171.6 L 283.6,171.5 L 283.6,171.5 L 283.7,171.4 L 283.8,171.4 L 283.8,171.3 L 283.9,171.3 L 284.0,171.2 L 284.1,171.2 L 284.1,171.2 L 284.2,171.2 L 284.3,171.2 L 284.4,171.2 L 284.5,171.2 L 284.6,171.2 L 284.6,171.3 L 284.7,171.3 L 284.8,171.3 L 284.8,171.4 L 284.9,171.4 L 285.0,171.5 L 285.0,171.5 L 285.1,171.6 L 285.1,171.7 L 285.2,171.7 L 285.2,171.8 L 285.2,171.9 L 285.2,172.0 L 285.2,172.1 L 285.2,172.1 L 284.3,172.1 Z\" style=\"fill:#000000;fill-rule:evenodd;fill-opacity:1;stroke:#000000;stroke-width:0.0px;stroke-linecap:butt;stroke-linejoin:miter;stroke-opacity:1;\"/>\n",
       "<path class=\"legend\" d=\"M 127.4 275.1 Q 128.5 275.4, 129.1 276.2 Q 129.6 276.9, 129.6 278.0 Q 129.6 278.9, 129.1 279.7 Q 128.6 280.4, 127.8 280.8 Q 126.9 281.2, 125.7 281.2 Q 124.5 281.2, 123.6 280.8 Q 122.7 280.4, 122.0 279.5 L 122.9 278.6 Q 123.6 279.4, 124.2 279.7 Q 124.8 280.0, 125.7 280.0 Q 126.8 280.0, 127.4 279.4 Q 128.0 278.9, 128.0 278.0 Q 128.0 276.8, 127.3 276.3 Q 126.7 275.8, 125.3 275.8 L 124.5 275.8 L 124.5 274.6 L 125.2 274.6 Q 126.4 274.6, 127.1 274.1 Q 127.8 273.5, 127.8 272.5 Q 127.8 271.8, 127.2 271.4 Q 126.7 270.9, 125.7 270.9 Q 124.8 270.9, 124.2 271.2 Q 123.6 271.6, 123.2 272.4 L 122.1 271.8 Q 122.5 270.9, 123.4 270.3 Q 124.4 269.6, 125.7 269.6 Q 127.4 269.6, 128.4 270.4 Q 129.4 271.2, 129.4 272.5 Q 129.4 273.4, 128.9 274.1 Q 128.4 274.7, 127.4 275.1 \" fill=\"#000000\"/>\n",
       "<path class=\"legend\" d=\"M 140.8 272.7 Q 142.2 272.7, 142.9 273.5 Q 143.6 274.2, 143.6 275.6 L 143.6 281.1 L 142.1 281.1 L 142.1 275.8 Q 142.1 274.8, 141.7 274.3 Q 141.4 273.9, 140.5 273.9 Q 139.8 273.9, 139.2 274.2 Q 138.6 274.6, 138.2 275.2 Q 138.2 275.3, 138.2 275.6 L 138.2 281.1 L 136.7 281.1 L 136.7 275.8 Q 136.7 274.8, 136.4 274.3 Q 136.0 273.9, 135.2 273.9 Q 134.4 273.9, 133.8 274.2 Q 133.2 274.6, 132.8 275.2 L 132.8 281.1 L 131.3 281.1 L 131.3 272.9 L 132.6 272.9 L 132.7 274.0 Q 133.8 272.7, 135.4 272.7 Q 137.4 272.7, 138.0 274.2 Q 139.1 272.7, 140.8 272.7 \" fill=\"#000000\"/>\n",
       "<path class=\"legend\" d=\"M 145.7 277.0 Q 145.7 274.9, 146.7 273.8 Q 147.7 272.7, 149.5 272.7 Q 151.3 272.7, 152.1 273.8 Q 152.9 274.9, 152.9 276.9 L 152.9 277.2 L 147.2 277.2 Q 147.2 278.6, 147.8 279.3 Q 148.5 280.0, 149.6 280.0 Q 150.3 280.0, 150.9 279.9 Q 151.5 279.7, 152.2 279.4 L 152.6 280.4 Q 151.8 280.8, 151.1 281.0 Q 150.3 281.2, 149.6 281.2 Q 147.7 281.2, 146.7 280.1 Q 145.7 279.0, 145.7 277.0 M 149.5 273.9 Q 148.6 273.9, 148.0 274.4 Q 147.4 275.0, 147.3 276.0 L 151.4 276.0 Q 151.2 274.9, 150.8 274.4 Q 150.3 273.9, 149.5 273.9 \" fill=\"#000000\"/>\n",
       "<path class=\"legend\" d=\"M 154.3 278.9 Q 154.3 277.5, 155.4 276.8 Q 156.4 276.1, 158.4 276.1 L 159.6 276.1 L 159.6 275.8 Q 159.6 274.8, 159.2 274.3 Q 158.7 273.9, 157.7 273.9 Q 157.1 273.9, 156.6 274.0 Q 156.0 274.1, 155.2 274.5 L 154.8 273.4 Q 156.3 272.7, 157.8 272.7 Q 159.5 272.7, 160.3 273.5 Q 161.1 274.2, 161.1 275.8 L 161.1 281.1 L 159.9 281.1 Q 159.9 281.0, 159.9 280.8 Q 159.8 280.5, 159.7 280.1 Q 158.6 281.3, 157.0 281.3 Q 155.8 281.3, 155.1 280.6 Q 154.3 280.0, 154.3 278.9 M 155.8 278.8 Q 155.8 279.4, 156.2 279.8 Q 156.6 280.1, 157.3 280.1 Q 158.0 280.1, 158.6 279.8 Q 159.2 279.5, 159.6 279.0 L 159.6 277.2 L 158.5 277.2 Q 157.2 277.2, 156.5 277.6 Q 155.8 278.0, 155.8 278.8 \" fill=\"#000000\"/>\n",
       "<path class=\"legend\" d=\"M 163.6 279.4 Q 164.3 279.7, 164.8 279.8 Q 165.3 280.0, 165.9 280.0 Q 166.6 280.0, 167.0 279.7 Q 167.4 279.4, 167.4 278.8 Q 167.4 278.4, 167.2 278.2 Q 167.0 277.9, 166.7 277.8 Q 166.5 277.7, 165.8 277.5 Q 165.6 277.4, 164.9 277.2 Q 164.2 276.9, 163.8 276.4 Q 163.4 275.8, 163.4 275.0 Q 163.4 274.1, 164.2 273.4 Q 164.9 272.7, 166.4 272.7 Q 167.0 272.7, 167.6 272.9 Q 168.1 273.0, 168.7 273.2 L 168.3 274.4 Q 167.8 274.2, 167.4 274.1 Q 166.9 274.0, 166.4 274.0 Q 165.7 274.0, 165.3 274.3 Q 164.9 274.6, 164.9 275.0 Q 164.9 275.5, 165.2 275.7 Q 165.5 275.9, 166.2 276.2 Q 166.3 276.2, 166.5 276.3 L 166.9 276.4 Q 167.5 276.6, 167.9 276.9 Q 168.4 277.1, 168.7 277.5 Q 168.9 278.0, 168.9 278.7 Q 168.9 279.9, 168.1 280.6 Q 167.3 281.2, 165.9 281.2 Q 165.1 281.2, 164.5 281.1 Q 163.8 280.9, 163.1 280.6 L 163.6 279.4 \" fill=\"#000000\"/>\n",
       "<path class=\"legend\" d=\"M 174.4 272.7 Q 176.1 272.7, 177.1 273.8 Q 178.0 274.8, 178.0 276.8 Q 178.0 278.9, 176.9 280.1 Q 175.8 281.2, 173.8 281.2 Q 172.9 281.2, 172.1 281.0 L 172.1 285.0 L 170.6 285.0 L 170.6 272.9 L 171.8 272.9 L 172.0 273.8 Q 172.4 273.3, 173.0 273.0 Q 173.6 272.7, 174.4 272.7 M 173.8 280.0 Q 175.0 280.0, 175.8 279.2 Q 176.5 278.3, 176.5 276.8 Q 176.5 275.4, 175.9 274.7 Q 175.3 273.9, 174.3 273.9 Q 173.5 273.9, 172.9 274.3 Q 172.3 274.8, 172.1 275.5 L 172.1 279.8 Q 172.9 280.0, 173.8 280.0 \" fill=\"#000000\"/>\n",
       "</svg>"
      ],
      "text/plain": [
       "<IPython.core.display.SVG object>"
      ]
     },
     "metadata": {},
     "output_type": "display_data"
    },
    {
     "data": {
      "text/plain": [
       "'C[C@H](N)C(=O)NC[C@H](C)C(=O)[S]'"
      ]
     },
     "metadata": {},
     "output_type": "display_data"
    }
   ],
   "source": [
    "# plot all structures\n",
    "for name, mol in starters.items():\n",
    "    plotMol(mol, name, 300)\n",
    "    display(Chem.MolToSmiles(mol, isomericSmiles=True))"
   ]
  },
  {
   "cell_type": "markdown",
   "metadata": {},
   "source": [
    "# Database of PKS extender substrates\n",
    "\n",
    "How to access properties:\n",
    "* m.GetProp('_Name')\n",
    "* m.GetPropsAsDict()"
   ]
  },
  {
   "cell_type": "code",
   "execution_count": null,
   "metadata": {
    "ExecuteTime": {
     "end_time": "2025-03-25T17:01:05.606736Z",
     "start_time": "2025-03-25T17:01:05.596833Z"
    }
   },
   "outputs": [],
   "source": [
    "extenderSuppl = Chem.rdmolfiles.SmilesMolSupplier(\n",
    "    '../bcs/data/extenders.smi',\n",
    "    delimiter='\\t',\n",
    "    titleLine=True,\n",
    "    sanitize=True,\n",
    ")"
   ]
  },
  {
   "cell_type": "code",
   "execution_count": null,
   "metadata": {
    "ExecuteTime": {
     "end_time": "2025-03-25T17:01:06.618541Z",
     "start_time": "2025-03-25T17:01:06.600506Z"
    }
   },
   "outputs": [
    {
     "name": "stderr",
     "output_type": "stream",
     "text": [
      "[12:01:06] product atom-mapping number 10 not found in reactants.\n",
      "[12:01:06] product atom-mapping number 10 not found in reactants.\n",
      "[12:01:06] product atom-mapping number 10 not found in reactants.\n",
      "[12:01:06] product atom-mapping number 10 not found in reactants.\n",
      "[12:01:06] product atom-mapping number 10 not found in reactants.\n",
      "[12:01:06] product atom-mapping number 10 not found in reactants.\n",
      "[12:01:06] product atom-mapping number 10 not found in reactants.\n",
      "[12:01:06] product atom-mapping number 10 not found in reactants.\n",
      "[12:01:06] product atom-mapping number 10 not found in reactants.\n",
      "[12:01:06] product atom-mapping number 10 not found in reactants.\n",
      "[12:01:06] product atom-mapping number 10 not found in reactants.\n"
     ]
    }
   ],
   "source": [
    "# now let's process these into a dict, and 'virtually attach to the ACP' by removal of the CoA\n",
    "extenders = {}\n",
    "\n",
    "for m in extenderSuppl:\n",
    "    rxn = AllChem.ReactionFromSmarts(\n",
    "        # This reaction removes the CoA\n",
    "        '[O:1]=[C:2]([O:3])[C:4][C:5](=[O:6])[S:7]'\n",
    "        '>>'\n",
    "        '[*:10]-[C:2](=[O:1])[C:4][C:5](=[O:6])[S:7].[O:3]')\n",
    "    prod = rxn.RunReactants([m])[0][0]\n",
    "    Chem.SanitizeMol(prod)\n",
    "    extenders[m.GetProp('_Name')] = prod"
   ]
  },
  {
   "cell_type": "code",
   "execution_count": null,
   "metadata": {
    "ExecuteTime": {
     "end_time": "2025-03-25T17:01:24.528630Z",
     "start_time": "2025-03-25T17:01:24.519634Z"
    }
   },
   "outputs": [
    {
     "data": {
      "text/plain": [
       "{'Malonyl-CoA': '*C(=O)CC(=O)[S]',\n",
       " 'Methylmalonyl-CoA': '*C(=O)[C@H](C)C(=O)[S]',\n",
       " 'mxmal': '*C(=O)[C@H](OC)C(=O)[S]',\n",
       " 'emal': '*C(=O)[C@H](CC)C(=O)[S]',\n",
       " 'allylmal': '*C(=O)[C@H](CC=C)C(=O)[S]',\n",
       " 'butmal': '*C(=O)[C@H](CCCC)C(=O)[S]',\n",
       " 'hmal': '*C(=O)C(O)C(=O)[S]',\n",
       " 'isobutmal': '*C(=O)[C@H](C(=O)[S])C(C)C',\n",
       " 'D-isobutmal': '*C(=O)[C@@H](C(=O)[S])C(C)C',\n",
       " 'DCP': '*C(=O)C(CCCCc1c[nH]c(Cl)c1Cl)C(=O)[S]',\n",
       " 'hexmal': '*C(=O)[C@H](CCCCCC)C(=O)[S]'}"
      ]
     },
     "execution_count": 13,
     "metadata": {},
     "output_type": "execute_result"
    }
   ],
   "source": [
    "{name: Chem.MolToSmiles(mol, canonical=True, isomericSmiles=True) for name, mol in extenders.items()}"
   ]
  },
  {
   "cell_type": "code",
   "execution_count": null,
   "metadata": {
    "ExecuteTime": {
     "end_time": "2025-03-25T17:01:31.275841Z",
     "start_time": "2025-03-25T17:01:31.163809Z"
    }
   },
   "outputs": [
    {
     "data": {
      "image/svg+xml": [
       "<svg xmlns=\"http://www.w3.org/2000/svg\" xmlns:rdkit=\"http://www.rdkit.org/xml\" xmlns:xlink=\"http://www.w3.org/1999/xlink\" version=\"1.1\" baseProfile=\"full\" xml:space=\"preserve\" width=\"300px\" height=\"300px\" viewBox=\"0 0 300 300\">\n",
       "<!-- END OF HEADER -->\n",
       "<rect style=\"opacity:1.0;fill:#FFFFFF;stroke:none\" width=\"300.0\" height=\"300.0\" x=\"0.0\" y=\"0.0\"> </rect>\n",
       "<path class=\"bond-0 atom-0 atom-1\" d=\"M 27.3,187.4 L 55.6,171.1\" style=\"fill:none;fill-rule:evenodd;stroke:#191919;stroke-width:2.0px;stroke-linecap:butt;stroke-linejoin:miter;stroke-opacity:1\"/>\n",
       "<path class=\"bond-0 atom-0 atom-1\" d=\"M 55.6,171.1 L 83.8,154.8\" style=\"fill:none;fill-rule:evenodd;stroke:#000000;stroke-width:2.0px;stroke-linecap:butt;stroke-linejoin:miter;stroke-opacity:1\"/>\n",
       "<path class=\"bond-1 atom-1 atom-2\" d=\"M 89.3,158.0 L 89.3,126.2\" style=\"fill:none;fill-rule:evenodd;stroke:#000000;stroke-width:2.0px;stroke-linecap:butt;stroke-linejoin:miter;stroke-opacity:1\"/>\n",
       "<path class=\"bond-1 atom-1 atom-2\" d=\"M 89.3,126.2 L 89.3,94.3\" style=\"fill:none;fill-rule:evenodd;stroke:#FF0000;stroke-width:2.0px;stroke-linecap:butt;stroke-linejoin:miter;stroke-opacity:1\"/>\n",
       "<path class=\"bond-1 atom-1 atom-2\" d=\"M 78.3,158.0 L 78.3,126.2\" style=\"fill:none;fill-rule:evenodd;stroke:#000000;stroke-width:2.0px;stroke-linecap:butt;stroke-linejoin:miter;stroke-opacity:1\"/>\n",
       "<path class=\"bond-1 atom-1 atom-2\" d=\"M 78.3,126.2 L 78.3,94.3\" style=\"fill:none;fill-rule:evenodd;stroke:#FF0000;stroke-width:2.0px;stroke-linecap:butt;stroke-linejoin:miter;stroke-opacity:1\"/>\n",
       "<path class=\"bond-2 atom-1 atom-3\" d=\"M 83.8,154.8 L 147.7,191.6\" style=\"fill:none;fill-rule:evenodd;stroke:#000000;stroke-width:2.0px;stroke-linecap:butt;stroke-linejoin:miter;stroke-opacity:1\"/>\n",
       "<path class=\"bond-3 atom-3 atom-4\" d=\"M 147.7,191.6 L 211.5,154.8\" style=\"fill:none;fill-rule:evenodd;stroke:#000000;stroke-width:2.0px;stroke-linecap:butt;stroke-linejoin:miter;stroke-opacity:1\"/>\n",
       "<path class=\"bond-4 atom-4 atom-5\" d=\"M 206.0,158.0 L 233.3,173.7\" style=\"fill:none;fill-rule:evenodd;stroke:#000000;stroke-width:2.0px;stroke-linecap:butt;stroke-linejoin:miter;stroke-opacity:1\"/>\n",
       "<path class=\"bond-4 atom-4 atom-5\" d=\"M 233.3,173.7 L 260.6,189.5\" style=\"fill:none;fill-rule:evenodd;stroke:#FF0000;stroke-width:2.0px;stroke-linecap:butt;stroke-linejoin:miter;stroke-opacity:1\"/>\n",
       "<path class=\"bond-4 atom-4 atom-5\" d=\"M 211.5,148.4 L 238.9,164.2\" style=\"fill:none;fill-rule:evenodd;stroke:#000000;stroke-width:2.0px;stroke-linecap:butt;stroke-linejoin:miter;stroke-opacity:1\"/>\n",
       "<path class=\"bond-4 atom-4 atom-5\" d=\"M 238.9,164.2 L 266.2,179.9\" style=\"fill:none;fill-rule:evenodd;stroke:#FF0000;stroke-width:2.0px;stroke-linecap:butt;stroke-linejoin:miter;stroke-opacity:1\"/>\n",
       "<path class=\"bond-5 atom-4 atom-6\" d=\"M 211.5,154.8 L 211.5,124.6\" style=\"fill:none;fill-rule:evenodd;stroke:#000000;stroke-width:2.0px;stroke-linecap:butt;stroke-linejoin:miter;stroke-opacity:1\"/>\n",
       "<path class=\"bond-5 atom-4 atom-6\" d=\"M 211.5,124.6 L 211.5,94.4\" style=\"fill:none;fill-rule:evenodd;stroke:#CCCC00;stroke-width:2.0px;stroke-linecap:butt;stroke-linejoin:miter;stroke-opacity:1\"/>\n",
       "<path d=\"M 82.4,155.6 L 83.8,154.8 L 87.0,156.6\" style=\"fill:none;stroke:#000000;stroke-width:2.0px;stroke-linecap:butt;stroke-linejoin:miter;stroke-opacity:1;\"/>\n",
       "<path d=\"M 144.5,189.8 L 147.7,191.6 L 150.9,189.8\" style=\"fill:none;stroke:#000000;stroke-width:2.0px;stroke-linecap:butt;stroke-linejoin:miter;stroke-opacity:1;\"/>\n",
       "<path d=\"M 208.4,156.6 L 211.5,154.8 L 211.5,153.3\" style=\"fill:none;stroke:#000000;stroke-width:2.0px;stroke-linecap:butt;stroke-linejoin:miter;stroke-opacity:1;\"/>\n",
       "<path class=\"atom-0\" d=\"M 16.0 189.3 L 19.1 186.2 L 15.0 185.4 L 15.6 183.3 L 19.4 185.2 L 18.8 181.1 L 21.0 181.0 L 20.4 185.1 L 24.2 183.4 L 24.9 185.4 L 20.8 186.1 L 23.7 189.3 L 21.9 190.6 L 19.9 186.7 L 17.8 190.6 L 16.0 189.3 \" fill=\"#191919\"/>\n",
       "<path class=\"atom-2\" d=\"M 74.2 81.1 Q 74.2 76.1, 76.7 73.3 Q 79.2 70.5, 83.8 70.5 Q 88.4 70.5, 90.9 73.3 Q 93.4 76.1, 93.4 81.1 Q 93.4 86.2, 90.9 89.1 Q 88.4 91.9, 83.8 91.9 Q 79.2 91.9, 76.7 89.1 Q 74.2 86.2, 74.2 81.1 M 83.8 89.6 Q 87.0 89.6, 88.7 87.4 Q 90.4 85.3, 90.4 81.1 Q 90.4 77.0, 88.7 74.9 Q 87.0 72.8, 83.8 72.8 Q 80.6 72.8, 78.9 74.9 Q 77.2 77.0, 77.2 81.1 Q 77.2 85.3, 78.9 87.4 Q 80.6 89.6, 83.8 89.6 \" fill=\"#FF0000\"/>\n",
       "<path class=\"atom-5\" d=\"M 265.8 191.7 Q 265.8 186.7, 268.3 183.9 Q 270.8 181.1, 275.4 181.1 Q 280.0 181.1, 282.5 183.9 Q 285.0 186.7, 285.0 191.7 Q 285.0 196.8, 282.5 199.7 Q 280.0 202.5, 275.4 202.5 Q 270.8 202.5, 268.3 199.7 Q 265.8 196.8, 265.8 191.7 M 275.4 200.2 Q 278.6 200.2, 280.3 198.1 Q 282.1 195.9, 282.1 191.7 Q 282.1 187.6, 280.3 185.5 Q 278.6 183.4, 275.4 183.4 Q 272.2 183.4, 270.5 185.5 Q 268.8 187.6, 268.8 191.7 Q 268.8 195.9, 270.5 198.1 Q 272.2 200.2, 275.4 200.2 \" fill=\"#FF0000\"/>\n",
       "<path class=\"atom-6\" d=\"M 205.6 88.2 Q 205.9 88.3, 206.9 88.7 Q 207.8 89.1, 208.9 89.4 Q 210.0 89.6, 211.0 89.6 Q 213.0 89.6, 214.2 88.7 Q 215.3 87.7, 215.3 86.0 Q 215.3 84.9, 214.7 84.2 Q 214.2 83.4, 213.3 83.1 Q 212.4 82.7, 210.9 82.2 Q 209.1 81.7, 207.9 81.1 Q 206.9 80.6, 206.1 79.5 Q 205.3 78.4, 205.3 76.5 Q 205.3 73.9, 207.1 72.2 Q 208.9 70.6, 212.4 70.6 Q 214.8 70.6, 217.6 71.8 L 216.9 74.0 Q 214.4 73.0, 212.5 73.0 Q 210.5 73.0, 209.3 73.9 Q 208.2 74.7, 208.2 76.1 Q 208.2 77.3, 208.8 77.9 Q 209.4 78.6, 210.2 79.0 Q 211.1 79.4, 212.5 79.8 Q 214.4 80.4, 215.5 81.0 Q 216.6 81.6, 217.4 82.8 Q 218.2 84.0, 218.2 86.0 Q 218.2 88.9, 216.3 90.5 Q 214.4 92.0, 211.2 92.0 Q 209.3 92.0, 207.9 91.6 Q 206.5 91.2, 204.8 90.5 L 205.6 88.2 \" fill=\"#CCCC00\"/>\n",
       "<path class=\"atom-6\" d=\"M 224.1,81.0 L 224.1,81.2 L 224.1,81.3 L 224.1,81.4 L 224.1,81.5 L 224.0,81.6 L 223.9,81.8 L 223.9,81.9 L 223.8,82.0 L 223.7,82.1 L 223.6,82.1 L 223.5,82.2 L 223.4,82.3 L 223.3,82.4 L 223.2,82.4 L 223.1,82.4 L 222.9,82.5 L 222.8,82.5 L 222.7,82.5 L 222.6,82.5 L 222.4,82.5 L 222.3,82.5 L 222.2,82.4 L 222.1,82.4 L 222.0,82.3 L 221.9,82.3 L 221.8,82.2 L 221.7,82.1 L 221.6,82.0 L 221.5,81.9 L 221.4,81.8 L 221.4,81.7 L 221.3,81.6 L 221.3,81.5 L 221.2,81.3 L 221.2,81.2 L 221.2,81.1 L 221.2,81.0 L 221.2,80.8 L 221.2,80.7 L 221.3,80.6 L 221.3,80.5 L 221.4,80.4 L 221.4,80.2 L 221.5,80.1 L 221.6,80.0 L 221.7,80.0 L 221.8,79.9 L 221.9,79.8 L 222.0,79.7 L 222.1,79.7 L 222.2,79.6 L 222.3,79.6 L 222.4,79.6 L 222.6,79.6 L 222.7,79.6 L 222.8,79.6 L 222.9,79.6 L 223.1,79.6 L 223.2,79.6 L 223.3,79.7 L 223.4,79.8 L 223.5,79.8 L 223.6,79.9 L 223.7,80.0 L 223.8,80.1 L 223.9,80.2 L 223.9,80.3 L 224.0,80.4 L 224.1,80.5 L 224.1,80.6 L 224.1,80.8 L 224.1,80.9 L 224.1,81.0 L 222.7,81.0 Z\" style=\"fill:#000000;fill-rule:evenodd;fill-opacity:1;stroke:#000000;stroke-width:0.0px;stroke-linecap:butt;stroke-linejoin:miter;stroke-opacity:1;\"/>\n",
       "<path class=\"legend\" d=\"M 116.0 281.1 L 114.5 281.1 L 113.4 271.8 L 110.3 281.1 L 108.8 281.1 L 105.7 271.8 L 104.5 281.1 L 103.1 281.1 L 104.5 269.7 L 106.4 269.7 L 109.5 278.9 L 112.7 269.7 L 114.6 269.7 L 116.0 281.1 \" fill=\"#000000\"/>\n",
       "<path class=\"legend\" d=\"M 117.7 278.8 Q 117.7 277.5, 118.8 276.8 Q 119.9 276.1, 121.8 276.1 L 123.0 276.1 L 123.0 275.8 Q 123.0 274.7, 122.6 274.3 Q 122.2 273.9, 121.1 273.9 Q 120.5 273.9, 120.0 274.0 Q 119.5 274.1, 118.7 274.5 L 118.2 273.4 Q 119.7 272.7, 121.2 272.7 Q 122.9 272.7, 123.7 273.4 Q 124.5 274.2, 124.5 275.8 L 124.5 281.1 L 123.3 281.1 Q 123.3 281.0, 123.3 280.8 Q 123.2 280.5, 123.1 280.1 Q 122.0 281.3, 120.5 281.3 Q 119.2 281.3, 118.5 280.6 Q 117.7 279.9, 117.7 278.8 M 119.3 278.8 Q 119.3 279.4, 119.6 279.8 Q 120.0 280.1, 120.7 280.1 Q 121.4 280.1, 122.0 279.8 Q 122.6 279.5, 123.0 279.0 L 123.0 277.2 L 121.9 277.2 Q 120.6 277.2, 119.9 277.6 Q 119.3 278.0, 119.3 278.8 \" fill=\"#000000\"/>\n",
       "<path class=\"legend\" d=\"M 126.5 268.9 L 127.9 268.9 L 127.9 281.1 L 126.5 281.1 L 126.5 268.9 \" fill=\"#000000\"/>\n",
       "<path class=\"legend\" d=\"M 130.0 276.9 Q 130.0 274.9, 131.0 273.8 Q 132.0 272.7, 133.9 272.7 Q 135.8 272.7, 136.8 273.8 Q 137.8 274.9, 137.8 276.9 Q 137.8 278.9, 136.8 280.1 Q 135.8 281.2, 133.9 281.2 Q 132.0 281.2, 131.0 280.1 Q 130.0 278.9, 130.0 276.9 M 131.5 276.9 Q 131.5 278.4, 132.2 279.2 Q 132.8 280.0, 133.9 280.0 Q 135.0 280.0, 135.7 279.2 Q 136.3 278.4, 136.3 276.9 Q 136.3 275.4, 135.7 274.7 Q 135.0 273.9, 133.9 273.9 Q 132.8 273.9, 132.2 274.7 Q 131.5 275.4, 131.5 276.9 \" fill=\"#000000\"/>\n",
       "<path class=\"legend\" d=\"M 143.5 272.7 Q 144.9 272.7, 145.5 273.4 Q 146.2 274.2, 146.2 275.6 L 146.2 281.1 L 144.7 281.1 L 144.7 275.7 Q 144.7 274.8, 144.4 274.3 Q 144.0 273.9, 143.2 273.9 Q 142.4 273.9, 141.8 274.2 Q 141.2 274.6, 140.8 275.2 L 140.8 281.1 L 139.3 281.1 L 139.3 272.8 L 140.5 272.8 L 140.7 274.0 Q 141.8 272.7, 143.5 272.7 \" fill=\"#000000\"/>\n",
       "<path class=\"legend\" d=\"M 154.5 272.8 L 156.0 272.8 L 151.7 285.0 L 150.4 285.0 L 151.7 281.1 L 151.1 281.1 L 148.2 272.8 L 149.7 272.8 L 152.2 279.8 L 154.5 272.8 \" fill=\"#000000\"/>\n",
       "<path class=\"legend\" d=\"M 156.8 268.9 L 158.3 268.9 L 158.3 281.1 L 156.8 281.1 L 156.8 268.9 \" fill=\"#000000\"/>\n",
       "<path class=\"legend\" d=\"M 160.4 275.3 L 166.3 275.3 L 166.3 276.6 L 160.4 276.6 L 160.4 275.3 \" fill=\"#000000\"/>\n",
       "<path class=\"legend\" d=\"M 167.8 275.4 Q 167.8 272.6, 169.1 271.1 Q 170.4 269.6, 172.9 269.6 Q 175.3 269.6, 176.5 271.3 L 175.4 272.1 Q 174.5 270.9, 172.9 270.9 Q 171.2 270.9, 170.3 272.1 Q 169.4 273.2, 169.4 275.4 Q 169.4 277.6, 170.3 278.8 Q 171.3 279.9, 173.1 279.9 Q 174.3 279.9, 175.8 279.2 L 176.2 280.4 Q 175.7 280.8, 174.8 281.0 Q 173.9 281.2, 172.9 281.2 Q 170.4 281.2, 169.1 279.7 Q 167.8 278.2, 167.8 275.4 \" fill=\"#000000\"/>\n",
       "<path class=\"legend\" d=\"M 177.9 276.9 Q 177.9 274.9, 178.9 273.8 Q 179.9 272.7, 181.8 272.7 Q 183.6 272.7, 184.6 273.8 Q 185.7 274.9, 185.7 276.9 Q 185.7 278.9, 184.6 280.1 Q 183.6 281.2, 181.8 281.2 Q 179.9 281.2, 178.9 280.1 Q 177.9 278.9, 177.9 276.9 M 179.4 276.9 Q 179.4 278.4, 180.0 279.2 Q 180.6 280.0, 181.8 280.0 Q 182.9 280.0, 183.5 279.2 Q 184.1 278.4, 184.1 276.9 Q 184.1 275.4, 183.5 274.7 Q 182.9 273.9, 181.8 273.9 Q 180.6 273.9, 180.0 274.7 Q 179.4 275.4, 179.4 276.9 \" fill=\"#000000\"/>\n",
       "<path class=\"legend\" d=\"M 195.5 281.1 L 194.3 277.7 L 189.8 277.7 L 188.6 281.1 L 187.1 281.1 L 191.0 269.7 L 192.9 269.7 L 196.9 281.1 L 195.5 281.1 M 190.2 276.5 L 193.8 276.5 L 192.0 271.3 L 190.2 276.5 \" fill=\"#000000\"/>\n",
       "</svg>"
      ],
      "text/plain": [
       "<IPython.core.display.SVG object>"
      ]
     },
     "metadata": {},
     "output_type": "display_data"
    },
    {
     "data": {
      "text/plain": [
       "'*C(=O)CC(=O)[S]'"
      ]
     },
     "metadata": {},
     "output_type": "display_data"
    },
    {
     "data": {
      "image/svg+xml": [
       "<svg xmlns=\"http://www.w3.org/2000/svg\" xmlns:rdkit=\"http://www.rdkit.org/xml\" xmlns:xlink=\"http://www.w3.org/1999/xlink\" version=\"1.1\" baseProfile=\"full\" xml:space=\"preserve\" width=\"300px\" height=\"300px\" viewBox=\"0 0 300 300\">\n",
       "<!-- END OF HEADER -->\n",
       "<rect style=\"opacity:1.0;fill:#FFFFFF;stroke:none\" width=\"300.0\" height=\"300.0\" x=\"0.0\" y=\"0.0\"> </rect>\n",
       "<path class=\"bond-0 atom-0 atom-1\" d=\"M 212.8,52.4 L 212.8,88.0\" style=\"fill:none;fill-rule:evenodd;stroke:#191919;stroke-width:2.0px;stroke-linecap:butt;stroke-linejoin:miter;stroke-opacity:1\"/>\n",
       "<path class=\"bond-0 atom-0 atom-1\" d=\"M 212.8,88.0 L 212.8,123.6\" style=\"fill:none;fill-rule:evenodd;stroke:#000000;stroke-width:2.0px;stroke-linecap:butt;stroke-linejoin:miter;stroke-opacity:1\"/>\n",
       "<path class=\"bond-1 atom-1 atom-2\" d=\"M 207.3,126.7 L 234.2,142.2\" style=\"fill:none;fill-rule:evenodd;stroke:#000000;stroke-width:2.0px;stroke-linecap:butt;stroke-linejoin:miter;stroke-opacity:1\"/>\n",
       "<path class=\"bond-1 atom-1 atom-2\" d=\"M 234.2,142.2 L 261.0,157.7\" style=\"fill:none;fill-rule:evenodd;stroke:#FF0000;stroke-width:2.0px;stroke-linecap:butt;stroke-linejoin:miter;stroke-opacity:1\"/>\n",
       "<path class=\"bond-1 atom-1 atom-2\" d=\"M 212.8,117.3 L 239.6,132.8\" style=\"fill:none;fill-rule:evenodd;stroke:#000000;stroke-width:2.0px;stroke-linecap:butt;stroke-linejoin:miter;stroke-opacity:1\"/>\n",
       "<path class=\"bond-1 atom-1 atom-2\" d=\"M 239.6,132.8 L 266.5,148.3\" style=\"fill:none;fill-rule:evenodd;stroke:#FF0000;stroke-width:2.0px;stroke-linecap:butt;stroke-linejoin:miter;stroke-opacity:1\"/>\n",
       "<path class=\"bond-2 atom-1 atom-3\" d=\"M 212.8,123.6 L 150.0,159.8\" style=\"fill:none;fill-rule:evenodd;stroke:#000000;stroke-width:2.0px;stroke-linecap:butt;stroke-linejoin:miter;stroke-opacity:1\"/>\n",
       "<path class=\"bond-3 atom-3 atom-4\" d=\"M 150.0,159.8 L 87.2,123.6\" style=\"fill:none;fill-rule:evenodd;stroke:#000000;stroke-width:2.0px;stroke-linecap:butt;stroke-linejoin:miter;stroke-opacity:1\"/>\n",
       "<path class=\"bond-4 atom-4 atom-5\" d=\"M 87.2,117.3 L 60.4,132.8\" style=\"fill:none;fill-rule:evenodd;stroke:#000000;stroke-width:2.0px;stroke-linecap:butt;stroke-linejoin:miter;stroke-opacity:1\"/>\n",
       "<path class=\"bond-4 atom-4 atom-5\" d=\"M 60.4,132.8 L 33.5,148.3\" style=\"fill:none;fill-rule:evenodd;stroke:#FF0000;stroke-width:2.0px;stroke-linecap:butt;stroke-linejoin:miter;stroke-opacity:1\"/>\n",
       "<path class=\"bond-4 atom-4 atom-5\" d=\"M 92.7,126.7 L 65.8,142.2\" style=\"fill:none;fill-rule:evenodd;stroke:#000000;stroke-width:2.0px;stroke-linecap:butt;stroke-linejoin:miter;stroke-opacity:1\"/>\n",
       "<path class=\"bond-4 atom-4 atom-5\" d=\"M 65.8,142.2 L 39.0,157.7\" style=\"fill:none;fill-rule:evenodd;stroke:#FF0000;stroke-width:2.0px;stroke-linecap:butt;stroke-linejoin:miter;stroke-opacity:1\"/>\n",
       "<path class=\"bond-5 atom-4 atom-6\" d=\"M 87.2,123.6 L 87.2,93.9\" style=\"fill:none;fill-rule:evenodd;stroke:#000000;stroke-width:2.0px;stroke-linecap:butt;stroke-linejoin:miter;stroke-opacity:1\"/>\n",
       "<path class=\"bond-5 atom-4 atom-6\" d=\"M 87.2,93.9 L 87.2,64.3\" style=\"fill:none;fill-rule:evenodd;stroke:#CCCC00;stroke-width:2.0px;stroke-linecap:butt;stroke-linejoin:miter;stroke-opacity:1\"/>\n",
       "<path class=\"bond-6 atom-3 atom-7\" d=\"M 150.3,163.3 L 149.7,163.3\" style=\"fill:none;fill-rule:evenodd;stroke:#000000;stroke-width:1.0px;stroke-linecap:butt;stroke-linejoin:miter;stroke-opacity:1\"/>\n",
       "<path class=\"bond-6 atom-3 atom-7\" d=\"M 150.5,166.8 L 149.5,166.8\" style=\"fill:none;fill-rule:evenodd;stroke:#000000;stroke-width:1.0px;stroke-linecap:butt;stroke-linejoin:miter;stroke-opacity:1\"/>\n",
       "<path class=\"bond-6 atom-3 atom-7\" d=\"M 150.8,170.2 L 149.2,170.2\" style=\"fill:none;fill-rule:evenodd;stroke:#000000;stroke-width:1.0px;stroke-linecap:butt;stroke-linejoin:miter;stroke-opacity:1\"/>\n",
       "<path class=\"bond-6 atom-3 atom-7\" d=\"M 151.0,173.7 L 149.0,173.7\" style=\"fill:none;fill-rule:evenodd;stroke:#000000;stroke-width:1.0px;stroke-linecap:butt;stroke-linejoin:miter;stroke-opacity:1\"/>\n",
       "<path class=\"bond-6 atom-3 atom-7\" d=\"M 151.3,177.1 L 148.7,177.1\" style=\"fill:none;fill-rule:evenodd;stroke:#000000;stroke-width:1.0px;stroke-linecap:butt;stroke-linejoin:miter;stroke-opacity:1\"/>\n",
       "<path class=\"bond-6 atom-3 atom-7\" d=\"M 151.6,180.6 L 148.4,180.6\" style=\"fill:none;fill-rule:evenodd;stroke:#000000;stroke-width:1.0px;stroke-linecap:butt;stroke-linejoin:miter;stroke-opacity:1\"/>\n",
       "<path class=\"bond-6 atom-3 atom-7\" d=\"M 151.8,184.0 L 148.2,184.0\" style=\"fill:none;fill-rule:evenodd;stroke:#000000;stroke-width:1.0px;stroke-linecap:butt;stroke-linejoin:miter;stroke-opacity:1\"/>\n",
       "<path class=\"bond-6 atom-3 atom-7\" d=\"M 152.1,187.5 L 147.9,187.5\" style=\"fill:none;fill-rule:evenodd;stroke:#000000;stroke-width:1.0px;stroke-linecap:butt;stroke-linejoin:miter;stroke-opacity:1\"/>\n",
       "<path class=\"bond-6 atom-3 atom-7\" d=\"M 152.3,190.9 L 147.7,190.9\" style=\"fill:none;fill-rule:evenodd;stroke:#000000;stroke-width:1.0px;stroke-linecap:butt;stroke-linejoin:miter;stroke-opacity:1\"/>\n",
       "<path class=\"bond-6 atom-3 atom-7\" d=\"M 152.6,194.4 L 147.4,194.4\" style=\"fill:none;fill-rule:evenodd;stroke:#000000;stroke-width:1.0px;stroke-linecap:butt;stroke-linejoin:miter;stroke-opacity:1\"/>\n",
       "<path class=\"bond-6 atom-3 atom-7\" d=\"M 152.8,197.8 L 147.2,197.8\" style=\"fill:none;fill-rule:evenodd;stroke:#000000;stroke-width:1.0px;stroke-linecap:butt;stroke-linejoin:miter;stroke-opacity:1\"/>\n",
       "<path class=\"bond-6 atom-3 atom-7\" d=\"M 153.1,201.3 L 146.9,201.3\" style=\"fill:none;fill-rule:evenodd;stroke:#000000;stroke-width:1.0px;stroke-linecap:butt;stroke-linejoin:miter;stroke-opacity:1\"/>\n",
       "<path class=\"bond-6 atom-3 atom-7\" d=\"M 153.4,204.7 L 146.6,204.7\" style=\"fill:none;fill-rule:evenodd;stroke:#000000;stroke-width:1.0px;stroke-linecap:butt;stroke-linejoin:miter;stroke-opacity:1\"/>\n",
       "<path class=\"bond-6 atom-3 atom-7\" d=\"M 153.6,208.2 L 146.4,208.2\" style=\"fill:none;fill-rule:evenodd;stroke:#000000;stroke-width:1.0px;stroke-linecap:butt;stroke-linejoin:miter;stroke-opacity:1\"/>\n",
       "<path class=\"bond-6 atom-3 atom-7\" d=\"M 153.9,211.6 L 146.1,211.6\" style=\"fill:none;fill-rule:evenodd;stroke:#000000;stroke-width:1.0px;stroke-linecap:butt;stroke-linejoin:miter;stroke-opacity:1\"/>\n",
       "<path class=\"bond-6 atom-3 atom-7\" d=\"M 154.1,215.1 L 145.9,215.1\" style=\"fill:none;fill-rule:evenodd;stroke:#000000;stroke-width:1.0px;stroke-linecap:butt;stroke-linejoin:miter;stroke-opacity:1\"/>\n",
       "<path class=\"bond-6 atom-3 atom-7\" d=\"M 154.4,218.5 L 145.6,218.5\" style=\"fill:none;fill-rule:evenodd;stroke:#000000;stroke-width:1.0px;stroke-linecap:butt;stroke-linejoin:miter;stroke-opacity:1\"/>\n",
       "<path class=\"bond-6 atom-3 atom-7\" d=\"M 154.7,222.0 L 145.3,222.0\" style=\"fill:none;fill-rule:evenodd;stroke:#000000;stroke-width:1.0px;stroke-linecap:butt;stroke-linejoin:miter;stroke-opacity:1\"/>\n",
       "<path class=\"bond-6 atom-3 atom-7\" d=\"M 154.9,225.4 L 145.1,225.4\" style=\"fill:none;fill-rule:evenodd;stroke:#000000;stroke-width:1.0px;stroke-linecap:butt;stroke-linejoin:miter;stroke-opacity:1\"/>\n",
       "<path class=\"bond-6 atom-3 atom-7\" d=\"M 155.2,228.9 L 144.8,228.9\" style=\"fill:none;fill-rule:evenodd;stroke:#000000;stroke-width:1.0px;stroke-linecap:butt;stroke-linejoin:miter;stroke-opacity:1\"/>\n",
       "<path class=\"bond-6 atom-3 atom-7\" d=\"M 155.4,232.3 L 144.6,232.3\" style=\"fill:none;fill-rule:evenodd;stroke:#000000;stroke-width:1.0px;stroke-linecap:butt;stroke-linejoin:miter;stroke-opacity:1\"/>\n",
       "<path d=\"M 212.8,121.8 L 212.8,123.6 L 209.6,125.4\" style=\"fill:none;stroke:#000000;stroke-width:2.0px;stroke-linecap:butt;stroke-linejoin:miter;stroke-opacity:1;\"/>\n",
       "<path d=\"M 153.1,158.0 L 150.0,159.8 L 146.9,158.0\" style=\"fill:none;stroke:#000000;stroke-width:2.0px;stroke-linecap:butt;stroke-linejoin:miter;stroke-opacity:1;\"/>\n",
       "<path d=\"M 90.4,125.4 L 87.2,123.6 L 87.2,122.1\" style=\"fill:none;stroke:#000000;stroke-width:2.0px;stroke-linecap:butt;stroke-linejoin:miter;stroke-opacity:1;\"/>\n",
       "<path class=\"atom-0\" d=\"M 208.9 48.8 L 211.9 45.7 L 207.9 44.9 L 208.5 42.9 L 212.2 44.7 L 211.7 40.7 L 213.9 40.7 L 213.3 44.7 L 217.0 42.9 L 217.6 44.9 L 213.6 45.7 L 216.5 48.8 L 214.7 50.1 L 212.7 46.2 L 210.7 50.1 L 208.9 48.8 \" fill=\"#191919\"/>\n",
       "<path class=\"atom-2\" d=\"M 266.1 159.9 Q 266.1 155.0, 268.6 152.2 Q 271.0 149.5, 275.6 149.5 Q 280.1 149.5, 282.6 152.2 Q 285.0 155.0, 285.0 159.9 Q 285.0 164.9, 282.5 167.7 Q 280.1 170.5, 275.6 170.5 Q 271.1 170.5, 268.6 167.7 Q 266.1 164.9, 266.1 159.9 M 275.6 168.2 Q 278.7 168.2, 280.4 166.1 Q 282.1 164.0, 282.1 159.9 Q 282.1 155.9, 280.4 153.8 Q 278.7 151.8, 275.6 151.8 Q 272.4 151.8, 270.7 153.8 Q 269.0 155.8, 269.0 159.9 Q 269.0 164.1, 270.7 166.1 Q 272.4 168.2, 275.6 168.2 \" fill=\"#FF0000\"/>\n",
       "<path class=\"atom-5\" d=\"M 15.0 159.9 Q 15.0 155.0, 17.4 152.2 Q 19.9 149.5, 24.4 149.5 Q 29.0 149.5, 31.4 152.2 Q 33.9 155.0, 33.9 159.9 Q 33.9 164.9, 31.4 167.7 Q 28.9 170.5, 24.4 170.5 Q 19.9 170.5, 17.4 167.7 Q 15.0 164.9, 15.0 159.9 M 24.4 168.2 Q 27.6 168.2, 29.2 166.1 Q 31.0 164.0, 31.0 159.9 Q 31.0 155.9, 29.2 153.8 Q 27.6 151.8, 24.4 151.8 Q 21.3 151.8, 19.6 153.8 Q 17.9 155.8, 17.9 159.9 Q 17.9 164.1, 19.6 166.1 Q 21.3 168.2, 24.4 168.2 \" fill=\"#FF0000\"/>\n",
       "<path class=\"atom-6\" d=\"M 81.4 58.1 Q 81.6 58.2, 82.6 58.6 Q 83.6 59.0, 84.6 59.3 Q 85.7 59.5, 86.7 59.5 Q 88.7 59.5, 89.8 58.6 Q 90.9 57.6, 90.9 56.0 Q 90.9 54.9, 90.3 54.2 Q 89.8 53.5, 88.9 53.1 Q 88.1 52.7, 86.6 52.3 Q 84.8 51.7, 83.7 51.2 Q 82.6 50.7, 81.8 49.6 Q 81.1 48.5, 81.1 46.6 Q 81.1 44.0, 82.8 42.5 Q 84.6 40.9, 88.1 40.9 Q 90.4 40.9, 93.1 42.0 L 92.5 44.2 Q 90.0 43.2, 88.1 43.2 Q 86.1 43.2, 85.0 44.0 Q 83.9 44.9, 84.0 46.3 Q 84.0 47.4, 84.5 48.0 Q 85.1 48.7, 85.9 49.1 Q 86.7 49.5, 88.1 49.9 Q 90.0 50.5, 91.1 51.1 Q 92.2 51.6, 93.0 52.8 Q 93.8 54.0, 93.8 56.0 Q 93.8 58.8, 91.9 60.4 Q 90.0 61.9, 86.8 61.9 Q 85.0 61.9, 83.6 61.5 Q 82.3 61.1, 80.6 60.4 L 81.4 58.1 \" fill=\"#CCCC00\"/>\n",
       "<path class=\"atom-6\" d=\"M 99.6,51.1 L 99.6,51.2 L 99.6,51.3 L 99.5,51.5 L 99.5,51.6 L 99.5,51.7 L 99.4,51.8 L 99.3,51.9 L 99.3,52.0 L 99.2,52.1 L 99.1,52.2 L 99.0,52.3 L 98.9,52.3 L 98.8,52.4 L 98.7,52.4 L 98.5,52.5 L 98.4,52.5 L 98.3,52.5 L 98.2,52.5 L 98.1,52.5 L 97.9,52.5 L 97.8,52.5 L 97.7,52.5 L 97.6,52.4 L 97.5,52.4 L 97.3,52.3 L 97.2,52.2 L 97.2,52.2 L 97.1,52.1 L 97.0,52.0 L 96.9,51.9 L 96.9,51.8 L 96.8,51.6 L 96.8,51.5 L 96.7,51.4 L 96.7,51.3 L 96.7,51.2 L 96.7,51.0 L 96.7,50.9 L 96.7,50.8 L 96.8,50.7 L 96.8,50.5 L 96.9,50.4 L 96.9,50.3 L 97.0,50.2 L 97.1,50.1 L 97.2,50.0 L 97.2,50.0 L 97.3,49.9 L 97.5,49.8 L 97.6,49.8 L 97.7,49.7 L 97.8,49.7 L 97.9,49.7 L 98.1,49.6 L 98.2,49.6 L 98.3,49.7 L 98.4,49.7 L 98.5,49.7 L 98.7,49.7 L 98.8,49.8 L 98.9,49.8 L 99.0,49.9 L 99.1,50.0 L 99.2,50.1 L 99.3,50.2 L 99.3,50.3 L 99.4,50.4 L 99.5,50.5 L 99.5,50.6 L 99.5,50.7 L 99.6,50.8 L 99.6,51.0 L 99.6,51.1 L 98.1,51.1 Z\" style=\"fill:#000000;fill-rule:evenodd;fill-opacity:1;stroke:#000000;stroke-width:0.0px;stroke-linecap:butt;stroke-linejoin:miter;stroke-opacity:1;\"/>\n",
       "<path class=\"legend\" d=\"M 90.7 281.1 L 89.3 281.1 L 88.1 271.8 L 85.0 281.1 L 83.5 281.1 L 80.4 271.8 L 79.2 281.1 L 77.8 281.1 L 79.2 269.7 L 81.1 269.7 L 84.3 278.9 L 87.4 269.7 L 89.3 269.7 L 90.7 281.1 \" fill=\"#000000\"/>\n",
       "<path class=\"legend\" d=\"M 92.5 276.9 Q 92.5 274.9, 93.5 273.8 Q 94.5 272.7, 96.3 272.7 Q 98.1 272.7, 98.9 273.8 Q 99.7 274.9, 99.7 276.9 L 99.7 277.1 L 94.0 277.1 Q 94.0 278.5, 94.6 279.3 Q 95.3 280.0, 96.4 280.0 Q 97.1 280.0, 97.7 279.9 Q 98.3 279.7, 99.0 279.4 L 99.4 280.4 Q 98.6 280.8, 97.9 281.0 Q 97.1 281.2, 96.4 281.2 Q 94.5 281.2, 93.5 280.1 Q 92.5 279.0, 92.5 276.9 M 96.3 273.9 Q 95.4 273.9, 94.8 274.4 Q 94.2 275.0, 94.1 276.0 L 98.2 276.0 Q 98.0 274.9, 97.6 274.4 Q 97.1 273.9, 96.3 273.9 \" fill=\"#000000\"/>\n",
       "<path class=\"legend\" d=\"M 101.0 274.0 L 101.0 272.8 L 102.6 272.8 L 102.9 270.4 L 104.0 270.4 L 104.0 272.8 L 106.5 272.8 L 106.5 274.0 L 104.0 274.0 L 104.0 278.5 Q 104.0 280.0, 105.2 280.0 Q 105.7 280.0, 106.4 279.7 L 106.6 280.8 Q 105.7 281.2, 104.9 281.2 Q 103.8 281.2, 103.2 280.5 Q 102.5 279.9, 102.5 278.6 L 102.5 274.0 L 101.0 274.0 \" fill=\"#000000\"/>\n",
       "<path class=\"legend\" d=\"M 112.0 272.7 Q 113.3 272.7, 114.0 273.4 Q 114.7 274.2, 114.7 275.6 L 114.7 281.1 L 113.2 281.1 L 113.2 275.7 Q 113.2 274.8, 112.8 274.3 Q 112.5 273.9, 111.6 273.9 Q 110.9 273.9, 110.3 274.2 Q 109.6 274.6, 109.2 275.2 L 109.2 281.1 L 107.7 281.1 L 107.7 268.9 L 109.2 268.9 L 109.2 273.9 Q 110.3 272.7, 112.0 272.7 \" fill=\"#000000\"/>\n",
       "<path class=\"legend\" d=\"M 123.0 272.8 L 124.4 272.8 L 120.2 285.0 L 118.8 285.0 L 120.2 281.1 L 119.6 281.1 L 116.6 272.8 L 118.2 272.8 L 120.6 279.8 L 123.0 272.8 \" fill=\"#000000\"/>\n",
       "<path class=\"legend\" d=\"M 125.3 268.9 L 126.8 268.9 L 126.8 281.1 L 125.3 281.1 L 125.3 268.9 \" fill=\"#000000\"/>\n",
       "<path class=\"legend\" d=\"M 138.4 272.7 Q 139.7 272.7, 140.4 273.4 Q 141.2 274.2, 141.2 275.6 L 141.2 281.1 L 139.6 281.1 L 139.6 275.7 Q 139.6 274.8, 139.3 274.3 Q 138.9 273.9, 138.1 273.9 Q 137.3 273.9, 136.7 274.2 Q 136.1 274.6, 135.7 275.2 Q 135.8 275.3, 135.8 275.6 L 135.8 281.1 L 134.3 281.1 L 134.3 275.7 Q 134.3 274.8, 133.9 274.3 Q 133.5 273.9, 132.7 273.9 Q 132.0 273.9, 131.3 274.2 Q 130.7 274.6, 130.4 275.2 L 130.4 281.1 L 128.8 281.1 L 128.8 272.8 L 130.1 272.8 L 130.2 274.0 Q 131.3 272.7, 133.0 272.7 Q 134.9 272.7, 135.5 274.1 Q 136.6 272.7, 138.4 272.7 \" fill=\"#000000\"/>\n",
       "<path class=\"legend\" d=\"M 143.1 278.8 Q 143.1 277.5, 144.1 276.8 Q 145.2 276.1, 147.1 276.1 L 148.3 276.1 L 148.3 275.8 Q 148.3 274.7, 147.9 274.3 Q 147.5 273.9, 146.5 273.9 Q 145.8 273.9, 145.3 274.0 Q 144.8 274.1, 144.0 274.5 L 143.5 273.4 Q 145.1 272.7, 146.5 272.7 Q 148.3 272.7, 149.1 273.4 Q 149.9 274.2, 149.9 275.8 L 149.9 281.1 L 148.7 281.1 Q 148.7 281.0, 148.6 280.8 Q 148.6 280.5, 148.5 280.1 Q 147.3 281.3, 145.8 281.3 Q 144.6 281.3, 143.8 280.6 Q 143.1 279.9, 143.1 278.8 M 144.6 278.8 Q 144.6 279.4, 145.0 279.8 Q 145.4 280.1, 146.1 280.1 Q 146.7 280.1, 147.3 279.8 Q 147.9 279.5, 148.3 279.0 L 148.3 277.2 L 147.2 277.2 Q 145.9 277.2, 145.2 277.6 Q 144.6 278.0, 144.6 278.8 \" fill=\"#000000\"/>\n",
       "<path class=\"legend\" d=\"M 151.8 268.9 L 153.3 268.9 L 153.3 281.1 L 151.8 281.1 L 151.8 268.9 \" fill=\"#000000\"/>\n",
       "<path class=\"legend\" d=\"M 155.3 276.9 Q 155.3 274.9, 156.3 273.8 Q 157.4 272.7, 159.2 272.7 Q 161.1 272.7, 162.1 273.8 Q 163.1 274.9, 163.1 276.9 Q 163.1 278.9, 162.1 280.1 Q 161.1 281.2, 159.2 281.2 Q 157.4 281.2, 156.3 280.1 Q 155.3 278.9, 155.3 276.9 M 156.9 276.9 Q 156.9 278.4, 157.5 279.2 Q 158.1 280.0, 159.2 280.0 Q 160.4 280.0, 161.0 279.2 Q 161.6 278.4, 161.6 276.9 Q 161.6 275.4, 161.0 274.7 Q 160.4 273.9, 159.2 273.9 Q 158.1 273.9, 157.5 274.7 Q 156.9 275.4, 156.9 276.9 \" fill=\"#000000\"/>\n",
       "<path class=\"legend\" d=\"M 168.9 272.7 Q 170.2 272.7, 170.9 273.4 Q 171.6 274.2, 171.6 275.6 L 171.6 281.1 L 170.1 281.1 L 170.1 275.7 Q 170.1 274.8, 169.7 274.3 Q 169.3 273.9, 168.5 273.9 Q 167.7 273.9, 167.1 274.2 Q 166.5 274.6, 166.1 275.2 L 166.1 281.1 L 164.6 281.1 L 164.6 272.8 L 165.8 272.8 L 166.0 274.0 Q 167.1 272.7, 168.9 272.7 \" fill=\"#000000\"/>\n",
       "<path class=\"legend\" d=\"M 179.8 272.8 L 181.3 272.8 L 177.1 285.0 L 175.7 285.0 L 177.0 281.1 L 176.4 281.1 L 173.5 272.8 L 175.1 272.8 L 177.5 279.8 L 179.8 272.8 \" fill=\"#000000\"/>\n",
       "<path class=\"legend\" d=\"M 182.2 268.9 L 183.6 268.9 L 183.6 281.1 L 182.2 281.1 L 182.2 268.9 \" fill=\"#000000\"/>\n",
       "<path class=\"legend\" d=\"M 185.7 275.3 L 191.6 275.3 L 191.6 276.6 L 185.7 276.6 L 185.7 275.3 \" fill=\"#000000\"/>\n",
       "<path class=\"legend\" d=\"M 193.1 275.4 Q 193.1 272.6, 194.4 271.1 Q 195.7 269.6, 198.2 269.6 Q 200.6 269.6, 201.8 271.3 L 200.7 272.1 Q 199.8 270.9, 198.2 270.9 Q 196.5 270.9, 195.6 272.1 Q 194.7 273.2, 194.7 275.4 Q 194.7 277.6, 195.6 278.8 Q 196.6 279.9, 198.4 279.9 Q 199.6 279.9, 201.1 279.2 L 201.5 280.4 Q 201.0 280.8, 200.1 281.0 Q 199.2 281.2, 198.2 281.2 Q 195.7 281.2, 194.4 279.7 Q 193.1 278.2, 193.1 275.4 \" fill=\"#000000\"/>\n",
       "<path class=\"legend\" d=\"M 203.1 276.9 Q 203.1 274.9, 204.2 273.8 Q 205.2 272.7, 207.0 272.7 Q 208.9 272.7, 209.9 273.8 Q 211.0 274.9, 211.0 276.9 Q 211.0 278.9, 209.9 280.1 Q 208.9 281.2, 207.0 281.2 Q 205.2 281.2, 204.2 280.1 Q 203.1 278.9, 203.1 276.9 M 204.7 276.9 Q 204.7 278.4, 205.3 279.2 Q 205.9 280.0, 207.0 280.0 Q 208.2 280.0, 208.8 279.2 Q 209.4 278.4, 209.4 276.9 Q 209.4 275.4, 208.8 274.7 Q 208.2 273.9, 207.0 273.9 Q 205.9 273.9, 205.3 274.7 Q 204.7 275.4, 204.7 276.9 \" fill=\"#000000\"/>\n",
       "<path class=\"legend\" d=\"M 220.7 281.1 L 219.6 277.7 L 215.1 277.7 L 213.9 281.1 L 212.4 281.1 L 216.3 269.7 L 218.2 269.7 L 222.2 281.1 L 220.7 281.1 M 215.5 276.5 L 219.1 276.5 L 217.3 271.3 L 215.5 276.5 \" fill=\"#000000\"/>\n",
       "</svg>"
      ],
      "text/plain": [
       "<IPython.core.display.SVG object>"
      ]
     },
     "metadata": {},
     "output_type": "display_data"
    },
    {
     "data": {
      "text/plain": [
       "'*C(=O)[C@H](C)C(=O)[S]'"
      ]
     },
     "metadata": {},
     "output_type": "display_data"
    },
    {
     "data": {
      "image/svg+xml": [
       "<svg xmlns=\"http://www.w3.org/2000/svg\" xmlns:rdkit=\"http://www.rdkit.org/xml\" xmlns:xlink=\"http://www.w3.org/1999/xlink\" version=\"1.1\" baseProfile=\"full\" xml:space=\"preserve\" width=\"300px\" height=\"300px\" viewBox=\"0 0 300 300\">\n",
       "<!-- END OF HEADER -->\n",
       "<rect style=\"opacity:1.0;fill:#FFFFFF;stroke:none\" width=\"300.0\" height=\"300.0\" x=\"0.0\" y=\"0.0\"> </rect>\n",
       "<path class=\"bond-0 atom-0 atom-1\" d=\"M 273.3,30.3 L 253.1,65.3\" style=\"fill:none;fill-rule:evenodd;stroke:#191919;stroke-width:2.0px;stroke-linecap:butt;stroke-linejoin:miter;stroke-opacity:1\"/>\n",
       "<path class=\"bond-0 atom-0 atom-1\" d=\"M 253.1,65.3 L 232.8,100.4\" style=\"fill:none;fill-rule:evenodd;stroke:#000000;stroke-width:2.0px;stroke-linecap:butt;stroke-linejoin:miter;stroke-opacity:1\"/>\n",
       "<path class=\"bond-1 atom-1 atom-2\" d=\"M 225.6,100.4 L 243.0,130.6\" style=\"fill:none;fill-rule:evenodd;stroke:#000000;stroke-width:2.0px;stroke-linecap:butt;stroke-linejoin:miter;stroke-opacity:1\"/>\n",
       "<path class=\"bond-1 atom-1 atom-2\" d=\"M 243.0,130.6 L 260.4,160.7\" style=\"fill:none;fill-rule:evenodd;stroke:#FF0000;stroke-width:2.0px;stroke-linecap:butt;stroke-linejoin:miter;stroke-opacity:1\"/>\n",
       "<path class=\"bond-1 atom-1 atom-2\" d=\"M 236.4,94.2 L 253.8,124.3\" style=\"fill:none;fill-rule:evenodd;stroke:#000000;stroke-width:2.0px;stroke-linecap:butt;stroke-linejoin:miter;stroke-opacity:1\"/>\n",
       "<path class=\"bond-1 atom-1 atom-2\" d=\"M 253.8,124.3 L 271.2,154.5\" style=\"fill:none;fill-rule:evenodd;stroke:#FF0000;stroke-width:2.0px;stroke-linecap:butt;stroke-linejoin:miter;stroke-opacity:1\"/>\n",
       "<path class=\"bond-2 atom-1 atom-3\" d=\"M 232.8,100.4 L 150.0,100.4\" style=\"fill:none;fill-rule:evenodd;stroke:#000000;stroke-width:2.0px;stroke-linecap:butt;stroke-linejoin:miter;stroke-opacity:1\"/>\n",
       "<path class=\"bond-3 atom-3 atom-4\" d=\"M 150.0,100.4 L 108.6,172.2\" style=\"fill:none;fill-rule:evenodd;stroke:#000000;stroke-width:2.0px;stroke-linecap:butt;stroke-linejoin:miter;stroke-opacity:1\"/>\n",
       "<path class=\"bond-4 atom-4 atom-5\" d=\"M 112.2,166.0 L 75.7,166.0\" style=\"fill:none;fill-rule:evenodd;stroke:#000000;stroke-width:2.0px;stroke-linecap:butt;stroke-linejoin:miter;stroke-opacity:1\"/>\n",
       "<path class=\"bond-4 atom-4 atom-5\" d=\"M 75.7,166.0 L 39.3,166.0\" style=\"fill:none;fill-rule:evenodd;stroke:#FF0000;stroke-width:2.0px;stroke-linecap:butt;stroke-linejoin:miter;stroke-opacity:1\"/>\n",
       "<path class=\"bond-4 atom-4 atom-5\" d=\"M 112.2,178.4 L 75.7,178.4\" style=\"fill:none;fill-rule:evenodd;stroke:#000000;stroke-width:2.0px;stroke-linecap:butt;stroke-linejoin:miter;stroke-opacity:1\"/>\n",
       "<path class=\"bond-4 atom-4 atom-5\" d=\"M 75.7,178.4 L 39.3,178.4\" style=\"fill:none;fill-rule:evenodd;stroke:#FF0000;stroke-width:2.0px;stroke-linecap:butt;stroke-linejoin:miter;stroke-opacity:1\"/>\n",
       "<path class=\"bond-5 atom-4 atom-6\" d=\"M 108.6,172.2 L 125.1,200.8\" style=\"fill:none;fill-rule:evenodd;stroke:#000000;stroke-width:2.0px;stroke-linecap:butt;stroke-linejoin:miter;stroke-opacity:1\"/>\n",
       "<path class=\"bond-5 atom-4 atom-6\" d=\"M 125.1,200.8 L 141.7,229.5\" style=\"fill:none;fill-rule:evenodd;stroke:#CCCC00;stroke-width:2.0px;stroke-linecap:butt;stroke-linejoin:miter;stroke-opacity:1\"/>\n",
       "<path class=\"bond-6 atom-3 atom-7\" d=\"M 150.0,100.4 L 131.7,75.0 L 137.1,71.9 Z\" style=\"fill:#000000;fill-rule:evenodd;fill-opacity:1;stroke:#000000;stroke-width:0.5px;stroke-linecap:butt;stroke-linejoin:miter;stroke-opacity:1;\"/>\n",
       "<path class=\"bond-6 atom-3 atom-7\" d=\"M 131.7,75.0 L 124.2,43.3 L 113.4,49.5 Z\" style=\"fill:#FF0000;fill-rule:evenodd;fill-opacity:1;stroke:#FF0000;stroke-width:0.5px;stroke-linecap:butt;stroke-linejoin:miter;stroke-opacity:1;\"/>\n",
       "<path class=\"bond-6 atom-3 atom-7\" d=\"M 131.7,75.0 L 137.1,71.9 L 124.2,43.3 Z\" style=\"fill:#FF0000;fill-rule:evenodd;fill-opacity:1;stroke:#FF0000;stroke-width:0.5px;stroke-linecap:butt;stroke-linejoin:miter;stroke-opacity:1;\"/>\n",
       "<path class=\"bond-7 atom-8 atom-7\" d=\"M 25.8,28.7 L 60.4,28.7\" style=\"fill:none;fill-rule:evenodd;stroke:#000000;stroke-width:2.0px;stroke-linecap:butt;stroke-linejoin:miter;stroke-opacity:1\"/>\n",
       "<path class=\"bond-7 atom-8 atom-7\" d=\"M 60.4,28.7 L 95.1,28.7\" style=\"fill:none;fill-rule:evenodd;stroke:#FF0000;stroke-width:2.0px;stroke-linecap:butt;stroke-linejoin:miter;stroke-opacity:1\"/>\n",
       "<path d=\"M 233.8,98.7 L 232.8,100.4 L 228.7,100.4\" style=\"fill:none;stroke:#000000;stroke-width:2.0px;stroke-linecap:butt;stroke-linejoin:miter;stroke-opacity:1;\"/>\n",
       "<path d=\"M 154.1,100.4 L 150.0,100.4 L 147.9,104.0\" style=\"fill:none;stroke:#000000;stroke-width:2.0px;stroke-linecap:butt;stroke-linejoin:miter;stroke-opacity:1;\"/>\n",
       "<path d=\"M 110.7,168.6 L 108.6,172.2 L 109.4,173.6\" style=\"fill:none;stroke:#000000;stroke-width:2.0px;stroke-linecap:butt;stroke-linejoin:miter;stroke-opacity:1;\"/>\n",
       "<path class=\"atom-0\" d=\"M 269.8 26.1 L 273.3 22.6 L 268.7 21.7 L 269.4 19.3 L 273.6 21.4 L 273.0 16.8 L 275.5 16.8 L 274.8 21.4 L 279.1 19.4 L 279.8 21.7 L 275.1 22.5 L 278.5 26.1 L 276.4 27.5 L 274.2 23.1 L 271.8 27.5 L 269.8 26.1 \" fill=\"#191919\"/>\n",
       "<path class=\"atom-2\" d=\"M 263.5 172.2 Q 263.5 166.6, 266.2 163.5 Q 269.0 160.3, 274.2 160.3 Q 279.4 160.3, 282.2 163.5 Q 285.0 166.6, 285.0 172.2 Q 285.0 177.9, 282.2 181.2 Q 279.4 184.4, 274.2 184.4 Q 269.1 184.4, 266.2 181.2 Q 263.5 178.0, 263.5 172.2 M 274.2 181.7 Q 277.8 181.7, 279.7 179.4 Q 281.7 176.9, 281.7 172.2 Q 281.7 167.6, 279.7 165.3 Q 277.8 163.0, 274.2 163.0 Q 270.7 163.0, 268.7 165.3 Q 266.8 167.6, 266.8 172.2 Q 266.8 177.0, 268.7 179.4 Q 270.7 181.7, 274.2 181.7 \" fill=\"#FF0000\"/>\n",
       "<path class=\"atom-5\" d=\"M 15.0 172.2 Q 15.0 166.6, 17.8 163.5 Q 20.6 160.3, 25.8 160.3 Q 31.0 160.3, 33.8 163.5 Q 36.5 166.6, 36.5 172.2 Q 36.5 177.9, 33.7 181.2 Q 30.9 184.4, 25.8 184.4 Q 20.6 184.4, 17.8 181.2 Q 15.0 178.0, 15.0 172.2 M 25.8 181.7 Q 29.3 181.7, 31.3 179.4 Q 33.2 176.9, 33.2 172.2 Q 33.2 167.6, 31.3 165.3 Q 29.3 163.0, 25.8 163.0 Q 22.2 163.0, 20.2 165.3 Q 18.3 167.6, 18.3 172.2 Q 18.3 177.0, 20.2 179.4 Q 22.2 181.7, 25.8 181.7 \" fill=\"#FF0000\"/>\n",
       "<path class=\"atom-6\" d=\"M 143.4 251.9 Q 143.6 252.0, 144.7 252.5 Q 145.8 253.0, 147.0 253.3 Q 148.2 253.5, 149.4 253.5 Q 151.7 253.5, 152.9 252.5 Q 154.2 251.4, 154.2 249.5 Q 154.2 248.2, 153.6 247.4 Q 152.9 246.6, 152.0 246.2 Q 151.0 245.7, 149.3 245.2 Q 147.2 244.6, 146.0 244.0 Q 144.7 243.4, 143.8 242.2 Q 143.0 240.9, 143.0 238.8 Q 143.0 235.8, 145.0 234.0 Q 147.0 232.2, 151.0 232.2 Q 153.7 232.2, 156.8 233.5 L 156.0 236.0 Q 153.2 234.9, 151.1 234.9 Q 148.8 234.9, 147.5 235.8 Q 146.3 236.8, 146.3 238.4 Q 146.3 239.6, 146.9 240.4 Q 147.6 241.2, 148.5 241.6 Q 149.5 242.0, 151.1 242.5 Q 153.2 243.2, 154.4 243.9 Q 155.7 244.5, 156.6 245.9 Q 157.5 247.2, 157.5 249.5 Q 157.5 252.7, 155.3 254.5 Q 153.2 256.2, 149.6 256.2 Q 147.5 256.2, 145.9 255.8 Q 144.3 255.3, 142.5 254.6 L 143.4 251.9 \" fill=\"#CCCC00\"/>\n",
       "<path class=\"atom-7\" d=\"M 97.8 28.8 Q 97.8 23.1, 100.6 20.0 Q 103.4 16.9, 108.6 16.9 Q 113.8 16.9, 116.6 20.0 Q 119.4 23.1, 119.4 28.8 Q 119.4 34.5, 116.5 37.7 Q 113.7 40.9, 108.6 40.9 Q 103.4 40.9, 100.6 37.7 Q 97.8 34.5, 97.8 28.8 M 108.6 38.3 Q 112.2 38.3, 114.1 35.9 Q 116.0 33.5, 116.0 28.8 Q 116.0 24.2, 114.1 21.9 Q 112.2 19.5, 108.6 19.5 Q 105.0 19.5, 103.1 21.8 Q 101.1 24.1, 101.1 28.8 Q 101.1 33.5, 103.1 35.9 Q 105.0 38.3, 108.6 38.3 \" fill=\"#FF0000\"/>\n",
       "<path class=\"atom-6\" d=\"M 164.1,243.9 L 164.1,244.0 L 164.1,244.2 L 164.1,244.3 L 164.0,244.4 L 164.0,244.6 L 163.9,244.7 L 163.9,244.8 L 163.8,244.9 L 163.7,245.0 L 163.6,245.1 L 163.5,245.2 L 163.3,245.3 L 163.2,245.4 L 163.1,245.4 L 162.9,245.5 L 162.8,245.5 L 162.7,245.5 L 162.5,245.5 L 162.4,245.5 L 162.2,245.5 L 162.1,245.5 L 162.0,245.5 L 161.8,245.4 L 161.7,245.3 L 161.6,245.3 L 161.5,245.2 L 161.4,245.1 L 161.3,245.0 L 161.2,244.9 L 161.1,244.8 L 161.0,244.6 L 161.0,244.5 L 160.9,244.4 L 160.9,244.2 L 160.8,244.1 L 160.8,244.0 L 160.8,243.8 L 160.8,243.7 L 160.9,243.5 L 160.9,243.4 L 161.0,243.3 L 161.0,243.1 L 161.1,243.0 L 161.2,242.9 L 161.3,242.8 L 161.4,242.7 L 161.5,242.6 L 161.6,242.5 L 161.7,242.4 L 161.8,242.4 L 162.0,242.3 L 162.1,242.3 L 162.2,242.3 L 162.4,242.2 L 162.5,242.2 L 162.7,242.2 L 162.8,242.3 L 162.9,242.3 L 163.1,242.3 L 163.2,242.4 L 163.3,242.5 L 163.5,242.5 L 163.6,242.6 L 163.7,242.7 L 163.8,242.8 L 163.9,243.0 L 163.9,243.1 L 164.0,243.2 L 164.0,243.3 L 164.1,243.5 L 164.1,243.6 L 164.1,243.7 L 164.1,243.9 L 162.5,243.9 Z\" style=\"fill:#000000;fill-rule:evenodd;fill-opacity:1;stroke:#000000;stroke-width:0.0px;stroke-linecap:butt;stroke-linejoin:miter;stroke-opacity:1;\"/>\n",
       "<path class=\"legend\" d=\"M 135.7 276.4 Q 137.0 276.4, 137.8 277.2 Q 138.5 277.9, 138.5 279.4 L 138.5 284.8 L 137.0 284.8 L 137.0 279.5 Q 137.0 278.5, 136.6 278.1 Q 136.2 277.6, 135.4 277.6 Q 134.6 277.6, 134.0 278.0 Q 133.4 278.3, 133.0 278.9 Q 133.1 279.1, 133.1 279.4 L 133.1 284.8 L 131.6 284.8 L 131.6 279.5 Q 131.6 278.5, 131.2 278.1 Q 130.8 277.6, 130.0 277.6 Q 129.3 277.6, 128.6 278.0 Q 128.0 278.3, 127.7 278.9 L 127.7 284.8 L 126.2 284.8 L 126.2 276.6 L 127.4 276.6 L 127.5 277.7 Q 128.6 276.4, 130.3 276.4 Q 132.2 276.4, 132.8 277.9 Q 133.9 276.4, 135.7 276.4 \" fill=\"#000000\"/>\n",
       "<path class=\"legend\" d=\"M 143.5 280.6 L 140.7 276.6 L 142.5 276.6 L 144.4 279.4 L 146.4 276.6 L 148.0 276.6 L 145.2 280.5 L 148.3 284.8 L 146.5 284.8 L 144.3 281.7 L 142.1 284.8 L 140.5 284.8 L 143.5 280.6 \" fill=\"#000000\"/>\n",
       "<path class=\"legend\" d=\"M 158.7 276.4 Q 160.1 276.4, 160.8 277.2 Q 161.5 277.9, 161.5 279.4 L 161.5 284.8 L 160.0 284.8 L 160.0 279.5 Q 160.0 278.5, 159.6 278.1 Q 159.3 277.6, 158.4 277.6 Q 157.7 277.6, 157.1 278.0 Q 156.5 278.3, 156.1 278.9 Q 156.1 279.1, 156.1 279.4 L 156.1 284.8 L 154.6 284.8 L 154.6 279.5 Q 154.6 278.5, 154.2 278.1 Q 153.9 277.6, 153.0 277.6 Q 152.3 277.6, 151.7 278.0 Q 151.1 278.3, 150.7 278.9 L 150.7 284.8 L 149.2 284.8 L 149.2 276.6 L 150.4 276.6 L 150.6 277.7 Q 151.7 276.4, 153.3 276.4 Q 155.3 276.4, 155.9 277.9 Q 157.0 276.4, 158.7 276.4 \" fill=\"#000000\"/>\n",
       "<path class=\"legend\" d=\"M 163.6 282.6 Q 163.6 281.3, 164.6 280.6 Q 165.7 279.8, 167.6 279.8 L 168.8 279.8 L 168.8 279.5 Q 168.8 278.5, 168.4 278.1 Q 168.0 277.6, 167.0 277.6 Q 166.3 277.6, 165.8 277.8 Q 165.3 277.9, 164.5 278.2 L 164.0 277.2 Q 165.5 276.4, 167.0 276.4 Q 168.7 276.4, 169.5 277.2 Q 170.3 277.9, 170.3 279.5 L 170.3 284.8 L 169.2 284.8 Q 169.1 284.7, 169.1 284.5 Q 169.1 284.2, 169.0 283.8 Q 167.8 285.0, 166.3 285.0 Q 165.0 285.0, 164.3 284.3 Q 163.6 283.7, 163.6 282.6 M 165.1 282.6 Q 165.1 283.2, 165.5 283.5 Q 165.8 283.8, 166.6 283.8 Q 167.2 283.8, 167.8 283.5 Q 168.4 283.2, 168.8 282.7 L 168.8 281.0 L 167.7 281.0 Q 166.4 281.0, 165.7 281.4 Q 165.1 281.8, 165.1 282.6 \" fill=\"#000000\"/>\n",
       "<path class=\"legend\" d=\"M 172.4 272.7 L 173.8 272.7 L 173.8 284.8 L 172.4 284.8 L 172.4 272.7 \" fill=\"#000000\"/>\n",
       "</svg>"
      ],
      "text/plain": [
       "<IPython.core.display.SVG object>"
      ]
     },
     "metadata": {},
     "output_type": "display_data"
    },
    {
     "data": {
      "text/plain": [
       "'*C(=O)[C@H](OC)C(=O)[S]'"
      ]
     },
     "metadata": {},
     "output_type": "display_data"
    },
    {
     "data": {
      "image/svg+xml": [
       "<svg xmlns=\"http://www.w3.org/2000/svg\" xmlns:rdkit=\"http://www.rdkit.org/xml\" xmlns:xlink=\"http://www.w3.org/1999/xlink\" version=\"1.1\" baseProfile=\"full\" xml:space=\"preserve\" width=\"300px\" height=\"300px\" viewBox=\"0 0 300 300\">\n",
       "<!-- END OF HEADER -->\n",
       "<rect style=\"opacity:1.0;fill:#FFFFFF;stroke:none\" width=\"300.0\" height=\"300.0\" x=\"0.0\" y=\"0.0\"> </rect>\n",
       "<path class=\"bond-0 atom-0 atom-1\" d=\"M 273.3,101.9 L 253.1,137.0\" style=\"fill:none;fill-rule:evenodd;stroke:#191919;stroke-width:2.0px;stroke-linecap:butt;stroke-linejoin:miter;stroke-opacity:1\"/>\n",
       "<path class=\"bond-0 atom-0 atom-1\" d=\"M 253.1,137.0 L 232.8,172.1\" style=\"fill:none;fill-rule:evenodd;stroke:#000000;stroke-width:2.0px;stroke-linecap:butt;stroke-linejoin:miter;stroke-opacity:1\"/>\n",
       "<path class=\"bond-1 atom-1 atom-2\" d=\"M 225.6,172.1 L 243.0,202.2\" style=\"fill:none;fill-rule:evenodd;stroke:#000000;stroke-width:2.0px;stroke-linecap:butt;stroke-linejoin:miter;stroke-opacity:1\"/>\n",
       "<path class=\"bond-1 atom-1 atom-2\" d=\"M 243.0,202.2 L 260.4,232.3\" style=\"fill:none;fill-rule:evenodd;stroke:#FF0000;stroke-width:2.0px;stroke-linecap:butt;stroke-linejoin:miter;stroke-opacity:1\"/>\n",
       "<path class=\"bond-1 atom-1 atom-2\" d=\"M 236.4,165.9 L 253.8,196.0\" style=\"fill:none;fill-rule:evenodd;stroke:#000000;stroke-width:2.0px;stroke-linecap:butt;stroke-linejoin:miter;stroke-opacity:1\"/>\n",
       "<path class=\"bond-1 atom-1 atom-2\" d=\"M 253.8,196.0 L 271.2,226.1\" style=\"fill:none;fill-rule:evenodd;stroke:#FF0000;stroke-width:2.0px;stroke-linecap:butt;stroke-linejoin:miter;stroke-opacity:1\"/>\n",
       "<path class=\"bond-2 atom-1 atom-3\" d=\"M 232.8,172.1 L 150.0,172.1\" style=\"fill:none;fill-rule:evenodd;stroke:#000000;stroke-width:2.0px;stroke-linecap:butt;stroke-linejoin:miter;stroke-opacity:1\"/>\n",
       "<path class=\"bond-3 atom-3 atom-4\" d=\"M 150.0,172.1 L 108.6,100.4\" style=\"fill:none;fill-rule:evenodd;stroke:#000000;stroke-width:2.0px;stroke-linecap:butt;stroke-linejoin:miter;stroke-opacity:1\"/>\n",
       "<path class=\"bond-4 atom-4 atom-5\" d=\"M 112.2,94.2 L 75.7,94.2\" style=\"fill:none;fill-rule:evenodd;stroke:#000000;stroke-width:2.0px;stroke-linecap:butt;stroke-linejoin:miter;stroke-opacity:1\"/>\n",
       "<path class=\"bond-4 atom-4 atom-5\" d=\"M 75.7,94.2 L 39.3,94.2\" style=\"fill:none;fill-rule:evenodd;stroke:#FF0000;stroke-width:2.0px;stroke-linecap:butt;stroke-linejoin:miter;stroke-opacity:1\"/>\n",
       "<path class=\"bond-4 atom-4 atom-5\" d=\"M 112.2,106.6 L 75.7,106.6\" style=\"fill:none;fill-rule:evenodd;stroke:#000000;stroke-width:2.0px;stroke-linecap:butt;stroke-linejoin:miter;stroke-opacity:1\"/>\n",
       "<path class=\"bond-4 atom-4 atom-5\" d=\"M 75.7,106.6 L 39.3,106.6\" style=\"fill:none;fill-rule:evenodd;stroke:#FF0000;stroke-width:2.0px;stroke-linecap:butt;stroke-linejoin:miter;stroke-opacity:1\"/>\n",
       "<path class=\"bond-5 atom-4 atom-6\" d=\"M 108.6,100.4 L 124.9,72.0\" style=\"fill:none;fill-rule:evenodd;stroke:#000000;stroke-width:2.0px;stroke-linecap:butt;stroke-linejoin:miter;stroke-opacity:1\"/>\n",
       "<path class=\"bond-5 atom-4 atom-6\" d=\"M 124.9,72.0 L 141.3,43.7\" style=\"fill:none;fill-rule:evenodd;stroke:#CCCC00;stroke-width:2.0px;stroke-linecap:butt;stroke-linejoin:miter;stroke-opacity:1\"/>\n",
       "<path class=\"bond-6 atom-3 atom-7\" d=\"M 148.0,175.0 L 148.5,175.2\" style=\"fill:none;fill-rule:evenodd;stroke:#000000;stroke-width:1.0px;stroke-linecap:butt;stroke-linejoin:miter;stroke-opacity:1\"/>\n",
       "<path class=\"bond-6 atom-3 atom-7\" d=\"M 146.1,177.8 L 147.0,178.3\" style=\"fill:none;fill-rule:evenodd;stroke:#000000;stroke-width:1.0px;stroke-linecap:butt;stroke-linejoin:miter;stroke-opacity:1\"/>\n",
       "<path class=\"bond-6 atom-3 atom-7\" d=\"M 144.1,180.7 L 145.5,181.5\" style=\"fill:none;fill-rule:evenodd;stroke:#000000;stroke-width:1.0px;stroke-linecap:butt;stroke-linejoin:miter;stroke-opacity:1\"/>\n",
       "<path class=\"bond-6 atom-3 atom-7\" d=\"M 142.2,183.5 L 144.0,184.6\" style=\"fill:none;fill-rule:evenodd;stroke:#000000;stroke-width:1.0px;stroke-linecap:butt;stroke-linejoin:miter;stroke-opacity:1\"/>\n",
       "<path class=\"bond-6 atom-3 atom-7\" d=\"M 140.2,186.4 L 142.5,187.7\" style=\"fill:none;fill-rule:evenodd;stroke:#000000;stroke-width:1.0px;stroke-linecap:butt;stroke-linejoin:miter;stroke-opacity:1\"/>\n",
       "<path class=\"bond-6 atom-3 atom-7\" d=\"M 138.2,189.2 L 141.1,190.8\" style=\"fill:none;fill-rule:evenodd;stroke:#000000;stroke-width:1.0px;stroke-linecap:butt;stroke-linejoin:miter;stroke-opacity:1\"/>\n",
       "<path class=\"bond-6 atom-3 atom-7\" d=\"M 136.3,192.1 L 139.6,194.0\" style=\"fill:none;fill-rule:evenodd;stroke:#000000;stroke-width:1.0px;stroke-linecap:butt;stroke-linejoin:miter;stroke-opacity:1\"/>\n",
       "<path class=\"bond-6 atom-3 atom-7\" d=\"M 134.3,194.9 L 138.1,197.1\" style=\"fill:none;fill-rule:evenodd;stroke:#000000;stroke-width:1.0px;stroke-linecap:butt;stroke-linejoin:miter;stroke-opacity:1\"/>\n",
       "<path class=\"bond-6 atom-3 atom-7\" d=\"M 132.4,197.8 L 136.6,200.2\" style=\"fill:none;fill-rule:evenodd;stroke:#000000;stroke-width:1.0px;stroke-linecap:butt;stroke-linejoin:miter;stroke-opacity:1\"/>\n",
       "<path class=\"bond-6 atom-3 atom-7\" d=\"M 130.4,200.6 L 135.1,203.3\" style=\"fill:none;fill-rule:evenodd;stroke:#000000;stroke-width:1.0px;stroke-linecap:butt;stroke-linejoin:miter;stroke-opacity:1\"/>\n",
       "<path class=\"bond-6 atom-3 atom-7\" d=\"M 128.5,203.5 L 133.6,206.4\" style=\"fill:none;fill-rule:evenodd;stroke:#000000;stroke-width:1.0px;stroke-linecap:butt;stroke-linejoin:miter;stroke-opacity:1\"/>\n",
       "<path class=\"bond-6 atom-3 atom-7\" d=\"M 126.5,206.3 L 132.1,209.6\" style=\"fill:none;fill-rule:evenodd;stroke:#000000;stroke-width:1.0px;stroke-linecap:butt;stroke-linejoin:miter;stroke-opacity:1\"/>\n",
       "<path class=\"bond-6 atom-3 atom-7\" d=\"M 124.5,209.2 L 130.6,212.7\" style=\"fill:none;fill-rule:evenodd;stroke:#000000;stroke-width:1.0px;stroke-linecap:butt;stroke-linejoin:miter;stroke-opacity:1\"/>\n",
       "<path class=\"bond-6 atom-3 atom-7\" d=\"M 122.6,212.0 L 129.1,215.8\" style=\"fill:none;fill-rule:evenodd;stroke:#000000;stroke-width:1.0px;stroke-linecap:butt;stroke-linejoin:miter;stroke-opacity:1\"/>\n",
       "<path class=\"bond-6 atom-3 atom-7\" d=\"M 120.6,214.9 L 127.6,218.9\" style=\"fill:none;fill-rule:evenodd;stroke:#000000;stroke-width:1.0px;stroke-linecap:butt;stroke-linejoin:miter;stroke-opacity:1\"/>\n",
       "<path class=\"bond-6 atom-3 atom-7\" d=\"M 118.7,217.7 L 126.1,222.1\" style=\"fill:none;fill-rule:evenodd;stroke:#000000;stroke-width:1.0px;stroke-linecap:butt;stroke-linejoin:miter;stroke-opacity:1\"/>\n",
       "<path class=\"bond-6 atom-3 atom-7\" d=\"M 116.7,220.6 L 124.6,225.2\" style=\"fill:none;fill-rule:evenodd;stroke:#000000;stroke-width:1.0px;stroke-linecap:butt;stroke-linejoin:miter;stroke-opacity:1\"/>\n",
       "<path class=\"bond-6 atom-3 atom-7\" d=\"M 114.7,223.4 L 123.2,228.3\" style=\"fill:none;fill-rule:evenodd;stroke:#000000;stroke-width:1.0px;stroke-linecap:butt;stroke-linejoin:miter;stroke-opacity:1\"/>\n",
       "<path class=\"bond-6 atom-3 atom-7\" d=\"M 112.8,226.3 L 121.7,231.4\" style=\"fill:none;fill-rule:evenodd;stroke:#000000;stroke-width:1.0px;stroke-linecap:butt;stroke-linejoin:miter;stroke-opacity:1\"/>\n",
       "<path class=\"bond-6 atom-3 atom-7\" d=\"M 110.8,229.2 L 120.2,234.6\" style=\"fill:none;fill-rule:evenodd;stroke:#000000;stroke-width:1.0px;stroke-linecap:butt;stroke-linejoin:miter;stroke-opacity:1\"/>\n",
       "<path class=\"bond-6 atom-3 atom-7\" d=\"M 108.9,232.0 L 118.7,237.7\" style=\"fill:none;fill-rule:evenodd;stroke:#000000;stroke-width:1.0px;stroke-linecap:butt;stroke-linejoin:miter;stroke-opacity:1\"/>\n",
       "<path class=\"bond-6 atom-3 atom-7\" d=\"M 106.9,234.9 L 117.2,240.8\" style=\"fill:none;fill-rule:evenodd;stroke:#000000;stroke-width:1.0px;stroke-linecap:butt;stroke-linejoin:miter;stroke-opacity:1\"/>\n",
       "<path class=\"bond-6 atom-3 atom-7\" d=\"M 104.9,237.7 L 115.7,243.9\" style=\"fill:none;fill-rule:evenodd;stroke:#000000;stroke-width:1.0px;stroke-linecap:butt;stroke-linejoin:miter;stroke-opacity:1\"/>\n",
       "<path class=\"bond-7 atom-8 atom-7\" d=\"M 25.8,243.8 L 108.6,243.8\" style=\"fill:none;fill-rule:evenodd;stroke:#000000;stroke-width:2.0px;stroke-linecap:butt;stroke-linejoin:miter;stroke-opacity:1\"/>\n",
       "<path d=\"M 233.8,170.3 L 232.8,172.1 L 228.7,172.1\" style=\"fill:none;stroke:#000000;stroke-width:2.0px;stroke-linecap:butt;stroke-linejoin:miter;stroke-opacity:1;\"/>\n",
       "<path d=\"M 154.1,172.1 L 150.0,172.1 L 147.9,168.5\" style=\"fill:none;stroke:#000000;stroke-width:2.0px;stroke-linecap:butt;stroke-linejoin:miter;stroke-opacity:1;\"/>\n",
       "<path d=\"M 110.7,104.0 L 108.6,100.4 L 109.4,99.0\" style=\"fill:none;stroke:#000000;stroke-width:2.0px;stroke-linecap:butt;stroke-linejoin:miter;stroke-opacity:1;\"/>\n",
       "<path class=\"atom-0\" d=\"M 269.8 97.8 L 273.3 94.2 L 268.7 93.3 L 269.4 91.0 L 273.6 93.1 L 273.0 88.5 L 275.5 88.4 L 274.8 93.1 L 279.1 91.1 L 279.8 93.3 L 275.1 94.2 L 278.5 97.7 L 276.4 99.2 L 274.2 94.8 L 271.8 99.2 L 269.8 97.8 \" fill=\"#191919\"/>\n",
       "<path class=\"atom-2\" d=\"M 263.5 243.9 Q 263.5 238.3, 266.2 235.1 Q 269.0 232.0, 274.2 232.0 Q 279.4 232.0, 282.2 235.1 Q 285.0 238.3, 285.0 243.9 Q 285.0 249.6, 282.2 252.8 Q 279.4 256.0, 274.2 256.0 Q 269.1 256.0, 266.2 252.8 Q 263.5 249.6, 263.5 243.9 M 274.2 253.4 Q 277.8 253.4, 279.7 251.0 Q 281.7 248.6, 281.7 243.9 Q 281.7 239.3, 279.7 237.0 Q 277.8 234.6, 274.2 234.6 Q 270.7 234.6, 268.7 236.9 Q 266.8 239.3, 266.8 243.9 Q 266.8 248.6, 268.7 251.0 Q 270.7 253.4, 274.2 253.4 \" fill=\"#FF0000\"/>\n",
       "<path class=\"atom-5\" d=\"M 15.0 100.4 Q 15.0 94.8, 17.8 91.7 Q 20.6 88.5, 25.8 88.5 Q 31.0 88.5, 33.8 91.7 Q 36.5 94.8, 36.5 100.4 Q 36.5 106.1, 33.7 109.4 Q 30.9 112.6, 25.8 112.6 Q 20.6 112.6, 17.8 109.4 Q 15.0 106.2, 15.0 100.4 M 25.8 109.9 Q 29.3 109.9, 31.3 107.6 Q 33.2 105.1, 33.2 100.4 Q 33.2 95.8, 31.3 93.5 Q 29.3 91.2, 25.8 91.2 Q 22.2 91.2, 20.2 93.5 Q 18.3 95.8, 18.3 100.4 Q 18.3 105.2, 20.2 107.6 Q 22.2 109.9, 25.8 109.9 \" fill=\"#FF0000\"/>\n",
       "<path class=\"atom-6\" d=\"M 143.4 36.7 Q 143.6 36.8, 144.7 37.3 Q 145.8 37.7, 147.0 38.0 Q 148.2 38.3, 149.4 38.3 Q 151.7 38.3, 152.9 37.2 Q 154.2 36.1, 154.2 34.2 Q 154.2 33.0, 153.6 32.2 Q 152.9 31.4, 152.0 30.9 Q 151.0 30.5, 149.3 30.0 Q 147.2 29.4, 146.0 28.8 Q 144.7 28.2, 143.8 26.9 Q 143.0 25.7, 143.0 23.5 Q 143.0 20.6, 145.0 18.8 Q 147.0 17.0, 151.0 17.0 Q 153.7 17.0, 156.8 18.2 L 156.0 20.8 Q 153.2 19.6, 151.1 19.6 Q 148.8 19.6, 147.5 20.6 Q 146.3 21.5, 146.3 23.1 Q 146.3 24.4, 146.9 25.2 Q 147.6 25.9, 148.5 26.4 Q 149.5 26.8, 151.1 27.3 Q 153.2 28.0, 154.4 28.6 Q 155.7 29.3, 156.6 30.6 Q 157.5 32.0, 157.5 34.2 Q 157.5 37.5, 155.3 39.2 Q 153.2 41.0, 149.6 41.0 Q 147.5 41.0, 145.9 40.5 Q 144.3 40.1, 142.5 39.3 L 143.4 36.7 \" fill=\"#CCCC00\"/>\n",
       "<path class=\"atom-6\" d=\"M 164.1,28.6 L 164.1,28.8 L 164.1,28.9 L 164.1,29.1 L 164.0,29.2 L 164.0,29.3 L 163.9,29.5 L 163.9,29.6 L 163.8,29.7 L 163.7,29.8 L 163.6,29.9 L 163.5,30.0 L 163.3,30.1 L 163.2,30.1 L 163.1,30.2 L 162.9,30.2 L 162.8,30.3 L 162.7,30.3 L 162.5,30.3 L 162.4,30.3 L 162.2,30.3 L 162.1,30.3 L 162.0,30.2 L 161.8,30.2 L 161.7,30.1 L 161.6,30.0 L 161.5,29.9 L 161.4,29.9 L 161.3,29.8 L 161.2,29.6 L 161.1,29.5 L 161.0,29.4 L 161.0,29.3 L 160.9,29.1 L 160.9,29.0 L 160.8,28.9 L 160.8,28.7 L 160.8,28.6 L 160.8,28.4 L 160.9,28.3 L 160.9,28.2 L 161.0,28.0 L 161.0,27.9 L 161.1,27.8 L 161.2,27.6 L 161.3,27.5 L 161.4,27.4 L 161.5,27.3 L 161.6,27.3 L 161.7,27.2 L 161.8,27.1 L 162.0,27.1 L 162.1,27.0 L 162.2,27.0 L 162.4,27.0 L 162.5,27.0 L 162.7,27.0 L 162.8,27.0 L 162.9,27.1 L 163.1,27.1 L 163.2,27.2 L 163.3,27.2 L 163.5,27.3 L 163.6,27.4 L 163.7,27.5 L 163.8,27.6 L 163.9,27.7 L 163.9,27.8 L 164.0,28.0 L 164.0,28.1 L 164.1,28.2 L 164.1,28.4 L 164.1,28.5 L 164.1,28.6 L 162.5,28.6 Z\" style=\"fill:#000000;fill-rule:evenodd;fill-opacity:1;stroke:#000000;stroke-width:0.0px;stroke-linecap:butt;stroke-linejoin:miter;stroke-opacity:1;\"/>\n",
       "<path class=\"legend\" d=\"M 133.5 280.7 Q 133.5 278.7, 134.5 277.6 Q 135.5 276.4, 137.4 276.4 Q 139.2 276.4, 140.0 277.5 Q 140.8 278.6, 140.8 280.6 L 140.8 280.9 L 135.0 280.9 Q 135.1 282.3, 135.7 283.0 Q 136.3 283.8, 137.5 283.8 Q 138.1 283.8, 138.7 283.6 Q 139.3 283.4, 140.0 283.1 L 140.5 284.2 Q 139.7 284.6, 138.9 284.8 Q 138.2 284.9, 137.4 284.9 Q 135.6 284.9, 134.5 283.8 Q 133.5 282.7, 133.5 280.7 M 137.4 277.6 Q 136.4 277.6, 135.8 278.2 Q 135.3 278.7, 135.1 279.8 L 139.2 279.8 Q 139.1 278.7, 138.6 278.2 Q 138.2 277.6, 137.4 277.6 \" fill=\"#000000\"/>\n",
       "<path class=\"legend\" d=\"M 151.6 276.4 Q 153.0 276.4, 153.7 277.2 Q 154.4 277.9, 154.4 279.4 L 154.4 284.8 L 152.9 284.8 L 152.9 279.5 Q 152.9 278.5, 152.5 278.1 Q 152.1 277.6, 151.3 277.6 Q 150.6 277.6, 150.0 278.0 Q 149.4 278.3, 149.0 278.9 Q 149.0 279.1, 149.0 279.4 L 149.0 284.8 L 147.5 284.8 L 147.5 279.5 Q 147.5 278.5, 147.1 278.1 Q 146.7 277.6, 145.9 277.6 Q 145.2 277.6, 144.6 278.0 Q 144.0 278.3, 143.6 278.9 L 143.6 284.8 L 142.1 284.8 L 142.1 276.6 L 143.3 276.6 L 143.5 277.7 Q 144.6 276.4, 146.2 276.4 Q 148.1 276.4, 148.7 277.9 Q 149.8 276.4, 151.6 276.4 \" fill=\"#000000\"/>\n",
       "<path class=\"legend\" d=\"M 156.3 282.6 Q 156.3 281.3, 157.4 280.6 Q 158.4 279.8, 160.4 279.8 L 161.6 279.8 L 161.6 279.5 Q 161.6 278.5, 161.2 278.1 Q 160.7 277.6, 159.7 277.6 Q 159.1 277.6, 158.5 277.8 Q 158.0 277.9, 157.2 278.2 L 156.8 277.2 Q 158.3 276.4, 159.7 276.4 Q 161.5 276.4, 162.3 277.2 Q 163.1 277.9, 163.1 279.5 L 163.1 284.8 L 161.9 284.8 Q 161.9 284.7, 161.9 284.5 Q 161.8 284.2, 161.7 283.8 Q 160.6 285.0, 159.0 285.0 Q 157.8 285.0, 157.1 284.3 Q 156.3 283.7, 156.3 282.6 M 157.8 282.6 Q 157.8 283.2, 158.2 283.5 Q 158.6 283.8, 159.3 283.8 Q 160.0 283.8, 160.6 283.5 Q 161.2 283.2, 161.6 282.7 L 161.6 281.0 L 160.5 281.0 Q 159.2 281.0, 158.5 281.4 Q 157.8 281.8, 157.8 282.6 \" fill=\"#000000\"/>\n",
       "<path class=\"legend\" d=\"M 165.0 272.7 L 166.5 272.7 L 166.5 284.8 L 165.0 284.8 L 165.0 272.7 \" fill=\"#000000\"/>\n",
       "</svg>"
      ],
      "text/plain": [
       "<IPython.core.display.SVG object>"
      ]
     },
     "metadata": {},
     "output_type": "display_data"
    },
    {
     "data": {
      "text/plain": [
       "'*C(=O)[C@H](CC)C(=O)[S]'"
      ]
     },
     "metadata": {},
     "output_type": "display_data"
    },
    {
     "data": {
      "image/svg+xml": [
       "<svg xmlns=\"http://www.w3.org/2000/svg\" xmlns:rdkit=\"http://www.rdkit.org/xml\" xmlns:xlink=\"http://www.w3.org/1999/xlink\" version=\"1.1\" baseProfile=\"full\" xml:space=\"preserve\" width=\"300px\" height=\"300px\" viewBox=\"0 0 300 300\">\n",
       "<!-- END OF HEADER -->\n",
       "<rect style=\"opacity:1.0;fill:#FFFFFF;stroke:none\" width=\"300.0\" height=\"300.0\" x=\"0.0\" y=\"0.0\"> </rect>\n",
       "<path class=\"bond-0 atom-0 atom-1\" d=\"M 25.2,130.7 L 49.0,117.6\" style=\"fill:none;fill-rule:evenodd;stroke:#191919;stroke-width:2.0px;stroke-linecap:butt;stroke-linejoin:miter;stroke-opacity:1\"/>\n",
       "<path class=\"bond-0 atom-0 atom-1\" d=\"M 49.0,117.6 L 72.8,104.6\" style=\"fill:none;fill-rule:evenodd;stroke:#000000;stroke-width:2.0px;stroke-linecap:butt;stroke-linejoin:miter;stroke-opacity:1\"/>\n",
       "<path class=\"bond-1 atom-1 atom-2\" d=\"M 77.4,107.3 L 77.9,80.9\" style=\"fill:none;fill-rule:evenodd;stroke:#000000;stroke-width:2.0px;stroke-linecap:butt;stroke-linejoin:miter;stroke-opacity:1\"/>\n",
       "<path class=\"bond-1 atom-1 atom-2\" d=\"M 77.9,80.9 L 78.5,54.5\" style=\"fill:none;fill-rule:evenodd;stroke:#FF0000;stroke-width:2.0px;stroke-linecap:butt;stroke-linejoin:miter;stroke-opacity:1\"/>\n",
       "<path class=\"bond-1 atom-1 atom-2\" d=\"M 68.2,107.1 L 68.8,80.7\" style=\"fill:none;fill-rule:evenodd;stroke:#000000;stroke-width:2.0px;stroke-linecap:butt;stroke-linejoin:miter;stroke-opacity:1\"/>\n",
       "<path class=\"bond-1 atom-1 atom-2\" d=\"M 68.8,80.7 L 69.3,54.3\" style=\"fill:none;fill-rule:evenodd;stroke:#FF0000;stroke-width:2.0px;stroke-linecap:butt;stroke-linejoin:miter;stroke-opacity:1\"/>\n",
       "<path class=\"bond-2 atom-1 atom-3\" d=\"M 72.8,104.6 L 125.2,136.4\" style=\"fill:none;fill-rule:evenodd;stroke:#000000;stroke-width:2.0px;stroke-linecap:butt;stroke-linejoin:miter;stroke-opacity:1\"/>\n",
       "<path class=\"bond-3 atom-3 atom-4\" d=\"M 125.2,136.4 L 123.8,197.6\" style=\"fill:none;fill-rule:evenodd;stroke:#000000;stroke-width:2.0px;stroke-linecap:butt;stroke-linejoin:miter;stroke-opacity:1\"/>\n",
       "<path class=\"bond-4 atom-4 atom-5\" d=\"M 119.2,200.2 L 141.5,213.7\" style=\"fill:none;fill-rule:evenodd;stroke:#000000;stroke-width:2.0px;stroke-linecap:butt;stroke-linejoin:miter;stroke-opacity:1\"/>\n",
       "<path class=\"bond-4 atom-4 atom-5\" d=\"M 141.5,213.7 L 163.8,227.3\" style=\"fill:none;fill-rule:evenodd;stroke:#FF0000;stroke-width:2.0px;stroke-linecap:butt;stroke-linejoin:miter;stroke-opacity:1\"/>\n",
       "<path class=\"bond-4 atom-4 atom-5\" d=\"M 123.9,192.3 L 146.3,205.9\" style=\"fill:none;fill-rule:evenodd;stroke:#000000;stroke-width:2.0px;stroke-linecap:butt;stroke-linejoin:miter;stroke-opacity:1\"/>\n",
       "<path class=\"bond-4 atom-4 atom-5\" d=\"M 146.3,205.9 L 168.6,219.4\" style=\"fill:none;fill-rule:evenodd;stroke:#FF0000;stroke-width:2.0px;stroke-linecap:butt;stroke-linejoin:miter;stroke-opacity:1\"/>\n",
       "<path class=\"bond-5 atom-4 atom-6\" d=\"M 123.8,197.6 L 100.8,210.3\" style=\"fill:none;fill-rule:evenodd;stroke:#000000;stroke-width:2.0px;stroke-linecap:butt;stroke-linejoin:miter;stroke-opacity:1\"/>\n",
       "<path class=\"bond-5 atom-4 atom-6\" d=\"M 100.8,210.3 L 77.7,222.9\" style=\"fill:none;fill-rule:evenodd;stroke:#CCCC00;stroke-width:2.0px;stroke-linecap:butt;stroke-linejoin:miter;stroke-opacity:1\"/>\n",
       "<path class=\"bond-6 atom-3 atom-7\" d=\"M 128.3,135.0 L 128.0,134.5\" style=\"fill:none;fill-rule:evenodd;stroke:#000000;stroke-width:1.0px;stroke-linecap:butt;stroke-linejoin:miter;stroke-opacity:1\"/>\n",
       "<path class=\"bond-6 atom-3 atom-7\" d=\"M 131.4,133.6 L 130.9,132.6\" style=\"fill:none;fill-rule:evenodd;stroke:#000000;stroke-width:1.0px;stroke-linecap:butt;stroke-linejoin:miter;stroke-opacity:1\"/>\n",
       "<path class=\"bond-6 atom-3 atom-7\" d=\"M 134.5,132.2 L 133.8,130.7\" style=\"fill:none;fill-rule:evenodd;stroke:#000000;stroke-width:1.0px;stroke-linecap:butt;stroke-linejoin:miter;stroke-opacity:1\"/>\n",
       "<path class=\"bond-6 atom-3 atom-7\" d=\"M 137.6,130.8 L 136.6,128.9\" style=\"fill:none;fill-rule:evenodd;stroke:#000000;stroke-width:1.0px;stroke-linecap:butt;stroke-linejoin:miter;stroke-opacity:1\"/>\n",
       "<path class=\"bond-6 atom-3 atom-7\" d=\"M 140.8,129.4 L 139.5,127.0\" style=\"fill:none;fill-rule:evenodd;stroke:#000000;stroke-width:1.0px;stroke-linecap:butt;stroke-linejoin:miter;stroke-opacity:1\"/>\n",
       "<path class=\"bond-6 atom-3 atom-7\" d=\"M 143.9,128.0 L 142.3,125.1\" style=\"fill:none;fill-rule:evenodd;stroke:#000000;stroke-width:1.0px;stroke-linecap:butt;stroke-linejoin:miter;stroke-opacity:1\"/>\n",
       "<path class=\"bond-6 atom-3 atom-7\" d=\"M 147.0,126.6 L 145.2,123.3\" style=\"fill:none;fill-rule:evenodd;stroke:#000000;stroke-width:1.0px;stroke-linecap:butt;stroke-linejoin:miter;stroke-opacity:1\"/>\n",
       "<path class=\"bond-6 atom-3 atom-7\" d=\"M 150.1,125.2 L 148.0,121.4\" style=\"fill:none;fill-rule:evenodd;stroke:#000000;stroke-width:1.0px;stroke-linecap:butt;stroke-linejoin:miter;stroke-opacity:1\"/>\n",
       "<path class=\"bond-6 atom-3 atom-7\" d=\"M 153.2,123.8 L 150.9,119.5\" style=\"fill:none;fill-rule:evenodd;stroke:#000000;stroke-width:1.0px;stroke-linecap:butt;stroke-linejoin:miter;stroke-opacity:1\"/>\n",
       "<path class=\"bond-6 atom-3 atom-7\" d=\"M 156.3,122.4 L 153.7,117.6\" style=\"fill:none;fill-rule:evenodd;stroke:#000000;stroke-width:1.0px;stroke-linecap:butt;stroke-linejoin:miter;stroke-opacity:1\"/>\n",
       "<path class=\"bond-6 atom-3 atom-7\" d=\"M 159.4,121.0 L 156.6,115.8\" style=\"fill:none;fill-rule:evenodd;stroke:#000000;stroke-width:1.0px;stroke-linecap:butt;stroke-linejoin:miter;stroke-opacity:1\"/>\n",
       "<path class=\"bond-6 atom-3 atom-7\" d=\"M 162.6,119.6 L 159.4,113.9\" style=\"fill:none;fill-rule:evenodd;stroke:#000000;stroke-width:1.0px;stroke-linecap:butt;stroke-linejoin:miter;stroke-opacity:1\"/>\n",
       "<path class=\"bond-6 atom-3 atom-7\" d=\"M 165.7,118.2 L 162.3,112.0\" style=\"fill:none;fill-rule:evenodd;stroke:#000000;stroke-width:1.0px;stroke-linecap:butt;stroke-linejoin:miter;stroke-opacity:1\"/>\n",
       "<path class=\"bond-6 atom-3 atom-7\" d=\"M 168.8,116.8 L 165.1,110.2\" style=\"fill:none;fill-rule:evenodd;stroke:#000000;stroke-width:1.0px;stroke-linecap:butt;stroke-linejoin:miter;stroke-opacity:1\"/>\n",
       "<path class=\"bond-6 atom-3 atom-7\" d=\"M 171.9,115.4 L 168.0,108.3\" style=\"fill:none;fill-rule:evenodd;stroke:#000000;stroke-width:1.0px;stroke-linecap:butt;stroke-linejoin:miter;stroke-opacity:1\"/>\n",
       "<path class=\"bond-6 atom-3 atom-7\" d=\"M 175.0,114.0 L 170.9,106.4\" style=\"fill:none;fill-rule:evenodd;stroke:#000000;stroke-width:1.0px;stroke-linecap:butt;stroke-linejoin:miter;stroke-opacity:1\"/>\n",
       "<path class=\"bond-6 atom-3 atom-7\" d=\"M 178.1,112.6 L 173.7,104.5\" style=\"fill:none;fill-rule:evenodd;stroke:#000000;stroke-width:1.0px;stroke-linecap:butt;stroke-linejoin:miter;stroke-opacity:1\"/>\n",
       "<path class=\"bond-7 atom-8 atom-7\" d=\"M 231.3,138.7 L 178.9,106.9\" style=\"fill:none;fill-rule:evenodd;stroke:#000000;stroke-width:2.0px;stroke-linecap:butt;stroke-linejoin:miter;stroke-opacity:1\"/>\n",
       "<path class=\"bond-8 atom-9 atom-8\" d=\"M 285.0,109.3 L 231.3,138.7\" style=\"fill:none;fill-rule:evenodd;stroke:#000000;stroke-width:2.0px;stroke-linecap:butt;stroke-linejoin:miter;stroke-opacity:1\"/>\n",
       "<path class=\"bond-8 atom-9 atom-8\" d=\"M 280.6,101.2 L 231.5,128.1\" style=\"fill:none;fill-rule:evenodd;stroke:#000000;stroke-width:2.0px;stroke-linecap:butt;stroke-linejoin:miter;stroke-opacity:1\"/>\n",
       "<path d=\"M 71.6,105.2 L 72.8,104.6 L 75.4,106.2\" style=\"fill:none;stroke:#000000;stroke-width:2.0px;stroke-linecap:butt;stroke-linejoin:miter;stroke-opacity:1;\"/>\n",
       "<path d=\"M 122.6,134.8 L 125.2,136.4 L 125.1,139.4\" style=\"fill:none;stroke:#000000;stroke-width:2.0px;stroke-linecap:butt;stroke-linejoin:miter;stroke-opacity:1;\"/>\n",
       "<path d=\"M 123.9,194.6 L 123.8,197.6 L 122.7,198.2\" style=\"fill:none;stroke:#000000;stroke-width:2.0px;stroke-linecap:butt;stroke-linejoin:miter;stroke-opacity:1;\"/>\n",
       "<path d=\"M 228.7,137.1 L 231.3,138.7 L 234.0,137.2\" style=\"fill:none;stroke:#000000;stroke-width:2.0px;stroke-linecap:butt;stroke-linejoin:miter;stroke-opacity:1;\"/>\n",
       "<path class=\"atom-0\" d=\"M 15.8 132.1 L 18.4 129.5 L 15.0 128.8 L 15.5 127.1 L 18.6 128.6 L 18.2 125.2 L 20.0 125.2 L 19.5 128.6 L 22.7 127.1 L 23.2 128.8 L 19.8 129.4 L 22.2 132.1 L 20.7 133.1 L 19.0 129.9 L 17.3 133.1 L 15.8 132.1 \" fill=\"#191919\"/>\n",
       "<path class=\"atom-2\" d=\"M 66.2 43.4 Q 66.2 39.2, 68.3 36.9 Q 70.3 34.5, 74.2 34.5 Q 78.0 34.5, 80.1 36.9 Q 82.2 39.2, 82.2 43.4 Q 82.2 47.6, 80.1 50.0 Q 78.0 52.4, 74.2 52.4 Q 70.4 52.4, 68.3 50.0 Q 66.2 47.6, 66.2 43.4 M 74.2 50.4 Q 76.8 50.4, 78.3 48.6 Q 79.7 46.8, 79.7 43.4 Q 79.7 40.0, 78.3 38.2 Q 76.8 36.5, 74.2 36.5 Q 71.5 36.5, 70.1 38.2 Q 68.7 39.9, 68.7 43.4 Q 68.7 46.9, 70.1 48.6 Q 71.5 50.4, 74.2 50.4 \" fill=\"#FF0000\"/>\n",
       "<path class=\"atom-5\" d=\"M 168.2 229.5 Q 168.2 225.3, 170.3 223.0 Q 172.3 220.6, 176.2 220.6 Q 180.0 220.6, 182.1 223.0 Q 184.2 225.3, 184.2 229.5 Q 184.2 233.7, 182.1 236.1 Q 180.0 238.5, 176.2 238.5 Q 172.4 238.5, 170.3 236.1 Q 168.2 233.7, 168.2 229.5 M 176.2 236.5 Q 178.8 236.5, 180.3 234.7 Q 181.7 232.9, 181.7 229.5 Q 181.7 226.1, 180.3 224.3 Q 178.8 222.6, 176.2 222.6 Q 173.5 222.6, 172.1 224.3 Q 170.7 226.0, 170.7 229.5 Q 170.7 233.0, 172.1 234.7 Q 173.5 236.5, 176.2 236.5 \" fill=\"#FF0000\"/>\n",
       "<path class=\"atom-6\" d=\"M 65.2 233.0 Q 65.4 233.1, 66.2 233.4 Q 67.0 233.8, 67.9 234.0 Q 68.8 234.2, 69.7 234.2 Q 71.3 234.2, 72.3 233.4 Q 73.2 232.6, 73.2 231.2 Q 73.2 230.2, 72.8 229.7 Q 72.3 229.1, 71.6 228.8 Q 70.8 228.4, 69.6 228.1 Q 68.1 227.6, 67.1 227.2 Q 66.2 226.7, 65.6 225.8 Q 64.9 224.9, 64.9 223.3 Q 64.9 221.1, 66.4 219.8 Q 67.9 218.4, 70.8 218.4 Q 72.8 218.4, 75.1 219.4 L 74.5 221.3 Q 72.5 220.4, 70.9 220.4 Q 69.2 220.4, 68.3 221.1 Q 67.3 221.8, 67.4 223.0 Q 67.4 223.9, 67.8 224.5 Q 68.3 225.1, 69.0 225.4 Q 69.7 225.7, 70.9 226.1 Q 72.5 226.5, 73.4 227.0 Q 74.3 227.5, 75.0 228.5 Q 75.7 229.5, 75.7 231.2 Q 75.7 233.6, 74.1 234.9 Q 72.5 236.2, 69.8 236.2 Q 68.2 236.2, 67.1 235.8 Q 65.9 235.5, 64.5 235.0 L 65.2 233.0 \" fill=\"#CCCC00\"/>\n",
       "<path class=\"atom-6\" d=\"M 62.1,227.1 L 62.1,227.2 L 62.1,227.3 L 62.1,227.4 L 62.0,227.5 L 62.0,227.6 L 61.9,227.7 L 61.9,227.8 L 61.8,227.8 L 61.7,227.9 L 61.7,228.0 L 61.6,228.1 L 61.5,228.1 L 61.4,228.2 L 61.3,228.2 L 61.2,228.2 L 61.1,228.3 L 61.0,228.3 L 60.9,228.3 L 60.8,228.3 L 60.7,228.3 L 60.6,228.3 L 60.5,228.2 L 60.4,228.2 L 60.3,228.1 L 60.2,228.1 L 60.1,228.0 L 60.0,228.0 L 60.0,227.9 L 59.9,227.8 L 59.8,227.7 L 59.8,227.6 L 59.7,227.5 L 59.7,227.4 L 59.7,227.3 L 59.7,227.2 L 59.6,227.1 L 59.6,227.0 L 59.7,226.9 L 59.7,226.8 L 59.7,226.7 L 59.7,226.6 L 59.8,226.5 L 59.8,226.4 L 59.9,226.3 L 60.0,226.2 L 60.0,226.2 L 60.1,226.1 L 60.2,226.0 L 60.3,226.0 L 60.4,225.9 L 60.5,225.9 L 60.6,225.9 L 60.7,225.8 L 60.8,225.8 L 60.9,225.8 L 61.0,225.8 L 61.1,225.9 L 61.2,225.9 L 61.3,225.9 L 61.4,226.0 L 61.5,226.0 L 61.6,226.1 L 61.7,226.1 L 61.7,226.2 L 61.8,226.3 L 61.9,226.4 L 61.9,226.5 L 62.0,226.6 L 62.0,226.6 L 62.1,226.7 L 62.1,226.9 L 62.1,227.0 L 62.1,227.1 L 60.9,227.1 Z\" style=\"fill:#000000;fill-rule:evenodd;fill-opacity:1;stroke:#000000;stroke-width:0.0px;stroke-linecap:butt;stroke-linejoin:miter;stroke-opacity:1;\"/>\n",
       "<path class=\"legend\" d=\"M 124.5 278.8 Q 124.5 277.5, 125.6 276.8 Q 126.6 276.1, 128.6 276.1 L 129.8 276.1 L 129.8 275.8 Q 129.8 274.7, 129.4 274.3 Q 128.9 273.9, 127.9 273.9 Q 127.3 273.9, 126.7 274.0 Q 126.2 274.1, 125.4 274.5 L 125.0 273.4 Q 126.5 272.7, 127.9 272.7 Q 129.7 272.7, 130.5 273.4 Q 131.3 274.2, 131.3 275.8 L 131.3 281.1 L 130.1 281.1 Q 130.1 281.0, 130.1 280.8 Q 130.0 280.5, 129.9 280.1 Q 128.8 281.3, 127.2 281.3 Q 126.0 281.3, 125.3 280.6 Q 124.5 279.9, 124.5 278.8 M 126.0 278.8 Q 126.0 279.4, 126.4 279.8 Q 126.8 280.1, 127.5 280.1 Q 128.2 280.1, 128.8 279.8 Q 129.4 279.5, 129.8 279.0 L 129.8 277.2 L 128.7 277.2 Q 127.4 277.2, 126.7 277.6 Q 126.0 278.0, 126.0 278.8 \" fill=\"#000000\"/>\n",
       "<path class=\"legend\" d=\"M 133.0 268.9 L 134.5 268.9 L 134.5 281.1 L 133.0 281.1 L 133.0 268.9 \" fill=\"#000000\"/>\n",
       "<path class=\"legend\" d=\"M 136.4 268.9 L 137.8 268.9 L 137.8 281.1 L 136.4 281.1 L 136.4 268.9 \" fill=\"#000000\"/>\n",
       "<path class=\"legend\" d=\"M 146.0 272.8 L 147.5 272.8 L 143.2 285.0 L 141.9 285.0 L 143.2 281.1 L 142.6 281.1 L 139.7 272.8 L 141.2 272.8 L 143.7 279.8 L 146.0 272.8 \" fill=\"#000000\"/>\n",
       "<path class=\"legend\" d=\"M 148.1 268.9 L 149.6 268.9 L 149.6 281.1 L 148.1 281.1 L 148.1 268.9 \" fill=\"#000000\"/>\n",
       "<path class=\"legend\" d=\"M 161.0 272.7 Q 162.4 272.7, 163.1 273.4 Q 163.8 274.2, 163.8 275.6 L 163.8 281.1 L 162.3 281.1 L 162.3 275.7 Q 162.3 274.8, 161.9 274.3 Q 161.5 273.9, 160.7 273.9 Q 160.0 273.9, 159.4 274.2 Q 158.7 274.6, 158.4 275.2 Q 158.4 275.3, 158.4 275.6 L 158.4 281.1 L 156.9 281.1 L 156.9 275.7 Q 156.9 274.8, 156.5 274.3 Q 156.1 273.9, 155.3 273.9 Q 154.6 273.9, 154.0 274.2 Q 153.4 274.6, 153.0 275.2 L 153.0 281.1 L 151.5 281.1 L 151.5 272.8 L 152.7 272.8 L 152.9 274.0 Q 153.9 272.7, 155.6 272.7 Q 157.5 272.7, 158.1 274.1 Q 159.2 272.7, 161.0 272.7 \" fill=\"#000000\"/>\n",
       "<path class=\"legend\" d=\"M 165.5 278.8 Q 165.5 277.5, 166.6 276.8 Q 167.6 276.1, 169.6 276.1 L 170.8 276.1 L 170.8 275.8 Q 170.8 274.7, 170.3 274.3 Q 169.9 273.9, 168.9 273.9 Q 168.3 273.9, 167.7 274.0 Q 167.2 274.1, 166.4 274.5 L 166.0 273.4 Q 167.5 272.7, 168.9 272.7 Q 170.7 272.7, 171.5 273.4 Q 172.3 274.2, 172.3 275.8 L 172.3 281.1 L 171.1 281.1 Q 171.1 281.0, 171.1 280.8 Q 171.0 280.5, 170.9 280.1 Q 169.8 281.3, 168.2 281.3 Q 167.0 281.3, 166.3 280.6 Q 165.5 279.9, 165.5 278.8 M 167.0 278.8 Q 167.0 279.4, 167.4 279.8 Q 167.8 280.1, 168.5 280.1 Q 169.1 280.1, 169.8 279.8 Q 170.4 279.5, 170.8 279.0 L 170.8 277.2 L 169.7 277.2 Q 168.3 277.2, 167.7 277.6 Q 167.0 278.0, 167.0 278.8 \" fill=\"#000000\"/>\n",
       "<path class=\"legend\" d=\"M 174.0 268.9 L 175.5 268.9 L 175.5 281.1 L 174.0 281.1 L 174.0 268.9 \" fill=\"#000000\"/>\n",
       "</svg>"
      ],
      "text/plain": [
       "<IPython.core.display.SVG object>"
      ]
     },
     "metadata": {},
     "output_type": "display_data"
    },
    {
     "data": {
      "text/plain": [
       "'*C(=O)[C@H](CC=C)C(=O)[S]'"
      ]
     },
     "metadata": {},
     "output_type": "display_data"
    },
    {
     "data": {
      "image/svg+xml": [
       "<svg xmlns=\"http://www.w3.org/2000/svg\" xmlns:rdkit=\"http://www.rdkit.org/xml\" xmlns:xlink=\"http://www.w3.org/1999/xlink\" version=\"1.1\" baseProfile=\"full\" xml:space=\"preserve\" width=\"300px\" height=\"300px\" viewBox=\"0 0 300 300\">\n",
       "<!-- END OF HEADER -->\n",
       "<rect style=\"opacity:1.0;fill:#FFFFFF;stroke:none\" width=\"300.0\" height=\"300.0\" x=\"0.0\" y=\"0.0\"> </rect>\n",
       "<path class=\"bond-0 atom-0 atom-1\" d=\"M 23.6,131.2 L 43.6,120.4\" style=\"fill:none;fill-rule:evenodd;stroke:#191919;stroke-width:2.0px;stroke-linecap:butt;stroke-linejoin:miter;stroke-opacity:1\"/>\n",
       "<path class=\"bond-0 atom-0 atom-1\" d=\"M 43.6,120.4 L 63.6,109.5\" style=\"fill:none;fill-rule:evenodd;stroke:#000000;stroke-width:2.0px;stroke-linecap:butt;stroke-linejoin:miter;stroke-opacity:1\"/>\n",
       "<path class=\"bond-1 atom-1 atom-2\" d=\"M 67.3,111.9 L 67.9,89.7\" style=\"fill:none;fill-rule:evenodd;stroke:#000000;stroke-width:2.0px;stroke-linecap:butt;stroke-linejoin:miter;stroke-opacity:1\"/>\n",
       "<path class=\"bond-1 atom-1 atom-2\" d=\"M 67.9,89.7 L 68.5,67.6\" style=\"fill:none;fill-rule:evenodd;stroke:#FF0000;stroke-width:2.0px;stroke-linecap:butt;stroke-linejoin:miter;stroke-opacity:1\"/>\n",
       "<path class=\"bond-1 atom-1 atom-2\" d=\"M 59.6,111.7 L 60.2,89.5\" style=\"fill:none;fill-rule:evenodd;stroke:#000000;stroke-width:2.0px;stroke-linecap:butt;stroke-linejoin:miter;stroke-opacity:1\"/>\n",
       "<path class=\"bond-1 atom-1 atom-2\" d=\"M 60.2,89.5 L 60.8,67.4\" style=\"fill:none;fill-rule:evenodd;stroke:#FF0000;stroke-width:2.0px;stroke-linecap:butt;stroke-linejoin:miter;stroke-opacity:1\"/>\n",
       "<path class=\"bond-2 atom-1 atom-3\" d=\"M 63.6,109.5 L 107.3,136.4\" style=\"fill:none;fill-rule:evenodd;stroke:#000000;stroke-width:2.0px;stroke-linecap:butt;stroke-linejoin:miter;stroke-opacity:1\"/>\n",
       "<path class=\"bond-3 atom-3 atom-4\" d=\"M 107.3,136.4 L 105.9,187.7\" style=\"fill:none;fill-rule:evenodd;stroke:#000000;stroke-width:2.0px;stroke-linecap:butt;stroke-linejoin:miter;stroke-opacity:1\"/>\n",
       "<path class=\"bond-4 atom-4 atom-5\" d=\"M 102.0,189.8 L 120.6,201.2\" style=\"fill:none;fill-rule:evenodd;stroke:#000000;stroke-width:2.0px;stroke-linecap:butt;stroke-linejoin:miter;stroke-opacity:1\"/>\n",
       "<path class=\"bond-4 atom-4 atom-5\" d=\"M 120.6,201.2 L 139.3,212.7\" style=\"fill:none;fill-rule:evenodd;stroke:#FF0000;stroke-width:2.0px;stroke-linecap:butt;stroke-linejoin:miter;stroke-opacity:1\"/>\n",
       "<path class=\"bond-4 atom-4 atom-5\" d=\"M 106.0,183.2 L 124.7,194.7\" style=\"fill:none;fill-rule:evenodd;stroke:#000000;stroke-width:2.0px;stroke-linecap:butt;stroke-linejoin:miter;stroke-opacity:1\"/>\n",
       "<path class=\"bond-4 atom-4 atom-5\" d=\"M 124.7,194.7 L 143.3,206.1\" style=\"fill:none;fill-rule:evenodd;stroke:#FF0000;stroke-width:2.0px;stroke-linecap:butt;stroke-linejoin:miter;stroke-opacity:1\"/>\n",
       "<path class=\"bond-5 atom-4 atom-6\" d=\"M 105.9,187.7 L 86.5,198.2\" style=\"fill:none;fill-rule:evenodd;stroke:#000000;stroke-width:2.0px;stroke-linecap:butt;stroke-linejoin:miter;stroke-opacity:1\"/>\n",
       "<path class=\"bond-5 atom-4 atom-6\" d=\"M 86.5,198.2 L 67.2,208.7\" style=\"fill:none;fill-rule:evenodd;stroke:#CCCC00;stroke-width:2.0px;stroke-linecap:butt;stroke-linejoin:miter;stroke-opacity:1\"/>\n",
       "<path class=\"bond-6 atom-3 atom-7\" d=\"M 110.4,135.0 L 110.2,134.5\" style=\"fill:none;fill-rule:evenodd;stroke:#000000;stroke-width:1.0px;stroke-linecap:butt;stroke-linejoin:miter;stroke-opacity:1\"/>\n",
       "<path class=\"bond-6 atom-3 atom-7\" d=\"M 113.6,133.6 L 113.0,132.6\" style=\"fill:none;fill-rule:evenodd;stroke:#000000;stroke-width:1.0px;stroke-linecap:butt;stroke-linejoin:miter;stroke-opacity:1\"/>\n",
       "<path class=\"bond-6 atom-3 atom-7\" d=\"M 116.7,132.2 L 115.9,130.8\" style=\"fill:none;fill-rule:evenodd;stroke:#000000;stroke-width:1.0px;stroke-linecap:butt;stroke-linejoin:miter;stroke-opacity:1\"/>\n",
       "<path class=\"bond-6 atom-3 atom-7\" d=\"M 119.8,130.8 L 118.8,128.9\" style=\"fill:none;fill-rule:evenodd;stroke:#000000;stroke-width:1.0px;stroke-linecap:butt;stroke-linejoin:miter;stroke-opacity:1\"/>\n",
       "<path class=\"bond-6 atom-3 atom-7\" d=\"M 123.0,129.4 L 121.7,127.0\" style=\"fill:none;fill-rule:evenodd;stroke:#000000;stroke-width:1.0px;stroke-linecap:butt;stroke-linejoin:miter;stroke-opacity:1\"/>\n",
       "<path class=\"bond-6 atom-3 atom-7\" d=\"M 126.1,128.1 L 124.5,125.2\" style=\"fill:none;fill-rule:evenodd;stroke:#000000;stroke-width:1.0px;stroke-linecap:butt;stroke-linejoin:miter;stroke-opacity:1\"/>\n",
       "<path class=\"bond-6 atom-3 atom-7\" d=\"M 129.3,126.7 L 127.4,123.3\" style=\"fill:none;fill-rule:evenodd;stroke:#000000;stroke-width:1.0px;stroke-linecap:butt;stroke-linejoin:miter;stroke-opacity:1\"/>\n",
       "<path class=\"bond-6 atom-3 atom-7\" d=\"M 132.4,125.3 L 130.3,121.4\" style=\"fill:none;fill-rule:evenodd;stroke:#000000;stroke-width:1.0px;stroke-linecap:butt;stroke-linejoin:miter;stroke-opacity:1\"/>\n",
       "<path class=\"bond-6 atom-3 atom-7\" d=\"M 135.5,123.9 L 133.2,119.5\" style=\"fill:none;fill-rule:evenodd;stroke:#000000;stroke-width:1.0px;stroke-linecap:butt;stroke-linejoin:miter;stroke-opacity:1\"/>\n",
       "<path class=\"bond-6 atom-3 atom-7\" d=\"M 138.7,122.5 L 136.0,117.7\" style=\"fill:none;fill-rule:evenodd;stroke:#000000;stroke-width:1.0px;stroke-linecap:butt;stroke-linejoin:miter;stroke-opacity:1\"/>\n",
       "<path class=\"bond-6 atom-3 atom-7\" d=\"M 141.8,121.1 L 138.9,115.8\" style=\"fill:none;fill-rule:evenodd;stroke:#000000;stroke-width:1.0px;stroke-linecap:butt;stroke-linejoin:miter;stroke-opacity:1\"/>\n",
       "<path class=\"bond-6 atom-3 atom-7\" d=\"M 144.9,119.7 L 141.8,113.9\" style=\"fill:none;fill-rule:evenodd;stroke:#000000;stroke-width:1.0px;stroke-linecap:butt;stroke-linejoin:miter;stroke-opacity:1\"/>\n",
       "<path class=\"bond-6 atom-3 atom-7\" d=\"M 148.1,118.3 L 144.7,112.1\" style=\"fill:none;fill-rule:evenodd;stroke:#000000;stroke-width:1.0px;stroke-linecap:butt;stroke-linejoin:miter;stroke-opacity:1\"/>\n",
       "<path class=\"bond-6 atom-3 atom-7\" d=\"M 151.2,116.9 L 147.5,110.2\" style=\"fill:none;fill-rule:evenodd;stroke:#000000;stroke-width:1.0px;stroke-linecap:butt;stroke-linejoin:miter;stroke-opacity:1\"/>\n",
       "<path class=\"bond-7 atom-8 atom-7\" d=\"M 196.1,138.8 L 152.4,111.9\" style=\"fill:none;fill-rule:evenodd;stroke:#000000;stroke-width:2.0px;stroke-linecap:butt;stroke-linejoin:miter;stroke-opacity:1\"/>\n",
       "<path class=\"bond-8 atom-9 atom-8\" d=\"M 241.3,114.3 L 196.1,138.8\" style=\"fill:none;fill-rule:evenodd;stroke:#000000;stroke-width:2.0px;stroke-linecap:butt;stroke-linejoin:miter;stroke-opacity:1\"/>\n",
       "<path class=\"bond-9 atom-10 atom-9\" d=\"M 285.0,141.1 L 241.3,114.3\" style=\"fill:none;fill-rule:evenodd;stroke:#000000;stroke-width:2.0px;stroke-linecap:butt;stroke-linejoin:miter;stroke-opacity:1\"/>\n",
       "<path d=\"M 62.6,110.1 L 63.6,109.5 L 65.7,110.9\" style=\"fill:none;stroke:#000000;stroke-width:2.0px;stroke-linecap:butt;stroke-linejoin:miter;stroke-opacity:1;\"/>\n",
       "<path d=\"M 105.1,135.0 L 107.3,136.4 L 107.2,139.0\" style=\"fill:none;stroke:#000000;stroke-width:2.0px;stroke-linecap:butt;stroke-linejoin:miter;stroke-opacity:1;\"/>\n",
       "<path d=\"M 106.0,185.1 L 105.9,187.7 L 105.0,188.2\" style=\"fill:none;stroke:#000000;stroke-width:2.0px;stroke-linecap:butt;stroke-linejoin:miter;stroke-opacity:1;\"/>\n",
       "<path d=\"M 194.0,137.4 L 196.1,138.8 L 198.4,137.5\" style=\"fill:none;stroke:#000000;stroke-width:2.0px;stroke-linecap:butt;stroke-linejoin:miter;stroke-opacity:1;\"/>\n",
       "<path d=\"M 239.0,115.5 L 241.3,114.3 L 243.4,115.6\" style=\"fill:none;stroke:#000000;stroke-width:2.0px;stroke-linecap:butt;stroke-linejoin:miter;stroke-opacity:1;\"/>\n",
       "<path class=\"atom-0\" d=\"M 15.7 132.4 L 17.8 130.2 L 15.0 129.6 L 15.4 128.2 L 18.0 129.5 L 17.7 126.6 L 19.2 126.6 L 18.8 129.5 L 21.4 128.2 L 21.9 129.6 L 19.0 130.2 L 21.1 132.4 L 19.8 133.3 L 18.4 130.6 L 17.0 133.3 L 15.7 132.4 \" fill=\"#191919\"/>\n",
       "<path class=\"atom-2\" d=\"M 58.3 58.3 Q 58.3 54.8, 60.0 52.8 Q 61.7 50.9, 64.9 50.9 Q 68.1 50.9, 69.9 52.8 Q 71.6 54.8, 71.6 58.3 Q 71.6 61.8, 69.9 63.8 Q 68.1 65.8, 64.9 65.8 Q 61.7 65.8, 60.0 63.8 Q 58.3 61.8, 58.3 58.3 M 64.9 64.2 Q 67.1 64.2, 68.3 62.7 Q 69.5 61.2, 69.5 58.3 Q 69.5 55.4, 68.3 54.0 Q 67.1 52.5, 64.9 52.5 Q 62.7 52.5, 61.5 54.0 Q 60.3 55.4, 60.3 58.3 Q 60.3 61.2, 61.5 62.7 Q 62.7 64.2, 64.9 64.2 \" fill=\"#FF0000\"/>\n",
       "<path class=\"atom-5\" d=\"M 143.0 214.6 Q 143.0 211.1, 144.7 209.1 Q 146.4 207.2, 149.7 207.2 Q 152.9 207.2, 154.6 209.1 Q 156.3 211.1, 156.3 214.6 Q 156.3 218.1, 154.6 220.1 Q 152.8 222.1, 149.7 222.1 Q 146.5 222.1, 144.7 220.1 Q 143.0 218.1, 143.0 214.6 M 149.7 220.5 Q 151.9 220.5, 153.1 219.0 Q 154.3 217.5, 154.3 214.6 Q 154.3 211.7, 153.1 210.3 Q 151.9 208.8, 149.7 208.8 Q 147.4 208.8, 146.2 210.3 Q 145.0 211.7, 145.0 214.6 Q 145.0 217.5, 146.2 219.0 Q 147.4 220.5, 149.7 220.5 \" fill=\"#FF0000\"/>\n",
       "<path class=\"atom-6\" d=\"M 56.7 217.1 Q 56.9 217.2, 57.5 217.5 Q 58.2 217.8, 59.0 218.0 Q 59.7 218.1, 60.5 218.1 Q 61.8 218.1, 62.6 217.5 Q 63.4 216.8, 63.4 215.6 Q 63.4 214.8, 63.0 214.3 Q 62.6 213.8, 62.0 213.6 Q 61.4 213.3, 60.4 213.0 Q 59.1 212.6, 58.3 212.2 Q 57.5 211.9, 57.0 211.1 Q 56.5 210.3, 56.5 209.0 Q 56.5 207.2, 57.7 206.0 Q 58.9 204.9, 61.4 204.9 Q 63.1 204.9, 65.0 205.7 L 64.5 207.3 Q 62.8 206.6, 61.5 206.6 Q 60.0 206.6, 59.3 207.2 Q 58.5 207.7, 58.5 208.7 Q 58.5 209.5, 58.9 210.0 Q 59.3 210.5, 59.9 210.7 Q 60.5 211.0, 61.5 211.3 Q 62.8 211.7, 63.6 212.1 Q 64.3 212.5, 64.9 213.4 Q 65.5 214.2, 65.5 215.6 Q 65.5 217.6, 64.1 218.7 Q 62.8 219.8, 60.5 219.8 Q 59.2 219.8, 58.3 219.5 Q 57.3 219.2, 56.1 218.8 L 56.7 217.1 \" fill=\"#CCCC00\"/>\n",
       "<path class=\"atom-6\" d=\"M 54.1,212.1 L 54.1,212.2 L 54.1,212.3 L 54.1,212.4 L 54.0,212.5 L 54.0,212.6 L 54.0,212.7 L 53.9,212.7 L 53.9,212.8 L 53.8,212.9 L 53.7,212.9 L 53.7,213.0 L 53.6,213.0 L 53.5,213.1 L 53.4,213.1 L 53.4,213.1 L 53.3,213.2 L 53.2,213.2 L 53.1,213.2 L 53.0,213.2 L 52.9,213.2 L 52.8,213.1 L 52.7,213.1 L 52.7,213.1 L 52.6,213.1 L 52.5,213.0 L 52.4,213.0 L 52.4,212.9 L 52.3,212.8 L 52.2,212.8 L 52.2,212.7 L 52.2,212.6 L 52.1,212.5 L 52.1,212.5 L 52.1,212.4 L 52.0,212.3 L 52.0,212.2 L 52.0,212.1 L 52.0,212.0 L 52.1,211.9 L 52.1,211.8 L 52.1,211.8 L 52.2,211.7 L 52.2,211.6 L 52.2,211.5 L 52.3,211.5 L 52.4,211.4 L 52.4,211.3 L 52.5,211.3 L 52.6,211.2 L 52.7,211.2 L 52.7,211.2 L 52.8,211.1 L 52.9,211.1 L 53.0,211.1 L 53.1,211.1 L 53.2,211.1 L 53.3,211.1 L 53.4,211.2 L 53.4,211.2 L 53.5,211.2 L 53.6,211.3 L 53.7,211.3 L 53.7,211.4 L 53.8,211.4 L 53.9,211.5 L 53.9,211.6 L 54.0,211.6 L 54.0,211.7 L 54.0,211.8 L 54.1,211.9 L 54.1,212.0 L 54.1,212.1 L 54.1,212.1 L 53.1,212.1 Z\" style=\"fill:#000000;fill-rule:evenodd;fill-opacity:1;stroke:#000000;stroke-width:0.0px;stroke-linecap:butt;stroke-linejoin:miter;stroke-opacity:1;\"/>\n",
       "<path class=\"legend\" d=\"M 129.4 276.4 Q 131.1 276.4, 132.1 277.5 Q 133.0 278.6, 133.0 280.6 Q 133.0 282.6, 131.9 283.8 Q 130.8 284.9, 128.8 284.9 Q 127.5 284.9, 126.3 284.5 L 125.6 284.3 L 125.6 272.7 L 127.1 272.7 L 127.1 277.5 Q 127.9 276.4, 129.4 276.4 M 128.8 283.8 Q 130.0 283.8, 130.8 282.9 Q 131.5 282.1, 131.5 280.6 Q 131.5 279.1, 130.9 278.4 Q 130.3 277.6, 129.3 277.6 Q 128.5 277.6, 127.9 278.1 Q 127.3 278.5, 127.1 279.3 L 127.1 283.5 Q 127.9 283.8, 128.8 283.8 \" fill=\"#000000\"/>\n",
       "<path class=\"legend\" d=\"M 141.4 276.6 L 141.4 284.8 L 140.2 284.8 L 140.0 283.7 Q 138.9 285.0, 137.2 285.0 Q 135.8 285.0, 135.1 284.2 Q 134.4 283.5, 134.4 282.0 L 134.4 276.6 L 135.9 276.6 L 135.9 281.9 Q 135.9 282.9, 136.3 283.3 Q 136.7 283.8, 137.5 283.8 Q 138.3 283.8, 138.9 283.4 Q 139.5 283.1, 139.9 282.5 L 139.9 276.6 L 141.4 276.6 \" fill=\"#000000\"/>\n",
       "<path class=\"legend\" d=\"M 143.4 277.7 L 143.4 276.6 L 145.0 276.6 L 145.2 274.2 L 146.4 274.2 L 146.4 276.6 L 148.9 276.6 L 148.9 277.7 L 146.4 277.7 L 146.4 282.3 Q 146.4 283.7, 147.6 283.7 Q 148.0 283.7, 148.7 283.5 L 149.0 284.5 Q 148.1 284.9, 147.3 284.9 Q 146.2 284.9, 145.5 284.3 Q 144.9 283.6, 144.9 282.4 L 144.9 277.7 L 143.4 277.7 \" fill=\"#000000\"/>\n",
       "<path class=\"legend\" d=\"M 159.6 276.4 Q 161.0 276.4, 161.7 277.2 Q 162.4 277.9, 162.4 279.4 L 162.4 284.8 L 160.9 284.8 L 160.9 279.5 Q 160.9 278.5, 160.5 278.1 Q 160.1 277.6, 159.3 277.6 Q 158.6 277.6, 157.9 278.0 Q 157.3 278.3, 157.0 278.9 Q 157.0 279.1, 157.0 279.4 L 157.0 284.8 L 155.5 284.8 L 155.5 279.5 Q 155.5 278.5, 155.1 278.1 Q 154.7 277.6, 153.9 277.6 Q 153.2 277.6, 152.6 278.0 Q 152.0 278.3, 151.6 278.9 L 151.6 284.8 L 150.1 284.8 L 150.1 276.6 L 151.3 276.6 L 151.5 277.7 Q 152.5 276.4, 154.2 276.4 Q 156.1 276.4, 156.7 277.9 Q 157.8 276.4, 159.6 276.4 \" fill=\"#000000\"/>\n",
       "<path class=\"legend\" d=\"M 164.3 282.6 Q 164.3 281.3, 165.3 280.6 Q 166.4 279.8, 168.3 279.8 L 169.6 279.8 L 169.6 279.5 Q 169.6 278.5, 169.1 278.1 Q 168.7 277.6, 167.7 277.6 Q 167.0 277.6, 166.5 277.8 Q 166.0 277.9, 165.2 278.2 L 164.8 277.2 Q 166.3 276.4, 167.7 276.4 Q 169.5 276.4, 170.3 277.2 Q 171.1 277.9, 171.1 279.5 L 171.1 284.8 L 169.9 284.8 Q 169.9 284.7, 169.8 284.5 Q 169.8 284.2, 169.7 283.8 Q 168.5 285.0, 167.0 285.0 Q 165.8 285.0, 165.0 284.3 Q 164.3 283.7, 164.3 282.6 M 165.8 282.6 Q 165.8 283.2, 166.2 283.5 Q 166.6 283.8, 167.3 283.8 Q 167.9 283.8, 168.5 283.5 Q 169.1 283.2, 169.6 282.7 L 169.6 281.0 L 168.4 281.0 Q 167.1 281.0, 166.4 281.4 Q 165.8 281.8, 165.8 282.6 \" fill=\"#000000\"/>\n",
       "<path class=\"legend\" d=\"M 173.0 272.7 L 174.4 272.7 L 174.4 284.8 L 173.0 284.8 L 173.0 272.7 \" fill=\"#000000\"/>\n",
       "</svg>"
      ],
      "text/plain": [
       "<IPython.core.display.SVG object>"
      ]
     },
     "metadata": {},
     "output_type": "display_data"
    },
    {
     "data": {
      "text/plain": [
       "'*C(=O)[C@H](CCCC)C(=O)[S]'"
      ]
     },
     "metadata": {},
     "output_type": "display_data"
    },
    {
     "data": {
      "image/svg+xml": [
       "<svg xmlns=\"http://www.w3.org/2000/svg\" xmlns:rdkit=\"http://www.rdkit.org/xml\" xmlns:xlink=\"http://www.w3.org/1999/xlink\" version=\"1.1\" baseProfile=\"full\" xml:space=\"preserve\" width=\"300px\" height=\"300px\" viewBox=\"0 0 300 300\">\n",
       "<!-- END OF HEADER -->\n",
       "<rect style=\"opacity:1.0;fill:#FFFFFF;stroke:none\" width=\"300.0\" height=\"300.0\" x=\"0.0\" y=\"0.0\"> </rect>\n",
       "<path class=\"bond-0 atom-0 atom-1\" d=\"M 27.3,150.5 L 55.6,134.2\" style=\"fill:none;fill-rule:evenodd;stroke:#191919;stroke-width:2.0px;stroke-linecap:butt;stroke-linejoin:miter;stroke-opacity:1\"/>\n",
       "<path class=\"bond-0 atom-0 atom-1\" d=\"M 55.6,134.2 L 83.8,117.9\" style=\"fill:none;fill-rule:evenodd;stroke:#000000;stroke-width:2.0px;stroke-linecap:butt;stroke-linejoin:miter;stroke-opacity:1\"/>\n",
       "<path class=\"bond-1 atom-1 atom-2\" d=\"M 89.3,121.1 L 89.3,89.3\" style=\"fill:none;fill-rule:evenodd;stroke:#000000;stroke-width:2.0px;stroke-linecap:butt;stroke-linejoin:miter;stroke-opacity:1\"/>\n",
       "<path class=\"bond-1 atom-1 atom-2\" d=\"M 89.3,89.3 L 89.3,57.5\" style=\"fill:none;fill-rule:evenodd;stroke:#FF0000;stroke-width:2.0px;stroke-linecap:butt;stroke-linejoin:miter;stroke-opacity:1\"/>\n",
       "<path class=\"bond-1 atom-1 atom-2\" d=\"M 78.3,121.1 L 78.3,89.3\" style=\"fill:none;fill-rule:evenodd;stroke:#000000;stroke-width:2.0px;stroke-linecap:butt;stroke-linejoin:miter;stroke-opacity:1\"/>\n",
       "<path class=\"bond-1 atom-1 atom-2\" d=\"M 78.3,89.3 L 78.3,57.5\" style=\"fill:none;fill-rule:evenodd;stroke:#FF0000;stroke-width:2.0px;stroke-linecap:butt;stroke-linejoin:miter;stroke-opacity:1\"/>\n",
       "<path class=\"bond-2 atom-1 atom-3\" d=\"M 83.8,117.9 L 147.7,154.8\" style=\"fill:none;fill-rule:evenodd;stroke:#000000;stroke-width:2.0px;stroke-linecap:butt;stroke-linejoin:miter;stroke-opacity:1\"/>\n",
       "<path class=\"bond-3 atom-3 atom-4\" d=\"M 147.7,154.8 L 211.5,117.9\" style=\"fill:none;fill-rule:evenodd;stroke:#000000;stroke-width:2.0px;stroke-linecap:butt;stroke-linejoin:miter;stroke-opacity:1\"/>\n",
       "<path class=\"bond-4 atom-4 atom-5\" d=\"M 206.0,121.1 L 233.3,136.9\" style=\"fill:none;fill-rule:evenodd;stroke:#000000;stroke-width:2.0px;stroke-linecap:butt;stroke-linejoin:miter;stroke-opacity:1\"/>\n",
       "<path class=\"bond-4 atom-4 atom-5\" d=\"M 233.3,136.9 L 260.6,152.6\" style=\"fill:none;fill-rule:evenodd;stroke:#FF0000;stroke-width:2.0px;stroke-linecap:butt;stroke-linejoin:miter;stroke-opacity:1\"/>\n",
       "<path class=\"bond-4 atom-4 atom-5\" d=\"M 211.5,111.5 L 238.9,127.3\" style=\"fill:none;fill-rule:evenodd;stroke:#000000;stroke-width:2.0px;stroke-linecap:butt;stroke-linejoin:miter;stroke-opacity:1\"/>\n",
       "<path class=\"bond-4 atom-4 atom-5\" d=\"M 238.9,127.3 L 266.2,143.0\" style=\"fill:none;fill-rule:evenodd;stroke:#FF0000;stroke-width:2.0px;stroke-linecap:butt;stroke-linejoin:miter;stroke-opacity:1\"/>\n",
       "<path class=\"bond-5 atom-4 atom-6\" d=\"M 211.5,117.9 L 211.5,87.7\" style=\"fill:none;fill-rule:evenodd;stroke:#000000;stroke-width:2.0px;stroke-linecap:butt;stroke-linejoin:miter;stroke-opacity:1\"/>\n",
       "<path class=\"bond-5 atom-4 atom-6\" d=\"M 211.5,87.7 L 211.5,57.6\" style=\"fill:none;fill-rule:evenodd;stroke:#CCCC00;stroke-width:2.0px;stroke-linecap:butt;stroke-linejoin:miter;stroke-opacity:1\"/>\n",
       "<path class=\"bond-6 atom-3 atom-7\" d=\"M 147.7,154.8 L 147.7,185.2\" style=\"fill:none;fill-rule:evenodd;stroke:#000000;stroke-width:2.0px;stroke-linecap:butt;stroke-linejoin:miter;stroke-opacity:1\"/>\n",
       "<path class=\"bond-6 atom-3 atom-7\" d=\"M 147.7,185.2 L 147.7,215.5\" style=\"fill:none;fill-rule:evenodd;stroke:#FF0000;stroke-width:2.0px;stroke-linecap:butt;stroke-linejoin:miter;stroke-opacity:1\"/>\n",
       "<path d=\"M 82.4,118.7 L 83.8,117.9 L 87.0,119.7\" style=\"fill:none;stroke:#000000;stroke-width:2.0px;stroke-linecap:butt;stroke-linejoin:miter;stroke-opacity:1;\"/>\n",
       "<path d=\"M 208.4,119.7 L 211.5,117.9 L 211.5,116.4\" style=\"fill:none;stroke:#000000;stroke-width:2.0px;stroke-linecap:butt;stroke-linejoin:miter;stroke-opacity:1;\"/>\n",
       "<path class=\"atom-0\" d=\"M 16.0 152.4 L 19.1 149.3 L 15.0 148.5 L 15.6 146.4 L 19.4 148.3 L 18.8 144.2 L 21.0 144.2 L 20.4 148.3 L 24.2 146.5 L 24.9 148.5 L 20.8 149.3 L 23.7 152.4 L 21.9 153.7 L 19.9 149.8 L 17.8 153.7 L 16.0 152.4 \" fill=\"#191919\"/>\n",
       "<path class=\"atom-2\" d=\"M 74.2 44.2 Q 74.2 39.2, 76.7 36.4 Q 79.2 33.6, 83.8 33.6 Q 88.4 33.6, 90.9 36.4 Q 93.4 39.2, 93.4 44.2 Q 93.4 49.3, 90.9 52.2 Q 88.4 55.0, 83.8 55.0 Q 79.2 55.0, 76.7 52.2 Q 74.2 49.3, 74.2 44.2 M 83.8 52.7 Q 87.0 52.7, 88.7 50.6 Q 90.4 48.4, 90.4 44.2 Q 90.4 40.1, 88.7 38.0 Q 87.0 36.0, 83.8 36.0 Q 80.6 36.0, 78.9 38.0 Q 77.2 40.1, 77.2 44.2 Q 77.2 48.4, 78.9 50.6 Q 80.6 52.7, 83.8 52.7 \" fill=\"#FF0000\"/>\n",
       "<path class=\"atom-5\" d=\"M 265.8 154.8 Q 265.8 149.8, 268.3 147.0 Q 270.8 144.2, 275.4 144.2 Q 280.0 144.2, 282.5 147.0 Q 285.0 149.8, 285.0 154.8 Q 285.0 159.9, 282.5 162.8 Q 280.0 165.7, 275.4 165.7 Q 270.8 165.7, 268.3 162.8 Q 265.8 159.9, 265.8 154.8 M 275.4 163.3 Q 278.6 163.3, 280.3 161.2 Q 282.1 159.0, 282.1 154.8 Q 282.1 150.7, 280.3 148.7 Q 278.6 146.6, 275.4 146.6 Q 272.2 146.6, 270.5 148.6 Q 268.8 150.7, 268.8 154.8 Q 268.8 159.1, 270.5 161.2 Q 272.2 163.3, 275.4 163.3 \" fill=\"#FF0000\"/>\n",
       "<path class=\"atom-6\" d=\"M 205.6 51.3 Q 205.9 51.4, 206.9 51.8 Q 207.8 52.2, 208.9 52.5 Q 210.0 52.7, 211.0 52.7 Q 213.0 52.7, 214.2 51.8 Q 215.3 50.8, 215.3 49.1 Q 215.3 48.0, 214.7 47.3 Q 214.2 46.6, 213.3 46.2 Q 212.4 45.8, 210.9 45.4 Q 209.1 44.8, 207.9 44.3 Q 206.9 43.7, 206.1 42.6 Q 205.3 41.5, 205.3 39.6 Q 205.3 37.0, 207.1 35.4 Q 208.9 33.7, 212.4 33.7 Q 214.8 33.7, 217.6 34.9 L 216.9 37.2 Q 214.4 36.1, 212.5 36.1 Q 210.5 36.1, 209.3 37.0 Q 208.2 37.8, 208.2 39.3 Q 208.2 40.4, 208.8 41.1 Q 209.4 41.7, 210.2 42.1 Q 211.1 42.5, 212.5 42.9 Q 214.4 43.5, 215.5 44.1 Q 216.6 44.7, 217.4 45.9 Q 218.2 47.1, 218.2 49.1 Q 218.2 52.0, 216.3 53.6 Q 214.4 55.1, 211.2 55.1 Q 209.3 55.1, 207.9 54.7 Q 206.5 54.3, 204.8 53.7 L 205.6 51.3 \" fill=\"#CCCC00\"/>\n",
       "<path class=\"atom-7\" d=\"M 138.1 228.6 Q 138.1 223.6, 140.6 220.8 Q 143.0 218.0, 147.7 218.0 Q 152.3 218.0, 154.8 220.8 Q 157.3 223.6, 157.3 228.6 Q 157.3 233.7, 154.8 236.5 Q 152.2 239.4, 147.7 239.4 Q 143.1 239.4, 140.6 236.5 Q 138.1 233.7, 138.1 228.6 M 147.7 237.0 Q 150.9 237.0, 152.6 234.9 Q 154.3 232.8, 154.3 228.6 Q 154.3 224.5, 152.6 222.4 Q 150.9 220.3, 147.7 220.3 Q 144.5 220.3, 142.8 222.4 Q 141.0 224.5, 141.0 228.6 Q 141.0 232.8, 142.8 234.9 Q 144.5 237.0, 147.7 237.0 \" fill=\"#FF0000\"/>\n",
       "<path class=\"atom-7\" d=\"M 160.5 218.2 L 163.3 218.2 L 163.3 227.1 L 174.0 227.1 L 174.0 218.2 L 176.9 218.2 L 176.9 239.1 L 174.0 239.1 L 174.0 229.4 L 163.3 229.4 L 163.3 239.1 L 160.5 239.1 L 160.5 218.2 \" fill=\"#FF0000\"/>\n",
       "<path class=\"atom-6\" d=\"M 224.1,44.2 L 224.1,44.3 L 224.1,44.4 L 224.1,44.5 L 224.1,44.7 L 224.0,44.8 L 223.9,44.9 L 223.9,45.0 L 223.8,45.1 L 223.7,45.2 L 223.6,45.3 L 223.5,45.3 L 223.4,45.4 L 223.3,45.5 L 223.2,45.5 L 223.1,45.6 L 222.9,45.6 L 222.8,45.6 L 222.7,45.6 L 222.6,45.6 L 222.4,45.6 L 222.3,45.6 L 222.2,45.6 L 222.1,45.5 L 222.0,45.5 L 221.9,45.4 L 221.8,45.3 L 221.7,45.2 L 221.6,45.1 L 221.5,45.0 L 221.4,44.9 L 221.4,44.8 L 221.3,44.7 L 221.3,44.6 L 221.2,44.5 L 221.2,44.3 L 221.2,44.2 L 221.2,44.1 L 221.2,44.0 L 221.2,43.8 L 221.3,43.7 L 221.3,43.6 L 221.4,43.5 L 221.4,43.4 L 221.5,43.3 L 221.6,43.2 L 221.7,43.1 L 221.8,43.0 L 221.9,42.9 L 222.0,42.9 L 222.1,42.8 L 222.2,42.8 L 222.3,42.7 L 222.4,42.7 L 222.6,42.7 L 222.7,42.7 L 222.8,42.7 L 222.9,42.7 L 223.1,42.7 L 223.2,42.8 L 223.3,42.8 L 223.4,42.9 L 223.5,43.0 L 223.6,43.0 L 223.7,43.1 L 223.8,43.2 L 223.9,43.3 L 223.9,43.4 L 224.0,43.5 L 224.1,43.7 L 224.1,43.8 L 224.1,43.9 L 224.1,44.0 L 224.1,44.2 L 222.7,44.2 Z\" style=\"fill:#000000;fill-rule:evenodd;fill-opacity:1;stroke:#000000;stroke-width:0.0px;stroke-linecap:butt;stroke-linejoin:miter;stroke-opacity:1;\"/>\n",
       "<path class=\"legend\" d=\"M 137.6 276.4 Q 139.0 276.4, 139.6 277.2 Q 140.3 277.9, 140.3 279.4 L 140.3 284.8 L 138.8 284.8 L 138.8 279.5 Q 138.8 278.5, 138.5 278.1 Q 138.1 277.6, 137.3 277.6 Q 136.5 277.6, 135.9 278.0 Q 135.3 278.3, 134.9 278.9 L 134.9 284.8 L 133.4 284.8 L 133.4 272.7 L 134.9 272.7 L 134.9 277.6 Q 135.9 276.4, 137.6 276.4 \" fill=\"#000000\"/>\n",
       "<path class=\"legend\" d=\"M 151.8 276.4 Q 153.2 276.4, 153.9 277.2 Q 154.6 277.9, 154.6 279.4 L 154.6 284.8 L 153.1 284.8 L 153.1 279.5 Q 153.1 278.5, 152.7 278.1 Q 152.3 277.6, 151.5 277.6 Q 150.8 277.6, 150.1 278.0 Q 149.5 278.3, 149.2 278.9 Q 149.2 279.1, 149.2 279.4 L 149.2 284.8 L 147.7 284.8 L 147.7 279.5 Q 147.7 278.5, 147.3 278.1 Q 146.9 277.6, 146.1 277.6 Q 145.4 277.6, 144.8 278.0 Q 144.2 278.3, 143.8 278.9 L 143.8 284.8 L 142.3 284.8 L 142.3 276.6 L 143.5 276.6 L 143.7 277.7 Q 144.7 276.4, 146.4 276.4 Q 148.3 276.4, 148.9 277.9 Q 150.0 276.4, 151.8 276.4 \" fill=\"#000000\"/>\n",
       "<path class=\"legend\" d=\"M 156.5 282.6 Q 156.5 281.3, 157.5 280.6 Q 158.6 279.8, 160.5 279.8 L 161.8 279.8 L 161.8 279.5 Q 161.8 278.5, 161.3 278.1 Q 160.9 277.6, 159.9 277.6 Q 159.2 277.6, 158.7 277.8 Q 158.2 277.9, 157.4 278.2 L 157.0 277.2 Q 158.5 276.4, 159.9 276.4 Q 161.7 276.4, 162.5 277.2 Q 163.3 277.9, 163.3 279.5 L 163.3 284.8 L 162.1 284.8 Q 162.1 284.7, 162.0 284.5 Q 162.0 284.2, 161.9 283.8 Q 160.7 285.0, 159.2 285.0 Q 158.0 285.0, 157.2 284.3 Q 156.5 283.7, 156.5 282.6 M 158.0 282.6 Q 158.0 283.2, 158.4 283.5 Q 158.8 283.8, 159.5 283.8 Q 160.1 283.8, 160.7 283.5 Q 161.3 283.2, 161.8 282.7 L 161.8 281.0 L 160.6 281.0 Q 159.3 281.0, 158.6 281.4 Q 158.0 281.8, 158.0 282.6 \" fill=\"#000000\"/>\n",
       "<path class=\"legend\" d=\"M 165.2 272.7 L 166.6 272.7 L 166.6 284.8 L 165.2 284.8 L 165.2 272.7 \" fill=\"#000000\"/>\n",
       "</svg>"
      ],
      "text/plain": [
       "<IPython.core.display.SVG object>"
      ]
     },
     "metadata": {},
     "output_type": "display_data"
    },
    {
     "data": {
      "text/plain": [
       "'*C(=O)C(O)C(=O)[S]'"
      ]
     },
     "metadata": {},
     "output_type": "display_data"
    },
    {
     "data": {
      "image/svg+xml": [
       "<svg xmlns=\"http://www.w3.org/2000/svg\" xmlns:rdkit=\"http://www.rdkit.org/xml\" xmlns:xlink=\"http://www.w3.org/1999/xlink\" version=\"1.1\" baseProfile=\"full\" xml:space=\"preserve\" width=\"300px\" height=\"300px\" viewBox=\"0 0 300 300\">\n",
       "<!-- END OF HEADER -->\n",
       "<rect style=\"opacity:1.0;fill:#FFFFFF;stroke:none\" width=\"300.0\" height=\"300.0\" x=\"0.0\" y=\"0.0\"> </rect>\n",
       "<path class=\"bond-0 atom-0 atom-1\" d=\"M 32.0,132.0 L 60.3,115.7\" style=\"fill:none;fill-rule:evenodd;stroke:#191919;stroke-width:2.0px;stroke-linecap:butt;stroke-linejoin:miter;stroke-opacity:1\"/>\n",
       "<path class=\"bond-0 atom-0 atom-1\" d=\"M 60.3,115.7 L 88.5,99.4\" style=\"fill:none;fill-rule:evenodd;stroke:#000000;stroke-width:2.0px;stroke-linecap:butt;stroke-linejoin:miter;stroke-opacity:1\"/>\n",
       "<path class=\"bond-1 atom-1 atom-2\" d=\"M 94.1,102.6 L 94.1,70.7\" style=\"fill:none;fill-rule:evenodd;stroke:#000000;stroke-width:2.0px;stroke-linecap:butt;stroke-linejoin:miter;stroke-opacity:1\"/>\n",
       "<path class=\"bond-1 atom-1 atom-2\" d=\"M 94.1,70.7 L 94.1,38.9\" style=\"fill:none;fill-rule:evenodd;stroke:#FF0000;stroke-width:2.0px;stroke-linecap:butt;stroke-linejoin:miter;stroke-opacity:1\"/>\n",
       "<path class=\"bond-1 atom-1 atom-2\" d=\"M 83.0,102.6 L 83.0,70.7\" style=\"fill:none;fill-rule:evenodd;stroke:#000000;stroke-width:2.0px;stroke-linecap:butt;stroke-linejoin:miter;stroke-opacity:1\"/>\n",
       "<path class=\"bond-1 atom-1 atom-2\" d=\"M 83.0,70.7 L 83.0,38.9\" style=\"fill:none;fill-rule:evenodd;stroke:#FF0000;stroke-width:2.0px;stroke-linecap:butt;stroke-linejoin:miter;stroke-opacity:1\"/>\n",
       "<path class=\"bond-2 atom-1 atom-3\" d=\"M 88.5,99.4 L 152.5,136.3\" style=\"fill:none;fill-rule:evenodd;stroke:#000000;stroke-width:2.0px;stroke-linecap:butt;stroke-linejoin:miter;stroke-opacity:1\"/>\n",
       "<path class=\"bond-3 atom-3 atom-4\" d=\"M 152.5,136.3 L 152.5,210.1\" style=\"fill:none;fill-rule:evenodd;stroke:#000000;stroke-width:2.0px;stroke-linecap:butt;stroke-linejoin:miter;stroke-opacity:1\"/>\n",
       "<path class=\"bond-4 atom-4 atom-5\" d=\"M 146.9,213.3 L 174.3,229.1\" style=\"fill:none;fill-rule:evenodd;stroke:#000000;stroke-width:2.0px;stroke-linecap:butt;stroke-linejoin:miter;stroke-opacity:1\"/>\n",
       "<path class=\"bond-4 atom-4 atom-5\" d=\"M 174.3,229.1 L 201.6,244.9\" style=\"fill:none;fill-rule:evenodd;stroke:#FF0000;stroke-width:2.0px;stroke-linecap:butt;stroke-linejoin:miter;stroke-opacity:1\"/>\n",
       "<path class=\"bond-4 atom-4 atom-5\" d=\"M 152.5,203.7 L 179.8,219.5\" style=\"fill:none;fill-rule:evenodd;stroke:#000000;stroke-width:2.0px;stroke-linecap:butt;stroke-linejoin:miter;stroke-opacity:1\"/>\n",
       "<path class=\"bond-4 atom-4 atom-5\" d=\"M 179.8,219.5 L 207.1,235.3\" style=\"fill:none;fill-rule:evenodd;stroke:#FF0000;stroke-width:2.0px;stroke-linecap:butt;stroke-linejoin:miter;stroke-opacity:1\"/>\n",
       "<path class=\"bond-5 atom-4 atom-6\" d=\"M 152.5,210.1 L 125.1,225.9\" style=\"fill:none;fill-rule:evenodd;stroke:#000000;stroke-width:2.0px;stroke-linecap:butt;stroke-linejoin:miter;stroke-opacity:1\"/>\n",
       "<path class=\"bond-5 atom-4 atom-6\" d=\"M 125.1,225.9 L 97.7,241.7\" style=\"fill:none;fill-rule:evenodd;stroke:#CCCC00;stroke-width:2.0px;stroke-linecap:butt;stroke-linejoin:miter;stroke-opacity:1\"/>\n",
       "<path class=\"bond-6 atom-3 atom-7\" d=\"M 152.5,136.3 L 216.4,92.7 L 216.4,99.4 Z\" style=\"fill:#000000;fill-rule:evenodd;fill-opacity:1;stroke:#000000;stroke-width:0.5px;stroke-linecap:butt;stroke-linejoin:miter;stroke-opacity:1;\"/>\n",
       "<path class=\"bond-6 atom-3 atom-7\" d=\"M 152.5,136.3 L 216.4,99.4 L 222.2,102.7 Z\" style=\"fill:#000000;fill-rule:evenodd;fill-opacity:1;stroke:#000000;stroke-width:0.5px;stroke-linecap:butt;stroke-linejoin:miter;stroke-opacity:1;\"/>\n",
       "<path class=\"bond-7 atom-8 atom-7\" d=\"M 280.3,136.3 L 216.4,99.4\" style=\"fill:none;fill-rule:evenodd;stroke:#000000;stroke-width:2.0px;stroke-linecap:butt;stroke-linejoin:miter;stroke-opacity:1\"/>\n",
       "<path class=\"bond-8 atom-7 atom-9\" d=\"M 216.4,99.4 L 216.4,25.6\" style=\"fill:none;fill-rule:evenodd;stroke:#000000;stroke-width:2.0px;stroke-linecap:butt;stroke-linejoin:miter;stroke-opacity:1\"/>\n",
       "<path d=\"M 87.1,100.2 L 88.5,99.4 L 91.7,101.2\" style=\"fill:none;stroke:#000000;stroke-width:2.0px;stroke-linecap:butt;stroke-linejoin:miter;stroke-opacity:1;\"/>\n",
       "<path d=\"M 149.3,134.4 L 152.5,136.3 L 152.5,140.0\" style=\"fill:none;stroke:#000000;stroke-width:2.0px;stroke-linecap:butt;stroke-linejoin:miter;stroke-opacity:1;\"/>\n",
       "<path d=\"M 152.5,206.4 L 152.5,210.1 L 151.1,210.9\" style=\"fill:none;stroke:#000000;stroke-width:2.0px;stroke-linecap:butt;stroke-linejoin:miter;stroke-opacity:1;\"/>\n",
       "<path d=\"M 219.6,101.2 L 216.4,99.4 L 216.4,95.7\" style=\"fill:none;stroke:#000000;stroke-width:2.0px;stroke-linecap:butt;stroke-linejoin:miter;stroke-opacity:1;\"/>\n",
       "<path class=\"atom-0\" d=\"M 20.7 134.0 L 23.7 130.8 L 19.7 130.0 L 20.3 127.9 L 24.0 129.8 L 23.5 125.7 L 25.7 125.7 L 25.1 129.8 L 28.9 128.0 L 29.6 130.0 L 25.4 130.8 L 28.4 133.9 L 26.6 135.2 L 24.5 131.3 L 22.5 135.2 L 20.7 134.0 \" fill=\"#191919\"/>\n",
       "<path class=\"atom-2\" d=\"M 79.0 25.6 Q 79.0 20.6, 81.4 17.8 Q 83.9 15.0, 88.5 15.0 Q 93.2 15.0, 95.7 17.8 Q 98.1 20.6, 98.1 25.6 Q 98.1 30.7, 95.6 33.6 Q 93.1 36.5, 88.5 36.5 Q 83.9 36.5, 81.4 33.6 Q 79.0 30.7, 79.0 25.6 M 88.5 34.1 Q 91.7 34.1, 93.4 32.0 Q 95.2 29.8, 95.2 25.6 Q 95.2 21.5, 93.4 19.5 Q 91.7 17.4, 88.5 17.4 Q 85.4 17.4, 83.6 19.4 Q 81.9 21.5, 81.9 25.6 Q 81.9 29.9, 83.6 32.0 Q 85.4 34.1, 88.5 34.1 \" fill=\"#FF0000\"/>\n",
       "<path class=\"atom-5\" d=\"M 206.8 247.1 Q 206.8 242.1, 209.3 239.3 Q 211.8 236.4, 216.4 236.4 Q 221.0 236.4, 223.5 239.3 Q 226.0 242.1, 226.0 247.1 Q 226.0 252.2, 223.5 255.0 Q 221.0 257.9, 216.4 257.9 Q 211.8 257.9, 209.3 255.0 Q 206.8 252.2, 206.8 247.1 M 216.4 255.5 Q 219.6 255.5, 221.3 253.4 Q 223.0 251.3, 223.0 247.1 Q 223.0 243.0, 221.3 240.9 Q 219.6 238.8, 216.4 238.8 Q 213.2 238.8, 211.5 240.9 Q 209.8 242.9, 209.8 247.1 Q 209.8 251.3, 211.5 253.4 Q 213.2 255.5, 216.4 255.5 \" fill=\"#FF0000\"/>\n",
       "<path class=\"atom-6\" d=\"M 82.6 254.2 Q 82.9 254.3, 83.9 254.7 Q 84.8 255.1, 85.9 255.4 Q 87.0 255.6, 88.0 255.6 Q 90.0 255.6, 91.2 254.7 Q 92.3 253.7, 92.3 252.0 Q 92.3 250.9, 91.7 250.1 Q 91.2 249.4, 90.3 249.1 Q 89.4 248.7, 87.9 248.2 Q 86.1 247.7, 84.9 247.1 Q 83.9 246.6, 83.1 245.5 Q 82.3 244.4, 82.3 242.5 Q 82.3 239.8, 84.1 238.2 Q 85.9 236.6, 89.4 236.6 Q 91.8 236.6, 94.6 237.7 L 93.9 240.0 Q 91.4 239.0, 89.5 239.0 Q 87.5 239.0, 86.3 239.8 Q 85.2 240.7, 85.2 242.1 Q 85.2 243.2, 85.8 243.9 Q 86.4 244.6, 87.2 245.0 Q 88.1 245.4, 89.5 245.8 Q 91.4 246.4, 92.5 247.0 Q 93.6 247.6, 94.4 248.8 Q 95.2 250.0, 95.2 252.0 Q 95.2 254.9, 93.3 256.5 Q 91.4 258.0, 88.2 258.0 Q 86.3 258.0, 84.9 257.6 Q 83.5 257.2, 81.8 256.5 L 82.6 254.2 \" fill=\"#CCCC00\"/>\n",
       "<path class=\"atom-6\" d=\"M 78.9,247.0 L 78.9,247.1 L 78.9,247.3 L 78.8,247.4 L 78.8,247.5 L 78.8,247.6 L 78.7,247.7 L 78.6,247.9 L 78.6,248.0 L 78.5,248.0 L 78.4,248.1 L 78.3,248.2 L 78.2,248.3 L 78.1,248.3 L 77.9,248.4 L 77.8,248.4 L 77.7,248.5 L 77.6,248.5 L 77.4,248.5 L 77.3,248.5 L 77.2,248.5 L 77.1,248.5 L 76.9,248.4 L 76.8,248.4 L 76.7,248.3 L 76.6,248.3 L 76.5,248.2 L 76.4,248.1 L 76.3,248.0 L 76.2,247.9 L 76.2,247.8 L 76.1,247.7 L 76.0,247.6 L 76.0,247.5 L 76.0,247.3 L 76.0,247.2 L 75.9,247.1 L 75.9,247.0 L 76.0,246.8 L 76.0,246.7 L 76.0,246.6 L 76.0,246.5 L 76.1,246.3 L 76.2,246.2 L 76.2,246.1 L 76.3,246.0 L 76.4,245.9 L 76.5,245.9 L 76.6,245.8 L 76.7,245.7 L 76.8,245.7 L 76.9,245.6 L 77.1,245.6 L 77.2,245.6 L 77.3,245.5 L 77.4,245.5 L 77.6,245.5 L 77.7,245.6 L 77.8,245.6 L 77.9,245.6 L 78.1,245.7 L 78.2,245.7 L 78.3,245.8 L 78.4,245.9 L 78.5,246.0 L 78.6,246.1 L 78.6,246.2 L 78.7,246.3 L 78.8,246.4 L 78.8,246.5 L 78.8,246.6 L 78.9,246.8 L 78.9,246.9 L 78.9,247.0 L 77.4,247.0 Z\" style=\"fill:#000000;fill-rule:evenodd;fill-opacity:1;stroke:#000000;stroke-width:0.0px;stroke-linecap:butt;stroke-linejoin:miter;stroke-opacity:1;\"/>\n",
       "<path class=\"legend\" d=\"M 115.7 273.5 L 117.2 273.5 L 117.2 274.9 L 115.7 274.9 L 115.7 273.5 M 115.7 276.6 L 117.2 276.6 L 117.2 284.8 L 115.7 284.8 L 115.7 276.6 \" fill=\"#000000\"/>\n",
       "<path class=\"legend\" d=\"M 119.7 283.1 Q 120.4 283.4, 120.9 283.6 Q 121.4 283.7, 122.0 283.7 Q 122.7 283.7, 123.1 283.4 Q 123.5 283.1, 123.5 282.5 Q 123.5 282.1, 123.3 281.9 Q 123.1 281.7, 122.8 281.6 Q 122.6 281.4, 121.9 281.2 Q 121.7 281.2, 121.0 280.9 Q 120.3 280.7, 119.9 280.1 Q 119.5 279.6, 119.5 278.8 Q 119.5 277.8, 120.3 277.1 Q 121.0 276.4, 122.5 276.4 Q 123.1 276.4, 123.7 276.6 Q 124.2 276.7, 124.8 277.0 L 124.4 278.2 Q 123.9 277.9, 123.5 277.8 Q 123.0 277.7, 122.5 277.7 Q 121.8 277.7, 121.4 278.0 Q 121.0 278.3, 121.0 278.8 Q 121.0 279.2, 121.3 279.4 Q 121.6 279.6, 122.3 279.9 Q 122.4 279.9, 122.6 280.0 L 123.0 280.1 Q 123.6 280.4, 124.0 280.6 Q 124.5 280.8, 124.8 281.3 Q 125.0 281.7, 125.0 282.5 Q 125.0 283.7, 124.2 284.3 Q 123.4 285.0, 122.0 285.0 Q 121.2 285.0, 120.6 284.8 Q 119.9 284.6, 119.2 284.3 L 119.7 283.1 \" fill=\"#000000\"/>\n",
       "<path class=\"legend\" d=\"M 126.5 280.7 Q 126.5 278.7, 127.5 277.6 Q 128.5 276.4, 130.4 276.4 Q 132.3 276.4, 133.3 277.6 Q 134.3 278.7, 134.3 280.7 Q 134.3 282.7, 133.3 283.8 Q 132.3 284.9, 130.4 284.9 Q 128.5 284.9, 127.5 283.8 Q 126.5 282.7, 126.5 280.7 M 128.0 280.7 Q 128.0 282.2, 128.7 283.0 Q 129.3 283.8, 130.4 283.8 Q 131.5 283.8, 132.2 283.0 Q 132.8 282.2, 132.8 280.7 Q 132.8 279.2, 132.2 278.4 Q 131.5 277.6, 130.4 277.6 Q 129.3 277.6, 128.7 278.4 Q 128.0 279.2, 128.0 280.7 \" fill=\"#000000\"/>\n",
       "<path class=\"legend\" d=\"M 139.5 276.4 Q 141.2 276.4, 142.2 277.5 Q 143.1 278.6, 143.1 280.6 Q 143.1 282.6, 142.0 283.8 Q 140.9 284.9, 138.9 284.9 Q 137.6 284.9, 136.4 284.5 L 135.7 284.3 L 135.7 272.7 L 137.2 272.7 L 137.2 277.5 Q 138.0 276.4, 139.5 276.4 M 138.9 283.8 Q 140.1 283.8, 140.9 282.9 Q 141.6 282.1, 141.6 280.6 Q 141.6 279.1, 141.0 278.4 Q 140.5 277.6, 139.4 277.6 Q 138.6 277.6, 138.0 278.1 Q 137.4 278.5, 137.2 279.3 L 137.2 283.5 Q 138.0 283.8, 138.9 283.8 \" fill=\"#000000\"/>\n",
       "<path class=\"legend\" d=\"M 151.5 276.6 L 151.5 284.8 L 150.2 284.8 L 150.1 283.7 Q 149.0 285.0, 147.3 285.0 Q 145.9 285.0, 145.2 284.2 Q 144.5 283.5, 144.5 282.0 L 144.5 276.6 L 146.0 276.6 L 146.0 281.9 Q 146.0 282.9, 146.4 283.3 Q 146.7 283.8, 147.6 283.8 Q 148.3 283.8, 148.9 283.4 Q 149.6 283.1, 150.0 282.5 L 150.0 276.6 L 151.5 276.6 \" fill=\"#000000\"/>\n",
       "<path class=\"legend\" d=\"M 153.4 277.7 L 153.4 276.6 L 155.0 276.6 L 155.2 274.2 L 156.3 274.2 L 156.3 276.6 L 158.9 276.6 L 158.9 277.7 L 156.3 277.7 L 156.3 282.3 Q 156.3 283.7, 157.5 283.7 Q 158.0 283.7, 158.7 283.5 L 159.0 284.5 Q 158.1 284.9, 157.3 284.9 Q 156.2 284.9, 155.5 284.3 Q 154.8 283.6, 154.8 282.4 L 154.8 277.7 L 153.4 277.7 \" fill=\"#000000\"/>\n",
       "<path class=\"legend\" d=\"M 169.5 276.4 Q 170.9 276.4, 171.6 277.2 Q 172.3 277.9, 172.3 279.4 L 172.3 284.8 L 170.8 284.8 L 170.8 279.5 Q 170.8 278.5, 170.4 278.1 Q 170.1 277.6, 169.2 277.6 Q 168.5 277.6, 167.9 278.0 Q 167.3 278.3, 166.9 278.9 Q 166.9 279.1, 166.9 279.4 L 166.9 284.8 L 165.4 284.8 L 165.4 279.5 Q 165.4 278.5, 165.0 278.1 Q 164.7 277.6, 163.8 277.6 Q 163.1 277.6, 162.5 278.0 Q 161.9 278.3, 161.5 278.9 L 161.5 284.8 L 160.0 284.8 L 160.0 276.6 L 161.2 276.6 L 161.4 277.7 Q 162.5 276.4, 164.1 276.4 Q 166.1 276.4, 166.7 277.9 Q 167.7 276.4, 169.5 276.4 \" fill=\"#000000\"/>\n",
       "<path class=\"legend\" d=\"M 174.2 282.6 Q 174.2 281.3, 175.2 280.6 Q 176.3 279.8, 178.2 279.8 L 179.4 279.8 L 179.4 279.5 Q 179.4 278.5, 179.0 278.1 Q 178.6 277.6, 177.6 277.6 Q 176.9 277.6, 176.4 277.8 Q 175.9 277.9, 175.1 278.2 L 174.6 277.2 Q 176.1 276.4, 177.6 276.4 Q 179.3 276.4, 180.1 277.2 Q 180.9 277.9, 180.9 279.5 L 180.9 284.8 L 179.8 284.8 Q 179.7 284.7, 179.7 284.5 Q 179.6 284.2, 179.6 283.8 Q 178.4 285.0, 176.9 285.0 Q 175.6 285.0, 174.9 284.3 Q 174.2 283.7, 174.2 282.6 M 175.7 282.6 Q 175.7 283.2, 176.0 283.5 Q 176.4 283.8, 177.2 283.8 Q 177.8 283.8, 178.4 283.5 Q 179.0 283.2, 179.4 282.7 L 179.4 281.0 L 178.3 281.0 Q 177.0 281.0, 176.3 281.4 Q 175.7 281.8, 175.7 282.6 \" fill=\"#000000\"/>\n",
       "<path class=\"legend\" d=\"M 182.8 272.7 L 184.3 272.7 L 184.3 284.8 L 182.8 284.8 L 182.8 272.7 \" fill=\"#000000\"/>\n",
       "</svg>"
      ],
      "text/plain": [
       "<IPython.core.display.SVG object>"
      ]
     },
     "metadata": {},
     "output_type": "display_data"
    },
    {
     "data": {
      "text/plain": [
       "'*C(=O)[C@H](C(=O)[S])C(C)C'"
      ]
     },
     "metadata": {},
     "output_type": "display_data"
    },
    {
     "data": {
      "image/svg+xml": [
       "<svg xmlns=\"http://www.w3.org/2000/svg\" xmlns:rdkit=\"http://www.rdkit.org/xml\" xmlns:xlink=\"http://www.w3.org/1999/xlink\" version=\"1.1\" baseProfile=\"full\" xml:space=\"preserve\" width=\"300px\" height=\"300px\" viewBox=\"0 0 300 300\">\n",
       "<!-- END OF HEADER -->\n",
       "<rect style=\"opacity:1.0;fill:#FFFFFF;stroke:none\" width=\"300.0\" height=\"300.0\" x=\"0.0\" y=\"0.0\"> </rect>\n",
       "<path class=\"bond-0 atom-0 atom-1\" d=\"M 32.0,132.0 L 60.3,115.7\" style=\"fill:none;fill-rule:evenodd;stroke:#191919;stroke-width:2.0px;stroke-linecap:butt;stroke-linejoin:miter;stroke-opacity:1\"/>\n",
       "<path class=\"bond-0 atom-0 atom-1\" d=\"M 60.3,115.7 L 88.5,99.4\" style=\"fill:none;fill-rule:evenodd;stroke:#000000;stroke-width:2.0px;stroke-linecap:butt;stroke-linejoin:miter;stroke-opacity:1\"/>\n",
       "<path class=\"bond-1 atom-1 atom-2\" d=\"M 94.1,102.6 L 94.1,70.7\" style=\"fill:none;fill-rule:evenodd;stroke:#000000;stroke-width:2.0px;stroke-linecap:butt;stroke-linejoin:miter;stroke-opacity:1\"/>\n",
       "<path class=\"bond-1 atom-1 atom-2\" d=\"M 94.1,70.7 L 94.1,38.9\" style=\"fill:none;fill-rule:evenodd;stroke:#FF0000;stroke-width:2.0px;stroke-linecap:butt;stroke-linejoin:miter;stroke-opacity:1\"/>\n",
       "<path class=\"bond-1 atom-1 atom-2\" d=\"M 83.0,102.6 L 83.0,70.7\" style=\"fill:none;fill-rule:evenodd;stroke:#000000;stroke-width:2.0px;stroke-linecap:butt;stroke-linejoin:miter;stroke-opacity:1\"/>\n",
       "<path class=\"bond-1 atom-1 atom-2\" d=\"M 83.0,70.7 L 83.0,38.9\" style=\"fill:none;fill-rule:evenodd;stroke:#FF0000;stroke-width:2.0px;stroke-linecap:butt;stroke-linejoin:miter;stroke-opacity:1\"/>\n",
       "<path class=\"bond-2 atom-1 atom-3\" d=\"M 88.5,99.4 L 152.5,136.3\" style=\"fill:none;fill-rule:evenodd;stroke:#000000;stroke-width:2.0px;stroke-linecap:butt;stroke-linejoin:miter;stroke-opacity:1\"/>\n",
       "<path class=\"bond-3 atom-3 atom-4\" d=\"M 152.5,136.3 L 152.5,210.1\" style=\"fill:none;fill-rule:evenodd;stroke:#000000;stroke-width:2.0px;stroke-linecap:butt;stroke-linejoin:miter;stroke-opacity:1\"/>\n",
       "<path class=\"bond-4 atom-4 atom-5\" d=\"M 146.9,213.3 L 174.3,229.1\" style=\"fill:none;fill-rule:evenodd;stroke:#000000;stroke-width:2.0px;stroke-linecap:butt;stroke-linejoin:miter;stroke-opacity:1\"/>\n",
       "<path class=\"bond-4 atom-4 atom-5\" d=\"M 174.3,229.1 L 201.6,244.9\" style=\"fill:none;fill-rule:evenodd;stroke:#FF0000;stroke-width:2.0px;stroke-linecap:butt;stroke-linejoin:miter;stroke-opacity:1\"/>\n",
       "<path class=\"bond-4 atom-4 atom-5\" d=\"M 152.5,203.7 L 179.8,219.5\" style=\"fill:none;fill-rule:evenodd;stroke:#000000;stroke-width:2.0px;stroke-linecap:butt;stroke-linejoin:miter;stroke-opacity:1\"/>\n",
       "<path class=\"bond-4 atom-4 atom-5\" d=\"M 179.8,219.5 L 207.1,235.3\" style=\"fill:none;fill-rule:evenodd;stroke:#FF0000;stroke-width:2.0px;stroke-linecap:butt;stroke-linejoin:miter;stroke-opacity:1\"/>\n",
       "<path class=\"bond-5 atom-4 atom-6\" d=\"M 152.5,210.1 L 125.1,225.9\" style=\"fill:none;fill-rule:evenodd;stroke:#000000;stroke-width:2.0px;stroke-linecap:butt;stroke-linejoin:miter;stroke-opacity:1\"/>\n",
       "<path class=\"bond-5 atom-4 atom-6\" d=\"M 125.1,225.9 L 97.7,241.7\" style=\"fill:none;fill-rule:evenodd;stroke:#CCCC00;stroke-width:2.0px;stroke-linecap:butt;stroke-linejoin:miter;stroke-opacity:1\"/>\n",
       "<path class=\"bond-6 atom-3 atom-7\" d=\"M 155.7,134.8 L 155.4,134.3\" style=\"fill:none;fill-rule:evenodd;stroke:#000000;stroke-width:1.0px;stroke-linecap:butt;stroke-linejoin:miter;stroke-opacity:1\"/>\n",
       "<path class=\"bond-6 atom-3 atom-7\" d=\"M 158.8,133.3 L 158.3,132.3\" style=\"fill:none;fill-rule:evenodd;stroke:#000000;stroke-width:1.0px;stroke-linecap:butt;stroke-linejoin:miter;stroke-opacity:1\"/>\n",
       "<path class=\"bond-6 atom-3 atom-7\" d=\"M 162.0,131.7 L 161.2,130.3\" style=\"fill:none;fill-rule:evenodd;stroke:#000000;stroke-width:1.0px;stroke-linecap:butt;stroke-linejoin:miter;stroke-opacity:1\"/>\n",
       "<path class=\"bond-6 atom-3 atom-7\" d=\"M 165.2,130.2 L 164.1,128.3\" style=\"fill:none;fill-rule:evenodd;stroke:#000000;stroke-width:1.0px;stroke-linecap:butt;stroke-linejoin:miter;stroke-opacity:1\"/>\n",
       "<path class=\"bond-6 atom-3 atom-7\" d=\"M 168.4,128.7 L 167.0,126.3\" style=\"fill:none;fill-rule:evenodd;stroke:#000000;stroke-width:1.0px;stroke-linecap:butt;stroke-linejoin:miter;stroke-opacity:1\"/>\n",
       "<path class=\"bond-6 atom-3 atom-7\" d=\"M 171.6,127.2 L 169.9,124.3\" style=\"fill:none;fill-rule:evenodd;stroke:#000000;stroke-width:1.0px;stroke-linecap:butt;stroke-linejoin:miter;stroke-opacity:1\"/>\n",
       "<path class=\"bond-6 atom-3 atom-7\" d=\"M 174.7,125.7 L 172.8,122.3\" style=\"fill:none;fill-rule:evenodd;stroke:#000000;stroke-width:1.0px;stroke-linecap:butt;stroke-linejoin:miter;stroke-opacity:1\"/>\n",
       "<path class=\"bond-6 atom-3 atom-7\" d=\"M 177.9,124.2 L 175.7,120.3\" style=\"fill:none;fill-rule:evenodd;stroke:#000000;stroke-width:1.0px;stroke-linecap:butt;stroke-linejoin:miter;stroke-opacity:1\"/>\n",
       "<path class=\"bond-6 atom-3 atom-7\" d=\"M 181.1,122.6 L 178.6,118.3\" style=\"fill:none;fill-rule:evenodd;stroke:#000000;stroke-width:1.0px;stroke-linecap:butt;stroke-linejoin:miter;stroke-opacity:1\"/>\n",
       "<path class=\"bond-6 atom-3 atom-7\" d=\"M 184.3,121.1 L 181.5,116.3\" style=\"fill:none;fill-rule:evenodd;stroke:#000000;stroke-width:1.0px;stroke-linecap:butt;stroke-linejoin:miter;stroke-opacity:1\"/>\n",
       "<path class=\"bond-6 atom-3 atom-7\" d=\"M 187.5,119.6 L 184.4,114.3\" style=\"fill:none;fill-rule:evenodd;stroke:#000000;stroke-width:1.0px;stroke-linecap:butt;stroke-linejoin:miter;stroke-opacity:1\"/>\n",
       "<path class=\"bond-6 atom-3 atom-7\" d=\"M 190.7,118.1 L 187.3,112.3\" style=\"fill:none;fill-rule:evenodd;stroke:#000000;stroke-width:1.0px;stroke-linecap:butt;stroke-linejoin:miter;stroke-opacity:1\"/>\n",
       "<path class=\"bond-6 atom-3 atom-7\" d=\"M 193.8,116.6 L 190.2,110.3\" style=\"fill:none;fill-rule:evenodd;stroke:#000000;stroke-width:1.0px;stroke-linecap:butt;stroke-linejoin:miter;stroke-opacity:1\"/>\n",
       "<path class=\"bond-6 atom-3 atom-7\" d=\"M 197.0,115.1 L 193.1,108.3\" style=\"fill:none;fill-rule:evenodd;stroke:#000000;stroke-width:1.0px;stroke-linecap:butt;stroke-linejoin:miter;stroke-opacity:1\"/>\n",
       "<path class=\"bond-6 atom-3 atom-7\" d=\"M 200.2,113.5 L 196.0,106.3\" style=\"fill:none;fill-rule:evenodd;stroke:#000000;stroke-width:1.0px;stroke-linecap:butt;stroke-linejoin:miter;stroke-opacity:1\"/>\n",
       "<path class=\"bond-6 atom-3 atom-7\" d=\"M 203.4,112.0 L 199.0,104.3\" style=\"fill:none;fill-rule:evenodd;stroke:#000000;stroke-width:1.0px;stroke-linecap:butt;stroke-linejoin:miter;stroke-opacity:1\"/>\n",
       "<path class=\"bond-6 atom-3 atom-7\" d=\"M 206.6,110.5 L 201.9,102.4\" style=\"fill:none;fill-rule:evenodd;stroke:#000000;stroke-width:1.0px;stroke-linecap:butt;stroke-linejoin:miter;stroke-opacity:1\"/>\n",
       "<path class=\"bond-6 atom-3 atom-7\" d=\"M 209.7,109.0 L 204.8,100.4\" style=\"fill:none;fill-rule:evenodd;stroke:#000000;stroke-width:1.0px;stroke-linecap:butt;stroke-linejoin:miter;stroke-opacity:1\"/>\n",
       "<path class=\"bond-6 atom-3 atom-7\" d=\"M 212.9,107.5 L 207.7,98.4\" style=\"fill:none;fill-rule:evenodd;stroke:#000000;stroke-width:1.0px;stroke-linecap:butt;stroke-linejoin:miter;stroke-opacity:1\"/>\n",
       "<path class=\"bond-6 atom-3 atom-7\" d=\"M 216.1,105.9 L 210.6,96.4\" style=\"fill:none;fill-rule:evenodd;stroke:#000000;stroke-width:1.0px;stroke-linecap:butt;stroke-linejoin:miter;stroke-opacity:1\"/>\n",
       "<path class=\"bond-7 atom-8 atom-7\" d=\"M 280.3,136.3 L 216.4,99.4\" style=\"fill:none;fill-rule:evenodd;stroke:#000000;stroke-width:2.0px;stroke-linecap:butt;stroke-linejoin:miter;stroke-opacity:1\"/>\n",
       "<path class=\"bond-8 atom-7 atom-9\" d=\"M 216.4,99.4 L 216.4,25.6\" style=\"fill:none;fill-rule:evenodd;stroke:#000000;stroke-width:2.0px;stroke-linecap:butt;stroke-linejoin:miter;stroke-opacity:1\"/>\n",
       "<path d=\"M 87.1,100.2 L 88.5,99.4 L 91.7,101.2\" style=\"fill:none;stroke:#000000;stroke-width:2.0px;stroke-linecap:butt;stroke-linejoin:miter;stroke-opacity:1;\"/>\n",
       "<path d=\"M 149.3,134.4 L 152.5,136.3 L 152.5,140.0\" style=\"fill:none;stroke:#000000;stroke-width:2.0px;stroke-linecap:butt;stroke-linejoin:miter;stroke-opacity:1;\"/>\n",
       "<path d=\"M 152.5,206.4 L 152.5,210.1 L 151.1,210.9\" style=\"fill:none;stroke:#000000;stroke-width:2.0px;stroke-linecap:butt;stroke-linejoin:miter;stroke-opacity:1;\"/>\n",
       "<path d=\"M 219.6,101.2 L 216.4,99.4 L 216.4,95.7\" style=\"fill:none;stroke:#000000;stroke-width:2.0px;stroke-linecap:butt;stroke-linejoin:miter;stroke-opacity:1;\"/>\n",
       "<path class=\"atom-0\" d=\"M 20.7 134.0 L 23.7 130.8 L 19.7 130.0 L 20.3 127.9 L 24.0 129.8 L 23.5 125.7 L 25.7 125.7 L 25.1 129.8 L 28.9 128.0 L 29.6 130.0 L 25.4 130.8 L 28.4 133.9 L 26.6 135.2 L 24.5 131.3 L 22.5 135.2 L 20.7 134.0 \" fill=\"#191919\"/>\n",
       "<path class=\"atom-2\" d=\"M 79.0 25.6 Q 79.0 20.6, 81.4 17.8 Q 83.9 15.0, 88.5 15.0 Q 93.2 15.0, 95.7 17.8 Q 98.1 20.6, 98.1 25.6 Q 98.1 30.7, 95.6 33.6 Q 93.1 36.5, 88.5 36.5 Q 83.9 36.5, 81.4 33.6 Q 79.0 30.7, 79.0 25.6 M 88.5 34.1 Q 91.7 34.1, 93.4 32.0 Q 95.2 29.8, 95.2 25.6 Q 95.2 21.5, 93.4 19.5 Q 91.7 17.4, 88.5 17.4 Q 85.4 17.4, 83.6 19.4 Q 81.9 21.5, 81.9 25.6 Q 81.9 29.9, 83.6 32.0 Q 85.4 34.1, 88.5 34.1 \" fill=\"#FF0000\"/>\n",
       "<path class=\"atom-5\" d=\"M 206.8 247.1 Q 206.8 242.1, 209.3 239.3 Q 211.8 236.4, 216.4 236.4 Q 221.0 236.4, 223.5 239.3 Q 226.0 242.1, 226.0 247.1 Q 226.0 252.2, 223.5 255.0 Q 221.0 257.9, 216.4 257.9 Q 211.8 257.9, 209.3 255.0 Q 206.8 252.2, 206.8 247.1 M 216.4 255.5 Q 219.6 255.5, 221.3 253.4 Q 223.0 251.3, 223.0 247.1 Q 223.0 243.0, 221.3 240.9 Q 219.6 238.8, 216.4 238.8 Q 213.2 238.8, 211.5 240.9 Q 209.8 242.9, 209.8 247.1 Q 209.8 251.3, 211.5 253.4 Q 213.2 255.5, 216.4 255.5 \" fill=\"#FF0000\"/>\n",
       "<path class=\"atom-6\" d=\"M 82.6 254.2 Q 82.9 254.3, 83.9 254.7 Q 84.8 255.1, 85.9 255.4 Q 87.0 255.6, 88.0 255.6 Q 90.0 255.6, 91.2 254.7 Q 92.3 253.7, 92.3 252.0 Q 92.3 250.9, 91.7 250.1 Q 91.2 249.4, 90.3 249.1 Q 89.4 248.7, 87.9 248.2 Q 86.1 247.7, 84.9 247.1 Q 83.9 246.6, 83.1 245.5 Q 82.3 244.4, 82.3 242.5 Q 82.3 239.8, 84.1 238.2 Q 85.9 236.6, 89.4 236.6 Q 91.8 236.6, 94.6 237.7 L 93.9 240.0 Q 91.4 239.0, 89.5 239.0 Q 87.5 239.0, 86.3 239.8 Q 85.2 240.7, 85.2 242.1 Q 85.2 243.2, 85.8 243.9 Q 86.4 244.6, 87.2 245.0 Q 88.1 245.4, 89.5 245.8 Q 91.4 246.4, 92.5 247.0 Q 93.6 247.6, 94.4 248.8 Q 95.2 250.0, 95.2 252.0 Q 95.2 254.9, 93.3 256.5 Q 91.4 258.0, 88.2 258.0 Q 86.3 258.0, 84.9 257.6 Q 83.5 257.2, 81.8 256.5 L 82.6 254.2 \" fill=\"#CCCC00\"/>\n",
       "<path class=\"atom-6\" d=\"M 78.9,247.0 L 78.9,247.1 L 78.9,247.3 L 78.8,247.4 L 78.8,247.5 L 78.8,247.6 L 78.7,247.7 L 78.6,247.9 L 78.6,248.0 L 78.5,248.0 L 78.4,248.1 L 78.3,248.2 L 78.2,248.3 L 78.1,248.3 L 77.9,248.4 L 77.8,248.4 L 77.7,248.5 L 77.6,248.5 L 77.4,248.5 L 77.3,248.5 L 77.2,248.5 L 77.1,248.5 L 76.9,248.4 L 76.8,248.4 L 76.7,248.3 L 76.6,248.3 L 76.5,248.2 L 76.4,248.1 L 76.3,248.0 L 76.2,247.9 L 76.2,247.8 L 76.1,247.7 L 76.0,247.6 L 76.0,247.5 L 76.0,247.3 L 76.0,247.2 L 75.9,247.1 L 75.9,247.0 L 76.0,246.8 L 76.0,246.7 L 76.0,246.6 L 76.0,246.5 L 76.1,246.3 L 76.2,246.2 L 76.2,246.1 L 76.3,246.0 L 76.4,245.9 L 76.5,245.9 L 76.6,245.8 L 76.7,245.7 L 76.8,245.7 L 76.9,245.6 L 77.1,245.6 L 77.2,245.6 L 77.3,245.5 L 77.4,245.5 L 77.6,245.5 L 77.7,245.6 L 77.8,245.6 L 77.9,245.6 L 78.1,245.7 L 78.2,245.7 L 78.3,245.8 L 78.4,245.9 L 78.5,246.0 L 78.6,246.1 L 78.6,246.2 L 78.7,246.3 L 78.8,246.4 L 78.8,246.5 L 78.8,246.6 L 78.9,246.8 L 78.9,246.9 L 78.9,247.0 L 77.4,247.0 Z\" style=\"fill:#000000;fill-rule:evenodd;fill-opacity:1;stroke:#000000;stroke-width:0.0px;stroke-linecap:butt;stroke-linejoin:miter;stroke-opacity:1;\"/>\n",
       "<path class=\"legend\" d=\"M 110.6 273.5 Q 113.1 273.5, 114.4 275.0 Q 115.8 276.4, 115.8 279.1 Q 115.8 281.8, 114.4 283.3 Q 113.1 284.8, 110.6 284.8 L 106.9 284.8 L 106.9 273.5 L 110.6 273.5 M 110.6 283.5 Q 112.3 283.5, 113.2 282.4 Q 114.2 281.3, 114.2 279.1 Q 114.2 276.9, 113.2 275.8 Q 112.3 274.8, 110.6 274.8 L 108.4 274.8 L 108.4 283.5 L 110.6 283.5 \" fill=\"#000000\"/>\n",
       "<path class=\"legend\" d=\"M 117.1 279.1 L 123.0 279.1 L 123.0 280.3 L 117.1 280.3 L 117.1 279.1 \" fill=\"#000000\"/>\n",
       "<path class=\"legend\" d=\"M 124.4 273.5 L 125.9 273.5 L 125.9 274.9 L 124.4 274.9 L 124.4 273.5 M 124.4 276.6 L 125.9 276.6 L 125.9 284.8 L 124.4 284.8 L 124.4 276.6 \" fill=\"#000000\"/>\n",
       "<path class=\"legend\" d=\"M 128.4 283.1 Q 129.1 283.4, 129.6 283.6 Q 130.1 283.7, 130.7 283.7 Q 131.4 283.7, 131.8 283.4 Q 132.2 283.1, 132.2 282.5 Q 132.2 282.1, 132.0 281.9 Q 131.8 281.7, 131.5 281.6 Q 131.3 281.4, 130.6 281.2 Q 130.4 281.2, 129.7 280.9 Q 129.0 280.7, 128.6 280.1 Q 128.2 279.6, 128.2 278.8 Q 128.2 277.8, 129.0 277.1 Q 129.7 276.4, 131.2 276.4 Q 131.8 276.4, 132.4 276.6 Q 132.9 276.7, 133.6 277.0 L 133.2 278.2 Q 132.6 277.9, 132.2 277.8 Q 131.7 277.7, 131.2 277.7 Q 130.5 277.7, 130.1 278.0 Q 129.7 278.3, 129.7 278.8 Q 129.7 279.2, 130.0 279.4 Q 130.3 279.6, 131.0 279.9 Q 131.2 279.9, 131.3 280.0 L 131.7 280.1 Q 132.4 280.4, 132.8 280.6 Q 133.2 280.8, 133.5 281.3 Q 133.7 281.7, 133.7 282.5 Q 133.7 283.7, 132.9 284.3 Q 132.1 285.0, 130.7 285.0 Q 129.9 285.0, 129.3 284.8 Q 128.6 284.6, 127.9 284.3 L 128.4 283.1 \" fill=\"#000000\"/>\n",
       "<path class=\"legend\" d=\"M 135.2 280.7 Q 135.2 278.7, 136.2 277.6 Q 137.3 276.4, 139.1 276.4 Q 141.0 276.4, 142.0 277.6 Q 143.0 278.7, 143.0 280.7 Q 143.0 282.7, 142.0 283.8 Q 141.0 284.9, 139.1 284.9 Q 137.3 284.9, 136.2 283.8 Q 135.2 282.7, 135.2 280.7 M 136.8 280.7 Q 136.8 282.2, 137.4 283.0 Q 138.0 283.8, 139.1 283.8 Q 140.3 283.8, 140.9 283.0 Q 141.5 282.2, 141.5 280.7 Q 141.5 279.2, 140.9 278.4 Q 140.3 277.6, 139.1 277.6 Q 138.0 277.6, 137.4 278.4 Q 136.8 279.2, 136.8 280.7 \" fill=\"#000000\"/>\n",
       "<path class=\"legend\" d=\"M 148.3 276.4 Q 150.0 276.4, 150.9 277.5 Q 151.9 278.6, 151.9 280.6 Q 151.9 282.6, 150.7 283.8 Q 149.6 284.9, 147.6 284.9 Q 146.4 284.9, 145.1 284.5 L 144.4 284.3 L 144.4 272.7 L 145.9 272.7 L 145.9 277.5 Q 146.8 276.4, 148.3 276.4 M 147.6 283.8 Q 148.9 283.8, 149.6 282.9 Q 150.3 282.1, 150.3 280.6 Q 150.3 279.1, 149.8 278.4 Q 149.2 277.6, 148.2 277.6 Q 147.3 277.6, 146.7 278.1 Q 146.1 278.5, 145.9 279.3 L 145.9 283.5 Q 146.7 283.8, 147.6 283.8 \" fill=\"#000000\"/>\n",
       "<path class=\"legend\" d=\"M 160.2 276.6 L 160.2 284.8 L 159.0 284.8 L 158.8 283.7 Q 157.8 285.0, 156.0 285.0 Q 154.7 285.0, 154.0 284.2 Q 153.2 283.5, 153.2 282.0 L 153.2 276.6 L 154.8 276.6 L 154.8 281.9 Q 154.8 282.9, 155.1 283.3 Q 155.5 283.8, 156.3 283.8 Q 157.1 283.8, 157.7 283.4 Q 158.3 283.1, 158.7 282.5 L 158.7 276.6 L 160.2 276.6 \" fill=\"#000000\"/>\n",
       "<path class=\"legend\" d=\"M 162.2 277.7 L 162.2 276.6 L 163.8 276.6 L 164.0 274.2 L 165.1 274.2 L 165.1 276.6 L 167.6 276.6 L 167.6 277.7 L 165.1 277.7 L 165.1 282.3 Q 165.1 283.7, 166.3 283.7 Q 166.8 283.7, 167.5 283.5 L 167.8 284.5 Q 166.9 284.9, 166.1 284.9 Q 165.0 284.9, 164.3 284.3 Q 163.6 283.6, 163.6 282.4 L 163.6 277.7 L 162.2 277.7 \" fill=\"#000000\"/>\n",
       "<path class=\"legend\" d=\"M 178.3 276.4 Q 179.7 276.4, 180.4 277.2 Q 181.1 277.9, 181.1 279.4 L 181.1 284.8 L 179.6 284.8 L 179.6 279.5 Q 179.6 278.5, 179.2 278.1 Q 178.9 277.6, 178.0 277.6 Q 177.3 277.6, 176.7 278.0 Q 176.1 278.3, 175.7 278.9 Q 175.7 279.1, 175.7 279.4 L 175.7 284.8 L 174.2 284.8 L 174.2 279.5 Q 174.2 278.5, 173.8 278.1 Q 173.5 277.6, 172.6 277.6 Q 171.9 277.6, 171.3 278.0 Q 170.7 278.3, 170.3 278.9 L 170.3 284.8 L 168.8 284.8 L 168.8 276.6 L 170.0 276.6 L 170.2 277.7 Q 171.3 276.4, 172.9 276.4 Q 174.9 276.4, 175.5 277.9 Q 176.6 276.4, 178.3 276.4 \" fill=\"#000000\"/>\n",
       "<path class=\"legend\" d=\"M 183.0 282.6 Q 183.0 281.3, 184.0 280.6 Q 185.1 279.8, 187.0 279.8 L 188.3 279.8 L 188.3 279.5 Q 188.3 278.5, 187.8 278.1 Q 187.4 277.6, 186.4 277.6 Q 185.7 277.6, 185.2 277.8 Q 184.7 277.9, 183.9 278.2 L 183.5 277.2 Q 185.0 276.4, 186.4 276.4 Q 188.2 276.4, 189.0 277.2 Q 189.8 277.9, 189.8 279.5 L 189.8 284.8 L 188.6 284.8 Q 188.6 284.7, 188.5 284.5 Q 188.5 284.2, 188.4 283.8 Q 187.2 285.0, 185.7 285.0 Q 184.5 285.0, 183.7 284.3 Q 183.0 283.7, 183.0 282.6 M 184.5 282.6 Q 184.5 283.2, 184.9 283.5 Q 185.3 283.8, 186.0 283.8 Q 186.6 283.8, 187.2 283.5 Q 187.8 283.2, 188.3 282.7 L 188.3 281.0 L 187.1 281.0 Q 185.8 281.0, 185.2 281.4 Q 184.5 281.8, 184.5 282.6 \" fill=\"#000000\"/>\n",
       "<path class=\"legend\" d=\"M 191.6 272.7 L 193.1 272.7 L 193.1 284.8 L 191.6 284.8 L 191.6 272.7 \" fill=\"#000000\"/>\n",
       "</svg>"
      ],
      "text/plain": [
       "<IPython.core.display.SVG object>"
      ]
     },
     "metadata": {},
     "output_type": "display_data"
    },
    {
     "data": {
      "text/plain": [
       "'*C(=O)[C@@H](C(=O)[S])C(C)C'"
      ]
     },
     "metadata": {},
     "output_type": "display_data"
    },
    {
     "data": {
      "image/svg+xml": [
       "<svg xmlns=\"http://www.w3.org/2000/svg\" xmlns:rdkit=\"http://www.rdkit.org/xml\" xmlns:xlink=\"http://www.w3.org/1999/xlink\" version=\"1.1\" baseProfile=\"full\" xml:space=\"preserve\" width=\"300px\" height=\"300px\" viewBox=\"0 0 300 300\">\n",
       "<!-- END OF HEADER -->\n",
       "<rect style=\"opacity:1.0;fill:#FFFFFF;stroke:none\" width=\"300.0\" height=\"300.0\" x=\"0.0\" y=\"0.0\"> </rect>\n",
       "<path class=\"bond-0 atom-0 atom-1\" d=\"M 20.5,120.6 L 34.7,116.8\" style=\"fill:none;fill-rule:evenodd;stroke:#191919;stroke-width:2.0px;stroke-linecap:butt;stroke-linejoin:miter;stroke-opacity:1\"/>\n",
       "<path class=\"bond-0 atom-0 atom-1\" d=\"M 34.7,116.8 L 49.0,113.1\" style=\"fill:none;fill-rule:evenodd;stroke:#000000;stroke-width:2.0px;stroke-linecap:butt;stroke-linejoin:miter;stroke-opacity:1\"/>\n",
       "<path class=\"bond-1 atom-1 atom-2\" d=\"M 51.0,115.1 L 54.7,101.5\" style=\"fill:none;fill-rule:evenodd;stroke:#000000;stroke-width:2.0px;stroke-linecap:butt;stroke-linejoin:miter;stroke-opacity:1\"/>\n",
       "<path class=\"bond-1 atom-1 atom-2\" d=\"M 54.7,101.5 L 58.4,87.9\" style=\"fill:none;fill-rule:evenodd;stroke:#FF0000;stroke-width:2.0px;stroke-linecap:butt;stroke-linejoin:miter;stroke-opacity:1\"/>\n",
       "<path class=\"bond-1 atom-1 atom-2\" d=\"M 46.2,113.8 L 49.9,100.2\" style=\"fill:none;fill-rule:evenodd;stroke:#000000;stroke-width:2.0px;stroke-linecap:butt;stroke-linejoin:miter;stroke-opacity:1\"/>\n",
       "<path class=\"bond-1 atom-1 atom-2\" d=\"M 49.9,100.2 L 53.6,86.6\" style=\"fill:none;fill-rule:evenodd;stroke:#FF0000;stroke-width:2.0px;stroke-linecap:butt;stroke-linejoin:miter;stroke-opacity:1\"/>\n",
       "<path class=\"bond-2 atom-1 atom-3\" d=\"M 49.0,113.1 L 72.1,136.4\" style=\"fill:none;fill-rule:evenodd;stroke:#000000;stroke-width:2.0px;stroke-linecap:butt;stroke-linejoin:miter;stroke-opacity:1\"/>\n",
       "<path class=\"bond-3 atom-3 atom-4\" d=\"M 72.1,136.4 L 63.5,168.1\" style=\"fill:none;fill-rule:evenodd;stroke:#000000;stroke-width:2.0px;stroke-linecap:butt;stroke-linejoin:miter;stroke-opacity:1\"/>\n",
       "<path class=\"bond-4 atom-4 atom-5\" d=\"M 64.2,165.4 L 50.3,169.0\" style=\"fill:none;fill-rule:evenodd;stroke:#000000;stroke-width:2.0px;stroke-linecap:butt;stroke-linejoin:miter;stroke-opacity:1\"/>\n",
       "<path class=\"bond-4 atom-4 atom-5\" d=\"M 50.3,169.0 L 36.4,172.7\" style=\"fill:none;fill-rule:evenodd;stroke:#FF0000;stroke-width:2.0px;stroke-linecap:butt;stroke-linejoin:miter;stroke-opacity:1\"/>\n",
       "<path class=\"bond-4 atom-4 atom-5\" d=\"M 65.5,170.1 L 51.6,173.8\" style=\"fill:none;fill-rule:evenodd;stroke:#000000;stroke-width:2.0px;stroke-linecap:butt;stroke-linejoin:miter;stroke-opacity:1\"/>\n",
       "<path class=\"bond-4 atom-4 atom-5\" d=\"M 51.6,173.8 L 37.7,177.5\" style=\"fill:none;fill-rule:evenodd;stroke:#FF0000;stroke-width:2.0px;stroke-linecap:butt;stroke-linejoin:miter;stroke-opacity:1\"/>\n",
       "<path class=\"bond-5 atom-4 atom-6\" d=\"M 63.5,168.1 L 73.0,177.7\" style=\"fill:none;fill-rule:evenodd;stroke:#000000;stroke-width:2.0px;stroke-linecap:butt;stroke-linejoin:miter;stroke-opacity:1\"/>\n",
       "<path class=\"bond-5 atom-4 atom-6\" d=\"M 73.0,177.7 L 82.5,187.4\" style=\"fill:none;fill-rule:evenodd;stroke:#CCCC00;stroke-width:2.0px;stroke-linecap:butt;stroke-linejoin:miter;stroke-opacity:1\"/>\n",
       "<path class=\"bond-6 atom-7 atom-3\" d=\"M 103.9,128.0 L 72.1,136.4\" style=\"fill:none;fill-rule:evenodd;stroke:#000000;stroke-width:2.0px;stroke-linecap:butt;stroke-linejoin:miter;stroke-opacity:1\"/>\n",
       "<path class=\"bond-7 atom-8 atom-7\" d=\"M 127.0,151.4 L 103.9,128.0\" style=\"fill:none;fill-rule:evenodd;stroke:#000000;stroke-width:2.0px;stroke-linecap:butt;stroke-linejoin:miter;stroke-opacity:1\"/>\n",
       "<path class=\"bond-8 atom-9 atom-8\" d=\"M 158.8,143.0 L 127.0,151.4\" style=\"fill:none;fill-rule:evenodd;stroke:#000000;stroke-width:2.0px;stroke-linecap:butt;stroke-linejoin:miter;stroke-opacity:1\"/>\n",
       "<path class=\"bond-9 atom-10 atom-9\" d=\"M 182.0,166.4 L 158.8,143.0\" style=\"fill:none;fill-rule:evenodd;stroke:#000000;stroke-width:2.0px;stroke-linecap:butt;stroke-linejoin:miter;stroke-opacity:1\"/>\n",
       "<path class=\"bond-10 atom-11 atom-10\" d=\"M 213.7,158.0 L 182.0,166.4\" style=\"fill:none;fill-rule:evenodd;stroke:#000000;stroke-width:2.0px;stroke-linecap:butt;stroke-linejoin:miter;stroke-opacity:1\"/>\n",
       "<path class=\"bond-11 atom-12 atom-11\" d=\"M 239.2,178.8 L 213.7,158.0\" style=\"fill:none;fill-rule:evenodd;stroke:#000000;stroke-width:2.0px;stroke-linecap:butt;stroke-linejoin:miter;stroke-opacity:1\"/>\n",
       "<path class=\"bond-11 atom-12 atom-11\" d=\"M 239.5,172.7 L 219.6,156.4\" style=\"fill:none;fill-rule:evenodd;stroke:#000000;stroke-width:2.0px;stroke-linecap:butt;stroke-linejoin:miter;stroke-opacity:1\"/>\n",
       "<path class=\"bond-12 atom-11 atom-13\" d=\"M 213.7,158.0 L 225.7,127.4\" style=\"fill:none;fill-rule:evenodd;stroke:#000000;stroke-width:2.0px;stroke-linecap:butt;stroke-linejoin:miter;stroke-opacity:1\"/>\n",
       "<path class=\"bond-13 atom-14 atom-12\" d=\"M 262.2,164.0 L 250.7,171.4\" style=\"fill:none;fill-rule:evenodd;stroke:#0000FF;stroke-width:2.0px;stroke-linecap:butt;stroke-linejoin:miter;stroke-opacity:1\"/>\n",
       "<path class=\"bond-13 atom-14 atom-12\" d=\"M 250.7,171.4 L 239.2,178.8\" style=\"fill:none;fill-rule:evenodd;stroke:#000000;stroke-width:2.0px;stroke-linecap:butt;stroke-linejoin:miter;stroke-opacity:1\"/>\n",
       "<path class=\"bond-14 atom-15 atom-13\" d=\"M 209.6,102.3 L 217.6,114.9\" style=\"fill:none;fill-rule:evenodd;stroke:#00CC00;stroke-width:2.0px;stroke-linecap:butt;stroke-linejoin:miter;stroke-opacity:1\"/>\n",
       "<path class=\"bond-14 atom-15 atom-13\" d=\"M 217.6,114.9 L 225.7,127.4\" style=\"fill:none;fill-rule:evenodd;stroke:#000000;stroke-width:2.0px;stroke-linecap:butt;stroke-linejoin:miter;stroke-opacity:1\"/>\n",
       "<path class=\"bond-15 atom-13 atom-16\" d=\"M 225.7,127.4 L 258.5,129.2\" style=\"fill:none;fill-rule:evenodd;stroke:#000000;stroke-width:2.0px;stroke-linecap:butt;stroke-linejoin:miter;stroke-opacity:1\"/>\n",
       "<path class=\"bond-15 atom-13 atom-16\" d=\"M 228.9,132.5 L 254.6,133.9\" style=\"fill:none;fill-rule:evenodd;stroke:#000000;stroke-width:2.0px;stroke-linecap:butt;stroke-linejoin:miter;stroke-opacity:1\"/>\n",
       "<path class=\"bond-16 atom-16 atom-14\" d=\"M 258.5,129.2 L 261.9,142.2\" style=\"fill:none;fill-rule:evenodd;stroke:#000000;stroke-width:2.0px;stroke-linecap:butt;stroke-linejoin:miter;stroke-opacity:1\"/>\n",
       "<path class=\"bond-16 atom-16 atom-14\" d=\"M 261.9,142.2 L 265.3,155.3\" style=\"fill:none;fill-rule:evenodd;stroke:#0000FF;stroke-width:2.0px;stroke-linecap:butt;stroke-linejoin:miter;stroke-opacity:1\"/>\n",
       "<path class=\"bond-17 atom-16 atom-17\" d=\"M 258.5,129.2 L 266.5,119.4\" style=\"fill:none;fill-rule:evenodd;stroke:#000000;stroke-width:2.0px;stroke-linecap:butt;stroke-linejoin:miter;stroke-opacity:1\"/>\n",
       "<path class=\"bond-17 atom-16 atom-17\" d=\"M 266.5,119.4 L 274.6,109.5\" style=\"fill:none;fill-rule:evenodd;stroke:#00CC00;stroke-width:2.0px;stroke-linecap:butt;stroke-linejoin:miter;stroke-opacity:1\"/>\n",
       "<path d=\"M 48.3,113.3 L 49.0,113.1 L 50.1,114.2\" style=\"fill:none;stroke:#000000;stroke-width:2.0px;stroke-linecap:butt;stroke-linejoin:miter;stroke-opacity:1;\"/>\n",
       "<path d=\"M 63.9,166.5 L 63.5,168.1 L 64.0,168.6\" style=\"fill:none;stroke:#000000;stroke-width:2.0px;stroke-linecap:butt;stroke-linejoin:miter;stroke-opacity:1;\"/>\n",
       "<path d=\"M 102.3,128.5 L 103.9,128.0 L 105.1,129.2\" style=\"fill:none;stroke:#000000;stroke-width:2.0px;stroke-linecap:butt;stroke-linejoin:miter;stroke-opacity:1;\"/>\n",
       "<path d=\"M 125.9,150.2 L 127.0,151.4 L 128.6,151.0\" style=\"fill:none;stroke:#000000;stroke-width:2.0px;stroke-linecap:butt;stroke-linejoin:miter;stroke-opacity:1;\"/>\n",
       "<path d=\"M 157.2,143.4 L 158.8,143.0 L 160.0,144.2\" style=\"fill:none;stroke:#000000;stroke-width:2.0px;stroke-linecap:butt;stroke-linejoin:miter;stroke-opacity:1;\"/>\n",
       "<path d=\"M 180.8,165.2 L 182.0,166.4 L 183.5,165.9\" style=\"fill:none;stroke:#000000;stroke-width:2.0px;stroke-linecap:butt;stroke-linejoin:miter;stroke-opacity:1;\"/>\n",
       "<path d=\"M 237.9,177.7 L 239.2,178.8 L 239.8,178.4\" style=\"fill:none;stroke:#000000;stroke-width:2.0px;stroke-linecap:butt;stroke-linejoin:miter;stroke-opacity:1;\"/>\n",
       "<path class=\"atom-0\" d=\"M 15.4 120.4 L 16.8 119.0 L 15.0 118.6 L 15.3 117.7 L 16.9 118.5 L 16.7 116.7 L 17.7 116.7 L 17.4 118.5 L 19.1 117.7 L 19.4 118.6 L 17.6 119.0 L 18.9 120.4 L 18.1 121.0 L 17.2 119.2 L 16.2 121.0 L 15.4 120.4 \" fill=\"#191919\"/>\n",
       "<path class=\"atom-2\" d=\"M 53.4 81.4 Q 53.4 79.2, 54.5 77.9 Q 55.6 76.7, 57.6 76.7 Q 59.7 76.7, 60.8 77.9 Q 61.9 79.2, 61.9 81.4 Q 61.9 83.6, 60.8 84.9 Q 59.7 86.2, 57.6 86.2 Q 55.6 86.2, 54.5 84.9 Q 53.4 83.7, 53.4 81.4 M 57.6 85.2 Q 59.0 85.2, 59.8 84.2 Q 60.6 83.3, 60.6 81.4 Q 60.6 79.6, 59.8 78.6 Q 59.0 77.7, 57.6 77.7 Q 56.2 77.7, 55.4 78.6 Q 54.7 79.5, 54.7 81.4 Q 54.7 83.3, 55.4 84.2 Q 56.2 85.2, 57.6 85.2 \" fill=\"#FF0000\"/>\n",
       "<path class=\"atom-5\" d=\"M 27.4 176.5 Q 27.4 174.3, 28.5 173.0 Q 29.6 171.8, 31.7 171.8 Q 33.8 171.8, 34.9 173.0 Q 36.0 174.3, 36.0 176.5 Q 36.0 178.8, 34.8 180.1 Q 33.7 181.3, 31.7 181.3 Q 29.6 181.3, 28.5 180.1 Q 27.4 178.8, 27.4 176.5 M 31.7 180.3 Q 33.1 180.3, 33.9 179.3 Q 34.7 178.4, 34.7 176.5 Q 34.7 174.7, 33.9 173.8 Q 33.1 172.8, 31.7 172.8 Q 30.3 172.8, 29.5 173.7 Q 28.7 174.7, 28.7 176.5 Q 28.7 178.4, 29.5 179.3 Q 30.3 180.3, 31.7 180.3 \" fill=\"#FF0000\"/>\n",
       "<path class=\"atom-6\" d=\"M 84.0 194.6 Q 84.1 194.7, 84.5 194.9 Q 85.0 195.1, 85.4 195.2 Q 85.9 195.3, 86.4 195.3 Q 87.3 195.3, 87.8 194.9 Q 88.3 194.4, 88.3 193.7 Q 88.3 193.2, 88.0 192.8 Q 87.8 192.5, 87.4 192.4 Q 87.0 192.2, 86.3 192.0 Q 85.5 191.7, 85.0 191.5 Q 84.5 191.3, 84.2 190.8 Q 83.8 190.3, 83.8 189.4 Q 83.8 188.3, 84.6 187.5 Q 85.4 186.8, 87.0 186.8 Q 88.1 186.8, 89.3 187.3 L 89.0 188.3 Q 87.9 187.9, 87.0 187.9 Q 86.1 187.9, 85.6 188.3 Q 85.1 188.6, 85.1 189.3 Q 85.1 189.8, 85.4 190.1 Q 85.7 190.4, 86.0 190.5 Q 86.4 190.7, 87.0 190.9 Q 87.9 191.2, 88.4 191.4 Q 88.9 191.7, 89.2 192.2 Q 89.6 192.8, 89.6 193.7 Q 89.6 195.0, 88.7 195.7 Q 87.9 196.3, 86.4 196.3 Q 85.6 196.3, 85.0 196.2 Q 84.4 196.0, 83.6 195.7 L 84.0 194.6 \" fill=\"#CCCC00\"/>\n",
       "<path class=\"atom-14\" d=\"M 264.8 156.3 L 267.8 161.3 Q 268.1 161.8, 268.6 162.6 Q 269.1 163.5, 269.1 163.6 L 269.1 156.3 L 270.4 156.3 L 270.4 165.7 L 269.1 165.7 L 265.8 160.3 Q 265.4 159.6, 265.0 158.9 Q 264.6 158.2, 264.5 158.0 L 264.5 165.7 L 263.3 165.7 L 263.3 156.3 L 264.8 156.3 \" fill=\"#0000FF\"/>\n",
       "<path class=\"atom-14\" d=\"M 272.2 156.3 L 273.4 156.3 L 273.4 160.3 L 278.2 160.3 L 278.2 156.3 L 279.5 156.3 L 279.5 165.7 L 278.2 165.7 L 278.2 161.4 L 273.4 161.4 L 273.4 165.7 L 272.2 165.7 L 272.2 156.3 \" fill=\"#0000FF\"/>\n",
       "<path class=\"atom-15\" d=\"M 199.1 100.0 Q 199.1 97.7, 200.2 96.5 Q 201.3 95.3, 203.4 95.3 Q 205.3 95.3, 206.3 96.6 L 205.5 97.4 Q 204.7 96.4, 203.4 96.4 Q 202.0 96.4, 201.2 97.3 Q 200.5 98.3, 200.5 100.0 Q 200.5 101.9, 201.2 102.8 Q 202.0 103.8, 203.5 103.8 Q 204.5 103.8, 205.7 103.2 L 206.1 104.1 Q 205.6 104.5, 204.9 104.6 Q 204.2 104.8, 203.3 104.8 Q 201.3 104.8, 200.2 103.6 Q 199.1 102.4, 199.1 100.0 \" fill=\"#00CC00\"/>\n",
       "<path class=\"atom-15\" d=\"M 207.3 94.7 L 208.5 94.7 L 208.5 104.7 L 207.3 104.7 L 207.3 94.7 \" fill=\"#00CC00\"/>\n",
       "<path class=\"atom-17\" d=\"M 275.7 104.1 Q 275.7 101.8, 276.7 100.6 Q 277.8 99.3, 279.9 99.3 Q 281.8 99.3, 282.8 100.7 L 282.0 101.4 Q 281.2 100.4, 279.9 100.4 Q 278.5 100.4, 277.7 101.4 Q 277.0 102.3, 277.0 104.1 Q 277.0 105.9, 277.8 106.9 Q 278.5 107.8, 280.0 107.8 Q 281.1 107.8, 282.3 107.2 L 282.6 108.2 Q 282.1 108.5, 281.4 108.7 Q 280.7 108.9, 279.9 108.9 Q 277.8 108.9, 276.7 107.6 Q 275.7 106.4, 275.7 104.1 \" fill=\"#00CC00\"/>\n",
       "<path class=\"atom-17\" d=\"M 283.8 98.8 L 285.0 98.8 L 285.0 108.8 L 283.8 108.8 L 283.8 98.8 \" fill=\"#00CC00\"/>\n",
       "<path class=\"atom-6\" d=\"M 92.2,191.5 L 92.2,191.5 L 92.2,191.6 L 92.2,191.6 L 92.2,191.7 L 92.2,191.7 L 92.1,191.8 L 92.1,191.8 L 92.1,191.9 L 92.0,191.9 L 92.0,192.0 L 92.0,192.0 L 91.9,192.0 L 91.9,192.0 L 91.8,192.1 L 91.7,192.1 L 91.7,192.1 L 91.6,192.1 L 91.6,192.1 L 91.5,192.1 L 91.5,192.1 L 91.4,192.1 L 91.4,192.1 L 91.3,192.1 L 91.3,192.0 L 91.2,192.0 L 91.2,192.0 L 91.1,191.9 L 91.1,191.9 L 91.0,191.9 L 91.0,191.8 L 91.0,191.8 L 91.0,191.7 L 90.9,191.7 L 90.9,191.6 L 90.9,191.5 L 90.9,191.5 L 90.9,191.4 L 90.9,191.4 L 90.9,191.3 L 90.9,191.3 L 91.0,191.2 L 91.0,191.2 L 91.0,191.1 L 91.0,191.1 L 91.1,191.0 L 91.1,191.0 L 91.2,190.9 L 91.2,190.9 L 91.3,190.9 L 91.3,190.9 L 91.4,190.8 L 91.4,190.8 L 91.5,190.8 L 91.5,190.8 L 91.6,190.8 L 91.6,190.8 L 91.7,190.8 L 91.7,190.8 L 91.8,190.8 L 91.9,190.9 L 91.9,190.9 L 92.0,190.9 L 92.0,191.0 L 92.0,191.0 L 92.1,191.0 L 92.1,191.1 L 92.1,191.1 L 92.2,191.2 L 92.2,191.2 L 92.2,191.3 L 92.2,191.3 L 92.2,191.4 L 92.2,191.5 L 91.6,191.5 Z\" style=\"fill:#000000;fill-rule:evenodd;fill-opacity:1;stroke:#000000;stroke-width:0.0px;stroke-linecap:butt;stroke-linejoin:miter;stroke-opacity:1;\"/>\n",
       "<path class=\"legend\" d=\"M 139.7 273.5 Q 142.3 273.5, 143.6 275.0 Q 144.9 276.5, 144.9 279.2 Q 144.9 281.8, 143.6 283.4 Q 142.2 284.9, 139.7 284.9 L 136.1 284.9 L 136.1 273.5 L 139.7 273.5 M 139.7 283.6 Q 141.5 283.6, 142.4 282.5 Q 143.3 281.4, 143.3 279.2 Q 143.3 277.0, 142.4 275.9 Q 141.5 274.8, 139.7 274.8 L 137.6 274.8 L 137.6 283.6 L 139.7 283.6 \" fill=\"#000000\"/>\n",
       "<path class=\"legend\" d=\"M 146.5 279.2 Q 146.5 276.4, 147.8 274.9 Q 149.1 273.4, 151.6 273.4 Q 154.0 273.4, 155.2 275.0 L 154.2 275.9 Q 153.3 274.7, 151.6 274.7 Q 149.9 274.7, 149.0 275.9 Q 148.1 277.0, 148.1 279.2 Q 148.1 281.4, 149.0 282.6 Q 150.0 283.7, 151.8 283.7 Q 153.1 283.7, 154.5 283.0 L 155.0 284.2 Q 154.4 284.6, 153.5 284.8 Q 152.6 285.0, 151.6 285.0 Q 149.1 285.0, 147.8 283.5 Q 146.5 282.0, 146.5 279.2 \" fill=\"#000000\"/>\n",
       "<path class=\"legend\" d=\"M 160.0 273.5 Q 162.0 273.5, 162.9 274.4 Q 163.9 275.3, 163.9 276.9 Q 163.9 278.4, 162.9 279.3 Q 161.9 280.2, 160.0 280.2 L 158.2 280.2 L 158.2 284.9 L 156.7 284.9 L 156.7 273.5 L 160.0 273.5 M 160.0 278.9 Q 161.1 278.9, 161.7 278.4 Q 162.3 277.9, 162.3 276.9 Q 162.3 275.8, 161.7 275.3 Q 161.2 274.8, 160.0 274.8 L 158.2 274.8 L 158.2 278.9 L 160.0 278.9 \" fill=\"#000000\"/>\n",
       "</svg>"
      ],
      "text/plain": [
       "<IPython.core.display.SVG object>"
      ]
     },
     "metadata": {},
     "output_type": "display_data"
    },
    {
     "data": {
      "text/plain": [
       "'*C(=O)C(CCCCc1c[nH]c(Cl)c1Cl)C(=O)[S]'"
      ]
     },
     "metadata": {},
     "output_type": "display_data"
    },
    {
     "data": {
      "image/svg+xml": [
       "<svg xmlns=\"http://www.w3.org/2000/svg\" xmlns:rdkit=\"http://www.rdkit.org/xml\" xmlns:xlink=\"http://www.w3.org/1999/xlink\" version=\"1.1\" baseProfile=\"full\" xml:space=\"preserve\" width=\"300px\" height=\"300px\" viewBox=\"0 0 300 300\">\n",
       "<!-- END OF HEADER -->\n",
       "<rect style=\"opacity:1.0;fill:#FFFFFF;stroke:none\" width=\"300.0\" height=\"300.0\" x=\"0.0\" y=\"0.0\"> </rect>\n",
       "<path class=\"bond-0 atom-0 atom-1\" d=\"M 21.5,130.7 L 36.8,123.0\" style=\"fill:none;fill-rule:evenodd;stroke:#191919;stroke-width:2.0px;stroke-linecap:butt;stroke-linejoin:miter;stroke-opacity:1\"/>\n",
       "<path class=\"bond-0 atom-0 atom-1\" d=\"M 36.8,123.0 L 52.1,115.3\" style=\"fill:none;fill-rule:evenodd;stroke:#000000;stroke-width:2.0px;stroke-linecap:butt;stroke-linejoin:miter;stroke-opacity:1\"/>\n",
       "<path class=\"bond-1 atom-1 atom-2\" d=\"M 54.9,117.1 L 55.8,100.4\" style=\"fill:none;fill-rule:evenodd;stroke:#000000;stroke-width:2.0px;stroke-linecap:butt;stroke-linejoin:miter;stroke-opacity:1\"/>\n",
       "<path class=\"bond-1 atom-1 atom-2\" d=\"M 55.8,100.4 L 56.7,83.8\" style=\"fill:none;fill-rule:evenodd;stroke:#FF0000;stroke-width:2.0px;stroke-linecap:butt;stroke-linejoin:miter;stroke-opacity:1\"/>\n",
       "<path class=\"bond-1 atom-1 atom-2\" d=\"M 49.1,116.8 L 50.0,100.1\" style=\"fill:none;fill-rule:evenodd;stroke:#000000;stroke-width:2.0px;stroke-linecap:butt;stroke-linejoin:miter;stroke-opacity:1\"/>\n",
       "<path class=\"bond-1 atom-1 atom-2\" d=\"M 50.0,100.1 L 51.0,83.5\" style=\"fill:none;fill-rule:evenodd;stroke:#FF0000;stroke-width:2.0px;stroke-linecap:butt;stroke-linejoin:miter;stroke-opacity:1\"/>\n",
       "<path class=\"bond-2 atom-1 atom-3\" d=\"M 52.1,115.3 L 84.4,136.4\" style=\"fill:none;fill-rule:evenodd;stroke:#000000;stroke-width:2.0px;stroke-linecap:butt;stroke-linejoin:miter;stroke-opacity:1\"/>\n",
       "<path class=\"bond-3 atom-3 atom-4\" d=\"M 84.4,136.4 L 82.3,175.0\" style=\"fill:none;fill-rule:evenodd;stroke:#000000;stroke-width:2.0px;stroke-linecap:butt;stroke-linejoin:miter;stroke-opacity:1\"/>\n",
       "<path class=\"bond-4 atom-4 atom-5\" d=\"M 79.3,176.5 L 93.0,185.5\" style=\"fill:none;fill-rule:evenodd;stroke:#000000;stroke-width:2.0px;stroke-linecap:butt;stroke-linejoin:miter;stroke-opacity:1\"/>\n",
       "<path class=\"bond-4 atom-4 atom-5\" d=\"M 93.0,185.5 L 106.8,194.5\" style=\"fill:none;fill-rule:evenodd;stroke:#FF0000;stroke-width:2.0px;stroke-linecap:butt;stroke-linejoin:miter;stroke-opacity:1\"/>\n",
       "<path class=\"bond-4 atom-4 atom-5\" d=\"M 82.5,171.7 L 96.2,180.6\" style=\"fill:none;fill-rule:evenodd;stroke:#000000;stroke-width:2.0px;stroke-linecap:butt;stroke-linejoin:miter;stroke-opacity:1\"/>\n",
       "<path class=\"bond-4 atom-4 atom-5\" d=\"M 96.2,180.6 L 109.9,189.6\" style=\"fill:none;fill-rule:evenodd;stroke:#FF0000;stroke-width:2.0px;stroke-linecap:butt;stroke-linejoin:miter;stroke-opacity:1\"/>\n",
       "<path class=\"bond-5 atom-4 atom-6\" d=\"M 82.3,175.0 L 67.4,182.5\" style=\"fill:none;fill-rule:evenodd;stroke:#000000;stroke-width:2.0px;stroke-linecap:butt;stroke-linejoin:miter;stroke-opacity:1\"/>\n",
       "<path class=\"bond-5 atom-4 atom-6\" d=\"M 67.4,182.5 L 52.6,190.0\" style=\"fill:none;fill-rule:evenodd;stroke:#CCCC00;stroke-width:2.0px;stroke-linecap:butt;stroke-linejoin:miter;stroke-opacity:1\"/>\n",
       "<path class=\"bond-6 atom-3 atom-7\" d=\"M 87.7,135.1 L 87.4,134.6\" style=\"fill:none;fill-rule:evenodd;stroke:#000000;stroke-width:1.0px;stroke-linecap:butt;stroke-linejoin:miter;stroke-opacity:1\"/>\n",
       "<path class=\"bond-6 atom-3 atom-7\" d=\"M 91.0,133.8 L 90.5,132.7\" style=\"fill:none;fill-rule:evenodd;stroke:#000000;stroke-width:1.0px;stroke-linecap:butt;stroke-linejoin:miter;stroke-opacity:1\"/>\n",
       "<path class=\"bond-6 atom-3 atom-7\" d=\"M 94.2,132.4 L 93.5,130.9\" style=\"fill:none;fill-rule:evenodd;stroke:#000000;stroke-width:1.0px;stroke-linecap:butt;stroke-linejoin:miter;stroke-opacity:1\"/>\n",
       "<path class=\"bond-6 atom-3 atom-7\" d=\"M 97.5,131.1 L 96.5,129.0\" style=\"fill:none;fill-rule:evenodd;stroke:#000000;stroke-width:1.0px;stroke-linecap:butt;stroke-linejoin:miter;stroke-opacity:1\"/>\n",
       "<path class=\"bond-6 atom-3 atom-7\" d=\"M 100.8,129.8 L 99.5,127.2\" style=\"fill:none;fill-rule:evenodd;stroke:#000000;stroke-width:1.0px;stroke-linecap:butt;stroke-linejoin:miter;stroke-opacity:1\"/>\n",
       "<path class=\"bond-6 atom-3 atom-7\" d=\"M 104.0,128.5 L 102.5,125.4\" style=\"fill:none;fill-rule:evenodd;stroke:#000000;stroke-width:1.0px;stroke-linecap:butt;stroke-linejoin:miter;stroke-opacity:1\"/>\n",
       "<path class=\"bond-6 atom-3 atom-7\" d=\"M 107.3,127.1 L 105.5,123.5\" style=\"fill:none;fill-rule:evenodd;stroke:#000000;stroke-width:1.0px;stroke-linecap:butt;stroke-linejoin:miter;stroke-opacity:1\"/>\n",
       "<path class=\"bond-6 atom-3 atom-7\" d=\"M 110.6,125.8 L 108.5,121.7\" style=\"fill:none;fill-rule:evenodd;stroke:#000000;stroke-width:1.0px;stroke-linecap:butt;stroke-linejoin:miter;stroke-opacity:1\"/>\n",
       "<path class=\"bond-6 atom-3 atom-7\" d=\"M 113.8,124.5 L 111.5,119.8\" style=\"fill:none;fill-rule:evenodd;stroke:#000000;stroke-width:1.0px;stroke-linecap:butt;stroke-linejoin:miter;stroke-opacity:1\"/>\n",
       "<path class=\"bond-6 atom-3 atom-7\" d=\"M 117.1,123.2 L 114.5,118.0\" style=\"fill:none;fill-rule:evenodd;stroke:#000000;stroke-width:1.0px;stroke-linecap:butt;stroke-linejoin:miter;stroke-opacity:1\"/>\n",
       "<path class=\"bond-7 atom-8 atom-7\" d=\"M 151.3,140.1 L 118.9,119.0\" style=\"fill:none;fill-rule:evenodd;stroke:#000000;stroke-width:2.0px;stroke-linecap:butt;stroke-linejoin:miter;stroke-opacity:1\"/>\n",
       "<path class=\"bond-8 atom-9 atom-8\" d=\"M 185.8,122.7 L 151.3,140.1\" style=\"fill:none;fill-rule:evenodd;stroke:#000000;stroke-width:2.0px;stroke-linecap:butt;stroke-linejoin:miter;stroke-opacity:1\"/>\n",
       "<path class=\"bond-9 atom-10 atom-9\" d=\"M 218.1,143.9 L 185.8,122.7\" style=\"fill:none;fill-rule:evenodd;stroke:#000000;stroke-width:2.0px;stroke-linecap:butt;stroke-linejoin:miter;stroke-opacity:1\"/>\n",
       "<path class=\"bond-10 atom-11 atom-10\" d=\"M 252.6,126.4 L 218.1,143.9\" style=\"fill:none;fill-rule:evenodd;stroke:#000000;stroke-width:2.0px;stroke-linecap:butt;stroke-linejoin:miter;stroke-opacity:1\"/>\n",
       "<path class=\"bond-11 atom-12 atom-11\" d=\"M 285.0,147.6 L 252.6,126.4\" style=\"fill:none;fill-rule:evenodd;stroke:#000000;stroke-width:2.0px;stroke-linecap:butt;stroke-linejoin:miter;stroke-opacity:1\"/>\n",
       "<path d=\"M 51.3,115.6 L 52.1,115.3 L 53.7,116.3\" style=\"fill:none;stroke:#000000;stroke-width:2.0px;stroke-linecap:butt;stroke-linejoin:miter;stroke-opacity:1;\"/>\n",
       "<path d=\"M 82.8,135.4 L 84.4,136.4 L 84.3,138.3\" style=\"fill:none;stroke:#000000;stroke-width:2.0px;stroke-linecap:butt;stroke-linejoin:miter;stroke-opacity:1;\"/>\n",
       "<path d=\"M 82.4,173.1 L 82.3,175.0 L 81.5,175.4\" style=\"fill:none;stroke:#000000;stroke-width:2.0px;stroke-linecap:butt;stroke-linejoin:miter;stroke-opacity:1;\"/>\n",
       "<path d=\"M 149.7,139.1 L 151.3,140.1 L 153.0,139.3\" style=\"fill:none;stroke:#000000;stroke-width:2.0px;stroke-linecap:butt;stroke-linejoin:miter;stroke-opacity:1;\"/>\n",
       "<path d=\"M 184.1,123.6 L 185.8,122.7 L 187.4,123.8\" style=\"fill:none;stroke:#000000;stroke-width:2.0px;stroke-linecap:butt;stroke-linejoin:miter;stroke-opacity:1;\"/>\n",
       "<path d=\"M 216.5,142.8 L 218.1,143.9 L 219.9,143.0\" style=\"fill:none;stroke:#000000;stroke-width:2.0px;stroke-linecap:butt;stroke-linejoin:miter;stroke-opacity:1;\"/>\n",
       "<path d=\"M 250.9,127.3 L 252.6,126.4 L 254.3,127.5\" style=\"fill:none;stroke:#000000;stroke-width:2.0px;stroke-linecap:butt;stroke-linejoin:miter;stroke-opacity:1;\"/>\n",
       "<path class=\"atom-0\" d=\"M 15.5 131.5 L 17.1 129.8 L 15.0 129.4 L 15.3 128.3 L 17.3 129.3 L 17.0 127.1 L 18.2 127.1 L 17.8 129.3 L 19.8 128.3 L 20.2 129.4 L 18.0 129.8 L 19.6 131.5 L 18.6 132.1 L 17.6 130.1 L 16.5 132.1 L 15.5 131.5 \" fill=\"#191919\"/>\n",
       "<path class=\"atom-2\" d=\"M 49.2 76.7 Q 49.2 74.1, 50.5 72.6 Q 51.8 71.1, 54.2 71.1 Q 56.7 71.1, 58.0 72.6 Q 59.3 74.1, 59.3 76.7 Q 59.3 79.3, 58.0 80.9 Q 56.6 82.4, 54.2 82.4 Q 51.8 82.4, 50.5 80.9 Q 49.2 79.4, 49.2 76.7 M 54.2 81.1 Q 55.9 81.1, 56.8 80.0 Q 57.7 78.9, 57.7 76.7 Q 57.7 74.5, 56.8 73.5 Q 55.9 72.4, 54.2 72.4 Q 52.6 72.4, 51.7 73.4 Q 50.8 74.5, 50.8 76.7 Q 50.8 78.9, 51.7 80.0 Q 52.6 81.1, 54.2 81.1 \" fill=\"#FF0000\"/>\n",
       "<path class=\"atom-5\" d=\"M 109.6 196.2 Q 109.6 193.6, 110.9 192.1 Q 112.2 190.6, 114.6 190.6 Q 117.1 190.6, 118.4 192.1 Q 119.7 193.6, 119.7 196.2 Q 119.7 198.9, 118.4 200.4 Q 117.0 201.9, 114.6 201.9 Q 112.2 201.9, 110.9 200.4 Q 109.6 198.9, 109.6 196.2 M 114.6 200.6 Q 116.3 200.6, 117.2 199.5 Q 118.1 198.4, 118.1 196.2 Q 118.1 194.1, 117.2 193.0 Q 116.3 191.9, 114.6 191.9 Q 113.0 191.9, 112.1 193.0 Q 111.2 194.0, 111.2 196.2 Q 111.2 198.4, 112.1 199.5 Q 113.0 200.6, 114.6 200.6 \" fill=\"#FF0000\"/>\n",
       "<path class=\"atom-6\" d=\"M 44.7 196.2 Q 44.8 196.3, 45.3 196.5 Q 45.8 196.7, 46.4 196.8 Q 47.0 196.9, 47.5 196.9 Q 48.6 196.9, 49.2 196.5 Q 49.8 195.9, 49.8 195.1 Q 49.8 194.5, 49.5 194.1 Q 49.2 193.7, 48.7 193.5 Q 48.2 193.3, 47.5 193.1 Q 46.5 192.8, 45.9 192.5 Q 45.3 192.2, 44.9 191.6 Q 44.5 191.1, 44.5 190.1 Q 44.5 188.7, 45.4 187.8 Q 46.4 187.0, 48.2 187.0 Q 49.5 187.0, 50.9 187.6 L 50.6 188.8 Q 49.3 188.2, 48.3 188.2 Q 47.2 188.2, 46.6 188.7 Q 46.0 189.1, 46.1 189.9 Q 46.1 190.5, 46.4 190.8 Q 46.7 191.2, 47.1 191.4 Q 47.5 191.6, 48.3 191.8 Q 49.3 192.1, 49.9 192.4 Q 50.4 192.7, 50.9 193.4 Q 51.3 194.0, 51.3 195.1 Q 51.3 196.6, 50.3 197.4 Q 49.3 198.2, 47.6 198.2 Q 46.6 198.2, 45.9 198.0 Q 45.1 197.8, 44.3 197.4 L 44.7 196.2 \" fill=\"#CCCC00\"/>\n",
       "<path class=\"atom-6\" d=\"M 42.7,192.4 L 42.7,192.5 L 42.7,192.6 L 42.7,192.6 L 42.7,192.7 L 42.7,192.8 L 42.6,192.8 L 42.6,192.9 L 42.6,192.9 L 42.5,193.0 L 42.5,193.0 L 42.4,193.1 L 42.4,193.1 L 42.3,193.1 L 42.2,193.2 L 42.2,193.2 L 42.1,193.2 L 42.0,193.2 L 42.0,193.2 L 41.9,193.2 L 41.8,193.2 L 41.8,193.2 L 41.7,193.2 L 41.7,193.2 L 41.6,193.1 L 41.5,193.1 L 41.5,193.1 L 41.4,193.0 L 41.4,193.0 L 41.3,192.9 L 41.3,192.9 L 41.3,192.8 L 41.2,192.7 L 41.2,192.7 L 41.2,192.6 L 41.2,192.5 L 41.2,192.5 L 41.2,192.4 L 41.2,192.3 L 41.2,192.3 L 41.2,192.2 L 41.2,192.2 L 41.3,192.1 L 41.3,192.0 L 41.3,192.0 L 41.4,191.9 L 41.4,191.9 L 41.5,191.8 L 41.5,191.8 L 41.6,191.8 L 41.7,191.7 L 41.7,191.7 L 41.8,191.7 L 41.8,191.7 L 41.9,191.7 L 42.0,191.7 L 42.0,191.7 L 42.1,191.7 L 42.2,191.7 L 42.2,191.7 L 42.3,191.8 L 42.4,191.8 L 42.4,191.8 L 42.5,191.9 L 42.5,191.9 L 42.6,192.0 L 42.6,192.0 L 42.6,192.1 L 42.7,192.1 L 42.7,192.2 L 42.7,192.3 L 42.7,192.3 L 42.7,192.4 L 42.7,192.4 L 42.0,192.4 Z\" style=\"fill:#000000;fill-rule:evenodd;fill-opacity:1;stroke:#000000;stroke-width:0.0px;stroke-linecap:butt;stroke-linejoin:miter;stroke-opacity:1;\"/>\n",
       "<path class=\"legend\" d=\"M 129.0 276.4 Q 130.3 276.4, 131.0 277.2 Q 131.7 277.9, 131.7 279.4 L 131.7 284.8 L 130.2 284.8 L 130.2 279.5 Q 130.2 278.5, 129.8 278.1 Q 129.5 277.6, 128.6 277.6 Q 127.9 277.6, 127.2 278.0 Q 126.6 278.3, 126.2 278.9 L 126.2 284.8 L 124.7 284.8 L 124.7 272.7 L 126.2 272.7 L 126.2 277.6 Q 127.3 276.4, 129.0 276.4 \" fill=\"#000000\"/>\n",
       "<path class=\"legend\" d=\"M 133.6 280.7 Q 133.6 278.7, 134.7 277.6 Q 135.7 276.4, 137.5 276.4 Q 139.3 276.4, 140.1 277.5 Q 140.9 278.6, 140.9 280.6 L 140.9 280.9 L 135.2 280.9 Q 135.2 282.3, 135.8 283.0 Q 136.5 283.8, 137.6 283.8 Q 138.3 283.8, 138.9 283.6 Q 139.5 283.4, 140.2 283.1 L 140.6 284.2 Q 139.8 284.6, 139.1 284.8 Q 138.3 284.9, 137.6 284.9 Q 135.7 284.9, 134.7 283.8 Q 133.6 282.7, 133.6 280.7 M 137.5 277.6 Q 136.6 277.6, 136.0 278.2 Q 135.4 278.7, 135.2 279.8 L 139.3 279.8 Q 139.2 278.7, 138.8 278.2 Q 138.3 277.6, 137.5 277.6 \" fill=\"#000000\"/>\n",
       "<path class=\"legend\" d=\"M 145.2 280.6 L 142.5 276.6 L 144.2 276.6 L 146.2 279.4 L 148.1 276.6 L 149.8 276.6 L 147.0 280.5 L 150.0 284.8 L 148.2 284.8 L 146.1 281.7 L 143.9 284.8 L 142.2 284.8 L 145.2 280.6 \" fill=\"#000000\"/>\n",
       "<path class=\"legend\" d=\"M 160.4 276.4 Q 161.8 276.4, 162.5 277.2 Q 163.2 277.9, 163.2 279.4 L 163.2 284.8 L 161.7 284.8 L 161.7 279.5 Q 161.7 278.5, 161.3 278.1 Q 160.9 277.6, 160.1 277.6 Q 159.4 277.6, 158.7 278.0 Q 158.1 278.3, 157.8 278.9 Q 157.8 279.1, 157.8 279.4 L 157.8 284.8 L 156.3 284.8 L 156.3 279.5 Q 156.3 278.5, 155.9 278.1 Q 155.5 277.6, 154.7 277.6 Q 154.0 277.6, 153.4 278.0 Q 152.7 278.3, 152.4 278.9 L 152.4 284.8 L 150.9 284.8 L 150.9 276.6 L 152.1 276.6 L 152.3 277.7 Q 153.3 276.4, 155.0 276.4 Q 156.9 276.4, 157.5 277.9 Q 158.6 276.4, 160.4 276.4 \" fill=\"#000000\"/>\n",
       "<path class=\"legend\" d=\"M 165.1 282.6 Q 165.1 281.3, 166.2 280.6 Q 167.2 279.8, 169.2 279.8 L 170.4 279.8 L 170.4 279.5 Q 170.4 278.5, 169.9 278.1 Q 169.5 277.6, 168.5 277.6 Q 167.8 277.6, 167.3 277.8 Q 166.8 277.9, 166.0 278.2 L 165.6 277.2 Q 167.1 276.4, 168.5 276.4 Q 170.3 276.4, 171.1 277.2 Q 171.9 277.9, 171.9 279.5 L 171.9 284.8 L 170.7 284.8 Q 170.7 284.7, 170.6 284.5 Q 170.6 284.2, 170.5 283.8 Q 169.3 285.0, 167.8 285.0 Q 166.6 285.0, 165.8 284.3 Q 165.1 283.7, 165.1 282.6 M 166.6 282.6 Q 166.6 283.2, 167.0 283.5 Q 167.4 283.8, 168.1 283.8 Q 168.7 283.8, 169.3 283.5 Q 170.0 283.2, 170.4 282.7 L 170.4 281.0 L 169.2 281.0 Q 167.9 281.0, 167.3 281.4 Q 166.6 281.8, 166.6 282.6 \" fill=\"#000000\"/>\n",
       "<path class=\"legend\" d=\"M 173.8 272.7 L 175.3 272.7 L 175.3 284.8 L 173.8 284.8 L 173.8 272.7 \" fill=\"#000000\"/>\n",
       "</svg>"
      ],
      "text/plain": [
       "<IPython.core.display.SVG object>"
      ]
     },
     "metadata": {},
     "output_type": "display_data"
    },
    {
     "data": {
      "text/plain": [
       "'*C(=O)[C@H](CCCCCC)C(=O)[S]'"
      ]
     },
     "metadata": {},
     "output_type": "display_data"
    }
   ],
   "source": [
    "# plot all structures\n",
    "for name, mol in extenders.items():\n",
    "    plotMol(mol, name, 300)\n",
    "    display(Chem.MolToSmiles(mol, isomericSmiles=True))"
   ]
  },
  {
   "cell_type": "markdown",
   "metadata": {},
   "source": [
    "# Define objects for representing PKSs"
   ]
  },
  {
   "cell_type": "code",
   "execution_count": null,
   "metadata": {
    "ExecuteTime": {
     "end_time": "2025-03-25T17:02:14.866244Z",
     "start_time": "2025-03-25T17:02:14.816860Z"
    }
   },
   "outputs": [],
   "source": [
    "class Cluster:\n",
    "    # Class representing a PKS design, which is just a list of modules\n",
    "\n",
    "    def __init__(self, modules=None):\n",
    "        if modules:\n",
    "            self.modules = modules\n",
    "        else:\n",
    "            self.modules = []\n",
    "            \n",
    "    def computeProduct(self, structureDB, chain=False):\n",
    "        '''\n",
    "        This function computes the chemical product of this PKS design.\n",
    "        If a mol object is passed as 'chain' only the final module operation is performed\n",
    "        on this chain, and returned. This final module feature is to accelerate retrobiosynthesis.\n",
    "        '''\n",
    "        if chain:\n",
    "            prod = chain\n",
    "            modulesToExecute = [self.modules[-1]] # last module only\n",
    "        else:\n",
    "            prod = False\n",
    "            modulesToExecute = self.modules\n",
    "            \n",
    "        for module in modulesToExecute:\n",
    "            if TE in module.domains:\n",
    "                return module.domains[TE].operation(prod)\n",
    "            \n",
    "            if prod:\n",
    "                moduleStructure = structureDB[module]\n",
    "                \n",
    "                # perform condensation if this isn't in the starter\n",
    "                rxn = AllChem.ReactionFromSmarts(('[#6:10][C:1](=[O:2])[S:3].'\n",
    "                                 '[*:4][C:5]~[C:6]>>'\n",
    "                                 '[#6:10][C:5]~[C:6]'\n",
    "                                 '.[*:4].[C:1](=[O:2])[S:3]'))\n",
    "                \n",
    "                prod = rxn.RunReactants((prod, moduleStructure))[0][0]\n",
    "                Chem.SanitizeMol(prod)\n",
    "                \n",
    "            else: # starter module\n",
    "                # rxn = AllChem.ReactionFromSmarts(\n",
    "                #    # KSQ operation - this reaction removes the * and replaces it with C\n",
    "                #    '[#0:1][C:2][C:3][C:4](=[O:5])-[S:6]'\n",
    "                #    '>>'\n",
    "                #    '[C:3][C:4](=[O:5])-[S:6].[#0:1][C:2]')\n",
    "                # assert len(moduleStructure.GetSubstructMatches(Chem.MolFromSmiles('CC(=O)S'),\n",
    "                #     useChirality=True)) == 1, Chem.MolToSmiles(moduleStructure)\n",
    "                # prod = rxn.RunReactants([moduleStructure])[0][0]\n",
    "                # prod = moduleStructure\n",
    "                prod = starters[module.domains[AT].substrate]\n",
    "                \n",
    "        return prod\n",
    "        \n",
    "class Module:\n",
    "    # Class representing a PKS module\n",
    "    # self.domains is an OrderedDict where keys are domain classes, \n",
    "    # and values are domain objects\n",
    "    \n",
    "    def __init__(self, product='', iterations=1, domains=None, loading=False):\n",
    "        self.product = product\n",
    "        self.iterations = iterations\n",
    "        self.loading = loading\n",
    "        if domains:\n",
    "            self.domains = domains\n",
    "        else:\n",
    "            self.domains = OrderedDict()\n",
    "    \n",
    "    @staticmethod\n",
    "    def domainTypes():\n",
    "        '''\n",
    "        Returns all domain types that can occur in this PKS in the catalytic order\n",
    "        in which they operate.\n",
    "        '''\n",
    "        # return Domain.__subclasses__()\n",
    "        return [AT, KR, DH, ER, TE]\n",
    "    \n",
    "    def computeProduct(self):\n",
    "        '''\n",
    "        computes the chemical product of this module\n",
    "        '''\n",
    "        chain = False\n",
    "        for domaintype, domain in self.domains.items():\n",
    "            chain = domain.operation(chain)\n",
    "            \n",
    "        return chain\n",
    "    \n",
    "    def __repr__(self):\n",
    "        return repr([cls.__name__ + repr(domain) for cls, domain in self.domains.items()] + ['loading: ' + repr(self.loading)])\n",
    "    \n",
    "    def __hash__(self):\n",
    "        # produce a unique hash key for each domain configuration\n",
    "        return hash(tuple(self.domains.values()) + (self.loading,))\n",
    "\n",
    "    def __eq__(self, other):\n",
    "        if isinstance(other, type(self)):\n",
    "            return hash(self) == hash(other)\n",
    "        else:\n",
    "            return False\n",
    "\n",
    "    def __ne__(self, other):\n",
    "        return (not self.__eq__(other))  \n",
    "        \n",
    "class Domain:\n",
    "    # Abstract base class used to build PKS catalytic domains\n",
    "\n",
    "    def __init__(self, active):\n",
    "        '''\n",
    "        Initiates a new domain with a design as reported by designSpace\n",
    "        '''\n",
    "        \n",
    "        self.active = active\n",
    "        \n",
    "    def design(self):\n",
    "        '''\n",
    "        Reports the design of this object\n",
    "        '''\n",
    "        \n",
    "        return vars(self)\n",
    "    \n",
    "    @classmethod\n",
    "    def designSpace(cls, module=False):\n",
    "        '''\n",
    "        Returns a set of objects representing the full design space\n",
    "        of this domain.\n",
    "        Can optionally take a PKS module to report only the compatible\n",
    "        configurations of this domain with that design. Domains of this type\n",
    "        in the design are ignored. If incompatible domains are included in the\n",
    "        design, it just returns an empty list.\n",
    "        '''\n",
    "        \n",
    "        raise NotImplementedError\n",
    "        \n",
    "    def operation(self, chain):\n",
    "        '''\n",
    "        Executes this domains operation on top of an existing PKS chain as an\n",
    "        RDKit mol object, and returns\n",
    "        the chemical product, as well as a cobrapy reacton representing the\n",
    "        stoichiometry.\n",
    "        '''\n",
    "        \n",
    "        raise NotImplementedError        \n",
    "        \n",
    "    def reactants(self):\n",
    "        '''\n",
    "        Returns all reactants of this domain, excluding the substrate (polyketide chain).\n",
    "        The format is a list of Cobrapy metabolites.\n",
    "        '''\n",
    "        \n",
    "        raise NotImplementedError        \n",
    "        \n",
    "    def products(self):\n",
    "        '''\n",
    "        Returns all products of this domain, excluding the polyketide chain.\n",
    "        The format is a list of Cobrapy metabolites.\n",
    "        '''\n",
    "        \n",
    "        raise NotImplementedError   \n",
    "\n",
    "    def __repr__(self):\n",
    "        '''\n",
    "        Returns a string representing this domain type for text based storage of\n",
    "        PKS designs, or reporting to the user.\n",
    "        Only prints activity if active=False to keep things concise.\n",
    "        '''\n",
    "        if self.active:\n",
    "            designCopy = copy(self.design())\n",
    "            del designCopy['active']\n",
    "            return(repr(designCopy))\n",
    "        else:\n",
    "            return(repr(self.design()))\n",
    "        \n",
    "    def __hash__(self):\n",
    "        # produce a unique hash key for each domain configuration\n",
    "        return hash(dumps(self.design(), sort_keys=True))\n",
    "\n",
    "    def __eq__(self, other):\n",
    "        if isinstance(other, type(self)):\n",
    "            return hash(self) == hash(other)\n",
    "        else:\n",
    "            return False\n",
    "\n",
    "    def __ne__(self, other):\n",
    "        return (not self.__eq__(other))    \n",
    "        \n",
    "class AT(Domain):\n",
    "    \n",
    "    def __init__(self, active, substrate):\n",
    "        '''\n",
    "        Initiates a new domain with a design as reported by designSpace\n",
    "        '''\n",
    "        self.active = active\n",
    "        self.substrate = substrate\n",
    "    \n",
    "    @classmethod\n",
    "    def designSpace(cls, module=False):\n",
    "        if module:\n",
    "            if module.loading:\n",
    "                return [cls(active=True, substrate=s) for s in starters.keys()]\n",
    "        \n",
    "        # return only extension ATs unless passed a loading module for context\n",
    "        return [cls(active=True, substrate=s) for s in extenders.keys()]\n",
    "        \n",
    "    def operation(self, chain, loading=False):\n",
    "        if not chain:\n",
    "            if loading:\n",
    "                return starters[self.substrate]\n",
    "            else:\n",
    "                return extenders[self.substrate]\n",
    "        else:\n",
    "            # ATs here don't perform condensation, so need to operate first\n",
    "            # the condensation is performed afterwards\n",
    "            raise NotImplementedError\n",
    "        \n",
    "    def reactants(self):\n",
    "        '''\n",
    "        Returns all reactants of this domain, excluding the substrate (polyketide chain).\n",
    "        The format is a list of Cobrapy metabolites.\n",
    "        '''\n",
    "        \n",
    "        if self.substrate == 'Malonyl-CoA':\n",
    "            substratecobrapy = cobra.Metabolite('malcoa_c', compartment='c')\n",
    "        elif self.substrate == 'Methylmalonyl-CoA':\n",
    "            substratecobrapy = cobra.Metabolite('mmcoa__S_c', compartment='c')\n",
    "        else:\n",
    "            substratecobrapy = cobra.Metabolite(self.substrate + '_c', compartment='c')\n",
    "            \n",
    "        return [\n",
    "            cobra.Metabolite('h_c', compartment='c'),\n",
    "            substratecobrapy\n",
    "        ]      \n",
    "        \n",
    "    def products(self):\n",
    "        '''\n",
    "        Returns all products of this domain, excluding the polyketide chain.\n",
    "        The format is a list of Cobrapy metabolites.\n",
    "        '''\n",
    "        \n",
    "        return [\n",
    "            cobra.Metabolite('coa_c', compartment='c'),\n",
    "            cobra.Metabolite('co2_c', compartment='c')\n",
    "        ]\n",
    "        \n",
    "        raise NotImplementedError   \n",
    "            \n",
    "class KR(Domain):\n",
    "    TYPE_CHOICES = {'B1', 'B', 'C1'} # 2D change\n",
    "    # TYPE_CHOICES = {'A1', 'A2', 'A', 'B1', 'B2', 'B', 'C1', 'C2'}\n",
    "    # TYPE_CHOICES = {'A1', 'A2', 'A', 'B1', 'B2', 'B', 'C1', 'C2', 'U'}\n",
    "\n",
    "    def __init__(self, active, type):\n",
    "        '''\n",
    "        Initiates a new domain with a design as reported by designSpace\n",
    "        '''\n",
    "        assert type in self.TYPE_CHOICES\n",
    "        self.active = active\n",
    "        self.type = type\n",
    "        \n",
    "    @classmethod\n",
    "    def designSpace(cls, module=False):\n",
    "        updatedTypeChoices = copy(cls.TYPE_CHOICES)\n",
    "        \n",
    "        if module and module.domains[AT].substrate != 'Malonyl-CoA':\n",
    "            # if the domain occurs in a module WITHOUT a Malonyl-CoA AT, remove the A/B type\n",
    "            updatedTypeChoices.difference_update({'A', 'B'})\n",
    "        elif module:\n",
    "            # if the domain occurs in a module WITH a Malonyl-CoA AT, keep only the A/B type\n",
    "            updatedTypeChoices.difference_update({'A1', 'A2', 'B1', 'B2', 'C1', 'C2'})\n",
    "        \n",
    "        return [cls(active=True, type=type) for type in updatedTypeChoices] + [cls(active=False, type='B1')]\n",
    "    \n",
    "    def operation(self, chain):\n",
    "        if self.type == 'A1':\n",
    "            rxn = AllChem.ReactionFromSmarts(('[#0:1][C:2](=[O:3])[C:4]'\n",
    "                                                   '[C:5](=[O:6])[S:7]>>'\n",
    "                                                   '[#0:1][C@:2]([O:3])[C@:4]'\n",
    "                                                   '[C:5](=[O:6])[S:7]'))\n",
    "        elif self.type == 'A2':\n",
    "            rxn = AllChem.ReactionFromSmarts(('[#0:1][C:2](=[O:3])[C:4]'\n",
    "                                                   '[C:5](=[O:6])[S:7]>>'\n",
    "                                                   '[#0:1][C@:2]([O:3])[C@@:4]'\n",
    "                                                   '[C:5](=[O:6])[S:7]'))\n",
    "        elif self.type == 'A':\n",
    "            rxn = AllChem.ReactionFromSmarts(('[#0:1][C:2](=[O:3])[C:4]'\n",
    "                                                   '[C:5](=[O:6])[S:7]>>'\n",
    "                                                   '[#0:1][C@:2]([O:3])[C:4]'\n",
    "                                                   '[C:5](=[O:6])[S:7]'))\n",
    "        elif self.type == 'B1':\n",
    "            rxn = AllChem.ReactionFromSmarts(('[#0:1][C:2](=[O:3])[C:4]'\n",
    "                                                   '[C:5](=[O:6])[S:7]>>'\n",
    "                                                   '[#0:1][C@@:2]([O:3])[C@:4]'\n",
    "                                                   '[C:5](=[O:6])[S:7]'))\n",
    "        elif self.type == 'B2':\n",
    "            rxn = AllChem.ReactionFromSmarts(('[#0:1][C:2](=[O:3])[C:4]'\n",
    "                                                   '[C:5](=[O:6])[S:7]>>'\n",
    "                                                   '[#0:1][C@@:2]([O:3])[C@@:4]'\n",
    "                                                   '[C:5](=[O:6])[S:7]'))\n",
    "        elif self.type == 'B':\n",
    "            rxn = AllChem.ReactionFromSmarts(('[#0:1][C:2](=[O:3])[C:4]'\n",
    "                                                   '[C:5](=[O:6])[S:7]>>'\n",
    "                                                   '[#0:1][C@@:2]([O:3])[C:4]'\n",
    "                                                   '[C:5](=[O:6])[S:7]'))\n",
    "        elif self.type == 'C1':\n",
    "            rxn = AllChem.ReactionFromSmarts(('[#0:1][C:2](=[O:3])[C:4]'\n",
    "                                                   '[C:5](=[O:6])[S:7]>>'\n",
    "                                                   '[#0:1][C:2](=[O:3])[C@:4]'\n",
    "                                                   '[C:5](=[O:6])[S:7]'))\n",
    "        elif self.type == 'C2':\n",
    "            rxn = AllChem.ReactionFromSmarts(('[#0:1][C:2](=[O:3])[C:4]'\n",
    "                                                   '[C:5](=[O:6])[S:7]>>'\n",
    "                                                   '[#0:1][C:2](=[O:3])[C@@:4]'\n",
    "                                                   '[C:5](=[O:6])[S:7]'))\n",
    "        else:\n",
    "            # By first specifying some stereochemistry in the reactants\n",
    "            # and then explicitly \"losing\" the stereochemistry in the products\n",
    "            # we can forget the stereochemistry in our molecule\n",
    "            rxn = AllChem.ReactionFromSmarts(('[#0:1][C:2](=[O:3])[C@:4]'\n",
    "                                                   '[C:5](=[O:6])[S:7]>>'\n",
    "                                                   '[#0:1][C:2]([O:3])[C:4]'\n",
    "                                                   '[C:5](=[O:6])[S:7]'))\n",
    "            \n",
    "        assert len(chain.GetSubstructMatches(Chem.MolFromSmiles('C(=O)CC(=O)S'),\n",
    "                   useChirality=True)) == 1, Chem.MolToSmiles(chain)\n",
    "        prod = rxn.RunReactants((chain,))[0][0]\n",
    "        Chem.SanitizeMol(prod)\n",
    "        return prod\n",
    "        \n",
    "    def reactants(self):\n",
    "        '''\n",
    "        Returns all reactants of this domain, excluding the substrate (polyketide chain).\n",
    "        The format is a list of Cobrapy metabolites.\n",
    "        \n",
    "        Stoich: ketone_pks_product + NADPH + H+ -> hydroxyl_pks_product + NADP+\n",
    "        '''\n",
    "        \n",
    "        return [\n",
    "            cobra.Metabolite('nadph_c', compartment='c'),\n",
    "            cobra.Metabolite('h_c', compartment='c'),\n",
    "        ]     \n",
    "        \n",
    "    def products(self):\n",
    "        '''\n",
    "        Returns all products of this domain, excluding the polyketide chain.\n",
    "        The format is a list of Cobrapy metabolites.\n",
    "        \n",
    "        Stoich: ketone_pks_product + NADPH + H+ -> hydroxyl_pks_product + NADP+\n",
    "        '''\n",
    "        \n",
    "        return [\n",
    "            cobra.Metabolite('nadp_c', compartment='c'),\n",
    "        ]     \n",
    "    \n",
    "class DH(Domain):\n",
    "\n",
    "    @classmethod\n",
    "    def designSpace(cls, module=False):\n",
    "        # adding False as a design type specifies that this domain is optional,\n",
    "        # e.g. a PKS can exist without it\n",
    "        if not module:\n",
    "            return [cls(active=True), cls(active=False)]\n",
    "\n",
    "        if not KR in module.domains:\n",
    "            return [cls(active=False)]\n",
    "\n",
    "        # require that we have an active B/B1 KR type\n",
    "        if module.domains[KR].active and (module.domains[KR].type in {'B', 'B1', 'U'}):\n",
    "            return [cls(active=True), cls(active=False)]\n",
    "        else:\n",
    "            return [cls(active=False)]\n",
    "\n",
    "    def operation(self, chain):\n",
    "        # try setting CH unchanged\n",
    "        rxn = AllChem.ReactionFromSmarts(('[#0:1][C:2]([O:3])[C:4][C:6](=[O:7])[S:8]>>'\n",
    "                                          '[#0:1][CH1:2]=[CH1:4][C:6](=[O:7])[S:8].[O:3]'))\n",
    "                                          # '[#0:1][CH1:2]=[CH1:4][C:6](=[O:7])[S:8].[O:3]'))\n",
    "        assert len(chain.GetSubstructMatches(Chem.MolFromSmiles('C(O)CC(=O)S'),\n",
    "           useChirality=True)) == 1, Chem.MolToSmiles(chain)\n",
    "        prod = rxn.RunReactants((chain,))[0][0]\n",
    "        try:\n",
    "            Chem.SanitizeMol(prod)\n",
    "        except ValueError: \n",
    "            # if this has a methyl attached on the alpha carbon, we'll set CH0\n",
    "            rxn = AllChem.ReactionFromSmarts(('[#0:1][C:2]([O:3])[C:4][C:6](=[O:7])[S:8]>>'\n",
    "                                              '[#0:1][CH1:2]=[CH0:4][C:6](=[O:7])[S:8].[O:3]'))\n",
    "            assert len(chain.GetSubstructMatches(Chem.MolFromSmiles('C(O)CC(=O)S'),\n",
    "               useChirality=True)) == 1, Chem.MolToSmiles(chain)\n",
    "            prod = rxn.RunReactants((chain,))[0][0]\n",
    "            Chem.SanitizeMol(prod)\n",
    "        return prod\n",
    "        \n",
    "    def reactants(self):\n",
    "        '''\n",
    "        Returns all reactants of this domain, excluding the substrate (polyketide chain).\n",
    "        The format is a list of Cobrapy metabolites.\n",
    "        \n",
    "        Stoich: hydroxyl_pks_product -> alkene_pks_product + H2O\n",
    "        '''\n",
    "        \n",
    "        return []\n",
    "    \n",
    "    def products(self):\n",
    "        '''\n",
    "        Returns all products of this domain, excluding the polyketide chain.\n",
    "        The format is a list of Cobrapy metabolites.\n",
    "        '''\n",
    "        \n",
    "        return [\n",
    "            cobra.Metabolite('h2o_c', compartment='c'),\n",
    "        ]    \n",
    "    \n",
    "class ER(Domain):\n",
    "    \n",
    "    @classmethod\n",
    "    def designSpace(cls, module=False):\n",
    "        # adding False as a design type specifies that this domain is optional,\n",
    "        # e.g. a PKS can exist without it\n",
    "        if not module:\n",
    "            return [cls(active=True), cls(active=False)]\n",
    "\n",
    "        if not DH in module.domains:\n",
    "            return [cls(active=False)]\n",
    "\n",
    "        # require that we have an active DH type\n",
    "        if module.domains[DH].active:\n",
    "            return [cls(active=True), cls(active=False)]\n",
    "        else:\n",
    "            return [cls(active=False)]\n",
    "\n",
    "    def operation(self, chain):\n",
    "        # try setting CH unchanged\n",
    "        rxn = AllChem.ReactionFromSmarts(('[#0:1][C:2]=[C:3][C:4](=[O:5])[S:6]>>'\n",
    "                                          '[#0:1][CH2:2][CH2:3][C:4](=[O:5])[S:6]'))\n",
    "                                          # '[#0:1][CH2:2][CH2:3][C:4](=[O:5])[S:6]'))\n",
    "        assert len(chain.GetSubstructMatches(Chem.MolFromSmiles('C=CC(=O)S'),\n",
    "           useChirality=True)) == 1, Chem.MolToSmiles(chain)\n",
    "        prod = rxn.RunReactants((chain,))[0][0]\n",
    "        try:\n",
    "            Chem.SanitizeMol(prod)\n",
    "        except ValueError: \n",
    "            rxn = AllChem.ReactionFromSmarts(('[#0:1][C:2]=[C:3][C:4](=[O:5])[S:6]>>'\n",
    "                                              '[#0:1][CH2:2][C@@H1:3][C:4](=[O:5])[S:6]'))\n",
    "                                              # '[#0:1][CH2:2][CH:3][C:4](=[O:5])[S:6]'))\n",
    "            assert len(chain.GetSubstructMatches(Chem.MolFromSmiles('C=CC(=O)S'),\n",
    "               useChirality=True)) == 1, Chem.MolToSmiles(chain)\n",
    "            prod = rxn.RunReactants((chain,))[0][0]\n",
    "        return prod\n",
    "        \n",
    "    def reactants(self):\n",
    "        '''\n",
    "        Returns all reactants of this domain, excluding the substrate (polyketide chain).\n",
    "        The format is a list of Cobrapy metabolites.\n",
    "        \n",
    "        Stoich: alkene_pks_product + NADPH + H+ -> alkane_pks_product + NADP+\n",
    "        '''\n",
    "        \n",
    "        return [\n",
    "            cobra.Metabolite('nadph_c', compartment='c'),\n",
    "            cobra.Metabolite('h_c', compartment='c')\n",
    "        ]      \n",
    "        \n",
    "    def products(self):\n",
    "        '''\n",
    "        Returns all products of this domain, excluding the polyketide chain.\n",
    "        The format is a list of Cobrapy metabolites.\n",
    "        '''\n",
    "        \n",
    "        return [\n",
    "            cobra.Metabolite('nadp_c', compartment='c')\n",
    "        ]  \n",
    "    \n",
    "class TE(Domain):\n",
    "    \n",
    "    def __init__(self, active, cyclic, ring):\n",
    "        '''\n",
    "        Initiates a new domain with a design as reported by designSpace\n",
    "        '''\n",
    "        self.active = active\n",
    "        self.cyclic = cyclic\n",
    "        self.ring = ring\n",
    "\n",
    "    @classmethod\n",
    "    def designSpace(cls, module=False):\n",
    "        # adding False as a design type specifies that this domain is optional,\n",
    "        # e.g. a PKS can exist without it\n",
    "        \n",
    "        # For now this returns false so it doesn't get included in designs\n",
    "        # later we need to deal with terminal domains in a better way\n",
    "        return [cls(active=False, cyclic=False, ring=0)]\n",
    "\n",
    "    def operation(self, chain):\n",
    "        assert len(chain.GetSubstructMatches(Chem.MolFromSmiles('C(=O)S'),\n",
    "                   useChirality=True)) == 1, Chem.MolToSmiles(chain)\n",
    "\n",
    "        index = -1\n",
    "        if self.cyclic:\n",
    "            rxn = AllChem.ReactionFromSmarts('([C:1](=[O:2])[S:3].[O,N:4][C:5][C:6])>>'\n",
    "                                                  '[C:1](=[O:2])[*:4][C:5][C:6].[S:3]')\n",
    "            index -= self.ring\n",
    "        else:\n",
    "            rxn = AllChem.ReactionFromSmarts('[C:1](=[O:2])[S:3]>>[C:1](=[O:2])[O].[S:3]')\n",
    "\n",
    "        # Using index -1 will yield the largest ring\n",
    "        prod = rxn.RunReactants((chain,))[index][0]\n",
    "        Chem.SanitizeMol(prod)\n",
    "\n",
    "        return prod\n",
    "          \n",
    "    def reactants(self):\n",
    "        '''\n",
    "        Returns all reactants of this domain, excluding the substrate (polyketide chain).\n",
    "        The format is a list of Cobrapy metabolites.\n",
    "        \n",
    "        Stoich: alkane_pks_product + H2O -> free_product + H+\n",
    "        # NOTE: this is for non-cyclic version, we should add support for the cyclic version\n",
    "        '''\n",
    "        \n",
    "        return [cobra.Metabolite('h2o_c', compartment='c')]        \n",
    "        \n",
    "    def products(self):\n",
    "        '''\n",
    "        Returns all products of this domain, excluding the polyketide chain.\n",
    "        The format is a list of Cobrapy metabolites.\n",
    "        '''\n",
    "        \n",
    "        return [cobra.Metabolite('h_c', compartment='c')]    \n"
   ]
  },
  {
   "cell_type": "code",
   "execution_count": null,
   "metadata": {
    "ExecuteTime": {
     "end_time": "2025-03-25T17:08:32.619828Z",
     "start_time": "2025-03-25T17:08:32.610194Z"
    }
   },
   "outputs": [
    {
     "data": {
      "text/plain": [
       "[{'substrate': 'Malonyl-CoA'},\n",
       " {'substrate': 'Methylmalonyl-CoA'},\n",
       " {'substrate': 'mxmal'},\n",
       " {'substrate': 'emal'},\n",
       " {'substrate': 'allylmal'},\n",
       " {'substrate': 'butmal'},\n",
       " {'substrate': 'hmal'},\n",
       " {'substrate': 'isobutmal'},\n",
       " {'substrate': 'D-isobutmal'},\n",
       " {'substrate': 'DCP'},\n",
       " {'substrate': 'hexmal'}]"
      ]
     },
     "execution_count": 16,
     "metadata": {},
     "output_type": "execute_result"
    }
   ],
   "source": [
    "# show extending module AT design space\n",
    "atspace = AT.designSpace(module=Module(loading=False))\n",
    "atspace"
   ]
  },
  {
   "cell_type": "code",
   "execution_count": null,
   "metadata": {
    "ExecuteTime": {
     "end_time": "2025-03-25T17:08:35.246471Z",
     "start_time": "2025-03-25T17:08:35.234567Z"
    }
   },
   "outputs": [
    {
     "data": {
      "text/plain": [
       "[{'substrate': 'Methylmalonyl-CoA'},\n",
       " {'substrate': 'Malonyl-CoA'},\n",
       " {'substrate': 'Hydroxymalonyl-CoA'},\n",
       " {'substrate': 'Allylmalonyl-CoA'},\n",
       " {'substrate': 'butmal'},\n",
       " {'substrate': 'mxmal'},\n",
       " {'substrate': 'cemal'},\n",
       " {'substrate': 'Acetyl-CoA'},\n",
       " {'substrate': 'prop'},\n",
       " {'substrate': 'isobut'},\n",
       " {'substrate': '2metbut'},\n",
       " {'substrate': 'CHC-CoA'},\n",
       " {'substrate': 'trans-1,2-CPDA'},\n",
       " {'substrate': 'cyclopentene'},\n",
       " {'substrate': 'pyr'},\n",
       " {'substrate': 'cin'},\n",
       " {'substrate': 'AHBA'},\n",
       " {'substrate': 'isoval'},\n",
       " {'substrate': 'PABA'},\n",
       " {'substrate': 'DCP'},\n",
       " {'substrate': 'guan'},\n",
       " {'substrate': 'mthz'},\n",
       " {'substrate': 'DHCH'},\n",
       " {'substrate': 'DHCHene'},\n",
       " {'substrate': 'plac'},\n",
       " {'substrate': 'benz'},\n",
       " {'substrate': 'PNBA'},\n",
       " {'substrate': 'ema'},\n",
       " {'substrate': '3measp'}]"
      ]
     },
     "execution_count": 17,
     "metadata": {},
     "output_type": "execute_result"
    }
   ],
   "source": [
    "# show loading module AT design space\n",
    "atspace = AT.designSpace(module=Module(loading=True))\n",
    "atspace"
   ]
  },
  {
   "cell_type": "code",
   "execution_count": null,
   "metadata": {
    "ExecuteTime": {
     "end_time": "2025-03-25T17:08:41.743294Z",
     "start_time": "2025-03-25T17:08:41.735089Z"
    }
   },
   "outputs": [
    {
     "data": {
      "text/plain": [
       "7625943139606530551"
      ]
     },
     "execution_count": 18,
     "metadata": {},
     "output_type": "execute_result"
    }
   ],
   "source": [
    "# demonstrate hashing a domain design\n",
    "hash(atspace[0])"
   ]
  },
  {
   "cell_type": "markdown",
   "metadata": {},
   "source": [
    "#### perform some tests analyzing the ability to compare designs"
   ]
  },
  {
   "cell_type": "code",
   "execution_count": null,
   "metadata": {
    "ExecuteTime": {
     "end_time": "2025-03-25T17:09:06.931400Z",
     "start_time": "2025-03-25T17:09:06.922804Z"
    }
   },
   "outputs": [
    {
     "data": {
      "text/plain": [
       "False"
      ]
     },
     "execution_count": 19,
     "metadata": {},
     "output_type": "execute_result"
    }
   ],
   "source": [
    "# compared to a different domain, this should be False\n",
    "AT(active=True, substrate='Malonyl-CoA') == AT(active=True, substrate='Methylmalonyl-CoA')"
   ]
  },
  {
   "cell_type": "code",
   "execution_count": null,
   "metadata": {
    "ExecuteTime": {
     "end_time": "2025-03-25T17:09:08.860627Z",
     "start_time": "2025-03-25T17:09:08.852936Z"
    }
   },
   "outputs": [
    {
     "data": {
      "text/plain": [
       "True"
      ]
     },
     "execution_count": 20,
     "metadata": {},
     "output_type": "execute_result"
    }
   ],
   "source": [
    "# compared to itself, this should be true\n",
    "AT(active=True, substrate='Methylmalonyl-CoA') == AT(active=True, substrate='Methylmalonyl-CoA')"
   ]
  },
  {
   "cell_type": "code",
   "execution_count": null,
   "metadata": {
    "ExecuteTime": {
     "end_time": "2025-03-25T17:09:13.799715Z",
     "start_time": "2025-03-25T17:09:13.790878Z"
    }
   },
   "outputs": [
    {
     "data": {
      "text/plain": [
       "False"
      ]
     },
     "execution_count": 21,
     "metadata": {},
     "output_type": "execute_result"
    }
   ],
   "source": [
    "# two domains shouldn't be the same\n",
    "atspace[0] == atspace[1]"
   ]
  },
  {
   "cell_type": "markdown",
   "metadata": {},
   "source": [
    "# Get all possible module designs"
   ]
  },
  {
   "cell_type": "code",
   "execution_count": null,
   "metadata": {
    "ExecuteTime": {
     "end_time": "2025-03-25T17:10:54.701959Z",
     "start_time": "2025-03-25T17:10:54.690490Z"
    }
   },
   "outputs": [
    {
     "data": {
      "text/plain": [
       "{[\"AT{'substrate': '2metbut'}\", 'loading: True'],\n",
       " [\"AT{'substrate': '3measp'}\", 'loading: True'],\n",
       " [\"AT{'substrate': 'AHBA'}\", 'loading: True'],\n",
       " [\"AT{'substrate': 'Acetyl-CoA'}\", 'loading: True'],\n",
       " [\"AT{'substrate': 'Allylmalonyl-CoA'}\", 'loading: True'],\n",
       " [\"AT{'substrate': 'CHC-CoA'}\", 'loading: True'],\n",
       " [\"AT{'substrate': 'DCP'}\", 'loading: True'],\n",
       " [\"AT{'substrate': 'DHCH'}\", 'loading: True'],\n",
       " [\"AT{'substrate': 'DHCHene'}\", 'loading: True'],\n",
       " [\"AT{'substrate': 'Hydroxymalonyl-CoA'}\", 'loading: True'],\n",
       " [\"AT{'substrate': 'Malonyl-CoA'}\", 'loading: True'],\n",
       " [\"AT{'substrate': 'Methylmalonyl-CoA'}\", 'loading: True'],\n",
       " [\"AT{'substrate': 'PABA'}\", 'loading: True'],\n",
       " [\"AT{'substrate': 'PNBA'}\", 'loading: True'],\n",
       " [\"AT{'substrate': 'benz'}\", 'loading: True'],\n",
       " [\"AT{'substrate': 'butmal'}\", 'loading: True'],\n",
       " [\"AT{'substrate': 'cemal'}\", 'loading: True'],\n",
       " [\"AT{'substrate': 'cin'}\", 'loading: True'],\n",
       " [\"AT{'substrate': 'cyclopentene'}\", 'loading: True'],\n",
       " [\"AT{'substrate': 'ema'}\", 'loading: True'],\n",
       " [\"AT{'substrate': 'guan'}\", 'loading: True'],\n",
       " [\"AT{'substrate': 'isobut'}\", 'loading: True'],\n",
       " [\"AT{'substrate': 'isoval'}\", 'loading: True'],\n",
       " [\"AT{'substrate': 'mthz'}\", 'loading: True'],\n",
       " [\"AT{'substrate': 'mxmal'}\", 'loading: True'],\n",
       " [\"AT{'substrate': 'plac'}\", 'loading: True'],\n",
       " [\"AT{'substrate': 'prop'}\", 'loading: True'],\n",
       " [\"AT{'substrate': 'pyr'}\", 'loading: True'],\n",
       " [\"AT{'substrate': 'trans-1,2-CPDA'}\", 'loading: True']}"
      ]
     },
     "execution_count": 22,
     "metadata": {},
     "output_type": "execute_result"
    }
   ],
   "source": [
    "# create DB of possible starter designs\n",
    "\n",
    "starterDesigns = set()\n",
    "\n",
    "for atdesign in AT.designSpace(module=Module(loading=True)):\n",
    "    newModule = Module(loading=True)\n",
    "    newModule.domains[AT] = atdesign\n",
    "    \n",
    "    starterDesigns.add(newModule)\n",
    "    \n",
    "starterDesigns"
   ]
  },
  {
   "cell_type": "code",
   "execution_count": null,
   "metadata": {
    "ExecuteTime": {
     "end_time": "2025-03-25T17:11:09.698031Z",
     "start_time": "2025-03-25T17:11:09.661551Z"
    }
   },
   "outputs": [],
   "source": [
    "# create DB of possible extension designs\n",
    "\n",
    "# get a list of lists showing each possible domain design\n",
    "domainTypes = Module.domainTypes()\n",
    "allDomainDesigns = [domaintype.designSpace() for domaintype in domainTypes]\n",
    "\n",
    "# the cartesian product of all designs specifies the full design space\n",
    "fullDesignSpace = product(*allDomainDesigns)\n",
    "\n",
    "# create a set of all possible modules\n",
    "designs = set()\n",
    "for design in fullDesignSpace:\n",
    "        newModule = Module()\n",
    "        for domain in design:\n",
    "            if not domain.active:\n",
    "                continue\n",
    "            newModule.domains[type(domain)] = domain\n",
    "            \n",
    "        # check against every domain to confirm that this is a valid design\n",
    "        # if a domain reports no valid configurations, this design is skipped\n",
    "        try:\n",
    "            for domain in newModule.domains.values():\n",
    "                assert domain in domain.designSpace(newModule)\n",
    "        except AssertionError:\n",
    "            continue\n",
    "        \n",
    "        designs.add(newModule)"
   ]
  },
  {
   "cell_type": "code",
   "execution_count": null,
   "metadata": {
    "ExecuteTime": {
     "end_time": "2025-03-25T17:11:13.502435Z",
     "start_time": "2025-03-25T17:11:13.492274Z"
    }
   },
   "outputs": [
    {
     "data": {
      "text/plain": [
       "54"
      ]
     },
     "execution_count": 24,
     "metadata": {},
     "output_type": "execute_result"
    }
   ],
   "source": [
    "len(designs)"
   ]
  },
  {
   "cell_type": "code",
   "execution_count": null,
   "metadata": {
    "ExecuteTime": {
     "end_time": "2025-03-25T17:11:16.898954Z",
     "start_time": "2025-03-25T17:11:16.888908Z"
    }
   },
   "outputs": [
    {
     "data": {
      "text/plain": [
       "{[\"AT{'substrate': 'D-isobutmal'}\", \"KR{'type': 'B1'}\", 'DH{}', 'ER{}', 'loading: False'],\n",
       " [\"AT{'substrate': 'D-isobutmal'}\", \"KR{'type': 'B1'}\", 'DH{}', 'loading: False'],\n",
       " [\"AT{'substrate': 'D-isobutmal'}\", \"KR{'type': 'B1'}\", 'loading: False'],\n",
       " [\"AT{'substrate': 'D-isobutmal'}\", \"KR{'type': 'C1'}\", 'loading: False'],\n",
       " [\"AT{'substrate': 'D-isobutmal'}\", 'loading: False'],\n",
       " [\"AT{'substrate': 'DCP'}\", \"KR{'type': 'B1'}\", 'DH{}', 'ER{}', 'loading: False'],\n",
       " [\"AT{'substrate': 'DCP'}\", \"KR{'type': 'B1'}\", 'DH{}', 'loading: False'],\n",
       " [\"AT{'substrate': 'DCP'}\", \"KR{'type': 'B1'}\", 'loading: False'],\n",
       " [\"AT{'substrate': 'DCP'}\", \"KR{'type': 'C1'}\", 'loading: False'],\n",
       " [\"AT{'substrate': 'DCP'}\", 'loading: False'],\n",
       " [\"AT{'substrate': 'Malonyl-CoA'}\", \"KR{'type': 'B'}\", 'DH{}', 'ER{}', 'loading: False'],\n",
       " [\"AT{'substrate': 'Malonyl-CoA'}\", \"KR{'type': 'B'}\", 'DH{}', 'loading: False'],\n",
       " [\"AT{'substrate': 'Malonyl-CoA'}\", \"KR{'type': 'B'}\", 'loading: False'],\n",
       " [\"AT{'substrate': 'Malonyl-CoA'}\", 'loading: False'],\n",
       " [\"AT{'substrate': 'Methylmalonyl-CoA'}\", \"KR{'type': 'B1'}\", 'DH{}', 'ER{}', 'loading: False'],\n",
       " [\"AT{'substrate': 'Methylmalonyl-CoA'}\", \"KR{'type': 'B1'}\", 'DH{}', 'loading: False'],\n",
       " [\"AT{'substrate': 'Methylmalonyl-CoA'}\", \"KR{'type': 'B1'}\", 'loading: False'],\n",
       " [\"AT{'substrate': 'Methylmalonyl-CoA'}\", \"KR{'type': 'C1'}\", 'loading: False'],\n",
       " [\"AT{'substrate': 'Methylmalonyl-CoA'}\", 'loading: False'],\n",
       " [\"AT{'substrate': 'allylmal'}\", \"KR{'type': 'B1'}\", 'DH{}', 'ER{}', 'loading: False'],\n",
       " [\"AT{'substrate': 'allylmal'}\", \"KR{'type': 'B1'}\", 'DH{}', 'loading: False'],\n",
       " [\"AT{'substrate': 'allylmal'}\", \"KR{'type': 'B1'}\", 'loading: False'],\n",
       " [\"AT{'substrate': 'allylmal'}\", \"KR{'type': 'C1'}\", 'loading: False'],\n",
       " [\"AT{'substrate': 'allylmal'}\", 'loading: False'],\n",
       " [\"AT{'substrate': 'butmal'}\", \"KR{'type': 'B1'}\", 'DH{}', 'ER{}', 'loading: False'],\n",
       " [\"AT{'substrate': 'butmal'}\", \"KR{'type': 'B1'}\", 'DH{}', 'loading: False'],\n",
       " [\"AT{'substrate': 'butmal'}\", \"KR{'type': 'B1'}\", 'loading: False'],\n",
       " [\"AT{'substrate': 'butmal'}\", \"KR{'type': 'C1'}\", 'loading: False'],\n",
       " [\"AT{'substrate': 'butmal'}\", 'loading: False'],\n",
       " [\"AT{'substrate': 'emal'}\", \"KR{'type': 'B1'}\", 'DH{}', 'ER{}', 'loading: False'],\n",
       " [\"AT{'substrate': 'emal'}\", \"KR{'type': 'B1'}\", 'DH{}', 'loading: False'],\n",
       " [\"AT{'substrate': 'emal'}\", \"KR{'type': 'B1'}\", 'loading: False'],\n",
       " [\"AT{'substrate': 'emal'}\", \"KR{'type': 'C1'}\", 'loading: False'],\n",
       " [\"AT{'substrate': 'emal'}\", 'loading: False'],\n",
       " [\"AT{'substrate': 'hexmal'}\", \"KR{'type': 'B1'}\", 'DH{}', 'ER{}', 'loading: False'],\n",
       " [\"AT{'substrate': 'hexmal'}\", \"KR{'type': 'B1'}\", 'DH{}', 'loading: False'],\n",
       " [\"AT{'substrate': 'hexmal'}\", \"KR{'type': 'B1'}\", 'loading: False'],\n",
       " [\"AT{'substrate': 'hexmal'}\", \"KR{'type': 'C1'}\", 'loading: False'],\n",
       " [\"AT{'substrate': 'hexmal'}\", 'loading: False'],\n",
       " [\"AT{'substrate': 'hmal'}\", \"KR{'type': 'B1'}\", 'DH{}', 'ER{}', 'loading: False'],\n",
       " [\"AT{'substrate': 'hmal'}\", \"KR{'type': 'B1'}\", 'DH{}', 'loading: False'],\n",
       " [\"AT{'substrate': 'hmal'}\", \"KR{'type': 'B1'}\", 'loading: False'],\n",
       " [\"AT{'substrate': 'hmal'}\", \"KR{'type': 'C1'}\", 'loading: False'],\n",
       " [\"AT{'substrate': 'hmal'}\", 'loading: False'],\n",
       " [\"AT{'substrate': 'isobutmal'}\", \"KR{'type': 'B1'}\", 'DH{}', 'ER{}', 'loading: False'],\n",
       " [\"AT{'substrate': 'isobutmal'}\", \"KR{'type': 'B1'}\", 'DH{}', 'loading: False'],\n",
       " [\"AT{'substrate': 'isobutmal'}\", \"KR{'type': 'B1'}\", 'loading: False'],\n",
       " [\"AT{'substrate': 'isobutmal'}\", \"KR{'type': 'C1'}\", 'loading: False'],\n",
       " [\"AT{'substrate': 'isobutmal'}\", 'loading: False'],\n",
       " [\"AT{'substrate': 'mxmal'}\", \"KR{'type': 'B1'}\", 'DH{}', 'ER{}', 'loading: False'],\n",
       " [\"AT{'substrate': 'mxmal'}\", \"KR{'type': 'B1'}\", 'DH{}', 'loading: False'],\n",
       " [\"AT{'substrate': 'mxmal'}\", \"KR{'type': 'B1'}\", 'loading: False'],\n",
       " [\"AT{'substrate': 'mxmal'}\", \"KR{'type': 'C1'}\", 'loading: False'],\n",
       " [\"AT{'substrate': 'mxmal'}\", 'loading: False']}"
      ]
     },
     "execution_count": 25,
     "metadata": {},
     "output_type": "execute_result"
    }
   ],
   "source": [
    "designs"
   ]
  },
  {
   "cell_type": "markdown",
   "metadata": {},
   "source": [
    "# Compute chemical structures of all module designs\n",
    "\n",
    "We store this as a dict, where keys are modules, and products are mol objects representing the chemical structure"
   ]
  },
  {
   "cell_type": "code",
   "execution_count": null,
   "metadata": {
    "ExecuteTime": {
     "end_time": "2025-03-25T17:11:29.670310Z",
     "start_time": "2025-03-25T17:11:29.604167Z"
    }
   },
   "outputs": [
    {
     "name": "stdout",
     "output_type": "stream",
     "text": [
      "[\"AT{'substrate': 'mxmal'}\", \"KR{'type': 'C1'}\", 'loading: False']\n",
      "[\"AT{'substrate': 'isobutmal'}\", \"KR{'type': 'C1'}\", 'loading: False']\n",
      "[\"AT{'substrate': 'hexmal'}\", \"KR{'type': 'B1'}\", 'DH{}', 'loading: False']\n",
      "[\"AT{'substrate': 'butmal'}\", \"KR{'type': 'B1'}\", 'loading: False']\n",
      "[\"AT{'substrate': 'Methylmalonyl-CoA'}\", \"KR{'type': 'B1'}\", 'loading: False']\n",
      "[\"AT{'substrate': 'hmal'}\", \"KR{'type': 'B1'}\", 'DH{}', 'loading: False']\n",
      "[\"AT{'substrate': 'Malonyl-CoA'}\", 'loading: False']\n",
      "[\"AT{'substrate': 'hmal'}\", 'loading: False']\n",
      "[\"AT{'substrate': 'isobutmal'}\", \"KR{'type': 'B1'}\", 'DH{}', 'ER{}', 'loading: False']\n",
      "[\"AT{'substrate': 'D-isobutmal'}\", \"KR{'type': 'C1'}\", 'loading: False']\n",
      "[\"AT{'substrate': 'DCP'}\", \"KR{'type': 'C1'}\", 'loading: False']\n",
      "[\"AT{'substrate': 'mxmal'}\", 'loading: False']\n",
      "[\"AT{'substrate': 'emal'}\", \"KR{'type': 'B1'}\", 'loading: False']\n",
      "[\"AT{'substrate': 'isobutmal'}\", 'loading: False']\n",
      "[\"AT{'substrate': 'hexmal'}\", \"KR{'type': 'C1'}\", 'loading: False']\n",
      "[\"AT{'substrate': 'hmal'}\", \"KR{'type': 'B1'}\", 'DH{}', 'ER{}', 'loading: False']\n",
      "[\"AT{'substrate': 'D-isobutmal'}\", \"KR{'type': 'B1'}\", 'DH{}', 'loading: False']\n",
      "[\"AT{'substrate': 'hmal'}\", \"KR{'type': 'C1'}\", 'loading: False']\n",
      "[\"AT{'substrate': 'Malonyl-CoA'}\", \"KR{'type': 'B'}\", 'DH{}', 'loading: False']\n",
      "[\"AT{'substrate': 'butmal'}\", \"KR{'type': 'B1'}\", 'DH{}', 'loading: False']\n",
      "[\"AT{'substrate': 'emal'}\", 'loading: False']\n",
      "[\"AT{'substrate': 'mxmal'}\", \"KR{'type': 'B1'}\", 'DH{}', 'ER{}', 'loading: False']\n",
      "[\"AT{'substrate': 'allylmal'}\", \"KR{'type': 'B1'}\", 'loading: False']\n",
      "[\"AT{'substrate': 'Methylmalonyl-CoA'}\", 'loading: False']\n",
      "[\"AT{'substrate': 'DCP'}\", \"KR{'type': 'B1'}\", 'DH{}', 'ER{}', 'loading: False']\n",
      "[\"AT{'substrate': 'hexmal'}\", \"KR{'type': 'B1'}\", 'DH{}', 'ER{}', 'loading: False']\n",
      "[\"AT{'substrate': 'mxmal'}\", \"KR{'type': 'B1'}\", 'loading: False']\n",
      "[\"AT{'substrate': 'Methylmalonyl-CoA'}\", \"KR{'type': 'B1'}\", 'DH{}', 'loading: False']\n",
      "[\"AT{'substrate': 'isobutmal'}\", \"KR{'type': 'B1'}\", 'loading: False']\n",
      "[\"AT{'substrate': 'Malonyl-CoA'}\", \"KR{'type': 'B'}\", 'DH{}', 'ER{}', 'loading: False']\n",
      "[\"AT{'substrate': 'allylmal'}\", 'loading: False']\n",
      "[\"AT{'substrate': 'emal'}\", \"KR{'type': 'B1'}\", 'DH{}', 'ER{}', 'loading: False']\n",
      "[\"AT{'substrate': 'Methylmalonyl-CoA'}\", \"KR{'type': 'B1'}\", 'DH{}', 'ER{}', 'loading: False']\n",
      "[\"AT{'substrate': 'D-isobutmal'}\", \"KR{'type': 'B1'}\", 'loading: False']\n",
      "[\"AT{'substrate': 'butmal'}\", \"KR{'type': 'C1'}\", 'loading: False']\n",
      "[\"AT{'substrate': 'butmal'}\", \"KR{'type': 'B1'}\", 'DH{}', 'ER{}', 'loading: False']\n",
      "[\"AT{'substrate': 'Methylmalonyl-CoA'}\", \"KR{'type': 'C1'}\", 'loading: False']\n",
      "[\"AT{'substrate': 'hexmal'}\", 'loading: False']\n",
      "[\"AT{'substrate': 'mxmal'}\", \"KR{'type': 'B1'}\", 'DH{}', 'loading: False']\n",
      "[\"AT{'substrate': 'DCP'}\", \"KR{'type': 'B1'}\", 'loading: False']\n",
      "[\"AT{'substrate': 'D-isobutmal'}\", 'loading: False']\n",
      "[\"AT{'substrate': 'D-isobutmal'}\", \"KR{'type': 'B1'}\", 'DH{}', 'ER{}', 'loading: False']\n",
      "[\"AT{'substrate': 'allylmal'}\", \"KR{'type': 'B1'}\", 'DH{}', 'ER{}', 'loading: False']\n",
      "[\"AT{'substrate': 'emal'}\", \"KR{'type': 'B1'}\", 'DH{}', 'loading: False']\n",
      "[\"AT{'substrate': 'hexmal'}\", \"KR{'type': 'B1'}\", 'loading: False']\n",
      "[\"AT{'substrate': 'emal'}\", \"KR{'type': 'C1'}\", 'loading: False']\n",
      "[\"AT{'substrate': 'hmal'}\", \"KR{'type': 'B1'}\", 'loading: False']\n",
      "[\"AT{'substrate': 'DCP'}\", 'loading: False']\n",
      "[\"AT{'substrate': 'Malonyl-CoA'}\", \"KR{'type': 'B'}\", 'loading: False']\n",
      "[\"AT{'substrate': 'allylmal'}\", \"KR{'type': 'C1'}\", 'loading: False']\n",
      "[\"AT{'substrate': 'isobutmal'}\", \"KR{'type': 'B1'}\", 'DH{}', 'loading: False']\n",
      "[\"AT{'substrate': 'butmal'}\", 'loading: False']\n",
      "[\"AT{'substrate': 'allylmal'}\", \"KR{'type': 'B1'}\", 'DH{}', 'loading: False']\n",
      "[\"AT{'substrate': 'DCP'}\", \"KR{'type': 'B1'}\", 'DH{}', 'loading: False']\n"
     ]
    },
    {
     "name": "stderr",
     "output_type": "stream",
     "text": [
      "[12:11:29] Explicit valence for atom # 2 C, 5, is greater than permitted\n",
      "[12:11:29] Explicit valence for atom # 2 C, 5, is greater than permitted\n",
      "[12:11:29] Explicit valence for atom # 2 C, 5, is greater than permitted\n",
      "[12:11:29] Explicit valence for atom # 2 C, 5, is greater than permitted\n",
      "[12:11:29] Explicit valence for atom # 2 C, 5, is greater than permitted\n",
      "[12:11:29] Explicit valence for atom # 2 C, 5, is greater than permitted\n",
      "[12:11:29] Explicit valence for atom # 2 C, 5, is greater than permitted\n",
      "[12:11:29] Explicit valence for atom # 2 C, 5, is greater than permitted\n",
      "[12:11:29] Explicit valence for atom # 2 C, 5, is greater than permitted\n",
      "[12:11:29] Explicit valence for atom # 2 C, 5, is greater than permitted\n",
      "[12:11:29] Explicit valence for atom # 2 C, 5, is greater than permitted\n",
      "[12:11:29] Explicit valence for atom # 2 C, 5, is greater than permitted\n",
      "[12:11:29] Explicit valence for atom # 2 C, 5, is greater than permitted\n",
      "[12:11:29] Explicit valence for atom # 2 C, 5, is greater than permitted\n",
      "[12:11:29] Explicit valence for atom # 2 C, 5, is greater than permitted\n",
      "[12:11:29] Explicit valence for atom # 2 C, 5, is greater than permitted\n",
      "[12:11:29] Explicit valence for atom # 2 C, 5, is greater than permitted\n",
      "[12:11:29] Explicit valence for atom # 2 C, 5, is greater than permitted\n",
      "[12:11:29] Explicit valence for atom # 2 C, 5, is greater than permitted\n",
      "[12:11:29] Explicit valence for atom # 2 C, 5, is greater than permitted\n",
      "[12:11:29] Explicit valence for atom # 2 C, 5, is greater than permitted\n",
      "[12:11:29] Explicit valence for atom # 2 C, 5, is greater than permitted\n",
      "[12:11:29] Explicit valence for atom # 2 C, 5, is greater than permitted\n",
      "[12:11:29] Explicit valence for atom # 2 C, 5, is greater than permitted\n",
      "[12:11:29] Explicit valence for atom # 2 C, 5, is greater than permitted\n",
      "[12:11:29] Explicit valence for atom # 2 C, 5, is greater than permitted\n",
      "[12:11:29] Explicit valence for atom # 2 C, 5, is greater than permitted\n",
      "[12:11:29] Explicit valence for atom # 2 C, 5, is greater than permitted\n",
      "[12:11:29] Explicit valence for atom # 2 C, 5, is greater than permitted\n",
      "[12:11:29] Explicit valence for atom # 2 C, 5, is greater than permitted\n"
     ]
    }
   ],
   "source": [
    "structureDB = {}\n",
    "mols = []\n",
    "legends = []\n",
    "for module in designs:\n",
    "    print(module)\n",
    "    try:\n",
    "        structureDB[module] = module.computeProduct()\n",
    "        mols.append(structureDB[module])\n",
    "        legends.append(repr(module))\n",
    "    except IndexError:\n",
    "        continue\n",
    "\n",
    "# display(Draw.MolsToGridImage(mols, legends=legends, molsPerRow=2, useSVG=True, subImgSize=(400, 400)))"
   ]
  },
  {
   "cell_type": "code",
   "execution_count": null,
   "metadata": {
    "ExecuteTime": {
     "end_time": "2025-03-25T17:11:46.463298Z",
     "start_time": "2025-03-25T17:11:46.455606Z"
    }
   },
   "outputs": [
    {
     "data": {
      "text/plain": [
       "'2023.09.5'"
      ]
     },
     "execution_count": 27,
     "metadata": {},
     "output_type": "execute_result"
    }
   ],
   "source": [
    "import rdkit\n",
    "rdkit.__version__"
   ]
  },
  {
   "cell_type": "code",
   "execution_count": null,
   "metadata": {
    "ExecuteTime": {
     "end_time": "2025-03-25T17:11:53.091949Z",
     "start_time": "2025-03-25T17:11:52.895193Z"
    }
   },
   "outputs": [
    {
     "data": {
      "text/plain": [
       "'[\"AT{\\'substrate\\': \\'mxmal\\'}\", \"KR{\\'type\\': \\'C1\\'}\", \\'loading: False\\']'"
      ]
     },
     "metadata": {},
     "output_type": "display_data"
    },
    {
     "data": {
      "text/plain": [
       "'*C(=O)[C@@H](OC)C(=O)[S]'"
      ]
     },
     "metadata": {},
     "output_type": "display_data"
    },
    {
     "data": {
      "text/plain": [
       "'[\"AT{\\'substrate\\': \\'isobutmal\\'}\", \"KR{\\'type\\': \\'C1\\'}\", \\'loading: False\\']'"
      ]
     },
     "metadata": {},
     "output_type": "display_data"
    },
    {
     "data": {
      "text/plain": [
       "'*C(=O)[C@H](C(=O)[S])C(C)C'"
      ]
     },
     "metadata": {},
     "output_type": "display_data"
    },
    {
     "data": {
      "text/plain": [
       "'[\"AT{\\'substrate\\': \\'hexmal\\'}\", \"KR{\\'type\\': \\'B1\\'}\", \\'DH{}\\', \\'loading: False\\']'"
      ]
     },
     "metadata": {},
     "output_type": "display_data"
    },
    {
     "data": {
      "text/plain": [
       "'*C=C(CCCCCC)C(=O)[S]'"
      ]
     },
     "metadata": {},
     "output_type": "display_data"
    },
    {
     "data": {
      "text/plain": [
       "'[\"AT{\\'substrate\\': \\'butmal\\'}\", \"KR{\\'type\\': \\'B1\\'}\", \\'loading: False\\']'"
      ]
     },
     "metadata": {},
     "output_type": "display_data"
    },
    {
     "data": {
      "text/plain": [
       "'*[C@@H](O)[C@@H](CCCC)C(=O)[S]'"
      ]
     },
     "metadata": {},
     "output_type": "display_data"
    },
    {
     "data": {
      "text/plain": [
       "'[\"AT{\\'substrate\\': \\'Methylmalonyl-CoA\\'}\", \"KR{\\'type\\': \\'B1\\'}\", \\'loading: False\\']'"
      ]
     },
     "metadata": {},
     "output_type": "display_data"
    },
    {
     "data": {
      "text/plain": [
       "'*[C@@H](O)[C@@H](C)C(=O)[S]'"
      ]
     },
     "metadata": {},
     "output_type": "display_data"
    },
    {
     "data": {
      "text/plain": [
       "'[\"AT{\\'substrate\\': \\'hmal\\'}\", \"KR{\\'type\\': \\'B1\\'}\", \\'DH{}\\', \\'loading: False\\']'"
      ]
     },
     "metadata": {},
     "output_type": "display_data"
    },
    {
     "data": {
      "text/plain": [
       "'*C=C(O)C(=O)[S]'"
      ]
     },
     "metadata": {},
     "output_type": "display_data"
    },
    {
     "data": {
      "text/plain": [
       "'[\"AT{\\'substrate\\': \\'Malonyl-CoA\\'}\", \\'loading: False\\']'"
      ]
     },
     "metadata": {},
     "output_type": "display_data"
    },
    {
     "data": {
      "text/plain": [
       "'*C(=O)CC(=O)[S]'"
      ]
     },
     "metadata": {},
     "output_type": "display_data"
    },
    {
     "data": {
      "text/plain": [
       "'[\"AT{\\'substrate\\': \\'hmal\\'}\", \\'loading: False\\']'"
      ]
     },
     "metadata": {},
     "output_type": "display_data"
    },
    {
     "data": {
      "text/plain": [
       "'*C(=O)C(O)C(=O)[S]'"
      ]
     },
     "metadata": {},
     "output_type": "display_data"
    },
    {
     "data": {
      "text/plain": [
       "'[\"AT{\\'substrate\\': \\'isobutmal\\'}\", \"KR{\\'type\\': \\'B1\\'}\", \\'DH{}\\', \\'ER{}\\', \\'loading: False\\']'"
      ]
     },
     "metadata": {},
     "output_type": "display_data"
    },
    {
     "data": {
      "text/plain": [
       "'*C[C@@H](C(=O)S)C(C)C'"
      ]
     },
     "metadata": {},
     "output_type": "display_data"
    },
    {
     "data": {
      "text/plain": [
       "'[\"AT{\\'substrate\\': \\'D-isobutmal\\'}\", \"KR{\\'type\\': \\'C1\\'}\", \\'loading: False\\']'"
      ]
     },
     "metadata": {},
     "output_type": "display_data"
    },
    {
     "data": {
      "text/plain": [
       "'*C(=O)[C@H](C(=O)[S])C(C)C'"
      ]
     },
     "metadata": {},
     "output_type": "display_data"
    },
    {
     "data": {
      "text/plain": [
       "'[\"AT{\\'substrate\\': \\'DCP\\'}\", \"KR{\\'type\\': \\'C1\\'}\", \\'loading: False\\']'"
      ]
     },
     "metadata": {},
     "output_type": "display_data"
    },
    {
     "data": {
      "text/plain": [
       "'*C(=O)[C@@H](CCCCc1c[nH]c(Cl)c1Cl)C(=O)[S]'"
      ]
     },
     "metadata": {},
     "output_type": "display_data"
    },
    {
     "data": {
      "text/plain": [
       "'[\"AT{\\'substrate\\': \\'mxmal\\'}\", \\'loading: False\\']'"
      ]
     },
     "metadata": {},
     "output_type": "display_data"
    },
    {
     "data": {
      "text/plain": [
       "'*C(=O)[C@H](OC)C(=O)[S]'"
      ]
     },
     "metadata": {},
     "output_type": "display_data"
    },
    {
     "data": {
      "text/plain": [
       "'[\"AT{\\'substrate\\': \\'emal\\'}\", \"KR{\\'type\\': \\'B1\\'}\", \\'loading: False\\']'"
      ]
     },
     "metadata": {},
     "output_type": "display_data"
    },
    {
     "data": {
      "text/plain": [
       "'*[C@@H](O)[C@@H](CC)C(=O)[S]'"
      ]
     },
     "metadata": {},
     "output_type": "display_data"
    },
    {
     "data": {
      "text/plain": [
       "'[\"AT{\\'substrate\\': \\'isobutmal\\'}\", \\'loading: False\\']'"
      ]
     },
     "metadata": {},
     "output_type": "display_data"
    },
    {
     "data": {
      "text/plain": [
       "'*C(=O)[C@H](C(=O)[S])C(C)C'"
      ]
     },
     "metadata": {},
     "output_type": "display_data"
    },
    {
     "data": {
      "text/plain": [
       "'[\"AT{\\'substrate\\': \\'hexmal\\'}\", \"KR{\\'type\\': \\'C1\\'}\", \\'loading: False\\']'"
      ]
     },
     "metadata": {},
     "output_type": "display_data"
    },
    {
     "data": {
      "text/plain": [
       "'*C(=O)[C@@H](CCCCCC)C(=O)[S]'"
      ]
     },
     "metadata": {},
     "output_type": "display_data"
    },
    {
     "data": {
      "text/plain": [
       "'[\"AT{\\'substrate\\': \\'hmal\\'}\", \"KR{\\'type\\': \\'B1\\'}\", \\'DH{}\\', \\'ER{}\\', \\'loading: False\\']'"
      ]
     },
     "metadata": {},
     "output_type": "display_data"
    },
    {
     "data": {
      "text/plain": [
       "'*C[C@H](O)C(=O)S'"
      ]
     },
     "metadata": {},
     "output_type": "display_data"
    },
    {
     "data": {
      "text/plain": [
       "'[\"AT{\\'substrate\\': \\'D-isobutmal\\'}\", \"KR{\\'type\\': \\'B1\\'}\", \\'DH{}\\', \\'loading: False\\']'"
      ]
     },
     "metadata": {},
     "output_type": "display_data"
    },
    {
     "data": {
      "text/plain": [
       "'*C=C(C(=O)[S])C(C)C'"
      ]
     },
     "metadata": {},
     "output_type": "display_data"
    },
    {
     "data": {
      "text/plain": [
       "'[\"AT{\\'substrate\\': \\'hmal\\'}\", \"KR{\\'type\\': \\'C1\\'}\", \\'loading: False\\']'"
      ]
     },
     "metadata": {},
     "output_type": "display_data"
    },
    {
     "data": {
      "text/plain": [
       "'*C(=O)[C@@H](O)C(=O)[S]'"
      ]
     },
     "metadata": {},
     "output_type": "display_data"
    },
    {
     "data": {
      "text/plain": [
       "'[\"AT{\\'substrate\\': \\'Malonyl-CoA\\'}\", \"KR{\\'type\\': \\'B\\'}\", \\'DH{}\\', \\'loading: False\\']'"
      ]
     },
     "metadata": {},
     "output_type": "display_data"
    },
    {
     "data": {
      "text/plain": [
       "'*C=CC(=O)[S]'"
      ]
     },
     "metadata": {},
     "output_type": "display_data"
    },
    {
     "data": {
      "text/plain": [
       "'[\"AT{\\'substrate\\': \\'butmal\\'}\", \"KR{\\'type\\': \\'B1\\'}\", \\'DH{}\\', \\'loading: False\\']'"
      ]
     },
     "metadata": {},
     "output_type": "display_data"
    },
    {
     "data": {
      "text/plain": [
       "'*C=C(CCCC)C(=O)[S]'"
      ]
     },
     "metadata": {},
     "output_type": "display_data"
    },
    {
     "data": {
      "text/plain": [
       "'[\"AT{\\'substrate\\': \\'emal\\'}\", \\'loading: False\\']'"
      ]
     },
     "metadata": {},
     "output_type": "display_data"
    },
    {
     "data": {
      "text/plain": [
       "'*C(=O)[C@H](CC)C(=O)[S]'"
      ]
     },
     "metadata": {},
     "output_type": "display_data"
    },
    {
     "data": {
      "text/plain": [
       "'[\"AT{\\'substrate\\': \\'mxmal\\'}\", \"KR{\\'type\\': \\'B1\\'}\", \\'DH{}\\', \\'ER{}\\', \\'loading: False\\']'"
      ]
     },
     "metadata": {},
     "output_type": "display_data"
    },
    {
     "data": {
      "text/plain": [
       "'*C[C@H](OC)C(=O)S'"
      ]
     },
     "metadata": {},
     "output_type": "display_data"
    },
    {
     "data": {
      "text/plain": [
       "'[\"AT{\\'substrate\\': \\'allylmal\\'}\", \"KR{\\'type\\': \\'B1\\'}\", \\'loading: False\\']'"
      ]
     },
     "metadata": {},
     "output_type": "display_data"
    },
    {
     "data": {
      "text/plain": [
       "'*[C@@H](O)[C@@H](CC=C)C(=O)[S]'"
      ]
     },
     "metadata": {},
     "output_type": "display_data"
    },
    {
     "data": {
      "text/plain": [
       "'[\"AT{\\'substrate\\': \\'Methylmalonyl-CoA\\'}\", \\'loading: False\\']'"
      ]
     },
     "metadata": {},
     "output_type": "display_data"
    },
    {
     "data": {
      "text/plain": [
       "'*C(=O)[C@H](C)C(=O)[S]'"
      ]
     },
     "metadata": {},
     "output_type": "display_data"
    },
    {
     "data": {
      "text/plain": [
       "'[\"AT{\\'substrate\\': \\'DCP\\'}\", \"KR{\\'type\\': \\'B1\\'}\", \\'DH{}\\', \\'ER{}\\', \\'loading: False\\']'"
      ]
     },
     "metadata": {},
     "output_type": "display_data"
    },
    {
     "data": {
      "text/plain": [
       "'*C[C@H](CCCCc1c[nH]c(Cl)c1Cl)C(=O)S'"
      ]
     },
     "metadata": {},
     "output_type": "display_data"
    },
    {
     "data": {
      "text/plain": [
       "'[\"AT{\\'substrate\\': \\'hexmal\\'}\", \"KR{\\'type\\': \\'B1\\'}\", \\'DH{}\\', \\'ER{}\\', \\'loading: False\\']'"
      ]
     },
     "metadata": {},
     "output_type": "display_data"
    },
    {
     "data": {
      "text/plain": [
       "'*C[C@H](CCCCCC)C(=O)S'"
      ]
     },
     "metadata": {},
     "output_type": "display_data"
    },
    {
     "data": {
      "text/plain": [
       "'[\"AT{\\'substrate\\': \\'mxmal\\'}\", \"KR{\\'type\\': \\'B1\\'}\", \\'loading: False\\']'"
      ]
     },
     "metadata": {},
     "output_type": "display_data"
    },
    {
     "data": {
      "text/plain": [
       "'*[C@@H](O)[C@@H](OC)C(=O)[S]'"
      ]
     },
     "metadata": {},
     "output_type": "display_data"
    },
    {
     "data": {
      "text/plain": [
       "'[\"AT{\\'substrate\\': \\'Methylmalonyl-CoA\\'}\", \"KR{\\'type\\': \\'B1\\'}\", \\'DH{}\\', \\'loading: False\\']'"
      ]
     },
     "metadata": {},
     "output_type": "display_data"
    },
    {
     "data": {
      "text/plain": [
       "'*C=C(C)C(=O)[S]'"
      ]
     },
     "metadata": {},
     "output_type": "display_data"
    },
    {
     "data": {
      "text/plain": [
       "'[\"AT{\\'substrate\\': \\'isobutmal\\'}\", \"KR{\\'type\\': \\'B1\\'}\", \\'loading: False\\']'"
      ]
     },
     "metadata": {},
     "output_type": "display_data"
    },
    {
     "data": {
      "text/plain": [
       "'*[C@@H](O)[C@H](C(=O)[S])C(C)C'"
      ]
     },
     "metadata": {},
     "output_type": "display_data"
    },
    {
     "data": {
      "text/plain": [
       "'[\"AT{\\'substrate\\': \\'Malonyl-CoA\\'}\", \"KR{\\'type\\': \\'B\\'}\", \\'DH{}\\', \\'ER{}\\', \\'loading: False\\']'"
      ]
     },
     "metadata": {},
     "output_type": "display_data"
    },
    {
     "data": {
      "text/plain": [
       "'*CCC(=O)[S]'"
      ]
     },
     "metadata": {},
     "output_type": "display_data"
    },
    {
     "data": {
      "text/plain": [
       "'[\"AT{\\'substrate\\': \\'allylmal\\'}\", \\'loading: False\\']'"
      ]
     },
     "metadata": {},
     "output_type": "display_data"
    },
    {
     "data": {
      "text/plain": [
       "'*C(=O)[C@H](CC=C)C(=O)[S]'"
      ]
     },
     "metadata": {},
     "output_type": "display_data"
    },
    {
     "data": {
      "text/plain": [
       "'[\"AT{\\'substrate\\': \\'emal\\'}\", \"KR{\\'type\\': \\'B1\\'}\", \\'DH{}\\', \\'ER{}\\', \\'loading: False\\']'"
      ]
     },
     "metadata": {},
     "output_type": "display_data"
    },
    {
     "data": {
      "text/plain": [
       "'*C[C@H](CC)C(=O)S'"
      ]
     },
     "metadata": {},
     "output_type": "display_data"
    },
    {
     "data": {
      "text/plain": [
       "'[\"AT{\\'substrate\\': \\'Methylmalonyl-CoA\\'}\", \"KR{\\'type\\': \\'B1\\'}\", \\'DH{}\\', \\'ER{}\\', \\'loading: False\\']'"
      ]
     },
     "metadata": {},
     "output_type": "display_data"
    },
    {
     "data": {
      "text/plain": [
       "'*C[C@H](C)C(=O)S'"
      ]
     },
     "metadata": {},
     "output_type": "display_data"
    },
    {
     "data": {
      "text/plain": [
       "'[\"AT{\\'substrate\\': \\'D-isobutmal\\'}\", \"KR{\\'type\\': \\'B1\\'}\", \\'loading: False\\']'"
      ]
     },
     "metadata": {},
     "output_type": "display_data"
    },
    {
     "data": {
      "text/plain": [
       "'*[C@@H](O)[C@H](C(=O)[S])C(C)C'"
      ]
     },
     "metadata": {},
     "output_type": "display_data"
    },
    {
     "data": {
      "text/plain": [
       "'[\"AT{\\'substrate\\': \\'butmal\\'}\", \"KR{\\'type\\': \\'C1\\'}\", \\'loading: False\\']'"
      ]
     },
     "metadata": {},
     "output_type": "display_data"
    },
    {
     "data": {
      "text/plain": [
       "'*C(=O)[C@@H](CCCC)C(=O)[S]'"
      ]
     },
     "metadata": {},
     "output_type": "display_data"
    },
    {
     "data": {
      "text/plain": [
       "'[\"AT{\\'substrate\\': \\'butmal\\'}\", \"KR{\\'type\\': \\'B1\\'}\", \\'DH{}\\', \\'ER{}\\', \\'loading: False\\']'"
      ]
     },
     "metadata": {},
     "output_type": "display_data"
    },
    {
     "data": {
      "text/plain": [
       "'*C[C@H](CCCC)C(=O)S'"
      ]
     },
     "metadata": {},
     "output_type": "display_data"
    },
    {
     "data": {
      "text/plain": [
       "'[\"AT{\\'substrate\\': \\'Methylmalonyl-CoA\\'}\", \"KR{\\'type\\': \\'C1\\'}\", \\'loading: False\\']'"
      ]
     },
     "metadata": {},
     "output_type": "display_data"
    },
    {
     "data": {
      "text/plain": [
       "'*C(=O)[C@@H](C)C(=O)[S]'"
      ]
     },
     "metadata": {},
     "output_type": "display_data"
    },
    {
     "data": {
      "text/plain": [
       "'[\"AT{\\'substrate\\': \\'hexmal\\'}\", \\'loading: False\\']'"
      ]
     },
     "metadata": {},
     "output_type": "display_data"
    },
    {
     "data": {
      "text/plain": [
       "'*C(=O)[C@H](CCCCCC)C(=O)[S]'"
      ]
     },
     "metadata": {},
     "output_type": "display_data"
    },
    {
     "data": {
      "text/plain": [
       "'[\"AT{\\'substrate\\': \\'mxmal\\'}\", \"KR{\\'type\\': \\'B1\\'}\", \\'DH{}\\', \\'loading: False\\']'"
      ]
     },
     "metadata": {},
     "output_type": "display_data"
    },
    {
     "data": {
      "text/plain": [
       "'*C=C(OC)C(=O)[S]'"
      ]
     },
     "metadata": {},
     "output_type": "display_data"
    },
    {
     "data": {
      "text/plain": [
       "'[\"AT{\\'substrate\\': \\'DCP\\'}\", \"KR{\\'type\\': \\'B1\\'}\", \\'loading: False\\']'"
      ]
     },
     "metadata": {},
     "output_type": "display_data"
    },
    {
     "data": {
      "text/plain": [
       "'*[C@@H](O)[C@@H](CCCCc1c[nH]c(Cl)c1Cl)C(=O)[S]'"
      ]
     },
     "metadata": {},
     "output_type": "display_data"
    },
    {
     "data": {
      "text/plain": [
       "'[\"AT{\\'substrate\\': \\'D-isobutmal\\'}\", \\'loading: False\\']'"
      ]
     },
     "metadata": {},
     "output_type": "display_data"
    },
    {
     "data": {
      "text/plain": [
       "'*C(=O)[C@@H](C(=O)[S])C(C)C'"
      ]
     },
     "metadata": {},
     "output_type": "display_data"
    },
    {
     "data": {
      "text/plain": [
       "'[\"AT{\\'substrate\\': \\'D-isobutmal\\'}\", \"KR{\\'type\\': \\'B1\\'}\", \\'DH{}\\', \\'ER{}\\', \\'loading: False\\']'"
      ]
     },
     "metadata": {},
     "output_type": "display_data"
    },
    {
     "data": {
      "text/plain": [
       "'*C[C@@H](C(=O)S)C(C)C'"
      ]
     },
     "metadata": {},
     "output_type": "display_data"
    },
    {
     "data": {
      "text/plain": [
       "'[\"AT{\\'substrate\\': \\'allylmal\\'}\", \"KR{\\'type\\': \\'B1\\'}\", \\'DH{}\\', \\'ER{}\\', \\'loading: False\\']'"
      ]
     },
     "metadata": {},
     "output_type": "display_data"
    },
    {
     "data": {
      "text/plain": [
       "'*C[C@H](CC=C)C(=O)S'"
      ]
     },
     "metadata": {},
     "output_type": "display_data"
    },
    {
     "data": {
      "text/plain": [
       "'[\"AT{\\'substrate\\': \\'emal\\'}\", \"KR{\\'type\\': \\'B1\\'}\", \\'DH{}\\', \\'loading: False\\']'"
      ]
     },
     "metadata": {},
     "output_type": "display_data"
    },
    {
     "data": {
      "text/plain": [
       "'*C=C(CC)C(=O)[S]'"
      ]
     },
     "metadata": {},
     "output_type": "display_data"
    },
    {
     "data": {
      "text/plain": [
       "'[\"AT{\\'substrate\\': \\'hexmal\\'}\", \"KR{\\'type\\': \\'B1\\'}\", \\'loading: False\\']'"
      ]
     },
     "metadata": {},
     "output_type": "display_data"
    },
    {
     "data": {
      "text/plain": [
       "'*[C@@H](O)[C@@H](CCCCCC)C(=O)[S]'"
      ]
     },
     "metadata": {},
     "output_type": "display_data"
    },
    {
     "data": {
      "text/plain": [
       "'[\"AT{\\'substrate\\': \\'emal\\'}\", \"KR{\\'type\\': \\'C1\\'}\", \\'loading: False\\']'"
      ]
     },
     "metadata": {},
     "output_type": "display_data"
    },
    {
     "data": {
      "text/plain": [
       "'*C(=O)[C@@H](CC)C(=O)[S]'"
      ]
     },
     "metadata": {},
     "output_type": "display_data"
    },
    {
     "data": {
      "text/plain": [
       "'[\"AT{\\'substrate\\': \\'hmal\\'}\", \"KR{\\'type\\': \\'B1\\'}\", \\'loading: False\\']'"
      ]
     },
     "metadata": {},
     "output_type": "display_data"
    },
    {
     "data": {
      "text/plain": [
       "'*[C@@H](O)[C@@H](O)C(=O)[S]'"
      ]
     },
     "metadata": {},
     "output_type": "display_data"
    },
    {
     "data": {
      "text/plain": [
       "'[\"AT{\\'substrate\\': \\'DCP\\'}\", \\'loading: False\\']'"
      ]
     },
     "metadata": {},
     "output_type": "display_data"
    },
    {
     "data": {
      "text/plain": [
       "'*C(=O)C(CCCCc1c[nH]c(Cl)c1Cl)C(=O)[S]'"
      ]
     },
     "metadata": {},
     "output_type": "display_data"
    },
    {
     "data": {
      "text/plain": [
       "'[\"AT{\\'substrate\\': \\'Malonyl-CoA\\'}\", \"KR{\\'type\\': \\'B\\'}\", \\'loading: False\\']'"
      ]
     },
     "metadata": {},
     "output_type": "display_data"
    },
    {
     "data": {
      "text/plain": [
       "'*[C@@H](O)CC(=O)[S]'"
      ]
     },
     "metadata": {},
     "output_type": "display_data"
    },
    {
     "data": {
      "text/plain": [
       "'[\"AT{\\'substrate\\': \\'allylmal\\'}\", \"KR{\\'type\\': \\'C1\\'}\", \\'loading: False\\']'"
      ]
     },
     "metadata": {},
     "output_type": "display_data"
    },
    {
     "data": {
      "text/plain": [
       "'*C(=O)[C@@H](CC=C)C(=O)[S]'"
      ]
     },
     "metadata": {},
     "output_type": "display_data"
    },
    {
     "data": {
      "text/plain": [
       "'[\"AT{\\'substrate\\': \\'isobutmal\\'}\", \"KR{\\'type\\': \\'B1\\'}\", \\'DH{}\\', \\'loading: False\\']'"
      ]
     },
     "metadata": {},
     "output_type": "display_data"
    },
    {
     "data": {
      "text/plain": [
       "'*C=C(C(=O)[S])C(C)C'"
      ]
     },
     "metadata": {},
     "output_type": "display_data"
    },
    {
     "data": {
      "text/plain": [
       "'[\"AT{\\'substrate\\': \\'butmal\\'}\", \\'loading: False\\']'"
      ]
     },
     "metadata": {},
     "output_type": "display_data"
    },
    {
     "data": {
      "text/plain": [
       "'*C(=O)[C@H](CCCC)C(=O)[S]'"
      ]
     },
     "metadata": {},
     "output_type": "display_data"
    },
    {
     "data": {
      "text/plain": [
       "'[\"AT{\\'substrate\\': \\'allylmal\\'}\", \"KR{\\'type\\': \\'B1\\'}\", \\'DH{}\\', \\'loading: False\\']'"
      ]
     },
     "metadata": {},
     "output_type": "display_data"
    },
    {
     "data": {
      "text/plain": [
       "'*C=C(CC=C)C(=O)[S]'"
      ]
     },
     "metadata": {},
     "output_type": "display_data"
    },
    {
     "data": {
      "text/plain": [
       "'[\"AT{\\'substrate\\': \\'DCP\\'}\", \"KR{\\'type\\': \\'B1\\'}\", \\'DH{}\\', \\'loading: False\\']'"
      ]
     },
     "metadata": {},
     "output_type": "display_data"
    },
    {
     "data": {
      "text/plain": [
       "'*C=C(CCCCc1c[nH]c(Cl)c1Cl)C(=O)[S]'"
      ]
     },
     "metadata": {},
     "output_type": "display_data"
    }
   ],
   "source": [
    "for mol, legend in zip(mols, legends):\n",
    "    display(legend)\n",
    "    display(Chem.MolToSmiles(mol, isomericSmiles=True))"
   ]
  },
  {
   "cell_type": "markdown",
   "metadata": {},
   "source": [
    "# Demonstrate condensation to build a multi-module PKS"
   ]
  },
  {
   "cell_type": "code",
   "execution_count": null,
   "metadata": {
    "ExecuteTime": {
     "end_time": "2025-03-25T17:12:09.624401Z",
     "start_time": "2025-03-25T17:12:09.615109Z"
    }
   },
   "outputs": [
    {
     "data": {
      "text/plain": [
       "[{'substrate': 'Methylmalonyl-CoA'},\n",
       " {'substrate': 'Malonyl-CoA'},\n",
       " {'substrate': 'Hydroxymalonyl-CoA'},\n",
       " {'substrate': 'Allylmalonyl-CoA'},\n",
       " {'substrate': 'butmal'},\n",
       " {'substrate': 'mxmal'},\n",
       " {'substrate': 'cemal'},\n",
       " {'substrate': 'Acetyl-CoA'},\n",
       " {'substrate': 'prop'},\n",
       " {'substrate': 'isobut'},\n",
       " {'substrate': '2metbut'},\n",
       " {'substrate': 'CHC-CoA'},\n",
       " {'substrate': 'trans-1,2-CPDA'},\n",
       " {'substrate': 'cyclopentene'},\n",
       " {'substrate': 'pyr'},\n",
       " {'substrate': 'cin'},\n",
       " {'substrate': 'AHBA'},\n",
       " {'substrate': 'isoval'},\n",
       " {'substrate': 'PABA'},\n",
       " {'substrate': 'DCP'},\n",
       " {'substrate': 'guan'},\n",
       " {'substrate': 'mthz'},\n",
       " {'substrate': 'DHCH'},\n",
       " {'substrate': 'DHCHene'},\n",
       " {'substrate': 'plac'},\n",
       " {'substrate': 'benz'},\n",
       " {'substrate': 'PNBA'},\n",
       " {'substrate': 'ema'},\n",
       " {'substrate': '3measp'}]"
      ]
     },
     "execution_count": 29,
     "metadata": {},
     "output_type": "execute_result"
    }
   ],
   "source": [
    "AT.designSpace(module=Module(loading=True))"
   ]
  },
  {
   "cell_type": "code",
   "execution_count": null,
   "metadata": {
    "ExecuteTime": {
     "end_time": "2025-03-25T17:12:09.256438Z",
     "start_time": "2025-03-25T17:12:09.250822Z"
    }
   },
   "outputs": [],
   "source": [
    "starter = Module(domains={AT: AT.designSpace(module=Module(loading=True))[12]}, loading=True)"
   ]
  },
  {
   "cell_type": "code",
   "execution_count": null,
   "metadata": {
    "ExecuteTime": {
     "end_time": "2025-03-25T17:12:12.512826Z",
     "start_time": "2025-03-25T17:12:12.445928Z"
    }
   },
   "outputs": [],
   "source": [
    "allModuleTypes = list(designs)\n",
    "newCluster = Cluster([starter, allModuleTypes[0], allModuleTypes[0], allModuleTypes[8]])"
   ]
  },
  {
   "cell_type": "code",
   "execution_count": null,
   "metadata": {
    "ExecuteTime": {
     "end_time": "2025-03-25T17:12:13.784725Z",
     "start_time": "2025-03-25T17:12:13.777061Z"
    }
   },
   "outputs": [
    {
     "data": {
      "text/plain": [
       "[[\"AT{'substrate': 'trans-1,2-CPDA'}\", 'loading: True'],\n",
       " [\"AT{'substrate': 'mxmal'}\", \"KR{'type': 'C1'}\", 'loading: False'],\n",
       " [\"AT{'substrate': 'mxmal'}\", \"KR{'type': 'C1'}\", 'loading: False'],\n",
       " [\"AT{'substrate': 'isobutmal'}\", \"KR{'type': 'B1'}\", 'DH{}', 'ER{}', 'loading: False']]"
      ]
     },
     "execution_count": 32,
     "metadata": {},
     "output_type": "execute_result"
    }
   ],
   "source": [
    "newCluster.modules"
   ]
  },
  {
   "cell_type": "code",
   "execution_count": null,
   "metadata": {
    "ExecuteTime": {
     "end_time": "2025-03-25T17:12:27.764596Z",
     "start_time": "2025-03-25T17:12:27.730589Z"
    }
   },
   "outputs": [
    {
     "name": "stdout",
     "output_type": "stream",
     "text": [
      "CPU times: user 3.05 ms, sys: 1.17 ms, total: 4.22 ms\n",
      "Wall time: 3.34 ms\n"
     ]
    },
    {
     "data": {
      "image/png": "[encoded data removed]",
      "text/plain": [
       "<rdkit.Chem.rdchem.Mol at 0x7f1d254e6c70>"
      ]
     },
     "execution_count": 33,
     "metadata": {},
     "output_type": "execute_result"
    }
   ],
   "source": [
    "%%time\n",
    "newCluster.computeProduct(structureDB)"
   ]
  },
  {
   "cell_type": "code",
   "execution_count": null,
   "metadata": {},
   "outputs": [],
   "source": []
  }
 ],
 "metadata": {
  "kernelspec": {
   "display_name": "krobhome-py310",
   "language": "python",
   "name": "python3"
  },
  "language_info": {
   "codemirror_mode": {
    "name": "ipython",
    "version": 3
   },
   "file_extension": ".py",
   "mimetype": "text/x-python",
   "name": "python",
   "nbconvert_exporter": "python",
   "pygments_lexer": "ipython3",
   "version": "3.10.16"
  }
 },
 "nbformat": 4,
 "nbformat_minor": 4
}
