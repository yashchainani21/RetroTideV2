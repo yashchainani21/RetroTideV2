{
 "cells": [
  {
   "cell_type": "code",
   "execution_count": 2,
   "metadata": {},
   "outputs": [],
   "source": [
    "import bcs\n",
    "from retrotide import retrotide, structureDB\n",
    "from typing import Optional, List\n",
    "from rdkit import Chem\n",
    "from rdkit.Chem import AllChem"
   ]
  },
  {
   "cell_type": "code",
   "execution_count": 5,
   "metadata": {},
   "outputs": [],
   "source": [
    "cryptofolione_smiles = \"subgraph_modified_mcs\"\n",
    "cryptofolione_mol = Chem.MolFromSmiles(cryptofolione_smiles)"
   ]
  },
  {
   "cell_type": "code",
   "execution_count": 6,
   "metadata": {},
   "outputs": [
    {
     "name": "stdout",
     "output_type": "stream",
     "text": [
      "computing module 1\n",
      "   testing 2755 designs\n",
      "   best score is 0.7142857142857143\n",
      "computing module 2\n",
      "   testing 2375 designs\n",
      "   best score is 0\n",
      "PKS design: [[\"AT{'substrate': 'Hydroxymalonyl-CoA'}\", 'loading: True'], [\"AT{'substrate': 'Malonyl-CoA'}\", \"KR{'type': 'B'}\", 'DH{}', 'ER{}', 'loading: False']]\n",
      "score: 0.7142857142857143\n"
     ]
    },
    {
     "data": {
      "image/png": "[encoded data removed]",
      "text/plain": [
       "<rdkit.Chem.rdchem.Mol at 0x74df90c38120>"
      ]
     },
     "execution_count": 6,
     "metadata": {},
     "output_type": "execute_result"
    }
   ],
   "source": [
    "designs = retrotide.designPKS(targetMol = cryptofolione_mol,\n",
    "                              similarity = 'subgraph_modified_mcs')\n",
    "\n",
    "print('PKS design: ' + repr(designs[-1][0][0].modules))\n",
    "print('score: ' + str(designs[-1][0][1]))\n",
    "bound_top_PKS_product = designs[-1][0][0].computeProduct(structureDB)\n",
    "bound_top_PKS_product"
   ]
  },
  {
   "cell_type": "code",
   "execution_count": null,
   "metadata": {},
   "outputs": [],
   "source": []
  }
 ],
 "metadata": {
  "kernelspec": {
   "display_name": "chemGLM_py311_env",
   "language": "python",
   "name": "python3"
  },
  "language_info": {
   "codemirror_mode": {
    "name": "ipython",
    "version": 3
   },
   "file_extension": ".py",
   "mimetype": "text/x-python",
   "name": "python",
   "nbconvert_exporter": "python",
   "pygments_lexer": "ipython3",
   "version": "3.11.11"
  }
 },
 "nbformat": 4,
 "nbformat_minor": 2
}
